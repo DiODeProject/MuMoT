{
 "cells": [
  {
   "cell_type": "code",
   "execution_count": 1,
   "metadata": {
    "collapsed": false
   },
   "outputs": [
    {
     "name": "stdout",
     "output_type": "stream",
     "text": [
      "Created `%%model` as an alias for `%%latex`.\n"
     ]
    }
   ],
   "source": [
    "#import MuMoT as mmt\n",
    "import MuMoT.MuMoT as mmt"
   ]
  },
  {
   "cell_type": "code",
   "execution_count": 2,
   "metadata": {
    "collapsed": false
   },
   "outputs": [
    {
     "data": {
      "text/latex": [
       "$\n",
       "U -> A : g_1\n",
       "U -> B : g_2\n",
       "A -> U : a_1\n",
       "B -> U : a_2\n",
       "A + U -> A + A : r_1\n",
       "B + U -> B + B : r_2\n",
       "A + B -> A + U : s\n",
       "A + B -> B + U : s\n",
       "$"
      ],
      "text/plain": [
       "<IPython.core.display.Latex object>"
      ]
     },
     "metadata": {},
     "output_type": "display_data"
    }
   ],
   "source": [
    "%%model\n",
    "$\n",
    "U -> A : g_1\n",
    "U -> B : g_2\n",
    "A -> U : a_1\n",
    "B -> U : a_2\n",
    "A + U -> A + A : r_1\n",
    "B + U -> B + B : r_2\n",
    "A + B -> A + U : s\n",
    "A + B -> B + U : s\n",
    "$"
   ]
  },
  {
   "cell_type": "code",
   "execution_count": 3,
   "metadata": {
    "collapsed": false
   },
   "outputs": [],
   "source": [
    "model1 = mmt.parseModel(In[2])"
   ]
  },
  {
   "cell_type": "code",
   "execution_count": 4,
   "metadata": {
    "collapsed": false
   },
   "outputs": [
    {
     "name": "stdout",
     "output_type": "stream",
     "text": [
      "bar<ipywidgets.widgets.widget_string.HTML object at 0x10a1dc7b8>\n"
     ]
    }
   ],
   "source": [
    "multiController1 = mmt.MuMoTmultiController([model1.SSA(maxTime=5, silent = True), \n",
    "                                             model1.multiagent(silent = True)], shareAxes = True)"
   ]
  },
  {
   "cell_type": "code",
   "execution_count": 5,
   "metadata": {
    "collapsed": false
   },
   "outputs": [],
   "source": [
    "#multiController1.showLogs()"
   ]
  },
  {
   "cell_type": "code",
   "execution_count": 6,
   "metadata": {
    "collapsed": false
   },
   "outputs": [
    {
     "ename": "NameError",
     "evalue": "name 'stop' is not defined",
     "output_type": "error",
     "traceback": [
      "\u001b[0;31m---------------------------------------------------------------------------\u001b[0m",
      "\u001b[0;31mNameError\u001b[0m                                 Traceback (most recent call last)",
      "\u001b[0;32m<ipython-input-6-7221d5b0d878>\u001b[0m in \u001b[0;36m<module>\u001b[0;34m()\u001b[0m\n\u001b[0;32m----> 1\u001b[0;31m \u001b[0mstop\u001b[0m\u001b[0;34m.\u001b[0m\u001b[0mhere\u001b[0m\u001b[0;34m(\u001b[0m\u001b[0;34m)\u001b[0m\u001b[0;34m\u001b[0m\u001b[0m\n\u001b[0m",
      "\u001b[0;31mNameError\u001b[0m: name 'stop' is not defined"
     ]
    }
   ],
   "source": [
    "stop.here()"
   ]
  },
  {
   "cell_type": "code",
   "execution_count": null,
   "metadata": {
    "collapsed": false
   },
   "outputs": [],
   "source": [
    "mmt.MuMoTdefault.setRateDefaults(initRate=2.5)\n",
    "mmt.MuMoTdefault.setTimeDefaults(initTime=10, step=1, limits=(0,10))\n",
    "mmt.MuMoTdefault.setAgentsDefaults(initAgents=35)\n",
    "net = model1.multiagent(initialState=\"{'U': 20,'A': 10,'B': 0}\", realtimePlot=False)"
   ]
  },
  {
   "cell_type": "code",
   "execution_count": null,
   "metadata": {
    "collapsed": false
   },
   "outputs": [],
   "source": [
    "mmt.MuMoTdefault.setTimeDefaults(initTime=0.1, step=0.1, limits=(0,1))\n",
    "ssa = model1.SSA(initialState=\"{'U': 20,'A': 10,'B': 0}\")"
   ]
  },
  {
   "cell_type": "code",
   "execution_count": null,
   "metadata": {
    "collapsed": false
   },
   "outputs": [],
   "source": [
    "net.showLogs()"
   ]
  },
  {
   "cell_type": "code",
   "execution_count": null,
   "metadata": {
    "collapsed": false
   },
   "outputs": [],
   "source": [
    "soloView0 = mmt.MuMoTmultiagentView(model1, None, MAParams = {'scaling': 1.0, 'maxTime': 10, 'showTrace': True, \n",
    "                                                  'showInteractions': False, 'netParam': 0.0, 'visualisationType': \n",
    "                                                  'evo', 'initialState': {'B': 0, 'U': 20, 'A': 10}, \n",
    "                                                  'randomSeed': 2059233886, 'particleSpeed': 0.01, \n",
    "                                                  'netType': 'full', 'motionCorrelatedness': 0.5, \n",
    "                                                  'realtimePlot': False}, \n",
    "                        rates = [('g_{2}', 2.5), ('g_{1}', 2.5), ('r_{1}', 2.5), ('s', 2.5), ('a_{2}', 2.5), \n",
    "                                 ('a_{1}', 2.5), ('r_{2}', 2.5)] )"
   ]
  },
  {
   "cell_type": "code",
   "execution_count": null,
   "metadata": {
    "collapsed": false
   },
   "outputs": [],
   "source": [
    "soloView1 = mmt.MuMoTSSAView(model1, None, ssaParams = {'initialState': {'A': 10, 'U': 20, 'B': 0},\n",
    "                                                        'randomSeed': 2624184656, 'maxTime': 0.1, \n",
    "                                                        'visualisationType': 'evo', 'realtimePlot': False}, \n",
    "                             rates = [('r_{1}', 2.5), ('s', 2.5), ('r_{2}', 2.5), ('g_{1}', 2.5), \n",
    "                                      ('g_{2}', 2.5), ('a_{2}', 2.5), ('a_{1}', 2.5)])"
   ]
  },
  {
   "cell_type": "code",
   "execution_count": null,
   "metadata": {
    "collapsed": false
   },
   "outputs": [],
   "source": [
    "soloView0.showLogs()"
   ]
  },
  {
   "cell_type": "code",
   "execution_count": null,
   "metadata": {
    "collapsed": false
   },
   "outputs": [],
   "source": [
    "net.multirun(randomSeeds=[34,4542142,55,88], iterations=4)"
   ]
  },
  {
   "cell_type": "code",
   "execution_count": null,
   "metadata": {
    "collapsed": false
   },
   "outputs": [],
   "source": [
    "ssa.showLogs()"
   ]
  },
  {
   "cell_type": "code",
   "execution_count": null,
   "metadata": {
    "collapsed": false
   },
   "outputs": [],
   "source": [
    "ssa.multirun(randomSeeds=[34,4542142,55,88], iterations=4)"
   ]
  },
  {
   "cell_type": "code",
   "execution_count": null,
   "metadata": {
    "collapsed": false
   },
   "outputs": [],
   "source": [
    "mmt.MuMoTdefault.setTimeDefaults(initTime=10, step=1)\n",
    "net2 = model1.multiagent()"
   ]
  },
  {
   "cell_type": "code",
   "execution_count": null,
   "metadata": {
    "collapsed": false
   },
   "outputs": [],
   "source": [
    "net2.showLogs()"
   ]
  },
  {
   "cell_type": "code",
   "execution_count": null,
   "metadata": {
    "collapsed": false
   },
   "outputs": [],
   "source": [
    "#net.multirun(iterations=3, randomSeeds=[574,4542142,55])"
   ]
  }
 ],
 "metadata": {
  "anaconda-cloud": {},
  "kernelspec": {
   "display_name": "Python [Root]",
   "language": "python",
   "name": "Python [Root]"
  },
  "language_info": {
   "codemirror_mode": {
    "name": "ipython",
    "version": 3
   },
   "file_extension": ".py",
   "mimetype": "text/x-python",
   "name": "python",
   "nbconvert_exporter": "python",
   "pygments_lexer": "ipython3",
   "version": "3.5.2"
  },
  "widgets": {
   "state": {
    "15e69f8f463b4a6484e72aedd02af5e6": {
     "views": [
      {
       "cell_index": 15
      }
     ]
    },
    "204a41aa01ca4bff8a22de2b355b709e": {
     "views": [
      {
       "cell_index": 15
      }
     ]
    },
    "c2b321192b8a45cba91cd0f995ace52a": {
     "views": [
      {
       "cell_index": 15
      }
     ]
    },
    "c47a680555d941eb8dcd29645a406dd1": {
     "views": [
      {
       "cell_index": 15
      }
     ]
    }
   },
   "version": "1.2.0"
  }
 },
 "nbformat": 4,
 "nbformat_minor": 1
}
