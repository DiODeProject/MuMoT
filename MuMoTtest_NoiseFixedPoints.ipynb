{
 "cells": [
  {
   "cell_type": "markdown",
   "metadata": {},
   "source": [
    "# This notebook shows how to study noise with MuMoT\n",
    "There are 4 examples worked through below."
   ]
  },
  {
   "cell_type": "code",
   "execution_count": null,
   "metadata": {
    "collapsed": false
   },
   "outputs": [],
   "source": [
    "import MuMoT.MuMoT as mmt"
   ]
  },
  {
   "cell_type": "markdown",
   "metadata": {},
   "source": [
    "## 1. Production and decay of protein $P$ and its dimerization into $P_2$ ($P_2$ is called $Q$ below)\n",
    "### (see F. Hayot & C. Jayaprakash (2004), Physical Biology 1, pp. 205-210)"
   ]
  },
  {
   "cell_type": "code",
   "execution_count": null,
   "metadata": {
    "collapsed": false
   },
   "outputs": [],
   "source": [
    "%%model\n",
    "$\n",
    "\\emptyset -> P : k_3\n",
    "P -> \\emptyset : k\n",
    "P + P -> Q + \\emptyset : k_1\n",
    "Q + \\emptyset -> P + P : k_2\n",
    "$"
   ]
  },
  {
   "cell_type": "code",
   "execution_count": null,
   "metadata": {
    "collapsed": true
   },
   "outputs": [],
   "source": [
    "model1 = mmt.parseModel(In[2])"
   ]
  },
  {
   "cell_type": "code",
   "execution_count": null,
   "metadata": {
    "collapsed": false
   },
   "outputs": [],
   "source": [
    "SV1_0 = 0.4\n",
    "SV2_0 = 0.2\n",
    "evol1 = model1.numSimStateVar('P', SV1_0, 'Q', SV2_0, tend=50, tstep=0.05, legend_loc='center right')"
   ]
  },
  {
   "cell_type": "code",
   "execution_count": null,
   "metadata": {
    "collapsed": false
   },
   "outputs": [],
   "source": [
    "model1.showODEs_vKE()"
   ]
  },
  {
   "cell_type": "code",
   "execution_count": null,
   "metadata": {
    "collapsed": false
   },
   "outputs": [],
   "source": [
    "model1.showFokkerPlanckEquation()"
   ]
  },
  {
   "cell_type": "code",
   "execution_count": null,
   "metadata": {
    "collapsed": false
   },
   "outputs": [],
   "source": [
    "model1.showNoiseEOM()"
   ]
  },
  {
   "cell_type": "code",
   "execution_count": null,
   "metadata": {
    "collapsed": false
   },
   "outputs": [],
   "source": [
    "model1.showNoiseStationarySol()"
   ]
  },
  {
   "cell_type": "code",
   "execution_count": null,
   "metadata": {
    "collapsed": false
   },
   "outputs": [],
   "source": [
    "fpnoise1 = model1.fixedPointNoise('P', 'Q')"
   ]
  },
  {
   "cell_type": "code",
   "execution_count": null,
   "metadata": {
    "collapsed": false
   },
   "outputs": [],
   "source": [
    "fpnoise1.showLogs()"
   ]
  },
  {
   "cell_type": "markdown",
   "metadata": {},
   "source": [
    "## 2. The 'Brusselator' reaction mechanism (proposed by Prigogene and Lefever in 1968)\n",
    "### (see J.D. Murray (1991), Mathematical Biology, p. 175)"
   ]
  },
  {
   "cell_type": "code",
   "execution_count": null,
   "metadata": {
    "collapsed": false
   },
   "outputs": [],
   "source": [
    "%%model\n",
    "$\n",
    "(\\alpha) -> X : \\gamma\n",
    "X + X + Y -> X + X + X : \\chi\n",
    "(\\beta) + X -> Y + \\emptyset : \\delta\n",
    "X -> \\emptyset : \\xi\n",
    "$"
   ]
  },
  {
   "cell_type": "code",
   "execution_count": null,
   "metadata": {
    "collapsed": false
   },
   "outputs": [],
   "source": [
    "model2 = mmt.parseModel(In[10])"
   ]
  },
  {
   "cell_type": "code",
   "execution_count": null,
   "metadata": {
    "collapsed": false
   },
   "outputs": [],
   "source": [
    "SV1_0 = 0.4\n",
    "SV2_0 = 0.2\n",
    "evol2 = model2.numSimStateVar('X', SV1_0, 'Y', SV2_0, tend=50, tstep=0.05, legend_loc='lower right')"
   ]
  },
  {
   "cell_type": "code",
   "execution_count": null,
   "metadata": {
    "collapsed": false
   },
   "outputs": [],
   "source": [
    "model2.showODEs_vKE()"
   ]
  },
  {
   "cell_type": "code",
   "execution_count": null,
   "metadata": {
    "collapsed": false
   },
   "outputs": [],
   "source": [
    "model2.showFokkerPlanckEquation()"
   ]
  },
  {
   "cell_type": "code",
   "execution_count": null,
   "metadata": {
    "collapsed": false
   },
   "outputs": [],
   "source": [
    "model2.showNoiseEOM()"
   ]
  },
  {
   "cell_type": "code",
   "execution_count": null,
   "metadata": {
    "collapsed": false
   },
   "outputs": [],
   "source": [
    "model2.showNoiseStationarySol()"
   ]
  },
  {
   "cell_type": "code",
   "execution_count": null,
   "metadata": {
    "collapsed": false
   },
   "outputs": [],
   "source": [
    "fpnoise2 = model2.fixedPointNoise('X', 'Y')"
   ]
  },
  {
   "cell_type": "code",
   "execution_count": null,
   "metadata": {
    "collapsed": true
   },
   "outputs": [],
   "source": []
  },
  {
   "cell_type": "markdown",
   "metadata": {},
   "source": [
    "## 3. Textbook example for multivariate master equation \n",
    "### (see N. van Kampen (1981), Stochastic processes in physics and chemistry, pp. 273-277)"
   ]
  },
  {
   "cell_type": "code",
   "execution_count": null,
   "metadata": {
    "collapsed": false
   },
   "outputs": [],
   "source": [
    "%%model\n",
    "$\n",
    "(A) -> X : \\alpha\n",
    "X + X -> Y + \\emptyset : \\gamma\n",
    "Y -> (B) : \\beta\n",
    "$"
   ]
  },
  {
   "cell_type": "code",
   "execution_count": null,
   "metadata": {
    "collapsed": false
   },
   "outputs": [],
   "source": [
    "model3 = mmt.parseModel(In[19])"
   ]
  },
  {
   "cell_type": "code",
   "execution_count": null,
   "metadata": {
    "collapsed": false
   },
   "outputs": [],
   "source": [
    "SV1_0 = 0.4\n",
    "SV2_0 = 0.2\n",
    "evol3 = model3.numSimStateVar('X', SV1_0, 'Y', SV2_0, tend=50, tstep=0.05, legend_loc='center right')"
   ]
  },
  {
   "cell_type": "code",
   "execution_count": null,
   "metadata": {
    "collapsed": false
   },
   "outputs": [],
   "source": [
    "model3.showODEs_vKE()"
   ]
  },
  {
   "cell_type": "code",
   "execution_count": null,
   "metadata": {
    "collapsed": false
   },
   "outputs": [],
   "source": [
    "model3.showFokkerPlanckEquation()"
   ]
  },
  {
   "cell_type": "code",
   "execution_count": null,
   "metadata": {
    "collapsed": false
   },
   "outputs": [],
   "source": [
    "model3.showNoiseEOM()"
   ]
  },
  {
   "cell_type": "code",
   "execution_count": null,
   "metadata": {
    "collapsed": false
   },
   "outputs": [],
   "source": [
    "model3.showNoiseStationarySol()"
   ]
  },
  {
   "cell_type": "code",
   "execution_count": null,
   "metadata": {
    "collapsed": false
   },
   "outputs": [],
   "source": [
    "fpnoise3 = model3.fixedPointNoise('X', 'Y')"
   ]
  },
  {
   "cell_type": "code",
   "execution_count": null,
   "metadata": {
    "collapsed": true
   },
   "outputs": [],
   "source": []
  },
  {
   "cell_type": "markdown",
   "metadata": {},
   "source": [
    "## 4. Pitchfork bifurcation: a prototypical example "
   ]
  },
  {
   "cell_type": "code",
   "execution_count": null,
   "metadata": {
    "collapsed": false
   },
   "outputs": [],
   "source": [
    "%%model\n",
    "$\n",
    "\\emptyset + X -> X + X : \\mu\n",
    "X + X + X -> X + X + \\emptyset : \\alpha\n",
    "Y -> \\emptyset : \\beta\n",
    "(A) -> Y : \\kappa\n",
    "X -> \\emptyset : \\gamma\n",
    "$"
   ]
  },
  {
   "cell_type": "code",
   "execution_count": null,
   "metadata": {
    "collapsed": false
   },
   "outputs": [],
   "source": [
    "model4 = mmt.parseModel(In[28])"
   ]
  },
  {
   "cell_type": "code",
   "execution_count": null,
   "metadata": {
    "collapsed": false
   },
   "outputs": [],
   "source": [
    "SV1_0 = 0.2\n",
    "SV2_0 = 0.2\n",
    "evol4 = model4.numSimStateVar('X', SV1_0, 'Y', SV2_0, tend=50, tstep=0.05, legend_loc='center right')"
   ]
  },
  {
   "cell_type": "code",
   "execution_count": null,
   "metadata": {
    "collapsed": false
   },
   "outputs": [],
   "source": [
    "model4.showODEs_vKE()"
   ]
  },
  {
   "cell_type": "code",
   "execution_count": null,
   "metadata": {
    "collapsed": false
   },
   "outputs": [],
   "source": [
    "model4.showFokkerPlanckEquation()"
   ]
  },
  {
   "cell_type": "code",
   "execution_count": null,
   "metadata": {
    "collapsed": false
   },
   "outputs": [],
   "source": [
    "model4.showNoiseEOM()"
   ]
  },
  {
   "cell_type": "code",
   "execution_count": null,
   "metadata": {
    "collapsed": false
   },
   "outputs": [],
   "source": [
    "model4.showNoiseStationarySol()"
   ]
  },
  {
   "cell_type": "code",
   "execution_count": null,
   "metadata": {
    "collapsed": false,
    "scrolled": true
   },
   "outputs": [],
   "source": [
    "fpnoise4 = model4.fixedPointNoise('X', 'Y')"
   ]
  },
  {
   "cell_type": "code",
   "execution_count": null,
   "metadata": {
    "collapsed": true
   },
   "outputs": [],
   "source": []
  },
  {
   "cell_type": "markdown",
   "metadata": {},
   "source": [
    "## 5. Time evolution of stop-signal model"
   ]
  },
  {
   "cell_type": "code",
   "execution_count": null,
   "metadata": {
    "collapsed": false
   },
   "outputs": [],
   "source": [
    "%%model\n",
    "$\n",
    "U -> A : g_A\n",
    "U -> B : g_B\n",
    "A -> U : a_A\n",
    "B -> U : a_B\n",
    "A + U -> A + A : r_A\n",
    "B + U -> B + B : r_B\n",
    "A + B -> A + U : s\n",
    "A + B -> B + U : s\n",
    "$"
   ]
  },
  {
   "cell_type": "code",
   "execution_count": null,
   "metadata": {
    "collapsed": true
   },
   "outputs": [],
   "source": [
    "model5 = mmt.parseModel(In[37])"
   ]
  },
  {
   "cell_type": "code",
   "execution_count": null,
   "metadata": {
    "collapsed": false
   },
   "outputs": [],
   "source": [
    "A_0=0.12\n",
    "B_0=0.1\n",
    "U_0=1-A_0-B_0\n",
    "evol5 = model5.numSimStateVar('A', A_0, 'B', B_0, 'U', U_0, tend=50, tstep=0.05, legend_loc='center right')"
   ]
  },
  {
   "cell_type": "code",
   "execution_count": null,
   "metadata": {
    "collapsed": true
   },
   "outputs": [],
   "source": []
  },
  {
   "cell_type": "markdown",
   "metadata": {},
   "source": [
    "## 6. Stop-signal model with 3 options"
   ]
  },
  {
   "cell_type": "code",
   "execution_count": null,
   "metadata": {
    "collapsed": false
   },
   "outputs": [],
   "source": [
    "%%model\n",
    "$\n",
    "U -> A : g_1\n",
    "U -> B : g_2\n",
    "U -> C : g_3\n",
    "A -> U : a_1\n",
    "B -> U : a_2\n",
    "C -> U : a_3\n",
    "A + U -> A + A : r_1\n",
    "B + U -> B + B : r_2\n",
    "C + U -> C + C : r_3\n",
    "A + B -> A + U : s\n",
    "A + B -> B + U : s\n",
    "A + C -> A + U : s\n",
    "A + C -> C + U : s\n",
    "B + C -> B + U : s\n",
    "B + C -> C + U : s\n",
    "$"
   ]
  },
  {
   "cell_type": "code",
   "execution_count": null,
   "metadata": {
    "collapsed": true
   },
   "outputs": [],
   "source": [
    "model6 = mmt.parseModel(In[40])"
   ]
  },
  {
   "cell_type": "code",
   "execution_count": null,
   "metadata": {
    "collapsed": false
   },
   "outputs": [],
   "source": [
    "A_0=0.12\n",
    "B_0=0.1\n",
    "C_0=0.1\n",
    "U_0=1-A_0-B_0-C_0\n",
    "evol6 = model6.numSimStateVar('A', A_0, 'B', B_0, 'C', C_0, 'U', U_0, tend=50, tstep=0.05, legend_loc='center right')"
   ]
  },
  {
   "cell_type": "code",
   "execution_count": null,
   "metadata": {
    "collapsed": true
   },
   "outputs": [],
   "source": []
  }
 ],
 "metadata": {
  "kernelspec": {
   "display_name": "Python 3",
   "language": "python",
   "name": "python3"
  },
  "language_info": {
   "codemirror_mode": {
    "name": "ipython",
    "version": 3
   },
   "file_extension": ".py",
   "mimetype": "text/x-python",
   "name": "python",
   "nbconvert_exporter": "python",
   "pygments_lexer": "ipython3",
   "version": "3.5.1"
  }
 },
 "nbformat": 4,
 "nbformat_minor": 0
}
