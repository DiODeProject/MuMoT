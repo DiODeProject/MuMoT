{
 "cells": [
  {
   "cell_type": "code",
   "execution_count": 1,
   "metadata": {},
   "outputs": [
    {
     "name": "stdout",
     "output_type": "stream",
     "text": [
      "Created `%%model` as an alias for `%%latex`.\n"
     ]
    }
   ],
   "source": [
    "import MuMoT.MuMoT as mmt # if working directly from git clone\n",
    "#import MuMoT as mmt # if working with pip installed module"
   ]
  },
  {
   "cell_type": "code",
   "execution_count": 2,
   "metadata": {},
   "outputs": [
    {
     "data": {
      "text/latex": [
       "$\n",
       "A -> B : k_1\n",
       "B -> A : k_2\n",
       "$"
      ],
      "text/plain": [
       "<IPython.core.display.Latex object>"
      ]
     },
     "metadata": {},
     "output_type": "display_data"
    }
   ],
   "source": [
    "%%model\n",
    "$\n",
    "A -> B : k_1\n",
    "B -> A : k_2\n",
    "$"
   ]
  },
  {
   "cell_type": "code",
   "execution_count": 3,
   "metadata": {},
   "outputs": [],
   "source": [
    "model1 = mmt.parseModel(In[2])"
   ]
  },
  {
   "cell_type": "code",
   "execution_count": 4,
   "metadata": {},
   "outputs": [
    {
     "data": {
      "text/latex": [
       "$$\\displaystyle \\frac{\\textrm{d}<\\eta_{A}>}{\\textrm{d}t} := - <\\eta_{A}> k_{1} + <\\eta_{B}> k_{2}$$"
      ],
      "text/plain": [
       "<IPython.core.display.Math object>"
      ]
     },
     "metadata": {},
     "output_type": "display_data"
    },
    {
     "data": {
      "text/latex": [
       "$$\\displaystyle \\frac{\\textrm{d}<\\eta_{B}>}{\\textrm{d}t} := <\\eta_{A}> k_{1} - <\\eta_{B}> k_{2}$$"
      ],
      "text/plain": [
       "<IPython.core.display.Math object>"
      ]
     },
     "metadata": {},
     "output_type": "display_data"
    },
    {
     "data": {
      "text/latex": [
       "$$\\displaystyle \\frac{\\textrm{d}<\\eta_{A} \\eta_{B}>}{\\textrm{d}t} := - <\\eta_{A} \\eta_{B}> \\left(k_{1} + k_{2}\\right) + <\\eta_{A}^{2}> k_{1} + <\\eta_{B}^{2}> k_{2} - \\Phi_{A} k_{1} - \\Phi_{B} k_{2}$$"
      ],
      "text/plain": [
       "<IPython.core.display.Math object>"
      ]
     },
     "metadata": {},
     "output_type": "display_data"
    },
    {
     "data": {
      "text/latex": [
       "$$\\displaystyle \\frac{\\textrm{d}<\\eta_{B}^{2}>}{\\textrm{d}t} := 2 <\\eta_{A} \\eta_{B}> k_{1} - 2 <\\eta_{B}^{2}> k_{2} + \\Phi_{A} k_{1} + \\Phi_{B} k_{2}$$"
      ],
      "text/plain": [
       "<IPython.core.display.Math object>"
      ]
     },
     "metadata": {},
     "output_type": "display_data"
    },
    {
     "data": {
      "text/latex": [
       "$$\\displaystyle \\frac{\\textrm{d}<\\eta_{A}^{2}>}{\\textrm{d}t} := 2 <\\eta_{A} \\eta_{B}> k_{2} - 2 <\\eta_{A}^{2}> k_{1} + \\Phi_{A} k_{1} + \\Phi_{B} k_{2}$$"
      ],
      "text/plain": [
       "<IPython.core.display.Math object>"
      ]
     },
     "metadata": {},
     "output_type": "display_data"
    }
   ],
   "source": [
    "model1.showNoiseEOM()"
   ]
  },
  {
   "cell_type": "code",
   "execution_count": 5,
   "metadata": {},
   "outputs": [
    {
     "data": {
      "text/latex": [
       "$$<\\eta_{A}>:= \\frac{<\\eta_{B}> k_{2}}{k_{1}}$$"
      ],
      "text/plain": [
       "<IPython.core.display.Math object>"
      ]
     },
     "metadata": {},
     "output_type": "display_data"
    },
    {
     "data": {
      "text/latex": [
       "$$<\\eta_{A} \\eta_{B}> := 0$$"
      ],
      "text/plain": [
       "<IPython.core.display.Math object>"
      ]
     },
     "metadata": {},
     "output_type": "display_data"
    },
    {
     "data": {
      "text/latex": [
       "$$<\\eta_{B}^{2}> := \\frac{1}{2 k_{2}} \\left(\\Phi_{A} k_{1} + \\Phi_{B} k_{2}\\right)$$"
      ],
      "text/plain": [
       "<IPython.core.display.Math object>"
      ]
     },
     "metadata": {},
     "output_type": "display_data"
    },
    {
     "data": {
      "text/latex": [
       "$$<\\eta_{A}^{2}> := \\frac{1}{2 k_{1}} \\left(\\Phi_{A} k_{1} + \\Phi_{B} k_{2}\\right)$$"
      ],
      "text/plain": [
       "<IPython.core.display.Math object>"
      ]
     },
     "metadata": {},
     "output_type": "display_data"
    }
   ],
   "source": [
    "model1.showNoiseStationarySol()"
   ]
  },
  {
   "cell_type": "code",
   "execution_count": 6,
   "metadata": {},
   "outputs": [
    {
     "data": {
      "text/latex": [
       "$$\\left \\{ Reaction 1 : \\left \\{ rate : k_{1}, \\quad A : \\left [ 1, \\quad 0\\right ], \\quad B : \\left [ 0, \\quad 1\\right ]\\right \\}, \\quad Reaction 2 : \\left \\{ rate : k_{2}, \\quad A : \\left [ 0, \\quad 1\\right ], \\quad B : \\left [ 1, \\quad 0\\right ]\\right \\}\\right \\}$$"
      ],
      "text/plain": [
       "<IPython.core.display.Math object>"
      ]
     },
     "metadata": {},
     "output_type": "display_data"
    }
   ],
   "source": [
    "model1.showStoichiometry()"
   ]
  },
  {
   "cell_type": "code",
   "execution_count": 7,
   "metadata": {},
   "outputs": [
    {
     "data": {
      "text/latex": [
       "$$\\displaystyle \\frac{\\textrm{d}A}{\\textrm{d}t} := - A k_{1} + B k_{2}$$"
      ],
      "text/plain": [
       "<IPython.core.display.Math object>"
      ]
     },
     "metadata": {},
     "output_type": "display_data"
    },
    {
     "data": {
      "text/latex": [
       "$$\\displaystyle \\frac{\\textrm{d}B}{\\textrm{d}t} := A k_{1} - B k_{2}$$"
      ],
      "text/plain": [
       "<IPython.core.display.Math object>"
      ]
     },
     "metadata": {},
     "output_type": "display_data"
    }
   ],
   "source": [
    "model1.showODEs()"
   ]
  },
  {
   "cell_type": "code",
   "execution_count": 8,
   "metadata": {},
   "outputs": [
    {
     "data": {
      "text/latex": [
       "$$\\frac{\\partial}{\\partial t} P{\\left (A,B,t \\right )}:= k_{1} ( \\operatorname{E_{op}}{\\left (A,1 \\right )} \\operatorname{E_{op}}{\\left (B,-1 \\right )} - 1 ) AP{\\left (A,B,t \\right )} + k_{2} ( \\operatorname{E_{op}}{\\left (A,-1 \\right )} \\operatorname{E_{op}}{\\left (B,1 \\right )} - 1 ) BP{\\left (A,B,t \\right )}$$"
      ],
      "text/plain": [
       "<IPython.core.display.Math object>"
      ]
     },
     "metadata": {},
     "output_type": "display_data"
    }
   ],
   "source": [
    "model1.showMasterEquation()"
   ]
  },
  {
   "cell_type": "code",
   "execution_count": 9,
   "metadata": {},
   "outputs": [
    {
     "data": {
      "text/latex": [
       "$$- \\sqrt{V} \\frac{d}{d t} \\Phi_{A} \\frac{\\partial}{\\partial \\eta_{A}} P{\\left (\\eta_{A},\\eta_{B},t \\right )} - \\sqrt{V} \\frac{d}{d t} \\Phi_{B} \\frac{\\partial}{\\partial \\eta_{B}} P{\\left (\\eta_{A},\\eta_{B},t \\right )} + \\frac{\\partial}{\\partial t} P{\\left (\\eta_{A},\\eta_{B},t \\right )} := \n",
       "\\Phi_{A} \\sqrt{V} k_{1} \\frac{\\partial}{\\partial \\eta_{A}} P{\\left (\\eta_{A},\\eta_{B},t \\right )} - \\Phi_{A} \\sqrt{V} k_{1} \\frac{\\partial}{\\partial \\eta_{B}} P{\\left (\\eta_{A},\\eta_{B},t \\right )} + \\frac{\\Phi_{A} k_{1}}{2} \\frac{\\partial^{2}}{\\partial \\eta_{A}^{2}}  P{\\left (\\eta_{A},\\eta_{B},t \\right )} - \\Phi_{A} k_{1} \\frac{\\partial^{2}}{\\partial \\eta_{A}\\partial \\eta_{B}}  P{\\left (\\eta_{A},\\eta_{B},t \\right )} + \\frac{\\Phi_{A} k_{1}}{2} \\frac{\\partial^{2}}{\\partial \\eta_{B}^{2}}  P{\\left (\\eta_{A},\\eta_{B},t \\right )} + \\frac{\\Phi_{A} k_{1}}{4 V} \\frac{\\partial^{4}}{\\partial \\eta_{A}^{2}\\partial \\eta_{B}^{2}}  P{\\left (\\eta_{A},\\eta_{B},t \\right )} - \\frac{\\Phi_{A} k_{1}}{2 \\sqrt{V}} \\frac{\\partial^{3}}{\\partial \\eta_{A}^{2}\\partial \\eta_{B}}  P{\\left (\\eta_{A},\\eta_{B},t \\right )} + \\frac{\\Phi_{A} k_{1}}{2 \\sqrt{V}} \\frac{\\partial^{3}}{\\partial \\eta_{A}\\partial \\eta_{B}^{2}}  P{\\left (\\eta_{A},\\eta_{B},t \\right )} - \\Phi_{B} \\sqrt{V} k_{2} \\frac{\\partial}{\\partial \\eta_{A}} P{\\left (\\eta_{A},\\eta_{B},t \\right )} + \\Phi_{B} \\sqrt{V} k_{2} \\frac{\\partial}{\\partial \\eta_{B}} P{\\left (\\eta_{A},\\eta_{B},t \\right )} + \\frac{\\Phi_{B} k_{2}}{2} \\frac{\\partial^{2}}{\\partial \\eta_{A}^{2}}  P{\\left (\\eta_{A},\\eta_{B},t \\right )} - \\Phi_{B} k_{2} \\frac{\\partial^{2}}{\\partial \\eta_{A}\\partial \\eta_{B}}  P{\\left (\\eta_{A},\\eta_{B},t \\right )} + \\frac{\\Phi_{B} k_{2}}{2} \\frac{\\partial^{2}}{\\partial \\eta_{B}^{2}}  P{\\left (\\eta_{A},\\eta_{B},t \\right )} + \\frac{\\Phi_{B} k_{2}}{4 V} \\frac{\\partial^{4}}{\\partial \\eta_{A}^{2}\\partial \\eta_{B}^{2}}  P{\\left (\\eta_{A},\\eta_{B},t \\right )} + \\frac{\\Phi_{B} k_{2}}{2 \\sqrt{V}} \\frac{\\partial^{3}}{\\partial \\eta_{A}^{2}\\partial \\eta_{B}}  P{\\left (\\eta_{A},\\eta_{B},t \\right )} - \\frac{\\Phi_{B} k_{2}}{2 \\sqrt{V}} \\frac{\\partial^{3}}{\\partial \\eta_{A}\\partial \\eta_{B}^{2}}  P{\\left (\\eta_{A},\\eta_{B},t \\right )} + \\eta_{A} k_{1} \\frac{\\partial}{\\partial \\eta_{A}} P{\\left (\\eta_{A},\\eta_{B},t \\right )} - \\eta_{A} k_{1} \\frac{\\partial}{\\partial \\eta_{B}} P{\\left (\\eta_{A},\\eta_{B},t \\right )} - \\eta_{B} k_{2} \\frac{\\partial}{\\partial \\eta_{A}} P{\\left (\\eta_{A},\\eta_{B},t \\right )} + \\eta_{B} k_{2} \\frac{\\partial}{\\partial \\eta_{B}} P{\\left (\\eta_{A},\\eta_{B},t \\right )} + k_{1} P{\\left (\\eta_{A},\\eta_{B},t \\right )} + k_{2} P{\\left (\\eta_{A},\\eta_{B},t \\right )} - \\frac{\\eta_{A} k_{1}}{2 V} \\frac{\\partial^{3}}{\\partial \\eta_{A}^{2}\\partial \\eta_{B}}  P{\\left (\\eta_{A},\\eta_{B},t \\right )} + \\frac{\\eta_{A} k_{1}}{2 V} \\frac{\\partial^{3}}{\\partial \\eta_{A}\\partial \\eta_{B}^{2}}  P{\\left (\\eta_{A},\\eta_{B},t \\right )} + \\frac{\\eta_{B} k_{2}}{2 V} \\frac{\\partial^{3}}{\\partial \\eta_{A}^{2}\\partial \\eta_{B}}  P{\\left (\\eta_{A},\\eta_{B},t \\right )} - \\frac{\\eta_{B} k_{2}}{2 V} \\frac{\\partial^{3}}{\\partial \\eta_{A}\\partial \\eta_{B}^{2}}  P{\\left (\\eta_{A},\\eta_{B},t \\right )} - \\frac{k_{1}}{V} \\frac{\\partial^{2}}{\\partial \\eta_{A}\\partial \\eta_{B}}  P{\\left (\\eta_{A},\\eta_{B},t \\right )} + \\frac{k_{1}}{2 V} \\frac{\\partial^{2}}{\\partial \\eta_{B}^{2}}  P{\\left (\\eta_{A},\\eta_{B},t \\right )} + \\frac{k_{2}}{2 V} \\frac{\\partial^{2}}{\\partial \\eta_{A}^{2}}  P{\\left (\\eta_{A},\\eta_{B},t \\right )} - \\frac{k_{2}}{V} \\frac{\\partial^{2}}{\\partial \\eta_{A}\\partial \\eta_{B}}  P{\\left (\\eta_{A},\\eta_{B},t \\right )} + \\frac{\\eta_{A} k_{1}}{2 \\sqrt{V}} \\frac{\\partial^{2}}{\\partial \\eta_{A}^{2}}  P{\\left (\\eta_{A},\\eta_{B},t \\right )} - \\frac{\\eta_{A} k_{1}}{\\sqrt{V}} \\frac{\\partial^{2}}{\\partial \\eta_{A}\\partial \\eta_{B}}  P{\\left (\\eta_{A},\\eta_{B},t \\right )} + \\frac{\\eta_{A} k_{1}}{2 \\sqrt{V}} \\frac{\\partial^{2}}{\\partial \\eta_{B}^{2}}  P{\\left (\\eta_{A},\\eta_{B},t \\right )} + \\frac{\\eta_{B} k_{2}}{2 \\sqrt{V}} \\frac{\\partial^{2}}{\\partial \\eta_{A}^{2}}  P{\\left (\\eta_{A},\\eta_{B},t \\right )} - \\frac{\\eta_{B} k_{2}}{\\sqrt{V}} \\frac{\\partial^{2}}{\\partial \\eta_{A}\\partial \\eta_{B}}  P{\\left (\\eta_{A},\\eta_{B},t \\right )} + \\frac{\\eta_{B} k_{2}}{2 \\sqrt{V}} \\frac{\\partial^{2}}{\\partial \\eta_{B}^{2}}  P{\\left (\\eta_{A},\\eta_{B},t \\right )} + \\frac{k_{1}}{\\sqrt{V}} \\frac{\\partial}{\\partial \\eta_{A}} P{\\left (\\eta_{A},\\eta_{B},t \\right )} - \\frac{k_{1}}{\\sqrt{V}} \\frac{\\partial}{\\partial \\eta_{B}} P{\\left (\\eta_{A},\\eta_{B},t \\right )} - \\frac{k_{2}}{\\sqrt{V}} \\frac{\\partial}{\\partial \\eta_{A}} P{\\left (\\eta_{A},\\eta_{B},t \\right )} + \\frac{k_{2}}{\\sqrt{V}} \\frac{\\partial}{\\partial \\eta_{B}} P{\\left (\\eta_{A},\\eta_{B},t \\right )} + \\frac{\\eta_{A} k_{1}}{4 V^{\\frac{3}{2}}} \\frac{\\partial^{4}}{\\partial \\eta_{A}^{2}\\partial \\eta_{B}^{2}}  P{\\left (\\eta_{A},\\eta_{B},t \\right )} + \\frac{\\eta_{B} k_{2}}{4 V^{\\frac{3}{2}}} \\frac{\\partial^{4}}{\\partial \\eta_{A}^{2}\\partial \\eta_{B}^{2}}  P{\\left (\\eta_{A},\\eta_{B},t \\right )} + \\frac{k_{1}}{2 V^{\\frac{3}{2}}} \\frac{\\partial^{3}}{\\partial \\eta_{A}\\partial \\eta_{B}^{2}}  P{\\left (\\eta_{A},\\eta_{B},t \\right )} + \\frac{k_{2}}{2 V^{\\frac{3}{2}}} \\frac{\\partial^{3}}{\\partial \\eta_{A}^{2}\\partial \\eta_{B}}  P{\\left (\\eta_{A},\\eta_{B},t \\right )}$$"
      ],
      "text/plain": [
       "<IPython.core.display.Math object>"
      ]
     },
     "metadata": {},
     "output_type": "display_data"
    }
   ],
   "source": [
    "model1.showVanKampenExpansion()"
   ]
  },
  {
   "cell_type": "code",
   "execution_count": 10,
   "metadata": {},
   "outputs": [
    {
     "data": {
      "text/latex": [
       "$$\\frac{d}{d t} \\Phi_{B} := \\Phi_{A} k_{1} - \\Phi_{B} k_{2}$$"
      ],
      "text/plain": [
       "<IPython.core.display.Math object>"
      ]
     },
     "metadata": {},
     "output_type": "display_data"
    },
    {
     "data": {
      "text/latex": [
       "$$\\frac{d}{d t} \\Phi_{A} := - \\Phi_{A} k_{1} + \\Phi_{B} k_{2}$$"
      ],
      "text/plain": [
       "<IPython.core.display.Math object>"
      ]
     },
     "metadata": {},
     "output_type": "display_data"
    }
   ],
   "source": [
    "model1.showODEs_vKE()"
   ]
  },
  {
   "cell_type": "code",
   "execution_count": 11,
   "metadata": {},
   "outputs": [
    {
     "data": {
      "text/latex": [
       "$$\\frac{\\partial}{\\partial t} P{\\left (\\eta_{A},\\eta_{B},t \\right )} := \\frac{\\Phi_{A} k_{1}}{2} \\frac{\\partial^{2}}{\\partial \\eta_{A}^{2}}  P{\\left (\\eta_{A},\\eta_{B},t \\right )} - \\Phi_{A} k_{1} \\frac{\\partial^{2}}{\\partial \\eta_{A}\\partial \\eta_{B}}  P{\\left (\\eta_{A},\\eta_{B},t \\right )} + \\frac{\\Phi_{A} k_{1}}{2} \\frac{\\partial^{2}}{\\partial \\eta_{B}^{2}}  P{\\left (\\eta_{A},\\eta_{B},t \\right )} + \\frac{\\Phi_{B} k_{2}}{2} \\frac{\\partial^{2}}{\\partial \\eta_{A}^{2}}  P{\\left (\\eta_{A},\\eta_{B},t \\right )} - \\Phi_{B} k_{2} \\frac{\\partial^{2}}{\\partial \\eta_{A}\\partial \\eta_{B}}  P{\\left (\\eta_{A},\\eta_{B},t \\right )} + \\frac{\\Phi_{B} k_{2}}{2} \\frac{\\partial^{2}}{\\partial \\eta_{B}^{2}}  P{\\left (\\eta_{A},\\eta_{B},t \\right )} + \\eta_{A} k_{1} \\frac{\\partial}{\\partial \\eta_{A}} P{\\left (\\eta_{A},\\eta_{B},t \\right )} - \\eta_{A} k_{1} \\frac{\\partial}{\\partial \\eta_{B}} P{\\left (\\eta_{A},\\eta_{B},t \\right )} - \\eta_{B} k_{2} \\frac{\\partial}{\\partial \\eta_{A}} P{\\left (\\eta_{A},\\eta_{B},t \\right )} + \\eta_{B} k_{2} \\frac{\\partial}{\\partial \\eta_{B}} P{\\left (\\eta_{A},\\eta_{B},t \\right )} + k_{1} P{\\left (\\eta_{A},\\eta_{B},t \\right )} + k_{2} P{\\left (\\eta_{A},\\eta_{B},t \\right )}$$"
      ],
      "text/plain": [
       "<IPython.core.display.Math object>"
      ]
     },
     "metadata": {},
     "output_type": "display_data"
    }
   ],
   "source": [
    "model1.showFokkerPlanckEquation()"
   ]
  },
  {
   "cell_type": "code",
   "execution_count": null,
   "metadata": {
    "collapsed": true
   },
   "outputs": [],
   "source": []
  },
  {
   "cell_type": "code",
   "execution_count": 12,
   "metadata": {},
   "outputs": [
    {
     "data": {
      "text/latex": [
       "$\n",
       "U -> A : g_1\n",
       "U -> B : g_2\n",
       "A -> U : a_1\n",
       "B -> U : a_2\n",
       "A + U -> A + A : r_1\n",
       "B + U -> B + B : r_2\n",
       "A + B -> A + U : s_1\n",
       "A + B -> B + U : s_2\n",
       "$"
      ],
      "text/plain": [
       "<IPython.core.display.Latex object>"
      ]
     },
     "metadata": {},
     "output_type": "display_data"
    }
   ],
   "source": [
    "%%model\n",
    "$\n",
    "U -> A : g_1\n",
    "U -> B : g_2\n",
    "A -> U : a_1\n",
    "B -> U : a_2\n",
    "A + U -> A + A : r_1\n",
    "B + U -> B + B : r_2\n",
    "A + B -> A + U : s_1\n",
    "A + B -> B + U : s_2\n",
    "$"
   ]
  },
  {
   "cell_type": "code",
   "execution_count": 13,
   "metadata": {},
   "outputs": [],
   "source": [
    "model2 = mmt.parseModel(In[2])"
   ]
  },
  {
   "cell_type": "code",
   "execution_count": 14,
   "metadata": {},
   "outputs": [
    {
     "data": {
      "text/latex": [
       "$$\\displaystyle \\frac{\\textrm{d}<\\eta_{A}>}{\\textrm{d}t} := - <\\eta_{A}> k_{1} + <\\eta_{B}> k_{2}$$"
      ],
      "text/plain": [
       "<IPython.core.display.Math object>"
      ]
     },
     "metadata": {},
     "output_type": "display_data"
    },
    {
     "data": {
      "text/latex": [
       "$$\\displaystyle \\frac{\\textrm{d}<\\eta_{B}>}{\\textrm{d}t} := <\\eta_{A}> k_{1} - <\\eta_{B}> k_{2}$$"
      ],
      "text/plain": [
       "<IPython.core.display.Math object>"
      ]
     },
     "metadata": {},
     "output_type": "display_data"
    },
    {
     "data": {
      "text/latex": [
       "$$\\displaystyle \\frac{\\textrm{d}<\\eta_{A} \\eta_{B}>}{\\textrm{d}t} := - <\\eta_{A} \\eta_{B}> \\left(k_{1} + k_{2}\\right) + <\\eta_{A}^{2}> k_{1} + <\\eta_{B}^{2}> k_{2} - \\Phi_{A} k_{1} - \\Phi_{B} k_{2}$$"
      ],
      "text/plain": [
       "<IPython.core.display.Math object>"
      ]
     },
     "metadata": {},
     "output_type": "display_data"
    },
    {
     "data": {
      "text/latex": [
       "$$\\displaystyle \\frac{\\textrm{d}<\\eta_{B}^{2}>}{\\textrm{d}t} := 2 <\\eta_{A} \\eta_{B}> k_{1} - 2 <\\eta_{B}^{2}> k_{2} + \\Phi_{A} k_{1} + \\Phi_{B} k_{2}$$"
      ],
      "text/plain": [
       "<IPython.core.display.Math object>"
      ]
     },
     "metadata": {},
     "output_type": "display_data"
    },
    {
     "data": {
      "text/latex": [
       "$$\\displaystyle \\frac{\\textrm{d}<\\eta_{A}^{2}>}{\\textrm{d}t} := 2 <\\eta_{A} \\eta_{B}> k_{2} - 2 <\\eta_{A}^{2}> k_{1} + \\Phi_{A} k_{1} + \\Phi_{B} k_{2}$$"
      ],
      "text/plain": [
       "<IPython.core.display.Math object>"
      ]
     },
     "metadata": {},
     "output_type": "display_data"
    }
   ],
   "source": [
    "model2.showNoiseEOM()"
   ]
  },
  {
   "cell_type": "code",
   "execution_count": 15,
   "metadata": {},
   "outputs": [
    {
     "data": {
      "text/latex": [
       "$$<\\eta_{A}>:= \\frac{<\\eta_{B}> k_{2}}{k_{1}}$$"
      ],
      "text/plain": [
       "<IPython.core.display.Math object>"
      ]
     },
     "metadata": {},
     "output_type": "display_data"
    },
    {
     "data": {
      "text/latex": [
       "$$<\\eta_{A} \\eta_{B}> := 0$$"
      ],
      "text/plain": [
       "<IPython.core.display.Math object>"
      ]
     },
     "metadata": {},
     "output_type": "display_data"
    },
    {
     "data": {
      "text/latex": [
       "$$<\\eta_{B}^{2}> := \\frac{1}{2 k_{2}} \\left(\\Phi_{A} k_{1} + \\Phi_{B} k_{2}\\right)$$"
      ],
      "text/plain": [
       "<IPython.core.display.Math object>"
      ]
     },
     "metadata": {},
     "output_type": "display_data"
    },
    {
     "data": {
      "text/latex": [
       "$$<\\eta_{A}^{2}> := \\frac{1}{2 k_{1}} \\left(\\Phi_{A} k_{1} + \\Phi_{B} k_{2}\\right)$$"
      ],
      "text/plain": [
       "<IPython.core.display.Math object>"
      ]
     },
     "metadata": {},
     "output_type": "display_data"
    }
   ],
   "source": [
    "model2.showNoiseStationarySol()"
   ]
  },
  {
   "cell_type": "code",
   "execution_count": 16,
   "metadata": {},
   "outputs": [
    {
     "data": {
      "text/latex": [
       "$$\\displaystyle \\frac{\\textrm{d}A}{\\textrm{d}t} := - A k_{1} + B k_{2}$$"
      ],
      "text/plain": [
       "<IPython.core.display.Math object>"
      ]
     },
     "metadata": {},
     "output_type": "display_data"
    },
    {
     "data": {
      "text/latex": [
       "$$\\displaystyle \\frac{\\textrm{d}B}{\\textrm{d}t} := A k_{1} - B k_{2}$$"
      ],
      "text/plain": [
       "<IPython.core.display.Math object>"
      ]
     },
     "metadata": {},
     "output_type": "display_data"
    }
   ],
   "source": [
    "model2.showODEs()"
   ]
  },
  {
   "cell_type": "code",
   "execution_count": 17,
   "metadata": {},
   "outputs": [
    {
     "data": {
      "text/latex": [
       "$$\\left \\{ Reaction 1 : \\left \\{ rate : k_{1}, \\quad A : \\left [ 1, \\quad 0\\right ], \\quad B : \\left [ 0, \\quad 1\\right ]\\right \\}, \\quad Reaction 2 : \\left \\{ rate : k_{2}, \\quad A : \\left [ 0, \\quad 1\\right ], \\quad B : \\left [ 1, \\quad 0\\right ]\\right \\}\\right \\}$$"
      ],
      "text/plain": [
       "<IPython.core.display.Math object>"
      ]
     },
     "metadata": {},
     "output_type": "display_data"
    }
   ],
   "source": [
    "model2.showStoichiometry()"
   ]
  },
  {
   "cell_type": "code",
   "execution_count": 18,
   "metadata": {},
   "outputs": [
    {
     "data": {
      "text/latex": [
       "$$\\frac{\\partial}{\\partial t} P{\\left (A,B,t \\right )}:= k_{1} ( \\operatorname{E_{op}}{\\left (A,1 \\right )} \\operatorname{E_{op}}{\\left (B,-1 \\right )} - 1 ) AP{\\left (A,B,t \\right )} + k_{2} ( \\operatorname{E_{op}}{\\left (A,-1 \\right )} \\operatorname{E_{op}}{\\left (B,1 \\right )} - 1 ) BP{\\left (A,B,t \\right )}$$"
      ],
      "text/plain": [
       "<IPython.core.display.Math object>"
      ]
     },
     "metadata": {},
     "output_type": "display_data"
    }
   ],
   "source": [
    "model2.showMasterEquation()"
   ]
  },
  {
   "cell_type": "code",
   "execution_count": 19,
   "metadata": {},
   "outputs": [
    {
     "data": {
      "text/latex": [
       "$$- \\sqrt{V} \\frac{d}{d t} \\Phi_{A} \\frac{\\partial}{\\partial \\eta_{A}} P{\\left (\\eta_{A},\\eta_{B},t \\right )} - \\sqrt{V} \\frac{d}{d t} \\Phi_{B} \\frac{\\partial}{\\partial \\eta_{B}} P{\\left (\\eta_{A},\\eta_{B},t \\right )} + \\frac{\\partial}{\\partial t} P{\\left (\\eta_{A},\\eta_{B},t \\right )} := \n",
       "\\Phi_{A} \\sqrt{V} k_{1} \\frac{\\partial}{\\partial \\eta_{A}} P{\\left (\\eta_{A},\\eta_{B},t \\right )} - \\Phi_{A} \\sqrt{V} k_{1} \\frac{\\partial}{\\partial \\eta_{B}} P{\\left (\\eta_{A},\\eta_{B},t \\right )} + \\frac{\\Phi_{A} k_{1}}{2} \\frac{\\partial^{2}}{\\partial \\eta_{A}^{2}}  P{\\left (\\eta_{A},\\eta_{B},t \\right )} - \\Phi_{A} k_{1} \\frac{\\partial^{2}}{\\partial \\eta_{A}\\partial \\eta_{B}}  P{\\left (\\eta_{A},\\eta_{B},t \\right )} + \\frac{\\Phi_{A} k_{1}}{2} \\frac{\\partial^{2}}{\\partial \\eta_{B}^{2}}  P{\\left (\\eta_{A},\\eta_{B},t \\right )} + \\frac{\\Phi_{A} k_{1}}{4 V} \\frac{\\partial^{4}}{\\partial \\eta_{A}^{2}\\partial \\eta_{B}^{2}}  P{\\left (\\eta_{A},\\eta_{B},t \\right )} - \\frac{\\Phi_{A} k_{1}}{2 \\sqrt{V}} \\frac{\\partial^{3}}{\\partial \\eta_{A}^{2}\\partial \\eta_{B}}  P{\\left (\\eta_{A},\\eta_{B},t \\right )} + \\frac{\\Phi_{A} k_{1}}{2 \\sqrt{V}} \\frac{\\partial^{3}}{\\partial \\eta_{A}\\partial \\eta_{B}^{2}}  P{\\left (\\eta_{A},\\eta_{B},t \\right )} - \\Phi_{B} \\sqrt{V} k_{2} \\frac{\\partial}{\\partial \\eta_{A}} P{\\left (\\eta_{A},\\eta_{B},t \\right )} + \\Phi_{B} \\sqrt{V} k_{2} \\frac{\\partial}{\\partial \\eta_{B}} P{\\left (\\eta_{A},\\eta_{B},t \\right )} + \\frac{\\Phi_{B} k_{2}}{2} \\frac{\\partial^{2}}{\\partial \\eta_{A}^{2}}  P{\\left (\\eta_{A},\\eta_{B},t \\right )} - \\Phi_{B} k_{2} \\frac{\\partial^{2}}{\\partial \\eta_{A}\\partial \\eta_{B}}  P{\\left (\\eta_{A},\\eta_{B},t \\right )} + \\frac{\\Phi_{B} k_{2}}{2} \\frac{\\partial^{2}}{\\partial \\eta_{B}^{2}}  P{\\left (\\eta_{A},\\eta_{B},t \\right )} + \\frac{\\Phi_{B} k_{2}}{4 V} \\frac{\\partial^{4}}{\\partial \\eta_{A}^{2}\\partial \\eta_{B}^{2}}  P{\\left (\\eta_{A},\\eta_{B},t \\right )} + \\frac{\\Phi_{B} k_{2}}{2 \\sqrt{V}} \\frac{\\partial^{3}}{\\partial \\eta_{A}^{2}\\partial \\eta_{B}}  P{\\left (\\eta_{A},\\eta_{B},t \\right )} - \\frac{\\Phi_{B} k_{2}}{2 \\sqrt{V}} \\frac{\\partial^{3}}{\\partial \\eta_{A}\\partial \\eta_{B}^{2}}  P{\\left (\\eta_{A},\\eta_{B},t \\right )} + \\eta_{A} k_{1} \\frac{\\partial}{\\partial \\eta_{A}} P{\\left (\\eta_{A},\\eta_{B},t \\right )} - \\eta_{A} k_{1} \\frac{\\partial}{\\partial \\eta_{B}} P{\\left (\\eta_{A},\\eta_{B},t \\right )} - \\eta_{B} k_{2} \\frac{\\partial}{\\partial \\eta_{A}} P{\\left (\\eta_{A},\\eta_{B},t \\right )} + \\eta_{B} k_{2} \\frac{\\partial}{\\partial \\eta_{B}} P{\\left (\\eta_{A},\\eta_{B},t \\right )} + k_{1} P{\\left (\\eta_{A},\\eta_{B},t \\right )} + k_{2} P{\\left (\\eta_{A},\\eta_{B},t \\right )} - \\frac{\\eta_{A} k_{1}}{2 V} \\frac{\\partial^{3}}{\\partial \\eta_{A}^{2}\\partial \\eta_{B}}  P{\\left (\\eta_{A},\\eta_{B},t \\right )} + \\frac{\\eta_{A} k_{1}}{2 V} \\frac{\\partial^{3}}{\\partial \\eta_{A}\\partial \\eta_{B}^{2}}  P{\\left (\\eta_{A},\\eta_{B},t \\right )} + \\frac{\\eta_{B} k_{2}}{2 V} \\frac{\\partial^{3}}{\\partial \\eta_{A}^{2}\\partial \\eta_{B}}  P{\\left (\\eta_{A},\\eta_{B},t \\right )} - \\frac{\\eta_{B} k_{2}}{2 V} \\frac{\\partial^{3}}{\\partial \\eta_{A}\\partial \\eta_{B}^{2}}  P{\\left (\\eta_{A},\\eta_{B},t \\right )} - \\frac{k_{1}}{V} \\frac{\\partial^{2}}{\\partial \\eta_{A}\\partial \\eta_{B}}  P{\\left (\\eta_{A},\\eta_{B},t \\right )} + \\frac{k_{1}}{2 V} \\frac{\\partial^{2}}{\\partial \\eta_{B}^{2}}  P{\\left (\\eta_{A},\\eta_{B},t \\right )} + \\frac{k_{2}}{2 V} \\frac{\\partial^{2}}{\\partial \\eta_{A}^{2}}  P{\\left (\\eta_{A},\\eta_{B},t \\right )} - \\frac{k_{2}}{V} \\frac{\\partial^{2}}{\\partial \\eta_{A}\\partial \\eta_{B}}  P{\\left (\\eta_{A},\\eta_{B},t \\right )} + \\frac{\\eta_{A} k_{1}}{2 \\sqrt{V}} \\frac{\\partial^{2}}{\\partial \\eta_{A}^{2}}  P{\\left (\\eta_{A},\\eta_{B},t \\right )} - \\frac{\\eta_{A} k_{1}}{\\sqrt{V}} \\frac{\\partial^{2}}{\\partial \\eta_{A}\\partial \\eta_{B}}  P{\\left (\\eta_{A},\\eta_{B},t \\right )} + \\frac{\\eta_{A} k_{1}}{2 \\sqrt{V}} \\frac{\\partial^{2}}{\\partial \\eta_{B}^{2}}  P{\\left (\\eta_{A},\\eta_{B},t \\right )} + \\frac{\\eta_{B} k_{2}}{2 \\sqrt{V}} \\frac{\\partial^{2}}{\\partial \\eta_{A}^{2}}  P{\\left (\\eta_{A},\\eta_{B},t \\right )} - \\frac{\\eta_{B} k_{2}}{\\sqrt{V}} \\frac{\\partial^{2}}{\\partial \\eta_{A}\\partial \\eta_{B}}  P{\\left (\\eta_{A},\\eta_{B},t \\right )} + \\frac{\\eta_{B} k_{2}}{2 \\sqrt{V}} \\frac{\\partial^{2}}{\\partial \\eta_{B}^{2}}  P{\\left (\\eta_{A},\\eta_{B},t \\right )} + \\frac{k_{1}}{\\sqrt{V}} \\frac{\\partial}{\\partial \\eta_{A}} P{\\left (\\eta_{A},\\eta_{B},t \\right )} - \\frac{k_{1}}{\\sqrt{V}} \\frac{\\partial}{\\partial \\eta_{B}} P{\\left (\\eta_{A},\\eta_{B},t \\right )} - \\frac{k_{2}}{\\sqrt{V}} \\frac{\\partial}{\\partial \\eta_{A}} P{\\left (\\eta_{A},\\eta_{B},t \\right )} + \\frac{k_{2}}{\\sqrt{V}} \\frac{\\partial}{\\partial \\eta_{B}} P{\\left (\\eta_{A},\\eta_{B},t \\right )} + \\frac{\\eta_{A} k_{1}}{4 V^{\\frac{3}{2}}} \\frac{\\partial^{4}}{\\partial \\eta_{A}^{2}\\partial \\eta_{B}^{2}}  P{\\left (\\eta_{A},\\eta_{B},t \\right )} + \\frac{\\eta_{B} k_{2}}{4 V^{\\frac{3}{2}}} \\frac{\\partial^{4}}{\\partial \\eta_{A}^{2}\\partial \\eta_{B}^{2}}  P{\\left (\\eta_{A},\\eta_{B},t \\right )} + \\frac{k_{1}}{2 V^{\\frac{3}{2}}} \\frac{\\partial^{3}}{\\partial \\eta_{A}\\partial \\eta_{B}^{2}}  P{\\left (\\eta_{A},\\eta_{B},t \\right )} + \\frac{k_{2}}{2 V^{\\frac{3}{2}}} \\frac{\\partial^{3}}{\\partial \\eta_{A}^{2}\\partial \\eta_{B}}  P{\\left (\\eta_{A},\\eta_{B},t \\right )}$$"
      ],
      "text/plain": [
       "<IPython.core.display.Math object>"
      ]
     },
     "metadata": {},
     "output_type": "display_data"
    }
   ],
   "source": [
    "model2.showVanKampenExpansion()"
   ]
  },
  {
   "cell_type": "code",
   "execution_count": 20,
   "metadata": {},
   "outputs": [
    {
     "data": {
      "text/latex": [
       "$$\\frac{d}{d t} \\Phi_{B} := \\Phi_{A} k_{1} - \\Phi_{B} k_{2}$$"
      ],
      "text/plain": [
       "<IPython.core.display.Math object>"
      ]
     },
     "metadata": {},
     "output_type": "display_data"
    },
    {
     "data": {
      "text/latex": [
       "$$\\frac{d}{d t} \\Phi_{A} := - \\Phi_{A} k_{1} + \\Phi_{B} k_{2}$$"
      ],
      "text/plain": [
       "<IPython.core.display.Math object>"
      ]
     },
     "metadata": {},
     "output_type": "display_data"
    }
   ],
   "source": [
    "model2.showODEs_vKE()"
   ]
  },
  {
   "cell_type": "code",
   "execution_count": 21,
   "metadata": {},
   "outputs": [
    {
     "data": {
      "text/latex": [
       "$$\\frac{\\partial}{\\partial t} P{\\left (\\eta_{A},\\eta_{B},t \\right )} := \\frac{\\Phi_{A} k_{1}}{2} \\frac{\\partial^{2}}{\\partial \\eta_{A}^{2}}  P{\\left (\\eta_{A},\\eta_{B},t \\right )} - \\Phi_{A} k_{1} \\frac{\\partial^{2}}{\\partial \\eta_{A}\\partial \\eta_{B}}  P{\\left (\\eta_{A},\\eta_{B},t \\right )} + \\frac{\\Phi_{A} k_{1}}{2} \\frac{\\partial^{2}}{\\partial \\eta_{B}^{2}}  P{\\left (\\eta_{A},\\eta_{B},t \\right )} + \\frac{\\Phi_{B} k_{2}}{2} \\frac{\\partial^{2}}{\\partial \\eta_{A}^{2}}  P{\\left (\\eta_{A},\\eta_{B},t \\right )} - \\Phi_{B} k_{2} \\frac{\\partial^{2}}{\\partial \\eta_{A}\\partial \\eta_{B}}  P{\\left (\\eta_{A},\\eta_{B},t \\right )} + \\frac{\\Phi_{B} k_{2}}{2} \\frac{\\partial^{2}}{\\partial \\eta_{B}^{2}}  P{\\left (\\eta_{A},\\eta_{B},t \\right )} + \\eta_{A} k_{1} \\frac{\\partial}{\\partial \\eta_{A}} P{\\left (\\eta_{A},\\eta_{B},t \\right )} - \\eta_{A} k_{1} \\frac{\\partial}{\\partial \\eta_{B}} P{\\left (\\eta_{A},\\eta_{B},t \\right )} - \\eta_{B} k_{2} \\frac{\\partial}{\\partial \\eta_{A}} P{\\left (\\eta_{A},\\eta_{B},t \\right )} + \\eta_{B} k_{2} \\frac{\\partial}{\\partial \\eta_{B}} P{\\left (\\eta_{A},\\eta_{B},t \\right )} + k_{1} P{\\left (\\eta_{A},\\eta_{B},t \\right )} + k_{2} P{\\left (\\eta_{A},\\eta_{B},t \\right )}$$"
      ],
      "text/plain": [
       "<IPython.core.display.Math object>"
      ]
     },
     "metadata": {},
     "output_type": "display_data"
    }
   ],
   "source": [
    "model2.showFokkerPlanckEquation()"
   ]
  },
  {
   "cell_type": "code",
   "execution_count": 22,
   "metadata": {},
   "outputs": [],
   "source": [
    "model3 = model2.substitute('a_1 = 1/v_1, a_2 = 1/v_2, g_1 = v_1, g_2 = v_2, r_1 = v_1, r_2 = v_2')"
   ]
  },
  {
   "cell_type": "code",
   "execution_count": 23,
   "metadata": {},
   "outputs": [
    {
     "data": {
      "text/latex": [
       "$$\\displaystyle \\frac{\\textrm{d}<\\eta_{A}>}{\\textrm{d}t} := - <\\eta_{A}> k_{1} + <\\eta_{B}> k_{2}$$"
      ],
      "text/plain": [
       "<IPython.core.display.Math object>"
      ]
     },
     "metadata": {},
     "output_type": "display_data"
    },
    {
     "data": {
      "text/latex": [
       "$$\\displaystyle \\frac{\\textrm{d}<\\eta_{B}>}{\\textrm{d}t} := <\\eta_{A}> k_{1} - <\\eta_{B}> k_{2}$$"
      ],
      "text/plain": [
       "<IPython.core.display.Math object>"
      ]
     },
     "metadata": {},
     "output_type": "display_data"
    },
    {
     "data": {
      "text/latex": [
       "$$\\displaystyle \\frac{\\textrm{d}<\\eta_{A} \\eta_{B}>}{\\textrm{d}t} := - <\\eta_{A} \\eta_{B}> \\left(k_{1} + k_{2}\\right) + <\\eta_{A}^{2}> k_{1} + <\\eta_{B}^{2}> k_{2} - \\Phi_{A} k_{1} - \\Phi_{B} k_{2}$$"
      ],
      "text/plain": [
       "<IPython.core.display.Math object>"
      ]
     },
     "metadata": {},
     "output_type": "display_data"
    },
    {
     "data": {
      "text/latex": [
       "$$\\displaystyle \\frac{\\textrm{d}<\\eta_{B}^{2}>}{\\textrm{d}t} := 2 <\\eta_{A} \\eta_{B}> k_{1} - 2 <\\eta_{B}^{2}> k_{2} + \\Phi_{A} k_{1} + \\Phi_{B} k_{2}$$"
      ],
      "text/plain": [
       "<IPython.core.display.Math object>"
      ]
     },
     "metadata": {},
     "output_type": "display_data"
    },
    {
     "data": {
      "text/latex": [
       "$$\\displaystyle \\frac{\\textrm{d}<\\eta_{A}^{2}>}{\\textrm{d}t} := 2 <\\eta_{A} \\eta_{B}> k_{2} - 2 <\\eta_{A}^{2}> k_{1} + \\Phi_{A} k_{1} + \\Phi_{B} k_{2}$$"
      ],
      "text/plain": [
       "<IPython.core.display.Math object>"
      ]
     },
     "metadata": {},
     "output_type": "display_data"
    }
   ],
   "source": [
    "model3.showNoiseEOM()"
   ]
  },
  {
   "cell_type": "code",
   "execution_count": 24,
   "metadata": {},
   "outputs": [
    {
     "data": {
      "text/latex": [
       "$$k_{1}\\; (Reaction 1)$$"
      ],
      "text/plain": [
       "<IPython.core.display.Math object>"
      ]
     },
     "metadata": {},
     "output_type": "display_data"
    },
    {
     "data": {
      "text/latex": [
       "$$k_{2}\\; (Reaction 2)$$"
      ],
      "text/plain": [
       "<IPython.core.display.Math object>"
      ]
     },
     "metadata": {},
     "output_type": "display_data"
    }
   ],
   "source": [
    "model3.showRates()"
   ]
  },
  {
   "cell_type": "code",
   "execution_count": 25,
   "metadata": {},
   "outputs": [
    {
     "data": {
      "text/latex": [
       "$$k_{1}$$"
      ],
      "text/plain": [
       "<IPython.core.display.Math object>"
      ]
     },
     "metadata": {},
     "output_type": "display_data"
    },
    {
     "data": {
      "text/latex": [
       "$$k_{2}$$"
      ],
      "text/plain": [
       "<IPython.core.display.Math object>"
      ]
     },
     "metadata": {},
     "output_type": "display_data"
    }
   ],
   "source": [
    "model3.showRatesOLD()"
   ]
  },
  {
   "cell_type": "code",
   "execution_count": 26,
   "metadata": {},
   "outputs": [
    {
     "data": {
      "text/latex": [
       "$$A$$"
      ],
      "text/plain": [
       "<IPython.core.display.Math object>"
      ]
     },
     "metadata": {},
     "output_type": "display_data"
    },
    {
     "data": {
      "text/latex": [
       "$$B$$"
      ],
      "text/plain": [
       "<IPython.core.display.Math object>"
      ]
     },
     "metadata": {},
     "output_type": "display_data"
    }
   ],
   "source": [
    "model3.showReactants()"
   ]
  },
  {
   "cell_type": "code",
   "execution_count": 27,
   "metadata": {},
   "outputs": [
    {
     "data": {
      "text/latex": [
       "$$\\displaystyle \\frac{\\textrm{d}A}{\\textrm{d}t} := - A k_{1} + B k_{2}$$"
      ],
      "text/plain": [
       "<IPython.core.display.Math object>"
      ]
     },
     "metadata": {},
     "output_type": "display_data"
    },
    {
     "data": {
      "text/latex": [
       "$$\\displaystyle \\frac{\\textrm{d}B}{\\textrm{d}t} := A k_{1} - B k_{2}$$"
      ],
      "text/plain": [
       "<IPython.core.display.Math object>"
      ]
     },
     "metadata": {},
     "output_type": "display_data"
    }
   ],
   "source": [
    "model3.showODEs()"
   ]
  },
  {
   "cell_type": "code",
   "execution_count": 28,
   "metadata": {},
   "outputs": [
    {
     "data": {
      "text/latex": [
       "$$\\left \\{ Reaction 1 : \\left \\{ rate : k_{1}, \\quad A : \\left [ 1, \\quad 0\\right ], \\quad B : \\left [ 0, \\quad 1\\right ]\\right \\}, \\quad Reaction 2 : \\left \\{ rate : k_{2}, \\quad A : \\left [ 0, \\quad 1\\right ], \\quad B : \\left [ 1, \\quad 0\\right ]\\right \\}\\right \\}$$"
      ],
      "text/plain": [
       "<IPython.core.display.Math object>"
      ]
     },
     "metadata": {},
     "output_type": "display_data"
    }
   ],
   "source": [
    "model3.showStoichiometry()"
   ]
  },
  {
   "cell_type": "code",
   "execution_count": 29,
   "metadata": {},
   "outputs": [
    {
     "data": {
      "text/latex": [
       "$$\\frac{\\partial}{\\partial t} P{\\left (A,B,t \\right )}:= k_{1} ( \\operatorname{E_{op}}{\\left (A,1 \\right )} \\operatorname{E_{op}}{\\left (B,-1 \\right )} - 1 ) AP{\\left (A,B,t \\right )} + k_{2} ( \\operatorname{E_{op}}{\\left (A,-1 \\right )} \\operatorname{E_{op}}{\\left (B,1 \\right )} - 1 ) BP{\\left (A,B,t \\right )}$$"
      ],
      "text/plain": [
       "<IPython.core.display.Math object>"
      ]
     },
     "metadata": {},
     "output_type": "display_data"
    }
   ],
   "source": [
    "model3.showMasterEquation()"
   ]
  },
  {
   "cell_type": "code",
   "execution_count": 30,
   "metadata": {},
   "outputs": [
    {
     "data": {
      "text/latex": [
       "$$- \\sqrt{V} \\frac{d}{d t} \\Phi_{A} \\frac{\\partial}{\\partial \\eta_{A}} P{\\left (\\eta_{A},\\eta_{B},t \\right )} - \\sqrt{V} \\frac{d}{d t} \\Phi_{B} \\frac{\\partial}{\\partial \\eta_{B}} P{\\left (\\eta_{A},\\eta_{B},t \\right )} + \\frac{\\partial}{\\partial t} P{\\left (\\eta_{A},\\eta_{B},t \\right )} := \n",
       "\\Phi_{A} \\sqrt{V} k_{1} \\frac{\\partial}{\\partial \\eta_{A}} P{\\left (\\eta_{A},\\eta_{B},t \\right )} - \\Phi_{A} \\sqrt{V} k_{1} \\frac{\\partial}{\\partial \\eta_{B}} P{\\left (\\eta_{A},\\eta_{B},t \\right )} + \\frac{\\Phi_{A} k_{1}}{2} \\frac{\\partial^{2}}{\\partial \\eta_{A}^{2}}  P{\\left (\\eta_{A},\\eta_{B},t \\right )} - \\Phi_{A} k_{1} \\frac{\\partial^{2}}{\\partial \\eta_{A}\\partial \\eta_{B}}  P{\\left (\\eta_{A},\\eta_{B},t \\right )} + \\frac{\\Phi_{A} k_{1}}{2} \\frac{\\partial^{2}}{\\partial \\eta_{B}^{2}}  P{\\left (\\eta_{A},\\eta_{B},t \\right )} + \\frac{\\Phi_{A} k_{1}}{4 V} \\frac{\\partial^{4}}{\\partial \\eta_{A}^{2}\\partial \\eta_{B}^{2}}  P{\\left (\\eta_{A},\\eta_{B},t \\right )} - \\frac{\\Phi_{A} k_{1}}{2 \\sqrt{V}} \\frac{\\partial^{3}}{\\partial \\eta_{A}^{2}\\partial \\eta_{B}}  P{\\left (\\eta_{A},\\eta_{B},t \\right )} + \\frac{\\Phi_{A} k_{1}}{2 \\sqrt{V}} \\frac{\\partial^{3}}{\\partial \\eta_{A}\\partial \\eta_{B}^{2}}  P{\\left (\\eta_{A},\\eta_{B},t \\right )} - \\Phi_{B} \\sqrt{V} k_{2} \\frac{\\partial}{\\partial \\eta_{A}} P{\\left (\\eta_{A},\\eta_{B},t \\right )} + \\Phi_{B} \\sqrt{V} k_{2} \\frac{\\partial}{\\partial \\eta_{B}} P{\\left (\\eta_{A},\\eta_{B},t \\right )} + \\frac{\\Phi_{B} k_{2}}{2} \\frac{\\partial^{2}}{\\partial \\eta_{A}^{2}}  P{\\left (\\eta_{A},\\eta_{B},t \\right )} - \\Phi_{B} k_{2} \\frac{\\partial^{2}}{\\partial \\eta_{A}\\partial \\eta_{B}}  P{\\left (\\eta_{A},\\eta_{B},t \\right )} + \\frac{\\Phi_{B} k_{2}}{2} \\frac{\\partial^{2}}{\\partial \\eta_{B}^{2}}  P{\\left (\\eta_{A},\\eta_{B},t \\right )} + \\frac{\\Phi_{B} k_{2}}{4 V} \\frac{\\partial^{4}}{\\partial \\eta_{A}^{2}\\partial \\eta_{B}^{2}}  P{\\left (\\eta_{A},\\eta_{B},t \\right )} + \\frac{\\Phi_{B} k_{2}}{2 \\sqrt{V}} \\frac{\\partial^{3}}{\\partial \\eta_{A}^{2}\\partial \\eta_{B}}  P{\\left (\\eta_{A},\\eta_{B},t \\right )} - \\frac{\\Phi_{B} k_{2}}{2 \\sqrt{V}} \\frac{\\partial^{3}}{\\partial \\eta_{A}\\partial \\eta_{B}^{2}}  P{\\left (\\eta_{A},\\eta_{B},t \\right )} + \\eta_{A} k_{1} \\frac{\\partial}{\\partial \\eta_{A}} P{\\left (\\eta_{A},\\eta_{B},t \\right )} - \\eta_{A} k_{1} \\frac{\\partial}{\\partial \\eta_{B}} P{\\left (\\eta_{A},\\eta_{B},t \\right )} - \\eta_{B} k_{2} \\frac{\\partial}{\\partial \\eta_{A}} P{\\left (\\eta_{A},\\eta_{B},t \\right )} + \\eta_{B} k_{2} \\frac{\\partial}{\\partial \\eta_{B}} P{\\left (\\eta_{A},\\eta_{B},t \\right )} + k_{1} P{\\left (\\eta_{A},\\eta_{B},t \\right )} + k_{2} P{\\left (\\eta_{A},\\eta_{B},t \\right )} - \\frac{\\eta_{A} k_{1}}{2 V} \\frac{\\partial^{3}}{\\partial \\eta_{A}^{2}\\partial \\eta_{B}}  P{\\left (\\eta_{A},\\eta_{B},t \\right )} + \\frac{\\eta_{A} k_{1}}{2 V} \\frac{\\partial^{3}}{\\partial \\eta_{A}\\partial \\eta_{B}^{2}}  P{\\left (\\eta_{A},\\eta_{B},t \\right )} + \\frac{\\eta_{B} k_{2}}{2 V} \\frac{\\partial^{3}}{\\partial \\eta_{A}^{2}\\partial \\eta_{B}}  P{\\left (\\eta_{A},\\eta_{B},t \\right )} - \\frac{\\eta_{B} k_{2}}{2 V} \\frac{\\partial^{3}}{\\partial \\eta_{A}\\partial \\eta_{B}^{2}}  P{\\left (\\eta_{A},\\eta_{B},t \\right )} - \\frac{k_{1}}{V} \\frac{\\partial^{2}}{\\partial \\eta_{A}\\partial \\eta_{B}}  P{\\left (\\eta_{A},\\eta_{B},t \\right )} + \\frac{k_{1}}{2 V} \\frac{\\partial^{2}}{\\partial \\eta_{B}^{2}}  P{\\left (\\eta_{A},\\eta_{B},t \\right )} + \\frac{k_{2}}{2 V} \\frac{\\partial^{2}}{\\partial \\eta_{A}^{2}}  P{\\left (\\eta_{A},\\eta_{B},t \\right )} - \\frac{k_{2}}{V} \\frac{\\partial^{2}}{\\partial \\eta_{A}\\partial \\eta_{B}}  P{\\left (\\eta_{A},\\eta_{B},t \\right )} + \\frac{\\eta_{A} k_{1}}{2 \\sqrt{V}} \\frac{\\partial^{2}}{\\partial \\eta_{A}^{2}}  P{\\left (\\eta_{A},\\eta_{B},t \\right )} - \\frac{\\eta_{A} k_{1}}{\\sqrt{V}} \\frac{\\partial^{2}}{\\partial \\eta_{A}\\partial \\eta_{B}}  P{\\left (\\eta_{A},\\eta_{B},t \\right )} + \\frac{\\eta_{A} k_{1}}{2 \\sqrt{V}} \\frac{\\partial^{2}}{\\partial \\eta_{B}^{2}}  P{\\left (\\eta_{A},\\eta_{B},t \\right )} + \\frac{\\eta_{B} k_{2}}{2 \\sqrt{V}} \\frac{\\partial^{2}}{\\partial \\eta_{A}^{2}}  P{\\left (\\eta_{A},\\eta_{B},t \\right )} - \\frac{\\eta_{B} k_{2}}{\\sqrt{V}} \\frac{\\partial^{2}}{\\partial \\eta_{A}\\partial \\eta_{B}}  P{\\left (\\eta_{A},\\eta_{B},t \\right )} + \\frac{\\eta_{B} k_{2}}{2 \\sqrt{V}} \\frac{\\partial^{2}}{\\partial \\eta_{B}^{2}}  P{\\left (\\eta_{A},\\eta_{B},t \\right )} + \\frac{k_{1}}{\\sqrt{V}} \\frac{\\partial}{\\partial \\eta_{A}} P{\\left (\\eta_{A},\\eta_{B},t \\right )} - \\frac{k_{1}}{\\sqrt{V}} \\frac{\\partial}{\\partial \\eta_{B}} P{\\left (\\eta_{A},\\eta_{B},t \\right )} - \\frac{k_{2}}{\\sqrt{V}} \\frac{\\partial}{\\partial \\eta_{A}} P{\\left (\\eta_{A},\\eta_{B},t \\right )} + \\frac{k_{2}}{\\sqrt{V}} \\frac{\\partial}{\\partial \\eta_{B}} P{\\left (\\eta_{A},\\eta_{B},t \\right )} + \\frac{\\eta_{A} k_{1}}{4 V^{\\frac{3}{2}}} \\frac{\\partial^{4}}{\\partial \\eta_{A}^{2}\\partial \\eta_{B}^{2}}  P{\\left (\\eta_{A},\\eta_{B},t \\right )} + \\frac{\\eta_{B} k_{2}}{4 V^{\\frac{3}{2}}} \\frac{\\partial^{4}}{\\partial \\eta_{A}^{2}\\partial \\eta_{B}^{2}}  P{\\left (\\eta_{A},\\eta_{B},t \\right )} + \\frac{k_{1}}{2 V^{\\frac{3}{2}}} \\frac{\\partial^{3}}{\\partial \\eta_{A}\\partial \\eta_{B}^{2}}  P{\\left (\\eta_{A},\\eta_{B},t \\right )} + \\frac{k_{2}}{2 V^{\\frac{3}{2}}} \\frac{\\partial^{3}}{\\partial \\eta_{A}^{2}\\partial \\eta_{B}}  P{\\left (\\eta_{A},\\eta_{B},t \\right )}$$"
      ],
      "text/plain": [
       "<IPython.core.display.Math object>"
      ]
     },
     "metadata": {},
     "output_type": "display_data"
    }
   ],
   "source": [
    "model3.showVanKampenExpansion()"
   ]
  },
  {
   "cell_type": "code",
   "execution_count": 31,
   "metadata": {},
   "outputs": [
    {
     "data": {
      "text/latex": [
       "$$\\frac{d}{d t} \\Phi_{B} := \\Phi_{A} k_{1} - \\Phi_{B} k_{2}$$"
      ],
      "text/plain": [
       "<IPython.core.display.Math object>"
      ]
     },
     "metadata": {},
     "output_type": "display_data"
    },
    {
     "data": {
      "text/latex": [
       "$$\\frac{d}{d t} \\Phi_{A} := - \\Phi_{A} k_{1} + \\Phi_{B} k_{2}$$"
      ],
      "text/plain": [
       "<IPython.core.display.Math object>"
      ]
     },
     "metadata": {},
     "output_type": "display_data"
    }
   ],
   "source": [
    "model3.showODEs_vKE()"
   ]
  },
  {
   "cell_type": "code",
   "execution_count": 32,
   "metadata": {},
   "outputs": [
    {
     "data": {
      "text/latex": [
       "$$\\frac{\\partial}{\\partial t} P{\\left (\\eta_{A},\\eta_{B},t \\right )} := \\frac{\\Phi_{A} k_{1}}{2} \\frac{\\partial^{2}}{\\partial \\eta_{A}^{2}}  P{\\left (\\eta_{A},\\eta_{B},t \\right )} - \\Phi_{A} k_{1} \\frac{\\partial^{2}}{\\partial \\eta_{A}\\partial \\eta_{B}}  P{\\left (\\eta_{A},\\eta_{B},t \\right )} + \\frac{\\Phi_{A} k_{1}}{2} \\frac{\\partial^{2}}{\\partial \\eta_{B}^{2}}  P{\\left (\\eta_{A},\\eta_{B},t \\right )} + \\frac{\\Phi_{B} k_{2}}{2} \\frac{\\partial^{2}}{\\partial \\eta_{A}^{2}}  P{\\left (\\eta_{A},\\eta_{B},t \\right )} - \\Phi_{B} k_{2} \\frac{\\partial^{2}}{\\partial \\eta_{A}\\partial \\eta_{B}}  P{\\left (\\eta_{A},\\eta_{B},t \\right )} + \\frac{\\Phi_{B} k_{2}}{2} \\frac{\\partial^{2}}{\\partial \\eta_{B}^{2}}  P{\\left (\\eta_{A},\\eta_{B},t \\right )} + \\eta_{A} k_{1} \\frac{\\partial}{\\partial \\eta_{A}} P{\\left (\\eta_{A},\\eta_{B},t \\right )} - \\eta_{A} k_{1} \\frac{\\partial}{\\partial \\eta_{B}} P{\\left (\\eta_{A},\\eta_{B},t \\right )} - \\eta_{B} k_{2} \\frac{\\partial}{\\partial \\eta_{A}} P{\\left (\\eta_{A},\\eta_{B},t \\right )} + \\eta_{B} k_{2} \\frac{\\partial}{\\partial \\eta_{B}} P{\\left (\\eta_{A},\\eta_{B},t \\right )} + k_{1} P{\\left (\\eta_{A},\\eta_{B},t \\right )} + k_{2} P{\\left (\\eta_{A},\\eta_{B},t \\right )}$$"
      ],
      "text/plain": [
       "<IPython.core.display.Math object>"
      ]
     },
     "metadata": {},
     "output_type": "display_data"
    }
   ],
   "source": [
    "model3.showFokkerPlanckEquation()"
   ]
  },
  {
   "cell_type": "code",
   "execution_count": 33,
   "metadata": {},
   "outputs": [
    {
     "data": {
      "text/latex": [
       "$\n",
       "U -> A : g_1\n",
       "U -> B : g_2\n",
       "U -> C : g_3\n",
       "A -> U : a_1\n",
       "B -> U : a_2\n",
       "C -> U : a_3\n",
       "A + U -> A + A : r_1\n",
       "B + U -> B + B : r_2\n",
       "C + U -> C + C : r_2\n",
       "A + B -> A + U : s_1\n",
       "A + B -> B + U : s_2\n",
       "A + C -> A + U : s_3\n",
       "A + C -> C + U : s_4\n",
       "B + C -> B + U : s_5\n",
       "B + C -> C + U : s_6\n",
       "$"
      ],
      "text/plain": [
       "<IPython.core.display.Latex object>"
      ]
     },
     "metadata": {},
     "output_type": "display_data"
    }
   ],
   "source": [
    "%%model\n",
    "$\n",
    "U -> A : g_1\n",
    "U -> B : g_2\n",
    "U -> C : g_3\n",
    "A -> U : a_1\n",
    "B -> U : a_2\n",
    "C -> U : a_3\n",
    "A + U -> A + A : r_1\n",
    "B + U -> B + B : r_2\n",
    "C + U -> C + C : r_2\n",
    "A + B -> A + U : s_1\n",
    "A + B -> B + U : s_2\n",
    "A + C -> A + U : s_3\n",
    "A + C -> C + U : s_4\n",
    "B + C -> B + U : s_5\n",
    "B + C -> C + U : s_6\n",
    "$"
   ]
  },
  {
   "cell_type": "code",
   "execution_count": 36,
   "metadata": {},
   "outputs": [],
   "source": [
    "model4 = mmt.parseModel(In[12])"
   ]
  },
  {
   "cell_type": "code",
   "execution_count": 37,
   "metadata": {},
   "outputs": [
    {
     "data": {
      "text/latex": [
       "$$\\displaystyle \\frac{\\textrm{d}<\\eta_{U}>}{\\textrm{d}t} := <\\eta_{A}> \\left(\\Phi_{B} s_{1} + \\Phi_{B} s_{2} - \\Phi_{U} r_{1} + a_{1}\\right) + <\\eta_{B}> \\left(\\Phi_{A} s_{1} + \\Phi_{A} s_{2} - \\Phi_{U} r_{2} + a_{2}\\right) + <\\eta_{U}> \\left(- \\Phi_{A} r_{1} - \\Phi_{B} r_{2} - g_{1} - g_{2}\\right)$$"
      ],
      "text/plain": [
       "<IPython.core.display.Math object>"
      ]
     },
     "metadata": {},
     "output_type": "display_data"
    },
    {
     "data": {
      "text/latex": [
       "$$\\displaystyle \\frac{\\textrm{d}<\\eta_{A}>}{\\textrm{d}t} := <\\eta_{A}> \\left(- \\Phi_{B} s_{2} + \\Phi_{U} r_{1} - a_{1}\\right) - <\\eta_{B}> \\Phi_{A} s_{2} + <\\eta_{U}> \\left(\\Phi_{A} r_{1} + g_{1}\\right)$$"
      ],
      "text/plain": [
       "<IPython.core.display.Math object>"
      ]
     },
     "metadata": {},
     "output_type": "display_data"
    },
    {
     "data": {
      "text/latex": [
       "$$\\displaystyle \\frac{\\textrm{d}<\\eta_{B}>}{\\textrm{d}t} := - <\\eta_{A}> \\Phi_{B} s_{1} + <\\eta_{B}> \\left(- \\Phi_{A} s_{1} + \\Phi_{U} r_{2} - a_{2}\\right) + <\\eta_{U}> \\left(\\Phi_{B} r_{2} + g_{2}\\right)$$"
      ],
      "text/plain": [
       "<IPython.core.display.Math object>"
      ]
     },
     "metadata": {},
     "output_type": "display_data"
    },
    {
     "data": {
      "text/latex": [
       "$$\\displaystyle \\frac{\\textrm{d}<\\eta_{B}^{2}>}{\\textrm{d}t} := - 2 <\\eta_{A} \\eta_{B}> \\Phi_{B} s_{1} + 2 <\\eta_{B} \\eta_{U}> \\left(\\Phi_{B} r_{2} + g_{2}\\right) - 2 <\\eta_{B}^{2}> \\left(\\Phi_{A} s_{1} - \\Phi_{U} r_{2} + a_{2}\\right) + \\Phi_{A} \\Phi_{B} s_{1} + \\Phi_{B} \\Phi_{U} r_{2} + \\Phi_{B} a_{2} + \\Phi_{U} g_{2}$$"
      ],
      "text/plain": [
       "<IPython.core.display.Math object>"
      ]
     },
     "metadata": {},
     "output_type": "display_data"
    },
    {
     "data": {
      "text/latex": [
       "$$\\displaystyle \\frac{\\textrm{d}<\\eta_{U}^{2}>}{\\textrm{d}t} := 2 <\\eta_{A} \\eta_{U}> \\left(\\Phi_{B} s_{1} + \\Phi_{B} s_{2} - \\Phi_{U} r_{1} + a_{1}\\right) + 2 <\\eta_{B} \\eta_{U}> \\left(\\Phi_{A} s_{1} + \\Phi_{A} s_{2} - \\Phi_{U} r_{2} + a_{2}\\right) - 2 <\\eta_{U}^{2}> \\left(\\Phi_{A} r_{1} + \\Phi_{B} r_{2} + g_{1} + g_{2}\\right) + \\Phi_{A} \\Phi_{B} s_{1} + \\Phi_{A} \\Phi_{B} s_{2} + \\Phi_{A} \\Phi_{U} r_{1} + \\Phi_{A} a_{1} + \\Phi_{B} \\Phi_{U} r_{2} + \\Phi_{B} a_{2} + \\Phi_{U} g_{1} + \\Phi_{U} g_{2}$$"
      ],
      "text/plain": [
       "<IPython.core.display.Math object>"
      ]
     },
     "metadata": {},
     "output_type": "display_data"
    },
    {
     "data": {
      "text/latex": [
       "$$\\displaystyle \\frac{\\textrm{d}<\\eta_{A}^{2}>}{\\textrm{d}t} := - 2 <\\eta_{A} \\eta_{B}> \\Phi_{A} s_{2} + 2 <\\eta_{A} \\eta_{U}> \\left(\\Phi_{A} r_{1} + g_{1}\\right) - 2 <\\eta_{A}^{2}> \\left(\\Phi_{B} s_{2} - \\Phi_{U} r_{1} + a_{1}\\right) + \\Phi_{A} \\Phi_{B} s_{2} + \\Phi_{A} \\Phi_{U} r_{1} + \\Phi_{A} a_{1} + \\Phi_{U} g_{1}$$"
      ],
      "text/plain": [
       "<IPython.core.display.Math object>"
      ]
     },
     "metadata": {},
     "output_type": "display_data"
    },
    {
     "data": {
      "text/latex": [
       "$$\\displaystyle \\frac{\\textrm{d}<\\eta_{A} \\eta_{U}>}{\\textrm{d}t} := <\\eta_{A} \\eta_{B}> \\left(\\Phi_{A} s_{1} + \\Phi_{A} s_{2} - \\Phi_{U} r_{2} + a_{2}\\right) - <\\eta_{A} \\eta_{U}> \\left(\\Phi_{A} r_{1} + \\Phi_{B} r_{2} + \\Phi_{B} s_{2} - \\Phi_{U} r_{1} + a_{1} + g_{1} + g_{2}\\right) + <\\eta_{A}^{2}> \\left(\\Phi_{B} s_{1} + \\Phi_{B} s_{2} - \\Phi_{U} r_{1} + a_{1}\\right) - <\\eta_{B} \\eta_{U}> \\Phi_{A} s_{2} + <\\eta_{U}^{2}> \\left(\\Phi_{A} r_{1} + g_{1}\\right) - \\Phi_{A} \\Phi_{B} s_{2} - \\Phi_{A} \\Phi_{U} r_{1} - \\Phi_{A} a_{1} - \\Phi_{U} g_{1}$$"
      ],
      "text/plain": [
       "<IPython.core.display.Math object>"
      ]
     },
     "metadata": {},
     "output_type": "display_data"
    },
    {
     "data": {
      "text/latex": [
       "$$\\displaystyle \\frac{\\textrm{d}<\\eta_{A} \\eta_{B}>}{\\textrm{d}t} := - <\\eta_{A} \\eta_{B}> \\left(\\Phi_{A} s_{1} + \\Phi_{B} s_{2} - \\Phi_{U} r_{1} - \\Phi_{U} r_{2} + a_{1} + a_{2}\\right) + <\\eta_{A} \\eta_{U}> \\left(\\Phi_{B} r_{2} + g_{2}\\right) - <\\eta_{A}^{2}> \\Phi_{B} s_{1} + <\\eta_{B} \\eta_{U}> \\left(\\Phi_{A} r_{1} + g_{1}\\right) - <\\eta_{B}^{2}> \\Phi_{A} s_{2}$$"
      ],
      "text/plain": [
       "<IPython.core.display.Math object>"
      ]
     },
     "metadata": {},
     "output_type": "display_data"
    },
    {
     "data": {
      "text/latex": [
       "$$\\displaystyle \\frac{\\textrm{d}<\\eta_{B} \\eta_{U}>}{\\textrm{d}t} := <\\eta_{A} \\eta_{B}> \\left(\\Phi_{B} s_{1} + \\Phi_{B} s_{2} - \\Phi_{U} r_{1} + a_{1}\\right) - <\\eta_{A} \\eta_{U}> \\Phi_{B} s_{1} - <\\eta_{B} \\eta_{U}> \\left(\\Phi_{A} r_{1} + \\Phi_{A} s_{1} + \\Phi_{B} r_{2} - \\Phi_{U} r_{2} + a_{2} + g_{1} + g_{2}\\right) + <\\eta_{B}^{2}> \\left(\\Phi_{A} s_{1} + \\Phi_{A} s_{2} - \\Phi_{U} r_{2} + a_{2}\\right) + <\\eta_{U}^{2}> \\left(\\Phi_{B} r_{2} + g_{2}\\right) - \\Phi_{A} \\Phi_{B} s_{1} - \\Phi_{B} \\Phi_{U} r_{2} - \\Phi_{B} a_{2} - \\Phi_{U} g_{2}$$"
      ],
      "text/plain": [
       "<IPython.core.display.Math object>"
      ]
     },
     "metadata": {},
     "output_type": "display_data"
    }
   ],
   "source": [
    "model4.showNoiseEOM()"
   ]
  },
  {
   "cell_type": "code",
   "execution_count": 38,
   "metadata": {},
   "outputs": [
    {
     "data": {
      "text/latex": [
       "$$a_{2}\\; (Reaction 4)$$"
      ],
      "text/plain": [
       "<IPython.core.display.Math object>"
      ]
     },
     "metadata": {},
     "output_type": "display_data"
    },
    {
     "data": {
      "text/latex": [
       "$$s_{2}\\; (Reaction 8)$$"
      ],
      "text/plain": [
       "<IPython.core.display.Math object>"
      ]
     },
     "metadata": {},
     "output_type": "display_data"
    },
    {
     "data": {
      "text/latex": [
       "$$a_{1}\\; (Reaction 3)$$"
      ],
      "text/plain": [
       "<IPython.core.display.Math object>"
      ]
     },
     "metadata": {},
     "output_type": "display_data"
    },
    {
     "data": {
      "text/latex": [
       "$$r_{2}\\; (Reaction 6)$$"
      ],
      "text/plain": [
       "<IPython.core.display.Math object>"
      ]
     },
     "metadata": {},
     "output_type": "display_data"
    },
    {
     "data": {
      "text/latex": [
       "$$g_{1}\\; (Reaction 1)$$"
      ],
      "text/plain": [
       "<IPython.core.display.Math object>"
      ]
     },
     "metadata": {},
     "output_type": "display_data"
    },
    {
     "data": {
      "text/latex": [
       "$$g_{2}\\; (Reaction 2)$$"
      ],
      "text/plain": [
       "<IPython.core.display.Math object>"
      ]
     },
     "metadata": {},
     "output_type": "display_data"
    },
    {
     "data": {
      "text/latex": [
       "$$r_{1}\\; (Reaction 5)$$"
      ],
      "text/plain": [
       "<IPython.core.display.Math object>"
      ]
     },
     "metadata": {},
     "output_type": "display_data"
    },
    {
     "data": {
      "text/latex": [
       "$$s_{1}\\; (Reaction 7)$$"
      ],
      "text/plain": [
       "<IPython.core.display.Math object>"
      ]
     },
     "metadata": {},
     "output_type": "display_data"
    }
   ],
   "source": [
    "model4.showRates()"
   ]
  },
  {
   "cell_type": "code",
   "execution_count": 39,
   "metadata": {},
   "outputs": [
    {
     "data": {
      "text/latex": [
       "$$s_{1}$$"
      ],
      "text/plain": [
       "<IPython.core.display.Math object>"
      ]
     },
     "metadata": {},
     "output_type": "display_data"
    },
    {
     "data": {
      "text/latex": [
       "$$r_{2}$$"
      ],
      "text/plain": [
       "<IPython.core.display.Math object>"
      ]
     },
     "metadata": {},
     "output_type": "display_data"
    },
    {
     "data": {
      "text/latex": [
       "$$a_{2}$$"
      ],
      "text/plain": [
       "<IPython.core.display.Math object>"
      ]
     },
     "metadata": {},
     "output_type": "display_data"
    },
    {
     "data": {
      "text/latex": [
       "$$a_{1}$$"
      ],
      "text/plain": [
       "<IPython.core.display.Math object>"
      ]
     },
     "metadata": {},
     "output_type": "display_data"
    },
    {
     "data": {
      "text/latex": [
       "$$r_{1}$$"
      ],
      "text/plain": [
       "<IPython.core.display.Math object>"
      ]
     },
     "metadata": {},
     "output_type": "display_data"
    },
    {
     "data": {
      "text/latex": [
       "$$g_{2}$$"
      ],
      "text/plain": [
       "<IPython.core.display.Math object>"
      ]
     },
     "metadata": {},
     "output_type": "display_data"
    },
    {
     "data": {
      "text/latex": [
       "$$s_{2}$$"
      ],
      "text/plain": [
       "<IPython.core.display.Math object>"
      ]
     },
     "metadata": {},
     "output_type": "display_data"
    },
    {
     "data": {
      "text/latex": [
       "$$g_{1}$$"
      ],
      "text/plain": [
       "<IPython.core.display.Math object>"
      ]
     },
     "metadata": {},
     "output_type": "display_data"
    }
   ],
   "source": [
    "model4.showRatesOLD()"
   ]
  },
  {
   "cell_type": "code",
   "execution_count": 40,
   "metadata": {},
   "outputs": [
    {
     "data": {
      "text/latex": [
       "$$A$$"
      ],
      "text/plain": [
       "<IPython.core.display.Math object>"
      ]
     },
     "metadata": {},
     "output_type": "display_data"
    },
    {
     "data": {
      "text/latex": [
       "$$B$$"
      ],
      "text/plain": [
       "<IPython.core.display.Math object>"
      ]
     },
     "metadata": {},
     "output_type": "display_data"
    },
    {
     "data": {
      "text/latex": [
       "$$U$$"
      ],
      "text/plain": [
       "<IPython.core.display.Math object>"
      ]
     },
     "metadata": {},
     "output_type": "display_data"
    }
   ],
   "source": [
    "model4.showReactants()"
   ]
  },
  {
   "cell_type": "code",
   "execution_count": 41,
   "metadata": {},
   "outputs": [
    {
     "data": {
      "text/latex": [
       "$$\\displaystyle \\frac{\\textrm{d}A}{\\textrm{d}t} := - A B s_{2} + A U r_{1} - A a_{1} + U g_{1}$$"
      ],
      "text/plain": [
       "<IPython.core.display.Math object>"
      ]
     },
     "metadata": {},
     "output_type": "display_data"
    },
    {
     "data": {
      "text/latex": [
       "$$\\displaystyle \\frac{\\textrm{d}U}{\\textrm{d}t} := A B s_{1} + A B s_{2} - A U r_{1} + A a_{1} - B U r_{2} + B a_{2} - U g_{1} - U g_{2}$$"
      ],
      "text/plain": [
       "<IPython.core.display.Math object>"
      ]
     },
     "metadata": {},
     "output_type": "display_data"
    },
    {
     "data": {
      "text/latex": [
       "$$\\displaystyle \\frac{\\textrm{d}B}{\\textrm{d}t} := - A B s_{1} + B U r_{2} - B a_{2} + U g_{2}$$"
      ],
      "text/plain": [
       "<IPython.core.display.Math object>"
      ]
     },
     "metadata": {},
     "output_type": "display_data"
    }
   ],
   "source": [
    "model4.showODEs()"
   ]
  },
  {
   "cell_type": "code",
   "execution_count": 42,
   "metadata": {},
   "outputs": [
    {
     "data": {
      "text/latex": [
       "$$\\left \\{ Reaction 1 : \\left \\{ rate : g_{1}, \\quad A : \\left [ 0, \\quad 1\\right ], \\quad U : \\left [ 1, \\quad 0\\right ]\\right \\}, \\quad Reaction 2 : \\left \\{ rate : g_{2}, \\quad B : \\left [ 0, \\quad 1\\right ], \\quad U : \\left [ 1, \\quad 0\\right ]\\right \\}, \\quad Reaction 3 : \\left \\{ rate : a_{1}, \\quad A : \\left [ 1, \\quad 0\\right ], \\quad U : \\left [ 0, \\quad 1\\right ]\\right \\}, \\quad Reaction 4 : \\left \\{ rate : a_{2}, \\quad B : \\left [ 1, \\quad 0\\right ], \\quad U : \\left [ 0, \\quad 1\\right ]\\right \\}, \\quad Reaction 5 : \\left \\{ rate : r_{1}, \\quad A : \\left [ 1, \\quad 2\\right ], \\quad U : \\left [ 1, \\quad 0\\right ]\\right \\}, \\quad Reaction 6 : \\left \\{ rate : r_{2}, \\quad B : \\left [ 1, \\quad 2\\right ], \\quad U : \\left [ 1, \\quad 0\\right ]\\right \\}, \\quad Reaction 7 : \\left \\{ rate : s_{1}, \\quad A : \\left [ 1, \\quad 1\\right ], \\quad B : \\left [ 1, \\quad 0\\right ], \\quad U : \\left [ 0, \\quad 1\\right ]\\right \\}, \\quad Reaction 8 : \\left \\{ rate : s_{2}, \\quad A : \\left [ 1, \\quad 0\\right ], \\quad B : \\left [ 1, \\quad 1\\right ], \\quad U : \\left [ 0, \\quad 1\\right ]\\right \\}\\right \\}$$"
      ],
      "text/plain": [
       "<IPython.core.display.Math object>"
      ]
     },
     "metadata": {},
     "output_type": "display_data"
    }
   ],
   "source": [
    "model4.showStoichiometry()"
   ]
  },
  {
   "cell_type": "code",
   "execution_count": 43,
   "metadata": {},
   "outputs": [
    {
     "data": {
      "text/latex": [
       "$$\\frac{\\partial}{\\partial t} P{\\left (A,B,U,t \\right )}:= a_{2} ( \\operatorname{E_{op}}{\\left (B,1 \\right )} \\operatorname{E_{op}}{\\left (U,-1 \\right )} - 1 ) BP{\\left (A,B,U,t \\right )} + s_{2} ( \\operatorname{E_{op}}{\\left (A,1 \\right )} \\operatorname{E_{op}}{\\left (B,0 \\right )} \\operatorname{E_{op}}{\\left (U,-1 \\right )} - 1 ) \\frac{A B}{V}P{\\left (A,B,U,t \\right )} + a_{1} ( \\operatorname{E_{op}}{\\left (A,1 \\right )} \\operatorname{E_{op}}{\\left (U,-1 \\right )} - 1 ) AP{\\left (A,B,U,t \\right )} + r_{2} ( \\operatorname{E_{op}}{\\left (B,-1 \\right )} \\operatorname{E_{op}}{\\left (U,1 \\right )} - 1 ) \\frac{B U}{V}P{\\left (A,B,U,t \\right )} + g_{1} ( \\operatorname{E_{op}}{\\left (A,-1 \\right )} \\operatorname{E_{op}}{\\left (U,1 \\right )} - 1 ) UP{\\left (A,B,U,t \\right )} + g_{2} ( \\operatorname{E_{op}}{\\left (B,-1 \\right )} \\operatorname{E_{op}}{\\left (U,1 \\right )} - 1 ) UP{\\left (A,B,U,t \\right )} + r_{1} ( \\operatorname{E_{op}}{\\left (A,-1 \\right )} \\operatorname{E_{op}}{\\left (U,1 \\right )} - 1 ) \\frac{A U}{V}P{\\left (A,B,U,t \\right )} + s_{1} ( \\operatorname{E_{op}}{\\left (A,0 \\right )} \\operatorname{E_{op}}{\\left (B,1 \\right )} \\operatorname{E_{op}}{\\left (U,-1 \\right )} - 1 ) \\frac{A B}{V}P{\\left (A,B,U,t \\right )}$$"
      ],
      "text/plain": [
       "<IPython.core.display.Math object>"
      ]
     },
     "metadata": {},
     "output_type": "display_data"
    }
   ],
   "source": [
    "model4.showMasterEquation()"
   ]
  },
  {
   "cell_type": "code",
   "execution_count": 44,
   "metadata": {},
   "outputs": [
    {
     "data": {
      "text/latex": [
       "$$- \\sqrt{V} \\frac{d}{d t} \\Phi_{A} \\frac{\\partial}{\\partial \\eta_{A}} P{\\left (\\eta_{A},\\eta_{B},\\eta_{U},t \\right )} - \\sqrt{V} \\frac{d}{d t} \\Phi_{B} \\frac{\\partial}{\\partial \\eta_{B}} P{\\left (\\eta_{A},\\eta_{B},\\eta_{U},t \\right )} - \\sqrt{V} \\frac{d}{d t} \\Phi_{U} \\frac{\\partial}{\\partial \\eta_{U}} P{\\left (\\eta_{A},\\eta_{B},\\eta_{U},t \\right )} + \\frac{\\partial}{\\partial t} P{\\left (\\eta_{A},\\eta_{B},\\eta_{U},t \\right )} := \n",
       "\\Phi_{A} \\Phi_{B} \\sqrt{V} s_{1} \\frac{\\partial}{\\partial \\eta_{B}} P{\\left (\\eta_{A},\\eta_{B},\\eta_{U},t \\right )} - \\Phi_{A} \\Phi_{B} \\sqrt{V} s_{1} \\frac{\\partial}{\\partial \\eta_{U}} P{\\left (\\eta_{A},\\eta_{B},\\eta_{U},t \\right )} + \\Phi_{A} \\Phi_{B} \\sqrt{V} s_{2} \\frac{\\partial}{\\partial \\eta_{A}} P{\\left (\\eta_{A},\\eta_{B},\\eta_{U},t \\right )} - \\Phi_{A} \\Phi_{B} \\sqrt{V} s_{2} \\frac{\\partial}{\\partial \\eta_{U}} P{\\left (\\eta_{A},\\eta_{B},\\eta_{U},t \\right )} + \\frac{\\Phi_{A} \\Phi_{B}}{2} s_{1} \\frac{\\partial^{2}}{\\partial \\eta_{B}^{2}}  P{\\left (\\eta_{A},\\eta_{B},\\eta_{U},t \\right )} - \\Phi_{A} \\Phi_{B} s_{1} \\frac{\\partial^{2}}{\\partial \\eta_{B}\\partial \\eta_{U}}  P{\\left (\\eta_{A},\\eta_{B},\\eta_{U},t \\right )} + \\frac{\\Phi_{A} \\Phi_{B}}{2} s_{1} \\frac{\\partial^{2}}{\\partial \\eta_{U}^{2}}  P{\\left (\\eta_{A},\\eta_{B},\\eta_{U},t \\right )} + \\frac{\\Phi_{A} \\Phi_{B}}{2} s_{2} \\frac{\\partial^{2}}{\\partial \\eta_{A}^{2}}  P{\\left (\\eta_{A},\\eta_{B},\\eta_{U},t \\right )} - \\Phi_{A} \\Phi_{B} s_{2} \\frac{\\partial^{2}}{\\partial \\eta_{A}\\partial \\eta_{U}}  P{\\left (\\eta_{A},\\eta_{B},\\eta_{U},t \\right )} + \\frac{\\Phi_{A} \\Phi_{B}}{2} s_{2} \\frac{\\partial^{2}}{\\partial \\eta_{U}^{2}}  P{\\left (\\eta_{A},\\eta_{B},\\eta_{U},t \\right )} + \\frac{\\Phi_{A} \\Phi_{B} s_{1}}{4 V} \\frac{\\partial^{4}}{\\partial \\eta_{B}^{2}\\partial \\eta_{U}^{2}}  P{\\left (\\eta_{A},\\eta_{B},\\eta_{U},t \\right )} + \\frac{\\Phi_{A} \\Phi_{B} s_{2}}{4 V} \\frac{\\partial^{4}}{\\partial \\eta_{A}^{2}\\partial \\eta_{U}^{2}}  P{\\left (\\eta_{A},\\eta_{B},\\eta_{U},t \\right )} - \\frac{\\Phi_{A} \\Phi_{B} s_{1}}{2 \\sqrt{V}} \\frac{\\partial^{3}}{\\partial \\eta_{B}^{2}\\partial \\eta_{U}}  P{\\left (\\eta_{A},\\eta_{B},\\eta_{U},t \\right )} + \\frac{\\Phi_{A} \\Phi_{B} s_{1}}{2 \\sqrt{V}} \\frac{\\partial^{3}}{\\partial \\eta_{B}\\partial \\eta_{U}^{2}}  P{\\left (\\eta_{A},\\eta_{B},\\eta_{U},t \\right )} - \\frac{\\Phi_{A} \\Phi_{B} s_{2}}{2 \\sqrt{V}} \\frac{\\partial^{3}}{\\partial \\eta_{A}^{2}\\partial \\eta_{U}}  P{\\left (\\eta_{A},\\eta_{B},\\eta_{U},t \\right )} + \\frac{\\Phi_{A} \\Phi_{B} s_{2}}{2 \\sqrt{V}} \\frac{\\partial^{3}}{\\partial \\eta_{A}\\partial \\eta_{U}^{2}}  P{\\left (\\eta_{A},\\eta_{B},\\eta_{U},t \\right )} - \\Phi_{A} \\Phi_{U} \\sqrt{V} r_{1} \\frac{\\partial}{\\partial \\eta_{A}} P{\\left (\\eta_{A},\\eta_{B},\\eta_{U},t \\right )} + \\Phi_{A} \\Phi_{U} \\sqrt{V} r_{1} \\frac{\\partial}{\\partial \\eta_{U}} P{\\left (\\eta_{A},\\eta_{B},\\eta_{U},t \\right )} + \\frac{\\Phi_{A} \\Phi_{U}}{2} r_{1} \\frac{\\partial^{2}}{\\partial \\eta_{A}^{2}}  P{\\left (\\eta_{A},\\eta_{B},\\eta_{U},t \\right )} - \\Phi_{A} \\Phi_{U} r_{1} \\frac{\\partial^{2}}{\\partial \\eta_{A}\\partial \\eta_{U}}  P{\\left (\\eta_{A},\\eta_{B},\\eta_{U},t \\right )} + \\frac{\\Phi_{A} \\Phi_{U}}{2} r_{1} \\frac{\\partial^{2}}{\\partial \\eta_{U}^{2}}  P{\\left (\\eta_{A},\\eta_{B},\\eta_{U},t \\right )} + \\frac{\\Phi_{A} \\Phi_{U} r_{1}}{4 V} \\frac{\\partial^{4}}{\\partial \\eta_{A}^{2}\\partial \\eta_{U}^{2}}  P{\\left (\\eta_{A},\\eta_{B},\\eta_{U},t \\right )} + \\frac{\\Phi_{A} \\Phi_{U} r_{1}}{2 \\sqrt{V}} \\frac{\\partial^{3}}{\\partial \\eta_{A}^{2}\\partial \\eta_{U}}  P{\\left (\\eta_{A},\\eta_{B},\\eta_{U},t \\right )} - \\frac{\\Phi_{A} \\Phi_{U} r_{1}}{2 \\sqrt{V}} \\frac{\\partial^{3}}{\\partial \\eta_{A}\\partial \\eta_{U}^{2}}  P{\\left (\\eta_{A},\\eta_{B},\\eta_{U},t \\right )} + \\Phi_{A} \\sqrt{V} a_{1} \\frac{\\partial}{\\partial \\eta_{A}} P{\\left (\\eta_{A},\\eta_{B},\\eta_{U},t \\right )} - \\Phi_{A} \\sqrt{V} a_{1} \\frac{\\partial}{\\partial \\eta_{U}} P{\\left (\\eta_{A},\\eta_{B},\\eta_{U},t \\right )} + \\frac{\\Phi_{A} a_{1}}{2} \\frac{\\partial^{2}}{\\partial \\eta_{A}^{2}}  P{\\left (\\eta_{A},\\eta_{B},\\eta_{U},t \\right )} - \\Phi_{A} a_{1} \\frac{\\partial^{2}}{\\partial \\eta_{A}\\partial \\eta_{U}}  P{\\left (\\eta_{A},\\eta_{B},\\eta_{U},t \\right )} + \\frac{\\Phi_{A} a_{1}}{2} \\frac{\\partial^{2}}{\\partial \\eta_{U}^{2}}  P{\\left (\\eta_{A},\\eta_{B},\\eta_{U},t \\right )} + \\Phi_{A} \\eta_{B} s_{1} \\frac{\\partial}{\\partial \\eta_{B}} P{\\left (\\eta_{A},\\eta_{B},\\eta_{U},t \\right )} - \\Phi_{A} \\eta_{B} s_{1} \\frac{\\partial}{\\partial \\eta_{U}} P{\\left (\\eta_{A},\\eta_{B},\\eta_{U},t \\right )} + \\Phi_{A} \\eta_{B} s_{2} \\frac{\\partial}{\\partial \\eta_{A}} P{\\left (\\eta_{A},\\eta_{B},\\eta_{U},t \\right )} - \\Phi_{A} \\eta_{B} s_{2} \\frac{\\partial}{\\partial \\eta_{U}} P{\\left (\\eta_{A},\\eta_{B},\\eta_{U},t \\right )} - \\Phi_{A} \\eta_{U} r_{1} \\frac{\\partial}{\\partial \\eta_{A}} P{\\left (\\eta_{A},\\eta_{B},\\eta_{U},t \\right )} + \\Phi_{A} \\eta_{U} r_{1} \\frac{\\partial}{\\partial \\eta_{U}} P{\\left (\\eta_{A},\\eta_{B},\\eta_{U},t \\right )} + \\Phi_{A} r_{1} P{\\left (\\eta_{A},\\eta_{B},\\eta_{U},t \\right )} + \\Phi_{A} s_{1} P{\\left (\\eta_{A},\\eta_{B},\\eta_{U},t \\right )} + \\frac{\\Phi_{A} a_{1}}{4 V} \\frac{\\partial^{4}}{\\partial \\eta_{A}^{2}\\partial \\eta_{U}^{2}}  P{\\left (\\eta_{A},\\eta_{B},\\eta_{U},t \\right )} - \\frac{\\Phi_{A} \\eta_{B} s_{1}}{2 V} \\frac{\\partial^{3}}{\\partial \\eta_{B}^{2}\\partial \\eta_{U}}  P{\\left (\\eta_{A},\\eta_{B},\\eta_{U},t \\right )} + \\frac{\\Phi_{A} \\eta_{B} s_{1}}{2 V} \\frac{\\partial^{3}}{\\partial \\eta_{B}\\partial \\eta_{U}^{2}}  P{\\left (\\eta_{A},\\eta_{B},\\eta_{U},t \\right )} - \\frac{\\Phi_{A} \\eta_{B} s_{2}}{2 V} \\frac{\\partial^{3}}{\\partial \\eta_{A}^{2}\\partial \\eta_{U}}  P{\\left (\\eta_{A},\\eta_{B},\\eta_{U},t \\right )} + \\frac{\\Phi_{A} \\eta_{B} s_{2}}{2 V} \\frac{\\partial^{3}}{\\partial \\eta_{A}\\partial \\eta_{U}^{2}}  P{\\left (\\eta_{A},\\eta_{B},\\eta_{U},t \\right )} + \\frac{\\Phi_{A} \\eta_{U} r_{1}}{2 V} \\frac{\\partial^{3}}{\\partial \\eta_{A}^{2}\\partial \\eta_{U}}  P{\\left (\\eta_{A},\\eta_{B},\\eta_{U},t \\right )} - \\frac{\\Phi_{A} \\eta_{U} r_{1}}{2 V} \\frac{\\partial^{3}}{\\partial \\eta_{A}\\partial \\eta_{U}^{2}}  P{\\left (\\eta_{A},\\eta_{B},\\eta_{U},t \\right )} + \\frac{\\Phi_{A} r_{1}}{2 V} \\frac{\\partial^{2}}{\\partial \\eta_{A}^{2}}  P{\\left (\\eta_{A},\\eta_{B},\\eta_{U},t \\right )} - \\frac{\\Phi_{A} r_{1}}{V} \\frac{\\partial^{2}}{\\partial \\eta_{A}\\partial \\eta_{U}}  P{\\left (\\eta_{A},\\eta_{B},\\eta_{U},t \\right )} - \\frac{\\Phi_{A} s_{1}}{V} \\frac{\\partial^{2}}{\\partial \\eta_{B}\\partial \\eta_{U}}  P{\\left (\\eta_{A},\\eta_{B},\\eta_{U},t \\right )} + \\frac{\\Phi_{A} s_{1}}{2 V} \\frac{\\partial^{2}}{\\partial \\eta_{U}^{2}}  P{\\left (\\eta_{A},\\eta_{B},\\eta_{U},t \\right )} - \\frac{\\Phi_{A} a_{1}}{2 \\sqrt{V}} \\frac{\\partial^{3}}{\\partial \\eta_{A}^{2}\\partial \\eta_{U}}  P{\\left (\\eta_{A},\\eta_{B},\\eta_{U},t \\right )} + \\frac{\\Phi_{A} a_{1}}{2 \\sqrt{V}} \\frac{\\partial^{3}}{\\partial \\eta_{A}\\partial \\eta_{U}^{2}}  P{\\left (\\eta_{A},\\eta_{B},\\eta_{U},t \\right )} + \\frac{\\Phi_{A} \\eta_{B} s_{1}}{2 \\sqrt{V}} \\frac{\\partial^{2}}{\\partial \\eta_{B}^{2}}  P{\\left (\\eta_{A},\\eta_{B},\\eta_{U},t \\right )} - \\frac{\\Phi_{A} \\eta_{B}}{\\sqrt{V}} s_{1} \\frac{\\partial^{2}}{\\partial \\eta_{B}\\partial \\eta_{U}}  P{\\left (\\eta_{A},\\eta_{B},\\eta_{U},t \\right )} + \\frac{\\Phi_{A} \\eta_{B} s_{1}}{2 \\sqrt{V}} \\frac{\\partial^{2}}{\\partial \\eta_{U}^{2}}  P{\\left (\\eta_{A},\\eta_{B},\\eta_{U},t \\right )} + \\frac{\\Phi_{A} \\eta_{B} s_{2}}{2 \\sqrt{V}} \\frac{\\partial^{2}}{\\partial \\eta_{A}^{2}}  P{\\left (\\eta_{A},\\eta_{B},\\eta_{U},t \\right )} - \\frac{\\Phi_{A} \\eta_{B}}{\\sqrt{V}} s_{2} \\frac{\\partial^{2}}{\\partial \\eta_{A}\\partial \\eta_{U}}  P{\\left (\\eta_{A},\\eta_{B},\\eta_{U},t \\right )} + \\frac{\\Phi_{A} \\eta_{B} s_{2}}{2 \\sqrt{V}} \\frac{\\partial^{2}}{\\partial \\eta_{U}^{2}}  P{\\left (\\eta_{A},\\eta_{B},\\eta_{U},t \\right )} + \\frac{\\Phi_{A} \\eta_{U} r_{1}}{2 \\sqrt{V}} \\frac{\\partial^{2}}{\\partial \\eta_{A}^{2}}  P{\\left (\\eta_{A},\\eta_{B},\\eta_{U},t \\right )} - \\frac{\\Phi_{A} \\eta_{U}}{\\sqrt{V}} r_{1} \\frac{\\partial^{2}}{\\partial \\eta_{A}\\partial \\eta_{U}}  P{\\left (\\eta_{A},\\eta_{B},\\eta_{U},t \\right )} + \\frac{\\Phi_{A} \\eta_{U} r_{1}}{2 \\sqrt{V}} \\frac{\\partial^{2}}{\\partial \\eta_{U}^{2}}  P{\\left (\\eta_{A},\\eta_{B},\\eta_{U},t \\right )} - \\frac{\\Phi_{A} r_{1}}{\\sqrt{V}} \\frac{\\partial}{\\partial \\eta_{A}} P{\\left (\\eta_{A},\\eta_{B},\\eta_{U},t \\right )} + \\frac{\\Phi_{A} r_{1}}{\\sqrt{V}} \\frac{\\partial}{\\partial \\eta_{U}} P{\\left (\\eta_{A},\\eta_{B},\\eta_{U},t \\right )} + \\frac{\\Phi_{A} s_{1}}{\\sqrt{V}} \\frac{\\partial}{\\partial \\eta_{B}} P{\\left (\\eta_{A},\\eta_{B},\\eta_{U},t \\right )} - \\frac{\\Phi_{A} s_{1}}{\\sqrt{V}} \\frac{\\partial}{\\partial \\eta_{U}} P{\\left (\\eta_{A},\\eta_{B},\\eta_{U},t \\right )} + \\frac{\\Phi_{A} \\eta_{B} s_{1}}{4 V^{\\frac{3}{2}}} \\frac{\\partial^{4}}{\\partial \\eta_{B}^{2}\\partial \\eta_{U}^{2}}  P{\\left (\\eta_{A},\\eta_{B},\\eta_{U},t \\right )} + \\frac{\\Phi_{A} \\eta_{B} s_{2}}{4 V^{\\frac{3}{2}}} \\frac{\\partial^{4}}{\\partial \\eta_{A}^{2}\\partial \\eta_{U}^{2}}  P{\\left (\\eta_{A},\\eta_{B},\\eta_{U},t \\right )} + \\frac{\\Phi_{A} \\eta_{U} r_{1}}{4 V^{\\frac{3}{2}}} \\frac{\\partial^{4}}{\\partial \\eta_{A}^{2}\\partial \\eta_{U}^{2}}  P{\\left (\\eta_{A},\\eta_{B},\\eta_{U},t \\right )} + \\frac{\\Phi_{A} r_{1}}{2 V^{\\frac{3}{2}}} \\frac{\\partial^{3}}{\\partial \\eta_{A}^{2}\\partial \\eta_{U}}  P{\\left (\\eta_{A},\\eta_{B},\\eta_{U},t \\right )} + \\frac{\\Phi_{A} s_{1}}{2 V^{\\frac{3}{2}}} \\frac{\\partial^{3}}{\\partial \\eta_{B}\\partial \\eta_{U}^{2}}  P{\\left (\\eta_{A},\\eta_{B},\\eta_{U},t \\right )} - \\Phi_{B} \\Phi_{U} \\sqrt{V} r_{2} \\frac{\\partial}{\\partial \\eta_{B}} P{\\left (\\eta_{A},\\eta_{B},\\eta_{U},t \\right )} + \\Phi_{B} \\Phi_{U} \\sqrt{V} r_{2} \\frac{\\partial}{\\partial \\eta_{U}} P{\\left (\\eta_{A},\\eta_{B},\\eta_{U},t \\right )} + \\frac{\\Phi_{B} \\Phi_{U}}{2} r_{2} \\frac{\\partial^{2}}{\\partial \\eta_{B}^{2}}  P{\\left (\\eta_{A},\\eta_{B},\\eta_{U},t \\right )} - \\Phi_{B} \\Phi_{U} r_{2} \\frac{\\partial^{2}}{\\partial \\eta_{B}\\partial \\eta_{U}}  P{\\left (\\eta_{A},\\eta_{B},\\eta_{U},t \\right )} + \\frac{\\Phi_{B} \\Phi_{U}}{2} r_{2} \\frac{\\partial^{2}}{\\partial \\eta_{U}^{2}}  P{\\left (\\eta_{A},\\eta_{B},\\eta_{U},t \\right )} + \\frac{\\Phi_{B} \\Phi_{U} r_{2}}{4 V} \\frac{\\partial^{4}}{\\partial \\eta_{B}^{2}\\partial \\eta_{U}^{2}}  P{\\left (\\eta_{A},\\eta_{B},\\eta_{U},t \\right )} + \\frac{\\Phi_{B} \\Phi_{U} r_{2}}{2 \\sqrt{V}} \\frac{\\partial^{3}}{\\partial \\eta_{B}^{2}\\partial \\eta_{U}}  P{\\left (\\eta_{A},\\eta_{B},\\eta_{U},t \\right )} - \\frac{\\Phi_{B} \\Phi_{U} r_{2}}{2 \\sqrt{V}} \\frac{\\partial^{3}}{\\partial \\eta_{B}\\partial \\eta_{U}^{2}}  P{\\left (\\eta_{A},\\eta_{B},\\eta_{U},t \\right )} + \\Phi_{B} \\sqrt{V} a_{2} \\frac{\\partial}{\\partial \\eta_{B}} P{\\left (\\eta_{A},\\eta_{B},\\eta_{U},t \\right )} - \\Phi_{B} \\sqrt{V} a_{2} \\frac{\\partial}{\\partial \\eta_{U}} P{\\left (\\eta_{A},\\eta_{B},\\eta_{U},t \\right )} + \\frac{\\Phi_{B} a_{2}}{2} \\frac{\\partial^{2}}{\\partial \\eta_{B}^{2}}  P{\\left (\\eta_{A},\\eta_{B},\\eta_{U},t \\right )} - \\Phi_{B} a_{2} \\frac{\\partial^{2}}{\\partial \\eta_{B}\\partial \\eta_{U}}  P{\\left (\\eta_{A},\\eta_{B},\\eta_{U},t \\right )} + \\frac{\\Phi_{B} a_{2}}{2} \\frac{\\partial^{2}}{\\partial \\eta_{U}^{2}}  P{\\left (\\eta_{A},\\eta_{B},\\eta_{U},t \\right )} + \\Phi_{B} \\eta_{A} s_{1} \\frac{\\partial}{\\partial \\eta_{B}} P{\\left (\\eta_{A},\\eta_{B},\\eta_{U},t \\right )} - \\Phi_{B} \\eta_{A} s_{1} \\frac{\\partial}{\\partial \\eta_{U}} P{\\left (\\eta_{A},\\eta_{B},\\eta_{U},t \\right )} + \\Phi_{B} \\eta_{A} s_{2} \\frac{\\partial}{\\partial \\eta_{A}} P{\\left (\\eta_{A},\\eta_{B},\\eta_{U},t \\right )} - \\Phi_{B} \\eta_{A} s_{2} \\frac{\\partial}{\\partial \\eta_{U}} P{\\left (\\eta_{A},\\eta_{B},\\eta_{U},t \\right )} - \\Phi_{B} \\eta_{U} r_{2} \\frac{\\partial}{\\partial \\eta_{B}} P{\\left (\\eta_{A},\\eta_{B},\\eta_{U},t \\right )} + \\Phi_{B} \\eta_{U} r_{2} \\frac{\\partial}{\\partial \\eta_{U}} P{\\left (\\eta_{A},\\eta_{B},\\eta_{U},t \\right )} + \\Phi_{B} r_{2} P{\\left (\\eta_{A},\\eta_{B},\\eta_{U},t \\right )} + \\Phi_{B} s_{2} P{\\left (\\eta_{A},\\eta_{B},\\eta_{U},t \\right )} + \\frac{\\Phi_{B} a_{2}}{4 V} \\frac{\\partial^{4}}{\\partial \\eta_{B}^{2}\\partial \\eta_{U}^{2}}  P{\\left (\\eta_{A},\\eta_{B},\\eta_{U},t \\right )} - \\frac{\\Phi_{B} \\eta_{A} s_{1}}{2 V} \\frac{\\partial^{3}}{\\partial \\eta_{B}^{2}\\partial \\eta_{U}}  P{\\left (\\eta_{A},\\eta_{B},\\eta_{U},t \\right )} + \\frac{\\Phi_{B} \\eta_{A} s_{1}}{2 V} \\frac{\\partial^{3}}{\\partial \\eta_{B}\\partial \\eta_{U}^{2}}  P{\\left (\\eta_{A},\\eta_{B},\\eta_{U},t \\right )} - \\frac{\\Phi_{B} \\eta_{A} s_{2}}{2 V} \\frac{\\partial^{3}}{\\partial \\eta_{A}^{2}\\partial \\eta_{U}}  P{\\left (\\eta_{A},\\eta_{B},\\eta_{U},t \\right )} + \\frac{\\Phi_{B} \\eta_{A} s_{2}}{2 V} \\frac{\\partial^{3}}{\\partial \\eta_{A}\\partial \\eta_{U}^{2}}  P{\\left (\\eta_{A},\\eta_{B},\\eta_{U},t \\right )} + \\frac{\\Phi_{B} \\eta_{U} r_{2}}{2 V} \\frac{\\partial^{3}}{\\partial \\eta_{B}^{2}\\partial \\eta_{U}}  P{\\left (\\eta_{A},\\eta_{B},\\eta_{U},t \\right )} - \\frac{\\Phi_{B} \\eta_{U} r_{2}}{2 V} \\frac{\\partial^{3}}{\\partial \\eta_{B}\\partial \\eta_{U}^{2}}  P{\\left (\\eta_{A},\\eta_{B},\\eta_{U},t \\right )} + \\frac{\\Phi_{B} r_{2}}{2 V} \\frac{\\partial^{2}}{\\partial \\eta_{B}^{2}}  P{\\left (\\eta_{A},\\eta_{B},\\eta_{U},t \\right )} - \\frac{\\Phi_{B} r_{2}}{V} \\frac{\\partial^{2}}{\\partial \\eta_{B}\\partial \\eta_{U}}  P{\\left (\\eta_{A},\\eta_{B},\\eta_{U},t \\right )} - \\frac{\\Phi_{B} s_{2}}{V} \\frac{\\partial^{2}}{\\partial \\eta_{A}\\partial \\eta_{U}}  P{\\left (\\eta_{A},\\eta_{B},\\eta_{U},t \\right )} + \\frac{\\Phi_{B} s_{2}}{2 V} \\frac{\\partial^{2}}{\\partial \\eta_{U}^{2}}  P{\\left (\\eta_{A},\\eta_{B},\\eta_{U},t \\right )} - \\frac{\\Phi_{B} a_{2}}{2 \\sqrt{V}} \\frac{\\partial^{3}}{\\partial \\eta_{B}^{2}\\partial \\eta_{U}}  P{\\left (\\eta_{A},\\eta_{B},\\eta_{U},t \\right )} + \\frac{\\Phi_{B} a_{2}}{2 \\sqrt{V}} \\frac{\\partial^{3}}{\\partial \\eta_{B}\\partial \\eta_{U}^{2}}  P{\\left (\\eta_{A},\\eta_{B},\\eta_{U},t \\right )} + \\frac{\\Phi_{B} \\eta_{A} s_{1}}{2 \\sqrt{V}} \\frac{\\partial^{2}}{\\partial \\eta_{B}^{2}}  P{\\left (\\eta_{A},\\eta_{B},\\eta_{U},t \\right )} - \\frac{\\Phi_{B} \\eta_{A}}{\\sqrt{V}} s_{1} \\frac{\\partial^{2}}{\\partial \\eta_{B}\\partial \\eta_{U}}  P{\\left (\\eta_{A},\\eta_{B},\\eta_{U},t \\right )} + \\frac{\\Phi_{B} \\eta_{A} s_{1}}{2 \\sqrt{V}} \\frac{\\partial^{2}}{\\partial \\eta_{U}^{2}}  P{\\left (\\eta_{A},\\eta_{B},\\eta_{U},t \\right )} + \\frac{\\Phi_{B} \\eta_{A} s_{2}}{2 \\sqrt{V}} \\frac{\\partial^{2}}{\\partial \\eta_{A}^{2}}  P{\\left (\\eta_{A},\\eta_{B},\\eta_{U},t \\right )} - \\frac{\\Phi_{B} \\eta_{A}}{\\sqrt{V}} s_{2} \\frac{\\partial^{2}}{\\partial \\eta_{A}\\partial \\eta_{U}}  P{\\left (\\eta_{A},\\eta_{B},\\eta_{U},t \\right )} + \\frac{\\Phi_{B} \\eta_{A} s_{2}}{2 \\sqrt{V}} \\frac{\\partial^{2}}{\\partial \\eta_{U}^{2}}  P{\\left (\\eta_{A},\\eta_{B},\\eta_{U},t \\right )} + \\frac{\\Phi_{B} \\eta_{U} r_{2}}{2 \\sqrt{V}} \\frac{\\partial^{2}}{\\partial \\eta_{B}^{2}}  P{\\left (\\eta_{A},\\eta_{B},\\eta_{U},t \\right )} - \\frac{\\Phi_{B} \\eta_{U}}{\\sqrt{V}} r_{2} \\frac{\\partial^{2}}{\\partial \\eta_{B}\\partial \\eta_{U}}  P{\\left (\\eta_{A},\\eta_{B},\\eta_{U},t \\right )} + \\frac{\\Phi_{B} \\eta_{U} r_{2}}{2 \\sqrt{V}} \\frac{\\partial^{2}}{\\partial \\eta_{U}^{2}}  P{\\left (\\eta_{A},\\eta_{B},\\eta_{U},t \\right )} - \\frac{\\Phi_{B} r_{2}}{\\sqrt{V}} \\frac{\\partial}{\\partial \\eta_{B}} P{\\left (\\eta_{A},\\eta_{B},\\eta_{U},t \\right )} + \\frac{\\Phi_{B} r_{2}}{\\sqrt{V}} \\frac{\\partial}{\\partial \\eta_{U}} P{\\left (\\eta_{A},\\eta_{B},\\eta_{U},t \\right )} + \\frac{\\Phi_{B} s_{2}}{\\sqrt{V}} \\frac{\\partial}{\\partial \\eta_{A}} P{\\left (\\eta_{A},\\eta_{B},\\eta_{U},t \\right )} - \\frac{\\Phi_{B} s_{2}}{\\sqrt{V}} \\frac{\\partial}{\\partial \\eta_{U}} P{\\left (\\eta_{A},\\eta_{B},\\eta_{U},t \\right )} + \\frac{\\Phi_{B} \\eta_{A} s_{1}}{4 V^{\\frac{3}{2}}} \\frac{\\partial^{4}}{\\partial \\eta_{B}^{2}\\partial \\eta_{U}^{2}}  P{\\left (\\eta_{A},\\eta_{B},\\eta_{U},t \\right )} + \\frac{\\Phi_{B} \\eta_{A} s_{2}}{4 V^{\\frac{3}{2}}} \\frac{\\partial^{4}}{\\partial \\eta_{A}^{2}\\partial \\eta_{U}^{2}}  P{\\left (\\eta_{A},\\eta_{B},\\eta_{U},t \\right )} + \\frac{\\Phi_{B} \\eta_{U} r_{2}}{4 V^{\\frac{3}{2}}} \\frac{\\partial^{4}}{\\partial \\eta_{B}^{2}\\partial \\eta_{U}^{2}}  P{\\left (\\eta_{A},\\eta_{B},\\eta_{U},t \\right )} + \\frac{\\Phi_{B} r_{2}}{2 V^{\\frac{3}{2}}} \\frac{\\partial^{3}}{\\partial \\eta_{B}^{2}\\partial \\eta_{U}}  P{\\left (\\eta_{A},\\eta_{B},\\eta_{U},t \\right )} + \\frac{\\Phi_{B} s_{2}}{2 V^{\\frac{3}{2}}} \\frac{\\partial^{3}}{\\partial \\eta_{A}\\partial \\eta_{U}^{2}}  P{\\left (\\eta_{A},\\eta_{B},\\eta_{U},t \\right )} - \\Phi_{U} \\sqrt{V} g_{1} \\frac{\\partial}{\\partial \\eta_{A}} P{\\left (\\eta_{A},\\eta_{B},\\eta_{U},t \\right )} + \\Phi_{U} \\sqrt{V} g_{1} \\frac{\\partial}{\\partial \\eta_{U}} P{\\left (\\eta_{A},\\eta_{B},\\eta_{U},t \\right )} - \\Phi_{U} \\sqrt{V} g_{2} \\frac{\\partial}{\\partial \\eta_{B}} P{\\left (\\eta_{A},\\eta_{B},\\eta_{U},t \\right )} + \\Phi_{U} \\sqrt{V} g_{2} \\frac{\\partial}{\\partial \\eta_{U}} P{\\left (\\eta_{A},\\eta_{B},\\eta_{U},t \\right )} - \\Phi_{U} \\eta_{A} r_{1} \\frac{\\partial}{\\partial \\eta_{A}} P{\\left (\\eta_{A},\\eta_{B},\\eta_{U},t \\right )} + \\Phi_{U} \\eta_{A} r_{1} \\frac{\\partial}{\\partial \\eta_{U}} P{\\left (\\eta_{A},\\eta_{B},\\eta_{U},t \\right )} - \\Phi_{U} \\eta_{B} r_{2} \\frac{\\partial}{\\partial \\eta_{B}} P{\\left (\\eta_{A},\\eta_{B},\\eta_{U},t \\right )} + \\Phi_{U} \\eta_{B} r_{2} \\frac{\\partial}{\\partial \\eta_{U}} P{\\left (\\eta_{A},\\eta_{B},\\eta_{U},t \\right )} + \\frac{\\Phi_{U} g_{1}}{2} \\frac{\\partial^{2}}{\\partial \\eta_{A}^{2}}  P{\\left (\\eta_{A},\\eta_{B},\\eta_{U},t \\right )} - \\Phi_{U} g_{1} \\frac{\\partial^{2}}{\\partial \\eta_{A}\\partial \\eta_{U}}  P{\\left (\\eta_{A},\\eta_{B},\\eta_{U},t \\right )} + \\frac{\\Phi_{U} g_{1}}{2} \\frac{\\partial^{2}}{\\partial \\eta_{U}^{2}}  P{\\left (\\eta_{A},\\eta_{B},\\eta_{U},t \\right )} + \\frac{\\Phi_{U} g_{2}}{2} \\frac{\\partial^{2}}{\\partial \\eta_{B}^{2}}  P{\\left (\\eta_{A},\\eta_{B},\\eta_{U},t \\right )} - \\Phi_{U} g_{2} \\frac{\\partial^{2}}{\\partial \\eta_{B}\\partial \\eta_{U}}  P{\\left (\\eta_{A},\\eta_{B},\\eta_{U},t \\right )} + \\frac{\\Phi_{U} g_{2}}{2} \\frac{\\partial^{2}}{\\partial \\eta_{U}^{2}}  P{\\left (\\eta_{A},\\eta_{B},\\eta_{U},t \\right )} - \\Phi_{U} r_{1} P{\\left (\\eta_{A},\\eta_{B},\\eta_{U},t \\right )} - \\Phi_{U} r_{2} P{\\left (\\eta_{A},\\eta_{B},\\eta_{U},t \\right )} + \\frac{\\Phi_{U} \\eta_{A} r_{1}}{2 V} \\frac{\\partial^{3}}{\\partial \\eta_{A}^{2}\\partial \\eta_{U}}  P{\\left (\\eta_{A},\\eta_{B},\\eta_{U},t \\right )} - \\frac{\\Phi_{U} \\eta_{A} r_{1}}{2 V} \\frac{\\partial^{3}}{\\partial \\eta_{A}\\partial \\eta_{U}^{2}}  P{\\left (\\eta_{A},\\eta_{B},\\eta_{U},t \\right )} + \\frac{\\Phi_{U} \\eta_{B} r_{2}}{2 V} \\frac{\\partial^{3}}{\\partial \\eta_{B}^{2}\\partial \\eta_{U}}  P{\\left (\\eta_{A},\\eta_{B},\\eta_{U},t \\right )} - \\frac{\\Phi_{U} \\eta_{B} r_{2}}{2 V} \\frac{\\partial^{3}}{\\partial \\eta_{B}\\partial \\eta_{U}^{2}}  P{\\left (\\eta_{A},\\eta_{B},\\eta_{U},t \\right )} + \\frac{\\Phi_{U} g_{1}}{4 V} \\frac{\\partial^{4}}{\\partial \\eta_{A}^{2}\\partial \\eta_{U}^{2}}  P{\\left (\\eta_{A},\\eta_{B},\\eta_{U},t \\right )} + \\frac{\\Phi_{U} g_{2}}{4 V} \\frac{\\partial^{4}}{\\partial \\eta_{B}^{2}\\partial \\eta_{U}^{2}}  P{\\left (\\eta_{A},\\eta_{B},\\eta_{U},t \\right )} + \\frac{\\Phi_{U} r_{1}}{V} \\frac{\\partial^{2}}{\\partial \\eta_{A}\\partial \\eta_{U}}  P{\\left (\\eta_{A},\\eta_{B},\\eta_{U},t \\right )} - \\frac{\\Phi_{U} r_{1}}{2 V} \\frac{\\partial^{2}}{\\partial \\eta_{U}^{2}}  P{\\left (\\eta_{A},\\eta_{B},\\eta_{U},t \\right )} + \\frac{\\Phi_{U} r_{2}}{V} \\frac{\\partial^{2}}{\\partial \\eta_{B}\\partial \\eta_{U}}  P{\\left (\\eta_{A},\\eta_{B},\\eta_{U},t \\right )} - \\frac{\\Phi_{U} r_{2}}{2 V} \\frac{\\partial^{2}}{\\partial \\eta_{U}^{2}}  P{\\left (\\eta_{A},\\eta_{B},\\eta_{U},t \\right )} + \\frac{\\Phi_{U} \\eta_{A} r_{1}}{2 \\sqrt{V}} \\frac{\\partial^{2}}{\\partial \\eta_{A}^{2}}  P{\\left (\\eta_{A},\\eta_{B},\\eta_{U},t \\right )} - \\frac{\\Phi_{U} \\eta_{A}}{\\sqrt{V}} r_{1} \\frac{\\partial^{2}}{\\partial \\eta_{A}\\partial \\eta_{U}}  P{\\left (\\eta_{A},\\eta_{B},\\eta_{U},t \\right )} + \\frac{\\Phi_{U} \\eta_{A} r_{1}}{2 \\sqrt{V}} \\frac{\\partial^{2}}{\\partial \\eta_{U}^{2}}  P{\\left (\\eta_{A},\\eta_{B},\\eta_{U},t \\right )} + \\frac{\\Phi_{U} \\eta_{B} r_{2}}{2 \\sqrt{V}} \\frac{\\partial^{2}}{\\partial \\eta_{B}^{2}}  P{\\left (\\eta_{A},\\eta_{B},\\eta_{U},t \\right )} - \\frac{\\Phi_{U} \\eta_{B}}{\\sqrt{V}} r_{2} \\frac{\\partial^{2}}{\\partial \\eta_{B}\\partial \\eta_{U}}  P{\\left (\\eta_{A},\\eta_{B},\\eta_{U},t \\right )} + \\frac{\\Phi_{U} \\eta_{B} r_{2}}{2 \\sqrt{V}} \\frac{\\partial^{2}}{\\partial \\eta_{U}^{2}}  P{\\left (\\eta_{A},\\eta_{B},\\eta_{U},t \\right )} + \\frac{\\Phi_{U} g_{1}}{2 \\sqrt{V}} \\frac{\\partial^{3}}{\\partial \\eta_{A}^{2}\\partial \\eta_{U}}  P{\\left (\\eta_{A},\\eta_{B},\\eta_{U},t \\right )} - \\frac{\\Phi_{U} g_{1}}{2 \\sqrt{V}} \\frac{\\partial^{3}}{\\partial \\eta_{A}\\partial \\eta_{U}^{2}}  P{\\left (\\eta_{A},\\eta_{B},\\eta_{U},t \\right )} + \\frac{\\Phi_{U} g_{2}}{2 \\sqrt{V}} \\frac{\\partial^{3}}{\\partial \\eta_{B}^{2}\\partial \\eta_{U}}  P{\\left (\\eta_{A},\\eta_{B},\\eta_{U},t \\right )} - \\frac{\\Phi_{U} g_{2}}{2 \\sqrt{V}} \\frac{\\partial^{3}}{\\partial \\eta_{B}\\partial \\eta_{U}^{2}}  P{\\left (\\eta_{A},\\eta_{B},\\eta_{U},t \\right )} + \\frac{\\Phi_{U} r_{1}}{\\sqrt{V}} \\frac{\\partial}{\\partial \\eta_{A}} P{\\left (\\eta_{A},\\eta_{B},\\eta_{U},t \\right )} - \\frac{\\Phi_{U} r_{1}}{\\sqrt{V}} \\frac{\\partial}{\\partial \\eta_{U}} P{\\left (\\eta_{A},\\eta_{B},\\eta_{U},t \\right )} + \\frac{\\Phi_{U} r_{2}}{\\sqrt{V}} \\frac{\\partial}{\\partial \\eta_{B}} P{\\left (\\eta_{A},\\eta_{B},\\eta_{U},t \\right )} - \\frac{\\Phi_{U} r_{2}}{\\sqrt{V}} \\frac{\\partial}{\\partial \\eta_{U}} P{\\left (\\eta_{A},\\eta_{B},\\eta_{U},t \\right )} + \\frac{\\Phi_{U} \\eta_{A} r_{1}}{4 V^{\\frac{3}{2}}} \\frac{\\partial^{4}}{\\partial \\eta_{A}^{2}\\partial \\eta_{U}^{2}}  P{\\left (\\eta_{A},\\eta_{B},\\eta_{U},t \\right )} + \\frac{\\Phi_{U} \\eta_{B} r_{2}}{4 V^{\\frac{3}{2}}} \\frac{\\partial^{4}}{\\partial \\eta_{B}^{2}\\partial \\eta_{U}^{2}}  P{\\left (\\eta_{A},\\eta_{B},\\eta_{U},t \\right )} + \\frac{\\Phi_{U} r_{1}}{2 V^{\\frac{3}{2}}} \\frac{\\partial^{3}}{\\partial \\eta_{A}\\partial \\eta_{U}^{2}}  P{\\left (\\eta_{A},\\eta_{B},\\eta_{U},t \\right )} + \\frac{\\Phi_{U} r_{2}}{2 V^{\\frac{3}{2}}} \\frac{\\partial^{3}}{\\partial \\eta_{B}\\partial \\eta_{U}^{2}}  P{\\left (\\eta_{A},\\eta_{B},\\eta_{U},t \\right )} + a_{1} \\eta_{A} \\frac{\\partial}{\\partial \\eta_{A}} P{\\left (\\eta_{A},\\eta_{B},\\eta_{U},t \\right )} - a_{1} \\eta_{A} \\frac{\\partial}{\\partial \\eta_{U}} P{\\left (\\eta_{A},\\eta_{B},\\eta_{U},t \\right )} + a_{1} P{\\left (\\eta_{A},\\eta_{B},\\eta_{U},t \\right )} + a_{2} \\eta_{B} \\frac{\\partial}{\\partial \\eta_{B}} P{\\left (\\eta_{A},\\eta_{B},\\eta_{U},t \\right )} - a_{2} \\eta_{B} \\frac{\\partial}{\\partial \\eta_{U}} P{\\left (\\eta_{A},\\eta_{B},\\eta_{U},t \\right )} + a_{2} P{\\left (\\eta_{A},\\eta_{B},\\eta_{U},t \\right )} - \\eta_{U} g_{1} \\frac{\\partial}{\\partial \\eta_{A}} P{\\left (\\eta_{A},\\eta_{B},\\eta_{U},t \\right )} + \\eta_{U} g_{1} \\frac{\\partial}{\\partial \\eta_{U}} P{\\left (\\eta_{A},\\eta_{B},\\eta_{U},t \\right )} - \\eta_{U} g_{2} \\frac{\\partial}{\\partial \\eta_{B}} P{\\left (\\eta_{A},\\eta_{B},\\eta_{U},t \\right )} + \\eta_{U} g_{2} \\frac{\\partial}{\\partial \\eta_{U}} P{\\left (\\eta_{A},\\eta_{B},\\eta_{U},t \\right )} + g_{1} P{\\left (\\eta_{A},\\eta_{B},\\eta_{U},t \\right )} + g_{2} P{\\left (\\eta_{A},\\eta_{B},\\eta_{U},t \\right )} - \\frac{a_{1} \\eta_{A}}{2 V} \\frac{\\partial^{3}}{\\partial \\eta_{A}^{2}\\partial \\eta_{U}}  P{\\left (\\eta_{A},\\eta_{B},\\eta_{U},t \\right )} + \\frac{a_{1} \\eta_{A}}{2 V} \\frac{\\partial^{3}}{\\partial \\eta_{A}\\partial \\eta_{U}^{2}}  P{\\left (\\eta_{A},\\eta_{B},\\eta_{U},t \\right )} - \\frac{a_{1}}{V} \\frac{\\partial^{2}}{\\partial \\eta_{A}\\partial \\eta_{U}}  P{\\left (\\eta_{A},\\eta_{B},\\eta_{U},t \\right )} + \\frac{a_{1}}{2 V} \\frac{\\partial^{2}}{\\partial \\eta_{U}^{2}}  P{\\left (\\eta_{A},\\eta_{B},\\eta_{U},t \\right )} - \\frac{a_{2} \\eta_{B}}{2 V} \\frac{\\partial^{3}}{\\partial \\eta_{B}^{2}\\partial \\eta_{U}}  P{\\left (\\eta_{A},\\eta_{B},\\eta_{U},t \\right )} + \\frac{a_{2} \\eta_{B}}{2 V} \\frac{\\partial^{3}}{\\partial \\eta_{B}\\partial \\eta_{U}^{2}}  P{\\left (\\eta_{A},\\eta_{B},\\eta_{U},t \\right )} - \\frac{a_{2}}{V} \\frac{\\partial^{2}}{\\partial \\eta_{B}\\partial \\eta_{U}}  P{\\left (\\eta_{A},\\eta_{B},\\eta_{U},t \\right )} + \\frac{a_{2}}{2 V} \\frac{\\partial^{2}}{\\partial \\eta_{U}^{2}}  P{\\left (\\eta_{A},\\eta_{B},\\eta_{U},t \\right )} + \\frac{\\eta_{A} \\eta_{B} s_{1}}{2 V} \\frac{\\partial^{2}}{\\partial \\eta_{B}^{2}}  P{\\left (\\eta_{A},\\eta_{B},\\eta_{U},t \\right )} - \\frac{\\eta_{A} \\eta_{B}}{V} s_{1} \\frac{\\partial^{2}}{\\partial \\eta_{B}\\partial \\eta_{U}}  P{\\left (\\eta_{A},\\eta_{B},\\eta_{U},t \\right )} + \\frac{\\eta_{A} \\eta_{B} s_{1}}{2 V} \\frac{\\partial^{2}}{\\partial \\eta_{U}^{2}}  P{\\left (\\eta_{A},\\eta_{B},\\eta_{U},t \\right )} + \\frac{\\eta_{A} \\eta_{B} s_{2}}{2 V} \\frac{\\partial^{2}}{\\partial \\eta_{A}^{2}}  P{\\left (\\eta_{A},\\eta_{B},\\eta_{U},t \\right )} - \\frac{\\eta_{A} \\eta_{B}}{V} s_{2} \\frac{\\partial^{2}}{\\partial \\eta_{A}\\partial \\eta_{U}}  P{\\left (\\eta_{A},\\eta_{B},\\eta_{U},t \\right )} + \\frac{\\eta_{A} \\eta_{B} s_{2}}{2 V} \\frac{\\partial^{2}}{\\partial \\eta_{U}^{2}}  P{\\left (\\eta_{A},\\eta_{B},\\eta_{U},t \\right )} + \\frac{\\eta_{A} \\eta_{U} r_{1}}{2 V} \\frac{\\partial^{2}}{\\partial \\eta_{A}^{2}}  P{\\left (\\eta_{A},\\eta_{B},\\eta_{U},t \\right )} - \\frac{\\eta_{A} \\eta_{U}}{V} r_{1} \\frac{\\partial^{2}}{\\partial \\eta_{A}\\partial \\eta_{U}}  P{\\left (\\eta_{A},\\eta_{B},\\eta_{U},t \\right )} + \\frac{\\eta_{A} \\eta_{U} r_{1}}{2 V} \\frac{\\partial^{2}}{\\partial \\eta_{U}^{2}}  P{\\left (\\eta_{A},\\eta_{B},\\eta_{U},t \\right )} - \\frac{\\eta_{A} r_{1}}{V} \\frac{\\partial}{\\partial \\eta_{A}} P{\\left (\\eta_{A},\\eta_{B},\\eta_{U},t \\right )} + \\frac{\\eta_{A} r_{1}}{V} \\frac{\\partial}{\\partial \\eta_{U}} P{\\left (\\eta_{A},\\eta_{B},\\eta_{U},t \\right )} + \\frac{\\eta_{A} s_{1}}{V} \\frac{\\partial}{\\partial \\eta_{B}} P{\\left (\\eta_{A},\\eta_{B},\\eta_{U},t \\right )} - \\frac{\\eta_{A} s_{1}}{V} \\frac{\\partial}{\\partial \\eta_{U}} P{\\left (\\eta_{A},\\eta_{B},\\eta_{U},t \\right )} + \\frac{\\eta_{B} \\eta_{U} r_{2}}{2 V} \\frac{\\partial^{2}}{\\partial \\eta_{B}^{2}}  P{\\left (\\eta_{A},\\eta_{B},\\eta_{U},t \\right )} - \\frac{\\eta_{B} \\eta_{U}}{V} r_{2} \\frac{\\partial^{2}}{\\partial \\eta_{B}\\partial \\eta_{U}}  P{\\left (\\eta_{A},\\eta_{B},\\eta_{U},t \\right )} + \\frac{\\eta_{B} \\eta_{U} r_{2}}{2 V} \\frac{\\partial^{2}}{\\partial \\eta_{U}^{2}}  P{\\left (\\eta_{A},\\eta_{B},\\eta_{U},t \\right )} - \\frac{\\eta_{B} r_{2}}{V} \\frac{\\partial}{\\partial \\eta_{B}} P{\\left (\\eta_{A},\\eta_{B},\\eta_{U},t \\right )} + \\frac{\\eta_{B} r_{2}}{V} \\frac{\\partial}{\\partial \\eta_{U}} P{\\left (\\eta_{A},\\eta_{B},\\eta_{U},t \\right )} + \\frac{\\eta_{B} s_{2}}{V} \\frac{\\partial}{\\partial \\eta_{A}} P{\\left (\\eta_{A},\\eta_{B},\\eta_{U},t \\right )} - \\frac{\\eta_{B} s_{2}}{V} \\frac{\\partial}{\\partial \\eta_{U}} P{\\left (\\eta_{A},\\eta_{B},\\eta_{U},t \\right )} + \\frac{\\eta_{U} g_{1}}{2 V} \\frac{\\partial^{3}}{\\partial \\eta_{A}^{2}\\partial \\eta_{U}}  P{\\left (\\eta_{A},\\eta_{B},\\eta_{U},t \\right )} - \\frac{\\eta_{U} g_{1}}{2 V} \\frac{\\partial^{3}}{\\partial \\eta_{A}\\partial \\eta_{U}^{2}}  P{\\left (\\eta_{A},\\eta_{B},\\eta_{U},t \\right )} + \\frac{\\eta_{U} g_{2}}{2 V} \\frac{\\partial^{3}}{\\partial \\eta_{B}^{2}\\partial \\eta_{U}}  P{\\left (\\eta_{A},\\eta_{B},\\eta_{U},t \\right )} - \\frac{\\eta_{U} g_{2}}{2 V} \\frac{\\partial^{3}}{\\partial \\eta_{B}\\partial \\eta_{U}^{2}}  P{\\left (\\eta_{A},\\eta_{B},\\eta_{U},t \\right )} + \\frac{\\eta_{U} r_{1}}{V} \\frac{\\partial}{\\partial \\eta_{A}} P{\\left (\\eta_{A},\\eta_{B},\\eta_{U},t \\right )} - \\frac{\\eta_{U} r_{1}}{V} \\frac{\\partial}{\\partial \\eta_{U}} P{\\left (\\eta_{A},\\eta_{B},\\eta_{U},t \\right )} + \\frac{\\eta_{U} r_{2}}{V} \\frac{\\partial}{\\partial \\eta_{B}} P{\\left (\\eta_{A},\\eta_{B},\\eta_{U},t \\right )} - \\frac{\\eta_{U} r_{2}}{V} \\frac{\\partial}{\\partial \\eta_{U}} P{\\left (\\eta_{A},\\eta_{B},\\eta_{U},t \\right )} + \\frac{g_{1}}{2 V} \\frac{\\partial^{2}}{\\partial \\eta_{A}^{2}}  P{\\left (\\eta_{A},\\eta_{B},\\eta_{U},t \\right )} - \\frac{g_{1}}{V} \\frac{\\partial^{2}}{\\partial \\eta_{A}\\partial \\eta_{U}}  P{\\left (\\eta_{A},\\eta_{B},\\eta_{U},t \\right )} + \\frac{g_{2}}{2 V} \\frac{\\partial^{2}}{\\partial \\eta_{B}^{2}}  P{\\left (\\eta_{A},\\eta_{B},\\eta_{U},t \\right )} - \\frac{g_{2}}{V} \\frac{\\partial^{2}}{\\partial \\eta_{B}\\partial \\eta_{U}}  P{\\left (\\eta_{A},\\eta_{B},\\eta_{U},t \\right )} - \\frac{r_{1}}{V} P{\\left (\\eta_{A},\\eta_{B},\\eta_{U},t \\right )} - \\frac{r_{2}}{V} P{\\left (\\eta_{A},\\eta_{B},\\eta_{U},t \\right )} + \\frac{\\eta_{A} \\eta_{B} s_{1}}{4 V^{2}} \\frac{\\partial^{4}}{\\partial \\eta_{B}^{2}\\partial \\eta_{U}^{2}}  P{\\left (\\eta_{A},\\eta_{B},\\eta_{U},t \\right )} + \\frac{\\eta_{A} \\eta_{B} s_{2}}{4 V^{2}} \\frac{\\partial^{4}}{\\partial \\eta_{A}^{2}\\partial \\eta_{U}^{2}}  P{\\left (\\eta_{A},\\eta_{B},\\eta_{U},t \\right )} + \\frac{\\eta_{A} \\eta_{U} r_{1}}{4 V^{2}} \\frac{\\partial^{4}}{\\partial \\eta_{A}^{2}\\partial \\eta_{U}^{2}}  P{\\left (\\eta_{A},\\eta_{B},\\eta_{U},t \\right )} + \\frac{\\eta_{A} r_{1}}{2 V^{2}} \\frac{\\partial^{3}}{\\partial \\eta_{A}^{2}\\partial \\eta_{U}}  P{\\left (\\eta_{A},\\eta_{B},\\eta_{U},t \\right )} + \\frac{\\eta_{A} s_{1}}{2 V^{2}} \\frac{\\partial^{3}}{\\partial \\eta_{B}\\partial \\eta_{U}^{2}}  P{\\left (\\eta_{A},\\eta_{B},\\eta_{U},t \\right )} + \\frac{\\eta_{B} \\eta_{U} r_{2}}{4 V^{2}} \\frac{\\partial^{4}}{\\partial \\eta_{B}^{2}\\partial \\eta_{U}^{2}}  P{\\left (\\eta_{A},\\eta_{B},\\eta_{U},t \\right )} + \\frac{\\eta_{B} r_{2}}{2 V^{2}} \\frac{\\partial^{3}}{\\partial \\eta_{B}^{2}\\partial \\eta_{U}}  P{\\left (\\eta_{A},\\eta_{B},\\eta_{U},t \\right )} + \\frac{\\eta_{B} s_{2}}{2 V^{2}} \\frac{\\partial^{3}}{\\partial \\eta_{A}\\partial \\eta_{U}^{2}}  P{\\left (\\eta_{A},\\eta_{B},\\eta_{U},t \\right )} + \\frac{\\eta_{U} r_{1}}{2 V^{2}} \\frac{\\partial^{3}}{\\partial \\eta_{A}\\partial \\eta_{U}^{2}}  P{\\left (\\eta_{A},\\eta_{B},\\eta_{U},t \\right )} + \\frac{\\eta_{U} r_{2}}{2 V^{2}} \\frac{\\partial^{3}}{\\partial \\eta_{B}\\partial \\eta_{U}^{2}}  P{\\left (\\eta_{A},\\eta_{B},\\eta_{U},t \\right )} + \\frac{r_{1}}{V^{2}} \\frac{\\partial^{2}}{\\partial \\eta_{A}\\partial \\eta_{U}}  P{\\left (\\eta_{A},\\eta_{B},\\eta_{U},t \\right )} + \\frac{r_{2}}{V^{2}} \\frac{\\partial^{2}}{\\partial \\eta_{B}\\partial \\eta_{U}}  P{\\left (\\eta_{A},\\eta_{B},\\eta_{U},t \\right )} + \\frac{a_{1} \\eta_{A}}{2 \\sqrt{V}} \\frac{\\partial^{2}}{\\partial \\eta_{A}^{2}}  P{\\left (\\eta_{A},\\eta_{B},\\eta_{U},t \\right )} - \\frac{a_{1} \\eta_{A}}{\\sqrt{V}} \\frac{\\partial^{2}}{\\partial \\eta_{A}\\partial \\eta_{U}}  P{\\left (\\eta_{A},\\eta_{B},\\eta_{U},t \\right )} + \\frac{a_{1} \\eta_{A}}{2 \\sqrt{V}} \\frac{\\partial^{2}}{\\partial \\eta_{U}^{2}}  P{\\left (\\eta_{A},\\eta_{B},\\eta_{U},t \\right )} + \\frac{a_{1}}{\\sqrt{V}} \\frac{\\partial}{\\partial \\eta_{A}} P{\\left (\\eta_{A},\\eta_{B},\\eta_{U},t \\right )} - \\frac{a_{1}}{\\sqrt{V}} \\frac{\\partial}{\\partial \\eta_{U}} P{\\left (\\eta_{A},\\eta_{B},\\eta_{U},t \\right )} + \\frac{a_{2} \\eta_{B}}{2 \\sqrt{V}} \\frac{\\partial^{2}}{\\partial \\eta_{B}^{2}}  P{\\left (\\eta_{A},\\eta_{B},\\eta_{U},t \\right )} - \\frac{a_{2} \\eta_{B}}{\\sqrt{V}} \\frac{\\partial^{2}}{\\partial \\eta_{B}\\partial \\eta_{U}}  P{\\left (\\eta_{A},\\eta_{B},\\eta_{U},t \\right )} + \\frac{a_{2} \\eta_{B}}{2 \\sqrt{V}} \\frac{\\partial^{2}}{\\partial \\eta_{U}^{2}}  P{\\left (\\eta_{A},\\eta_{B},\\eta_{U},t \\right )} + \\frac{a_{2}}{\\sqrt{V}} \\frac{\\partial}{\\partial \\eta_{B}} P{\\left (\\eta_{A},\\eta_{B},\\eta_{U},t \\right )} - \\frac{a_{2}}{\\sqrt{V}} \\frac{\\partial}{\\partial \\eta_{U}} P{\\left (\\eta_{A},\\eta_{B},\\eta_{U},t \\right )} + \\frac{\\eta_{A} \\eta_{B}}{\\sqrt{V}} s_{1} \\frac{\\partial}{\\partial \\eta_{B}} P{\\left (\\eta_{A},\\eta_{B},\\eta_{U},t \\right )} - \\frac{\\eta_{A} \\eta_{B}}{\\sqrt{V}} s_{1} \\frac{\\partial}{\\partial \\eta_{U}} P{\\left (\\eta_{A},\\eta_{B},\\eta_{U},t \\right )} + \\frac{\\eta_{A} \\eta_{B}}{\\sqrt{V}} s_{2} \\frac{\\partial}{\\partial \\eta_{A}} P{\\left (\\eta_{A},\\eta_{B},\\eta_{U},t \\right )} - \\frac{\\eta_{A} \\eta_{B}}{\\sqrt{V}} s_{2} \\frac{\\partial}{\\partial \\eta_{U}} P{\\left (\\eta_{A},\\eta_{B},\\eta_{U},t \\right )} - \\frac{\\eta_{A} \\eta_{U}}{\\sqrt{V}} r_{1} \\frac{\\partial}{\\partial \\eta_{A}} P{\\left (\\eta_{A},\\eta_{B},\\eta_{U},t \\right )} + \\frac{\\eta_{A} \\eta_{U}}{\\sqrt{V}} r_{1} \\frac{\\partial}{\\partial \\eta_{U}} P{\\left (\\eta_{A},\\eta_{B},\\eta_{U},t \\right )} + \\frac{\\eta_{A} r_{1}}{\\sqrt{V}} P{\\left (\\eta_{A},\\eta_{B},\\eta_{U},t \\right )} + \\frac{\\eta_{A} s_{1}}{\\sqrt{V}} P{\\left (\\eta_{A},\\eta_{B},\\eta_{U},t \\right )} - \\frac{\\eta_{B} \\eta_{U}}{\\sqrt{V}} r_{2} \\frac{\\partial}{\\partial \\eta_{B}} P{\\left (\\eta_{A},\\eta_{B},\\eta_{U},t \\right )} + \\frac{\\eta_{B} \\eta_{U}}{\\sqrt{V}} r_{2} \\frac{\\partial}{\\partial \\eta_{U}} P{\\left (\\eta_{A},\\eta_{B},\\eta_{U},t \\right )} + \\frac{\\eta_{B} r_{2}}{\\sqrt{V}} P{\\left (\\eta_{A},\\eta_{B},\\eta_{U},t \\right )} + \\frac{\\eta_{B} s_{2}}{\\sqrt{V}} P{\\left (\\eta_{A},\\eta_{B},\\eta_{U},t \\right )} + \\frac{\\eta_{U} g_{1}}{2 \\sqrt{V}} \\frac{\\partial^{2}}{\\partial \\eta_{A}^{2}}  P{\\left (\\eta_{A},\\eta_{B},\\eta_{U},t \\right )} - \\frac{\\eta_{U} g_{1}}{\\sqrt{V}} \\frac{\\partial^{2}}{\\partial \\eta_{A}\\partial \\eta_{U}}  P{\\left (\\eta_{A},\\eta_{B},\\eta_{U},t \\right )} + \\frac{\\eta_{U} g_{1}}{2 \\sqrt{V}} \\frac{\\partial^{2}}{\\partial \\eta_{U}^{2}}  P{\\left (\\eta_{A},\\eta_{B},\\eta_{U},t \\right )} + \\frac{\\eta_{U} g_{2}}{2 \\sqrt{V}} \\frac{\\partial^{2}}{\\partial \\eta_{B}^{2}}  P{\\left (\\eta_{A},\\eta_{B},\\eta_{U},t \\right )} - \\frac{\\eta_{U} g_{2}}{\\sqrt{V}} \\frac{\\partial^{2}}{\\partial \\eta_{B}\\partial \\eta_{U}}  P{\\left (\\eta_{A},\\eta_{B},\\eta_{U},t \\right )} + \\frac{\\eta_{U} g_{2}}{2 \\sqrt{V}} \\frac{\\partial^{2}}{\\partial \\eta_{U}^{2}}  P{\\left (\\eta_{A},\\eta_{B},\\eta_{U},t \\right )} - \\frac{\\eta_{U} r_{1}}{\\sqrt{V}} P{\\left (\\eta_{A},\\eta_{B},\\eta_{U},t \\right )} - \\frac{\\eta_{U} r_{2}}{\\sqrt{V}} P{\\left (\\eta_{A},\\eta_{B},\\eta_{U},t \\right )} - \\frac{g_{1}}{\\sqrt{V}} \\frac{\\partial}{\\partial \\eta_{A}} P{\\left (\\eta_{A},\\eta_{B},\\eta_{U},t \\right )} + \\frac{g_{1}}{\\sqrt{V}} \\frac{\\partial}{\\partial \\eta_{U}} P{\\left (\\eta_{A},\\eta_{B},\\eta_{U},t \\right )} - \\frac{g_{2}}{\\sqrt{V}} \\frac{\\partial}{\\partial \\eta_{B}} P{\\left (\\eta_{A},\\eta_{B},\\eta_{U},t \\right )} + \\frac{g_{2}}{\\sqrt{V}} \\frac{\\partial}{\\partial \\eta_{U}} P{\\left (\\eta_{A},\\eta_{B},\\eta_{U},t \\right )} + \\frac{a_{1} \\eta_{A}}{4 V^{\\frac{3}{2}}} \\frac{\\partial^{4}}{\\partial \\eta_{A}^{2}\\partial \\eta_{U}^{2}}  P{\\left (\\eta_{A},\\eta_{B},\\eta_{U},t \\right )} + \\frac{a_{1}}{2 V^{\\frac{3}{2}}} \\frac{\\partial^{3}}{\\partial \\eta_{A}\\partial \\eta_{U}^{2}}  P{\\left (\\eta_{A},\\eta_{B},\\eta_{U},t \\right )} + \\frac{a_{2} \\eta_{B}}{4 V^{\\frac{3}{2}}} \\frac{\\partial^{4}}{\\partial \\eta_{B}^{2}\\partial \\eta_{U}^{2}}  P{\\left (\\eta_{A},\\eta_{B},\\eta_{U},t \\right )} + \\frac{a_{2}}{2 V^{\\frac{3}{2}}} \\frac{\\partial^{3}}{\\partial \\eta_{B}\\partial \\eta_{U}^{2}}  P{\\left (\\eta_{A},\\eta_{B},\\eta_{U},t \\right )} - \\frac{\\eta_{A} \\eta_{B} s_{1}}{2 V^{\\frac{3}{2}}} \\frac{\\partial^{3}}{\\partial \\eta_{B}^{2}\\partial \\eta_{U}}  P{\\left (\\eta_{A},\\eta_{B},\\eta_{U},t \\right )} + \\frac{\\eta_{A} \\eta_{B} s_{1}}{2 V^{\\frac{3}{2}}} \\frac{\\partial^{3}}{\\partial \\eta_{B}\\partial \\eta_{U}^{2}}  P{\\left (\\eta_{A},\\eta_{B},\\eta_{U},t \\right )} - \\frac{\\eta_{A} \\eta_{B} s_{2}}{2 V^{\\frac{3}{2}}} \\frac{\\partial^{3}}{\\partial \\eta_{A}^{2}\\partial \\eta_{U}}  P{\\left (\\eta_{A},\\eta_{B},\\eta_{U},t \\right )} + \\frac{\\eta_{A} \\eta_{B} s_{2}}{2 V^{\\frac{3}{2}}} \\frac{\\partial^{3}}{\\partial \\eta_{A}\\partial \\eta_{U}^{2}}  P{\\left (\\eta_{A},\\eta_{B},\\eta_{U},t \\right )} + \\frac{\\eta_{A} \\eta_{U} r_{1}}{2 V^{\\frac{3}{2}}} \\frac{\\partial^{3}}{\\partial \\eta_{A}^{2}\\partial \\eta_{U}}  P{\\left (\\eta_{A},\\eta_{B},\\eta_{U},t \\right )} - \\frac{\\eta_{A} \\eta_{U} r_{1}}{2 V^{\\frac{3}{2}}} \\frac{\\partial^{3}}{\\partial \\eta_{A}\\partial \\eta_{U}^{2}}  P{\\left (\\eta_{A},\\eta_{B},\\eta_{U},t \\right )} + \\frac{\\eta_{A} r_{1}}{2 V^{\\frac{3}{2}}} \\frac{\\partial^{2}}{\\partial \\eta_{A}^{2}}  P{\\left (\\eta_{A},\\eta_{B},\\eta_{U},t \\right )} - \\frac{\\eta_{A} r_{1}}{V^{\\frac{3}{2}}} \\frac{\\partial^{2}}{\\partial \\eta_{A}\\partial \\eta_{U}}  P{\\left (\\eta_{A},\\eta_{B},\\eta_{U},t \\right )} - \\frac{\\eta_{A} s_{1}}{V^{\\frac{3}{2}}} \\frac{\\partial^{2}}{\\partial \\eta_{B}\\partial \\eta_{U}}  P{\\left (\\eta_{A},\\eta_{B},\\eta_{U},t \\right )} + \\frac{\\eta_{A} s_{1}}{2 V^{\\frac{3}{2}}} \\frac{\\partial^{2}}{\\partial \\eta_{U}^{2}}  P{\\left (\\eta_{A},\\eta_{B},\\eta_{U},t \\right )} + \\frac{\\eta_{B} \\eta_{U} r_{2}}{2 V^{\\frac{3}{2}}} \\frac{\\partial^{3}}{\\partial \\eta_{B}^{2}\\partial \\eta_{U}}  P{\\left (\\eta_{A},\\eta_{B},\\eta_{U},t \\right )} - \\frac{\\eta_{B} \\eta_{U} r_{2}}{2 V^{\\frac{3}{2}}} \\frac{\\partial^{3}}{\\partial \\eta_{B}\\partial \\eta_{U}^{2}}  P{\\left (\\eta_{A},\\eta_{B},\\eta_{U},t \\right )} + \\frac{\\eta_{B} r_{2}}{2 V^{\\frac{3}{2}}} \\frac{\\partial^{2}}{\\partial \\eta_{B}^{2}}  P{\\left (\\eta_{A},\\eta_{B},\\eta_{U},t \\right )} - \\frac{\\eta_{B} r_{2}}{V^{\\frac{3}{2}}} \\frac{\\partial^{2}}{\\partial \\eta_{B}\\partial \\eta_{U}}  P{\\left (\\eta_{A},\\eta_{B},\\eta_{U},t \\right )} - \\frac{\\eta_{B} s_{2}}{V^{\\frac{3}{2}}} \\frac{\\partial^{2}}{\\partial \\eta_{A}\\partial \\eta_{U}}  P{\\left (\\eta_{A},\\eta_{B},\\eta_{U},t \\right )} + \\frac{\\eta_{B} s_{2}}{2 V^{\\frac{3}{2}}} \\frac{\\partial^{2}}{\\partial \\eta_{U}^{2}}  P{\\left (\\eta_{A},\\eta_{B},\\eta_{U},t \\right )} + \\frac{\\eta_{U} g_{1}}{4 V^{\\frac{3}{2}}} \\frac{\\partial^{4}}{\\partial \\eta_{A}^{2}\\partial \\eta_{U}^{2}}  P{\\left (\\eta_{A},\\eta_{B},\\eta_{U},t \\right )} + \\frac{\\eta_{U} g_{2}}{4 V^{\\frac{3}{2}}} \\frac{\\partial^{4}}{\\partial \\eta_{B}^{2}\\partial \\eta_{U}^{2}}  P{\\left (\\eta_{A},\\eta_{B},\\eta_{U},t \\right )} + \\frac{\\eta_{U} r_{1}}{V^{\\frac{3}{2}}} \\frac{\\partial^{2}}{\\partial \\eta_{A}\\partial \\eta_{U}}  P{\\left (\\eta_{A},\\eta_{B},\\eta_{U},t \\right )} - \\frac{\\eta_{U} r_{1}}{2 V^{\\frac{3}{2}}} \\frac{\\partial^{2}}{\\partial \\eta_{U}^{2}}  P{\\left (\\eta_{A},\\eta_{B},\\eta_{U},t \\right )} + \\frac{\\eta_{U} r_{2}}{V^{\\frac{3}{2}}} \\frac{\\partial^{2}}{\\partial \\eta_{B}\\partial \\eta_{U}}  P{\\left (\\eta_{A},\\eta_{B},\\eta_{U},t \\right )} - \\frac{\\eta_{U} r_{2}}{2 V^{\\frac{3}{2}}} \\frac{\\partial^{2}}{\\partial \\eta_{U}^{2}}  P{\\left (\\eta_{A},\\eta_{B},\\eta_{U},t \\right )} + \\frac{g_{1}}{2 V^{\\frac{3}{2}}} \\frac{\\partial^{3}}{\\partial \\eta_{A}^{2}\\partial \\eta_{U}}  P{\\left (\\eta_{A},\\eta_{B},\\eta_{U},t \\right )} + \\frac{g_{2}}{2 V^{\\frac{3}{2}}} \\frac{\\partial^{3}}{\\partial \\eta_{B}^{2}\\partial \\eta_{U}}  P{\\left (\\eta_{A},\\eta_{B},\\eta_{U},t \\right )} + \\frac{r_{1}}{V^{\\frac{3}{2}}} \\frac{\\partial}{\\partial \\eta_{A}} P{\\left (\\eta_{A},\\eta_{B},\\eta_{U},t \\right )} - \\frac{r_{1}}{V^{\\frac{3}{2}}} \\frac{\\partial}{\\partial \\eta_{U}} P{\\left (\\eta_{A},\\eta_{B},\\eta_{U},t \\right )} + \\frac{r_{2}}{V^{\\frac{3}{2}}} \\frac{\\partial}{\\partial \\eta_{B}} P{\\left (\\eta_{A},\\eta_{B},\\eta_{U},t \\right )} - \\frac{r_{2}}{V^{\\frac{3}{2}}} \\frac{\\partial}{\\partial \\eta_{U}} P{\\left (\\eta_{A},\\eta_{B},\\eta_{U},t \\right )}$$"
      ],
      "text/plain": [
       "<IPython.core.display.Math object>"
      ]
     },
     "metadata": {},
     "output_type": "display_data"
    }
   ],
   "source": [
    "model4.showVanKampenExpansion()"
   ]
  },
  {
   "cell_type": "code",
   "execution_count": 45,
   "metadata": {},
   "outputs": [
    {
     "data": {
      "text/latex": [
       "$$\\frac{d}{d t} \\Phi_{B} := - \\Phi_{A} \\Phi_{B} s_{1} + \\Phi_{B} \\Phi_{U} r_{2} - \\Phi_{B} a_{2} + \\Phi_{U} g_{2}$$"
      ],
      "text/plain": [
       "<IPython.core.display.Math object>"
      ]
     },
     "metadata": {},
     "output_type": "display_data"
    },
    {
     "data": {
      "text/latex": [
       "$$\\frac{d}{d t} \\Phi_{U} := \\Phi_{A} \\Phi_{B} s_{1} + \\Phi_{A} \\Phi_{B} s_{2} - \\Phi_{A} \\Phi_{U} r_{1} + \\Phi_{A} a_{1} - \\Phi_{B} \\Phi_{U} r_{2} + \\Phi_{B} a_{2} - \\Phi_{U} g_{1} - \\Phi_{U} g_{2}$$"
      ],
      "text/plain": [
       "<IPython.core.display.Math object>"
      ]
     },
     "metadata": {},
     "output_type": "display_data"
    },
    {
     "data": {
      "text/latex": [
       "$$\\frac{d}{d t} \\Phi_{A} := - \\Phi_{A} \\Phi_{B} s_{2} + \\Phi_{A} \\Phi_{U} r_{1} - \\Phi_{A} a_{1} + \\Phi_{U} g_{1}$$"
      ],
      "text/plain": [
       "<IPython.core.display.Math object>"
      ]
     },
     "metadata": {},
     "output_type": "display_data"
    }
   ],
   "source": [
    "model4.showODEs_vKE()"
   ]
  },
  {
   "cell_type": "code",
   "execution_count": 46,
   "metadata": {},
   "outputs": [
    {
     "data": {
      "text/latex": [
       "$$\\frac{\\partial}{\\partial t} P{\\left (\\eta_{A},\\eta_{B},\\eta_{U},t \\right )} := \\frac{\\Phi_{A} \\Phi_{B}}{2} s_{1} \\frac{\\partial^{2}}{\\partial \\eta_{B}^{2}}  P{\\left (\\eta_{A},\\eta_{B},\\eta_{U},t \\right )} - \\Phi_{A} \\Phi_{B} s_{1} \\frac{\\partial^{2}}{\\partial \\eta_{B}\\partial \\eta_{U}}  P{\\left (\\eta_{A},\\eta_{B},\\eta_{U},t \\right )} + \\frac{\\Phi_{A} \\Phi_{B}}{2} s_{1} \\frac{\\partial^{2}}{\\partial \\eta_{U}^{2}}  P{\\left (\\eta_{A},\\eta_{B},\\eta_{U},t \\right )} + \\frac{\\Phi_{A} \\Phi_{B}}{2} s_{2} \\frac{\\partial^{2}}{\\partial \\eta_{A}^{2}}  P{\\left (\\eta_{A},\\eta_{B},\\eta_{U},t \\right )} - \\Phi_{A} \\Phi_{B} s_{2} \\frac{\\partial^{2}}{\\partial \\eta_{A}\\partial \\eta_{U}}  P{\\left (\\eta_{A},\\eta_{B},\\eta_{U},t \\right )} + \\frac{\\Phi_{A} \\Phi_{B}}{2} s_{2} \\frac{\\partial^{2}}{\\partial \\eta_{U}^{2}}  P{\\left (\\eta_{A},\\eta_{B},\\eta_{U},t \\right )} + \\frac{\\Phi_{A} \\Phi_{U}}{2} r_{1} \\frac{\\partial^{2}}{\\partial \\eta_{A}^{2}}  P{\\left (\\eta_{A},\\eta_{B},\\eta_{U},t \\right )} - \\Phi_{A} \\Phi_{U} r_{1} \\frac{\\partial^{2}}{\\partial \\eta_{A}\\partial \\eta_{U}}  P{\\left (\\eta_{A},\\eta_{B},\\eta_{U},t \\right )} + \\frac{\\Phi_{A} \\Phi_{U}}{2} r_{1} \\frac{\\partial^{2}}{\\partial \\eta_{U}^{2}}  P{\\left (\\eta_{A},\\eta_{B},\\eta_{U},t \\right )} + \\frac{\\Phi_{A} a_{1}}{2} \\frac{\\partial^{2}}{\\partial \\eta_{A}^{2}}  P{\\left (\\eta_{A},\\eta_{B},\\eta_{U},t \\right )} - \\Phi_{A} a_{1} \\frac{\\partial^{2}}{\\partial \\eta_{A}\\partial \\eta_{U}}  P{\\left (\\eta_{A},\\eta_{B},\\eta_{U},t \\right )} + \\frac{\\Phi_{A} a_{1}}{2} \\frac{\\partial^{2}}{\\partial \\eta_{U}^{2}}  P{\\left (\\eta_{A},\\eta_{B},\\eta_{U},t \\right )} + \\Phi_{A} \\eta_{B} s_{1} \\frac{\\partial}{\\partial \\eta_{B}} P{\\left (\\eta_{A},\\eta_{B},\\eta_{U},t \\right )} - \\Phi_{A} \\eta_{B} s_{1} \\frac{\\partial}{\\partial \\eta_{U}} P{\\left (\\eta_{A},\\eta_{B},\\eta_{U},t \\right )} + \\Phi_{A} \\eta_{B} s_{2} \\frac{\\partial}{\\partial \\eta_{A}} P{\\left (\\eta_{A},\\eta_{B},\\eta_{U},t \\right )} - \\Phi_{A} \\eta_{B} s_{2} \\frac{\\partial}{\\partial \\eta_{U}} P{\\left (\\eta_{A},\\eta_{B},\\eta_{U},t \\right )} - \\Phi_{A} \\eta_{U} r_{1} \\frac{\\partial}{\\partial \\eta_{A}} P{\\left (\\eta_{A},\\eta_{B},\\eta_{U},t \\right )} + \\Phi_{A} \\eta_{U} r_{1} \\frac{\\partial}{\\partial \\eta_{U}} P{\\left (\\eta_{A},\\eta_{B},\\eta_{U},t \\right )} + \\Phi_{A} r_{1} P{\\left (\\eta_{A},\\eta_{B},\\eta_{U},t \\right )} + \\Phi_{A} s_{1} P{\\left (\\eta_{A},\\eta_{B},\\eta_{U},t \\right )} + \\frac{\\Phi_{B} \\Phi_{U}}{2} r_{2} \\frac{\\partial^{2}}{\\partial \\eta_{B}^{2}}  P{\\left (\\eta_{A},\\eta_{B},\\eta_{U},t \\right )} - \\Phi_{B} \\Phi_{U} r_{2} \\frac{\\partial^{2}}{\\partial \\eta_{B}\\partial \\eta_{U}}  P{\\left (\\eta_{A},\\eta_{B},\\eta_{U},t \\right )} + \\frac{\\Phi_{B} \\Phi_{U}}{2} r_{2} \\frac{\\partial^{2}}{\\partial \\eta_{U}^{2}}  P{\\left (\\eta_{A},\\eta_{B},\\eta_{U},t \\right )} + \\frac{\\Phi_{B} a_{2}}{2} \\frac{\\partial^{2}}{\\partial \\eta_{B}^{2}}  P{\\left (\\eta_{A},\\eta_{B},\\eta_{U},t \\right )} - \\Phi_{B} a_{2} \\frac{\\partial^{2}}{\\partial \\eta_{B}\\partial \\eta_{U}}  P{\\left (\\eta_{A},\\eta_{B},\\eta_{U},t \\right )} + \\frac{\\Phi_{B} a_{2}}{2} \\frac{\\partial^{2}}{\\partial \\eta_{U}^{2}}  P{\\left (\\eta_{A},\\eta_{B},\\eta_{U},t \\right )} + \\Phi_{B} \\eta_{A} s_{1} \\frac{\\partial}{\\partial \\eta_{B}} P{\\left (\\eta_{A},\\eta_{B},\\eta_{U},t \\right )} - \\Phi_{B} \\eta_{A} s_{1} \\frac{\\partial}{\\partial \\eta_{U}} P{\\left (\\eta_{A},\\eta_{B},\\eta_{U},t \\right )} + \\Phi_{B} \\eta_{A} s_{2} \\frac{\\partial}{\\partial \\eta_{A}} P{\\left (\\eta_{A},\\eta_{B},\\eta_{U},t \\right )} - \\Phi_{B} \\eta_{A} s_{2} \\frac{\\partial}{\\partial \\eta_{U}} P{\\left (\\eta_{A},\\eta_{B},\\eta_{U},t \\right )} - \\Phi_{B} \\eta_{U} r_{2} \\frac{\\partial}{\\partial \\eta_{B}} P{\\left (\\eta_{A},\\eta_{B},\\eta_{U},t \\right )} + \\Phi_{B} \\eta_{U} r_{2} \\frac{\\partial}{\\partial \\eta_{U}} P{\\left (\\eta_{A},\\eta_{B},\\eta_{U},t \\right )} + \\Phi_{B} r_{2} P{\\left (\\eta_{A},\\eta_{B},\\eta_{U},t \\right )} + \\Phi_{B} s_{2} P{\\left (\\eta_{A},\\eta_{B},\\eta_{U},t \\right )} - \\Phi_{U} \\eta_{A} r_{1} \\frac{\\partial}{\\partial \\eta_{A}} P{\\left (\\eta_{A},\\eta_{B},\\eta_{U},t \\right )} + \\Phi_{U} \\eta_{A} r_{1} \\frac{\\partial}{\\partial \\eta_{U}} P{\\left (\\eta_{A},\\eta_{B},\\eta_{U},t \\right )} - \\Phi_{U} \\eta_{B} r_{2} \\frac{\\partial}{\\partial \\eta_{B}} P{\\left (\\eta_{A},\\eta_{B},\\eta_{U},t \\right )} + \\Phi_{U} \\eta_{B} r_{2} \\frac{\\partial}{\\partial \\eta_{U}} P{\\left (\\eta_{A},\\eta_{B},\\eta_{U},t \\right )} + \\frac{\\Phi_{U} g_{1}}{2} \\frac{\\partial^{2}}{\\partial \\eta_{A}^{2}}  P{\\left (\\eta_{A},\\eta_{B},\\eta_{U},t \\right )} - \\Phi_{U} g_{1} \\frac{\\partial^{2}}{\\partial \\eta_{A}\\partial \\eta_{U}}  P{\\left (\\eta_{A},\\eta_{B},\\eta_{U},t \\right )} + \\frac{\\Phi_{U} g_{1}}{2} \\frac{\\partial^{2}}{\\partial \\eta_{U}^{2}}  P{\\left (\\eta_{A},\\eta_{B},\\eta_{U},t \\right )} + \\frac{\\Phi_{U} g_{2}}{2} \\frac{\\partial^{2}}{\\partial \\eta_{B}^{2}}  P{\\left (\\eta_{A},\\eta_{B},\\eta_{U},t \\right )} - \\Phi_{U} g_{2} \\frac{\\partial^{2}}{\\partial \\eta_{B}\\partial \\eta_{U}}  P{\\left (\\eta_{A},\\eta_{B},\\eta_{U},t \\right )} + \\frac{\\Phi_{U} g_{2}}{2} \\frac{\\partial^{2}}{\\partial \\eta_{U}^{2}}  P{\\left (\\eta_{A},\\eta_{B},\\eta_{U},t \\right )} - \\Phi_{U} r_{1} P{\\left (\\eta_{A},\\eta_{B},\\eta_{U},t \\right )} - \\Phi_{U} r_{2} P{\\left (\\eta_{A},\\eta_{B},\\eta_{U},t \\right )} + a_{1} \\eta_{A} \\frac{\\partial}{\\partial \\eta_{A}} P{\\left (\\eta_{A},\\eta_{B},\\eta_{U},t \\right )} - a_{1} \\eta_{A} \\frac{\\partial}{\\partial \\eta_{U}} P{\\left (\\eta_{A},\\eta_{B},\\eta_{U},t \\right )} + a_{1} P{\\left (\\eta_{A},\\eta_{B},\\eta_{U},t \\right )} + a_{2} \\eta_{B} \\frac{\\partial}{\\partial \\eta_{B}} P{\\left (\\eta_{A},\\eta_{B},\\eta_{U},t \\right )} - a_{2} \\eta_{B} \\frac{\\partial}{\\partial \\eta_{U}} P{\\left (\\eta_{A},\\eta_{B},\\eta_{U},t \\right )} + a_{2} P{\\left (\\eta_{A},\\eta_{B},\\eta_{U},t \\right )} - \\eta_{U} g_{1} \\frac{\\partial}{\\partial \\eta_{A}} P{\\left (\\eta_{A},\\eta_{B},\\eta_{U},t \\right )} + \\eta_{U} g_{1} \\frac{\\partial}{\\partial \\eta_{U}} P{\\left (\\eta_{A},\\eta_{B},\\eta_{U},t \\right )} - \\eta_{U} g_{2} \\frac{\\partial}{\\partial \\eta_{B}} P{\\left (\\eta_{A},\\eta_{B},\\eta_{U},t \\right )} + \\eta_{U} g_{2} \\frac{\\partial}{\\partial \\eta_{U}} P{\\left (\\eta_{A},\\eta_{B},\\eta_{U},t \\right )} + g_{1} P{\\left (\\eta_{A},\\eta_{B},\\eta_{U},t \\right )} + g_{2} P{\\left (\\eta_{A},\\eta_{B},\\eta_{U},t \\right )}$$"
      ],
      "text/plain": [
       "<IPython.core.display.Math object>"
      ]
     },
     "metadata": {},
     "output_type": "display_data"
    }
   ],
   "source": [
    "model4.showFokkerPlanckEquation()"
   ]
  },
  {
   "cell_type": "code",
   "execution_count": null,
   "metadata": {},
   "outputs": [],
   "source": []
  },
  {
   "cell_type": "code",
   "execution_count": 52,
   "metadata": {},
   "outputs": [],
   "source": [
    "model5 = model4.substitute('s_1 = s, s_2 = s, s_3 = s, s_4 = s, s_5 = s, s_6 = s, U = N-A-B')"
   ]
  },
  {
   "cell_type": "code",
   "execution_count": 53,
   "metadata": {},
   "outputs": [
    {
     "data": {
      "text/latex": [
       "$$a_{2}\\; (Reaction 4)$$"
      ],
      "text/plain": [
       "<IPython.core.display.Math object>"
      ]
     },
     "metadata": {},
     "output_type": "display_data"
    },
    {
     "data": {
      "text/latex": [
       "$$s\\; (Reaction 8)$$"
      ],
      "text/plain": [
       "<IPython.core.display.Math object>"
      ]
     },
     "metadata": {},
     "output_type": "display_data"
    },
    {
     "data": {
      "text/latex": [
       "$$a_{1}\\; (Reaction 3)$$"
      ],
      "text/plain": [
       "<IPython.core.display.Math object>"
      ]
     },
     "metadata": {},
     "output_type": "display_data"
    },
    {
     "data": {
      "text/latex": [
       "$$r_{2}\\; (Reaction 6)$$"
      ],
      "text/plain": [
       "<IPython.core.display.Math object>"
      ]
     },
     "metadata": {},
     "output_type": "display_data"
    },
    {
     "data": {
      "text/latex": [
       "$$g_{1}\\; (Reaction 1)$$"
      ],
      "text/plain": [
       "<IPython.core.display.Math object>"
      ]
     },
     "metadata": {},
     "output_type": "display_data"
    },
    {
     "data": {
      "text/latex": [
       "$$g_{2}\\; (Reaction 2)$$"
      ],
      "text/plain": [
       "<IPython.core.display.Math object>"
      ]
     },
     "metadata": {},
     "output_type": "display_data"
    },
    {
     "data": {
      "text/latex": [
       "$$r_{1}\\; (Reaction 5)$$"
      ],
      "text/plain": [
       "<IPython.core.display.Math object>"
      ]
     },
     "metadata": {},
     "output_type": "display_data"
    },
    {
     "data": {
      "text/latex": [
       "$$s\\; (Reaction 7)$$"
      ],
      "text/plain": [
       "<IPython.core.display.Math object>"
      ]
     },
     "metadata": {},
     "output_type": "display_data"
    }
   ],
   "source": [
    "model5.showRates()"
   ]
  },
  {
   "cell_type": "code",
   "execution_count": 54,
   "metadata": {},
   "outputs": [
    {
     "data": {
      "text/latex": [
       "$$s$$"
      ],
      "text/plain": [
       "<IPython.core.display.Math object>"
      ]
     },
     "metadata": {},
     "output_type": "display_data"
    },
    {
     "data": {
      "text/latex": [
       "$$g_{1}$$"
      ],
      "text/plain": [
       "<IPython.core.display.Math object>"
      ]
     },
     "metadata": {},
     "output_type": "display_data"
    },
    {
     "data": {
      "text/latex": [
       "$$a_{2}$$"
      ],
      "text/plain": [
       "<IPython.core.display.Math object>"
      ]
     },
     "metadata": {},
     "output_type": "display_data"
    },
    {
     "data": {
      "text/latex": [
       "$$a_{1}$$"
      ],
      "text/plain": [
       "<IPython.core.display.Math object>"
      ]
     },
     "metadata": {},
     "output_type": "display_data"
    },
    {
     "data": {
      "text/latex": [
       "$$r_{1}$$"
      ],
      "text/plain": [
       "<IPython.core.display.Math object>"
      ]
     },
     "metadata": {},
     "output_type": "display_data"
    },
    {
     "data": {
      "text/latex": [
       "$$g_{2}$$"
      ],
      "text/plain": [
       "<IPython.core.display.Math object>"
      ]
     },
     "metadata": {},
     "output_type": "display_data"
    },
    {
     "data": {
      "text/latex": [
       "$$r_{2}$$"
      ],
      "text/plain": [
       "<IPython.core.display.Math object>"
      ]
     },
     "metadata": {},
     "output_type": "display_data"
    }
   ],
   "source": [
    "model5.showRatesOLD()"
   ]
  },
  {
   "cell_type": "code",
   "execution_count": 55,
   "metadata": {},
   "outputs": [
    {
     "data": {
      "text/latex": [
       "$$A$$"
      ],
      "text/plain": [
       "<IPython.core.display.Math object>"
      ]
     },
     "metadata": {},
     "output_type": "display_data"
    },
    {
     "data": {
      "text/latex": [
       "$$B$$"
      ],
      "text/plain": [
       "<IPython.core.display.Math object>"
      ]
     },
     "metadata": {},
     "output_type": "display_data"
    }
   ],
   "source": [
    "model5.showReactants()"
   ]
  },
  {
   "cell_type": "code",
   "execution_count": 56,
   "metadata": {},
   "outputs": [
    {
     "data": {
      "text/latex": [
       "$$\\displaystyle \\frac{\\textrm{d}A}{\\textrm{d}t} := - A B s - A a_{1} + A r_{1} \\left(- B + - A + N\\right) + g_{1} \\left(- B + - A + N\\right)$$"
      ],
      "text/plain": [
       "<IPython.core.display.Math object>"
      ]
     },
     "metadata": {},
     "output_type": "display_data"
    },
    {
     "data": {
      "text/latex": [
       "$$\\displaystyle \\frac{\\textrm{d}B}{\\textrm{d}t} := - A B s - B a_{2} + B r_{2} \\left(- B + - A + N\\right) + g_{2} \\left(- B + - A + N\\right)$$"
      ],
      "text/plain": [
       "<IPython.core.display.Math object>"
      ]
     },
     "metadata": {},
     "output_type": "display_data"
    }
   ],
   "source": [
    "model5.showODEs()"
   ]
  },
  {
   "cell_type": "code",
   "execution_count": 57,
   "metadata": {},
   "outputs": [
    {
     "data": {
      "text/latex": [
       "$$\\left \\{ Reaction 1 : \\left \\{ rate : g_{1}, \\quad A : \\left [ 0, \\quad 1\\right ], \\quad U : \\left [ 1, \\quad 0, \\quad \\left \\{ U : - B + - A + N\\right \\}\\right ]\\right \\}, \\quad Reaction 2 : \\left \\{ rate : g_{2}, \\quad B : \\left [ 0, \\quad 1\\right ], \\quad U : \\left [ 1, \\quad 0, \\quad \\left \\{ U : - B + - A + N\\right \\}\\right ]\\right \\}, \\quad Reaction 3 : \\left \\{ rate : a_{1}, \\quad A : \\left [ 1, \\quad 0\\right ], \\quad U : \\left [ 0, \\quad 1, \\quad \\left \\{ U : - B + - A + N\\right \\}\\right ]\\right \\}, \\quad Reaction 4 : \\left \\{ rate : a_{2}, \\quad B : \\left [ 1, \\quad 0\\right ], \\quad U : \\left [ 0, \\quad 1, \\quad \\left \\{ U : - B + - A + N\\right \\}\\right ]\\right \\}, \\quad Reaction 5 : \\left \\{ rate : r_{1}, \\quad A : \\left [ 1, \\quad 2\\right ], \\quad U : \\left [ 1, \\quad 0, \\quad \\left \\{ U : - B + - A + N\\right \\}\\right ]\\right \\}, \\quad Reaction 6 : \\left \\{ rate : r_{2}, \\quad B : \\left [ 1, \\quad 2\\right ], \\quad U : \\left [ 1, \\quad 0, \\quad \\left \\{ U : - B + - A + N\\right \\}\\right ]\\right \\}, \\quad Reaction 7 : \\left \\{ rate : s, \\quad A : \\left [ 1, \\quad 1\\right ], \\quad B : \\left [ 1, \\quad 0\\right ], \\quad U : \\left [ 0, \\quad 1, \\quad \\left \\{ U : - B + - A + N\\right \\}\\right ]\\right \\}, \\quad Reaction 8 : \\left \\{ rate : s, \\quad A : \\left [ 1, \\quad 0\\right ], \\quad B : \\left [ 1, \\quad 1\\right ], \\quad U : \\left [ 0, \\quad 1, \\quad \\left \\{ U : - B + - A + N\\right \\}\\right ]\\right \\}\\right \\}$$"
      ],
      "text/plain": [
       "<IPython.core.display.Math object>"
      ]
     },
     "metadata": {},
     "output_type": "display_data"
    }
   ],
   "source": [
    "model5.showStoichiometry()"
   ]
  },
  {
   "cell_type": "code",
   "execution_count": 58,
   "metadata": {},
   "outputs": [
    {
     "data": {
      "text/latex": [
       "$$\\frac{\\partial}{\\partial t} P{\\left (A,B,U,t \\right )}:= a_{2} ( \\operatorname{E_{op}}{\\left (B,1 \\right )} \\operatorname{E_{op}}{\\left (U,-1 \\right )} - 1 ) BP{\\left (A,B,U,t \\right )} + s ( \\operatorname{E_{op}}{\\left (A,1 \\right )} \\operatorname{E_{op}}{\\left (B,0 \\right )} \\operatorname{E_{op}}{\\left (U,-1 \\right )} - 1 ) \\frac{A B}{V}P{\\left (A,B,U,t \\right )} + a_{1} ( \\operatorname{E_{op}}{\\left (A,1 \\right )} \\operatorname{E_{op}}{\\left (U,-1 \\right )} - 1 ) AP{\\left (A,B,U,t \\right )} + r_{2} ( \\operatorname{E_{op}}{\\left (B,-1 \\right )} \\operatorname{E_{op}}{\\left (U,1 \\right )} - 1 ) \\frac{B U}{V}P{\\left (A,B,U,t \\right )} + g_{1} ( \\operatorname{E_{op}}{\\left (A,-1 \\right )} \\operatorname{E_{op}}{\\left (U,1 \\right )} - 1 ) UP{\\left (A,B,U,t \\right )} + g_{2} ( \\operatorname{E_{op}}{\\left (B,-1 \\right )} \\operatorname{E_{op}}{\\left (U,1 \\right )} - 1 ) UP{\\left (A,B,U,t \\right )} + r_{1} ( \\operatorname{E_{op}}{\\left (A,-1 \\right )} \\operatorname{E_{op}}{\\left (U,1 \\right )} - 1 ) \\frac{A U}{V}P{\\left (A,B,U,t \\right )} + s ( \\operatorname{E_{op}}{\\left (A,0 \\right )} \\operatorname{E_{op}}{\\left (B,1 \\right )} \\operatorname{E_{op}}{\\left (U,-1 \\right )} - 1 ) \\frac{A B}{V}P{\\left (A,B,U,t \\right )}$$"
      ],
      "text/plain": [
       "<IPython.core.display.Math object>"
      ]
     },
     "metadata": {},
     "output_type": "display_data"
    },
    {
     "data": {
      "text/latex": [
       "$$With \\; substitution:\\;U:= - B + - A + N$$"
      ],
      "text/plain": [
       "<IPython.core.display.Math object>"
      ]
     },
     "metadata": {},
     "output_type": "display_data"
    }
   ],
   "source": [
    "model5.showMasterEquation()"
   ]
  },
  {
   "cell_type": "code",
   "execution_count": 59,
   "metadata": {},
   "outputs": [
    {
     "data": {
      "text/latex": [
       "$$- \\sqrt{V} \\frac{d}{d t} \\Phi_{A} \\frac{\\partial}{\\partial \\eta_{A}} P{\\left (\\eta_{A},\\eta_{B},\\eta_{U},t \\right )} - \\sqrt{V} \\frac{d}{d t} \\Phi_{B} \\frac{\\partial}{\\partial \\eta_{B}} P{\\left (\\eta_{A},\\eta_{B},\\eta_{U},t \\right )} - \\sqrt{V} \\frac{d}{d t} \\Phi_{U} \\frac{\\partial}{\\partial \\eta_{U}} P{\\left (\\eta_{A},\\eta_{B},\\eta_{U},t \\right )} + \\frac{\\partial}{\\partial t} P{\\left (\\eta_{A},\\eta_{B},\\eta_{U},t \\right )} := \n",
       "\\Phi_{A} \\Phi_{B} \\sqrt{V} s \\frac{\\partial}{\\partial \\eta_{A}} P{\\left (\\eta_{A},\\eta_{B},\\eta_{U},t \\right )} + \\Phi_{A} \\Phi_{B} \\sqrt{V} s \\frac{\\partial}{\\partial \\eta_{B}} P{\\left (\\eta_{A},\\eta_{B},\\eta_{U},t \\right )} - 2 \\Phi_{A} \\Phi_{B} \\sqrt{V} s \\frac{\\partial}{\\partial \\eta_{U}} P{\\left (\\eta_{A},\\eta_{B},\\eta_{U},t \\right )} + \\frac{\\Phi_{A} \\Phi_{B}}{2} s \\frac{\\partial^{2}}{\\partial \\eta_{A}^{2}}  P{\\left (\\eta_{A},\\eta_{B},\\eta_{U},t \\right )} - \\Phi_{A} \\Phi_{B} s \\frac{\\partial^{2}}{\\partial \\eta_{A}\\partial \\eta_{U}}  P{\\left (\\eta_{A},\\eta_{B},\\eta_{U},t \\right )} + \\frac{\\Phi_{A} \\Phi_{B}}{2} s \\frac{\\partial^{2}}{\\partial \\eta_{B}^{2}}  P{\\left (\\eta_{A},\\eta_{B},\\eta_{U},t \\right )} - \\Phi_{A} \\Phi_{B} s \\frac{\\partial^{2}}{\\partial \\eta_{B}\\partial \\eta_{U}}  P{\\left (\\eta_{A},\\eta_{B},\\eta_{U},t \\right )} + \\Phi_{A} \\Phi_{B} s \\frac{\\partial^{2}}{\\partial \\eta_{U}^{2}}  P{\\left (\\eta_{A},\\eta_{B},\\eta_{U},t \\right )} + \\frac{\\Phi_{A} \\Phi_{B} s}{4 V} \\frac{\\partial^{4}}{\\partial \\eta_{A}^{2}\\partial \\eta_{U}^{2}}  P{\\left (\\eta_{A},\\eta_{B},\\eta_{U},t \\right )} + \\frac{\\Phi_{A} \\Phi_{B} s}{4 V} \\frac{\\partial^{4}}{\\partial \\eta_{B}^{2}\\partial \\eta_{U}^{2}}  P{\\left (\\eta_{A},\\eta_{B},\\eta_{U},t \\right )} - \\frac{\\Phi_{A} \\Phi_{B} s}{2 \\sqrt{V}} \\frac{\\partial^{3}}{\\partial \\eta_{A}^{2}\\partial \\eta_{U}}  P{\\left (\\eta_{A},\\eta_{B},\\eta_{U},t \\right )} + \\frac{\\Phi_{A} \\Phi_{B} s}{2 \\sqrt{V}} \\frac{\\partial^{3}}{\\partial \\eta_{A}\\partial \\eta_{U}^{2}}  P{\\left (\\eta_{A},\\eta_{B},\\eta_{U},t \\right )} - \\frac{\\Phi_{A} \\Phi_{B} s}{2 \\sqrt{V}} \\frac{\\partial^{3}}{\\partial \\eta_{B}^{2}\\partial \\eta_{U}}  P{\\left (\\eta_{A},\\eta_{B},\\eta_{U},t \\right )} + \\frac{\\Phi_{A} \\Phi_{B} s}{2 \\sqrt{V}} \\frac{\\partial^{3}}{\\partial \\eta_{B}\\partial \\eta_{U}^{2}}  P{\\left (\\eta_{A},\\eta_{B},\\eta_{U},t \\right )} - \\Phi_{A} \\Phi_{U} \\sqrt{V} r_{1} \\frac{\\partial}{\\partial \\eta_{A}} P{\\left (\\eta_{A},\\eta_{B},\\eta_{U},t \\right )} + \\Phi_{A} \\Phi_{U} \\sqrt{V} r_{1} \\frac{\\partial}{\\partial \\eta_{U}} P{\\left (\\eta_{A},\\eta_{B},\\eta_{U},t \\right )} + \\frac{\\Phi_{A} \\Phi_{U}}{2} r_{1} \\frac{\\partial^{2}}{\\partial \\eta_{A}^{2}}  P{\\left (\\eta_{A},\\eta_{B},\\eta_{U},t \\right )} - \\Phi_{A} \\Phi_{U} r_{1} \\frac{\\partial^{2}}{\\partial \\eta_{A}\\partial \\eta_{U}}  P{\\left (\\eta_{A},\\eta_{B},\\eta_{U},t \\right )} + \\frac{\\Phi_{A} \\Phi_{U}}{2} r_{1} \\frac{\\partial^{2}}{\\partial \\eta_{U}^{2}}  P{\\left (\\eta_{A},\\eta_{B},\\eta_{U},t \\right )} + \\frac{\\Phi_{A} \\Phi_{U} r_{1}}{4 V} \\frac{\\partial^{4}}{\\partial \\eta_{A}^{2}\\partial \\eta_{U}^{2}}  P{\\left (\\eta_{A},\\eta_{B},\\eta_{U},t \\right )} + \\frac{\\Phi_{A} \\Phi_{U} r_{1}}{2 \\sqrt{V}} \\frac{\\partial^{3}}{\\partial \\eta_{A}^{2}\\partial \\eta_{U}}  P{\\left (\\eta_{A},\\eta_{B},\\eta_{U},t \\right )} - \\frac{\\Phi_{A} \\Phi_{U} r_{1}}{2 \\sqrt{V}} \\frac{\\partial^{3}}{\\partial \\eta_{A}\\partial \\eta_{U}^{2}}  P{\\left (\\eta_{A},\\eta_{B},\\eta_{U},t \\right )} + \\Phi_{A} \\sqrt{V} a_{1} \\frac{\\partial}{\\partial \\eta_{A}} P{\\left (\\eta_{A},\\eta_{B},\\eta_{U},t \\right )} - \\Phi_{A} \\sqrt{V} a_{1} \\frac{\\partial}{\\partial \\eta_{U}} P{\\left (\\eta_{A},\\eta_{B},\\eta_{U},t \\right )} + \\frac{\\Phi_{A} a_{1}}{2} \\frac{\\partial^{2}}{\\partial \\eta_{A}^{2}}  P{\\left (\\eta_{A},\\eta_{B},\\eta_{U},t \\right )} - \\Phi_{A} a_{1} \\frac{\\partial^{2}}{\\partial \\eta_{A}\\partial \\eta_{U}}  P{\\left (\\eta_{A},\\eta_{B},\\eta_{U},t \\right )} + \\frac{\\Phi_{A} a_{1}}{2} \\frac{\\partial^{2}}{\\partial \\eta_{U}^{2}}  P{\\left (\\eta_{A},\\eta_{B},\\eta_{U},t \\right )} + \\Phi_{A} \\eta_{B} s \\frac{\\partial}{\\partial \\eta_{A}} P{\\left (\\eta_{A},\\eta_{B},\\eta_{U},t \\right )} + \\Phi_{A} \\eta_{B} s \\frac{\\partial}{\\partial \\eta_{B}} P{\\left (\\eta_{A},\\eta_{B},\\eta_{U},t \\right )} - 2 \\Phi_{A} \\eta_{B} s \\frac{\\partial}{\\partial \\eta_{U}} P{\\left (\\eta_{A},\\eta_{B},\\eta_{U},t \\right )} - \\Phi_{A} \\eta_{U} r_{1} \\frac{\\partial}{\\partial \\eta_{A}} P{\\left (\\eta_{A},\\eta_{B},\\eta_{U},t \\right )} + \\Phi_{A} \\eta_{U} r_{1} \\frac{\\partial}{\\partial \\eta_{U}} P{\\left (\\eta_{A},\\eta_{B},\\eta_{U},t \\right )} + \\Phi_{A} r_{1} P{\\left (\\eta_{A},\\eta_{B},\\eta_{U},t \\right )} + \\Phi_{A} s P{\\left (\\eta_{A},\\eta_{B},\\eta_{U},t \\right )} + \\frac{\\Phi_{A} a_{1}}{4 V} \\frac{\\partial^{4}}{\\partial \\eta_{A}^{2}\\partial \\eta_{U}^{2}}  P{\\left (\\eta_{A},\\eta_{B},\\eta_{U},t \\right )} - \\frac{\\Phi_{A} \\eta_{B} s}{2 V} \\frac{\\partial^{3}}{\\partial \\eta_{A}^{2}\\partial \\eta_{U}}  P{\\left (\\eta_{A},\\eta_{B},\\eta_{U},t \\right )} + \\frac{\\Phi_{A} \\eta_{B} s}{2 V} \\frac{\\partial^{3}}{\\partial \\eta_{A}\\partial \\eta_{U}^{2}}  P{\\left (\\eta_{A},\\eta_{B},\\eta_{U},t \\right )} - \\frac{\\Phi_{A} \\eta_{B} s}{2 V} \\frac{\\partial^{3}}{\\partial \\eta_{B}^{2}\\partial \\eta_{U}}  P{\\left (\\eta_{A},\\eta_{B},\\eta_{U},t \\right )} + \\frac{\\Phi_{A} \\eta_{B} s}{2 V} \\frac{\\partial^{3}}{\\partial \\eta_{B}\\partial \\eta_{U}^{2}}  P{\\left (\\eta_{A},\\eta_{B},\\eta_{U},t \\right )} + \\frac{\\Phi_{A} \\eta_{U} r_{1}}{2 V} \\frac{\\partial^{3}}{\\partial \\eta_{A}^{2}\\partial \\eta_{U}}  P{\\left (\\eta_{A},\\eta_{B},\\eta_{U},t \\right )} - \\frac{\\Phi_{A} \\eta_{U} r_{1}}{2 V} \\frac{\\partial^{3}}{\\partial \\eta_{A}\\partial \\eta_{U}^{2}}  P{\\left (\\eta_{A},\\eta_{B},\\eta_{U},t \\right )} + \\frac{\\Phi_{A} r_{1}}{2 V} \\frac{\\partial^{2}}{\\partial \\eta_{A}^{2}}  P{\\left (\\eta_{A},\\eta_{B},\\eta_{U},t \\right )} - \\frac{\\Phi_{A} r_{1}}{V} \\frac{\\partial^{2}}{\\partial \\eta_{A}\\partial \\eta_{U}}  P{\\left (\\eta_{A},\\eta_{B},\\eta_{U},t \\right )} - \\frac{\\Phi_{A} s}{V} \\frac{\\partial^{2}}{\\partial \\eta_{B}\\partial \\eta_{U}}  P{\\left (\\eta_{A},\\eta_{B},\\eta_{U},t \\right )} + \\frac{\\Phi_{A} s}{2 V} \\frac{\\partial^{2}}{\\partial \\eta_{U}^{2}}  P{\\left (\\eta_{A},\\eta_{B},\\eta_{U},t \\right )} - \\frac{\\Phi_{A} a_{1}}{2 \\sqrt{V}} \\frac{\\partial^{3}}{\\partial \\eta_{A}^{2}\\partial \\eta_{U}}  P{\\left (\\eta_{A},\\eta_{B},\\eta_{U},t \\right )} + \\frac{\\Phi_{A} a_{1}}{2 \\sqrt{V}} \\frac{\\partial^{3}}{\\partial \\eta_{A}\\partial \\eta_{U}^{2}}  P{\\left (\\eta_{A},\\eta_{B},\\eta_{U},t \\right )} + \\frac{\\Phi_{A} \\eta_{B} s}{2 \\sqrt{V}} \\frac{\\partial^{2}}{\\partial \\eta_{A}^{2}}  P{\\left (\\eta_{A},\\eta_{B},\\eta_{U},t \\right )} - \\frac{\\Phi_{A} \\eta_{B}}{\\sqrt{V}} s \\frac{\\partial^{2}}{\\partial \\eta_{A}\\partial \\eta_{U}}  P{\\left (\\eta_{A},\\eta_{B},\\eta_{U},t \\right )} + \\frac{\\Phi_{A} \\eta_{B} s}{2 \\sqrt{V}} \\frac{\\partial^{2}}{\\partial \\eta_{B}^{2}}  P{\\left (\\eta_{A},\\eta_{B},\\eta_{U},t \\right )} - \\frac{\\Phi_{A} \\eta_{B}}{\\sqrt{V}} s \\frac{\\partial^{2}}{\\partial \\eta_{B}\\partial \\eta_{U}}  P{\\left (\\eta_{A},\\eta_{B},\\eta_{U},t \\right )} + \\frac{\\Phi_{A} \\eta_{B}}{\\sqrt{V}} s \\frac{\\partial^{2}}{\\partial \\eta_{U}^{2}}  P{\\left (\\eta_{A},\\eta_{B},\\eta_{U},t \\right )} + \\frac{\\Phi_{A} \\eta_{U} r_{1}}{2 \\sqrt{V}} \\frac{\\partial^{2}}{\\partial \\eta_{A}^{2}}  P{\\left (\\eta_{A},\\eta_{B},\\eta_{U},t \\right )} - \\frac{\\Phi_{A} \\eta_{U}}{\\sqrt{V}} r_{1} \\frac{\\partial^{2}}{\\partial \\eta_{A}\\partial \\eta_{U}}  P{\\left (\\eta_{A},\\eta_{B},\\eta_{U},t \\right )} + \\frac{\\Phi_{A} \\eta_{U} r_{1}}{2 \\sqrt{V}} \\frac{\\partial^{2}}{\\partial \\eta_{U}^{2}}  P{\\left (\\eta_{A},\\eta_{B},\\eta_{U},t \\right )} - \\frac{\\Phi_{A} r_{1}}{\\sqrt{V}} \\frac{\\partial}{\\partial \\eta_{A}} P{\\left (\\eta_{A},\\eta_{B},\\eta_{U},t \\right )} + \\frac{\\Phi_{A} r_{1}}{\\sqrt{V}} \\frac{\\partial}{\\partial \\eta_{U}} P{\\left (\\eta_{A},\\eta_{B},\\eta_{U},t \\right )} + \\frac{\\Phi_{A} s}{\\sqrt{V}} \\frac{\\partial}{\\partial \\eta_{B}} P{\\left (\\eta_{A},\\eta_{B},\\eta_{U},t \\right )} - \\frac{\\Phi_{A} s}{\\sqrt{V}} \\frac{\\partial}{\\partial \\eta_{U}} P{\\left (\\eta_{A},\\eta_{B},\\eta_{U},t \\right )} + \\frac{\\Phi_{A} \\eta_{B} s}{4 V^{\\frac{3}{2}}} \\frac{\\partial^{4}}{\\partial \\eta_{A}^{2}\\partial \\eta_{U}^{2}}  P{\\left (\\eta_{A},\\eta_{B},\\eta_{U},t \\right )} + \\frac{\\Phi_{A} \\eta_{B} s}{4 V^{\\frac{3}{2}}} \\frac{\\partial^{4}}{\\partial \\eta_{B}^{2}\\partial \\eta_{U}^{2}}  P{\\left (\\eta_{A},\\eta_{B},\\eta_{U},t \\right )} + \\frac{\\Phi_{A} \\eta_{U} r_{1}}{4 V^{\\frac{3}{2}}} \\frac{\\partial^{4}}{\\partial \\eta_{A}^{2}\\partial \\eta_{U}^{2}}  P{\\left (\\eta_{A},\\eta_{B},\\eta_{U},t \\right )} + \\frac{\\Phi_{A} r_{1}}{2 V^{\\frac{3}{2}}} \\frac{\\partial^{3}}{\\partial \\eta_{A}^{2}\\partial \\eta_{U}}  P{\\left (\\eta_{A},\\eta_{B},\\eta_{U},t \\right )} + \\frac{\\Phi_{A} s}{2 V^{\\frac{3}{2}}} \\frac{\\partial^{3}}{\\partial \\eta_{B}\\partial \\eta_{U}^{2}}  P{\\left (\\eta_{A},\\eta_{B},\\eta_{U},t \\right )} - \\Phi_{B} \\Phi_{U} \\sqrt{V} r_{2} \\frac{\\partial}{\\partial \\eta_{B}} P{\\left (\\eta_{A},\\eta_{B},\\eta_{U},t \\right )} + \\Phi_{B} \\Phi_{U} \\sqrt{V} r_{2} \\frac{\\partial}{\\partial \\eta_{U}} P{\\left (\\eta_{A},\\eta_{B},\\eta_{U},t \\right )} + \\frac{\\Phi_{B} \\Phi_{U}}{2} r_{2} \\frac{\\partial^{2}}{\\partial \\eta_{B}^{2}}  P{\\left (\\eta_{A},\\eta_{B},\\eta_{U},t \\right )} - \\Phi_{B} \\Phi_{U} r_{2} \\frac{\\partial^{2}}{\\partial \\eta_{B}\\partial \\eta_{U}}  P{\\left (\\eta_{A},\\eta_{B},\\eta_{U},t \\right )} + \\frac{\\Phi_{B} \\Phi_{U}}{2} r_{2} \\frac{\\partial^{2}}{\\partial \\eta_{U}^{2}}  P{\\left (\\eta_{A},\\eta_{B},\\eta_{U},t \\right )} + \\frac{\\Phi_{B} \\Phi_{U} r_{2}}{4 V} \\frac{\\partial^{4}}{\\partial \\eta_{B}^{2}\\partial \\eta_{U}^{2}}  P{\\left (\\eta_{A},\\eta_{B},\\eta_{U},t \\right )} + \\frac{\\Phi_{B} \\Phi_{U} r_{2}}{2 \\sqrt{V}} \\frac{\\partial^{3}}{\\partial \\eta_{B}^{2}\\partial \\eta_{U}}  P{\\left (\\eta_{A},\\eta_{B},\\eta_{U},t \\right )} - \\frac{\\Phi_{B} \\Phi_{U} r_{2}}{2 \\sqrt{V}} \\frac{\\partial^{3}}{\\partial \\eta_{B}\\partial \\eta_{U}^{2}}  P{\\left (\\eta_{A},\\eta_{B},\\eta_{U},t \\right )} + \\Phi_{B} \\sqrt{V} a_{2} \\frac{\\partial}{\\partial \\eta_{B}} P{\\left (\\eta_{A},\\eta_{B},\\eta_{U},t \\right )} - \\Phi_{B} \\sqrt{V} a_{2} \\frac{\\partial}{\\partial \\eta_{U}} P{\\left (\\eta_{A},\\eta_{B},\\eta_{U},t \\right )} + \\frac{\\Phi_{B} a_{2}}{2} \\frac{\\partial^{2}}{\\partial \\eta_{B}^{2}}  P{\\left (\\eta_{A},\\eta_{B},\\eta_{U},t \\right )} - \\Phi_{B} a_{2} \\frac{\\partial^{2}}{\\partial \\eta_{B}\\partial \\eta_{U}}  P{\\left (\\eta_{A},\\eta_{B},\\eta_{U},t \\right )} + \\frac{\\Phi_{B} a_{2}}{2} \\frac{\\partial^{2}}{\\partial \\eta_{U}^{2}}  P{\\left (\\eta_{A},\\eta_{B},\\eta_{U},t \\right )} + \\Phi_{B} \\eta_{A} s \\frac{\\partial}{\\partial \\eta_{A}} P{\\left (\\eta_{A},\\eta_{B},\\eta_{U},t \\right )} + \\Phi_{B} \\eta_{A} s \\frac{\\partial}{\\partial \\eta_{B}} P{\\left (\\eta_{A},\\eta_{B},\\eta_{U},t \\right )} - 2 \\Phi_{B} \\eta_{A} s \\frac{\\partial}{\\partial \\eta_{U}} P{\\left (\\eta_{A},\\eta_{B},\\eta_{U},t \\right )} - \\Phi_{B} \\eta_{U} r_{2} \\frac{\\partial}{\\partial \\eta_{B}} P{\\left (\\eta_{A},\\eta_{B},\\eta_{U},t \\right )} + \\Phi_{B} \\eta_{U} r_{2} \\frac{\\partial}{\\partial \\eta_{U}} P{\\left (\\eta_{A},\\eta_{B},\\eta_{U},t \\right )} + \\Phi_{B} r_{2} P{\\left (\\eta_{A},\\eta_{B},\\eta_{U},t \\right )} + \\Phi_{B} s P{\\left (\\eta_{A},\\eta_{B},\\eta_{U},t \\right )} + \\frac{\\Phi_{B} a_{2}}{4 V} \\frac{\\partial^{4}}{\\partial \\eta_{B}^{2}\\partial \\eta_{U}^{2}}  P{\\left (\\eta_{A},\\eta_{B},\\eta_{U},t \\right )} - \\frac{\\Phi_{B} \\eta_{A} s}{2 V} \\frac{\\partial^{3}}{\\partial \\eta_{A}^{2}\\partial \\eta_{U}}  P{\\left (\\eta_{A},\\eta_{B},\\eta_{U},t \\right )} + \\frac{\\Phi_{B} \\eta_{A} s}{2 V} \\frac{\\partial^{3}}{\\partial \\eta_{A}\\partial \\eta_{U}^{2}}  P{\\left (\\eta_{A},\\eta_{B},\\eta_{U},t \\right )} - \\frac{\\Phi_{B} \\eta_{A} s}{2 V} \\frac{\\partial^{3}}{\\partial \\eta_{B}^{2}\\partial \\eta_{U}}  P{\\left (\\eta_{A},\\eta_{B},\\eta_{U},t \\right )} + \\frac{\\Phi_{B} \\eta_{A} s}{2 V} \\frac{\\partial^{3}}{\\partial \\eta_{B}\\partial \\eta_{U}^{2}}  P{\\left (\\eta_{A},\\eta_{B},\\eta_{U},t \\right )} + \\frac{\\Phi_{B} \\eta_{U} r_{2}}{2 V} \\frac{\\partial^{3}}{\\partial \\eta_{B}^{2}\\partial \\eta_{U}}  P{\\left (\\eta_{A},\\eta_{B},\\eta_{U},t \\right )} - \\frac{\\Phi_{B} \\eta_{U} r_{2}}{2 V} \\frac{\\partial^{3}}{\\partial \\eta_{B}\\partial \\eta_{U}^{2}}  P{\\left (\\eta_{A},\\eta_{B},\\eta_{U},t \\right )} + \\frac{\\Phi_{B} r_{2}}{2 V} \\frac{\\partial^{2}}{\\partial \\eta_{B}^{2}}  P{\\left (\\eta_{A},\\eta_{B},\\eta_{U},t \\right )} - \\frac{\\Phi_{B} r_{2}}{V} \\frac{\\partial^{2}}{\\partial \\eta_{B}\\partial \\eta_{U}}  P{\\left (\\eta_{A},\\eta_{B},\\eta_{U},t \\right )} - \\frac{\\Phi_{B} s}{V} \\frac{\\partial^{2}}{\\partial \\eta_{A}\\partial \\eta_{U}}  P{\\left (\\eta_{A},\\eta_{B},\\eta_{U},t \\right )} + \\frac{\\Phi_{B} s}{2 V} \\frac{\\partial^{2}}{\\partial \\eta_{U}^{2}}  P{\\left (\\eta_{A},\\eta_{B},\\eta_{U},t \\right )} - \\frac{\\Phi_{B} a_{2}}{2 \\sqrt{V}} \\frac{\\partial^{3}}{\\partial \\eta_{B}^{2}\\partial \\eta_{U}}  P{\\left (\\eta_{A},\\eta_{B},\\eta_{U},t \\right )} + \\frac{\\Phi_{B} a_{2}}{2 \\sqrt{V}} \\frac{\\partial^{3}}{\\partial \\eta_{B}\\partial \\eta_{U}^{2}}  P{\\left (\\eta_{A},\\eta_{B},\\eta_{U},t \\right )} + \\frac{\\Phi_{B} \\eta_{A} s}{2 \\sqrt{V}} \\frac{\\partial^{2}}{\\partial \\eta_{A}^{2}}  P{\\left (\\eta_{A},\\eta_{B},\\eta_{U},t \\right )} - \\frac{\\Phi_{B} \\eta_{A}}{\\sqrt{V}} s \\frac{\\partial^{2}}{\\partial \\eta_{A}\\partial \\eta_{U}}  P{\\left (\\eta_{A},\\eta_{B},\\eta_{U},t \\right )} + \\frac{\\Phi_{B} \\eta_{A} s}{2 \\sqrt{V}} \\frac{\\partial^{2}}{\\partial \\eta_{B}^{2}}  P{\\left (\\eta_{A},\\eta_{B},\\eta_{U},t \\right )} - \\frac{\\Phi_{B} \\eta_{A}}{\\sqrt{V}} s \\frac{\\partial^{2}}{\\partial \\eta_{B}\\partial \\eta_{U}}  P{\\left (\\eta_{A},\\eta_{B},\\eta_{U},t \\right )} + \\frac{\\Phi_{B} \\eta_{A}}{\\sqrt{V}} s \\frac{\\partial^{2}}{\\partial \\eta_{U}^{2}}  P{\\left (\\eta_{A},\\eta_{B},\\eta_{U},t \\right )} + \\frac{\\Phi_{B} \\eta_{U} r_{2}}{2 \\sqrt{V}} \\frac{\\partial^{2}}{\\partial \\eta_{B}^{2}}  P{\\left (\\eta_{A},\\eta_{B},\\eta_{U},t \\right )} - \\frac{\\Phi_{B} \\eta_{U}}{\\sqrt{V}} r_{2} \\frac{\\partial^{2}}{\\partial \\eta_{B}\\partial \\eta_{U}}  P{\\left (\\eta_{A},\\eta_{B},\\eta_{U},t \\right )} + \\frac{\\Phi_{B} \\eta_{U} r_{2}}{2 \\sqrt{V}} \\frac{\\partial^{2}}{\\partial \\eta_{U}^{2}}  P{\\left (\\eta_{A},\\eta_{B},\\eta_{U},t \\right )} - \\frac{\\Phi_{B} r_{2}}{\\sqrt{V}} \\frac{\\partial}{\\partial \\eta_{B}} P{\\left (\\eta_{A},\\eta_{B},\\eta_{U},t \\right )} + \\frac{\\Phi_{B} r_{2}}{\\sqrt{V}} \\frac{\\partial}{\\partial \\eta_{U}} P{\\left (\\eta_{A},\\eta_{B},\\eta_{U},t \\right )} + \\frac{\\Phi_{B} s}{\\sqrt{V}} \\frac{\\partial}{\\partial \\eta_{A}} P{\\left (\\eta_{A},\\eta_{B},\\eta_{U},t \\right )} - \\frac{\\Phi_{B} s}{\\sqrt{V}} \\frac{\\partial}{\\partial \\eta_{U}} P{\\left (\\eta_{A},\\eta_{B},\\eta_{U},t \\right )} + \\frac{\\Phi_{B} \\eta_{A} s}{4 V^{\\frac{3}{2}}} \\frac{\\partial^{4}}{\\partial \\eta_{A}^{2}\\partial \\eta_{U}^{2}}  P{\\left (\\eta_{A},\\eta_{B},\\eta_{U},t \\right )} + \\frac{\\Phi_{B} \\eta_{A} s}{4 V^{\\frac{3}{2}}} \\frac{\\partial^{4}}{\\partial \\eta_{B}^{2}\\partial \\eta_{U}^{2}}  P{\\left (\\eta_{A},\\eta_{B},\\eta_{U},t \\right )} + \\frac{\\Phi_{B} \\eta_{U} r_{2}}{4 V^{\\frac{3}{2}}} \\frac{\\partial^{4}}{\\partial \\eta_{B}^{2}\\partial \\eta_{U}^{2}}  P{\\left (\\eta_{A},\\eta_{B},\\eta_{U},t \\right )} + \\frac{\\Phi_{B} r_{2}}{2 V^{\\frac{3}{2}}} \\frac{\\partial^{3}}{\\partial \\eta_{B}^{2}\\partial \\eta_{U}}  P{\\left (\\eta_{A},\\eta_{B},\\eta_{U},t \\right )} + \\frac{\\Phi_{B} s}{2 V^{\\frac{3}{2}}} \\frac{\\partial^{3}}{\\partial \\eta_{A}\\partial \\eta_{U}^{2}}  P{\\left (\\eta_{A},\\eta_{B},\\eta_{U},t \\right )} - \\Phi_{U} \\sqrt{V} g_{1} \\frac{\\partial}{\\partial \\eta_{A}} P{\\left (\\eta_{A},\\eta_{B},\\eta_{U},t \\right )} + \\Phi_{U} \\sqrt{V} g_{1} \\frac{\\partial}{\\partial \\eta_{U}} P{\\left (\\eta_{A},\\eta_{B},\\eta_{U},t \\right )} - \\Phi_{U} \\sqrt{V} g_{2} \\frac{\\partial}{\\partial \\eta_{B}} P{\\left (\\eta_{A},\\eta_{B},\\eta_{U},t \\right )} + \\Phi_{U} \\sqrt{V} g_{2} \\frac{\\partial}{\\partial \\eta_{U}} P{\\left (\\eta_{A},\\eta_{B},\\eta_{U},t \\right )} - \\Phi_{U} \\eta_{A} r_{1} \\frac{\\partial}{\\partial \\eta_{A}} P{\\left (\\eta_{A},\\eta_{B},\\eta_{U},t \\right )} + \\Phi_{U} \\eta_{A} r_{1} \\frac{\\partial}{\\partial \\eta_{U}} P{\\left (\\eta_{A},\\eta_{B},\\eta_{U},t \\right )} - \\Phi_{U} \\eta_{B} r_{2} \\frac{\\partial}{\\partial \\eta_{B}} P{\\left (\\eta_{A},\\eta_{B},\\eta_{U},t \\right )} + \\Phi_{U} \\eta_{B} r_{2} \\frac{\\partial}{\\partial \\eta_{U}} P{\\left (\\eta_{A},\\eta_{B},\\eta_{U},t \\right )} + \\frac{\\Phi_{U} g_{1}}{2} \\frac{\\partial^{2}}{\\partial \\eta_{A}^{2}}  P{\\left (\\eta_{A},\\eta_{B},\\eta_{U},t \\right )} - \\Phi_{U} g_{1} \\frac{\\partial^{2}}{\\partial \\eta_{A}\\partial \\eta_{U}}  P{\\left (\\eta_{A},\\eta_{B},\\eta_{U},t \\right )} + \\frac{\\Phi_{U} g_{1}}{2} \\frac{\\partial^{2}}{\\partial \\eta_{U}^{2}}  P{\\left (\\eta_{A},\\eta_{B},\\eta_{U},t \\right )} + \\frac{\\Phi_{U} g_{2}}{2} \\frac{\\partial^{2}}{\\partial \\eta_{B}^{2}}  P{\\left (\\eta_{A},\\eta_{B},\\eta_{U},t \\right )} - \\Phi_{U} g_{2} \\frac{\\partial^{2}}{\\partial \\eta_{B}\\partial \\eta_{U}}  P{\\left (\\eta_{A},\\eta_{B},\\eta_{U},t \\right )} + \\frac{\\Phi_{U} g_{2}}{2} \\frac{\\partial^{2}}{\\partial \\eta_{U}^{2}}  P{\\left (\\eta_{A},\\eta_{B},\\eta_{U},t \\right )} - \\Phi_{U} r_{1} P{\\left (\\eta_{A},\\eta_{B},\\eta_{U},t \\right )} - \\Phi_{U} r_{2} P{\\left (\\eta_{A},\\eta_{B},\\eta_{U},t \\right )} + \\frac{\\Phi_{U} \\eta_{A} r_{1}}{2 V} \\frac{\\partial^{3}}{\\partial \\eta_{A}^{2}\\partial \\eta_{U}}  P{\\left (\\eta_{A},\\eta_{B},\\eta_{U},t \\right )} - \\frac{\\Phi_{U} \\eta_{A} r_{1}}{2 V} \\frac{\\partial^{3}}{\\partial \\eta_{A}\\partial \\eta_{U}^{2}}  P{\\left (\\eta_{A},\\eta_{B},\\eta_{U},t \\right )} + \\frac{\\Phi_{U} \\eta_{B} r_{2}}{2 V} \\frac{\\partial^{3}}{\\partial \\eta_{B}^{2}\\partial \\eta_{U}}  P{\\left (\\eta_{A},\\eta_{B},\\eta_{U},t \\right )} - \\frac{\\Phi_{U} \\eta_{B} r_{2}}{2 V} \\frac{\\partial^{3}}{\\partial \\eta_{B}\\partial \\eta_{U}^{2}}  P{\\left (\\eta_{A},\\eta_{B},\\eta_{U},t \\right )} + \\frac{\\Phi_{U} g_{1}}{4 V} \\frac{\\partial^{4}}{\\partial \\eta_{A}^{2}\\partial \\eta_{U}^{2}}  P{\\left (\\eta_{A},\\eta_{B},\\eta_{U},t \\right )} + \\frac{\\Phi_{U} g_{2}}{4 V} \\frac{\\partial^{4}}{\\partial \\eta_{B}^{2}\\partial \\eta_{U}^{2}}  P{\\left (\\eta_{A},\\eta_{B},\\eta_{U},t \\right )} + \\frac{\\Phi_{U} r_{1}}{V} \\frac{\\partial^{2}}{\\partial \\eta_{A}\\partial \\eta_{U}}  P{\\left (\\eta_{A},\\eta_{B},\\eta_{U},t \\right )} - \\frac{\\Phi_{U} r_{1}}{2 V} \\frac{\\partial^{2}}{\\partial \\eta_{U}^{2}}  P{\\left (\\eta_{A},\\eta_{B},\\eta_{U},t \\right )} + \\frac{\\Phi_{U} r_{2}}{V} \\frac{\\partial^{2}}{\\partial \\eta_{B}\\partial \\eta_{U}}  P{\\left (\\eta_{A},\\eta_{B},\\eta_{U},t \\right )} - \\frac{\\Phi_{U} r_{2}}{2 V} \\frac{\\partial^{2}}{\\partial \\eta_{U}^{2}}  P{\\left (\\eta_{A},\\eta_{B},\\eta_{U},t \\right )} + \\frac{\\Phi_{U} \\eta_{A} r_{1}}{2 \\sqrt{V}} \\frac{\\partial^{2}}{\\partial \\eta_{A}^{2}}  P{\\left (\\eta_{A},\\eta_{B},\\eta_{U},t \\right )} - \\frac{\\Phi_{U} \\eta_{A}}{\\sqrt{V}} r_{1} \\frac{\\partial^{2}}{\\partial \\eta_{A}\\partial \\eta_{U}}  P{\\left (\\eta_{A},\\eta_{B},\\eta_{U},t \\right )} + \\frac{\\Phi_{U} \\eta_{A} r_{1}}{2 \\sqrt{V}} \\frac{\\partial^{2}}{\\partial \\eta_{U}^{2}}  P{\\left (\\eta_{A},\\eta_{B},\\eta_{U},t \\right )} + \\frac{\\Phi_{U} \\eta_{B} r_{2}}{2 \\sqrt{V}} \\frac{\\partial^{2}}{\\partial \\eta_{B}^{2}}  P{\\left (\\eta_{A},\\eta_{B},\\eta_{U},t \\right )} - \\frac{\\Phi_{U} \\eta_{B}}{\\sqrt{V}} r_{2} \\frac{\\partial^{2}}{\\partial \\eta_{B}\\partial \\eta_{U}}  P{\\left (\\eta_{A},\\eta_{B},\\eta_{U},t \\right )} + \\frac{\\Phi_{U} \\eta_{B} r_{2}}{2 \\sqrt{V}} \\frac{\\partial^{2}}{\\partial \\eta_{U}^{2}}  P{\\left (\\eta_{A},\\eta_{B},\\eta_{U},t \\right )} + \\frac{\\Phi_{U} g_{1}}{2 \\sqrt{V}} \\frac{\\partial^{3}}{\\partial \\eta_{A}^{2}\\partial \\eta_{U}}  P{\\left (\\eta_{A},\\eta_{B},\\eta_{U},t \\right )} - \\frac{\\Phi_{U} g_{1}}{2 \\sqrt{V}} \\frac{\\partial^{3}}{\\partial \\eta_{A}\\partial \\eta_{U}^{2}}  P{\\left (\\eta_{A},\\eta_{B},\\eta_{U},t \\right )} + \\frac{\\Phi_{U} g_{2}}{2 \\sqrt{V}} \\frac{\\partial^{3}}{\\partial \\eta_{B}^{2}\\partial \\eta_{U}}  P{\\left (\\eta_{A},\\eta_{B},\\eta_{U},t \\right )} - \\frac{\\Phi_{U} g_{2}}{2 \\sqrt{V}} \\frac{\\partial^{3}}{\\partial \\eta_{B}\\partial \\eta_{U}^{2}}  P{\\left (\\eta_{A},\\eta_{B},\\eta_{U},t \\right )} + \\frac{\\Phi_{U} r_{1}}{\\sqrt{V}} \\frac{\\partial}{\\partial \\eta_{A}} P{\\left (\\eta_{A},\\eta_{B},\\eta_{U},t \\right )} - \\frac{\\Phi_{U} r_{1}}{\\sqrt{V}} \\frac{\\partial}{\\partial \\eta_{U}} P{\\left (\\eta_{A},\\eta_{B},\\eta_{U},t \\right )} + \\frac{\\Phi_{U} r_{2}}{\\sqrt{V}} \\frac{\\partial}{\\partial \\eta_{B}} P{\\left (\\eta_{A},\\eta_{B},\\eta_{U},t \\right )} - \\frac{\\Phi_{U} r_{2}}{\\sqrt{V}} \\frac{\\partial}{\\partial \\eta_{U}} P{\\left (\\eta_{A},\\eta_{B},\\eta_{U},t \\right )} + \\frac{\\Phi_{U} \\eta_{A} r_{1}}{4 V^{\\frac{3}{2}}} \\frac{\\partial^{4}}{\\partial \\eta_{A}^{2}\\partial \\eta_{U}^{2}}  P{\\left (\\eta_{A},\\eta_{B},\\eta_{U},t \\right )} + \\frac{\\Phi_{U} \\eta_{B} r_{2}}{4 V^{\\frac{3}{2}}} \\frac{\\partial^{4}}{\\partial \\eta_{B}^{2}\\partial \\eta_{U}^{2}}  P{\\left (\\eta_{A},\\eta_{B},\\eta_{U},t \\right )} + \\frac{\\Phi_{U} r_{1}}{2 V^{\\frac{3}{2}}} \\frac{\\partial^{3}}{\\partial \\eta_{A}\\partial \\eta_{U}^{2}}  P{\\left (\\eta_{A},\\eta_{B},\\eta_{U},t \\right )} + \\frac{\\Phi_{U} r_{2}}{2 V^{\\frac{3}{2}}} \\frac{\\partial^{3}}{\\partial \\eta_{B}\\partial \\eta_{U}^{2}}  P{\\left (\\eta_{A},\\eta_{B},\\eta_{U},t \\right )} + a_{1} \\eta_{A} \\frac{\\partial}{\\partial \\eta_{A}} P{\\left (\\eta_{A},\\eta_{B},\\eta_{U},t \\right )} - a_{1} \\eta_{A} \\frac{\\partial}{\\partial \\eta_{U}} P{\\left (\\eta_{A},\\eta_{B},\\eta_{U},t \\right )} + a_{1} P{\\left (\\eta_{A},\\eta_{B},\\eta_{U},t \\right )} + a_{2} \\eta_{B} \\frac{\\partial}{\\partial \\eta_{B}} P{\\left (\\eta_{A},\\eta_{B},\\eta_{U},t \\right )} - a_{2} \\eta_{B} \\frac{\\partial}{\\partial \\eta_{U}} P{\\left (\\eta_{A},\\eta_{B},\\eta_{U},t \\right )} + a_{2} P{\\left (\\eta_{A},\\eta_{B},\\eta_{U},t \\right )} - \\eta_{U} g_{1} \\frac{\\partial}{\\partial \\eta_{A}} P{\\left (\\eta_{A},\\eta_{B},\\eta_{U},t \\right )} + \\eta_{U} g_{1} \\frac{\\partial}{\\partial \\eta_{U}} P{\\left (\\eta_{A},\\eta_{B},\\eta_{U},t \\right )} - \\eta_{U} g_{2} \\frac{\\partial}{\\partial \\eta_{B}} P{\\left (\\eta_{A},\\eta_{B},\\eta_{U},t \\right )} + \\eta_{U} g_{2} \\frac{\\partial}{\\partial \\eta_{U}} P{\\left (\\eta_{A},\\eta_{B},\\eta_{U},t \\right )} + g_{1} P{\\left (\\eta_{A},\\eta_{B},\\eta_{U},t \\right )} + g_{2} P{\\left (\\eta_{A},\\eta_{B},\\eta_{U},t \\right )} - \\frac{a_{1} \\eta_{A}}{2 V} \\frac{\\partial^{3}}{\\partial \\eta_{A}^{2}\\partial \\eta_{U}}  P{\\left (\\eta_{A},\\eta_{B},\\eta_{U},t \\right )} + \\frac{a_{1} \\eta_{A}}{2 V} \\frac{\\partial^{3}}{\\partial \\eta_{A}\\partial \\eta_{U}^{2}}  P{\\left (\\eta_{A},\\eta_{B},\\eta_{U},t \\right )} - \\frac{a_{1}}{V} \\frac{\\partial^{2}}{\\partial \\eta_{A}\\partial \\eta_{U}}  P{\\left (\\eta_{A},\\eta_{B},\\eta_{U},t \\right )} + \\frac{a_{1}}{2 V} \\frac{\\partial^{2}}{\\partial \\eta_{U}^{2}}  P{\\left (\\eta_{A},\\eta_{B},\\eta_{U},t \\right )} - \\frac{a_{2} \\eta_{B}}{2 V} \\frac{\\partial^{3}}{\\partial \\eta_{B}^{2}\\partial \\eta_{U}}  P{\\left (\\eta_{A},\\eta_{B},\\eta_{U},t \\right )} + \\frac{a_{2} \\eta_{B}}{2 V} \\frac{\\partial^{3}}{\\partial \\eta_{B}\\partial \\eta_{U}^{2}}  P{\\left (\\eta_{A},\\eta_{B},\\eta_{U},t \\right )} - \\frac{a_{2}}{V} \\frac{\\partial^{2}}{\\partial \\eta_{B}\\partial \\eta_{U}}  P{\\left (\\eta_{A},\\eta_{B},\\eta_{U},t \\right )} + \\frac{a_{2}}{2 V} \\frac{\\partial^{2}}{\\partial \\eta_{U}^{2}}  P{\\left (\\eta_{A},\\eta_{B},\\eta_{U},t \\right )} + \\frac{\\eta_{A} \\eta_{B} s}{2 V} \\frac{\\partial^{2}}{\\partial \\eta_{A}^{2}}  P{\\left (\\eta_{A},\\eta_{B},\\eta_{U},t \\right )} - \\frac{\\eta_{A} \\eta_{B}}{V} s \\frac{\\partial^{2}}{\\partial \\eta_{A}\\partial \\eta_{U}}  P{\\left (\\eta_{A},\\eta_{B},\\eta_{U},t \\right )} + \\frac{\\eta_{A} \\eta_{B} s}{2 V} \\frac{\\partial^{2}}{\\partial \\eta_{B}^{2}}  P{\\left (\\eta_{A},\\eta_{B},\\eta_{U},t \\right )} - \\frac{\\eta_{A} \\eta_{B}}{V} s \\frac{\\partial^{2}}{\\partial \\eta_{B}\\partial \\eta_{U}}  P{\\left (\\eta_{A},\\eta_{B},\\eta_{U},t \\right )} + \\frac{\\eta_{A} \\eta_{B}}{V} s \\frac{\\partial^{2}}{\\partial \\eta_{U}^{2}}  P{\\left (\\eta_{A},\\eta_{B},\\eta_{U},t \\right )} + \\frac{\\eta_{A} \\eta_{U} r_{1}}{2 V} \\frac{\\partial^{2}}{\\partial \\eta_{A}^{2}}  P{\\left (\\eta_{A},\\eta_{B},\\eta_{U},t \\right )} - \\frac{\\eta_{A} \\eta_{U}}{V} r_{1} \\frac{\\partial^{2}}{\\partial \\eta_{A}\\partial \\eta_{U}}  P{\\left (\\eta_{A},\\eta_{B},\\eta_{U},t \\right )} + \\frac{\\eta_{A} \\eta_{U} r_{1}}{2 V} \\frac{\\partial^{2}}{\\partial \\eta_{U}^{2}}  P{\\left (\\eta_{A},\\eta_{B},\\eta_{U},t \\right )} - \\frac{\\eta_{A} r_{1}}{V} \\frac{\\partial}{\\partial \\eta_{A}} P{\\left (\\eta_{A},\\eta_{B},\\eta_{U},t \\right )} + \\frac{\\eta_{A} r_{1}}{V} \\frac{\\partial}{\\partial \\eta_{U}} P{\\left (\\eta_{A},\\eta_{B},\\eta_{U},t \\right )} + \\frac{\\eta_{A} s}{V} \\frac{\\partial}{\\partial \\eta_{B}} P{\\left (\\eta_{A},\\eta_{B},\\eta_{U},t \\right )} - \\frac{\\eta_{A} s}{V} \\frac{\\partial}{\\partial \\eta_{U}} P{\\left (\\eta_{A},\\eta_{B},\\eta_{U},t \\right )} + \\frac{\\eta_{B} \\eta_{U} r_{2}}{2 V} \\frac{\\partial^{2}}{\\partial \\eta_{B}^{2}}  P{\\left (\\eta_{A},\\eta_{B},\\eta_{U},t \\right )} - \\frac{\\eta_{B} \\eta_{U}}{V} r_{2} \\frac{\\partial^{2}}{\\partial \\eta_{B}\\partial \\eta_{U}}  P{\\left (\\eta_{A},\\eta_{B},\\eta_{U},t \\right )} + \\frac{\\eta_{B} \\eta_{U} r_{2}}{2 V} \\frac{\\partial^{2}}{\\partial \\eta_{U}^{2}}  P{\\left (\\eta_{A},\\eta_{B},\\eta_{U},t \\right )} - \\frac{\\eta_{B} r_{2}}{V} \\frac{\\partial}{\\partial \\eta_{B}} P{\\left (\\eta_{A},\\eta_{B},\\eta_{U},t \\right )} + \\frac{\\eta_{B} r_{2}}{V} \\frac{\\partial}{\\partial \\eta_{U}} P{\\left (\\eta_{A},\\eta_{B},\\eta_{U},t \\right )} + \\frac{\\eta_{B} s}{V} \\frac{\\partial}{\\partial \\eta_{A}} P{\\left (\\eta_{A},\\eta_{B},\\eta_{U},t \\right )} - \\frac{\\eta_{B} s}{V} \\frac{\\partial}{\\partial \\eta_{U}} P{\\left (\\eta_{A},\\eta_{B},\\eta_{U},t \\right )} + \\frac{\\eta_{U} g_{1}}{2 V} \\frac{\\partial^{3}}{\\partial \\eta_{A}^{2}\\partial \\eta_{U}}  P{\\left (\\eta_{A},\\eta_{B},\\eta_{U},t \\right )} - \\frac{\\eta_{U} g_{1}}{2 V} \\frac{\\partial^{3}}{\\partial \\eta_{A}\\partial \\eta_{U}^{2}}  P{\\left (\\eta_{A},\\eta_{B},\\eta_{U},t \\right )} + \\frac{\\eta_{U} g_{2}}{2 V} \\frac{\\partial^{3}}{\\partial \\eta_{B}^{2}\\partial \\eta_{U}}  P{\\left (\\eta_{A},\\eta_{B},\\eta_{U},t \\right )} - \\frac{\\eta_{U} g_{2}}{2 V} \\frac{\\partial^{3}}{\\partial \\eta_{B}\\partial \\eta_{U}^{2}}  P{\\left (\\eta_{A},\\eta_{B},\\eta_{U},t \\right )} + \\frac{\\eta_{U} r_{1}}{V} \\frac{\\partial}{\\partial \\eta_{A}} P{\\left (\\eta_{A},\\eta_{B},\\eta_{U},t \\right )} - \\frac{\\eta_{U} r_{1}}{V} \\frac{\\partial}{\\partial \\eta_{U}} P{\\left (\\eta_{A},\\eta_{B},\\eta_{U},t \\right )} + \\frac{\\eta_{U} r_{2}}{V} \\frac{\\partial}{\\partial \\eta_{B}} P{\\left (\\eta_{A},\\eta_{B},\\eta_{U},t \\right )} - \\frac{\\eta_{U} r_{2}}{V} \\frac{\\partial}{\\partial \\eta_{U}} P{\\left (\\eta_{A},\\eta_{B},\\eta_{U},t \\right )} + \\frac{g_{1}}{2 V} \\frac{\\partial^{2}}{\\partial \\eta_{A}^{2}}  P{\\left (\\eta_{A},\\eta_{B},\\eta_{U},t \\right )} - \\frac{g_{1}}{V} \\frac{\\partial^{2}}{\\partial \\eta_{A}\\partial \\eta_{U}}  P{\\left (\\eta_{A},\\eta_{B},\\eta_{U},t \\right )} + \\frac{g_{2}}{2 V} \\frac{\\partial^{2}}{\\partial \\eta_{B}^{2}}  P{\\left (\\eta_{A},\\eta_{B},\\eta_{U},t \\right )} - \\frac{g_{2}}{V} \\frac{\\partial^{2}}{\\partial \\eta_{B}\\partial \\eta_{U}}  P{\\left (\\eta_{A},\\eta_{B},\\eta_{U},t \\right )} - \\frac{r_{1}}{V} P{\\left (\\eta_{A},\\eta_{B},\\eta_{U},t \\right )} - \\frac{r_{2}}{V} P{\\left (\\eta_{A},\\eta_{B},\\eta_{U},t \\right )} + \\frac{\\eta_{A} \\eta_{B} s}{4 V^{2}} \\frac{\\partial^{4}}{\\partial \\eta_{A}^{2}\\partial \\eta_{U}^{2}}  P{\\left (\\eta_{A},\\eta_{B},\\eta_{U},t \\right )} + \\frac{\\eta_{A} \\eta_{B} s}{4 V^{2}} \\frac{\\partial^{4}}{\\partial \\eta_{B}^{2}\\partial \\eta_{U}^{2}}  P{\\left (\\eta_{A},\\eta_{B},\\eta_{U},t \\right )} + \\frac{\\eta_{A} \\eta_{U} r_{1}}{4 V^{2}} \\frac{\\partial^{4}}{\\partial \\eta_{A}^{2}\\partial \\eta_{U}^{2}}  P{\\left (\\eta_{A},\\eta_{B},\\eta_{U},t \\right )} + \\frac{\\eta_{A} r_{1}}{2 V^{2}} \\frac{\\partial^{3}}{\\partial \\eta_{A}^{2}\\partial \\eta_{U}}  P{\\left (\\eta_{A},\\eta_{B},\\eta_{U},t \\right )} + \\frac{\\eta_{A} s}{2 V^{2}} \\frac{\\partial^{3}}{\\partial \\eta_{B}\\partial \\eta_{U}^{2}}  P{\\left (\\eta_{A},\\eta_{B},\\eta_{U},t \\right )} + \\frac{\\eta_{B} \\eta_{U} r_{2}}{4 V^{2}} \\frac{\\partial^{4}}{\\partial \\eta_{B}^{2}\\partial \\eta_{U}^{2}}  P{\\left (\\eta_{A},\\eta_{B},\\eta_{U},t \\right )} + \\frac{\\eta_{B} r_{2}}{2 V^{2}} \\frac{\\partial^{3}}{\\partial \\eta_{B}^{2}\\partial \\eta_{U}}  P{\\left (\\eta_{A},\\eta_{B},\\eta_{U},t \\right )} + \\frac{\\eta_{B} s}{2 V^{2}} \\frac{\\partial^{3}}{\\partial \\eta_{A}\\partial \\eta_{U}^{2}}  P{\\left (\\eta_{A},\\eta_{B},\\eta_{U},t \\right )} + \\frac{\\eta_{U} r_{1}}{2 V^{2}} \\frac{\\partial^{3}}{\\partial \\eta_{A}\\partial \\eta_{U}^{2}}  P{\\left (\\eta_{A},\\eta_{B},\\eta_{U},t \\right )} + \\frac{\\eta_{U} r_{2}}{2 V^{2}} \\frac{\\partial^{3}}{\\partial \\eta_{B}\\partial \\eta_{U}^{2}}  P{\\left (\\eta_{A},\\eta_{B},\\eta_{U},t \\right )} + \\frac{r_{1}}{V^{2}} \\frac{\\partial^{2}}{\\partial \\eta_{A}\\partial \\eta_{U}}  P{\\left (\\eta_{A},\\eta_{B},\\eta_{U},t \\right )} + \\frac{r_{2}}{V^{2}} \\frac{\\partial^{2}}{\\partial \\eta_{B}\\partial \\eta_{U}}  P{\\left (\\eta_{A},\\eta_{B},\\eta_{U},t \\right )} + \\frac{a_{1} \\eta_{A}}{2 \\sqrt{V}} \\frac{\\partial^{2}}{\\partial \\eta_{A}^{2}}  P{\\left (\\eta_{A},\\eta_{B},\\eta_{U},t \\right )} - \\frac{a_{1} \\eta_{A}}{\\sqrt{V}} \\frac{\\partial^{2}}{\\partial \\eta_{A}\\partial \\eta_{U}}  P{\\left (\\eta_{A},\\eta_{B},\\eta_{U},t \\right )} + \\frac{a_{1} \\eta_{A}}{2 \\sqrt{V}} \\frac{\\partial^{2}}{\\partial \\eta_{U}^{2}}  P{\\left (\\eta_{A},\\eta_{B},\\eta_{U},t \\right )} + \\frac{a_{1}}{\\sqrt{V}} \\frac{\\partial}{\\partial \\eta_{A}} P{\\left (\\eta_{A},\\eta_{B},\\eta_{U},t \\right )} - \\frac{a_{1}}{\\sqrt{V}} \\frac{\\partial}{\\partial \\eta_{U}} P{\\left (\\eta_{A},\\eta_{B},\\eta_{U},t \\right )} + \\frac{a_{2} \\eta_{B}}{2 \\sqrt{V}} \\frac{\\partial^{2}}{\\partial \\eta_{B}^{2}}  P{\\left (\\eta_{A},\\eta_{B},\\eta_{U},t \\right )} - \\frac{a_{2} \\eta_{B}}{\\sqrt{V}} \\frac{\\partial^{2}}{\\partial \\eta_{B}\\partial \\eta_{U}}  P{\\left (\\eta_{A},\\eta_{B},\\eta_{U},t \\right )} + \\frac{a_{2} \\eta_{B}}{2 \\sqrt{V}} \\frac{\\partial^{2}}{\\partial \\eta_{U}^{2}}  P{\\left (\\eta_{A},\\eta_{B},\\eta_{U},t \\right )} + \\frac{a_{2}}{\\sqrt{V}} \\frac{\\partial}{\\partial \\eta_{B}} P{\\left (\\eta_{A},\\eta_{B},\\eta_{U},t \\right )} - \\frac{a_{2}}{\\sqrt{V}} \\frac{\\partial}{\\partial \\eta_{U}} P{\\left (\\eta_{A},\\eta_{B},\\eta_{U},t \\right )} + \\frac{\\eta_{A} \\eta_{B}}{\\sqrt{V}} s \\frac{\\partial}{\\partial \\eta_{A}} P{\\left (\\eta_{A},\\eta_{B},\\eta_{U},t \\right )} + \\frac{\\eta_{A} \\eta_{B}}{\\sqrt{V}} s \\frac{\\partial}{\\partial \\eta_{B}} P{\\left (\\eta_{A},\\eta_{B},\\eta_{U},t \\right )} - \\frac{2 \\eta_{A}}{\\sqrt{V}} \\eta_{B} s \\frac{\\partial}{\\partial \\eta_{U}} P{\\left (\\eta_{A},\\eta_{B},\\eta_{U},t \\right )} - \\frac{\\eta_{A} \\eta_{U}}{\\sqrt{V}} r_{1} \\frac{\\partial}{\\partial \\eta_{A}} P{\\left (\\eta_{A},\\eta_{B},\\eta_{U},t \\right )} + \\frac{\\eta_{A} \\eta_{U}}{\\sqrt{V}} r_{1} \\frac{\\partial}{\\partial \\eta_{U}} P{\\left (\\eta_{A},\\eta_{B},\\eta_{U},t \\right )} + \\frac{\\eta_{A} r_{1}}{\\sqrt{V}} P{\\left (\\eta_{A},\\eta_{B},\\eta_{U},t \\right )} + \\frac{\\eta_{A} s}{\\sqrt{V}} P{\\left (\\eta_{A},\\eta_{B},\\eta_{U},t \\right )} - \\frac{\\eta_{B} \\eta_{U}}{\\sqrt{V}} r_{2} \\frac{\\partial}{\\partial \\eta_{B}} P{\\left (\\eta_{A},\\eta_{B},\\eta_{U},t \\right )} + \\frac{\\eta_{B} \\eta_{U}}{\\sqrt{V}} r_{2} \\frac{\\partial}{\\partial \\eta_{U}} P{\\left (\\eta_{A},\\eta_{B},\\eta_{U},t \\right )} + \\frac{\\eta_{B} r_{2}}{\\sqrt{V}} P{\\left (\\eta_{A},\\eta_{B},\\eta_{U},t \\right )} + \\frac{\\eta_{B} s}{\\sqrt{V}} P{\\left (\\eta_{A},\\eta_{B},\\eta_{U},t \\right )} + \\frac{\\eta_{U} g_{1}}{2 \\sqrt{V}} \\frac{\\partial^{2}}{\\partial \\eta_{A}^{2}}  P{\\left (\\eta_{A},\\eta_{B},\\eta_{U},t \\right )} - \\frac{\\eta_{U} g_{1}}{\\sqrt{V}} \\frac{\\partial^{2}}{\\partial \\eta_{A}\\partial \\eta_{U}}  P{\\left (\\eta_{A},\\eta_{B},\\eta_{U},t \\right )} + \\frac{\\eta_{U} g_{1}}{2 \\sqrt{V}} \\frac{\\partial^{2}}{\\partial \\eta_{U}^{2}}  P{\\left (\\eta_{A},\\eta_{B},\\eta_{U},t \\right )} + \\frac{\\eta_{U} g_{2}}{2 \\sqrt{V}} \\frac{\\partial^{2}}{\\partial \\eta_{B}^{2}}  P{\\left (\\eta_{A},\\eta_{B},\\eta_{U},t \\right )} - \\frac{\\eta_{U} g_{2}}{\\sqrt{V}} \\frac{\\partial^{2}}{\\partial \\eta_{B}\\partial \\eta_{U}}  P{\\left (\\eta_{A},\\eta_{B},\\eta_{U},t \\right )} + \\frac{\\eta_{U} g_{2}}{2 \\sqrt{V}} \\frac{\\partial^{2}}{\\partial \\eta_{U}^{2}}  P{\\left (\\eta_{A},\\eta_{B},\\eta_{U},t \\right )} - \\frac{\\eta_{U} r_{1}}{\\sqrt{V}} P{\\left (\\eta_{A},\\eta_{B},\\eta_{U},t \\right )} - \\frac{\\eta_{U} r_{2}}{\\sqrt{V}} P{\\left (\\eta_{A},\\eta_{B},\\eta_{U},t \\right )} - \\frac{g_{1}}{\\sqrt{V}} \\frac{\\partial}{\\partial \\eta_{A}} P{\\left (\\eta_{A},\\eta_{B},\\eta_{U},t \\right )} + \\frac{g_{1}}{\\sqrt{V}} \\frac{\\partial}{\\partial \\eta_{U}} P{\\left (\\eta_{A},\\eta_{B},\\eta_{U},t \\right )} - \\frac{g_{2}}{\\sqrt{V}} \\frac{\\partial}{\\partial \\eta_{B}} P{\\left (\\eta_{A},\\eta_{B},\\eta_{U},t \\right )} + \\frac{g_{2}}{\\sqrt{V}} \\frac{\\partial}{\\partial \\eta_{U}} P{\\left (\\eta_{A},\\eta_{B},\\eta_{U},t \\right )} + \\frac{a_{1} \\eta_{A}}{4 V^{\\frac{3}{2}}} \\frac{\\partial^{4}}{\\partial \\eta_{A}^{2}\\partial \\eta_{U}^{2}}  P{\\left (\\eta_{A},\\eta_{B},\\eta_{U},t \\right )} + \\frac{a_{1}}{2 V^{\\frac{3}{2}}} \\frac{\\partial^{3}}{\\partial \\eta_{A}\\partial \\eta_{U}^{2}}  P{\\left (\\eta_{A},\\eta_{B},\\eta_{U},t \\right )} + \\frac{a_{2} \\eta_{B}}{4 V^{\\frac{3}{2}}} \\frac{\\partial^{4}}{\\partial \\eta_{B}^{2}\\partial \\eta_{U}^{2}}  P{\\left (\\eta_{A},\\eta_{B},\\eta_{U},t \\right )} + \\frac{a_{2}}{2 V^{\\frac{3}{2}}} \\frac{\\partial^{3}}{\\partial \\eta_{B}\\partial \\eta_{U}^{2}}  P{\\left (\\eta_{A},\\eta_{B},\\eta_{U},t \\right )} - \\frac{\\eta_{A} \\eta_{B} s}{2 V^{\\frac{3}{2}}} \\frac{\\partial^{3}}{\\partial \\eta_{A}^{2}\\partial \\eta_{U}}  P{\\left (\\eta_{A},\\eta_{B},\\eta_{U},t \\right )} + \\frac{\\eta_{A} \\eta_{B} s}{2 V^{\\frac{3}{2}}} \\frac{\\partial^{3}}{\\partial \\eta_{A}\\partial \\eta_{U}^{2}}  P{\\left (\\eta_{A},\\eta_{B},\\eta_{U},t \\right )} - \\frac{\\eta_{A} \\eta_{B} s}{2 V^{\\frac{3}{2}}} \\frac{\\partial^{3}}{\\partial \\eta_{B}^{2}\\partial \\eta_{U}}  P{\\left (\\eta_{A},\\eta_{B},\\eta_{U},t \\right )} + \\frac{\\eta_{A} \\eta_{B} s}{2 V^{\\frac{3}{2}}} \\frac{\\partial^{3}}{\\partial \\eta_{B}\\partial \\eta_{U}^{2}}  P{\\left (\\eta_{A},\\eta_{B},\\eta_{U},t \\right )} + \\frac{\\eta_{A} \\eta_{U} r_{1}}{2 V^{\\frac{3}{2}}} \\frac{\\partial^{3}}{\\partial \\eta_{A}^{2}\\partial \\eta_{U}}  P{\\left (\\eta_{A},\\eta_{B},\\eta_{U},t \\right )} - \\frac{\\eta_{A} \\eta_{U} r_{1}}{2 V^{\\frac{3}{2}}} \\frac{\\partial^{3}}{\\partial \\eta_{A}\\partial \\eta_{U}^{2}}  P{\\left (\\eta_{A},\\eta_{B},\\eta_{U},t \\right )} + \\frac{\\eta_{A} r_{1}}{2 V^{\\frac{3}{2}}} \\frac{\\partial^{2}}{\\partial \\eta_{A}^{2}}  P{\\left (\\eta_{A},\\eta_{B},\\eta_{U},t \\right )} - \\frac{\\eta_{A} r_{1}}{V^{\\frac{3}{2}}} \\frac{\\partial^{2}}{\\partial \\eta_{A}\\partial \\eta_{U}}  P{\\left (\\eta_{A},\\eta_{B},\\eta_{U},t \\right )} - \\frac{\\eta_{A} s}{V^{\\frac{3}{2}}} \\frac{\\partial^{2}}{\\partial \\eta_{B}\\partial \\eta_{U}}  P{\\left (\\eta_{A},\\eta_{B},\\eta_{U},t \\right )} + \\frac{\\eta_{A} s}{2 V^{\\frac{3}{2}}} \\frac{\\partial^{2}}{\\partial \\eta_{U}^{2}}  P{\\left (\\eta_{A},\\eta_{B},\\eta_{U},t \\right )} + \\frac{\\eta_{B} \\eta_{U} r_{2}}{2 V^{\\frac{3}{2}}} \\frac{\\partial^{3}}{\\partial \\eta_{B}^{2}\\partial \\eta_{U}}  P{\\left (\\eta_{A},\\eta_{B},\\eta_{U},t \\right )} - \\frac{\\eta_{B} \\eta_{U} r_{2}}{2 V^{\\frac{3}{2}}} \\frac{\\partial^{3}}{\\partial \\eta_{B}\\partial \\eta_{U}^{2}}  P{\\left (\\eta_{A},\\eta_{B},\\eta_{U},t \\right )} + \\frac{\\eta_{B} r_{2}}{2 V^{\\frac{3}{2}}} \\frac{\\partial^{2}}{\\partial \\eta_{B}^{2}}  P{\\left (\\eta_{A},\\eta_{B},\\eta_{U},t \\right )} - \\frac{\\eta_{B} r_{2}}{V^{\\frac{3}{2}}} \\frac{\\partial^{2}}{\\partial \\eta_{B}\\partial \\eta_{U}}  P{\\left (\\eta_{A},\\eta_{B},\\eta_{U},t \\right )} - \\frac{\\eta_{B} s}{V^{\\frac{3}{2}}} \\frac{\\partial^{2}}{\\partial \\eta_{A}\\partial \\eta_{U}}  P{\\left (\\eta_{A},\\eta_{B},\\eta_{U},t \\right )} + \\frac{\\eta_{B} s}{2 V^{\\frac{3}{2}}} \\frac{\\partial^{2}}{\\partial \\eta_{U}^{2}}  P{\\left (\\eta_{A},\\eta_{B},\\eta_{U},t \\right )} + \\frac{\\eta_{U} g_{1}}{4 V^{\\frac{3}{2}}} \\frac{\\partial^{4}}{\\partial \\eta_{A}^{2}\\partial \\eta_{U}^{2}}  P{\\left (\\eta_{A},\\eta_{B},\\eta_{U},t \\right )} + \\frac{\\eta_{U} g_{2}}{4 V^{\\frac{3}{2}}} \\frac{\\partial^{4}}{\\partial \\eta_{B}^{2}\\partial \\eta_{U}^{2}}  P{\\left (\\eta_{A},\\eta_{B},\\eta_{U},t \\right )} + \\frac{\\eta_{U} r_{1}}{V^{\\frac{3}{2}}} \\frac{\\partial^{2}}{\\partial \\eta_{A}\\partial \\eta_{U}}  P{\\left (\\eta_{A},\\eta_{B},\\eta_{U},t \\right )} - \\frac{\\eta_{U} r_{1}}{2 V^{\\frac{3}{2}}} \\frac{\\partial^{2}}{\\partial \\eta_{U}^{2}}  P{\\left (\\eta_{A},\\eta_{B},\\eta_{U},t \\right )} + \\frac{\\eta_{U} r_{2}}{V^{\\frac{3}{2}}} \\frac{\\partial^{2}}{\\partial \\eta_{B}\\partial \\eta_{U}}  P{\\left (\\eta_{A},\\eta_{B},\\eta_{U},t \\right )} - \\frac{\\eta_{U} r_{2}}{2 V^{\\frac{3}{2}}} \\frac{\\partial^{2}}{\\partial \\eta_{U}^{2}}  P{\\left (\\eta_{A},\\eta_{B},\\eta_{U},t \\right )} + \\frac{g_{1}}{2 V^{\\frac{3}{2}}} \\frac{\\partial^{3}}{\\partial \\eta_{A}^{2}\\partial \\eta_{U}}  P{\\left (\\eta_{A},\\eta_{B},\\eta_{U},t \\right )} + \\frac{g_{2}}{2 V^{\\frac{3}{2}}} \\frac{\\partial^{3}}{\\partial \\eta_{B}^{2}\\partial \\eta_{U}}  P{\\left (\\eta_{A},\\eta_{B},\\eta_{U},t \\right )} + \\frac{r_{1}}{V^{\\frac{3}{2}}} \\frac{\\partial}{\\partial \\eta_{A}} P{\\left (\\eta_{A},\\eta_{B},\\eta_{U},t \\right )} - \\frac{r_{1}}{V^{\\frac{3}{2}}} \\frac{\\partial}{\\partial \\eta_{U}} P{\\left (\\eta_{A},\\eta_{B},\\eta_{U},t \\right )} + \\frac{r_{2}}{V^{\\frac{3}{2}}} \\frac{\\partial}{\\partial \\eta_{B}} P{\\left (\\eta_{A},\\eta_{B},\\eta_{U},t \\right )} - \\frac{r_{2}}{V^{\\frac{3}{2}}} \\frac{\\partial}{\\partial \\eta_{U}} P{\\left (\\eta_{A},\\eta_{B},\\eta_{U},t \\right )}$$"
      ],
      "text/plain": [
       "<IPython.core.display.Math object>"
      ]
     },
     "metadata": {},
     "output_type": "display_data"
    },
    {
     "data": {
      "text/latex": [
       "$$With \\; substitution:\\;U:= - B + - A + N$$"
      ],
      "text/plain": [
       "<IPython.core.display.Math object>"
      ]
     },
     "metadata": {},
     "output_type": "display_data"
    }
   ],
   "source": [
    "model5.showVanKampenExpansion()"
   ]
  },
  {
   "cell_type": "code",
   "execution_count": 60,
   "metadata": {},
   "outputs": [
    {
     "data": {
      "text/latex": [
       "$$\\frac{d}{d t} \\Phi_{B} := - \\Phi_{A} \\Phi_{B} r_{2} - \\Phi_{A} \\Phi_{B} s - \\Phi_{A} g_{2} - \\Phi_{B}^{2} r_{2} - \\Phi_{B} a_{2} - \\Phi_{B} g_{2} + \\Phi_{B} r_{2} + g_{2}$$"
      ],
      "text/plain": [
       "<IPython.core.display.Math object>"
      ]
     },
     "metadata": {},
     "output_type": "display_data"
    },
    {
     "data": {
      "text/latex": [
       "$$\\frac{d}{d t} \\Phi_{A} := - \\Phi_{A}^{2} r_{1} - \\Phi_{A} \\Phi_{B} r_{1} - \\Phi_{A} \\Phi_{B} s - \\Phi_{A} a_{1} - \\Phi_{A} g_{1} + \\Phi_{A} r_{1} - \\Phi_{B} g_{1} + g_{1}$$"
      ],
      "text/plain": [
       "<IPython.core.display.Math object>"
      ]
     },
     "metadata": {},
     "output_type": "display_data"
    }
   ],
   "source": [
    "model5.showODEs_vKE()"
   ]
  },
  {
   "cell_type": "code",
   "execution_count": 61,
   "metadata": {},
   "outputs": [
    {
     "data": {
      "text/latex": [
       "$$\\frac{\\partial}{\\partial t} P{\\left (\\eta_{A},\\eta_{B},\\eta_{U},t \\right )} := \\frac{\\Phi_{A} \\Phi_{B}}{2} s \\frac{\\partial^{2}}{\\partial \\eta_{A}^{2}}  P{\\left (\\eta_{A},\\eta_{B},\\eta_{U},t \\right )} - \\Phi_{A} \\Phi_{B} s \\frac{\\partial^{2}}{\\partial \\eta_{A}\\partial \\eta_{U}}  P{\\left (\\eta_{A},\\eta_{B},\\eta_{U},t \\right )} + \\frac{\\Phi_{A} \\Phi_{B}}{2} s \\frac{\\partial^{2}}{\\partial \\eta_{B}^{2}}  P{\\left (\\eta_{A},\\eta_{B},\\eta_{U},t \\right )} - \\Phi_{A} \\Phi_{B} s \\frac{\\partial^{2}}{\\partial \\eta_{B}\\partial \\eta_{U}}  P{\\left (\\eta_{A},\\eta_{B},\\eta_{U},t \\right )} + \\Phi_{A} \\Phi_{B} s \\frac{\\partial^{2}}{\\partial \\eta_{U}^{2}}  P{\\left (\\eta_{A},\\eta_{B},\\eta_{U},t \\right )} + \\frac{\\Phi_{A} \\Phi_{U}}{2} r_{1} \\frac{\\partial^{2}}{\\partial \\eta_{A}^{2}}  P{\\left (\\eta_{A},\\eta_{B},\\eta_{U},t \\right )} - \\Phi_{A} \\Phi_{U} r_{1} \\frac{\\partial^{2}}{\\partial \\eta_{A}\\partial \\eta_{U}}  P{\\left (\\eta_{A},\\eta_{B},\\eta_{U},t \\right )} + \\frac{\\Phi_{A} \\Phi_{U}}{2} r_{1} \\frac{\\partial^{2}}{\\partial \\eta_{U}^{2}}  P{\\left (\\eta_{A},\\eta_{B},\\eta_{U},t \\right )} + \\frac{\\Phi_{A} a_{1}}{2} \\frac{\\partial^{2}}{\\partial \\eta_{A}^{2}}  P{\\left (\\eta_{A},\\eta_{B},\\eta_{U},t \\right )} - \\Phi_{A} a_{1} \\frac{\\partial^{2}}{\\partial \\eta_{A}\\partial \\eta_{U}}  P{\\left (\\eta_{A},\\eta_{B},\\eta_{U},t \\right )} + \\frac{\\Phi_{A} a_{1}}{2} \\frac{\\partial^{2}}{\\partial \\eta_{U}^{2}}  P{\\left (\\eta_{A},\\eta_{B},\\eta_{U},t \\right )} + \\Phi_{A} \\eta_{B} s \\frac{\\partial}{\\partial \\eta_{A}} P{\\left (\\eta_{A},\\eta_{B},\\eta_{U},t \\right )} + \\Phi_{A} \\eta_{B} s \\frac{\\partial}{\\partial \\eta_{B}} P{\\left (\\eta_{A},\\eta_{B},\\eta_{U},t \\right )} - 2 \\Phi_{A} \\eta_{B} s \\frac{\\partial}{\\partial \\eta_{U}} P{\\left (\\eta_{A},\\eta_{B},\\eta_{U},t \\right )} - \\Phi_{A} \\eta_{U} r_{1} \\frac{\\partial}{\\partial \\eta_{A}} P{\\left (\\eta_{A},\\eta_{B},\\eta_{U},t \\right )} + \\Phi_{A} \\eta_{U} r_{1} \\frac{\\partial}{\\partial \\eta_{U}} P{\\left (\\eta_{A},\\eta_{B},\\eta_{U},t \\right )} + \\Phi_{A} r_{1} P{\\left (\\eta_{A},\\eta_{B},\\eta_{U},t \\right )} + \\Phi_{A} s P{\\left (\\eta_{A},\\eta_{B},\\eta_{U},t \\right )} + \\frac{\\Phi_{B} \\Phi_{U}}{2} r_{2} \\frac{\\partial^{2}}{\\partial \\eta_{B}^{2}}  P{\\left (\\eta_{A},\\eta_{B},\\eta_{U},t \\right )} - \\Phi_{B} \\Phi_{U} r_{2} \\frac{\\partial^{2}}{\\partial \\eta_{B}\\partial \\eta_{U}}  P{\\left (\\eta_{A},\\eta_{B},\\eta_{U},t \\right )} + \\frac{\\Phi_{B} \\Phi_{U}}{2} r_{2} \\frac{\\partial^{2}}{\\partial \\eta_{U}^{2}}  P{\\left (\\eta_{A},\\eta_{B},\\eta_{U},t \\right )} + \\frac{\\Phi_{B} a_{2}}{2} \\frac{\\partial^{2}}{\\partial \\eta_{B}^{2}}  P{\\left (\\eta_{A},\\eta_{B},\\eta_{U},t \\right )} - \\Phi_{B} a_{2} \\frac{\\partial^{2}}{\\partial \\eta_{B}\\partial \\eta_{U}}  P{\\left (\\eta_{A},\\eta_{B},\\eta_{U},t \\right )} + \\frac{\\Phi_{B} a_{2}}{2} \\frac{\\partial^{2}}{\\partial \\eta_{U}^{2}}  P{\\left (\\eta_{A},\\eta_{B},\\eta_{U},t \\right )} + \\Phi_{B} \\eta_{A} s \\frac{\\partial}{\\partial \\eta_{A}} P{\\left (\\eta_{A},\\eta_{B},\\eta_{U},t \\right )} + \\Phi_{B} \\eta_{A} s \\frac{\\partial}{\\partial \\eta_{B}} P{\\left (\\eta_{A},\\eta_{B},\\eta_{U},t \\right )} - 2 \\Phi_{B} \\eta_{A} s \\frac{\\partial}{\\partial \\eta_{U}} P{\\left (\\eta_{A},\\eta_{B},\\eta_{U},t \\right )} - \\Phi_{B} \\eta_{U} r_{2} \\frac{\\partial}{\\partial \\eta_{B}} P{\\left (\\eta_{A},\\eta_{B},\\eta_{U},t \\right )} + \\Phi_{B} \\eta_{U} r_{2} \\frac{\\partial}{\\partial \\eta_{U}} P{\\left (\\eta_{A},\\eta_{B},\\eta_{U},t \\right )} + \\Phi_{B} r_{2} P{\\left (\\eta_{A},\\eta_{B},\\eta_{U},t \\right )} + \\Phi_{B} s P{\\left (\\eta_{A},\\eta_{B},\\eta_{U},t \\right )} - \\Phi_{U} \\eta_{A} r_{1} \\frac{\\partial}{\\partial \\eta_{A}} P{\\left (\\eta_{A},\\eta_{B},\\eta_{U},t \\right )} + \\Phi_{U} \\eta_{A} r_{1} \\frac{\\partial}{\\partial \\eta_{U}} P{\\left (\\eta_{A},\\eta_{B},\\eta_{U},t \\right )} - \\Phi_{U} \\eta_{B} r_{2} \\frac{\\partial}{\\partial \\eta_{B}} P{\\left (\\eta_{A},\\eta_{B},\\eta_{U},t \\right )} + \\Phi_{U} \\eta_{B} r_{2} \\frac{\\partial}{\\partial \\eta_{U}} P{\\left (\\eta_{A},\\eta_{B},\\eta_{U},t \\right )} + \\frac{\\Phi_{U} g_{1}}{2} \\frac{\\partial^{2}}{\\partial \\eta_{A}^{2}}  P{\\left (\\eta_{A},\\eta_{B},\\eta_{U},t \\right )} - \\Phi_{U} g_{1} \\frac{\\partial^{2}}{\\partial \\eta_{A}\\partial \\eta_{U}}  P{\\left (\\eta_{A},\\eta_{B},\\eta_{U},t \\right )} + \\frac{\\Phi_{U} g_{1}}{2} \\frac{\\partial^{2}}{\\partial \\eta_{U}^{2}}  P{\\left (\\eta_{A},\\eta_{B},\\eta_{U},t \\right )} + \\frac{\\Phi_{U} g_{2}}{2} \\frac{\\partial^{2}}{\\partial \\eta_{B}^{2}}  P{\\left (\\eta_{A},\\eta_{B},\\eta_{U},t \\right )} - \\Phi_{U} g_{2} \\frac{\\partial^{2}}{\\partial \\eta_{B}\\partial \\eta_{U}}  P{\\left (\\eta_{A},\\eta_{B},\\eta_{U},t \\right )} + \\frac{\\Phi_{U} g_{2}}{2} \\frac{\\partial^{2}}{\\partial \\eta_{U}^{2}}  P{\\left (\\eta_{A},\\eta_{B},\\eta_{U},t \\right )} - \\Phi_{U} r_{1} P{\\left (\\eta_{A},\\eta_{B},\\eta_{U},t \\right )} - \\Phi_{U} r_{2} P{\\left (\\eta_{A},\\eta_{B},\\eta_{U},t \\right )} + a_{1} \\eta_{A} \\frac{\\partial}{\\partial \\eta_{A}} P{\\left (\\eta_{A},\\eta_{B},\\eta_{U},t \\right )} - a_{1} \\eta_{A} \\frac{\\partial}{\\partial \\eta_{U}} P{\\left (\\eta_{A},\\eta_{B},\\eta_{U},t \\right )} + a_{1} P{\\left (\\eta_{A},\\eta_{B},\\eta_{U},t \\right )} + a_{2} \\eta_{B} \\frac{\\partial}{\\partial \\eta_{B}} P{\\left (\\eta_{A},\\eta_{B},\\eta_{U},t \\right )} - a_{2} \\eta_{B} \\frac{\\partial}{\\partial \\eta_{U}} P{\\left (\\eta_{A},\\eta_{B},\\eta_{U},t \\right )} + a_{2} P{\\left (\\eta_{A},\\eta_{B},\\eta_{U},t \\right )} - \\eta_{U} g_{1} \\frac{\\partial}{\\partial \\eta_{A}} P{\\left (\\eta_{A},\\eta_{B},\\eta_{U},t \\right )} + \\eta_{U} g_{1} \\frac{\\partial}{\\partial \\eta_{U}} P{\\left (\\eta_{A},\\eta_{B},\\eta_{U},t \\right )} - \\eta_{U} g_{2} \\frac{\\partial}{\\partial \\eta_{B}} P{\\left (\\eta_{A},\\eta_{B},\\eta_{U},t \\right )} + \\eta_{U} g_{2} \\frac{\\partial}{\\partial \\eta_{U}} P{\\left (\\eta_{A},\\eta_{B},\\eta_{U},t \\right )} + g_{1} P{\\left (\\eta_{A},\\eta_{B},\\eta_{U},t \\right )} + g_{2} P{\\left (\\eta_{A},\\eta_{B},\\eta_{U},t \\right )}$$"
      ],
      "text/plain": [
       "<IPython.core.display.Math object>"
      ]
     },
     "metadata": {},
     "output_type": "display_data"
    },
    {
     "data": {
      "text/latex": [
       "$$With \\; substitution:\\;U:= - B + - A + N$$"
      ],
      "text/plain": [
       "<IPython.core.display.Math object>"
      ]
     },
     "metadata": {},
     "output_type": "display_data"
    }
   ],
   "source": [
    "model5.showFokkerPlanckEquation()"
   ]
  },
  {
   "cell_type": "code",
   "execution_count": null,
   "metadata": {
    "collapsed": true
   },
   "outputs": [],
   "source": []
  }
 ],
 "metadata": {
  "kernelspec": {
   "display_name": "Python 3",
   "language": "python",
   "name": "python3"
  },
  "language_info": {
   "codemirror_mode": {
    "name": "ipython",
    "version": 3
   },
   "file_extension": ".py",
   "mimetype": "text/x-python",
   "name": "python",
   "nbconvert_exporter": "python",
   "pygments_lexer": "ipython3",
   "version": "3.5.2"
  }
 },
 "nbformat": 4,
 "nbformat_minor": 1
}
