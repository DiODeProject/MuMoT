{
 "cells": [
  {
   "cell_type": "code",
   "execution_count": null,
   "metadata": {},
   "outputs": [],
   "source": [
    "import mumot\n",
    "\n",
    "mumot.setVerboseExceptions()\n",
    "mumot.about()"
   ]
  },
  {
   "cell_type": "code",
   "execution_count": null,
   "metadata": {},
   "outputs": [],
   "source": [
    "model1 = mumot.parseModel(r\"\"\"\n",
    "U -> A : g_A\n",
    "U -> B : g_B\n",
    "A -> U : a_A\n",
    "B -> U : a_B\n",
    "A + U -> A + A : r_A\n",
    "B + U -> B + B : r_B\n",
    "A + B -> A + U : s\n",
    "A + B -> B + U : s\n",
    "\"\"\")"
   ]
  },
  {
   "cell_type": "code",
   "execution_count": null,
   "metadata": {},
   "outputs": [],
   "source": [
    "model2 = model1.substitute('U = N - A - B')"
   ]
  },
  {
   "cell_type": "code",
   "execution_count": null,
   "metadata": {},
   "outputs": [],
   "source": [
    "model3 = model2.substitute('a_A = 1/v_A, a_B = 1/v_B, g_A = v_A, g_B = v_B, r_A = v_A, r_B = v_B')"
   ]
  },
  {
   "cell_type": "code",
   "execution_count": null,
   "metadata": {},
   "outputs": [],
   "source": [
    "model4 = model3.substitute('v_A = \\mu + \\Delta/2, v_B = \\mu - \\Delta/2')"
   ]
  },
  {
   "cell_type": "markdown",
   "metadata": {},
   "source": [
    "## view arguments set on creation (works)"
   ]
  },
  {
   "cell_type": "code",
   "execution_count": null,
   "metadata": {},
   "outputs": [],
   "source": [
    "stream1 = model4.stream('A','B', showFixedPoints = True, silent = True)\n",
    "mc1 = mumot.MuMoTmultiController([stream1], params = [('s',1)])"
   ]
  },
  {
   "cell_type": "markdown",
   "metadata": {},
   "source": [
    "## view arguments set at multicontroller level (doesn't work; view has already been created)"
   ]
  },
  {
   "cell_type": "code",
   "execution_count": null,
   "metadata": {},
   "outputs": [],
   "source": [
    "stream2 = model4.stream('A','B', silent = True)\n",
    "mc2 = mumot.MuMoTmultiController([stream2], showFixedPoints = True)"
   ]
  },
  {
   "cell_type": "markdown",
   "metadata": {},
   "source": [
    "## advanced options specified by keyword on creation (_i.e._ not via `initWidgets`)"
   ]
  },
  {
   "cell_type": "code",
   "execution_count": null,
   "metadata": {},
   "outputs": [],
   "source": [
    "ssa1 = model4.SSA(silent = True, visualisationType='final', final_x='A', final_y='B', params = [('s',1)])\n",
    "mc3 = mumot.MuMoTmultiController([ssa1])"
   ]
  },
  {
   "cell_type": "markdown",
   "metadata": {},
   "source": [
    "## advanced options specified by keyword at multicontroller level (_i.e._ not via `initWidgets`) (works; controller is not created on creation of silent controller)"
   ]
  },
  {
   "cell_type": "code",
   "execution_count": null,
   "metadata": {},
   "outputs": [],
   "source": [
    "ssa2 = model4.SSA(silent = True, params = [('s',1)])\n",
    "mc4 = mumot.MuMoTmultiController([ssa2], visualisationType='final', final_x='A', final_y='B')"
   ]
  },
  {
   "cell_type": "markdown",
   "metadata": {},
   "source": [
    "## advanced options specified by keyword at multicontroller level (_i.e._ not via `initWidgets`) and parameters set via `params`"
   ]
  },
  {
   "cell_type": "code",
   "execution_count": null,
   "metadata": {},
   "outputs": [],
   "source": [
    "ssa3 = model4.SSA(silent = True)\n",
    "mc5 = mumot.MuMoTmultiController([ssa3], visualisationType='final', final_x='A', final_y='B', params = [('s',1)])"
   ]
  },
  {
   "cell_type": "markdown",
   "metadata": {},
   "source": [
    "## advanced options specified by keyword on creation (_i.e._ not via `initWidgets`), parameters set via `params`, and advanced widgets set via `initWidgets`"
   ]
  },
  {
   "cell_type": "code",
   "execution_count": null,
   "metadata": {},
   "outputs": [],
   "source": [
    "ssa4 = model4.SSA(silent = True, visualisationType='final', final_x='A', final_y='B', aggregateResults = True, params = [('s',1)], initWidgets={'runs':[50,1,100,1]})\n",
    "mc6 = mumot.MuMoTmultiController([ssa4])"
   ]
  },
  {
   "cell_type": "markdown",
   "metadata": {},
   "source": [
    "## advanced options specified by keyword on creation (_i.e._ not via `initWidgets`), parameters set via `params`, `initialState` set and advanced widgets set via `initWidgets` at multiController level; `params` should be specifiable either on creation or at multicontroller level"
   ]
  },
  {
   "cell_type": "code",
   "execution_count": null,
   "metadata": {},
   "outputs": [],
   "source": [
    "#ssa5 = model4.SSA(silent = True, visualisationType='final', final_x='A', final_y='B', aggregateResults = True)\n",
    "#mc7 = mumot.MuMoTmultiController([ssa5], params = [('s',1)], initWidgets={'runs':[50,1,100,1]}, initialState = {'B': 0.0, 'U': 1.0, 'A': 0.0})"
   ]
  },
  {
   "cell_type": "code",
   "execution_count": null,
   "metadata": {},
   "outputs": [],
   "source": [
    "#ssa6 = model4.SSA(silent = True, visualisationType='final', final_x='A', final_y='B', aggregateResults = True, params = [('s',1)])\n",
    "#mc8 = mumot.MuMoTmultiController([ssa6], initWidgets={'runs':[50,1,100,1]}, initialState = {'B': 0.0, 'U': 1.0, 'A': 0.0})"
   ]
  },
  {
   "cell_type": "markdown",
   "metadata": {},
   "source": [
    "## advanced test; different `params` for different constituent controllers"
   ]
  },
  {
   "cell_type": "code",
   "execution_count": null,
   "metadata": {},
   "outputs": [],
   "source": [
    "stream3 = model4.stream('A','B', params = [('\\\\Delta', 0)], silent = True)\n",
    "stream4 = model4.stream('A','B', params = [('\\\\Delta', 1)], silent = True)\n",
    "mc9 = mumot.MuMoTmultiController([stream3, stream4], initWidgets={'s':[1,0,5,0.5]})"
   ]
  },
  {
   "cell_type": "markdown",
   "metadata": {},
   "source": [
    "## very advanced test; different `params` for different constituent controllers, higher level common parameter as well"
   ]
  },
  {
   "cell_type": "code",
   "execution_count": null,
   "metadata": {},
   "outputs": [],
   "source": [
    "stream5 = model4.stream('A','B', params = [('\\\\Delta', 0)], silent = True)\n",
    "stream6 = model4.stream('A','B', params = [('\\\\Delta', 1)], silent = True)\n",
    "mc10 = mumot.MuMoTmultiController([stream5, stream6], params = [('s', 0)])"
   ]
  },
  {
   "cell_type": "markdown",
   "metadata": {},
   "source": [
    "## very advanced test; different `initialState` for different constituent controllers"
   ]
  },
  {
   "cell_type": "code",
   "execution_count": null,
   "metadata": {
    "scrolled": false
   },
   "outputs": [],
   "source": [
    "multiagent1 = model4.multiagent(silent=True, visualisationType='graph', initialState = {'B': 0.0, 'U': 1.0, 'A': 0.0})\n",
    "ssa7 = model4.SSA(silent = True, visualisationType='final', maxTime=4, plotProportions=True, initialState = {'B': 0.0, 'U': 1.0, 'A': 0.0})\n",
    "mc12 = mumot.MuMoTmultiController([multiagent1, ssa7],\n",
    "                                params = [('\\\\Delta', 0.5), ('\\\\mu', 2.0), ('s', 0.5)],\n",
    "                                initWidgets={'runs':[1,1,50,1]},\n",
    "                            shareAxes = False)"
   ]
  }
 ],
 "metadata": {
  "kernelspec": {
   "display_name": "Python 3",
   "language": "python",
   "name": "python3"
  },
  "language_info": {
   "codemirror_mode": {
    "name": "ipython",
    "version": 3
   },
   "file_extension": ".py",
   "mimetype": "text/x-python",
   "name": "python",
   "nbconvert_exporter": "python",
   "pygments_lexer": "ipython3",
   "version": "3.6.8"
  },
  "toc": {
   "base_numbering": 1,
   "nav_menu": {},
   "number_sections": true,
   "sideBar": true,
   "skip_h1_title": false,
   "title_cell": "Table of Contents",
   "title_sidebar": "Contents",
   "toc_cell": false,
   "toc_position": {},
   "toc_section_display": true,
   "toc_window_display": false
  }
 },
 "nbformat": 4,
 "nbformat_minor": 2
}
