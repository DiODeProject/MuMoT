{
 "cells": [
  {
   "cell_type": "markdown",
   "metadata": {},
   "source": [
    "# MuMoT Test Suite <a class=\"tocSkip\">"
   ]
  },
  {
   "cell_type": "code",
   "execution_count": null,
   "metadata": {},
   "outputs": [],
   "source": [
    "import mumot\n",
    "\n",
    "mumot.setVerboseExceptions()\n",
    "\n",
    "mumot.about()"
   ]
  },
  {
   "cell_type": "markdown",
   "metadata": {},
   "source": [
    "## Substitution and display tests based on 2-d stop-signal model"
   ]
  },
  {
   "cell_type": "code",
   "execution_count": null,
   "metadata": {},
   "outputs": [],
   "source": [
    "model1 = mumot.parseModel(r\"\"\"\n",
    "U -> A : g_1\n",
    "U -> B : g_2\n",
    "A -> U : a_1\n",
    "B -> U : a_2\n",
    "A + U -> A + A : r_1\n",
    "B + U -> B + B : r_2\n",
    "A + B -> A + U : s\n",
    "A + B -> B + U : s\n",
    "\"\"\")"
   ]
  },
  {
   "cell_type": "code",
   "execution_count": null,
   "metadata": {},
   "outputs": [],
   "source": [
    "int1 = model1.integrate(showStateVars=['A', 'B', 'U'],\n",
    "                        initWidgets={'maxTime':[10,5,50,1], \n",
    "                                     'initialState':{'U': [0.8,0,1,0.01],\n",
    "                                                     'B': [0.1,0,1,0.1],\n",
    "                                                     'A': [0.1,0,1,0.1]}},\n",
    "                       conserved=True)"
   ]
  },
  {
   "cell_type": "code",
   "execution_count": null,
   "metadata": {},
   "outputs": [],
   "source": [
    "int1.showLogs()"
   ]
  },
  {
   "cell_type": "code",
   "execution_count": null,
   "metadata": {},
   "outputs": [],
   "source": [
    "model1.showODEs()"
   ]
  },
  {
   "cell_type": "code",
   "execution_count": null,
   "metadata": {},
   "outputs": [],
   "source": [
    "model1.showODEs(method='vanKampen')"
   ]
  },
  {
   "cell_type": "code",
   "execution_count": null,
   "metadata": {},
   "outputs": [],
   "source": [
    "noise1 = model1.noiseCorrelations(initWidgets={'maxTime':[10,5,50,1], \n",
    "                                               'initialState':{'U': [0.8,0,1,0.01],\n",
    "                                                               'B': [0.1,0,1,0.1],\n",
    "                                                               'A': [0.1,0,1,0.1]}},\n",
    "                                  conserved=True)"
   ]
  },
  {
   "cell_type": "code",
   "execution_count": null,
   "metadata": {},
   "outputs": [],
   "source": [
    "noise1.showLogs()"
   ]
  },
  {
   "cell_type": "code",
   "execution_count": null,
   "metadata": {},
   "outputs": [],
   "source": [
    "model2 = model1.substitute('a_1 = 1/v_1, a_2 = 1/v_2, g_1 = v_1, g_2 = v_2, r_1 = v_1, r_2 = v_2')"
   ]
  },
  {
   "cell_type": "code",
   "execution_count": null,
   "metadata": {},
   "outputs": [],
   "source": [
    "model3 = model2.substitute('v_1 = \\\\mu + \\\\Delta/2, v_2 = \\\\mu - \\\\Delta/2')"
   ]
  },
  {
   "cell_type": "code",
   "execution_count": null,
   "metadata": {},
   "outputs": [],
   "source": [
    "model3.showODEs()"
   ]
  },
  {
   "cell_type": "code",
   "execution_count": null,
   "metadata": {},
   "outputs": [],
   "source": [
    "model3.show()"
   ]
  },
  {
   "cell_type": "code",
   "execution_count": null,
   "metadata": {},
   "outputs": [],
   "source": [
    "model3.visualise()"
   ]
  },
  {
   "cell_type": "markdown",
   "metadata": {},
   "source": [
    "### Check substitutions do not change original model"
   ]
  },
  {
   "cell_type": "code",
   "execution_count": null,
   "metadata": {},
   "outputs": [],
   "source": [
    "model1.showODEs()"
   ]
  },
  {
   "cell_type": "code",
   "execution_count": null,
   "metadata": {},
   "outputs": [],
   "source": [
    "model1.show()"
   ]
  },
  {
   "cell_type": "code",
   "execution_count": null,
   "metadata": {},
   "outputs": [],
   "source": [
    "model1.visualise()"
   ]
  },
  {
   "cell_type": "markdown",
   "metadata": {},
   "source": [
    "## Set system size"
   ]
  },
  {
   "cell_type": "code",
   "execution_count": null,
   "metadata": {},
   "outputs": [],
   "source": [
    "model4 = model3.substitute('U = N - \\A - \\B')"
   ]
  },
  {
   "cell_type": "code",
   "execution_count": null,
   "metadata": {},
   "outputs": [],
   "source": [
    "model4.showODEs()"
   ]
  },
  {
   "cell_type": "code",
   "execution_count": null,
   "metadata": {},
   "outputs": [],
   "source": [
    "int4 = model4.integrate()"
   ]
  },
  {
   "cell_type": "code",
   "execution_count": null,
   "metadata": {},
   "outputs": [],
   "source": [
    "model4.showODEs(method='vanKampen')"
   ]
  },
  {
   "cell_type": "markdown",
   "metadata": {},
   "source": [
    "## 2d bifurcation plot tests"
   ]
  },
  {
   "cell_type": "code",
   "execution_count": null,
   "metadata": {},
   "outputs": [],
   "source": [
    "modelBifCont1 = model4.bifurcation('s','A-B', initWigdets={'Delta':[0.1, 0, 5, 0.1], 'mu':[3, 1.1, 5, 0.1]},\n",
    "                                  ContMaxNumPoints=150)"
   ]
  },
  {
   "cell_type": "code",
   "execution_count": null,
   "metadata": {},
   "outputs": [],
   "source": [
    "modelBifCont1.showLogs()"
   ]
  },
  {
   "cell_type": "code",
   "execution_count": null,
   "metadata": {},
   "outputs": [],
   "source": [
    "model5 = model2.substitute('v_1 = v, v_2 = v')"
   ]
  },
  {
   "cell_type": "code",
   "execution_count": null,
   "metadata": {},
   "outputs": [],
   "source": [
    "model6 = model5.substitute('U = N - \\A - \\B')"
   ]
  },
  {
   "cell_type": "code",
   "execution_count": null,
   "metadata": {},
   "outputs": [],
   "source": [
    "model6.showODEs()"
   ]
  },
  {
   "cell_type": "markdown",
   "metadata": {},
   "source": [
    "## 2d stream plot tests"
   ]
  },
  {
   "cell_type": "code",
   "execution_count": null,
   "metadata": {},
   "outputs": [],
   "source": [
    "modelStreamCont1 = model4.stream('A', 'B',fontsize=25, xlab=r'this is the x-label', \n",
    "                                 showFixedPoints=True, showNoise=True)"
   ]
  },
  {
   "cell_type": "code",
   "execution_count": null,
   "metadata": {},
   "outputs": [],
   "source": [
    "modelStreamCont1.showLogs(tail=True)"
   ]
  },
  {
   "cell_type": "code",
   "execution_count": null,
   "metadata": {},
   "outputs": [],
   "source": [
    "modelStreamCont2 = model6.stream('A', 'B', showNoise=True, showFixedPoints=False)"
   ]
  },
  {
   "cell_type": "code",
   "execution_count": null,
   "metadata": {},
   "outputs": [],
   "source": [
    "modelStreamCont2.showLogs()"
   ]
  },
  {
   "cell_type": "markdown",
   "metadata": {},
   "source": [
    "## 2d vector plot tests"
   ]
  },
  {
   "cell_type": "code",
   "execution_count": null,
   "metadata": {},
   "outputs": [],
   "source": [
    "modelVectorCont1 = model4.vector('A', 'B', showFixedPoints=True)"
   ]
  },
  {
   "cell_type": "code",
   "execution_count": null,
   "metadata": {},
   "outputs": [],
   "source": [
    "modelVectorCont1.showLogs(tail=True)"
   ]
  },
  {
   "cell_type": "markdown",
   "metadata": {},
   "source": [
    "## SSA and multiagent tests"
   ]
  },
  {
   "cell_type": "code",
   "execution_count": null,
   "metadata": {},
   "outputs": [],
   "source": [
    "model4.SSA()"
   ]
  },
  {
   "cell_type": "code",
   "execution_count": null,
   "metadata": {},
   "outputs": [],
   "source": [
    "ssa = model4.SSA(initWidgets={'realtimePlot':True, \n",
    "                        'initialState':{'U': [1,0,1,0.01],'B': [0,0,1,0.1],'A': [0,0,1,0.1]},\n",
    "                        'runs':[3,1,20,1]})"
   ]
  },
  {
   "cell_type": "code",
   "execution_count": null,
   "metadata": {},
   "outputs": [],
   "source": [
    "ssa.showLogs()"
   ]
  },
  {
   "cell_type": "code",
   "execution_count": null,
   "metadata": {},
   "outputs": [],
   "source": [
    "ma = model4.multiagent()"
   ]
  },
  {
   "cell_type": "code",
   "execution_count": null,
   "metadata": {},
   "outputs": [],
   "source": [
    "model4.multiagent(initWidgets={'realtimePlot':True, 'systemSize':[50,3,100,1],\n",
    "                        'initialState':{'U': [1,0,1,0.01],'B': [0,0,1,0.1],'A': [0,0,1,0.1]},\n",
    "                        'netType':'dynamic', 'visualisationType':'graph', 'showTrace':True, 'showInteractions':True})"
   ]
  },
  {
   "cell_type": "code",
   "execution_count": null,
   "metadata": {},
   "outputs": [],
   "source": [
    "ma.showLogs()"
   ]
  },
  {
   "cell_type": "code",
   "execution_count": null,
   "metadata": {},
   "outputs": [],
   "source": [
    "ma=model4.multiagent(initWidgets={'realtimePlot':False, 'netType':'erdos-renyi', 'netParam':[0.2,0.1,1,0.05],\n",
    "                                    'systemSize':[15,3,50,1],\n",
    "                        'initialState':{'U': [1,0,1,0.01],'B': [0,0,1,0.1],'A': [0,0,1,0.1]},\n",
    "                        'runs':[3,1,20,1]})"
   ]
  },
  {
   "cell_type": "markdown",
   "metadata": {},
   "source": [
    "## 3d vector plot test"
   ]
  },
  {
   "cell_type": "code",
   "execution_count": null,
   "metadata": {},
   "outputs": [],
   "source": [
    "model7 = mumot.parseModel(r\"\"\"\n",
    "U -> A : g_1\n",
    "U -> B : g_2\n",
    "U -> C : g_3\n",
    "A -> U : a_1\n",
    "B -> U : a_2\n",
    "C -> U : a_3\n",
    "A + U -> A + A : r_1\n",
    "B + U -> B + B : r_2\n",
    "C + U -> C + C : r_3\n",
    "A + B -> A + U : s\n",
    "A + B -> B + U : s\n",
    "A + C -> A + U : s\n",
    "A + C -> C + U : s\n",
    "B + C -> B + U : s\n",
    "B + C -> C + U : s\n",
    "\"\"\")"
   ]
  },
  {
   "cell_type": "code",
   "execution_count": null,
   "metadata": {},
   "outputs": [],
   "source": [
    "model8 = model7.substitute('U = N - A - B - C')"
   ]
  },
  {
   "cell_type": "code",
   "execution_count": null,
   "metadata": {},
   "outputs": [],
   "source": [
    "modelVectorCont2 = model8.vector('A', 'B', 'C')"
   ]
  },
  {
   "cell_type": "code",
   "execution_count": null,
   "metadata": {},
   "outputs": [],
   "source": [
    "modelVectorCont2.showLogs()"
   ]
  },
  {
   "cell_type": "markdown",
   "metadata": {},
   "source": [
    "## 3d stream plot test"
   ]
  },
  {
   "cell_type": "code",
   "execution_count": null,
   "metadata": {},
   "outputs": [],
   "source": [
    "modelStreamCont3 = model8.stream('A', 'B', 'C')"
   ]
  },
  {
   "cell_type": "code",
   "execution_count": null,
   "metadata": {},
   "outputs": [],
   "source": [
    "modelStreamCont3.showLogs()"
   ]
  },
  {
   "cell_type": "markdown",
   "metadata": {},
   "source": [
    "## Non-constant system size tests with Brusselator"
   ]
  },
  {
   "cell_type": "code",
   "execution_count": null,
   "metadata": {},
   "outputs": [],
   "source": [
    "model9 = mumot.parseModel(r\"\"\"\n",
    "(\\alpha) -> X : \\gamma\n",
    "X + X + Y -> X + X + X : \\chi\n",
    "(\\beta) + X -> Y + \\emptyset : \\delta\n",
    "X -> \\emptyset : \\xi\n",
    "\"\"\")"
   ]
  },
  {
   "cell_type": "code",
   "execution_count": null,
   "metadata": {},
   "outputs": [],
   "source": [
    "int9 = model9.integrate(initWidgets={'maxTime':[10,5,50,1]})"
   ]
  },
  {
   "cell_type": "code",
   "execution_count": null,
   "metadata": {},
   "outputs": [],
   "source": [
    "int9.showLogs()"
   ]
  },
  {
   "cell_type": "code",
   "execution_count": null,
   "metadata": {},
   "outputs": [],
   "source": [
    "nc9 = model9.noiseCorrelations(initWidgets={'maxTime':[10,5,50,1]})"
   ]
  },
  {
   "cell_type": "code",
   "execution_count": null,
   "metadata": {},
   "outputs": [],
   "source": [
    "nc9.showLogs()"
   ]
  },
  {
   "cell_type": "code",
   "execution_count": null,
   "metadata": {},
   "outputs": [],
   "source": [
    "model9.show()"
   ]
  },
  {
   "cell_type": "code",
   "execution_count": null,
   "metadata": {},
   "outputs": [],
   "source": [
    "model9.showODEs()"
   ]
  },
  {
   "cell_type": "code",
   "execution_count": null,
   "metadata": {},
   "outputs": [],
   "source": [
    "model9.showReactants()"
   ]
  },
  {
   "cell_type": "code",
   "execution_count": null,
   "metadata": {},
   "outputs": [],
   "source": [
    "model9.visualise()"
   ]
  },
  {
   "cell_type": "code",
   "execution_count": null,
   "metadata": {},
   "outputs": [],
   "source": [
    "modelStreamCont3 = model9.stream('X','Y', showFixedPoints = False, showNoise=True)"
   ]
  },
  {
   "cell_type": "code",
   "execution_count": null,
   "metadata": {},
   "outputs": [],
   "source": [
    "modelStreamCont3.showLogs(tail = True)"
   ]
  },
  {
   "cell_type": "code",
   "execution_count": null,
   "metadata": {},
   "outputs": [],
   "source": [
    "#model9.SSA(visualisationType= 'final', final_x = 'X', final_y='Y', maxTime= 5, runs= 5,\n",
    "#          plotProportions= True, aggregateResults= True,  realtimePlot= False,\n",
    "#           params = [ ('systemSize', 30 )] )"
   ]
  },
  {
   "cell_type": "markdown",
   "metadata": {},
   "source": [
    "## Master Equation and noise approximation tests"
   ]
  },
  {
   "cell_type": "code",
   "execution_count": null,
   "metadata": {},
   "outputs": [],
   "source": [
    "model9.showODEs(method='vanKampen')"
   ]
  },
  {
   "cell_type": "code",
   "execution_count": null,
   "metadata": {},
   "outputs": [],
   "source": [
    "model9.showMasterEquation()"
   ]
  },
  {
   "cell_type": "code",
   "execution_count": null,
   "metadata": {},
   "outputs": [],
   "source": [
    "model9.showFokkerPlanckEquation()"
   ]
  },
  {
   "cell_type": "code",
   "execution_count": null,
   "metadata": {},
   "outputs": [],
   "source": [
    "model9.showNoiseEquations()"
   ]
  },
  {
   "cell_type": "code",
   "execution_count": null,
   "metadata": {},
   "outputs": [],
   "source": [
    "model9.showNoiseSolutions()"
   ]
  },
  {
   "cell_type": "markdown",
   "metadata": {},
   "source": [
    "## View / controller separation tests"
   ]
  },
  {
   "cell_type": "code",
   "execution_count": null,
   "metadata": {},
   "outputs": [],
   "source": [
    "soloView1 = mumot.MuMoTbifurcationView(model4, None,\n",
    "                                     {'initBifParam':5, 'initialState':{'A':[0.1,0,1,0.1], \n",
    "                                                                                      'B':[0.1,0,1,0.1],\n",
    "                                                                                     'U':[0.8,0,1,0.1]},\n",
    "                                                   'bifurcationParameter':['s', True], 'conserved':[True, True]}, \n",
    "                                     's', 'A-B', None, params = [('\\\\Delta', 0.1), ('s', 5), ('\\\\mu', 3.0)])"
   ]
  },
  {
   "cell_type": "code",
   "execution_count": null,
   "metadata": {},
   "outputs": [],
   "source": [
    "soloView2 = mumot.MuMoTstreamView(model6, None, {'maxTime':1,'runs':5,'randomSeed':123,'aggregateResults':True}, None, 'A', 'B', params = [('s', 1), ('v', 2)])"
   ]
  },
  {
   "cell_type": "code",
   "execution_count": null,
   "metadata": {},
   "outputs": [],
   "source": [
    "model10 = model8.substitute('a_1 = a, a_2 = a, a_3 = a, g_1 = g, g_2 = g, g_3 = g, r_1 = r, r_2 = r, r_3 = r')"
   ]
  },
  {
   "cell_type": "code",
   "execution_count": null,
   "metadata": {},
   "outputs": [],
   "source": [
    "soloView3 = mumot.MuMoTvectorView(model10, None, {'maxTime':1,'runs':5,'randomSeed':123,'aggregateResults':True}, None, 'A', 'B', 'C', params = [('s', 5), ('a', 1/2), ('r', 5), ('g', 1)])"
   ]
  },
  {
   "cell_type": "code",
   "execution_count": null,
   "metadata": {},
   "outputs": [],
   "source": [
    "soloView3.showLogs()"
   ]
  },
  {
   "cell_type": "code",
   "execution_count": null,
   "metadata": {},
   "outputs": [],
   "source": [
    "#mumot.MuMoTSSAView(model4, None, params = [('\\\\Delta', 2.0), ('s', 2.0), ('\\\\mu', 2.0), ('plotLimits', 1), ('systemSize', 35)], SSParams = {'aggregateResults': False, 'maxTime': 3.0, 'realtimePlot': False, 'runs': 15, 'plotProportions': False, 'initialState': {'A': 0.0, 'B': 0.0, 'U': 1.0}, 'randomSeed': 191853798, 'final_x': 'A', 'final_y': 'B', 'visualisationType': 'final'} )"
   ]
  },
  {
   "cell_type": "code",
   "execution_count": null,
   "metadata": {},
   "outputs": [],
   "source": [
    "mumot.MuMoTmultiagentView(model4, None, params = [('\\\\Delta', 2.0), ('\\\\mu', 2.0), ('s', 2.0), ('plotLimits', 1), ('systemSize', 15)], SSParams = {'maxTime': 3.0, 'netType': 'erdos-renyi', 'realtimePlot': False, 'netParam': 0.2, 'aggregateResults': True, 'randomSeed': 1440908719, 'timestepSize': 0.136363636363636, 'plotProportions': False, 'initialState': {'A': 0.0, 'U': 1.0, 'B': 0.0}, 'runs': 3, 'visualisationType': 'evo'} )"
   ]
  },
  {
   "cell_type": "markdown",
   "metadata": {},
   "source": [
    "## Multi controller tests"
   ]
  },
  {
   "cell_type": "code",
   "execution_count": null,
   "metadata": {},
   "outputs": [],
   "source": [
    "multiController1 = mumot.MuMoTmultiController([model4.stream('A', 'B', silent = True, showFixedPoints=False), \n",
    "                                             model4.vector('A', 'B', silent = True)], shareAxes = True)"
   ]
  },
  {
   "cell_type": "code",
   "execution_count": null,
   "metadata": {},
   "outputs": [],
   "source": [
    "multiController1.showLogs()"
   ]
  },
  {
   "cell_type": "code",
   "execution_count": null,
   "metadata": {},
   "outputs": [],
   "source": [
    "multiController2 = mumot.MuMoTmultiController([model4.vector('A', 'B', silent = True, showFixedPoints=False), \n",
    "                                             model4.stream('A', 'B', silent = True)])"
   ]
  },
  {
   "cell_type": "code",
   "execution_count": null,
   "metadata": {},
   "outputs": [],
   "source": [
    "multiController2.showLogs()"
   ]
  },
  {
   "cell_type": "code",
   "execution_count": null,
   "metadata": {},
   "outputs": [],
   "source": [
    "multiController3 = mumot.MuMoTmultiController([model4.stream('A', 'B', silent = True), \n",
    "                                             model4.vector('A', 'B', silent = True)], \n",
    "                                            shareAxes = True, silent = True)"
   ]
  },
  {
   "cell_type": "code",
   "execution_count": null,
   "metadata": {},
   "outputs": [],
   "source": [
    "multiController4 = mumot.MuMoTmultiController([model4.bifurcation('s','A', silent = True), \n",
    "                                             model4.bifurcation('s','B', silent = True)], \n",
    "                                            shareAxes = False)"
   ]
  },
  {
   "cell_type": "code",
   "execution_count": null,
   "metadata": {},
   "outputs": [],
   "source": [
    "#mtc = mumot.MuMoTmultiController([\n",
    "#        model4.SSA( visualisationType='final', final_x='A', final_y='B', silent = True),\n",
    "#        model4.stream(\"A\",\"B\", silent=True),\n",
    "#        #model4.multiagent(silent = True) \n",
    "#],\n",
    "#                         #netParam=0.2,netType='erdos-renyi', \n",
    "#                         initWidgets={'initialState':{'U': [1,0,1,0.001],'B': [0,0,1,0.1],'A': [0,0,1,0.1]},\n",
    "#                                      'runs':[50,1,100,1],'aggregateResults':True},\n",
    "#                        params=[('v_1', 4), ('systemSize',40)],\n",
    "#                         shareAxes = True)"
   ]
  },
  {
   "cell_type": "code",
   "execution_count": null,
   "metadata": {},
   "outputs": [],
   "source": [
    "mc1 = mumot.MuMoTmultiController([model4.SSA(initWidgets={'initialState':{'U': [1,0,1,0.01],'B': [0,0,1,0.1],\n",
    "                                                                        'A': [0,0,1,0.1]}, 'runs':[5,1,20,1],\n",
    "                                                       'aggregateResults':True},\n",
    "                                          silent=True),\n",
    "                                model4.integrate(initWidgets={'initialState':{'U': [1,0,1,0.01],\n",
    "                                                                             'B': [0,0,1,0.1],'A': [0,0,1,0.1]}},\n",
    "                                                silent=True)],\n",
    "                               shareAxes = True)"
   ]
  },
  {
   "cell_type": "code",
   "execution_count": null,
   "metadata": {},
   "outputs": [],
   "source": [
    "foo = model4.multiagent(silent=True, visualisationType='graph', initialState = {'B': 0.0, 'U': 1.0, 'A': 0.0})\n",
    "bar = model4.SSA(silent = True, visualisationType='final', maxTime=4, plotProportions=True, initialState = {'B': 0.0, 'U': 1.0, 'A': 0.0})\n",
    "mc2 = mumot.MuMoTmultiController([foo, bar],\n",
    "                                params = [('\\\\Delta', 0.5), ('\\\\mu', 2.0), ('s', 0.5)],\n",
    "                                initWidgets={'runs':[1,1,50,1]},\n",
    "                            shareAxes = False)"
   ]
  },
  {
   "cell_type": "markdown",
   "metadata": {},
   "source": [
    "### Nested multicontrollers"
   ]
  },
  {
   "cell_type": "code",
   "execution_count": null,
   "metadata": {},
   "outputs": [],
   "source": [
    "multiController5 = mumot.MuMoTmultiController([multiController3, multiController4])"
   ]
  },
  {
   "cell_type": "code",
   "execution_count": null,
   "metadata": {},
   "outputs": [],
   "source": [
    "multiController5.showLogs()"
   ]
  },
  {
   "cell_type": "markdown",
   "metadata": {},
   "source": [
    "## Bookmark / partial controller tests"
   ]
  },
  {
   "cell_type": "code",
   "execution_count": null,
   "metadata": {},
   "outputs": [],
   "source": [
    "partial1 = model9.stream('X','Y', params = [('\\\\alpha', 1), ('plotLimits', 2)], showFixedPoints = False)"
   ]
  },
  {
   "cell_type": "code",
   "execution_count": null,
   "metadata": {},
   "outputs": [],
   "source": [
    "modelBifCont1._view._build_bookmark().replace('\\\\\\\\','\\\\')"
   ]
  },
  {
   "cell_type": "code",
   "execution_count": null,
   "metadata": {},
   "outputs": [],
   "source": [
    "bookmark1 = model4.bifurcation('s', 'A-B', initialState = {'U': 0.0, 'A': 1.0, 'B': 0.0}, initBifParam = 2.0, params = [('\\\\mu', 2.0), ('\\\\Delta', 2.0), ('plotLimits', 1), ('systemSize', 1)], initWigdets = {'\\\\mu': [3, 1.1, 5, 0.1], '\\\\Delta': [0.1, 0, 5, 0.1]}, bookmark = False)"
   ]
  },
  {
   "cell_type": "code",
   "execution_count": null,
   "metadata": {},
   "outputs": [],
   "source": [
    "modelStreamCont3._view._build_bookmark().replace('\\\\\\\\','\\\\')"
   ]
  },
  {
   "cell_type": "code",
   "execution_count": null,
   "metadata": {},
   "outputs": [],
   "source": [
    "bookmark2 = model9.stream('X', 'Y', params = [('\\\\alpha', 0.5), ('\\\\xi', 0.5), ('\\delta', 0.5), ('\\\\chi', 0.5), ('\\\\beta', 0.5), ('\\\\gamma', 0.5), ('plotLimits', 1.0), ('systemSize', 1)], showFixedPoints = False, bookmark = False)"
   ]
  },
  {
   "cell_type": "code",
   "execution_count": null,
   "metadata": {},
   "outputs": [],
   "source": [
    "modelVectorCont1._view._build_bookmark().replace('\\\\\\\\','\\\\')"
   ]
  },
  {
   "cell_type": "code",
   "execution_count": null,
   "metadata": {},
   "outputs": [],
   "source": [
    "bookmark3 = model4.vector('A', 'B', params = [('\\\\mu', 0.5), ('s', 10.5), ('\\\\Delta', 0.5), ('plotLimits', 1), ('systemSize', 1)], showFixedPoints = False, bookmark = False)"
   ]
  },
  {
   "cell_type": "code",
   "execution_count": null,
   "metadata": {},
   "outputs": [],
   "source": [
    "modelVectorCont2._view._build_bookmark().replace('\\\\\\\\','\\\\')"
   ]
  },
  {
   "cell_type": "code",
   "execution_count": null,
   "metadata": {},
   "outputs": [],
   "source": [
    "bookmark4 = model8.vector('A', 'B', 'C', params = [('r_{3}', 0.5), ('a_{1}', 0.5), ('r_{1}', 0.5), ('r_{2}', 0.5), ('a_{3}', 0.5), ('g_{2}', 0.5), ('g_{3}', 0.5), ('s', 0.5), ('a_{2}', 0.5), ('g_{1}', 0.5), ('plotLimits', 1), ('systemSize', 1)], bookmark = False)"
   ]
  },
  {
   "cell_type": "code",
   "execution_count": null,
   "metadata": {},
   "outputs": [],
   "source": [
    "bookmark5 = mumot.MuMoTmultiController([model4.stream('A', 'B', silent = True, showFixedPoints = False, bookmark = False), model4.vector('A', 'B', silent = True, bookmark = False)], params = [('\\\\mu', 0.5), ('s', 0.5), ('\\\\Delta', 0.5), ('plotLimits', 1), ('systemSize', 1)], shareAxes = True, bookmark = False)"
   ]
  },
  {
   "cell_type": "code",
   "execution_count": null,
   "metadata": {},
   "outputs": [],
   "source": [
    "bookmark6 = mumot.MuMoTmultiController([model4.vector('A', 'B', silent = True, showFixedPoints = False, bookmark = False), model4.stream('A', 'B', silent = True, bookmark = False)], params = [('\\\\mu', 0.5), ('s', 0.5), ('\\\\Delta', 0.5), ('plotLimits', 1), ('systemSize', 1)], bookmark = False)"
   ]
  },
  {
   "cell_type": "code",
   "execution_count": null,
   "metadata": {},
   "outputs": [],
   "source": [
    "bookmark7 = model4.SSA(params = [('\\\\Delta', 2.0), ('s', 2.0), ('\\\\mu', 2.0), ('plotLimits', 1), ('systemSize', 10)], initialState = {'B': 0.0, 'U': 1.0, 'A': 0.0}, maxTime = 3.0, randomSeed = 191853798, visualisationType = 'barplot', plotProportions = True, realtimePlot = False, runs = 5, aggregateResults = True, silent = False, bookmark = False)"
   ]
  },
  {
   "cell_type": "code",
   "execution_count": null,
   "metadata": {},
   "outputs": [],
   "source": [
    "bookmark8 = model4.multiagent(params = [('\\\\Delta', 2.0), ('s', 2.0), ('\\\\mu', 2.0), ('plotLimits', 1), ('systemSize', 25)], initialState = {'B': 0.0, 'U': 1.0, 'A': 0.0}, maxTime = 3.0, timestepSize = 0.13636363636363635, randomSeed = 214748364, netType = 'barabasi-albert', netParam = 3.0, visualisationType = 'graph', plotProportions = False, realtimePlot = False, runs = 1, aggregateResults = True, silent = False, bookmark = False)"
   ]
  }
 ],
 "metadata": {
  "anaconda-cloud": {},
  "kernelspec": {
   "display_name": "Python 3",
   "language": "python",
   "name": "python3"
  },
  "language_info": {
   "codemirror_mode": {
    "name": "ipython",
    "version": 3
   },
   "file_extension": ".py",
   "mimetype": "text/x-python",
   "name": "python",
   "nbconvert_exporter": "python",
   "pygments_lexer": "ipython3",
   "version": "3.6.8"
  },
  "toc": {
   "base_numbering": 1,
   "nav_menu": {
    "height": "334px",
    "width": "581px"
   },
   "number_sections": true,
   "sideBar": true,
   "skip_h1_title": false,
   "title_cell": "Table of Contents",
   "title_sidebar": "Contents",
   "toc_cell": false,
   "toc_position": {
    "height": "calc(100% - 180px)",
    "left": "10px",
    "top": "150px",
    "width": "337px"
   },
   "toc_section_display": true,
   "toc_window_display": true
  },
  "widgets": {
   "state": {
    "102f9ac3140b450092db735127c32b5f": {
     "views": [
      {
       "cell_index": 19
      }
     ]
    },
    "15b58fa6a129450cb98e187849381450": {
     "views": [
      {
       "cell_index": 19
      }
     ]
    },
    "235a7867f653432da3c1027fbb736f2b": {
     "views": [
      {
       "cell_index": 24
      }
     ]
    },
    "25ce3c86a2fd4b51bdd84613daf4b20d": {
     "views": [
      {
       "cell_index": 24
      }
     ]
    },
    "26ebfbf5b3694b429401018da15ad191": {
     "views": [
      {
       "cell_index": 15
      }
     ]
    },
    "3241b6013b814d578fd2cfc3c8583bc3": {
     "views": [
      {
       "cell_index": 19
      }
     ]
    },
    "33a4f063bc8b49a9b70bb4d82549f1a8": {
     "views": [
      {
       "cell_index": 24
      }
     ]
    },
    "44342eb4fb5f49dc85775ca8273e40bd": {
     "views": [
      {
       "cell_index": 24
      }
     ]
    },
    "49a6e89b1aa94927a4d9ec081111f0fb": {
     "views": [
      {
       "cell_index": 24
      }
     ]
    },
    "4ff8fa85f880437ca6781c76d657f898": {
     "views": [
      {
       "cell_index": 17
      }
     ]
    },
    "59c65f9f6dfb4397ad7a63d2f49842cb": {
     "views": [
      {
       "cell_index": 19
      }
     ]
    },
    "71846678b2ba49b2b716917e68897684": {
     "views": [
      {
       "cell_index": 15
      }
     ]
    },
    "7f7d05a557da4eed859f3f6213670b49": {
     "views": [
      {
       "cell_index": 17
      }
     ]
    },
    "90477163e5c5456990f09548e23e7603": {
     "views": [
      {
       "cell_index": 17
      }
     ]
    },
    "9aa8a3e6e6874b8f823808cb8ed3d2e3": {
     "views": [
      {
       "cell_index": 24
      }
     ]
    },
    "9fefb7692cd244a9b14bfb60c4806b83": {
     "views": [
      {
       "cell_index": 24
      }
     ]
    },
    "a513fbd829354533a6cd4fc94accca3b": {
     "views": [
      {
       "cell_index": 24
      }
     ]
    },
    "a950a3cd491a4e04a7e52625e503c84c": {
     "views": [
      {
       "cell_index": 15
      }
     ]
    },
    "d8ba1ff2f068426c92e52fbfe353f782": {
     "views": [
      {
       "cell_index": 24
      }
     ]
    },
    "eb90d3ecb8d9458498dde34ab6f2bed7": {
     "views": [
      {
       "cell_index": 24
      }
     ]
    },
    "ef22025eccda4d9d9ec8866db4af9594": {
     "views": [
      {
       "cell_index": 24
      }
     ]
    },
    "f32f9dedf73d4c2fa46739e375aa2bdc": {
     "views": [
      {
       "cell_index": 15
      }
     ]
    }
   },
   "version": "1.2.0"
  }
 },
 "nbformat": 4,
 "nbformat_minor": 1
}
