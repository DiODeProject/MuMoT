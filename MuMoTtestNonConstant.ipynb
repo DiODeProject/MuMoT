{
 "cells": [
  {
   "cell_type": "code",
<<<<<<< HEAD
   "execution_count": null,
   "metadata": {
    "collapsed": false
   },
   "outputs": [],
=======
   "execution_count": 1,
   "metadata": {
    "collapsed": false
   },
   "outputs": [
    {
     "name": "stdout",
     "output_type": "stream",
     "text": [
      "Created `%%model` as an alias for `%%latex`.\n"
     ]
    }
   ],
>>>>>>> 8c18ea65823465a520ec439fbdfdb1bb19db33de
   "source": [
    "import MuMoT.MuMoT as mmt"
   ]
  },
  {
   "cell_type": "markdown",
   "metadata": {},
   "source": [
    "## Lotka-Volterra\n",
    "How to specify different mortality rates and birth rates from `X + Y` interaction?"
   ]
  },
  {
   "cell_type": "code",
<<<<<<< HEAD
   "execution_count": null,
   "metadata": {
    "collapsed": false
   },
   "outputs": [],
=======
   "execution_count": 2,
   "metadata": {
    "collapsed": false
   },
   "outputs": [
    {
     "data": {
      "text/latex": [
       "$\n",
       "(A) + X -> X + X : \\alpha\n",
       "X + Y -> Y + Y : \\beta\n",
       "Y -> \\emptyset : \\gamma\n",
       "$"
      ],
      "text/plain": [
       "<IPython.core.display.Latex object>"
      ]
     },
     "metadata": {},
     "output_type": "display_data"
    }
   ],
>>>>>>> 8c18ea65823465a520ec439fbdfdb1bb19db33de
   "source": [
    "%%model\n",
    "$\n",
    "(A) + X -> X + X : \\alpha\n",
    "X + Y -> Y + Y : \\beta\n",
    "Y -> \\emptyset : \\gamma\n",
    "$"
   ]
  },
  {
   "cell_type": "code",
<<<<<<< HEAD
   "execution_count": null,
   "metadata": {
    "collapsed": false
=======
   "execution_count": 3,
   "metadata": {
    "collapsed": true
>>>>>>> 8c18ea65823465a520ec439fbdfdb1bb19db33de
   },
   "outputs": [],
   "source": [
    "model1 = mmt.parseModel(In[2])"
   ]
  },
  {
   "cell_type": "code",
<<<<<<< HEAD
   "execution_count": null,
   "metadata": {
    "collapsed": false
   },
   "outputs": [],
   "source": [
    "model1.showStoichiometry()"
   ]
  },
  {
   "cell_type": "code",
   "execution_count": null,
   "metadata": {
    "collapsed": false
   },
   "outputs": [],
   "source": [
    "model1.showMasterEquation()"
   ]
  },
  {
   "cell_type": "code",
   "execution_count": null,
   "metadata": {
    "collapsed": false
   },
   "outputs": [],
   "source": [
    "model1.showVanKampenExpansion()"
   ]
  },
  {
   "cell_type": "code",
   "execution_count": null,
   "metadata": {
    "collapsed": false
   },
   "outputs": [],
   "source": [
    "model1.showFokkerPlanckEquation()"
   ]
  },
  {
   "cell_type": "code",
   "execution_count": null,
   "metadata": {
    "collapsed": false
   },
   "outputs": [],
   "source": [
    "model1.showODEs_vKE()"
   ]
  },
  {
   "cell_type": "code",
   "execution_count": null,
   "metadata": {
    "collapsed": false
   },
   "outputs": [],
   "source": [
    "model1.showNoiseEOM()"
   ]
  },
  {
   "cell_type": "code",
   "execution_count": null,
   "metadata": {
    "collapsed": false
   },
   "outputs": [],
   "source": [
    "model1.showNoiseStationarySol()"
   ]
  },
  {
   "cell_type": "code",
   "execution_count": null,
   "metadata": {
    "collapsed": false
   },
   "outputs": [],
=======
   "execution_count": 4,
   "metadata": {
    "collapsed": false
   },
   "outputs": [
    {
     "data": {
      "text/latex": [
       "$$\\displaystyle \\frac{\\textrm{d}Y}{\\textrm{d}t} := X Y \\beta - Y \\gamma$$"
      ],
      "text/plain": [
       "<IPython.core.display.Math object>"
      ]
     },
     "metadata": {},
     "output_type": "display_data"
    },
    {
     "data": {
      "text/latex": [
       "$$\\displaystyle \\frac{\\textrm{d}X}{\\textrm{d}t} := A X \\alpha - X Y \\beta$$"
      ],
      "text/plain": [
       "<IPython.core.display.Math object>"
      ]
     },
     "metadata": {},
     "output_type": "display_data"
    }
   ],
>>>>>>> 8c18ea65823465a520ec439fbdfdb1bb19db33de
   "source": [
    "model1.showODEs()"
   ]
  },
  {
   "cell_type": "code",
<<<<<<< HEAD
   "execution_count": null,
   "metadata": {
    "collapsed": false
   },
   "outputs": [],
=======
   "execution_count": 5,
   "metadata": {
    "collapsed": false
   },
   "outputs": [
    {
     "data": {
      "text/latex": [
       "$$X$$"
      ],
      "text/plain": [
       "<IPython.core.display.Math object>"
      ]
     },
     "metadata": {},
     "output_type": "display_data"
    },
    {
     "data": {
      "text/latex": [
       "$$Y$$"
      ],
      "text/plain": [
       "<IPython.core.display.Math object>"
      ]
     },
     "metadata": {},
     "output_type": "display_data"
    }
   ],
>>>>>>> 8c18ea65823465a520ec439fbdfdb1bb19db33de
   "source": [
    "model1.showReactants()"
   ]
  },
  {
   "cell_type": "code",
<<<<<<< HEAD
   "execution_count": null,
   "metadata": {
    "collapsed": false
   },
   "outputs": [],
=======
   "execution_count": 6,
   "metadata": {
    "collapsed": false
   },
   "outputs": [
    {
     "data": {
      "image/svg+xml": [
       "<?xml version=\"1.0\" encoding=\"UTF-8\" standalone=\"no\"?>\n",
       "<!DOCTYPE svg PUBLIC \"-//W3C//DTD SVG 1.1//EN\"\n",
       " \"http://www.w3.org/Graphics/SVG/1.1/DTD/svg11.dtd\">\n",
       "<!-- Generated by graphviz version 2.38.0 (20140413.2041)\n",
       " -->\n",
       "<!-- Title: %3 Pages: 1 -->\n",
       "<svg width=\"440pt\" height=\"44pt\"\n",
       " viewBox=\"0.00 0.00 440.00 44.00\" xmlns=\"http://www.w3.org/2000/svg\" xmlns:xlink=\"http://www.w3.org/1999/xlink\">\n",
       "<g id=\"graph0\" class=\"graph\" transform=\"scale(1 1) rotate(0) translate(4 40)\">\n",
       "<title>%3</title>\n",
       "<polygon fill=\"white\" stroke=\"none\" points=\"-4,4 -4,-40 436,-40 436,4 -4,4\"/>\n",
       "<!-- 1 -->\n",
       "<g id=\"node1\" class=\"node\"><title>1</title>\n",
       "<ellipse fill=\"none\" stroke=\"black\" cx=\"27\" cy=\"-18\" rx=\"27\" ry=\"18\"/>\n",
       "<image xlink:href=\"__mumot_files__/tmp8lgqub78/tmp9_nv4869.png\" width=\"8px\" height=\"15px\" preserveAspectRatio=\"xMinYMin meet\" x=\"23\" y=\"-25.5\"/>\n",
       "<text text-anchor=\"middle\" x=\"27\" y=\"-13.8\" font-family=\"Times,serif\" font-size=\"14.00\"> </text>\n",
       "</g>\n",
       "<!-- Y -->\n",
       "<g id=\"node2\" class=\"node\"><title>Y</title>\n",
       "<ellipse fill=\"none\" stroke=\"black\" cx=\"153\" cy=\"-18\" rx=\"27\" ry=\"18\"/>\n",
       "<image xlink:href=\"__mumot_files__/tmp8lgqub78/tmp3n3b_6l6.png\" width=\"13px\" height=\"11px\" preserveAspectRatio=\"xMinYMin meet\" x=\"146.5\" y=\"-23.5\"/>\n",
       "<text text-anchor=\"middle\" x=\"153\" y=\"-13.8\" font-family=\"Times,serif\" font-size=\"14.00\"> </text>\n",
       "</g>\n",
       "<!-- Y&#45;&gt;1 -->\n",
       "<g id=\"edge3\" class=\"edge\"><title>Y&#45;&gt;1</title>\n",
       "<path fill=\"none\" stroke=\"black\" d=\"M125.97,-18C108.072,-18 84.3491,-18 64.6161,-18\"/>\n",
       "<polygon fill=\"black\" stroke=\"black\" points=\"64.4203,-14.5001 54.4202,-18 64.4202,-21.5001 64.4203,-14.5001\"/>\n",
       "<image xlink:href=\"__mumot_files__/tmp8lgqub78/tmp5_73rj80.png\" width=\"6px\" height=\"7px\" preserveAspectRatio=\"xMinYMin meet\" x=\"85.293\" y=\"-28.5\"/>\n",
       "</g>\n",
       "<!-- X -->\n",
       "<g id=\"node3\" class=\"node\"><title>X</title>\n",
       "<ellipse fill=\"none\" stroke=\"black\" cx=\"279\" cy=\"-18\" rx=\"27\" ry=\"18\"/>\n",
       "<image xlink:href=\"__mumot_files__/tmp8lgqub78/tmpuua8xv6n.png\" width=\"14px\" height=\"11px\" preserveAspectRatio=\"xMinYMin meet\" x=\"272\" y=\"-23.5\"/>\n",
       "<text text-anchor=\"middle\" x=\"279\" y=\"-13.8\" font-family=\"Times,serif\" font-size=\"14.00\"> </text>\n",
       "</g>\n",
       "<!-- X&#45;&gt;Y -->\n",
       "<g id=\"edge2\" class=\"edge\"><title>X&#45;&gt;Y</title>\n",
       "<path fill=\"none\" stroke=\"black\" d=\"M243.703,-18C227.117,-18 207.333,-18 190.48,-18\"/>\n",
       "<ellipse fill=\"black\" stroke=\"black\" cx=\"247.97\" cy=\"-18\" rx=\"4\" ry=\"4\"/>\n",
       "<polygon fill=\"black\" stroke=\"black\" points=\"190.42,-14.5001 180.42,-18 190.42,-21.5001 190.42,-14.5001\"/>\n",
       "<image xlink:href=\"__mumot_files__/tmp8lgqub78/tmp35ekblyv.png\" width=\"7px\" height=\"10px\" preserveAspectRatio=\"xMinYMin meet\" x=\"206.592\" y=\"-32\"/>\n",
       "</g>\n",
       "<!-- A -->\n",
       "<g id=\"node4\" class=\"node\"><title>A</title>\n",
       "<ellipse fill=\"none\" stroke=\"black\" cx=\"405\" cy=\"-18\" rx=\"27\" ry=\"18\"/>\n",
       "<image xlink:href=\"__mumot_files__/tmp8lgqub78/tmp2ww1a6bh.png\" width=\"22px\" height=\"18px\" preserveAspectRatio=\"xMinYMin meet\" x=\"394\" y=\"-27\"/>\n",
       "<text text-anchor=\"middle\" x=\"405\" y=\"-13.8\" font-family=\"Times,serif\" font-size=\"14.00\"> </text>\n",
       "</g>\n",
       "<!-- A&#45;&gt;X -->\n",
       "<g id=\"edge1\" class=\"edge\"><title>A&#45;&gt;X</title>\n",
       "<path fill=\"none\" stroke=\"black\" d=\"M369.703,-18C353.117,-18 333.333,-18 316.48,-18\"/>\n",
       "<ellipse fill=\"black\" stroke=\"black\" cx=\"373.97\" cy=\"-18\" rx=\"4\" ry=\"4\"/>\n",
       "<polygon fill=\"black\" stroke=\"black\" points=\"316.42,-14.5001 306.42,-18 316.42,-21.5001 316.42,-14.5001\"/>\n",
       "<image xlink:href=\"__mumot_files__/tmp8lgqub78/tmpf5nmywhd.png\" width=\"7px\" height=\"5px\" preserveAspectRatio=\"xMinYMin meet\" x=\"332.592\" y=\"-26.5\"/>\n",
       "</g>\n",
       "</g>\n",
       "</svg>\n"
      ],
      "text/plain": [
       "<graphviz.dot.Digraph at 0x105a65a58>"
      ]
     },
     "execution_count": 6,
     "metadata": {},
     "output_type": "execute_result"
    }
   ],
>>>>>>> 8c18ea65823465a520ec439fbdfdb1bb19db33de
   "source": [
    "model1.visualise()"
   ]
  },
  {
   "cell_type": "code",
<<<<<<< HEAD
   "execution_count": null,
   "metadata": {
    "collapsed": false
   },
   "outputs": [],
=======
   "execution_count": 7,
   "metadata": {
    "collapsed": false
   },
   "outputs": [
    {
     "data": {
      "text/latex": [
       "$$A + X  \\xrightarrow{\\alpha}X + X $$"
      ],
      "text/plain": [
       "<IPython.core.display.Math object>"
      ]
     },
     "metadata": {},
     "output_type": "display_data"
    },
    {
     "data": {
      "text/latex": [
       "$$X + Y  \\xrightarrow{\\beta}Y + Y $$"
      ],
      "text/plain": [
       "<IPython.core.display.Math object>"
      ]
     },
     "metadata": {},
     "output_type": "display_data"
    },
    {
     "data": {
      "text/latex": [
       "$$Y  \\xrightarrow{\\gamma}\\emptyset $$"
      ],
      "text/plain": [
       "<IPython.core.display.Math object>"
      ]
     },
     "metadata": {},
     "output_type": "display_data"
    }
   ],
>>>>>>> 8c18ea65823465a520ec439fbdfdb1bb19db33de
   "source": [
    "model1.show()"
   ]
  },
  {
   "cell_type": "code",
<<<<<<< HEAD
   "execution_count": null,
   "metadata": {
    "collapsed": false
   },
   "outputs": [],
=======
   "execution_count": 8,
   "metadata": {
    "collapsed": false
   },
   "outputs": [
    {
     "name": "stdout",
     "output_type": "stream",
     "text": [
      "bar<ipywidgets.widgets.widget_string.HTML object at 0x1186e12e8>\n"
     ]
    },
    {
     "data": {
      "application/javascript": [
       "/* Put everything inside the global mpl namespace */\n",
       "window.mpl = {};\n",
       "\n",
       "mpl.get_websocket_type = function() {\n",
       "    if (typeof(WebSocket) !== 'undefined') {\n",
       "        return WebSocket;\n",
       "    } else if (typeof(MozWebSocket) !== 'undefined') {\n",
       "        return MozWebSocket;\n",
       "    } else {\n",
       "        alert('Your browser does not have WebSocket support.' +\n",
       "              'Please try Chrome, Safari or Firefox ≥ 6. ' +\n",
       "              'Firefox 4 and 5 are also supported but you ' +\n",
       "              'have to enable WebSockets in about:config.');\n",
       "    };\n",
       "}\n",
       "\n",
       "mpl.figure = function(figure_id, websocket, ondownload, parent_element) {\n",
       "    this.id = figure_id;\n",
       "\n",
       "    this.ws = websocket;\n",
       "\n",
       "    this.supports_binary = (this.ws.binaryType != undefined);\n",
       "\n",
       "    if (!this.supports_binary) {\n",
       "        var warnings = document.getElementById(\"mpl-warnings\");\n",
       "        if (warnings) {\n",
       "            warnings.style.display = 'block';\n",
       "            warnings.textContent = (\n",
       "                \"This browser does not support binary websocket messages. \" +\n",
       "                    \"Performance may be slow.\");\n",
       "        }\n",
       "    }\n",
       "\n",
       "    this.imageObj = new Image();\n",
       "\n",
       "    this.context = undefined;\n",
       "    this.message = undefined;\n",
       "    this.canvas = undefined;\n",
       "    this.rubberband_canvas = undefined;\n",
       "    this.rubberband_context = undefined;\n",
       "    this.format_dropdown = undefined;\n",
       "\n",
       "    this.image_mode = 'full';\n",
       "\n",
       "    this.root = $('<div/>');\n",
       "    this._root_extra_style(this.root)\n",
       "    this.root.attr('style', 'display: inline-block');\n",
       "\n",
       "    $(parent_element).append(this.root);\n",
       "\n",
       "    this._init_header(this);\n",
       "    this._init_canvas(this);\n",
       "    this._init_toolbar(this);\n",
       "\n",
       "    var fig = this;\n",
       "\n",
       "    this.waiting = false;\n",
       "\n",
       "    this.ws.onopen =  function () {\n",
       "            fig.send_message(\"supports_binary\", {value: fig.supports_binary});\n",
       "            fig.send_message(\"send_image_mode\", {});\n",
       "            fig.send_message(\"refresh\", {});\n",
       "        }\n",
       "\n",
       "    this.imageObj.onload = function() {\n",
       "            if (fig.image_mode == 'full') {\n",
       "                // Full images could contain transparency (where diff images\n",
       "                // almost always do), so we need to clear the canvas so that\n",
       "                // there is no ghosting.\n",
       "                fig.context.clearRect(0, 0, fig.canvas.width, fig.canvas.height);\n",
       "            }\n",
       "            fig.context.drawImage(fig.imageObj, 0, 0);\n",
       "        };\n",
       "\n",
       "    this.imageObj.onunload = function() {\n",
       "        this.ws.close();\n",
       "    }\n",
       "\n",
       "    this.ws.onmessage = this._make_on_message_function(this);\n",
       "\n",
       "    this.ondownload = ondownload;\n",
       "}\n",
       "\n",
       "mpl.figure.prototype._init_header = function() {\n",
       "    var titlebar = $(\n",
       "        '<div class=\"ui-dialog-titlebar ui-widget-header ui-corner-all ' +\n",
       "        'ui-helper-clearfix\"/>');\n",
       "    var titletext = $(\n",
       "        '<div class=\"ui-dialog-title\" style=\"width: 100%; ' +\n",
       "        'text-align: center; padding: 3px;\"/>');\n",
       "    titlebar.append(titletext)\n",
       "    this.root.append(titlebar);\n",
       "    this.header = titletext[0];\n",
       "}\n",
       "\n",
       "\n",
       "\n",
       "mpl.figure.prototype._canvas_extra_style = function(canvas_div) {\n",
       "\n",
       "}\n",
       "\n",
       "\n",
       "mpl.figure.prototype._root_extra_style = function(canvas_div) {\n",
       "\n",
       "}\n",
       "\n",
       "mpl.figure.prototype._init_canvas = function() {\n",
       "    var fig = this;\n",
       "\n",
       "    var canvas_div = $('<div/>');\n",
       "\n",
       "    canvas_div.attr('style', 'position: relative; clear: both; outline: 0');\n",
       "\n",
       "    function canvas_keyboard_event(event) {\n",
       "        return fig.key_event(event, event['data']);\n",
       "    }\n",
       "\n",
       "    canvas_div.keydown('key_press', canvas_keyboard_event);\n",
       "    canvas_div.keyup('key_release', canvas_keyboard_event);\n",
       "    this.canvas_div = canvas_div\n",
       "    this._canvas_extra_style(canvas_div)\n",
       "    this.root.append(canvas_div);\n",
       "\n",
       "    var canvas = $('<canvas/>');\n",
       "    canvas.addClass('mpl-canvas');\n",
       "    canvas.attr('style', \"left: 0; top: 0; z-index: 0; outline: 0\")\n",
       "\n",
       "    this.canvas = canvas[0];\n",
       "    this.context = canvas[0].getContext(\"2d\");\n",
       "\n",
       "    var rubberband = $('<canvas/>');\n",
       "    rubberband.attr('style', \"position: absolute; left: 0; top: 0; z-index: 1;\")\n",
       "\n",
       "    var pass_mouse_events = true;\n",
       "\n",
       "    canvas_div.resizable({\n",
       "        start: function(event, ui) {\n",
       "            pass_mouse_events = false;\n",
       "        },\n",
       "        resize: function(event, ui) {\n",
       "            fig.request_resize(ui.size.width, ui.size.height);\n",
       "        },\n",
       "        stop: function(event, ui) {\n",
       "            pass_mouse_events = true;\n",
       "            fig.request_resize(ui.size.width, ui.size.height);\n",
       "        },\n",
       "    });\n",
       "\n",
       "    function mouse_event_fn(event) {\n",
       "        if (pass_mouse_events)\n",
       "            return fig.mouse_event(event, event['data']);\n",
       "    }\n",
       "\n",
       "    rubberband.mousedown('button_press', mouse_event_fn);\n",
       "    rubberband.mouseup('button_release', mouse_event_fn);\n",
       "    // Throttle sequential mouse events to 1 every 20ms.\n",
       "    rubberband.mousemove('motion_notify', mouse_event_fn);\n",
       "\n",
       "    rubberband.mouseenter('figure_enter', mouse_event_fn);\n",
       "    rubberband.mouseleave('figure_leave', mouse_event_fn);\n",
       "\n",
       "    canvas_div.on(\"wheel\", function (event) {\n",
       "        event = event.originalEvent;\n",
       "        event['data'] = 'scroll'\n",
       "        if (event.deltaY < 0) {\n",
       "            event.step = 1;\n",
       "        } else {\n",
       "            event.step = -1;\n",
       "        }\n",
       "        mouse_event_fn(event);\n",
       "    });\n",
       "\n",
       "    canvas_div.append(canvas);\n",
       "    canvas_div.append(rubberband);\n",
       "\n",
       "    this.rubberband = rubberband;\n",
       "    this.rubberband_canvas = rubberband[0];\n",
       "    this.rubberband_context = rubberband[0].getContext(\"2d\");\n",
       "    this.rubberband_context.strokeStyle = \"#000000\";\n",
       "\n",
       "    this._resize_canvas = function(width, height) {\n",
       "        // Keep the size of the canvas, canvas container, and rubber band\n",
       "        // canvas in synch.\n",
       "        canvas_div.css('width', width)\n",
       "        canvas_div.css('height', height)\n",
       "\n",
       "        canvas.attr('width', width);\n",
       "        canvas.attr('height', height);\n",
       "\n",
       "        rubberband.attr('width', width);\n",
       "        rubberband.attr('height', height);\n",
       "    }\n",
       "\n",
       "    // Set the figure to an initial 600x600px, this will subsequently be updated\n",
       "    // upon first draw.\n",
       "    this._resize_canvas(600, 600);\n",
       "\n",
       "    // Disable right mouse context menu.\n",
       "    $(this.rubberband_canvas).bind(\"contextmenu\",function(e){\n",
       "        return false;\n",
       "    });\n",
       "\n",
       "    function set_focus () {\n",
       "        canvas.focus();\n",
       "        canvas_div.focus();\n",
       "    }\n",
       "\n",
       "    window.setTimeout(set_focus, 100);\n",
       "}\n",
       "\n",
       "mpl.figure.prototype._init_toolbar = function() {\n",
       "    var fig = this;\n",
       "\n",
       "    var nav_element = $('<div/>')\n",
       "    nav_element.attr('style', 'width: 100%');\n",
       "    this.root.append(nav_element);\n",
       "\n",
       "    // Define a callback function for later on.\n",
       "    function toolbar_event(event) {\n",
       "        return fig.toolbar_button_onclick(event['data']);\n",
       "    }\n",
       "    function toolbar_mouse_event(event) {\n",
       "        return fig.toolbar_button_onmouseover(event['data']);\n",
       "    }\n",
       "\n",
       "    for(var toolbar_ind in mpl.toolbar_items) {\n",
       "        var name = mpl.toolbar_items[toolbar_ind][0];\n",
       "        var tooltip = mpl.toolbar_items[toolbar_ind][1];\n",
       "        var image = mpl.toolbar_items[toolbar_ind][2];\n",
       "        var method_name = mpl.toolbar_items[toolbar_ind][3];\n",
       "\n",
       "        if (!name) {\n",
       "            // put a spacer in here.\n",
       "            continue;\n",
       "        }\n",
       "        var button = $('<button/>');\n",
       "        button.addClass('ui-button ui-widget ui-state-default ui-corner-all ' +\n",
       "                        'ui-button-icon-only');\n",
       "        button.attr('role', 'button');\n",
       "        button.attr('aria-disabled', 'false');\n",
       "        button.click(method_name, toolbar_event);\n",
       "        button.mouseover(tooltip, toolbar_mouse_event);\n",
       "\n",
       "        var icon_img = $('<span/>');\n",
       "        icon_img.addClass('ui-button-icon-primary ui-icon');\n",
       "        icon_img.addClass(image);\n",
       "        icon_img.addClass('ui-corner-all');\n",
       "\n",
       "        var tooltip_span = $('<span/>');\n",
       "        tooltip_span.addClass('ui-button-text');\n",
       "        tooltip_span.html(tooltip);\n",
       "\n",
       "        button.append(icon_img);\n",
       "        button.append(tooltip_span);\n",
       "\n",
       "        nav_element.append(button);\n",
       "    }\n",
       "\n",
       "    var fmt_picker_span = $('<span/>');\n",
       "\n",
       "    var fmt_picker = $('<select/>');\n",
       "    fmt_picker.addClass('mpl-toolbar-option ui-widget ui-widget-content');\n",
       "    fmt_picker_span.append(fmt_picker);\n",
       "    nav_element.append(fmt_picker_span);\n",
       "    this.format_dropdown = fmt_picker[0];\n",
       "\n",
       "    for (var ind in mpl.extensions) {\n",
       "        var fmt = mpl.extensions[ind];\n",
       "        var option = $(\n",
       "            '<option/>', {selected: fmt === mpl.default_extension}).html(fmt);\n",
       "        fmt_picker.append(option)\n",
       "    }\n",
       "\n",
       "    // Add hover states to the ui-buttons\n",
       "    $( \".ui-button\" ).hover(\n",
       "        function() { $(this).addClass(\"ui-state-hover\");},\n",
       "        function() { $(this).removeClass(\"ui-state-hover\");}\n",
       "    );\n",
       "\n",
       "    var status_bar = $('<span class=\"mpl-message\"/>');\n",
       "    nav_element.append(status_bar);\n",
       "    this.message = status_bar[0];\n",
       "}\n",
       "\n",
       "mpl.figure.prototype.request_resize = function(x_pixels, y_pixels) {\n",
       "    // Request matplotlib to resize the figure. Matplotlib will then trigger a resize in the client,\n",
       "    // which will in turn request a refresh of the image.\n",
       "    this.send_message('resize', {'width': x_pixels, 'height': y_pixels});\n",
       "}\n",
       "\n",
       "mpl.figure.prototype.send_message = function(type, properties) {\n",
       "    properties['type'] = type;\n",
       "    properties['figure_id'] = this.id;\n",
       "    this.ws.send(JSON.stringify(properties));\n",
       "}\n",
       "\n",
       "mpl.figure.prototype.send_draw_message = function() {\n",
       "    if (!this.waiting) {\n",
       "        this.waiting = true;\n",
       "        this.ws.send(JSON.stringify({type: \"draw\", figure_id: this.id}));\n",
       "    }\n",
       "}\n",
       "\n",
       "\n",
       "mpl.figure.prototype.handle_save = function(fig, msg) {\n",
       "    var format_dropdown = fig.format_dropdown;\n",
       "    var format = format_dropdown.options[format_dropdown.selectedIndex].value;\n",
       "    fig.ondownload(fig, format);\n",
       "}\n",
       "\n",
       "\n",
       "mpl.figure.prototype.handle_resize = function(fig, msg) {\n",
       "    var size = msg['size'];\n",
       "    if (size[0] != fig.canvas.width || size[1] != fig.canvas.height) {\n",
       "        fig._resize_canvas(size[0], size[1]);\n",
       "        fig.send_message(\"refresh\", {});\n",
       "    };\n",
       "}\n",
       "\n",
       "mpl.figure.prototype.handle_rubberband = function(fig, msg) {\n",
       "    var x0 = msg['x0'];\n",
       "    var y0 = fig.canvas.height - msg['y0'];\n",
       "    var x1 = msg['x1'];\n",
       "    var y1 = fig.canvas.height - msg['y1'];\n",
       "    x0 = Math.floor(x0) + 0.5;\n",
       "    y0 = Math.floor(y0) + 0.5;\n",
       "    x1 = Math.floor(x1) + 0.5;\n",
       "    y1 = Math.floor(y1) + 0.5;\n",
       "    var min_x = Math.min(x0, x1);\n",
       "    var min_y = Math.min(y0, y1);\n",
       "    var width = Math.abs(x1 - x0);\n",
       "    var height = Math.abs(y1 - y0);\n",
       "\n",
       "    fig.rubberband_context.clearRect(\n",
       "        0, 0, fig.canvas.width, fig.canvas.height);\n",
       "\n",
       "    fig.rubberband_context.strokeRect(min_x, min_y, width, height);\n",
       "}\n",
       "\n",
       "mpl.figure.prototype.handle_figure_label = function(fig, msg) {\n",
       "    // Updates the figure title.\n",
       "    fig.header.textContent = msg['label'];\n",
       "}\n",
       "\n",
       "mpl.figure.prototype.handle_cursor = function(fig, msg) {\n",
       "    var cursor = msg['cursor'];\n",
       "    switch(cursor)\n",
       "    {\n",
       "    case 0:\n",
       "        cursor = 'pointer';\n",
       "        break;\n",
       "    case 1:\n",
       "        cursor = 'default';\n",
       "        break;\n",
       "    case 2:\n",
       "        cursor = 'crosshair';\n",
       "        break;\n",
       "    case 3:\n",
       "        cursor = 'move';\n",
       "        break;\n",
       "    }\n",
       "    fig.rubberband_canvas.style.cursor = cursor;\n",
       "}\n",
       "\n",
       "mpl.figure.prototype.handle_message = function(fig, msg) {\n",
       "    fig.message.textContent = msg['message'];\n",
       "}\n",
       "\n",
       "mpl.figure.prototype.handle_draw = function(fig, msg) {\n",
       "    // Request the server to send over a new figure.\n",
       "    fig.send_draw_message();\n",
       "}\n",
       "\n",
       "mpl.figure.prototype.handle_image_mode = function(fig, msg) {\n",
       "    fig.image_mode = msg['mode'];\n",
       "}\n",
       "\n",
       "mpl.figure.prototype.updated_canvas_event = function() {\n",
       "    // Called whenever the canvas gets updated.\n",
       "    this.send_message(\"ack\", {});\n",
       "}\n",
       "\n",
       "// A function to construct a web socket function for onmessage handling.\n",
       "// Called in the figure constructor.\n",
       "mpl.figure.prototype._make_on_message_function = function(fig) {\n",
       "    return function socket_on_message(evt) {\n",
       "        if (evt.data instanceof Blob) {\n",
       "            /* FIXME: We get \"Resource interpreted as Image but\n",
       "             * transferred with MIME type text/plain:\" errors on\n",
       "             * Chrome.  But how to set the MIME type?  It doesn't seem\n",
       "             * to be part of the websocket stream */\n",
       "            evt.data.type = \"image/png\";\n",
       "\n",
       "            /* Free the memory for the previous frames */\n",
       "            if (fig.imageObj.src) {\n",
       "                (window.URL || window.webkitURL).revokeObjectURL(\n",
       "                    fig.imageObj.src);\n",
       "            }\n",
       "\n",
       "            fig.imageObj.src = (window.URL || window.webkitURL).createObjectURL(\n",
       "                evt.data);\n",
       "            fig.updated_canvas_event();\n",
       "            fig.waiting = false;\n",
       "            return;\n",
       "        }\n",
       "        else if (typeof evt.data === 'string' && evt.data.slice(0, 21) == \"data:image/png;base64\") {\n",
       "            fig.imageObj.src = evt.data;\n",
       "            fig.updated_canvas_event();\n",
       "            fig.waiting = false;\n",
       "            return;\n",
       "        }\n",
       "\n",
       "        var msg = JSON.parse(evt.data);\n",
       "        var msg_type = msg['type'];\n",
       "\n",
       "        // Call the  \"handle_{type}\" callback, which takes\n",
       "        // the figure and JSON message as its only arguments.\n",
       "        try {\n",
       "            var callback = fig[\"handle_\" + msg_type];\n",
       "        } catch (e) {\n",
       "            console.log(\"No handler for the '\" + msg_type + \"' message type: \", msg);\n",
       "            return;\n",
       "        }\n",
       "\n",
       "        if (callback) {\n",
       "            try {\n",
       "                // console.log(\"Handling '\" + msg_type + \"' message: \", msg);\n",
       "                callback(fig, msg);\n",
       "            } catch (e) {\n",
       "                console.log(\"Exception inside the 'handler_\" + msg_type + \"' callback:\", e, e.stack, msg);\n",
       "            }\n",
       "        }\n",
       "    };\n",
       "}\n",
       "\n",
       "// from http://stackoverflow.com/questions/1114465/getting-mouse-location-in-canvas\n",
       "mpl.findpos = function(e) {\n",
       "    //this section is from http://www.quirksmode.org/js/events_properties.html\n",
       "    var targ;\n",
       "    if (!e)\n",
       "        e = window.event;\n",
       "    if (e.target)\n",
       "        targ = e.target;\n",
       "    else if (e.srcElement)\n",
       "        targ = e.srcElement;\n",
       "    if (targ.nodeType == 3) // defeat Safari bug\n",
       "        targ = targ.parentNode;\n",
       "\n",
       "    // jQuery normalizes the pageX and pageY\n",
       "    // pageX,Y are the mouse positions relative to the document\n",
       "    // offset() returns the position of the element relative to the document\n",
       "    var x = e.pageX - $(targ).offset().left;\n",
       "    var y = e.pageY - $(targ).offset().top;\n",
       "\n",
       "    return {\"x\": x, \"y\": y};\n",
       "};\n",
       "\n",
       "/*\n",
       " * return a copy of an object with only non-object keys\n",
       " * we need this to avoid circular references\n",
       " * http://stackoverflow.com/a/24161582/3208463\n",
       " */\n",
       "function simpleKeys (original) {\n",
       "  return Object.keys(original).reduce(function (obj, key) {\n",
       "    if (typeof original[key] !== 'object')\n",
       "        obj[key] = original[key]\n",
       "    return obj;\n",
       "  }, {});\n",
       "}\n",
       "\n",
       "mpl.figure.prototype.mouse_event = function(event, name) {\n",
       "    var canvas_pos = mpl.findpos(event)\n",
       "\n",
       "    if (name === 'button_press')\n",
       "    {\n",
       "        this.canvas.focus();\n",
       "        this.canvas_div.focus();\n",
       "    }\n",
       "\n",
       "    var x = canvas_pos.x;\n",
       "    var y = canvas_pos.y;\n",
       "\n",
       "    this.send_message(name, {x: x, y: y, button: event.button,\n",
       "                             step: event.step,\n",
       "                             guiEvent: simpleKeys(event)});\n",
       "\n",
       "    /* This prevents the web browser from automatically changing to\n",
       "     * the text insertion cursor when the button is pressed.  We want\n",
       "     * to control all of the cursor setting manually through the\n",
       "     * 'cursor' event from matplotlib */\n",
       "    event.preventDefault();\n",
       "    return false;\n",
       "}\n",
       "\n",
       "mpl.figure.prototype._key_event_extra = function(event, name) {\n",
       "    // Handle any extra behaviour associated with a key event\n",
       "}\n",
       "\n",
       "mpl.figure.prototype.key_event = function(event, name) {\n",
       "\n",
       "    // Prevent repeat events\n",
       "    if (name == 'key_press')\n",
       "    {\n",
       "        if (event.which === this._key)\n",
       "            return;\n",
       "        else\n",
       "            this._key = event.which;\n",
       "    }\n",
       "    if (name == 'key_release')\n",
       "        this._key = null;\n",
       "\n",
       "    var value = '';\n",
       "    if (event.ctrlKey && event.which != 17)\n",
       "        value += \"ctrl+\";\n",
       "    if (event.altKey && event.which != 18)\n",
       "        value += \"alt+\";\n",
       "    if (event.shiftKey && event.which != 16)\n",
       "        value += \"shift+\";\n",
       "\n",
       "    value += 'k';\n",
       "    value += event.which.toString();\n",
       "\n",
       "    this._key_event_extra(event, name);\n",
       "\n",
       "    this.send_message(name, {key: value,\n",
       "                             guiEvent: simpleKeys(event)});\n",
       "    return false;\n",
       "}\n",
       "\n",
       "mpl.figure.prototype.toolbar_button_onclick = function(name) {\n",
       "    if (name == 'download') {\n",
       "        this.handle_save(this, null);\n",
       "    } else {\n",
       "        this.send_message(\"toolbar_button\", {name: name});\n",
       "    }\n",
       "};\n",
       "\n",
       "mpl.figure.prototype.toolbar_button_onmouseover = function(tooltip) {\n",
       "    this.message.textContent = tooltip;\n",
       "};\n",
       "mpl.toolbar_items = [[\"Home\", \"Reset original view\", \"fa fa-home icon-home\", \"home\"], [\"Back\", \"Back to  previous view\", \"fa fa-arrow-left icon-arrow-left\", \"back\"], [\"Forward\", \"Forward to next view\", \"fa fa-arrow-right icon-arrow-right\", \"forward\"], [\"\", \"\", \"\", \"\"], [\"Pan\", \"Pan axes with left mouse, zoom with right\", \"fa fa-arrows icon-move\", \"pan\"], [\"Zoom\", \"Zoom to rectangle\", \"fa fa-square-o icon-check-empty\", \"zoom\"], [\"\", \"\", \"\", \"\"], [\"Download\", \"Download plot\", \"fa fa-floppy-o icon-save\", \"download\"]];\n",
       "\n",
       "mpl.extensions = [\"eps\", \"jpeg\", \"pdf\", \"png\", \"ps\", \"raw\", \"svg\", \"tif\"];\n",
       "\n",
       "mpl.default_extension = \"png\";var comm_websocket_adapter = function(comm) {\n",
       "    // Create a \"websocket\"-like object which calls the given IPython comm\n",
       "    // object with the appropriate methods. Currently this is a non binary\n",
       "    // socket, so there is still some room for performance tuning.\n",
       "    var ws = {};\n",
       "\n",
       "    ws.close = function() {\n",
       "        comm.close()\n",
       "    };\n",
       "    ws.send = function(m) {\n",
       "        //console.log('sending', m);\n",
       "        comm.send(m);\n",
       "    };\n",
       "    // Register the callback with on_msg.\n",
       "    comm.on_msg(function(msg) {\n",
       "        //console.log('receiving', msg['content']['data'], msg);\n",
       "        // Pass the mpl event to the overriden (by mpl) onmessage function.\n",
       "        ws.onmessage(msg['content']['data'])\n",
       "    });\n",
       "    return ws;\n",
       "}\n",
       "\n",
       "mpl.mpl_figure_comm = function(comm, msg) {\n",
       "    // This is the function which gets called when the mpl process\n",
       "    // starts-up an IPython Comm through the \"matplotlib\" channel.\n",
       "\n",
       "    var id = msg.content.data.id;\n",
       "    // Get hold of the div created by the display call when the Comm\n",
       "    // socket was opened in Python.\n",
       "    var element = $(\"#\" + id);\n",
       "    var ws_proxy = comm_websocket_adapter(comm)\n",
       "\n",
       "    function ondownload(figure, format) {\n",
       "        window.open(figure.imageObj.src);\n",
       "    }\n",
       "\n",
       "    var fig = new mpl.figure(id, ws_proxy,\n",
       "                           ondownload,\n",
       "                           element.get(0));\n",
       "\n",
       "    // Call onopen now - mpl needs it, as it is assuming we've passed it a real\n",
       "    // web socket which is closed, not our websocket->open comm proxy.\n",
       "    ws_proxy.onopen();\n",
       "\n",
       "    fig.parent_element = element.get(0);\n",
       "    fig.cell_info = mpl.find_output_cell(\"<div id='\" + id + \"'></div>\");\n",
       "    if (!fig.cell_info) {\n",
       "        console.error(\"Failed to find cell for figure\", id, fig);\n",
       "        return;\n",
       "    }\n",
       "\n",
       "    var output_index = fig.cell_info[2]\n",
       "    var cell = fig.cell_info[0];\n",
       "\n",
       "};\n",
       "\n",
       "mpl.figure.prototype.handle_close = function(fig, msg) {\n",
       "    fig.root.unbind('remove')\n",
       "\n",
       "    // Update the output cell to use the data from the current canvas.\n",
       "    fig.push_to_output();\n",
       "    var dataURL = fig.canvas.toDataURL();\n",
       "    // Re-enable the keyboard manager in IPython - without this line, in FF,\n",
       "    // the notebook keyboard shortcuts fail.\n",
       "    IPython.keyboard_manager.enable()\n",
       "    $(fig.parent_element).html('<img src=\"' + dataURL + '\">');\n",
       "    fig.close_ws(fig, msg);\n",
       "}\n",
       "\n",
       "mpl.figure.prototype.close_ws = function(fig, msg){\n",
       "    fig.send_message('closing', msg);\n",
       "    // fig.ws.close()\n",
       "}\n",
       "\n",
       "mpl.figure.prototype.push_to_output = function(remove_interactive) {\n",
       "    // Turn the data on the canvas into data in the output cell.\n",
       "    var dataURL = this.canvas.toDataURL();\n",
       "    this.cell_info[1]['text/html'] = '<img src=\"' + dataURL + '\">';\n",
       "}\n",
       "\n",
       "mpl.figure.prototype.updated_canvas_event = function() {\n",
       "    // Tell IPython that the notebook contents must change.\n",
       "    IPython.notebook.set_dirty(true);\n",
       "    this.send_message(\"ack\", {});\n",
       "    var fig = this;\n",
       "    // Wait a second, then push the new image to the DOM so\n",
       "    // that it is saved nicely (might be nice to debounce this).\n",
       "    setTimeout(function () { fig.push_to_output() }, 1000);\n",
       "}\n",
       "\n",
       "mpl.figure.prototype._init_toolbar = function() {\n",
       "    var fig = this;\n",
       "\n",
       "    var nav_element = $('<div/>')\n",
       "    nav_element.attr('style', 'width: 100%');\n",
       "    this.root.append(nav_element);\n",
       "\n",
       "    // Define a callback function for later on.\n",
       "    function toolbar_event(event) {\n",
       "        return fig.toolbar_button_onclick(event['data']);\n",
       "    }\n",
       "    function toolbar_mouse_event(event) {\n",
       "        return fig.toolbar_button_onmouseover(event['data']);\n",
       "    }\n",
       "\n",
       "    for(var toolbar_ind in mpl.toolbar_items){\n",
       "        var name = mpl.toolbar_items[toolbar_ind][0];\n",
       "        var tooltip = mpl.toolbar_items[toolbar_ind][1];\n",
       "        var image = mpl.toolbar_items[toolbar_ind][2];\n",
       "        var method_name = mpl.toolbar_items[toolbar_ind][3];\n",
       "\n",
       "        if (!name) { continue; };\n",
       "\n",
       "        var button = $('<button class=\"btn btn-default\" href=\"#\" title=\"' + name + '\"><i class=\"fa ' + image + ' fa-lg\"></i></button>');\n",
       "        button.click(method_name, toolbar_event);\n",
       "        button.mouseover(tooltip, toolbar_mouse_event);\n",
       "        nav_element.append(button);\n",
       "    }\n",
       "\n",
       "    // Add the status bar.\n",
       "    var status_bar = $('<span class=\"mpl-message\" style=\"text-align:right; float: right;\"/>');\n",
       "    nav_element.append(status_bar);\n",
       "    this.message = status_bar[0];\n",
       "\n",
       "    // Add the close button to the window.\n",
       "    var buttongrp = $('<div class=\"btn-group inline pull-right\"></div>');\n",
       "    var button = $('<button class=\"btn btn-mini btn-primary\" href=\"#\" title=\"Stop Interaction\"><i class=\"fa fa-power-off icon-remove icon-large\"></i></button>');\n",
       "    button.click(function (evt) { fig.handle_close(fig, {}); } );\n",
       "    button.mouseover('Stop Interaction', toolbar_mouse_event);\n",
       "    buttongrp.append(button);\n",
       "    var titlebar = this.root.find($('.ui-dialog-titlebar'));\n",
       "    titlebar.prepend(buttongrp);\n",
       "}\n",
       "\n",
       "mpl.figure.prototype._root_extra_style = function(el){\n",
       "    var fig = this\n",
       "    el.on(\"remove\", function(){\n",
       "\tfig.close_ws(fig, {});\n",
       "    });\n",
       "}\n",
       "\n",
       "mpl.figure.prototype._canvas_extra_style = function(el){\n",
       "    // this is important to make the div 'focusable\n",
       "    el.attr('tabindex', 0)\n",
       "    // reach out to IPython and tell the keyboard manager to turn it's self\n",
       "    // off when our div gets focus\n",
       "\n",
       "    // location in version 3\n",
       "    if (IPython.notebook.keyboard_manager) {\n",
       "        IPython.notebook.keyboard_manager.register_events(el);\n",
       "    }\n",
       "    else {\n",
       "        // location in version 2\n",
       "        IPython.keyboard_manager.register_events(el);\n",
       "    }\n",
       "\n",
       "}\n",
       "\n",
       "mpl.figure.prototype._key_event_extra = function(event, name) {\n",
       "    var manager = IPython.notebook.keyboard_manager;\n",
       "    if (!manager)\n",
       "        manager = IPython.keyboard_manager;\n",
       "\n",
       "    // Check for shift+enter\n",
       "    if (event.shiftKey && event.which == 13) {\n",
       "        this.canvas_div.blur();\n",
       "        event.shiftKey = false;\n",
       "        // Send a \"J\" for go to next cell\n",
       "        event.which = 74;\n",
       "        event.keyCode = 74;\n",
       "        manager.command_mode();\n",
       "        manager.handle_keydown(event);\n",
       "    }\n",
       "}\n",
       "\n",
       "mpl.figure.prototype.handle_save = function(fig, msg) {\n",
       "    fig.ondownload(fig, null);\n",
       "}\n",
       "\n",
       "\n",
       "mpl.find_output_cell = function(html_output) {\n",
       "    // Return the cell and output element which can be found *uniquely* in the notebook.\n",
       "    // Note - this is a bit hacky, but it is done because the \"notebook_saving.Notebook\"\n",
       "    // IPython event is triggered only after the cells have been serialised, which for\n",
       "    // our purposes (turning an active figure into a static one), is too late.\n",
       "    var cells = IPython.notebook.get_cells();\n",
       "    var ncells = cells.length;\n",
       "    for (var i=0; i<ncells; i++) {\n",
       "        var cell = cells[i];\n",
       "        if (cell.cell_type === 'code'){\n",
       "            for (var j=0; j<cell.output_area.outputs.length; j++) {\n",
       "                var data = cell.output_area.outputs[j];\n",
       "                if (data.data) {\n",
       "                    // IPython >= 3 moved mimebundle to data attribute of output\n",
       "                    data = data.data;\n",
       "                }\n",
       "                if (data['text/html'] == html_output) {\n",
       "                    return [cell, data, j];\n",
       "                }\n",
       "            }\n",
       "        }\n",
       "    }\n",
       "}\n",
       "\n",
       "// Register the function which deals with the matplotlib target/channel.\n",
       "// The kernel may be null if the page has been refreshed.\n",
       "if (IPython.notebook.kernel != null) {\n",
       "    IPython.notebook.kernel.comm_manager.register_target('matplotlib', mpl.mpl_figure_comm);\n",
       "}\n"
      ],
      "text/plain": [
       "<IPython.core.display.Javascript object>"
      ]
     },
     "metadata": {},
     "output_type": "display_data"
    },
    {
     "data": {
      "text/html": [
       "<img src=\"data:image/png;base64,iVBORw0KGgoAAAANSUhEUgAAAoAAAAHgCAYAAAA10dzkAAAAAXNSR0IArs4c6QAAQABJREFUeAHs3Xvwf0lZH/ivl2i8omi8QmaYQWYYxkHmAgiMMwJeQDSul6hJxap42yRqjJXN7v6R2lTMJpXdWqOmXNnaP5LSrFbFQjcpNskKIgtkYEAIA4SZQYGZYWBGExUQo8brnteHXw+HM+d8zjn99Onz+X5/3VX9OedzLk8//fTTT7/76cs5O2uhSaBJoEmgSaBJoEmgSaBJoEmgSaBJoEmgSaBJoEmgSaBJoEmgSaBJoEmgSaBJoEmgSaBJoEmgSaBJoEmgSaBJoEmgSaBJoEmgSaBJoEmgSaBJoEmgSaBJoEmgSaBJoEmgSaBJoEmgSaBJoEmgSaBJoEmgSaBJoEmgSaBJoEmgSaBJoEmgSaBJoEmgSaBJoEmgSaBJoEmgSaBJoEmgSaBJoEmgSaBJoEmgSaBJoEmgSaBJoEmgSaBJoEmgSaBJoEmgSaBJoEmgSaBJoEmgSaBJoEmgSaBJoEmgSaBJoEmgSaBJoEmgSaBJoEmgSaBJoEmgSaBJoEmgSaBJoEmgSaBJoEmgSaBJoEmgSaBJoEmgSaBJoEmgSaBJoEmgSaBJoEmgSaBJoEmgSeACSOAbuzz80y6+uosf7OKfdPGnupgTvrB76Z918X1d/P0u3tfFH+niZ3SxhSaBJoEmgSaBJoEmgSaBJoETkcCbOz7+uIvA39svnecAwKu6d3/90vs/1x3/URd/sYsA5d1d/MwuttAk0CTQJNAk0CTQJNAk0CRwAhK4rePh6kt8OM/1AP5C9y4g+Tcu0UqHH+5O0PyJdKEdmwSaBJoEmgSaBJoEmgSaBE5HArkAkPcPyHvXSFY+tbv2oUvxk0but0tNAk0CTQJNAk0CTQJNAicngY89OY5Oj6Evv8TSy0ZY+53u2h1d/OQuPnPkfrvUJNAk0CTQJNAk0CTQJHByEmgAcL5Iruke+dMu/srEo7966fqTJu63y00CTQJNAk0CTQJNAk0CJyWBBgDni+Mxlx6xkGQspOttNfCYdNq1JoEmgSaBJoEmgSaBk5PAx58cRxeTocdNZOu9E9fb5SaBJoEmgSaBJoEmgYslgZPCAg0AzitX8vAlT+DwjXT9A8Mbl/5/THd8cOJeenfidrvcJNAk0CTQJNAk0CRwQSQwhQUAw4e6aLpZtdAA4Lyo39E9AsRNzfH7okskxuYIKtSpAvdaApeXSLRDk0CTQJNAk0CTQJPAZSYBo4G3dPGNNfPdAOC8tF956ZGvHHnUNjDP7uLvdvHOkfuPXHrpS196dvXVaUvCD1/+wi/0cZF4+NM//dMz8WM/tuyUzj/5kz850P24j/u4OJNHKOD9D/7gD84+4RM+4exjPgbWzg/ooPFn/syfmSXyvve97+y66647PHf33Xef9cvjj//4j8/+63/9r2ef/MkWeMfCf/kv/+WQtyU8HUtJ3sRP/VRqt09QVh/4wAcOcvnET/zEoky8//3vP0MzyfxY+RxL+I/+6I/Ofuu3fuvssz7rs84iuvt7v/d7Zx/60IfO/tyf+3NhvSQ3PNHNxz72scfY3+0enf/1X//1Qxngca4u5pbPkgwmef3O7/zO2ed+7uee/dk/+2eXvLbZM2Tzm7/5mwd9IJvP+IzPmJXPWmZ+93d/91C36N2nf/qnH9KI2oytykj5/P7v//4Z2yb+4R/+4dknfdInHerup3zKpxzs3dr8Xw7PK49++LVf+7Wz5z73uemSXUWqhgYAPyJusoDQ/rCL7/7I5cO5LWC+oovf18Uf7937oe78U7r44i7+Xu/6o06Bvyc/+cmPul7iAqAmlAaAjJ4QaUQPBGZ+8M+AlACAjBKjuYTn3/7t336Es0/7tE87GN10IRm0aMPDUGpIGcVo+WgggL8oTymPOUfgSlwCENbQRxPgBtqSnI6VzzHaH/zgBw+g7TGPyZ9hkRq4L/iCL3gEkB5Lc+6esgNuP+/zPu+R/M29U/O+Ogj8feZnfubZ53zO5ywCN7nlM5cvsseLOnzttdcu6szN0YzcB0J/4zd+4wBwrrjiiuL8AHzos106G8DlEvu1JE8ly0h7QI/JA+gT2CM867SV4nlJvs7rM4B9P2h39gwXHQD+hU64X39JwJ936fis7vjPL53/Rnf8O5fOuePu6eL9Xbyqi/3gCyB3dPHHuvi8LnrOvn+3d/HeLv7dLrYQlMCcx2GOvIYjAa65Z+fuaxATEJl79th9RlO+orTkC0jSy94zAGklgPowDxpBwDYqJ/LWkAKSkaCBU24l5E2XeE017NH8RfI09S7d4n11LOHtnEpnyXXlxyuCFx75PUGF+vaf/tN/OqOb5KKxjtqovgzQ5VUEqgBvnY0989vnLZ2TAS840IdfdV9nVtmoryXlkdJsx3oSuOgA8Es6UX57T5wmWD7hUnT5/i4mAOi/++Iw8Aje3EUev6/u4gu6+HAXf6SLrl3YuXw1KjhjXzKdErQ02tHhl04vzjRoJYw6GYkf//H7VVnpG4LWAJQMZA20AUjRALjxtEXkhB8Nnka5hC4BfxrOEmAyKp+x94E/jfve3klg4+GHHz6UnWHfvcAyPec545Xj2eL1i+jTUOZ0He0E/Mi9JP1hemv/J9AH+NELestzhc8SNnEtP+357SSwX2uyXZ76lP9+90dcEh7oHjo22c3g/XcuIbTHMyUaqj34liaDW4J/dIQoLXSAgBINEDolACCjjE40bwcBZf7ggWxKNwK8ihrAKF1gW4MVnWMH/OGlxBxHjT2eAJo9y26qyAEd+f38z//8XUEIHQD+AK49vZA6OLx+poAAPCU7O3SBx08nRWfnlIDfGOjj8eSVPCVwOqXHW15nw9mW1C7kHrUnyYbiF52HHrLwd7/wMfslfdmkbNC/m5b0wY+aY1Yy9xRU41K6gaGslLYEEDqWX8YW71FDg18VNdpwk6dGW2MUkakKztgbKonmjbdAOew5/09e5KnkIhT0eKDIOpo3HgvlH/Ek0qH//J//89lnf/ZnhwGpvJnLBkTsPddnrP7RKXnde5GFumbY15zNUl7Xsfweu6aseGrpOG+t8i9l94BbwA/QlkfTE6L24Fhelt6j6+pM39NHT8VT4G9pPnKfY+dTm+E4de45XlCdA+1BahPT+ZqjZ1PEt3N6cWnKiknLH5mYnpuxFe9ddA/gClG0R8+7BBhxFSoaSgFq/IhRDyAajBOQtFfAg4asJPiTF+CfvEuBdgAiEhhjxj7qjcQD7xp9LC2zSP7Suxoz4E/DEwXeiWbOkbx53ACu4QT5HHo579BBQJ1MgOFcr5/OBzoW0QBQ6BnqTcDvCU94QhG9WppH9YqHiWxTGbMj+AH6dADo+kX09Mm7clUGCdwNAR6bpn6yz8orHdN0DdfS9QT6lsp+zXPS2Cvsl/JeOW7pLpaAClIjSKdEbztV6CjPjEcJfjQI6ERBKX7kLQokI3JhPIUSwKjPB++PxikqI40Z3iL8aTDwowGPBg2PhnbP4cypPChLQIU3ak9wyuNma5wI6JrK45Lr6hQgBICSg2HwSB1DB+hXX9FBG6itDfzkXd7e+973PrJaF6ilj33QdxHm9LGx6towqstsCjAnAllpbnACeq6VsM9LdO1Un2kAsFLJqJDnKSR+ow3zkjxLq0Q66JQAbiUBYKRBSbLTYDNWJWSUaK498v4xpCV5YLzFXI9LyoPyMr8qOsyqgQQEomVGD035wA+ZnVIgK0CF5yeyTU4kT+QD+Ckzc8ySdypCc+279A4IBvgBoSgQBqyUuZD06Morr9yl/MnXkLrhbAEQFeTxPII++UnevAT0/GeT6DPbqJ7p/BklMQrgfG+beRD6if80AHjiBXTR2VO5xRLAglFX6aMhGZUoHfxEPFIpfQAwCkoSrZyj8mF4owBrmDYAALBHy0wjTn8iYEtjgh/eqGgABpRZdCuaKB/D95WjYV8yx1uJOjdMY+4/HtKwqK1EImU2l9bUfQAN+AM8S6zwVda8bf0AoJSo+32aS87Zrve85z0HYNt/HuCPTo/o09vqnH6oh2Kqk2TpOl1JEdBzTsZ72sat5FCLbry1rMVpS2dSAiqHsIdBn2Sq8o0kg6gHEB1GtAQdADDq3cCPBiY6Ry5SHAww3YoCtT4P8gW4RT0v6PB0GGrL1X80DN3hJVruypwnSGMbpdWXV4lzXje6xAuUK6sIH+QMgALIj3vc46oDJPVa+jxihuYjOpPkAKQ8+OCDB5vhGrkqd0f5rSVnfFhMRfekCxThQ55Fde0UA33EW4qAH5kBrGynjgrbB+jVkuUpymkrnhoA3EqyleluVTm2opvEw1gJ0XRK0WEsS/CT6ERBADrJoB8Y2+FH41LaAPMoClFgmxqMCB00ALfoULT8AJI8E1Hgj1bJgC9AOTrPLZcnOszrRpeAv5KdiSU8ARiGRaVb4mse9MXKXqALkLT1kHKP2rEleUnPkCkwm/Zx5KF//OMffwBPNflI/Mwd8auuJbDnmDq36ospCTonteU4x/dFvt8A4EUu3UDeVNYaQToljBWgFAVb8pvoRHnSQOiFR+kwkBqtKJ3cslQ+wJpGrmTQEDD6kXzhDagB3HLpoKERLeH9A254twwj5/JTUsaJFp6ABHztNSwJfKkTwF/NITv1GVCz4MRqWFsERcqGvgDTPIlkCUzWBvs88spTntg83mbD6bVBddKvqSM+E9hT30X8khcPn7JwXlMfpni9XK83AHi5lvyJ5JtBjRjklI1SdBIATHRzjwkA5r6f3ksAMP2vfWTEhZKNC9kAS9E5coCp8tKY5AYNFN2Jev/Q0CDzwpSUVW6+0ntkBLD0twJJ92oclU/a7Lb2p87omM2l2Zc//+f/fBFvMy+mOmGluLIuYbuWlAP90tkB/NIiE/KMdH6WpLvmGWWts4E/UQDuEthzLD2SsIa/9uyjJdAA4KNl0q5ckkAN41YSuJXglxEr0SMFciLDkoqAbNIQyV5KCUDIRwnZpjzwBBjmicpZg2gyeC5v5Mv7V6Ihxwt6aJ1KoMtW/AIJUYCbkyd1APjj9TH0XMJDv5QPc+F4/pQH8JurI9KTDwtXAHzetppeTDolL4Af4Jm+ILKHJ3dM9nhShwA+dUCdJnPeZnUzWsfH0mzXykmgAcBysrxQlBieGkE6JRoGdEoYG41m1LjipQSQRKNUvnLKUtq8KCVBDZq8btHFHxqe1CDm5M07vBWAQcSDiA6AoJHea2UtHoaBnA1TqhORL6MM6S79r+MC/KlLNRedyHfajy95yJbyPHwOLeVKjjpBV3bbukQ7dcM0pv6ntAFP50CsOXIlbOVUmkuu46Xv5WMfAD31mVe0dGdxCU/tmXwJNACYL7uTeFOFbKHM94TJUowaWcBNiHgdvJ+Gf6N00MoJAJYQBcT9tHkUhWhDytsAuOWWlTLiudCoRuXLM2QuU+25YH25Ds8N+2qczQ2L5m9Ie+4/vQH+yAMoqJV+Ap3K1tw8XubcIA9p+BiABXBq5IP9oU+An/QS8KuR9pSsyJWHT31R7/BCHlZS8yyX6HhPpd2ubyuBBgC3le+5pl7D6DB40XQScIvSKQXceIQYxSg/CQDupURbDf8CBhHZkIthZA1QbkjDVVHQlia3AwmnEnhYDRnuseKXzgB/vEI1v4LCKyVdgMTwY27HgC0Bni1aSUOZNQAO28PbmIAf2ZXonOToJBnQ6zS061xnC+hLc0kj9TeHp/bONhJoAHAbuZ57qiWA2ZwQSgE3dISoUWKENRxROgkAzuX/2H15AnSinrJjaRy7J/3Sw7/kgmbu4g8NswUWvDOAW27DrJx5NMznipQ1GfHWWCGdy8uxMsi5R2cMWdqWpLbuKBeLJACFWsPhqQzkGWiKrPIlO8APmDR8XHLqw1RZ0sXk8aNDPKYl9iecSu/YdeAdCMUPvoB4eqQ8T2lh07E8tHvrJNAA4Dp5tac3kECkEcaORgCNXDpAicYrBecMXi49QCfa+DLA8rUXsNAYCiWHf3kSIos/NMxkIgCAuUAb+JOvaBn1h8MOTO38QzbpM281wEs/u/TF1zBqgj91BOBUDhZmACy5gbfLkC9P11VXXbU54ME7L62FKuo4D7Iyy7U5uflWh3SsgD71S/mlFc65XtRcXtp79SXQAGB9mW+SYmnDwUBtDT6kUSIwYpH8M3QJWOAHUAEwcsCPPOUCk74sNKjkH8lXn97ac6C45Ias5Js8d2t5Sc8rJ7IVlBFZr/Umep+nI9rYoqPRjK4wTXkrcfSlD3Ku5X1LPCfwB4DVkkcaalY/ruwWZ+R6qJRjWjRi6HjrYVc6C/gZ6mVf9gB+dEQniP4CvjpC8g1E59i8pAft+OF9ZMlXOc8d0zOmbOwVGgCsJHnK0MK4BKIgh2wjNIaNB+A1vDbO+aOvqtR4ifaekxfy0Slsf4U8NbC8AaWC/KCpockN/TJWRjmrW3mLhKj3z1CZToJ4CkGDLhq6jOremvwAUObekWetBR/KUJqGSiNppnmDQA+vXw3ww8uoc6Wc1K++Tq+R+9pn1WmdJqCPx09Qf+T7VHR4bZ62ep6s2HG6LfbP5/5rN9LoibJNbcHwqI6ma+jvFRoArCR5hb1FoKxi6YDmVjwnXkulgU7EWzmsiAxibt4ZiAgvSTaMSBSkJFprj9Im05INol5uRK7ykAwlz2TOt3a9DySt9RoO5QfMAg88RqcQAGseJXPgSpbZXN7IExCj7zxZuXVmLp10n07ycho2Td66dG/NEd/mDPLEAZDRuaBr0ian1PiveS/3WboK9OmwOAearQy3WGbr8srlecv36BD7ps6Qh5jOgTf1OtkZfNDtFJVbOvcs++x//3o6J9ul8k2AfMt8T9FuAHBKMufoOqU+jwHfSyvJsfyVoKPiqvhAivPcUAIA4kOecr2Qubyn9xhExq1E2aApL7weGtpIIBcG18T0HN54jgCkyPYg+NegakBrgq0puZGJIUwNO55qBemmbVKsNs4pjzW8pnwqQ1/1yPVa8YIBrfh9whOeUL2TRX+3Dupbmtenw8PTaGiejkRs29Z8l6Av72xwAnV9gJfOpcO2sgPqsJjqMzklkEdHttbrEnmO0GgAMCK9C/quSiRsrfwpnagYNQ5RXpNhjDbqjE+Uhh4qIxTNU45clYlGsuTwL3rkGwG0jDd55M4xoyMaw6i3R16AWSD0FAIvFrlGwfWavNCR/rd9U91ZQ2PNs+qUBSbStb9fjh55l/eQ548HOFeP1vBd+1lySvMLpc0jbKg5ao9q52NJespTPVQfjS6wmf6zE+6xn32AZ3EPObhGf7bW2SV5OIVnGgA8hVK4jHmIghyVXShRoaOGEi+ARrSXz5jlNHIl1EgjIg9RL1mfF0aaAY6UNc8PGrnlbGhHuUSG1ZUv7x9PSrSM+/LJPQdoTeI3eT8i2zXpk0H6Hq50c8tjaZoadOBPfTB0mZMenX7f+9530GsAkh5dpMDbZVgcwKXfPLJ0tJZObC1L9gi4A/QS4HMUeIJFHjxzGhPoy9GTrfNxivQbADzFUlnJ03mt6BqTaEVlHISoDEoANw0NPqK8AIC5Q1wrVedRj2tMGNFoHhJhMkFTg5QblA3jz2uTE+gZoBTZI066aX5Q7S1WxvJMR9K8v1qdBXLkQdP4An9bg2CN/oMPPnho3HPnGOIVgKTTj3/84zfneaystrpGH+mA4V46eWW3GrrmNIAt8sVe9EGeek8P6FoCezy4zktOU9kiL+eBZgOA56GUKvPI0AulQMAU+9KJpoFGFETiD8iIegAZL4Yqkif5QadWoz4sG8a2JPhkzDW+EbCgoUs9+yG/S/57n45E8kU/TKTfepuQJfmhI+b9aexrNvi8TDyxwN/W+qnMADdD27nDtYCR+X6G6w2HRurlknKp8Yyyly/AT90inyc96UmH+lEj/ZJpqFPKGchLkceXbvHSqq86jo5s80Uov5LyK0GrAcASUmw0VkuAIROjlboUDcYoCiQTAFwtjN4LPDv4iPLSI7n4lAykHxkm7SembBj2CEhBA+jI3T7G+7x/0SExw61AbGSz4b5sIueAqHLiFasV0vYhwF+0ozTHs/IC3NIK3bnnh/eVOYBsPpxh41Pw2A55XPufbZEfIFz+eMF4/CIdq7U8RJ/HN3ugPqtPjvhXtwE+YNZx685FNB8X6f0GAM95aapUpQOaUWC2lKdoOkBLCRr4jdJhpKONo4Z9LwPI+yftUuBTXpRPxPPGyyHkglINjhCZ96VceV1OwYukjAAB87xKldNBQEd+ADJDv4ZQeWK3DICmOYa5n2Kjc+b7OT5hh1W+pWXDI8bbl+b3pe1voraqNJ9j9LQj9LUP+FyzwAwop8NtGHdMcvWuNQBYT9YtpZ4ESgFXdKK94OT9ixhVfCQ6vWyuPtVwbd3ITjFlrl4u0BqjCbxFDbwhIh7EnLJRJsCLxibn/ZSntOlzSdkk2muO9Itny1zGCKhek6YytOJXY71lmsoK0AFuAc0cTyuwb9gYn+fNOzYsE8APEKb/9E5+yCSix8M0tvjPhiTAx8un84RvoE8HSkfs1POwhVxOlWYDgKdaMjvztWUlZexFaUTT0ShGPWYlgBsaQsQrQyYAYE7jF1UXaTPekeHaPg/oaZCBldygEcRT7hYnwAs+IvKUPjoar70DLxD9ish0TR7InzfNcGPJbYGGPCgjIBNwsEo3B2jzHNqXUDnhN2pXhjzW+q/+87YCw6YtRPY8rMEzfvuAT30B8uhLAvIRm1gjD5dzGg0AXs6lP5F3BnmroEeoQU0BSADgcoZO8SlGDUwJAChfPJGRhgcN70fzk2S75shwSzfqTU1poicvOeWaaNAN4C1HHvSC9yTq/TP0C5BE8pHyEznKC2+mOXgRHVvKgzphHp4OQS4AX5JWSoe+AH9r5aycgUflBHBsCVSX5Cf3GXIA+oA/AOrqq68OdVxy+VjyHtDHKw50J5tFT3iJHUvZkCW8tGdiEmgAMCa/k3i7dIPAqG4Vho05w5ebXnovmn90hnytzT9DGPVEMqwawGh+1vLueQ0woFMqbeDNUFwuPXrBs8CbkxPMPdLRiIAXMpEPDduegW4BBmSxFiDl8K0+AFXqhDlnuWU4l7Yylo78AX9rgQMPpSFf/Jrvt9fUibl8HruPd55dw73KlsfvFBetsE1ANtCnI6JjZvEGb/R5lPuxMrmc7jUAWKm0VfQWPrzQgqFn9AWNS26jRqZipIHyvoYkZ9ipX54MZNQQ4mNtI9jnIfecDACmyF59/bQTvcjXMoA3ssjVDfOPeIMiwJ6Xg0cjCuz7sll7TpY8Q/SzFjCQHn0ARiJ161hegT97/Am5ewriUZ0D0CPljAf1F7jJ3WsSjTVBudIvAFiw6OUUthjq54GNTp4+9UmHDuBTXlFb10+nne8ngQYAK8l+K0PKkJSmjWbUoB4Tq0Y9AcCI10kjEs27vAqR/KKhAYmsNMUDGlEgis7aAHjKfy7YGqanYUYvApwMefIy5JSv/JTw/qGxt/ePFxQftYZ+Nfgi8LdVZ6QP/gzb5tY9AL/EkC8Zv+c97zmA/S3s6bB+8KABfvSUhzX329ZDuiX+s8t9Tx/QB5jaTmcP21QiT43GtAQaAJyWzbm4kwDMuWD2EpN9gx9pZOS9TytHBglE5gCNlB4aQiQvaIgR0JT4WXs01In3iAz6aUaHfzWMeMr1IPJWAI+R8gCCgIs9yiPJUofA0K/98CJ5SfTmjkC3VcYa+608PHQ8DdsCmdH6O5enY/fZD95Ow6/2VNx68Qj5An6OypS3cc/8J9kMQR+gx9PHK9lAX5LSxTw2AHgxyzWUq617wQloRD1OGpNEKzfDaEQbVwaUIY/worHHxx4NArAV9V4m+ZMnD2BkuFIDiZ8cWUjf+5FVu+TB66YB3DPY9JccDENvHeTZog9yA563CMoG+HOMeP5K8KbO4kVn5aqrrtosz3hVH6xQ5vkD+gDfPTsWeGLjeT4Ne6c9BoE+Hm9evxYuDwk0AHh5lPNJ5jIKvDQkUUOawFtEQGhE+QAAozRy8kCG0i7l8dHYyUduXjRMGuXcxRu8fzoWkfxoFHn/ovqZUx7pHY0zIAsobR3or+1ezAEFArYI9Ewa0tpyeHkJ7/TLkC/v1hOf+MRsXZ1Liy7z4PIw8i5ec801Ib2cS2/JffK31yLPJ087L/sXfdEXFesALuHhoj2jnOk32bKlztP/dC8dXU/n6agc9goNAO4l+YLpRjxPY2xQzNI0++mgL0TTKMGnCpkLVlKeVPwoDUZgj+EWnh+8lwI7PGcRD4L36UUOgKMPgFMExACwYu7q46QTkSOd1EDjIapXc3yQGZBC3hGv6bF0pJG+zrEn+MMHbxdvnCFY+Y3aoKl8A+8WuUjTCuUScxWn0lpyXb2iU8nbJ+86WTle9iXpncdnlBUAxxaz6Wtiyi87KvLce598RXrWP6rX6Zqy2Ss0ALiX5AulS2nPW0g8R42vhjJqwErQUNEj4C0ZnhpDfUNdAXZywNaQjv9kiV50+Dd38QfPjhABoOb+4b8UID4wtPJHI62BiMhxaZKGmYEVwCxaH8fSpNunAP7oJj54iK/svqqxFSBjC8zzI1cLPACtqI0ak+uSa2RPnwG/1DFK+wtuUdZLeNr7GQBPp3cqkhn7oxwTmHNUH0V2vn+9f54A3to8WnSzV2gAcC/Jn2i6KsDWIaURMUKJRsS4oqFhUIlzQwkajI0Q4SOHf7wzhFb5lQh6sslQ5tBjnAHIHA+evJhjBTSt1Ss9fnqU0t/T+0eGGoQaq36BAmBzqzlpygToomM5+/zl6NDYO2RqyJduGvKNzj0eS8M1YEt+dagM90Y6hVNpLLlOjwFQwE8w7zBnk+0laZ3aM+z5GLhjV1xP9l4ZpWjqQzp3jLQppyaPOX4aAJyT0GV6f20jukZMGoYofRU5GhKNCC/Am/cjNBhsjVOERo4spCuUahA1tJHFJDxRqYe9Nj+Mu/zkLGCw8hUIVAZ7fslAvTAcCwBriLYMZJWGQiMe0yke5cWiEuWy57Cv+ZxAGVC/1abWdCd5Fy0cMrRaoy4D7yKvnqD+AH3yTI+t5j61vQWn9CXnOrnLM8+/I5AnAnB9QEcWyiRdq93RzslbrXcaAKwl6cswnSnPVgkAiIaKHjG0AGCURhoqiPCRAGBtFdE4M4oR3hPPZIlerjdReTLkue8b2mPoI7135cD7hpc9vIAabmnnLoBJZTF3lEb6zFuuvI+lgb6FDxrjrbyLx9J3L/EAIFlIU2qT83660uBpA6TR5/Ur1ZnqpzN2rrP1wAMPHPKpLOk/eVvUgY8tQP0YHzWukTOwl4BeAn2u6TDq9Kn7PJ3yrQxK2LQaeds7jQYA9y6BAumXVHaVTShBUwVFZ9jjkkaUPsBRgkYEMJBTAoDOcwPgEfGc5aYLsJVqKDRIDO+wrJfypvGiFznDZvSMDHPBzFCPhv+X5iHynDxYncmDtHX6vET0dqthZh5Vw8t7gT95M+RLJ3jHcnRqriyBEdvISMOcwhrzNRNPbN+73vWuQ31xjbyVJfCXW/8S7b2PCewBeQnoOZIzW8VOkjVvrvPznt+95d0A4N4lEEw/AbYgmY96vVQDhLcxgOV6NI0p2h+VkZk/DGnUgGhsIsN1eECjlucgiUS6QEcpzwgAFwGTAIP3c/TCu/TMEG5O6NchXoStFghM8SZ9Q78atogMp+j3r5MVoGlO2Fjd7D+bc87jxpMJFNXWafzS6fvuu++gC/b3i9bvoQzUG95N5UVXbCC9hRyH6ab/dOXee+89ePv61yKdr0Rnj6P80Emed0fAmj1UD3j22KcG9rYrmTyLuR0/jfLOElAhGbkSAa2pBn3q+tJ08Rg1vIxmhI8kq0gjo2crH9G8LJVbeo73D98R3hMtZcFw53pBvM+DaGuOtUEZGP6KDNkqA4H3LQLm1/Kense/8tDQbRmAI8OV0tnCK2YRDnAEXG5Bf042dAj4A+C38G7SccOt9LX23nn0HLBWfvLJXvR1FU/nIciHziLAJ9IZNhjQM/dVHeTZq20Pz4PstuCxAcAtpDpCk+Kfh4DPCCjq53GKVgmPFxpR8JLrMUp5lL8oH8BHNB+JnzVHgKNUI52Gf3PlqWH1bo7HyLsai1zPGfkrR6Co36CukWXkWfqjEQRgt9QDeQQegKPcofJj+VQOFkJYeJCzEOcY7SX3gGhz4rZY7EF25voBf7Z14fUrZSPn8iZtq4uVHV1Nn6w7TwAJ33Q8gT4dEXoI9CXAV0uec/K+3O43AFipxC9HBWe8xvI9dX1NUejx7m0ENd54GMvj0rwwjrnAaWkaw+fIPxnh4b2c/wBgLgCTnjk+uaBBw6IxyS0DjZK095iDKe+GTAV52DKkeX85XtY5vnQmzLkDjkpNKZhLs3/fkLb5eMBn7vej+/T65+qnDZ3pqA2dc73cfZpLztVRugl0qquAnyHnvW3eEt7Z5jSsKw9kl+bumRdKhuchH0vyet6faQDwHJcgI1Ha9V8CnBEpOsJYwxxNw/vi3kZE4xD12qARAU8HIa/8AVw1KiU8XsrBkE5uw4gX7+esfJUH72oYc0Lyvmlc9wiAkwbSKtWxelKKJ94xw4ca39J1hgyBP8CvNPiayz/dMxfPIghzDnN1cCodIOb+++8/gBcra2t01ORJpwbwS9MC9txMeko2w+s6gTyV9Jm+0TM6ocPhmOPdH6bR/peXQAOA5WVaneKWjUc0M0PeGDhxeH1NOt4XIjTWpDf1rMYvAgCBd7FGw9LPg4YF+CshPwCMsc/NA++Aoeic9zU0vHe5ZaChlXapofC+jJec88ppHEsA8an0gOSt5v3RXd4x/NccFpVXNsCQM8BhpW9JDy7aQKX5jPIFgJWoK1NllK7LS5rjZ0qCdHN1O9Hc8qju82CL+BTps/mXOrU1ZLZl/i4H2g0AXg6lvCKPUXCWkpoCaVPX03tLjhoexmVvAwMARnq2vH/AU2mvzJwMGe5SoCMN/+aWBQCYM/xJj3hocr1/dEiDm/v+nIzn7uOd7LZc+EFGAIVGWSwZ0E4LIngWc8s/h6fkdQRufdmjlC7jBU0eTXUE7dypCWvyJS1Amk4qJ+meKvAjH0PuQB8d5nUFki3gOFWe15TF5fZsA4CXW4lXyq8GYqxRcF0Yu7eUtSnaS98v8Rweoh5AADDH8xXhH988gDZOjQa0gJic4Vtpa0zEHO8N4Ag453rveA81WDlpl5Ab79/W+7YZ9lXW5saVDjxkFn6YF1ezA0NfDMsqO56/kqCDR9hCEh0SQ74laY/JH+DjZfTtYHWI56y2PRjja3iNnaNLQJ9OE1BssQ35RzrAw3Ta//oSaACwvsxPOkWNegmDjs4YyJu6vkYoDGcJHtekOXwWD0KkkdgDAEpTKGG4gQsh1wOTJofnlCUAl7v4gw5qyHgtxnT0kKkNf8yVErZYjZvYVjbmxwF/ER1N9PpHHiAR+KsJWHjKDPsC/cBSjt7085HO6QMQluQFmG+tF/SP1086tpTJ8YIn/rc4sm94BPqAP3Uc6OPtze10bcFnoxmTQAOAMfnt+jbDdaphCuhNXV+Tj1MAgHrFGqBIQwGM1V4AAhgw5hG+U1lFhn/pAQAIhK0N8iDmDt9KV/olvKBreac3GlVDvyXKYCx9eUtDv6XzCHjzXlq4UhMIAH++fkFfPv/zP7+Y7OgRr59yqbG3Hw8m4KcTYAsUiyS20oMx3Th2jd4oX/oJ4LNvwPC111578JSfCp/H8tDurZNAA4Dr5HWST5esmIxACXpTdFyP9tzRKO3VWFuwGowID0CsWNODIo8a0hINtzIAAHO9WBpeNHIAsEYqd/GHNA314buEnq/VG42rPJcGZn0+NN46F0BayaDMbLcCvG7J/5DnBP6UWUnwRw8MZSsPntKoXRry3f9P73gYeTDl4ylPeUq257xPt8S5crXPIf7YJMPRhndzPewleGo06kigAcA6cj43qTBUJQI6Yw3s1PU1ae4BnIb8RQGgBlqDs2WjM+SZ7HkgSmyXgX/lkAsm0/DvmI4M+e7/J3dzz3K9f8CEuMV+eH0+x86la1itNDDrpyUNDbk0SuqWsgb+LFLInfPZ53Ppufzw/AFNPGZr9WUqHYAn7R2Yq0tTtIfXdVgsLCFDwKr0gpxhekv/W8Rh6FunhHzpjGNJvVnKS3tuHwk0ALiP3E861RJGlrEbMySlAOAY7ZpCBUQi8+gAqNreP+BP2ZZINzL8q5x4kHL0DPjzXu68QwCMZ6O2/tD7rbd9kYahX8OkpVevWqyAfs09E3mmSoO/JCNl4VvBJTpDU3ZHHefxA7DIjee0tt4NeZN/HmLlmVbRf/EXf3GWJ35Iu/0/fxJoAPD8ldkjHKvMOY3oIwQ2PJnizfWIEfR+lEY028Bt1AOIRmQIOScPvCml5v8BYpFhwFwAp9HKBY/KjOdxi1Wxc+UhXfLfEkABGvTK/nElg0UA5qwBTJG6u4Yn4O+d73xnUc8f2Zjvpyye9KQnbQZ62KfkYdTZuO6667I95WtkduxZus8znIA8MGrOY4nO4LF0T/2estrSFif65C8d0Xn678iW7hUaAKwkeYpwHgKFLAEq5XeMztT1pbJRgcboLn2/xHOpUkcaQ2Cg9so/jWqJbU/oCG9izvy9iPx5VHgerUbMCbx/eI54bnPSpS9AFL63Av30iVer9Nc+yJtX0arbXNC+VmZbgD/6et999x1YAf620gHlwOtn2PfK7uskOYuc1srr2PP4McxLN+i+cjSEH7Fdx9I7T/fo9q/+6q8eWOYFPRbUYfZHpEtT52i4n4CeYwraLfWf7PvH/jPp2VrHBgArSXpv0LIkm5S8VEBrLM/AQ6QhQVfc04DJQ6rAOfLCPxo1e9+MjFii4dOooLMVmJmSKe+fRixHbmRu0v/W873GeJeuRqH03C8NGKChQbcps2MJgJ/yQEetWAVctxwqTek5pmFfsio154+H5d3vfvdhWPyKK67YzHbwwPIwKgeLPGrXjyRHuk4vAD8dD/wAvbXKMPFxqkfyAYh1CJxrp3hsp4BdAnvyo91h+9igFP035cJ/554Zgrx0bUwmOqZ7hQYA95J8gXST8hYg9VEkxoDbRz2w8M8YHSBk7PpCko9U2KXPb/FcAoC5tBkUMmAUagXGjb4wUNEAeNT2/uEdAMwFUYb9yLwkQFoiR3xrXICoiN6PpaWRN6ynMdP45HpGx2jjmyeLvpQeUh5Lz7UE/gAVw/Ql5KVxtXE04F9yBXE/Dwkom1t3Zef1A7j2CGwrHgA/dVS53XDDDbsPP+8hi36adFmnlUx0Bui1MkvBffUIYE8gLnU06X8f6NW02Ym/LY8NAG4p3Qq0KW+pUIoWOuLQgCf6w+tr+Gfk9q6EJQAgoxKRwxqZeVbjWgL8KUOGtCTYWJIX/APOuYsbAAHAoqbM5Uu60tzC+0IegjIB8DVsVnKWyCPQqpzN+ytB78DokZ8twB9gTCaGPbfSV50S3kWjGntt7aL8lZctbcjRPNNT/47wEVXIukUG6kMCeY7pHPgT7FiQgJ3nkzPCuc6BFdCXW2gA8HIr8QX5LWXwh3RUNGF4fQFLjzxyKgAwd/sTGWGoAMCaQcNQwmuHjhAZxs/Jt4YW+MsB/3jWCNTe+oWuGhbkfYro/JS8EgBM90ulQdbARK0vfSgfCz54d0t4/tgZQ+JA0VYrfaVhQYV0gAegq5T8U3nOHfFgcY5herqQgG5OHZlL69Tu0xlTK3jB5Z3nU8dcJ5ed4+nX6QKEnbPX/fIhO95AOuLd/r1Ty+uW/NRthbbMSaMdloBKUaIioDMW0vVIGqV4HONv6bUSHsASYGwpv2TGYOYOn/bTAaTwHinDPr0l5/gHSnKHInnhrByuPSdLuhrjrRb7GNYW5AsIKeFl5Em0Px5AU2O4XOPNg1bqCx/qpnl4vD9brfRVl8wfc5TGVuV7rG4APoAfHTBX8hS2mDnGb+Se+i+fAF8CfeyQDiHZs2v0Fchb2rFmv7wvbrkvZyTfNd5tALCGlDdKQ8U4xYAvFWwIElyP9k55VUoMZebKTfpiLpggA43eUkOVy2f/PY06uZdIU8Nau8HTU6dLOV5XZaWxBJBqBuny/m31qS9AR+SJvbKbd5arj32Z0E3zx4DlGvPYyOj+bn6ePCifob3o87bknDzsG4geYFZC34fpWlSBZ8OFT3ziE4vIfZjGsf/qH+CHj4u6lQv7mIBeOtINdid59ZxvUb7HZH8R710OAPALu4L7B138qi7aP+LhLv6rLv79Ln6gi0vD13QP/kAXn9zFROdN3fk/6eKdXdwlRI1mn+kE3PrXcs6n6ExdX5OGRiMKItekN3xWI0PmuTzgnxxqGi+eCqA5qivyDkzmALGhHNf85/1j8HP414AABLV51kAr48heicdkZNI674VtX3LkMkbbnDkAo8a8P3UAkKFThpqjeUjgT754dEoA4r6M1Fv8AvVkvtWcwn6a/fM0x9PQvCkFT33qUw963X/mPJ7TAzqXgJ6jDp9RBnWenHVweKOjOnIe5bM1zxcdAF7VCfB1XfzsLgJ97+ji07sIyAGEz+7i+7s4F/6X7oG/08Xf6CI6jk/s4td18Ru7+Fe6+DNdPNdBZSwR0BmrrIzo2PU1aU7RXkMj8qyGJtK4JO9fVA5r8gAAAkHRwFADkpH8r+WBvNMw19p36Zth2BrerD5veDavaKt5YcoBwCwBnBLfGt00769G+fI08szy1EXTI29zCHXKfGott3OWZDE80j/D1PisvamzvNmHUeR1tF9djaH5oQy2+k+X3/rWtz7i3QPeefn2HOUpkVftlLIT2aGx6BnX1b29wkUHgC/uBAv8fX8Xf6In5B/uzn+wi/+wi3+jd33s9HO7i3+7i7/WRbtF/mYXU7itO3llF3+oi+ceAMpUCWAyBdKmrkt3SfC+WNrAL0k7PaNCRxosPfma3j/yAgD1pqMhzf+L0lnzvsaX9y6nQcAvfeYpqxmAMzxvka7yBJ4e+9jHFvNqaoTM++NZ2oLnoexNvOdt9CWKnHLt01MftwR/+ORt1YkotS9hn/+pc2UCkFvFzBt27bXXFpnjOZXeXtfl7ZZbbtnVph/Lu3LQaU+RvqXzsWP/PrrsLoCnzWKLHIdRnd4rXGQAyPv3FV28r4t98EfWf6+L39NFnjvg7hgEv6K7b8O213exD/66v2ev6uKHulj220soLwilFacUPZVmLKAfAZiJboTGGF9rrqngEQDHaJTwxi3lWXpCtKFVdnrrQELNAADmDqMaTtLA1Oww0A8AcCuwYNWnTkTJcgA01KncRTZr9IFHFqjhvVQ2kUC3gT/1sfRn6ug7Pq305VWs9UUP6dIfC1mUiXxJe0+bFymjuXfla8+8qa86imwboOYoamv8T20OG0LPhpEzQKdp7Lpr7s/lT53YK1xkAPjll4T6shHh/k537Y4uAojP7OIruzgVfCvG3heGjj+ri30Q+GXd/0/r4s93cZcwp1xrmSpBjxEbC65HvGfex18JHsf4W3KNwYg0XBqtGl6WlJdS8//QYdCiQDLxteRIVgBgDthhuM0dBMRqBkO/9GOLYTq6B6wZWi4FasmIR26LodOh3DWo999//2G7kuiK5S3BHzkb8qV7hny3KMuhbPxXx1K6tsPZagHRWNoX+RpdScBueCRzdUmdTdG8Qx58/7VX7F6p+nZqcr7IAPCaTtiQyK9MCB2wAwCf1MVjANAcwf++ixZ73N1FcwCBwCd28Wu7+Atd/GtdPPch9XaiGQHUxipMAnC59BnmPcEf/oWxvC3JE/69GwHBS9LpP8PAlfA4Mpx4ryl/4CQZ4X6elpybXwasMuS1gvIFGrbab9BQJHlEwVOSB355uawmRXfLkMCNtAxfR4IG3Tdc6TVPYm59HOMBn2jTc+CvRoeHXQHs02fkzPOrke5Y/s/zNXqRFpGwHQns8ZizuXQcmHe0dYyjSNY17dopyfgiA8DHXBL0BycEnq5/xsT9/uV/2v15oIv/rIvf1bvxzu78J7toUcjRkMDD0Yd2vhkFaIn9KTpRgDlFN6W79RH/yZjkpKXBFWsBQPLSoJXwOKZ9t3LynfsOI547d1FDUAooLeU/bSirUSkdeM8MDZZcoWt4k3djqxWt6orGlc7zbCmPKDjeEvzRN+APn6WB5ZQ+ACm2rnE0J7L2gqUpvk79Otums6Wep+i/Dh8ZqoOGzhPIo+eXK8g7VpYXGQAey/faezyA/7CLP9rF/72Lv9bFa7v4j7to8ceXdPF/7OJksGM8r0Q/2Lk9ErYARCUqyRRfAFSktx59PyJr7ybwlisjjRdDVCvgl7yjHkByBwBrNk5kJU0eo7UB6BVzwePa9DxPRgDaFvsNop0WfkTLMuVNo4lfe9nl6nOiNXZUdnffffdh+B64AQSjn6kDKAE0jTqAVpJv4B0QM2WgxJ6EYzLpX2Mjrey1tYy5l9dcc81mtmHKHvf5OfVz9TkBvXRU/uo4wH7FFVccjqXqx1bysNhqGORnr1CvNaqfw+ThS57AIQfp+geGNwb/b+v+A3o/10VbwaRwV3fy33TRELOFJP9HF+/v4mjwnchhUDEjoXTFjvKT8jLF19T19N7cUUNYy3s2xgtQEkk/Acgx2ltcYzSjMscXOvJdE7xGh395PSNltbY8LM4gnxLe1mHaGgiNXc5cyCEt/+mhoV9zCbdqMJUfnq2idQRwHHNDAn+G8K688soQrT4P6gdwTR68q9Hh6T7tqXOeKmCTPbG6d6tv0MqbfQvv7+Zd8i6W+BLQVJ5KXmfnOUsS0HNMIxDAHsCsrNS1iE6V5HkprVP76shFBoD2/GNxzPEbC1906eLUHMH0zou6E0jt/0sXekerh9/Qxa/v4tO6eH8Xz20oARZkfoyOa0KkwjIMNUHIgeHeTxTAMfg156QBbiUaeB4cfEfKrifGRae5w7/0TINRY0Vryog0eZAAtNIyovPmh8lPxHueeHU0GgFIbenRNWSd6rwjz51OcA4oV2/e8573HHguCf7IFjgC3p/85Cdnrzbvy/bYufQATfIHvo0A5cjjWBrpnjzJm7pr4+qa3vDEw9Ij/aAvFiNZEcszTS7AXvrMG/73tP1L83LenrvIAPCVlwrjK0cKxaZoNoH+3S7eOXK/f+kTL/2Z2uolXf+D/kvD87e//e3Fe2DJwA7TivyPNmB4Eod0Eq/D62t4RaNUI7gm3fQsABgBVBqy3C1NEg9rjgBgCcOvEWGMawVyyh3+1ZAItVZuSgvgFLaQEWBJ50t5iQAD3pWthn4Pguh+NOKC+o5/Q/k5dRdostULQFBy/iOPIrrqNGAaqdeHjM78kDmvnyC9EvVyLEkdJ8APkLKSWNwKZI6lv/QaW04XeSgBP7bKnD0eWOVsmD/SVizlo/ZzhvyHgf2w4GiPcJEB4Ls7gb6si1b6fl8Xf7yLKdi4+VO6+OIufrjFODsji6u7+Idd9G4Kr+lOvP89Xfw/u/hQF1N4QXcCSP5+F1+bLo4dVcRSRnyMfolrCaSVoDWsvIn28PqatDQGOY3ImjSOPRvxAOJdrNWLJW+NXLRhwzM6DHKtEBn+ZUwBsYiercknOWvEeNNKp0nfDKGW2lMQsOZNNMdty1Wm0tGgC3jnGc2pt2QLzNBBQ5il5KuT8Cu/8iuHIcQSXyI5pi/K0Lwvw8zaAPLIkcWxNNzTSbOKGJjiXZSvLct4jp+x+/RChwaPjsozAT7g7xSB6lg+ItfG5v23fQAjEj3+rq983NHFH+vi87p4Txft+3d7F+/t4t/tYgpf2J24f38XbSKdwku6k5d38flddP//7uKvdRFk931g4X/o4vsPZ5V/ShnFxHaU3hTQcz1i+LwvRvlL+Vx7lHYEADJ+8h+RwRqegTZpRY2qhgVojdJZw3vu8K/y8e6YkV2T/ppnzedStlt07jSUht5LeYuAEGW5Ba9JZupJGq7lZYx0eAyX8pwZni2lf8oL+LPymZ5saU/oIo8PMGxrly3mh6rn5G1FN6B94403Vu2spXKfOrIf9FgnicePZ57seUFrdtSm+Lvcr19kD6Cy5cm7uYs8fl/dRR67h7v4I110LS0U6U4PwUS1D09Wu3Th0v8Xdsfv7eK3dtF8v0/u4m918f/poi1iXtHFcx8Y72hINIaGVS9+eG1NWoluLQA15A3/Qm5DBCREGsMhP3P/NTo8ABGZS8NQbE3vHznlDv8CC3iNej3nZNu/r2HjvSitl+Sg4bS6MVqG+AV8eF14hkrQ68ugf87DKC2LGyL6jo59D4G/Up4sgOzee+89eMh447YMeE+risl8C/0wlxBIBuif+tSnVp1eMiU7dpoXPg3t8rbij6ePF7emLZnisV3/iAQuOgCU0/d18Ts/kuXJswe6Ox83cfePu+uAnngyIYGiUgyhF20cpmhMXV/KewKQUf6Wpjd8Lnn/ctPfAwCWAEJ68Ft6jIZy1khrJHKAtsamlLdsyNfYf7KRpmG90gGAkJcSXiN1D1CwkGTLRUgAOC9j1PNn/qBh05KAIYE/w99blFcqf3bKsLWheyufSy+0QZ+MeRbVE3PHatbPlM/hUV2wrQ3wR9bybfGJY6QjMEyn/S8rgcsBAJaV2IlRywUkw2xoJIQoPXTGerslAOAY3WE+tvoPwOWAksQPAFmz98sDGAUPeJbvmnzz/uUslJFfAKTm6l9eDo1vRC+SfvSP8gIEmQxfIuBTWUY3YT7Gi6FIwAe4yim/RFsZ2jT6Cd0+f6UW1aDJ88frt8U+jYl3uvuOd7zjMFXlhhtuKF5veITJhr4B2bxqUXudeM85AqN0iyeSvuKHjPfmKycvW76j7Uu2lD0dngPPe4UGAPeS/AVNl1FIYLKfxSgAjL7f5yXnXKWNNPRRALmGZ7yKUQ8gw8RjVAt441ljrQFZG7wH8EbKaE2aCXACKqWD4U/AsoS3jt7xGNl/bKtyVDeBP8AvslchfbMyF4go5TnjkQLKzPezOGKrAACluYV0oqSs6Zrh5NQp2PsbwbzedEoEQIFq3s4S+rpV+ZSiS9d1dpRJioC/eub6GMBj11LgDWWj+sd0b49jA4B7SP0E05wCbmtZnQJqU9eX0sdfSaO6NN30XARQ4V2sNRTCMEkrKi8Ncqn5V0mOx47mjmlEcuQEAJYCDcd4TPdMaAfSSstH4wq08PCUCIblALMtNwEGBDR+kW1avG+vQOA/5+svY7KqAf7YNcPrhqwBv1K8yw/aaS6heaY33XRTuFM3Jqcl19gvHkj6BIhayJGGuPf0Qi7hfckz8pcA3fAI4PWvoQfEsVU62SmqZwnc9QFeOndvTFZtFfCSEmrPPEoCDETJEAVpeJmiQfEjgEQFjbwflZN85aavcfNu7vtreWesot4/aTJ8Gp5awdyhnGFr+SXjyNDjmjzSRQsqttjVn/cPCCoBLMkTULUIYaug8cKzNDRwOYE8ef6UfSmZ4ovnzzy0kqCsnz/eHqBVx+X6668vOv9U3UNbx8ZcyIhntc/z2nMdEqAPyFe+vKjn2dunI69eiGTrKF+GsgX1LgG6BPDYlXQtHXN1fa38t36+eQC3lvAl+qXBWmJ7rEeR7uUco/SmAGB0Y14VN8czlCOD4TvyxCDnzknCey3wh3eAKAdI9fONZ6Cq1rAOEKCxyfHi8fTIby0ZAxcaitJzIzVIZFBiGxs6yzNluLBEZ6CvG+mcnhn6Bdpy6zc+zWtjd3jQovYHbwn8WUG91bxHZQVg0jsrcEvZJvIAtu67774D6OP1K9EZSGW25Kgu8vaZ26cDwdtnVbe6WaJ8lvAw94wOGD7xNhbIUV3qAz3nrikrC6wAO/rhqANDzrVsyBjPe1xrALCS1LeqOBS9RECnBI/obFGJVPYt6C6RnbSF3F4fT0GpBmKOX/LXMEeH/ABeBjE3z3N8Du8bbpbWWrAivxrjqYZgmDr4KWgAAEAASURBVE70v/Q0Pls0hjxpPD0lZG4VKl638hyhbeNhcsiZs5nKAUhFy5B3ifoNsJiLd2X3veCtFgTZcw9AA9TNVyxhN8kDOOH1Uxdsf5PTGUpyzTmyU8qDfqv/5vbhY22dzEl7zTt4BL4BN/WevUvevAT4eGXplWdE9jAtUJKfUmW2hu9TfLYBwFMslYU8ASYlFbkELZWuBJ2hCNAt0UAM6S75nzx4ufliWGt50qRFL6JGWwNQi2dlwGDzpqyVMeMvz1GP5xI98IzGmWc0CrCH6Wm40Oa1igb8ASlA0FZ1hocIv5FFMMAaPoGMEh0kc9MAKDxtAXzZoLTpMo9YqekR6AI1ALXhalu7lJDHUj1i36SfNvCmN0D92rq4NL3c58iJtxifgjpz1113HeYk8sYDejx7eHfOK72V/ufm4dTeawDw1EpkBT8qRKlQihY6WxiOPT2ADGTEKwOgMEg1gsaf5y5aBhr33CHvtfmkM4x5jsfG8C/Z1jL0vCMWf5ROz2R/3oyIniW5G0IEULfaExHoTosecoGKDobGHOAtAd4N+5qrthX4YwN4neQ9usULPnn3gBZ6D7SyEeYR0q1aQZ4M8wJUOnuA+CkCPzZNvePZJf8U2DjyIrdcPUy0LtdjA4CXa8kP8l0KuJWi02cPzS3o9tM4dh4BgPiOvH+Mr7F7DGTU+wdso1PLAygtaa6dR0a2hn5ygOOY7OauaaQBTh6SkiHNVSox948ndcuFH2Sehn5zwYqytq0JD1oJTx35AQfmIpagNyxb5X7PPfccbFAUbAB8eAV66S3Pm6FJi1VKgP8h72P/2SMgVDmyFRZ16HxEO41jaeVcwx8dtjAD8EudPPaIjJQHUEgXHRv4y5Hyh99pADBfdifxZslKW4KWSlmCTl+4aAqlvS79NI6dRwCcd4Vaxh2YinpU0MBvLcMKtAB/a/WGFwmYiOb3WNn372mU8FkaGPP+8byUkLeGXWMe7QT0890/LzH0y3uo3EoNd9vk2WT+LVb7qgt33333I0ApWo+BLoHO8775RnDp6QT98uqfk3kCfkYJLHwAmNfWuz7NEufsO5AH8IlpkZU6AdTzlg7rnHLxTumFWCXyc55oNAB4nkqrx2sCRb1LodNS9NApbVAYLjRL010qMCCOwcwJeqsa9hq8k30aAs7hNb1j+JfBrcGzNDWGOY0g75/h3xp8kq05ZqW9jUCshsxWH9GADm9YaQ9l4kujGx361cBboGKeW7RDp14aljXUXWr7mJRXR/Xg7W9/+2EqRIlFKugB+ymoq3Q4R/cTjSXHPvBji+SFHteoN1P8sYsWPSXQ5zlAD5A3v3KuQ6iDo6PTQkwCDQDG5Hdh3i4B3NAoQWco1AQAh9dr/Y94ABMArMErPskq6v0BStYOx+bmj3ykt9aLR8+AnVorJQ3dkW3peZEAgaHUaJmRB++OBjTqpRorS/SjQ78A0P3dtjEAatRzgx97BwIxV199dXEwo7yBPx6yEtvT4Pctb3nLR4lWJ8v1rQJ9NR9UuQHbewM//AB89JTeq/NWGhv+Vq/2BKRblcEUXeXOXrN/OlZ7hQYA95J8oXRLVppStErRSSJiOKLegkRr7TFV1NxGtSYAZEiiC0DkFyCrBax4/zSEa+WLxxzguLb80/O8f+asldRt5WVYWcMcDejwKG0xBw5vaeg39/vE6rB5f/gztBcNQI0OwFOe8pTitsEQpGFfW7yYlxkt8+SpVN7yjy6vZYkh/zE5qsO8rBaXqFfKTMcgmo+xtOau4YVnGuiz4hsPNpN++tOfvtkipTmeovfpss6M+sa+JyC35uhZgU2hx3uFBgD3kvyJpauiRkMCaqUNDd72AoCpoq4FKEmWDETUu5NozR0ZpGhaaAi5Q95zPA7vA4A5K6TT8G8NvSAT6ZWeYwZU8XwM5zcNZTT3X/3QwGpYt5AH4JKGfnPrgZWm7EKJhS7yCuBYkFFaT3moDCvz+pX4djD95knE5zOe8Yxw/ZzTBWAC//RVx4LOlrbHczy4DyApJx5I5wCo8tKx3IOfJTynZ9h8PKdIps7TUcdTPVOmQLyoXqRjOufldp7+jx1dU1Z7hQYA95J8MN0SgK3PAnrRiomGyhOl0+fLeQKWw+s1/suPSpqbp9oewOjQGkNXc16dBjJnPzVDdLW8lDxCgFpJsEEvgI1cj1pf99GhnyU8a326ztXp6NAvsIbHEt46dB588MHDliVRXR/m1Zw0XspSn16TbwtUDHNGvpM85HPsPxtJLjaoBlzJuqS+jqU5vEanefkAPx5p+ghIm2/Ihp5KSAAvAbp0TCBPhwfAo1+i6TBsIu9tulZzjvSWcmsAcEvpnjPauSAnZbMEiEy0+sdTAIB9fpae45tMtxrq6fNB9gxXdEK53m0NfvEuLWGtB4xHzrs5nsNDgit+yBXoKOEN6ifL+4f/6FxLOsbLUvKLFEM+NYy5QFXjCkCap7e2nPt8OOcpMe+PZ6v0XEzbsSRgmdMh6fNKZ8x1RNNKW96vLYMOCqAp3S/5ki/J6lDl8kf/6DIdNK+PTgO8VjdHyzuXp/57ZEJvAFJycmSTdTzVvQTo6BOgmq4ZSYm2h30+TvW8AcBTLZmFfJVS0gRWFiY7+pjKVoqfYQJbDG0N0xj7r7eYm7YeMbnmvj/Gz9Q16YjRXn8tYCUfyQiv1RneP4a6hlcBj+RaclNleqHRLLENCi+TMs/dk29Kn1wHtIFfK2xzZE1uho6B5yioAkKBHLyU9nQCavjkNYsCSzKzZyB+n/a0p23aSaFHNtO2nQxdEmvYmqQbALO5seoj0Lf3vD7tD7kDeQnwAX2CjrE6oiPjHPBba3cOhC7YTwOAlQqUcpYMW9CLVoitACCjGgU2ubJnZHMaP+lF3l3LL++fHnekAQB28Vyr5847lAOs9Ohz3lsrU89rSDQc0brRT1ujyVMS9WAqK8OWGv6S/CVeASO6nwveABMdCt6/SFD/gT9DcIBGyQD4iTxW0fKgl+b7oXPjjTdu6knnbbOhtI4Q4LV2FX2uDJUnjy7wB0gZ4t1rE2l6kYBeAn2usQ3qrA22bSnj/xb1I1eGp/ReA4CVSmMLBYw09sNslwBvJWgM+fIf3ZJ5HUtj6hpQlLuwQgNdazgVAIzqGBoa/FzAOyXDseu8QwDg2n310ntbD6vhWVo8CCU8dUkGdJn3rwT/QAAAEPVaJd76R16dNG+vf33pufcNC/q8WKTukpd5ecBGyXKQD/PVLE4pAf54Yi2+sMjFtibRujglZx4uwA/gMRTOu7pVWn0eeMINawP1AN9NN92U3THo011zLu/qDr2U/zSCAOyl+YbqQg37tYbvU362AcBTLp0jvDGMAMYpBTxtYYw0xEvopuHaJc8ulRuauQbFuzUBYC5QTbLQu6/l/WPMyWatZxew8E40rynPx462r8Cj4aJSAf/0QqMVCcC6xjB3bt6xtNVjHh4rSHP0QX1NixGiXjWAg8yAnZL1muzMJywx7GvRgy1XbG7NS7lFUCY8lYZ8dZpqrCiWD3UA8AOW6YN0t+hwjMlMnpU9L7f0dcbUGzIGfJ3XsANjvF2Uaw0AXpSSDOajBHgrQWOYDTTFJV4E343k7i/VYEs3AgBrDqca+og2tmkYeVgGW/zXezdstbZR1yBE87k0P7wMGpm1PB6jD3jwVizR52N00ka6Wwz9qUc6A7lfJ+H5U3cMwUWCBh8QBdJKdqSUqyFl38DNHd5O+QLKgF1exK1WpRtaxq86Lp3ScyBTXvpH0xTki74qx2c961lVhpnpjbQT6NNR5HE09xPwzemQ9PPVzj9aAg0AfrQ8Ltt/Kl60oStBY1gAaApLGkyehyXPDdOY+o+ekOsBBABz353iaew6GWkc1nrThrQ0+obaagQAcG2DKZ8aQytetw7KTlolV/8C2Dwq0XlsOiWGHKNz68ZkiDbQZSgzR3cN6/PamXsVqYv02VBn+krEGK8519I8PZ7TiLeOLho+JqunPvWpm9QbaaTVycCP+XY5ZbJUTtIzvMrLCHwDXbyaW4MuOgdoAn0iPuQXQAf+SoL/pbK4XJ5rAPCclrRKEgVspbOOp4jRH+MngbC5vEq7NABkmKSbk6fETw3jpbHEZyQtgEd+awypSAsYWuu94g2Qz1Ie3jF9S9d4ifBXUh4aVx7qKE3gz9w/tEoH3jv85XiZ6DzwYH5jhDd0DM/y9EbBcl8+wOl//I//8QBuI3RTPsnKtiuRvPb565+ri7x+gNGW3kVpyg/gxeNHRkC3fEU7lP38DM/Vf15s6dJnOkdv0jY2OTZ3mEb7Py+BBgDnZXRZPMEIzIGsOUGUoDFMYymok7ZQ0nAwwrk9biAnFzwOZTD3P3n/IuXH+8fgl5TfFN8aGQZ/rWx5b4CCSD6neBpeBwDXeiiHNPr/6bGh1eiXMNDRaGqkSwc6YK6VvetyZOxdeh/Nozl1hvp51nL4GJMLwAH88SzxbOUGdsZ8P8DMNi9rOzFL0uUdf+tb33qoH+bcbe2BM+QKbF7ZfaOZdz3SkTyWP7oBNPNqStNcQqDP/E4gulRZH+Oh3ftoCTQA+NHyuGz/lQBvJWgMCwDNJaBEwyiUNCJRAAjglORnKJv0X+MW9SqhsXVDk/gFAHMazlqNBCBUejjckBo9jnqLgEgN9BZD9eazAb05PPLOet+w3ZL6mnRheATyDa0aeizlgQI8gD8yM/SbWyfZGCt9lSXwt4UnmlfMVjLm3QFGEVkOZTv13zzIW2+9dbO0lKmtYwA/oI/39YYbbjh4sad4atfrSKABwDpyLp5KSbCFVolQkqfED6O7xGB7jrFc8myiPXeMAEDvbtWTHvLNAxhtjACeHFA25GXJf/zmeNcMe9YIyTux1kN5jDceo+h+aepXWo1ZUs/xbW4ir6fvta4N+DJ8aE5dZIUooJa2UikFcNVDgErnxqKWXLmxL3ffffdhiNQwZenOEvqGz80pBH5Lf3f6WJmSSa5cpujSCZ5qK4h1WoA++xVGF91Mpdeu50mgAcA8uV3It0oYgRI0+sJNwK5/bex86XNj705d03jkeiE0ZrUAIO9dpOElOx6cHFA2Jbup68Cf4b3IHKwp2iWukwUgVJI/Hk/REFsk4At/pctJYw14yHOOJ1lDrwNh6Dg34MF+f0B+qUU+aBraFCKLUtgBHkR1eou5cerv2972tsO8WCCp1ir33LI69p680CVeXPJP8wlLA+ZjPLR7yyXQAOByWV3YJ1VUIQreNO6lvTR4WzIMomEs6bEhD4Y/17Omsch9V9pLg3zjM6fhTml4X9nngt1EZ8kRENIYLCnTJfRKPwMICyUbYYs/eD4i+qke8P6Zw1Zadibh09ccr1Nq8HnXIvmTN17IkvP+eCXVDx61XN7IBTgT8Fa6U8fbjD792IL+gfEKPzonhnmtAJcXgJs+ldbVClm5rJJoAPAcF3cUsKWsa1wYSMcIzej7iZ/+cSmw89wWxia34ZCH0o1FXy7pHOiW7wifvDfe30J+ic90BABLdxIS7RJH87sMhZeSBXBtCCy6ZQuvqXKKbF0yJh/1xrwzCyNy8qzRN7Qd2dha3gwV+mpIqU4IQGkxiS9WRGjyIKob9iKM1LGh7NlKnjKrnc31I/+I7R3Sr/Gf7ljUQQfUm7RfYKnh+xp5uNzTaADwnGoAA1IyJCARobkFAFxKszQAlG4CRmtl4l1AJ9IoLk2TBybi/ZNOCRpL+SUXgOEUg3LTkJXc+4+HR4MYBb0ADfBXEoQoA8O36k7O3CyT+4Fbw6KRwOsKAJWqLwCllboAZdQLD5ypXzngeEomOgXmE9IN3wzOkf0U7RrXlVfaA5E++kTfzTffHALaNfhuaTxaAg0APlomm1zRuJxqwFu095nyV9JQkpchmCUARyMW6ekPywY9IafBjbw75GPu/1L5HKMDAEYbymP00z0Nn7SiYCjRK30E+HWEclbBTvFi+Dc6Zw9oNjxaeusXespLpgFfW//Vd56f3HmDfXmV7BCoDxZ9mEdYgm7pekHHLHRRD8z3O09z49QNHksLmvBtf0JTEtbqTr/s2/m+EmgAsJL8t6gkW9DMFUcCgKV5QncJqAQuShpT9KSbkx+NkHeX8J0r7/SeBiW6eldjVMr7kvgaO/IcAOk1hsbH0p+7xvsH/JUqN2UDvPmCQyQYorUxc8kODn7QVRY5ABWwVZ7mep1KYCt8PYQdiC642SJPdOFNb3rToa7ZRianc7kFX3M0dRR4/MjWYjPAr4a9mOOr3Y9LoAHAuAx3oaBSJk9TlAGGMwfo9NNNALB/rcS5PC7hzTOlGm58A4C5Bjry7lqZ6ZVHgAFeS3gRl/CtATxV7x/+AcASXqMki7SdTATwKhtgy/56JYN6xfvHq7ikfvXT9i5AYNg2t4706ZU6t8+cxQjm/a3NUykepujY3PmNb3zjYRjf0PSp8TfGN5tu6sE999xz4NciFRs3nwfex/LTrj1aAg0APlom5+ZKqYpYArwlEFmKp1QIGpslwI4Xq+TQXfIAJj7WHDXakUZ/aVpkI60IACQ3jXiNhhwAPNUJ4uTAoxXZTqdfbuqD+XHR+YSG23h4SwNnK3+VeY73DyjwruG/UwmAn1W/NhheMmWkJt/mSgJ/hstzv7JSk19p6byYp4h3nY/cRUK1+T6P6ZVof3Pz3QBgruQu2HtR4JYAYEmxpIoxx5vnlgLFpfxFvHiRd5fy5zngj2wi4A3wqdFgKiMAK2erkTUyyX2W98/WL6WAO7DLOxsBvGQGqEVB5FAm6ortOnJWntI5X/yIbKo85Cf6nw7zUhlqP7WhSXpl2JenNfIVkqiMlr7PU2mOotW95HnLLbeEOphL0z3vz6mrpnywcSlqB5yzA+rNVCw9z3SNLBsAXCOtC/os5Z0DWXNZL0FjmIaGSpjzAEp7yXOHhxb+SDsXWKn4JecjTrGchn8jZafxrMErQ4jPiLdySg4lrltkEQFrQx54/4CROd0dvtf/bzWrRiPHS9enMzznVcSXeYVrA/DH034qK1fVfeBP2ZXaQHqtTKaepwNvfvObD8DvFOck9vlmSyzw4EW1ncvtt99e3OvcT++8nGsHhsAuATzHdM+RLrJvAJ2onrB5Oti8+DqX7jv2Izp7hQYA95J8MN2SgCsBqAhLJflJfKh8KtAcwElAce65RHfJEYjLBSsa7ejCjCU8JgC45NmpZwDAGl6TNP+vZBlN5WntdeUFbD3ucY9b++ro8+qCIbToql3ePyAtAiKHDKorvH/A0tqy0FAZ/rUI4FSC/QM1vvbpW5ufLfMAZN91112HIV+e1lMN9MFqbtvmmP7w7Gc/u4o9ODV5kINpBOqtyF45so+CTrKYwJ0ju5n+p3s5ToMS7W+uPBsAzJXcBXsvajxVoCiNoUiXgkppayRLph8ZxvVuqaHEoUz6/6MAkHwZuBpDwAkA9vk/lXPeP3PscgH/MB/o0cXInFSglAep9CpbwETIWexi4Yd5fzU6N0OZjv2XFws/rKitUd/GeBi7Zm9FX/ew2IM37VSDVeA+cUdXL6cFHuxzH+wBev4Dbzzbos5g2kcSuCvZCTslfWgA8JRKYydelgKtY+yVoDGkn4Dd8Prw/9Lnhu8d+89I5FR6vIg5PcFj/IzdAwAjiwO8L5QCPmM8ukY3AJoIr1O0S1w3T6v08K9GJNIhsfK39OIP5cD7B5Ss5Y2MNJTRTZ9LlBcavH5pLmLJz/ZF+bOy2j6EvKSnOt9VXcQjAGija57qHFsXlVWN9+U1gT0dKud0mc1LYM/CHOf0aG29qJGHLdNoAHBL6W5ImzEvFUrQQqN05UFziWEqDQClmwviAEdyWMJ3pPzwGPUA8v4ZwihdbsN8McI8gHrSpxaUszIrtfoXLQ2MhjU3KFveLVtulAzJ+7f2c3L4AWwMG9fwFi/Js/lqvH6nBLIAUgsogOS1Ml6S5xLPAEAWpSjHZz3rWSfjzS2RNzTYGtMU6Lojbzy7k8Celdjm1OqMbm33SuVpSzoNAG4p3Y1pl1TgKC0NaemA5hK+PFcScKW85HjxGCDvLeE7Ii88ihHvHS/K1nzKo7ljpzqMYu4fOZQCp8CfxjXi7bQSE08arVIhgcoc7x/QIEa/Z1wqL+ZG8ub4ksapBJ7Vd73rXYfh6JzFNVvnQ/njD0DVObGKu6TN3Jr/Y/R1LnVQRKCP5xzQMy80gb1j71/O9xoAvJxL/1LeGYcoEChBY1gUS4dhSwNA6WrEc2QCAEZA2VAGU/95/wDNiBHnASwFfKb4dD0BwGPP7HWPhyCt1ivBg33TosAtLf7I6YBM5UE+RQ3/2mCenQb1FObZqV++SAGMnoo3UnkZUrUB9SmCP/XPamSdnS/90i89SR7X6KS2RkcL6BZNTSB3nRtD77z5ObZ7DQ8X5dkGACuVJKUtGUoCruTxivCHnwgYGUsbX0sq8hYAEAjMCRqoGiE6/ItHALDU0OexPGuATmmeVp9XgK3UUCudMfRk8nhuQIN3y7ykkoFnxAKOtXU0AcfS/OTm7d3vfvfBw1N6b8RcfuiP1b7XXXfdSQIr+/nhj47ffPPNVTqnubI89h4bD2gDfDx9bIrhfx0BumAqSwvrJdAA4HqZncwbS8DRUmajtEoC0sTzUlDJOJT0TmiE1zaUiWfvlvTcJLrDI/AW8TSSLRC5tRdFOox1zqrTYZ5L/wfW8RZZrdvniVeCRzXiVQX+NGYlV9rSFXR9JWNt4P3T0EZ0bW2aU88bhgZoAJmovZpKY811ck2bPJ/aHoR025c8zEtU7qW2OFojn+iz7JPyBvoc2VWeaHMsAdoadjaah1N/vwHAUy+hI/xpXEsEdKIGtQSNYV4AuyUNT2kPIHq5xgUA3BpUkRPjGAEaGghltkS+w3JZ8186ZHKKPXTeG3yV6jwAgNHVxIazSi8gsNoTX2vLwNwqwPHGG29cU+SbPKtOmr92xRVXFAXHuczS6f/wH/7DYS+4nGH13HSXvAco441e33bbbSfrfZ/Ki3pkX0Jea3YYuL711lsP8/mi7dRUmpfr9QYAz2nJR0DKWJajFWsrALiEL88seW4s32PXIl4875YCFGO8pWuAVcRzxXuRO88x8bDkyMMGqOZ6VJekkfuM4c1SQ+D0X8Pl81m5QZlovIGcUgFf9qW78sorV5Pk/QNGIx2N1YlOvGAPQnX8FDZVJlP75zmac1bS9kxkf9Fl/Bgiv/feew9Do4btT7HejWUG74Z2AT/6amuaZz7zmSc5rD7G/3m91gDgeS25ju9ShkfliwY0SvGTeEFziQHTcEbAUEovHYG4XM8YYJbrPUzpLznyAEaAJpnl5nEJf+mZBADT/1M50i0ewFJDYybYC5G5jrxt9LhkuaAprF2YQj94Dm0QvHcgWwDQ0N8Se7A1v1bTkqsFFTXq+pL8WDVurp9OCOB0ilMuxvLBjvn8HODHdlqh/IxnPGO1t3qMdrs2L4EGAOdldOGfKAHeStAYCnrp0O7S54b0p/7nelfJIPfdKV7GrktDjAAFDXyNoWoAMAKKxvJf4pr8a3BK8cZzZ5g10gkCKkqvIjWMZr7UWr7MuwIaS85FzCk3dcqqX3O/osPrOekP3yGX+7vPzwEpp+AZxZ+h+te+9rUH0OcbvhG7MMzvVv9534E+4E+5Xn/99YfO2KkA6q3yfWp0GwA8tRJZyA/DWDKsbSCGaW8BAJfQ9MyS54b8HvvPA5jjafCesLUR02tWXjk8pnwDQFt/A1i5AICn6I3QAAF/ERkmWTryvAApuUF58HSV3GsPMJDPtZtSA8aAo5Wte4e04vMUvj8MoNvuhSey1NSBqHx5se+4444DyOetjdrxKD/H3mcP6BVA72g4H2A9RftwLB8X6V4DgBepNDPzomJGQ2kQhh9errkGOvE+99ya/OV68dLw79ZGWDp6+ZF0gMitPYD4BIrXLj5YU1a5z2o4S00bMPwmRkCBxR8AaUnvjblUPIpraVpxiZdIfnLLpf8emRpuBUQj0x36NHPPbc5tLz3z6myncwqBzvD8mTNKRhF7sGV+2BpeUx4/HR0dkltuuSW0WfqW/F5OtBsAPMelXbLCR2mVBoAJ2M3xBawJc88tLWbpAi05Xrzc95bylp5jUCMNIj7FtcAgpb/0yPsHZJYE50vTPvacMgYAS+3/Z/gXmMzRmcSnb/+WHP5VvubwXXPNNSmJRUf1idetpCdyUcIjDwENtqDZ20OkvllVa7+5kgt0RrK8+JKyff3rX38o31NbhZwyoZ498MADZ29961sPw7z2x7S4I1JPEu12LCOBBgDLyPFcU1FRowAKjZIhAbs58OA5z0T5T7wvTTc93z/WAoDJA9hPe825XjgAubUhPtUFIIZa6Uvkc219eQOAaxdZ9N8HMPB01VVX9S+Hzm1IDXyv9XLabJdu+ITWnoHHDRDd+3Nv7JohS3Mhr7322j1F8kja5PLGN77xsL/fqQDSR5i7dKJDY49Eem3IHJ+lbPQwrfY/XwINAObLbtc3SwKuKC3vA04lK3gCYnM0EwAsVRgpH3PAcyy9WgAQYIiAFwAw8v5Y3seuGcI7lYnyff40SoY353Sr/87UOTDOmxhpiM0tM+Rackhe3uyftjaP6bNva9+bkk/u9eT923sRCnkYErcPXY5NyM3/1HtWQ7/lLW85fHbOp89OLej08fgpP95nQ9NbjzScmgzOEz8NAJ6n0hrwWtJIR2glABmhMcjaYWHHEoMr7ZLpAnFL0h3y63/UMzdGc+xaNB0AsEYAALdeaJKTD94lgKtEsPjDHMcIeAMAS3vccuapAbIWjpTeiHqtnAF08xettN0zkIWvaVhcESnfUnl45zvfedjjzzYvOeVbio8xOjrOPKX2RzRs/8IXvnC193mM7kW6pq3SeWe/tTPpyB7tFRoA3EvyJ5QuZUwgLoet9G5JIMagLJnntoUHMNfYq9Bbe7ySEVkim6myZIRq8Alo5spyivfodfIDMEo1oDlf2OjnQVkAXpENpPv0IudAF/AX0a1I+uldW4NYUV3DS53SHB7pydve9rYDmAFo9gx4ueeeew5etWc/+9nFOwvRvBmSNkdSeM5znnOYKxmleV7eV395PZdGHWKLd7SV6plpOHtub9QA4HnRtAGfjEKpgFYJ8FaCRsoTYAeYzoXSAFCaaOYE7249r04aPJSRYRVGa+3csLXySF7GUwOA8g6olxpaZMQjgEljgJe95UTnAcC957nZtsY8RF6uPYNv6ALmT3va0/Zk49AxN+Rr2xTD0HuvzO4LQ1lZGU1vbNNjMUru6Emf7qmdsxe89ObVmtvIBisPoM+5ds8owDACezoP/evqudiXk1GEvUIDgHtJvkC6pQBXFAAmMFqKH6JBs19JpsS1BQBcku4YPzUAYBo2yOUR30BQBECO5X14zfAvQ1dSJ4Zp5Pzn/eNZisgvJ92pd4CMkqt/p9KZu65h03nZe8ie98/cNo3mXsHQL48b8Ld1PTmWR7YNwAI+gL9SnZZjaS65x37YD9GQL8/1i170ol3LawnPS59ht9QFEeATLfJiy9RTK9KtBgd22REjKeKp2bml+W0AcKmkTuw5YCPXU1U6K1EAOcbPUppkULLy5QJK/Hq3hgcw4nHCI93ZumE71QUgJef/jentmmvKwXYeN9xww5rXNnmWF4e3omRdWssoT4iG1yfW9grqsUUMhqBLTRPIzQs+gFHgb+spG0t55J01NK4j+vznP/8kOi9LeR8+xxYkr14CezpkgDagJ1rc5WjO8J51Y8h7qf8NAJaS5A50SinkUrA1lcXo+2N0lwI7z5UEM7kgjgzErT1LDG8EAOq905utgaoh4FNptPr6xQO49yKHxI/Ghu7uLSdlxctUchualMc1x3e/+92Hz4HtKQ+rbOnIjTfeuIb14s+SxYMPPnj23Oc+d3f9kDm2zUbO5vpZFGOF79a2rrRQ5UEHw96EIq+ejirPHrAvT8Dent7n0nmeo9cA4JyELvh9lSIa0CgFRhMvaC4xMKW9WQAgw7A24ENYwvNa2v3nSwBAoKN0efV5dM6wzs1XUsY8Cgzw1oAUT8qWR+XYCmCeAPdrNAKGlgy5bl0W8n4s8P5FF7Mco7/knrmQ5LHn5+d4hO69997DFislO5VL8t9/hleY98+Cj2O62n9ny3M2x6bTtsP58i//8oOneMv0StJW583XA/iAe/X/cY973GHOomONel4yP6VpNQBYWqIV6ZVsOCK0tgCAKu4SnpYCxaXFAsjlgDjvATFLeF7Ky9hzpQDgGO1S15TJkiFgedGo6HXXCIy/sj0G8O37Zl5TjYbBkKf5RHsGZQUAagz3DDxevg17rGy25I8cgC57J+7pIeZ9vPPOOw/TAvYegiZvOvqa17zm4Km2tcueK7OXlj+7oh4Dfbyogi+QWFhkfmlkBGUpD+flucsBAH5hVxj/oItf1UUtzcNd/Fdd/Ptd/EAX14TndQ9/XxctUbNV/m928W1d/NEu/r9drBYYrJIhAlzwEnl/LB9oLvEKLQWKY2mMXUMvAgDHaJa8xrhFhshqLACRhvKba8yBRJ6WHHnnyDTN/5vSVXyLNSbbK0eN/Z5bQJChYWjlUAuEj5Wb4Wd8WEm6VwAWdBBuvvnmvVg46J5v+wLCew/HEwLw9LrXve7w7V5f86hVT3MKgA7z8ClH4A9QNX/vec973uGTj6fMe05+S71z0QGgbyu9rouf3UWg7x1dfHoXf6CLAOGzu/j+Li4J/2v30H/XRV2Kf93F3+iir4Lf1MXbu1gVAHbpFQklgORWAHCqoe5nPBew9Wn0z3PpJQ9gn9YW54BDpAcL4Gzdi0/ev7nyS89tIacxmgDXMXDnPs/fko7HGP0113hWlMMcSF5DM+dZw2M8XjXyPMUfoKGx3mvYNQ393nLLLaG6NZW/JdfZ0F/+5V8+dO72XhTEBtp6xipfC3J4z041mELCc6sDQYZ4NX/Txupz9udU81STr4sOAF/cCRP4+/4u/kRPsD/cnf9gF/9hF/9G7/rU6Xd3N4C/f97F/7aLf9TFfvi4/p/zdJ4AYKSybAEAGaElPJVOW7o5jeF5AoBbe50sKlgCMmsDQA39MU+X+8cAYsl6neb/laS5lhZdN9/sKU95ytpXP+p5wJlXOqdjYi81PDzpSU/6KJo1/5j3x+t2TDe25se2KjoFFn3s6a3iBb3jjjsOe9y94AUv2N1DPSZ3Nt8+jYCf6Qt0B+iLfI97LJ3L4dpFBoC8f1/Rxfu62Ad/yvXvdfF7uvhXuvi3u/h7XZwKVgT8z118oItj4M978zsWe6pgKA18IqxtwQuaSwyhRmzJc0vyh9bSdIf0cucODukc+48/MaehTXR5ALf2tGjUl4BoAHBrMNrPNz05BvAAwFr8aOz39qwYepXfucU6SYZTR+AFgLJ1ytrw0EMPHYBXjTmXY7wph7S4Yex+jWuGLs2BvP3223f1CANT//7f//vDkOltt922uZ1YK1s29l3vetcB+LExFgwZ4t1Ld9byf4rPX2QA+OWXBP6yEcH/Tnftji4CiObzvbKLU8Ezhnr/SRf/tItf00Vd5t/v4hu6eGcXz20AeIQl3rapTCZgMnU/5/oSUOmZXMA2xpN8CDmA0rtbAysGUFgCrg4PDn4MHyvnCIAckBz9ywO4ZEPhmh5Ano1jXlp6xJNVY1GGfGvAosBrVPgrLtoSQ+MZqftAM7nlLJwgc/O19vz6iGFOQHyJx3qFaBc/qgxsrWKBQq3OxxhzNuDGx/XXX3/wqEV0Yox+5Jr6wkvrO8NsrCHyJz7xiZvbsQjP5+XdiwwAr+kKAbr5lYnC+NXuOnBn7OEYALylu4/OH3TxzV28/tL/7nD2MV18dRe/qYvmBJ67wAjnAop+ZksbDIBqjibehbnn+nweO09p5tArJcdj/KX5fzn8oQsAoVGivI/xycs4N7eNrD0XWdByjIfhPYDrmKcAL2RTAwjwOvkU39ZAfCiD/n/6Cnz4okEk8BoZOs3p/NhyR9hr6NUwPP4Nu+4RdEossuDJqtHxmMoj8IcPW7zkeHGn6Eavm9cH9AF/toqyLY65orn2L8rPRXz/IgPAx1wqsA9OFFy6/hkT99Plz+lOAL2/08W3d9HCkbd08Qld/N+6aDHJz3axuhUpVRE0fJGgMSnFS+IDSJmjmQBgjscupdM/HvMQ9Z8bO+f12nrPrgQAx9Jfci29PyfXJbSmnlEmS4aZyUu51QJBGttjAJAny/2twTG5ncL8P/lVTtF5UwCU4d+cwPsHcJSqv2t54P0DKI7pxVqaS5/XAXrTm9502FMvCsKXpjn2nOFn4M+Q76mAP7oJ+PniiPIxF9FXalooL4GLDABLSetjLxH6w+74tV20ClgABr+hi1YW39bFZ3Tx9V0cDYydHk0/RPbeSuCnTy/nvAR4K0FjyDuPzdwwIiMqlAI06OXK1btbN2QA6pxnbSjH/v8EAPvXSp9LgwznPEKGdeSlVNnN5YM+HdtXzTDm1gAej2TDA/g5n6NfuV/g/QP+Ijqbhn+PyXUqh8rfCs69Fn/YeFr6vF57BF/VIAOrbGvVgWE+tUnm/D3nOc857H84vF/7v7rB2weQAn7f9E3fNNsG1OYxmp7FK8PwoQ99aHip2v+LDACThy95AodCTdfn9gJM9w3/JvCXaFk88gtd/I4uPr2LkwDQ3IphyAUb6NTwVAz5nfofyccxmnOGsTToitADziKN6ZQc+td5bCKyrgEAefZ49eZkofGrNfxLZks8gHMdjn5Z5J4DosBxDbB5jEcAMAe49Wmm4d8cL+7DDz982KqjxpB7n+d0vqf3D3C+++67D8BrLztu4curXvWqk9nmBSDHDzBkSP7KK69MRXWhjrne8q2EkLxbW9Hfky7PnKHbqf0F0uSXqTmCiXd0hAQEP/zvI7/vv3T6SR+5tP0ZMFAiaBzngNZcOiVo9NNAbwnNCGDrp5fOc+nh1btbG3MALpJGLQC4xEtZEwCqK8pnaqhP+WmUj60QTjoSPfI0Si9SjlEe6AEvpHlVkQAA5ngy5Z/3yVc39ghWP5t/ePXVV++R/GGPPXmPAvBc5m2788pXvvLs6U9/+uGrN7l0Sryn42wo/CUveclhLuhf/It/8cKCvxLyKk3jInsA08KOrxwR2qd218zl+90uzq3ifUX3jNUG13VxLCTX3n1jN9M1cxpqeBhSerWPURA5xu+cF0lDIpYKaOXkI/Ewx2+UT8Yy4jXT8EfeX8I/sLUUANZaBcvrJt9T5cNrSTa1AKAFIHsGAIjnbQoQL+ENkAWac1b/Sp+89wJAvH9P6D73t3VdGJOjjbd538xr2yMAvq94xSvOnva0px1W0u7BQ0ozeSHVy6/92q+9UPP82JRUR/rHn/7pnz6MRqQOJ31gB//m3/ybSSxVjxcZAL67k6QtYKz0/b4u/ngXU/ih7uRTuvjiLhrGFchCl5BrzbspvKc7eWkXzf/7W1380S6mAFxaBMILePRLIHp80QnXKdGSxwReIjRzgdNUmrw1whwYk+5Uoz5F+9j1XA8gYCaU5GWMT+lEPEca3a2HHhm+ufl/8kbWS4DimBzWXpsb/nWfEd66/PCtMdhr1WuSm+HfEt4/NHKGf3n/fJO1hrxTntNR3gFQAKh2UH/TVisR8J3Lt3z/4i/+4uGTe3tuvcP7/4Y3vOHsHe94x9lNN9102NYlYtdy5RF9Tz4AONH8fscE9nSE6bdOJZubjuY2pnNHnRA2swHAaGmMv+8rH3d08ce6+Lwu3tNF+/7d3sV7u/h3u5iC8Qj37+/iVV3sh+/t/nxJF31BxD6A5gN65i900RLa7+pi9ZmccwCp42lRiNIpDQATKJ3jC4iYe2aRAC49lAsA03sleRnjuwQAzGmwx3iZusaYzYFM8tIDXgIUp9JZc50H8NhcM/e3Ljv80msNxZ4bQOMBEIgCAMO/GrO1gX4YgnzGM56x9tUizwMdvH+1Oh99pnkeAZ09hp4N+b/85S8/e/KTnxz+8ks/T2vPfavXXD+favvmb/7mczMqRm/pPJDHc+moM6HjaAsfK6h9L7kP7oD8JXZF2ewVLrIHkEx58m7u4g918au7yO/+cBd/pIuupYUi3ekhGE8cG1N8X3f9pi7+T138ui7e2kWl9q+7+I+7+MYuVg0JJEUTLUGnBI1+PhK9ucrjubln+nTnzgGTHICUAOAc/eh9ADCHv5QuD+DWoGvJELBnlFskLylPS47Jwzf1LABYwyPDY0BXNBK1g3RFsqBHkU2HeTnQyRn+tfLW0O9cJ2EL+WiwbcFz882ahLpBh+eee+45+7Iv+7Lqnk/6zeNm8+Qv/uIvrpvxS6mx1eb6+eKJuYfXXHNNUdtdMlN4pSu2yElgz9C5TiSwJ+pAOe6hxyXzetEBIFkBb9+5QGgPdM983JHnfrO79wOX4pHHzt+tEiCqBI0kuaXAbulzie7cMRfI5b43x0//vrxGPIDexeeWoAuPwN0cyEzPlNSZvqz653ha4gGsMSwLOGlElg59Aow8JvaJi8rq/vvvP9DigaIDtqPgtZgrq74s03lk9a8GlfdnjwB8WF2ak+cov3fddddhv8Qc0BxJm/7bVoXOGfaO6lEOL+wOrx9dftGLXpTVcchJd+07QJ9taAB1NsMCJ3VE/bMPobm7e8hvbT7WPH85AMA18mjPZkiAkSlZMZbS89zSxnRJtnKBXASYLeHLM3gTcufK8P4po5LyOjDU+zFMwpM218B6bu6ZHtnQqbTI7tiE/1oeQABwjcfAcLFYom6lxouuir6pavgqB4zxovF+rA3KQSPLE1U70H/gkweudrDlDdD81V9tEKpuAHoNV3791399ET1ay7369wu/8AsHPbav394LoIb823YG4BN5p00PeNaznnUYpt9jmsCQv63/NwC4tYRPnP5SsHUsG0BFiUYqpbEU2GlQSqaLXg5Ayn0v5XfJMQG43Pym4d/c95fyyGs1l0byAC6hGX0GP4Y7p8oVGMJPjSFgAHAN4EorBaMy8L501StB+fBsrOHl8GL3Q16GwwzhrQ32etOBATxrByDM0Htk6DuHZ/J685vffPjGbg0d6/NI3+68886zW2+9tYp+99N2Lv1/82/+zaHz9Q3f8A1HO2HDd7f8r16ZCwr0PfTQQwfPLO+oTclrl9GW+VxCuwHAJVI6sWf6hvwUWNOAlgxLQenS55bylgvkct9bypfnNCQazzlwNUUTANw6SGPJEDN9qdW7BgDJbiq4Dxwu4XuKxpLrdFWDuObrP55f4zE8xgePq8aNtxMQyv38mAnridax9Mbu8bAYAs3V4TGaS69ZebxG9kvpzj0HaJBX7YUf9M1XPgx577HoyEKjl770pYfV3r62kjtyMSffNfdNg3j7299+AH46QObxfd3Xfd3JeSXX5Cn6bAOAUQme8/cZimjlRKNkAKiWNBLSnfLs5PKzJN0hbXxsDSASABymvfR/9P0l6SwFgIaFanmBpHUMbKbh35xyXyKT9AzQK65ZAMJTkbPRckpzeEw6esMNN2TXG14821nlyIvnMGfl8DAfa/8D+YZgay+AUB/uu+++s1tuuSVLXmvz2X+ed8vw5h6fuuNV+7f/9t8evJ5We+foSj8v0XPg/9WvfvVhCoDh3e/+7u8+N6uPo3mfe78BwDkJXfD7wEsJ71DJSr4UUHmuZLoa6BxA6b3UuG6lLlEAF31/Sb7o0ZK5feS15Lklac49sxQAztGJ3ufNswBkaWdLJ6jkEDD+zb8CQCPDXABgzoIZ5cB7mPNuVPYACdBaypu6lB+rSNmT2hteKyP7DT7/+c8/2vlZmo81z/nG8S/90i8dPnP3lKc8Zc2rxZ8F+gE/nj8g3DzIY9tBFWfgHBBsAPAcFNKWLAJR0VCCRp8H9JaA0tJDr7mAcqnHsp/HtefSOObJmqNXCwAuAcI1ASDvz7GJ5+5HANGc3NP9tWDO88DiscUrifbSI5qRz6+pHxaAXHXVcJvUeQ54/3h9S+ZnPtUPP7HX8K+FNha8lOykzuWZnXjNa15zmKOZs1Bnjv6x+4CWL1591Vd91WHo+dizW96z0IgM7Ltob76//tf/enXwv2X+StJuALCkNCvRYoiXNLRL2YkaqFzgNMXfHD0byfImeM4qSRXenI5IQ47WXLrH+M3xHE7RG7sONDHuuQEALKkzY3zgcW6IUx6A+wiYHUt76toSD2CN4Wh6usb7kOb/Retmkgu54yGSVzyhk0Mjzf9L/NQ6Ar3sQ+29/8yB44mrPeT91re+9TDntfaXTuTVat/bb799N/CnTbjjjjvO3va2tx02u/6e7/meNtQ7U9EaAJwR0Kne5rkoEYCeUwtzQIwXIfHtqFGKDikmejlATvqlGuqpspBGDm+JHgC4tfcFsJsCmcCh+VCpvGzJYUgu+kmylL+xo7SmAKBGAr/ue87GxhYJbFWO5hquWXW71mM4lv/+NfkT5gB6/53hOe/fsRXVw+fTf/LlAaw9B0/6vH+GYCOdw5SPNUfeP4svanV08EbG9PqFL3zhZD1ck4elz6rbVvv6ykjO6vCl6Uw9R78MeVvgQT+/8zu/c5epBlP8nfL1BgBPuXRmeNuqsZpJ9lG3VcCSvMzR44Fg7IAawfyepXOrHsX8pQvSFHLyEQVnl1g4eoiC3L2HgJUPUCMfAi+uTsyWABDAU65jjTAwnTpRPAcA2parRNcONfO2lZwvZ0FA2gvwqKIducnLk/M9c55HZbEGAB9hY9UtADBnyHpVIoOHASLDobUXYLzxjW88gOySejPI2qP+ql++LwxgP/vZz37U/a0v6MBZcELe5vhZ9dzCcgk0ALhcVhf2yRzQMxRGCRpDmlP/paUxMayUzqeeXXo9AgC9G/HOLeExCjL3BoDko2EC/FLYEnBJQ+PAIznWOTA/CjBRdnQISNhKh5UdXtZ4YIHlktt3AIA5Q7eprBwBwDUeHl4wAEzZA+E2JLaqeaw8+ulEz3UOLQCQJnBfey6cxR/A9padm6GMDHPb67D2Rtf2OJTut37rt25ersM8s/8veclLDiMJ3/Vd33V0ru/w3fb/wxJoALBpQlgCCTyFCV0ikBrlY/S4+hkAPc8S4EsjDQDkgID07jF+o/dKAMAScprKhzIDMo8NxWv8EwCsMSwHdI15/+RBB0JZ45tXK8ezNSWL4XXeP2lN8TJ8ngcJ75Hh2iFNANA82dwgD4aRH/OYxywmIc88mck+AAu+A7v159DMv/NJr1S+5qZJ1+e8agTA175/0q8VLL6w4GTNPNMobw8++OBho+lv/MZvLKqrS/gy3GvY2dzO27t5h1vatiX8LHmGF1znxFQKnSl1Q0dvatrMEprRZxoAjErwnL+fjHM0GyWNHZ7m6KnwPAlrGqRjeVyS5tT7UXA2Rbd/PZrG1h5Axk04Zsx4wJQZXr7gC76gn71Nzo8BQPqjsWSEff5pywA8yfucTice8OT5Y7JMzy450u3oAhCNljmbxwD+kBeAExAT5B3wqzE8CegBRH3bFvV+DvM2/M/jSKekyet4ZcWhSCDCJ98MgdYK8vjv/t2/O7vtttuqAWt5Y2cMOStf+fX1jlMKCeQBejq7nBTpCPSp0+ZKpg3Z1amaoH0oqwYAhxI5B//7hq0Eu0sbpqm0SvOD3hKePFOq57c0zTEZeLcUH2P0XYsAOPwBkFsOvTF86M+VG88tD9eWvCQZHgOAnklz0pZ65hLdtUfGfs3wL0/bmufn+EGPDkQ8igDkWi+phk2aycvx1Kc+dVY/5vKy5L7hV0BV+dNH3r9I3pek+frXv/4A/Dwr7bvuuuvsxhtvrKLnd99996FDtbZ8luRr7Bl1/WUve9nhazI19/rTMfrZn/3Zgy200CPV3zEea11Tr9773vceAKk9EA3/s206Oynaisa5UQ8dkWFbAUzvFRoA3EvyJ5IuBY6E9P5cw78mDTSX0lv63Fz6AFIOLbzmvjvHU/9+xAMIPApbgi6gbol3CA9bA64kt7lhVGVXY3Pg5AFMfM0d8b1ElnN00n0NJ8/bsOFJ95cceS9yvHfAGACoEaxV7upxmiLik3c1hn6lYZidTqkL5j7edNNNS0QbekZavvph0+dawfCrfNacb6hO/PRP//Thu71f8RVfUcw7niMzMgf2eCHJQv3m1bMI5i/9pb90mPsZqWs5POW+0wBgruTaewcJMATc2o4lwxIwJs0lzy3hC61IpY28u4S/KAAsNVdyilf8iXMBGK0FBHgqjg2jMuTH7s/lZel9DcSabUjwVVJGPICpE7CU5+FzvJhr8pDe56Xh4aj9NQzeR52N6667LrGy6dFwt7l/7Ih0n/vc54bsyVJmARFepVoLXdSpX/7lXz6Avy07lP38sys/93M/d/CKf+VXfuWmHdl+uv1z9Yen9Q1veMOZ7zvr2Fx//fUHwGe+Zw070uen1HkDgKUkOUNHxYk04mPkS4GfCB3vauAiNIZ5WwomSwBAjeMDDzzwCAsqN+/B0gnzCfScMgDEo3yWLKNHBHbpZKluM6S1jCWvwbFGCtCqMf8GeFozV1V9ooOlAnrRIWV5yJEVGdcGf+RGx8zt3FLn++XDA5hswXOe85yi5ddPp38uPV4onsZa+eTxoks8q7WCRTxWOX/Hd3zH0fq8BT9kbI9BW80YLbCX5Qte8IJD+1BL5lvkK9FsADBJYuOjLRAoTM4wysashYxHAmslK8NSYLf0uWPyY8yAt2S80VzT0HmvpLdmjFc8ibkgM/LuGD9j18jhGNhK7+gILXkuPR85zqUFnJQcap3ida0HEHAtqVPSj8yBI0eyyvEAGn6uuR1KKgND1jwztUIqL0B/6+2NUp7MN1Pvtl7ElNKjB8n7V9LeJ/pjR3MrgVzbvKyxy2O01lxjM31VxUpjnR+gz1zSWrZrDa+RZxsAjEhv5bs15hutZOlgQCj7KYWl/HguaoiAKg2U1VoCz8Eabw0eeNdywdkSuSdwmpuG96NymuOTZ28Jf56rZUTn0tKgbQ0A6cdaDxywlQDFnNyX3AcoIxPmNYDKLEdWAODjH//4JWwWe4bMDTuvqcfRxFMdrbkZssUHhriX1Lto/rxf2/tnNOYVr3jF2bd/+7eH9HdN3umOoV7Az8p33zX+0i/90izdn0uXXXjd6153WEQy9+xW9xsA3EqyA7oMek4PekCm+F8Kf2ohGdNjfCW+SwAbjWMCgPaqW0tz7fPH8jV2D5CRRm46ZLV1I6HMlqQxB8rG8p97bS6tGh5ARl7Hbw2g28IDGBkC1sFhu9bqH50AAGt3fNMG3+Zp1Qo8jgByrZW4dBtAsgdfjVDb+8ce//zP//xhq5daHlV19V/+y395dn/3VRFA/tZbb11Vb5eWg7z90i/90tmrX/3qg/NBOnuFBgArSb7knB6GladKw77WKG+V3VPhIyd/vBsaaA3v2v3CEhDNSXfNOwzwEoA1RpO+bF0+0pjz7JHVHCgb4z/nGn6kNzXf0H28TN3PSXPsHeUGBC0tOzyJawDjWLr9axq2CD0ewJzOK+Ao1By6kx4wxvu3VObeiQaNuuk9W9ezxKd95taOVqR3c461vX8vfelLz575zGdWW8RDZ37iJ37ioOc/+IM/uLodmJMpWwSwv/zlLz8MLVsV//3f//2HfQytHt8rNABYSfKRHviQRUaGUa9lbIbp9/9vAYCW0PRMpFHr58G5BkNDvVam+Fj7zjDtuf/RNLy/dWMIUM2lMQfK5uSw5j4QJUyBUt4/IWdY8/Diwh95nuJhjIROCH0qBUzJAQiN2J/cBSDJ+zenF2NyiFwzdFdz+BevFinUnN9tTrmFJ1vbHnmjQ295y1sOgKxGejxwDz300OHzctLfOlgE+OIXv/jMnobf9m3fVqzu4Vt9vvPOOw+bV9MRG2fbKqamrhyTXwQA+q7Orx+xdmQrAABAAElEQVQj3u41CeRKYImhKbmyVXo5DVUUnC2RTzQNIGSJPJfwMvWMRmIOtHgGEFkDiKbSm7suLXmeyjcAyNs7dX+O/tL7+FiT3zT8W4qvBCgjnSX1LGcYNwHApbIq9RwAWONLM31+eQBtdF0rpO8q10hPWsrSp+ZqhFe+8pUHsFnDc2yF70/91E+dfc3XfM1hL8VS9Y6H1jDvq171qsO0AHsX8mhGOmJbyD4CAN/eMfS3uvh/bcFYozkvgVLKOp/S/BO1eQGKhJLp5tCKgrN5yZ6Fh/rxmANul/CWnlniAcRHSdCe0h47JuA1Vab4tUHx1iHxsTSdBACXPj/3XBr+nZLD3Pvu8wDmeCzMxcsBjkt4mnqGjhnOszFvraAzYdGJrz3UCkBZrT0OeeNsi7WVDaHz9jM0f5J9kN63fMu3bC5KX2sx1PxX/+pfLQbeeS9tGeO71zfccMPZ937v955de+21RdupkoKJAMDHdoz8ZBeV1F/r4vu62MI5lECkcWBwS4ctaM7xKM1cOeS+N8dTuh+VxxJwltLKPUpjztMVzcca3gx7HuMnUt5r+AAAlzScGnSNoOfxdscdd5xdddVVi/ejnOIJAIx6HXKHgOlEbQAov8q+5JzrKdmm64b2eKu29lg9/PDDh6+NKA/gWlzbwUg8rzn6qsmWHlXy+5mf+ZlDPaEzpmW89rWvLf51k/vuu+/Q6Uur0n/yJ3/y7C//5b9cBPwpi3/xL/7FmW1rrBz+R//o/2fvzqNvu6p6wR+r/rDKGg5HWWUz9BVcEBMEDIQkpIGEm46EBELoQQitgFLvCdgANihoIVEBLX1AoRRIJz0JpA8huSEJhFYITei9CFU4wDF4OJ715L0aZe3P5i7e5uQ0a69m731+d88x1m+f3zl7r2auteb8rjnnWvsPRzn/sk+/ujcHAIayzmk+fKpJv96k/zN8OV93gwNDKcK+3KgNqpbrkwpOUp9bLn/T/7l9lPv8prqF32KAzhD16NZnCgAwBhirM/DAEhIIkEnZeBGeD9dgAQz/973qM4AjpS5jvAGEBQng3haO0JcPm+7n7kuxkG7Kc9VvQBFXs/bpF65SYKYm8FQOi1zN19qJZQzvjNZuAL7GDu6LLrqoPcpGm8gGZR5xxBGrWB39nbws1l71qlctbn/72y9e9KIXZS/aogsvcON/k5HHC5tn/99Dz/9Ic/3LJl3dpNsd+m6+zByoxgETrzSlgE71SHmub91TylA3yhuwANAoR4CkFm2r41C80r5tlhF8iLHM5fJqWz1C/ixW3SNE/J9zdl/IV9/nWAA9ry4pAHDI/g7tHapfQ3muQPYQh10fffTR7Zg1ppCDrmuCP2WIpyRDar5qjtzwWjXks3Ydf/zx7f8l/3iLR9j0FXgY/k8p5xvf+MbiD/7gDxZ/+Zd/uXjCE56weP7zn79T4E+bcyyAz2uef1uTWP3CW69Pbz6zBj63SS9v0kx7nAOEPNqm/PuwIeTZ55nce1PLHELJpZbBrWj1HkhslDO1nHVYmsRBxYyBmHtK1I2A32QFSuVp37qpRyzQpPg++tGPtkWUCrgHiHKUnOe56FL6DY9j296Xr+vuHwMAOsZjCADojR8sY0AZOu6449axodj33L/kRe1+BM68Z9ecfcQjHpE03rY1Wkzem9/85vY27XnmM58ZDaDJ0be//e1tfKn+1gfmtjxf9rKXFT82ZltbSv2eAwDV4ZYmgeq/2qQXNOm/b5LTN/+iSY9o0pOa9OUmzbRHOUDI16BYhRN7X0wdU/NKfS6mTu5JBSuUUhcAqmcJq1JsvZfvqzVWlsvxPyCwqbxUnq4qa9N3lMQmV3T3WUeXuFfdutbA7j19P2+LhdyWX87Y1gc5z2+r26rfxwCA+qs2QNJWvLST1LtxxeTVPOrGgcj/8A//0HoPtO+lL31pe25djjV5VX+F7253u+86Dr1HuVbcKFczi6nNX0AmQB1LAN+73/3u77vd+5Cf8YxnfN93u/ZPjgs4tJVP6cVNOqpJB5oU6OTmA4D4rCb9QPhyvu4tDhBKlFwJEkvjTCYT9Jvf/Gb7uRsXVaKMdXkQcimU+lyfspSRokgd/dGNTfI5xxrUp86r7k1tx6q8Yr7b1DdD1QUgiQWA2sTaQlGVopRxU6rsoXjcre8YAHBIoLtv3762uWEjQ7ftJT9z+7Pqhzlkh3Mt8KfeYUf+KaecUrIZt8mLhZEV1bEsfciu8pNOOun7vArPex4n6G5TCQAYOPCl5sNpTbIj+J+aBPT9UJOAw5uadGSTZpo5sJYDBGmIUyN8fB5KgSknZRU/hJLLKcPxDYFqxvGEMjZdc9qxKd9Vv+nPoLxW/T5UXfpYANWTgtrkul7Vlk3fbePDpme7v23iZfe+7ueheNwtcywAmCI7uvWO/aw/LShqW/IBMWUhbQN+apIFvzblnFcZU7/QltC2mGfCPY50CXTPe96z6s7oUE7ta64LeFX9bAa5pEmvaNJ5TTKKTmjS3zbp5ibFEpOMmMKZDnGAQGWK5tYh6MTmUBZWa6k05Op1Wx25LLUpKBsujnUWq3DPtjxjf6eoU/MsZQFdV1f1SlUwBKqkn2sK1xigoR0pgncdX3K+H6ouxkZq3+W0LzyL3/o+lXL6ayged9s2hjxT5pB9zBJXe/MHN+yJJ564uPHGG1u5USomtdtX3c8A4I/92I91vyr+WT/Z0JIKZlnmjz322PbNHuIH9wLVAID48vUmnd8kcYB/1SRxgf9dk+7bpBgCGtN8cjG57/A9XYD0rW99qwVIOQBwSqywsgUCuYJRzMGqOQpqSm3fVBeKFOhPJSvr2iA1tW61njMu8G0dDaW0LdD6uIDHAE3reNT9fhMvu/d1P3tmSGCk7KH6dbmde1EO2WQCAAodqd2PQ2ykcYSOkKKcMw29xu0jH/lIVh7dsTP255Iu4OW2/I/NFw9s0g8f+oE0Buxi0qFH5kuXA4RMNzjc/0PsPuvWofbn0B7WqnXWvxp12AYY1pWZ+ty6/FZ9P0QZq8ot/d2Q4AbPNtFQdRHKkAPeN7Uh5rcxxw4wtq0fYtrQ554xAODQZQ7FU/KX1csO3dpkgVo73jt4y3IWw6yU5nNOHrV52Sf/WhbAhzWVsBPYeRMB+H2x+fzGJs2UwQEA0HEeFBjLQokdU/KaCmkT8Ldth5s6DwkQx+RPrhIfSmFs49FQoCvUY9O4HqouxvOYymLMsTMUj0N/uw4NxkKZQ8+xTWO7y4/cz/TLEOOXVc57c2sSTwgQ+OlPf3ohhi+F8APvWSy7xpiUvKbwTGkACPC9vEkPPtQ4y3ABKH/apN9p0r80aaYMDjDF28UUTOZDC56Mqkc/GuM2027xHGMomW5DchVsN691n0v08VAKY10bwvc1dxKGMly39Yt5ZJzVprEBoPaN1fdjzM0xAKB21naR1h6n6/K3yGbFrk0AoHNLgU1zpgaRCQ7T9p7eVAAo9lIMoWNynva0p9Wo5qB5lnQBP66p+WeaBPwFN++tzWfbh7wmbgZ/DRNKUIj5K/G6nBLgokSbxs5jG2AYs365dRuqj2OAhndmToHU1S7z2pQCAEv2V6m8Yvp2mZfAWKnyl/Ne97/yhgD23fL3sidC24YIYRD6o9+8XaMmAX4f//jHkzdGGV9PfepTF5deemn7CriadR0i7xIA8N80Fb28Sa9pkrg/4E/E+ouadHSTPtSkmQpyIKyQhhauBZuQndXh1vYUBdxlcu7z3bxSP6eAodSyjI9NbaZshnBtDdnmdbzaxId1z/gegPvnf/7nlo9/93d/t/jqV7+66fbb/Mblllr2bTKL/AK/h15ksP6Fc+wiq5l1m81x+mUI+uEf/uFBLIB46Mgqbx6pSXYzG5Nf/KKItDRyBuOv/dqvLf74j/+4Pas2LZdpPJULAJ3559VvZzUpWP0c/nx8k367Sf+5STMV5sAUwU9JQd+nfSXLTemmbUAjJc/lZ4YoY7nMvv/H9BkhD1RMgQDAISwbfQGgesXwMpaHqXkJyL/iiivaXaD67LOf/ezi4MGDscW29wFFQ1hZu5UCWITHDEmArtMZhiLvZfaWjiGIZS4HLPWpIzdw981FfZ6Nvdd8dAj01VdfnTX/9+/fv7jgggsWv/Ebv7G45JJLBllMxraxz305APC6pqCXNckuX+BPoMDzm3Rsk5z5N9Me5gDgxSLwta99rZ1IlIPPQ1GqYltXP/mNDSZr1a00r1bVM+aMQcJ3KAC4rT/7ArNVbY75LqWcktYkfEjhOdefHY9h7ADv3iPdhwTMD2WpCvUCAMUG195RGspzBZKGBIBDAKXQPhYzbXOESm3yajVHgNW2zJ9xxhmtq/lVr3pV0twIfHjYwx62ePazn714xzve0b5X+Atf+EL4aWeuOQDwvodaCfx9pEnHNOn3m8T9O9MAHBgbsBC0EnItOXFj2xZ7X63u2AY0SpQblHBOXrX5ROFus6gBEeqRAkj6tl1Zm0BpCjDrWwf39y3HJpnvfOc7KUWtfIZFMSU/Y+4e97jH9+Lp9Fn3rTIrC1v6cgwAiH/SkFZAANDJDEOMaywGAB2cPATIxcuf+ZmfaS3AS91b/F8A0Nm273//+4vn3c3QuPz1X//1xcHGaPHa1742a+HvYOhXvvKV7QHR3MJ/+qd/2tY/6MVuuVP8nAMAtYek+s0medMHV/BMO8IBcTIsdv/0T//Uvl2ENa/Pap2CcEZUF5zUPsm9y9pQbilgE/LrljGVz+qW005gqHb7YoCOe9AQilKbN4GA4ALO4WvM+IjhSzef0gDQrsVUiyIAHXZL+sz12IfGAIDqN7QbWHnmF1k6BCnPBkC7ZoegO9/5zoMAQHPlQQ960OKaa66pzksbKVnvPvWpTy3e/OY3Z8lXc/bxj3/8gkVROMBf//VfLx7zmMcsXvjCFy6uvfbawWNS+4yJnHMQwPQnN+lzfQqc750GByjhbrC0rf4Gbx8iiChSz1IOP/RDXv28u5QKBoCN2pRaN/WinFKsQH3aZBxsswAHPrnP/TVp2/EVXTAaPteoz9gAEAgTh2f8pCwCfvzHf7yd233BH14qm5VlaCKXhgJj2mZcOxOOq3Sos+GCG9iGhNrEDXz55Ze3Vsfai3zWxiOPPLIt71GPelTVprHcAoF/+Id/2Oou4DOHzJUnPOEJLRj8+7//+9YSePHFFy+uuuqqdhGmr4RRhOtP//RPb/RS5NQl9tkcKXxyU8h0ThCObfF8X8sBQrKrJK3wCew+RKF4TZCAZJOpFMUo5KDMcoBRt74hv+53MZ89V9sVo4ycdlJQ28BZTFs33aPPtrmAtUMawgJobGuztGo8BQCqzqt+39TW2N+4gSyygG+bKICoffv2bXycNUGdpFDHjQ9s+TEAN3VJfX/sHe5wh9bFuaWo2/xsQcj6mAo+b5Nh5BesO+F1kpGPZN8W4gDveMc7ZucVkwEA+LnPDWN7oRuCG7g2ANT2c889d/GSl7xk8eUvf3lRm5+8WDZy2NFrjig793g1Mu72t799mx796Ee3Y9FCiMeNp+0Tn/hE+1l5wixiXnkaMyZS7skBgDP4S+H4RJ4xSK1Ywrb7bsB3nyoCkgBgX/C4qQzKrzZgWS6fkko58BS4qg1o9BVFnqpIAZzadVRGDBAeoi76FgBE+nQVwMPTmsCY1c17VJWj3wj+GOWp3p4BGksAQG00doR3pAJAczvIiZapkX88Zx5rSwCikY9m3UYmDW15BABZfYYiAPB973tfsYXCtnr/3M/9XFvefe5znyRL8rb8u797C9Tpp5++eNe73rX4lV/5lZXzt3t/7mdWud/93d9dvP71r18897nPbXcJ3+9+90ueL8v1YSSRjjnGNonvEpnAYmzX86ZQlXB/rWt931Wtmh/G+QYg4JpDVjqUDUpd9VAwKOTT/pP5JyjNTdmE8nJ5EMrQjpS8PAdcpTwbyt52VQZLUmoZAFBtQA2sxJShLTH3bePJtt+Nj66Fe9X96myxUYOArS7g0+6YTRTqXToOkCUu5zgWsgGA7Dv+jLsAPmvweF2eACClWnvR0y0/WAC739X8DCQZ37WPTQltYAFU5pe+9KXwVdXrve9977b/brjhhqrlhMxZ4Z71rGe1gJO1HhC88sorq4XOmOdAofcs3+1udwvVGPw6A8DBWZ5foMHDsuGaQ563SqcgcvPqqxw21VtdSua3qazwWwBy4f/Yq+dQzfoGC1YqcBoCAMaW4b6hFPM2ABhb59ixsHzfXe961+9Z8YyPWFcP0FQyZjO4YpfrF/u/5429lDqRL302l8XWadN9ACt+p25+2ZT3ut/ET5MF3bjqdfeW+J6MvMtd7rK49VYv26pP5pLNIEBRzmIitqYWZ9ynrJzeEVxTvnbrdMQRR7RxgU95ylMWH/7whxe/9Vu/1W7kqLVQ7JY9xucZAI7B9QmVydogxiOVAnAsOUH7AMBSYEKZKXkFAJjybCzPlaF+uQCwZB8t1x2YihGS2pLajuUyt/1vXG9yS9e0AKobpXnUUUe11TTP8CiGalgAc8CQerNopoCbMQCgMabcb3/72zHsLnKPvmZ5FLc2FLEcKW+IM/q0yVgWM/ee97xnkCZycz/5yU9esAI6bLmmjO02iKzF29/5nd9pd/MeOHBg8du//dstGB3yvMdunWp9ngFgLc4OkG8phV4qn1JNjgWA6l2q7pRGSl7qimoLpxxrVQAeNesYWz9AIgYolhhL2yyA6rIJIJaoA9cgix5wEEtTA4DqnQrkUp+L5dW6+8Q3D3VMSqhDOC6l5jwLZbkaU6zMH/rQMG9bJevuf//7L7wWcCjLo52yT3/60xcOWX7jG9+YFKfd5Vmfz9rrGKTnP//5iwc/+MHtRq7nPe95i9/7vd9bvOlNb1p87GMfG9y63af+MffOADCGSxO7J4COEtXKzSs8nwKe1tVfnjH5AW2lhG1qXuqa+uy69q/6PhZgrXpW/VApXq0qIzYGUL+muBJXlbntu20AEE9zLGPbyg+/U2IBhIfvNl33GgCsDbJX8RLPv/KVr1Qd88vl2vnJup2yYWY5r9j/bSyw+eQb3/hG7CNZ93Gvn3XWWe3RJikW4ZTCLaJ+6Zd+qbVAO2tv6JAC8vOEE05YPPWpT213J3sDCHl32WWXtTuIL7zwwoXjXoDiMcZ6Ck/DMzm7gEMe83XHORADtjY1MYDATff0+U1+MWAlFijGlB1b5qq8cp5dld+q73IBoDpSTkBRDVK/GMveNrdsybpp66Z4JRbAIVw6rGB9FDQA6E0PpUgMn5hhKbX/tSGFV2LjWKgoxpxQk768+Mmf/MlWhuAjt+UQBCg4ww4QGOJ8Pm3SLzYSfPCDH1w88IEPHKKZbSzg5z//+fZd0cAQ2VKbtPMXf/EX20ObX/GKVyye9KQnFT16LLb+rPn4LSFhBo7jsXHELmJjwJjnvu4m9Z8izQBwir0SWadc4KaYUpO3RF1Cs2MBlckWAxRDvpuu8kptQ8l6rKtjDgCUZ+7z6+oVvpc//ukP/FhHwM1QK3iAY9OBwADgEBbAsAkDf2Lmm/vxMfb+dbwO3wN9krbayZlCLD+OsulLFJ9z+bhjhwJF6mgM3u52t2utgEMBQOUCgM55swu5j9vfs6nETfm6171u8fWvfz1qp3lqOd3nHJPCGnfLLbcs7n73u3d/qvbZGPaGjUsvvXTx8pe/fPG4xz2u7eNqBUZkbD7d6173apP5asHBImt3toXAe9/73vb1du7rAkKfjcvUBVlE1aJumQFgFJumdVOMEulTYwM3h0rXR34xdYq9L6ZtAcSlKN3wbEw5qffkArjc57fVW/6UPSsTkLeOgLKpuIABLYexbgOt69oS+71yWF9ZwTbxJuQHOHi3LOulZ0uQIycA71QA6DlgWt/FtKFbZ8ffUIhDAkDl79u3r91Byk1qfA5B5gDgySJ03HHHDVFku0HHgcI333xzG6s2RKEsYeecc067OYO1dSiQTdaydHILv/Od72zH1Gmnndb7LVY1eEQfiT2VumThZfxLQLrzQV3JA/d608pYNAPAsTi/h8qlEEpZ4rDFJI8BgCWBVwCxqQCQgucCFRtSg3IBnOdjXLSpdZc/QbcN5Bgr7hmCgM1Nij8AGaCGNbAWqQOFCYCFMjeV5X5WMyCwFABULusEy0MKqb86OfRdrFsfUqbjPGoD7eU6OXbHfFRnMYFDkUOTr7vuunYDwabxV7I+ACBrnLdNONh4CPKWDgdD2xDx0Ic+dDCAT1YrF5+9a/fP/uzP2kOW9+/f347RIdrepwxzGMjrAj165lvf+lYbLzpULOWqOq/31ay6e/5uz3EgAJ+chrGixAC22DLUKSY/95UCnsAkiik3tIOwDe4eB6R+/OMfTzoqI+S36UqRAJmppH2sczUJyNhm3XMPIJrTltg2AHVeCbau3XgytBs4tu7eKUtBlCKWBnGIfcb3ctkseSwXfUlbALGScY0xdSAfgFWbQYYkfDLO7ZYdipTHFUkeDbXA0jbW1VNPPXXx1re+dbCdwYGnrNoPf/jD213CQNRLX/rS9pzCIcI6Qh1Sr8YmK6ZYQju5x6IZAI7F+QLl5gjzULyBGMBP+K7vVR4l6hLKjc1PvUuVG8rsA0wotS64UJ9SFpvAi3DNBYBiTWorBlYii4FNhGd4Xbsu6qDNFOOmFTYAuGmjyKa29PnNuOijmASSswCWIsrGWN3Ei21lATZAZJ85Ik/9nQoet9Vp2+/7GjewhVpN6/dyHbTXkTBDHZUSynd2nXl11VVXFVsYh7w3XcUAnn/++e2mEJtRSsnkTWV2f+N+/oVf+IWFw5tZe1/84he3sXfbZFE3j8P18wwAd7DnCZhSZLLmKmP1KTnp5RfjOnFfKQtg4Gmf/AgeACOQV3/lgumQ1/I1FwByh+b283Kdlv/Hi20WQHyOuW8579T/w2vM1j0/FAAUG9Zn8wurmZi7UsDF+GEx6bMbeZlnYhP1XUoe3MBioErKieX6rfofH4HvIY9mUY+f/dmfbWXYwYMHV1Wrynf62Dl9Fg433XRTlTLWZepVcUCYHd/XXHNNMbm8rrxV33PzP+EJT2g3hzggGxAUelBb7q2qy658NwPAgXpqaMEX2ywKObduQE8f4LStbuoUs3orbQGUXx/rhnruaywMgZaDf8P3Ja6sWcpLpSEAYIwFUP2HqEvgE+C1yerV1zIX8u17Vc42cNzNEzDFz5Jvswhu4G45fT4bf6mWPIsjFsiS7YmpuzqP4QYGlIFAAf8xsiymLTH3GDPnnXdeuwnlk5/8ZMwjxe6xGeSCCy5oXd/Oxet6R4oVEpERmezImEc+8pGLT33qU4vXvOY1rXUSKOwj3yOK2vlbZgC4g10IsFGiucBN0wnI3HxK5NHthlhAGXtfN+9Nn1OsbKwi3JrqQujXInVztEQqDQG6Yi17sfeltrX73DbL21AWQBsoxPT1AYE14gCd5ZdjVQQAudn6ygzjl8WcFXBoAgjwPWf+pNRZ0L82s8b15VdKeeEZO7bPPffcFnw6kmRIMmaBQOEONof0CXsoWU86CQD/5V/+5YUja4BRu4b/6I/+aPG2t72t3TAzVt1KtjM3rxkA5nJwhOcN7lJxS/LKpTEBYG7du88DcinK0coX0KhJuQAu9/mYtgF2rB3blJ269AFCMWWvu4cLmAVwXZ0AQHUuacFeVRdtBgJtSoml0nGAxigLUZ86LNeVGxmvUg6F5gZO2USyXIe+/1ukabtXdw1J5KLdqto85DuCtRGvbc644oorkvoqh0/m1KMe9aj2HESHI4/R56H++uAOd7hDaxX91V/91cXjH//4NhTi/e9//+JP/uRPFq9+9atbgD7U+5RDvaZynQHgVHqiRz0MarROqfXIarIWwFhTfcn4jhQLIF5T7kMACDyJ5cvyGFBH4LZmPYEL+W8D0UNaALle1Wkd4FTnITbI6A/HkvRRNKwp4rlKzPMwHnLdwCzdFjysgH3Jc1zAY1hejj766BaIDP1+YGAICAQ4+sSA9uXtqvttRLFB45JLLhmc5xbTNoYce+yxrSUQEN0UirGq/qW/M3bFCTo30KvlnvnMZ7a7cO3W9naRP//zP293Efs/Vc6WrnPt/GYAWJvDO5B/roKp4YqNASqpgG1dl6Tml2o5XFePVd+rGz6nAt4QQ5j6/Ko6LX+njnixDmyF+7nFnOE1BKkTJbxO+VhM3fve924tY7XrEwBg7HxjMaSISgIHADD3OJbUOECLEPF4Qx6PEvrUGLBL9sMf/nDVRVAor3vd17igHYJ9ww03FAXz3TLWfT7++ONbN7T31m5bmK3LI/V7c8sxMU984hNbufVXf/VXLRAeKzZwuR1c5Q7rfuxjH7t4znOeszjzzDNbbwAXMTD4N3/zN+2O6o985CPtmLUpK3buLpc11f/rnFo7rdY6AfQPmnRWk/6nJn29SRc36QVNSj1n4bHNs69rEvrFJr26/TTgH5OrxGAskU+JPLqsA3S0TZL3OkoFbOvySwVyqc+tq8eq7/GBAgXgKLO+5Plg6WL1qkXy5lLlel1H+m1ICjuBAbAxiUWPEgZGuSW3kXlASYkd3MTPbfl0f+fCFT4CVKaGLQCRlKJ29K0XICQmTnyW8TwkWXR84QtfWDizU/lD0oknnrh4xzve0b43lmVuKDLvzzjjjNYK6NDk+973vlVjlVe1SyjDgx70oPY4HnVwVuEpp5yyuMtd7rJRvq/Kq9Z3xqLxITE+sBSLVxUuYcx84AMfaK3X7jOHHKvkSqaE/8nXXaO9DgDv2HTIB5pE8gN9n2vSvZr0jCYBhPduUt/TVv+X5pm/aJKI/PVarvlxF4iAyAWSJfLo8oriQybiJrDgtxhLYTfvTZ/ll7I6BQBZarYB1k1lx/wWAFzMvavu4XqtaQFUZogDXFX+WN8BOussgEPWyfiiOLiBYwCgurm/VLyv/IxVeTrKRWxUChmHdvWK7eoLpIBHQPjzn/98a5FLKT/1GfxnkfLKNJbIIQGoeQH0eDcsN2Rs/6e2tfucPnc8zNVXX714y1ve0n7Wf0OTN5TYIPKZz3ymPZ7lox/9aOuOHerNJbHtpX9YuaUu0Q0WY0ChOez6xS9+sf1MrlqsCXOwKCJzpOXPUwOJex0AvqLpQODv3zXp5Z3OfEnz+VlNemGTnt75Pubja5qb/rFJ72zSr8c8UOOeUqCrRD4l8ujyqA8ALBmrQUGkHNngOcS6U3OC5wI4Cq82AGQB3OYC7vb1EJ8J4Vy3Z6l6shioSyz4ArDMr5IEhLFwxNZhVdkAlDffeB1YGP+r7lv1HVes41GOOOKIQUGYurBAek+vI1KAwSEJ0LEz+MCBA+0u3SDnhqiDeekdulzgLJEsgUOFYXTbZyx784W+Z0XmbjWG1MfCYMpEtps7Upcs/C0wAUIxruJ2/S9OlqU9JMYKMjgAwwAOXceivQwAWf/ObJL38XTBH17/XpOe2qQLmvRrTfpPTYohlsP9h9LpMQ9M/Z4S4I0gK2mJUydpW54UT0kAGCx5fftMPfCgNgAkgHIAHOFTG5zZdNFno0NfXqfcHyyAxkpfsJJS3qZnAMDPfe5z7biNqYt5UJpYKVjgWBZTwgnUxy7TT3/604uDBw8uHALch1ifuAXxwauwhiT8FPdlUwJwLc5ySPK6tuuvv761gLEIDgkCtV35YnBZAy0CTj755FHmBFnGLa7/LQbsxr3nPe+5ELOYOiaH7MduWfjKorvJqgskhtAL4DCAQp9LWvi79Yr5/F1fW8ydu3fPqYeqfPWKqv/H5rubmvRDTTphxe+rvhK1/qIm/VmTblx1w5DfGXS5rlv1LZFPjCLryxuCcRu4i7mnT7nakRooDTymPhtbx1wLHgviNp7G1mXdfQBg6Z2r68qK/Z5CkYY+B25V/YBR/VjyPb+rytn0nToAYGLhUoncYEEC4rYt1FaVwQoktqr2gmRV2drO6sQFOTQF4MMFDwim8C63zqy3DkkGAFkDx5wXrF9nn312uxEDT9785jcvLr/88nbTxRi8yeXtuufNF7LR4oflnRUc2D399NPbndLrnqv9/V4GgEc2zPvXJn1+DRO/cOj7I9b83v2aj+/1TTrYpN9u0uhkQJWgEgDQRE2JndtUf+BumwAA2IDgbfdtKqf7m/xSAVIOeOzWYdPnXADo+dpvYgAu8DDFlb6p7Tm/GePqxUUzNqkLK+DYVlLWL7txc+Ytl6ZxzwrYlyhCwfMskWPQPe5xjxYADf2KOG01Fh/wgAe0Y+BA4w4uJb/68JHl86EPfWjbB0DX0AdGL9eVW/URj3hEyxf8YaF85StfubBpRKxpCWPHcpnz/4vFXgaAP3Kog7+9pqPD9zGBB1zGd2/SE5r0nSZNgkpMCgqJZSiHYsBa3/xj8qR8UCpoW66T/EKey79t+9/qbuoWQIKVu6GmwtFvyhnTqrCqr4CuKQBAdZsCAAS+gIAU8Bb4S3awAoqpSxlTY1oBxcRxBbMCjnEuIXkBBDpQG8hJ4V/oh9QrrwULlGOQHBMjPrCETkmtj+csDMQDPuUpT2njJC1Q3v72t7evc3OW4piW85x2TfXZvQwAS/H8+Caj32zSi5v0odRMrTS/9rWvfV9KzctzhG+JySofyjonL0q/FAgLPGGt2panctV/230hz21X7hm8SBHGnqlt9cITAjGlftoO6ONX7ZgTsTBTA4AAD+tnTgzltvET+7u64E/t8bKtPqyA3MCp40n+NlVYNH3lK1/ZVtxtfgeEJW7kMYgbWF9cd911WZbQ1LoLSwACjUu7g0vJsb71cRwLa6DduZdeemkbn9Y3j9L3k+23u93tFmeddVb7OjeHads89drXvrY9n+9v//ZvRwHuue1cxgD+H8MKHdqxlwFgsPAFS2Boc7iG7/9D+GLFlYnpdU0ioX536fdePljBroRlNy3lN8q/AAHKBYA5SmRVwwnDGIsa5VNKcFoR40cKSACuasczAahAYGo52sY6JwC5Jk0RAOof9ZqCFVAf2kQhBmtMcswFRUsJpZIx5Vy7W2+9NQlIsgI6SmMMMKzuJ5xwQns0jo0IOTIwlX8skd7bazPAmCCQC1ZcIKuwA5Dt0E2Rg6l82PQcuWzXsLMEn/a0p7W7iC0auIi939fYywll2FR26d+6+j98BsDHor0MAIE26GZdjN/PHmL6piAU+7PdZwPId5r0/3VSAISvOvTdS5vrYESJlBBYFADKyQsIKw0AYzdVlASAFAKQlSL4hgCAoa9yXFZcTznPxwxwQItCyxlTMeX0vYe1ZwoAUL1tRDjYxM6NySPjnRXQZoycelBkxmaKFVCfjGkFJD+4HG1cGvpdwWH8AoHnnHNOOy/f8573RC18w7Mlr+qBF+pibL7hDW9oD20utcAuUVdWU6+3867hJz3pSe2Zis51fOMb37i4+OKL2wObxbbW9nKUaMsU8tjLx8Bcd4jB91vBaMDOIdD/T5NuXvF7+AroA/BW0T2bL49u0g1NAjY/0KS15NypkuccWTHnCO1QUUoAAXCEYQoR/jUAYIzgIRBi7ottV3Czxt4f7hsCACoLgMsRbiyAtTeCqKPxoJ4+T4UAjVtuuaWdN2Hcj1U3hwGzXACk6jUWcbNx/dmB6XiQFDL/xQLKxw7TsFCJzcuGDEH/LJLLZ6zF5pFzH+AjFs7uUxYwoHhoIj8AL8fTAIFeS2YRPAYZm1zCQCBw5bxHx8cceeSRvfu2Zv0dvGwnrbqZR1ypzt6zsQig97sx7dgjSXzhWDwNfPjqV78aPn7vKhxkLCvgOCPse02v+uHLTe6OgDmzSf+2Sf++SYF+v/nwPzTJQdHhDEC8+Jkm/ZcmeRb9S5Oe2n667R8bQwDA1zbp1bf9+fu/Mams+ksRBVYSAObkReCXBGF4BIzGWOKY/mPui+V7qgUQcFQPfKwJLgCqHBeu573iqCYZD453INimBAApBONUvSj6Mcn4Br5YK8YEgOrhHD9WwFQAiI+sgACt3aT79u3rxVp9warjdVtivgCyoUkd9u/f327IMHaX3wIxRH3IEG/suPLKK9uz8WxSsWAbg8gwx5UA9MbGhz70oYW4O4BL7GRNGde3vepiDknGEWIgEWIBEBqTNrgInXFPAISujDJDtmXVW0+8Y3gs2ssAEE+f3qSbmvS/N+n0Jt3aJOf+7W/SZ5v0O00K9NPNB78fbNIdmxRD3zWfxdxZ+B6DNge0herIh8LOseDlPh/q0r1aqcW4KgG2kvEfqRZAzyEg0Gq+FgFUdg6mEoVCOAJCqRbfmLJDHGAOqIgpp889xmlwA48NANV7XwOUbEAwzscEyhR9sJqkeinwViwgqxEl19fS4g0ZFPYHP/jB9pVpQyrlMIYAgnBQs7PpUnkR8ku5BhAIDDujz2HJeDMGP9Rfv7L8qQOA/773va/dOS12Eugfq17beGsRAbxKiK4EtABCiUdOzKVx2rUSkgtkJBk+1bZta3uf3/c6AGTJO7ZJLH5nN+n+Tfp6k/60Sb77dpO69K/NP1Is9bk3Ns+o+wzOEgBQYfKaGgAETmKsigBgzGaRKKY2N8kvBngu50dQEt5WmbUBoPqlWhq1L4BrIK0WyZugnRoBgM4VA3rGJuELXJ5A01guIDwwXoOlh9UplVg07SrmZvdWhz5EBgFfV111VbsrGJgcgwAdQMHRLFyyY1gjzVFvCdEnN9xwQxtb6agW42UsIo8dXgwMAk9c9qxpgCDgPHUyvngAJG1A9IvzOMkpiw+hMayFDAraCwiyBnev3c8WbTUX0UPwdK8DQDz8v5r05AhmfqW557+NuC/c8oLmgzQalQKAwEtOXiaB51NBySoGAikxwI6wzImJWy4biBM/kkIUaeoO3djyKCR8Vk6KciIICS4gsiYADC7gkmMilkeb7gMAnVtnk4p+FpqBJ2MRIGrHJaU0pjIBfJyJhyepli9yhItQDBtQYKdzHzL3TjrppBZ8hYOi+zxf6t6jjz66DRNgnb3f/e43Wr8AgBYIN910U2sN9Nq2YNEq1da++ZC3wL3d22ID3/Wud7VzCM/095hzqW9bzDfWv2UvBS+OMBsyIryyzVWMYfg+GAnI0i4oJFPJZWOZPnDtflbmlHh0OADAvuNiJ+43iCjXEiSvXAugesijlBLrAwCn4ALWfhO9ZDyiPJeJkmUJIIBSAKD8CCyCrCYpAz+UAwxOgcyXsHmKZQUBhGNaVn70R3+07UfKhQVtLNJfYpTthN2/f39ysL++BhDEjInn68tb/eHILIf+et4YGprIQxY37k7J5zHqod34Z4MKy6pXxwGA3MJj1Sf0BXAD7OsrrmEWQeDQQsImGv24q4S30qaYfbqODA4gMVzFF/Mw0AOShbprMGYET1EXHI4pH2cAuKOjtCQAzLUAeh6VBICAJBP9NgsSoFgSABJiJuy2clcNmyEsgMoNABB4SCGr1pw4wpgyjU9CVDljCrhuXZ03J3VJf49J+MQKaDPI2DFV3NDiogT9BzdZCm+AFG418XyOFdHGPqRsLjkgEvjq+3yfstbdS644fBgAtDv4tNNOG23jkPYDVjamqI/YQC5i1uuxiSw55phjFnZy2+Fqfl100UXf202t3jU9DWO1n84j12JlG122DArD/65j0Xc191ilz+Umc6CkUJRXjgXQ88BPWOUkN6rzIAEMhG2rFwUOALq3BAEt8oqJP1wubygAGFy4y+XH/s/aE8B17DMp94kRGvudt91625yAd925U8pi3S2n72eKnGWyNijfVi+8OPbYY1uLTu7ORFZA1t+Ut3zoH9YlR3ssA/ZtbSj5O1kA+OkfIHDsmFbz1uYUYOuaa65praQlZW4O74ydffv2Lc4444zF4x73uLaOTht405ve1J7P9+lPf7od4zll7PKz+GPhLgaRW58ssptarCu+jUUzAByL85nlEpKlQE+uBVBTrGJSQNM6NgTFvC1PADAGKK4rZ/l75eJHyqpsVwCgVatYrxDHssyDUv8DgMopaaHNqRsBLMYsxLiZQ10wmJN3zrPGHOsfK+DYxKrsWBhxidsWX5vqal7aIEDxpwBb4Q1cneLMxnz/K1lgYwwrF+uo3dJjkvHqzMUHP/jBLUD2JgxnOE6JAGdv7vCGkwsuuKC1XuLb6173uvacQ6B+KjJhSnwboy4zAByD6wXKLAkACescYa85lNg2sNan2dpH+G4TFMp177b7+pTNZZEKAK3Ic3m5ra7BApi6AMAzxx0AZzUJ4GK1mMrbN7TVWLfbVL3wL5WHpfm2r7ECUOQlNzSl1pEr2DjmCs4hcWDycphwyvxkKQF2gFEW0jFJXJtYPDGSXNO15/i2tpq/ABYLEmAqpjXXarutzJTfyQC7hwFWb+/Qp/rTO33V267bsXmZ0q698swMAAfqydKKpiQAJOxzXQmxmzb6sBtQ2aY48IFS33Zfn3IJpBTrGKsF4FhbWRGqeJNTjgDn2gAQz6fmBlYnCwvxXcbsVFzUQD1X48HmSJixydhi8RLcnwsqxPNpm0OEUwiAtCADFsYGx3Y2A12C/NUnZZGYwoN1zxjHRx11VHtcDZnFGnjgwIFRLabr6up7oNW48s7h888/vx0XNrZcdtllrUv7U5/61OKb3/zmDAg3MbHwbzMALMzQddkBKqWpFKgk8HNXYfIoaQHEq1hgR5GXBICAXIqy0ceUXe0dtgQ/fttxlkrcoFxrpcbQunoAgCyAueNrXf6p3+OhzQop769NLXPbczaDcI/VflXftnr4nfVOjJKjYXLGCD6zuIoHY+3pS+F5CxagK2Vh1rfMTfcDo97WoV6ASy5A3lRW7G/iymy2echDHtLKTEeziBEEpqZI5CS5wMX/mMc8ph0fxtvXvva1NtaSdRBvjT2748cG2lPkYak69Tn3rlSZh1s+P9g0+Def85zn9D4SYROjbDs3kWJ3IW3KKwgxK7RUkgehWHLHF0Uoz231YskCFkvwQvtt3dce7oq+5DkKM8SZ9X0+9n4gkwUw9bgFcTqsTc5b87kWiYuk+CkplsspEbDOyuX8MuNnbAobqcQCOhKmxqKxTxspaW5g4D11nCkPb8kFrj+87nt8ET6wjprnDiEWQF9zzG7jkcXXvsZlD4xyb+NTSbm3rfx1vxs/xg13NdnpbSI2rgh3IBvHHk+r6h10mB3Odgx7lZuFmTFj4ej90saNhZoFKzConWP2/6p25HxH31x44YWy8Oc7OXn1fXYGgH051v/+KgAwuO+2gaOY6gKThDwlnUqsUYBPTh7LZasX1/Sm85g8Q1hQ5qWUOEumYygonb4ElOEFYFWTcuqoXgSvMUSZlRhD69qqHGCVkMsBEevyz/neeAHYKXJKfApkEwbQxapdexGxrb0WX+YeSwzgRvGmUhhjYuhS8jKOzEdzy8YQn3Pqk9qO8Jz6aIdFzY033tgCEuPb92MTcAQkiw809xzH44gWddUPU6jjOh6pm3qSnyzizhm0oQSApQ+ch+i9vjaVsHCSt2SYRcWU27Wuvb6fAeAm7uz+b1UAYHD/BcGawyZCggt1G9DaVEaJPJbz54aVtgEHiqAU+FMHio/ApGR87kO5wCy2LO398pe/3NaRAEwhwjPV0tmnPAsDrhw7XadGlCVlwurQt69rtEUdWGy8To01BxAckyysWF0oXvXJ4RGQbT6nAjgKHugybgOQ7GtNLM1LgF1soONuuO/9PxVLt7GDXzbS6EPAicwgLy0udgUwmaP4avxpi00ldAKdxW1sLJAvrPniM+06p48YD8hGfJhyW8cEgONKl9Kz8TDKz4AuFXNHqOfGaJlopeoTuhHIGSP+Q7naQ9FQxn3I/SY04VNTeROKFA0Atw0gr6s/JUCAAmg1BSThLcCbpQ2gmBKpG15ylaVYfGu0BaDQp45Q6ftO3Rr1sRHDzleK1jmBqWPFc86wQ96164y9vq7TkIf5Kc5NHjkL1xL8Eipy6qmntqD9iiuuaF2w2mlcTYHUg2vV69sAVRZBVl3fOfInB9SP0T7tYeGUEN3F5S2RhxIPjqsFB3nOULIqjb2AGIN/3TJnANjlxg59Jggp7hJUArwBO7k7iZfbYqKPAQDxFrgiPPoCQMIGL4CdEtbZZZ50/+du58ZNBYDqB7Sra992duux7TN+AJvieIBjQKu2i3xbncLv+pplQd2mAgDVjesLSFK3sd3T+s+7XtWHZdLOU3xLIc+VAIHqQG7ZGAJ8pc6BlDasesa8t8NVHBuwfPHFF7fgHcBK5dWqcnK+049AINcwa6Wd2cY9AL2viWm0GJpKXfu0E4DVhlULAVbCAArDlZXQZwt8OiYAQ2PImGIhXU76dxd5s42PMwDcxqGJ/l7CaheaViKvEiAy1CdcTU4TuLaFKpTXvQYA2P0u5jMhAUwNBQAJs1TS70Ck4OpaAFDfcacDquHAWmBwKgAQ7wA/bmAWhJIxrKn94jmWUkeoAFz79+8f3UpjPthpCgRSjkBEKpkjuSBQ2cAMuaNOeDSFMWX8eBuGjU8hVs1bTcYGqN2+wjNjy2YRu7O5hVkujTlAUOzdLrmIu21b/gy44f0q/jMuBFDo6n9yyiI1JN+RYWQlfbQMDFf97z5gG59dJc9PkWYAOMVeiagTIbrXLYAmLwICTaohKRUAqiNBKgalNhHSgAsrHmGTQvIg9II7JSWPTc8I3LaTLxBBGPo1fDf2VX3ESnGHpwJAOxZLW1BYj4Bn8XeU9dgkEN87aA80Z82Zj46JSaVSIBAQNfavu+66xcknn9y+Lze1TqWe0zYxpcaU0Icrr7yydbWyogIMUyFzMbhSeW+M/4MHD7ZHsFgQdsHgVOpcsh7GMOv6Jgs7HQsEBkAYrt3vyPrwPZ6GzYvdsCrfBzDYvRq7Y7qhZwBYckQNmFdJAGhwdgdrSjMM5NIu4DBpxgKAKa+wwjvCc4gzuAgO4MWGIEAuhbhNCH79j9+lSYyXODaB/8ogUKcGALUZmAEiWAP78lK7xMcBbDmgaJn3+kOcluM81GsK8ZN4c+9737t98wQFmrNwCCDQlRUvJSYQz4BjY8qRLPrAJoEaY3m5f7b9r05AnzqxBnIL+5+beAr169YfKAH4JPI2gMFLLrmkjdNkFfRb6gKpW9YufTY2g5Wvb73JBToxJAv18Ll7xe+xaAaAY3E+s1wCZEoWQADQqijHGrWKJZSMfGu5KFeV6TvgSgwgHhMCfUhdraRTnu1TjnoRyCx4fUFLKIdVRz25P1fF0IT7cq6C5L0XVvC58dGXnzllxz4LXFHULDYATp86motcmtr3Ez/xE0XHKtcV8Of8O67EKRBXq/4EuMzPlPMyQzvwGchFOSBw3yFw8v73v7/dCeqQ4doxuKEN267qAdwCVYCgY34cjj0Fl/WqugOuAJ8EnLBCO5vyE5/4RCtn8NpvfTfwrCprL39HLpgf0ibifh6Lyi/5x2rJYVYuwWmFUYIM1Ny8glWn9GpGvgDg0MQFDKyktAeYwNMh6g34AW+pBLhzgeTEEsaUTQl6/ZpxO6bA21RXlhmg35ESfYkyd8wNS2ephVmog124rLwU8VSIe5Nl96abbmqP3cipVwCB3KZAYDjiqm+eFjBnn312O565XW10KN0XfesU7tdG4+O8885rraZXX311y7shQkVCHVKu5C+rtvcge4WbsSiW96KLLlqwDjp6hbeDrJxp9ziQFji0e+0cs8aCPoq/CcQOJsJjU/xCbKOBP8dgOH6CoEohz9l6TwiXjHMRTyHvoVfzABzLGiAo9SHPAhGeq225VJadfJRLat8R8uGct9Q8YvijHMlYm+KZgHjJ8itmMeVcQNY6MZncaakW2VV8lJ+x5I0IrG19x+OqPEt8p40WECUOijbuWE/JNdYm/cA63Zf0IXCqL9QLWCHX8HAKpH7qw4ImbpR73wLOonEKLv5NPMJDca4AodhLc1mYDMsgC7VFJHkNdOs/Y2Om7RwQPzi/CWQ7n3b1jhYAPvvZzy4quA0ak60EACR8WRcI4JxJ+4//+I+t0C6poFgDSgHdvgNIe1BK3Is6U2ardp/1rcem+wlhu3gJ3FS+A+zcUxRQbcBKqQNJ+KLOUyNuLQsZlsC+LjpzR/soRABX35Qi9ZK/vMXdlcw7p476kZXcbuXcegUQaEHqKBX5ArwpixL9AKjY5YpnFpBDLyI38dWcwy8LDQtNMaTmoD4mb1LavKm80r8Bg/reOGcV1I4gi5w1yBKuPcCteDftnQoIL82L3PxmAJjLwWk/3wLA5z73uckKelXzDBqutL5KalVehA1BCUzmKBarQfEOKSv3VfXyHTeqfK2ahyY8BkBTYpy4RIY4XFjfsSTkgE154DNFZBFQk1hA8BVorV1WSjvwggIGGliStsXvLJdh7FuYmU9i9+RXilhf5C2GLPetHKXqJB/zwzwB7L3TNUeG4Jd24h334sEmltY46dsP6gVw4JOFBkDpaCZ5GYNTIcBIW73ujOXM4d8s0OSHcbgLoEmf4TFAiN/e1iGe1oLSeOVdAHB5KsL7fI2RlD6dSr+VrMcMAEtyc3p5VXEBB2BUSomWcN9a7QUFWqobCEXKNGe3YWpdcsomuJ2vpd45VtWYulNouW5giogCHwJYsFRS7ngzRQVHmQHUqeOOItQ++aRYj9f1ubllvquXxQX++W5sUgfAj9Wbotf+XHcm3nGTkilcuSzTKW51dROWwkIlJpB1ykI31Vpei9dkhHo5n4+l0nzWbgBK26dW3218AO7w3RjVJi5j7TKvnJHoEGoLGV4W1nbWXnIMMJzCmN7WvpK/zwCwJDenl1c1AGjyELwlSCAvN1OOoCGsmPtN/FJEKBAY2lkbSC3XmTASj6TsvkDF/eKPKMJcZbhcr+X/KUv1ZDnxOYUIbIsAba69u09ZrLqEvjpPkYxhIA4v+lq0jVNKO7iC+46dTfwIYAtYpzhLLQA3lRnzm3qxBGo7a1sAADnK3NxnhQUcxD/yePAE+L4vqU/Y1Wr3snoBXDn161uHmPvVR3u5r7lXWfe1XXxdmJtTq3NMu8wBiyH96dgeVkILBaSN5Jcd+J/97Gfb+Gn6iFWZoWOvA8MZAMaMoN29pwoABLRMEhOqBAGTwF9ODBgXi0SwliKTn/CjkFmphiRl43EqiGMRIcBqgxwKQVkAQRCqKXzidtLeUouKTXWgzFhkWGamqNAAGUor1SoKOLJesdSZoyXbqG6AH4AJ2KRYxjb1Tepv2mj8CUthCaTAUwFbtw4AkXHCos6CJ/+Uhar6AanGt5hFYx24r71A67alz2eLORY07mHy3kYL7eeZwJOSC4s+9SpxrzFsjugPfauNQKH26hNt5C62+AcMucXFqVtUWwiQq4gcKTm3SrStbx4zAOzLsd26vwoApKxZbMSPlCCTLawwU/MzkCm90lYJ1iLCMAecpraJVROvU6yaniOwSoH0TW0AVnPdwHhMwRhTtZULpau+FHlfC9smPpT8jcWC0tGPKSAeGKK4tJXCLknBwsY6pJwx5sa69qiLUAIA/+DBgy0IJFtyyPP7mvPnWI1ZGP2vT1KUv/4Qo2ax6uxG8kVfp1rPc9oV86y5CChxpZorgDAwKGYX4bf5v+ukDfrAgoYOMYZYC20y8TnMIQAQMDS3xEz6DMyTtXhCZtNF5q08pZRxMhQ/xwSA09gbPxSn91A5BrVVklRicBMyJkwOEcoEdGkiFFi3xiCr1LAbuG/5lAohZfVeG1BRhsohHJWbQvjsWQsLArcmGbPKAALH2OAT0zZ19FYJIIFloi9AYLE+6qij2jGgf1KsVpvqyRLmEGUuzVNPPXVSQBrIUidxbNdcc83Cwcy5G9bIPP0BDGmzcepA5RTPgPnoXcJcrUCEc/n08c///M9XD4HY1KebftN+c0ayYDd3WIEdJcOqqf4WbxYHe4m0G/iTusdH2S3O88Ho4Cq+ipO7BgAAQABJREFUkPwzLugLiUxkbTT3lpMxak6Hq/sONxo/gnjvc9zS/9tWmSlWpHXsAbS4WY499tgisXFW6sgqO5VMOALJGwtKgNJQD1YYq3Ur4KGJG4u76KSTTkpqE+HMvZHjmo1tM0UGhCsvlRzdYJMBxVqbuHEEg1vlp1jYatcv5M8FZfwdd9xxvceABZrxI87Ju2r1T2kKZ7Dt379/cspf+1kC8QBYZXkrIRtYTbxVA1+9lSTX6wBA6GdyUKwgcDglq+q6MYO/QA8Zae6GnfzAoFR60bGuHlP8Hm8AQHrJ/A2gcPkKOLoXiGY9NEctEFzD5+X/w/errn3Hd2fRbuU+6GtBZgvgFEduRJ2sipBVUImViwFuIuSQyWAisSTKrxRZpRH0YxAloD2EhpViX+LOIJSHAIAsI1y4AFVfIRTaRZEKxCYwU9ob8om5Bjcm4BreEhLznDEGAPS1yMXkveoeC4/rr7++3RTCHdWH9AOrkoUAS6KFRJi7ffLZdC+rGMUFEAFDJeTBpvL6/Kb9xqN54DVtLFfeIJJbR1Y/r+wDLqVcAGieW7iKQwOoL7vsshas6u8pgyj8ZbWXwjgABFkHWV/JnQAGeTMOJ8IbOkkK7uNV7adDyRP6D2BkXFl1tUhY9X24X95kpoWt8W2eu3Y/h++Wr6vqNcR3swWwPperWAApQbEw3kGa4gJZbrZgdab0HCubOrEAskCVBA+Um9U55TYGsbRyraQoGRtYWNSOOeaY6lUnyAAVCjbVDaySdr8SWjmWxNjGAtcHDhxoy+q6dzY9T7nZNXjKKacUB1PrymUJxtujjz46Ke6WkrjhhhtaRWQsUE4liWICAC1UAKMSMqFk/eRlUQEEIkC4lIwgd0rzE1AFBLkTAVjAcIo8bZm55o+x4I1EAKF2AEEBDALkpXm2phqHxdfGYACHZBpZHHN1j2SR2NDgFsDDz+k9/HD8wabI4q+CM3kBC1YfK5xcsvqh5OSXSurEFUHQlFw1Wy2NdRQMXlj5pe7mZQkVtA3caEdNwn91tZrNsTiqs9hFdQYEaxKesOQBnWKbYsozvowH7Sy543xTOyl/Afhc1mIW+4IB7eJi0k71zplnq+qJjzYbCYZnwVXHqcWCkVN2fAqH4RIGQkpsAKoBZMgvdcVHCw5vtqDUhfHEjNFVfTT0d/gttGJfE9ZjMWeeGR8W6Vzd5D3Q4r4SOmTo9k2pPGPQuMBHsgGvjSGLHGOc9ZXcsjA3hvQLGS0u1r3zq+Cm1Jtl61IFAKoiq51BVELQU0q5AFCdCHcToKS7gXIb6ygYbWK9CbE1/u9DwJQYD9chYooIIgoLeEtVjAQXl3sukIzlEwFpBx/wGrNRQLsIUYoMkCJAhyBj2modiEsBx8YAK7J6Uxal4x7NE5ZqljZl4GXJhVgJHgegSkZwUfI6kGFTBSAUuJhAC40Qy4gPwOuuAEH1VVd1tsji5QFGjBMLdpZOFnWymyHAvfonVX4ob6Z4DpCzMwCM59eu3VkVAFIiJmsuWQlyFXAR5BCwE1bKOfksP8sNTIGWsBgs573tf+WyqqQofUKUksOX0lafVfWm8AFAwj4HGHm2j1VuVV1iv8MjK2NWIVaymAWN+nG7UMr6BbAYggABYNWCxFzpqyTNVXkIKzCWKeKSpD6sVvjhiBj5l1yMlairOgLw+g0fAyD2XV9+lqhPTB4Wb3YMm1fcqXhLJulPc26q9V7VNmPDmDDXbMphHcR7OoBRQUyu8y9ZC4FEbdPOoebYqjrv5e9mALiXe3exaAHgs5/97OKrcYIoV9EH1lOmVoNWiDnCjMCQYiw5oeyYq9UpN2yOazOmnFX3AIB4DXSkAFDPAypcSjm8XVW35e/kz5KGX4BAKlFqFAClUNpStapOFAzrg7CG2EWIeg3tCsZfVjyvsSK4U8Y53gJm4Qy/UrFwXb6aJ5R898y87u9T+AzoA4H6UcgBKxS+DGEpT2m/vsdTdTa3LOwsWiy4LHrJBnN914jFT90tUPc17mKvbTPGtZcnwMYyoBA45CViBTdfd8kCOuU+mQHglHsnv27VLICUvIlLoeSS1R0AaFWYM7ENZgHU8ilJwJ/2ls43to45MZKEJesqxTaEcgMoCGzuwFTXGuGv3iyfFgVDrP5ZIZRHycYAbXX0zNCuYPMD8BMXpp7q25c8AwClxhTGlAdMUeqsjealz3g2NcJD1jXAIriFgcLUsTtE+8hcMZc2iJgnFiLGA1AIBJrnU+R1DG/UW/tYqoPL2NV45ckQ0wz4aisLLkuoMBkyQp/tartjeFPjnhkA1uDqdPKsBgBZS0qBCpNWfiZ9jAtuHXsJcULBKrk0WWnnWihT64Q/qeV7FoAkMFN2EvetcxDUsTF16/IHJFk+a7j0V5UJWFGerGuxoDO4uT1jzA0BVNWd0gdcgCvWIP/3JeDVfLHDHZhgEdRn5mAp0ofytiAIC6iheNSnDeqk3azkxhxgbN7g0RTrG9qmbrww4gSNWd4PvGbxB4rI5xx5GsoZ86ofjG99YVEJ9HIdhzAMco3xgBWX65geMdYAQx6EMK/lM9NtOTADwNvyZC99Uw0Ahvf3xlhLYhhK8IrFyrEomuRWw9x4JQW3leXBgwdbADWGZYAA5KLiWktR9uo8lBtYXxPOuTF8+pLySn0fbsyYW76H1YoyAYxiXc8U09CuYPVmxaPgUjeFyAPo4VZjxaRIKU4KtuTcMV6B4y996UstbwHCHCu/etci84TsMM9Yg80ZY6KUjKtVb/niswWemDpjw0IYkCWn8VsbSvZrzbZsy9tCTRtZwvUXQGhzibGlneavjXMHG5kNGOpH/DC+gWS/y0M63GkGgHt7BFQDgOIzKGgCsgSJ+QL+coQtAcfdSTCUXPkCIwHwDuFGXean8rk/CC6Aoy9RDvjCIjNE/fWj/kytb2ifulrRaz9LR21SDsXCKkaxxCgIz+iToV3BeAHA2RSC18IT1KUPuT+c1xae03cpYyw8v+qKjyxUlDBAr64l5+eqMnO+M+64hRErq7ASC4Ip1zm0V5+SyayZ2iB8RRydhYK+tjiT+o6VkP9Ur9qjXYwIwg0sOu50pzu1gJiVnOyzYKK3LKZZSn0GEs0fgJHVECAit4DmqS5USvbBDABLcnN6eVUDgISiCWLClaAS+RECFCIBmGNJXNUeAGyoTQmryieUtI0bpC/hi4k+lBtY/VhTuEZzNp+od8gn1i3blzfL91MU+EQ5xMZ8UjxoaFcw/rD6CA9w6C4LSB8rDzfh+973vu+BAZuxtJsVSd4lSb0oZfOIlZXsKLV4LFnPkJf2swTu27evXfyxpuEPcNyHxyG/Ma7mjsUwq662WMSyxALhwA4y3nelPSk81Da6wALSXCFH8EPyHYODsQgoA4EWKXgENLMcWjjbgMJ6yFoORNMDyMKm9DxJaWPOM2MCwLISJocLe/fZ9k0ghHqsSyuWFSaJySX+pATJz2QKK+/UPFlvtJUyLEkUrJWit5+MQeL4brrppvYNFAR7X6J4va1h//79g6xsKUtvn9CfrGmpFPIxzgCIIYibCK9YEGIBt1hF7WV98OaGIQmQ87o3vDrxxBN7WaqAAgsLIRiUHNJn3jpSg9SRyzxYTJWTEtZQo26b8gzgCRjgcjQ2AvDf9NzUfrOQJMcAHQkAMGZZySx4AMKZFi0gBPbIglVX8pi+AiCNX9bhbYncnhpgpBcOGXEGfxPI7IDf4Zlm1RRWQiWaYXKYbLlEKJucpYlrkOuAAhtjEmsX1xQwT1j3JfUnoDxP4NcmPALa8AyISuWZ5yhc1jX5DGGtoARZwbj/8C3GUqVewIx37nomB/T27RtzxyvYlA2E+hwLTriRJe+dBWLxWfyb9hx11FHJ/bauDfqTVZg1hlXt6quvbhdV+JU6RtaVVfJ7PGJFA55Y0LyvlzXJOCnlBSlZ33V5kdvkh2Qxy6oFCLLK2klsrAOCkoX0lPtkXRtLfB/A3Lq+BaTpGToLiGZBDMl34XO4mlso5Lt8DR4r/cOy6LopDSEHS/BxUx6zBXATd8r8Vs0CSGAY6Dnv7+020cqacD30XsLuT70+M9lb1VBoJcmEp1y9EzhWuZYsX15cEoSOF6+nEOVuNUuxD0F4dqB5167yuKJSifAEFrjfci3Efeogborl9773vW/0sSDGsfPvWOJy2tynnuFefLKblyvrPve5T7I1h3vQe3MtOO51r3tFtz3UI/ZqMWW+6lsAy3ukx5pbsXUO95ExgCD3uwUVIOi6y4AJWDF+Q9LWYBkE2IGWmfpzwDgnCwMYXHUF9uhT90mMK+Gzee1/+QQyzpYBIhDpXuBQck/4vO5/9zt7saHBLYAzAAy9We9aDQAKzqdoSgEtlikBuV5Wn0PyIcDuete75mSz8lmKnVVraMUeKiNO0hlYp5xySpKiGdoNrN5AK9ficccd18YdsY6lEBccC9f+xoUNmAxBBO7NN9/cClFAKFa5AwWhn9ZZEGrVX51ZcswBIDCV35QUfltwnHTSSVV5zoICBHJF3/3ud28ta7G8rsXH2HzxxxgXwhIsx0IVKNxdJsDAvA2uYpZCIJ0V3kJM/BwAMtNwHNAnARSuu5r/7gsp5v9D4R4zAByuKwcrqRoAFDNEYOda7AInCBg7s1jYcshZZoAaoFBaibAIsVAAgWOQSS1o34RNARaEgVgxVrQUN3JKmwGJa6+9tg3EtrnijDPOSLZMAVXGCUBSum/XtU39r7/++tZtycoTS4LIHVoLrA8FWEPd9LO5BIhyB6fuoDbexOqxgpqXAEBNUg63O9cja2Bwi9Uss1TeLDT4zSpIOdtkYJ6lxOuWqlPJfMhViwrzTz9pr3Glr0Lapf4qyZtdzmvMGMB5+VB/5FTbBWzlS6GXAhKUFgsXN0rO6ln8BEHMZVFa+Gozq2epNvftfqCHtYSrQDxSX/I8QEOAD7GhAoBgHbFQUG/9KrYoVVFos/zkU/qoknW8ZOVQLgsVhRcL5jxDaQKCsUfKrKtD3+/1c4jzBKjUJSW4Xz76Cw+4lvVbKpiMaYP4M4sroSCAp+B65anH1MmYBIRsDrExgDfDgsW4Z4Xddfep+msf2QfcGtMWw2SRcCALDpt7yHByUp/pv13ou6mPrZr1Mz4vvPBCRfjznZplLec9A8BljpT/vxoANHC4CErttiVABZ/LLwe4ETgAB0Udq6z7sB24FPw9lmADlMXypR6vQhmxZAIFqUAsll/c8dyRgfAMMEl1SxojnpUnV9RQSpWiwyvlGp8x5WqrRQjXtY0wFKb6D0n6WF2BN0Aq9YxNih/g9qo0O46FQNQa/8CmvgUGAShzWXk5MmFInuNLALLGenizSABFgHgt3g3VTvU3rnghAEKWTsDXGLPoM+ZZQi1+tF9MKauoZyzQZ5oOB2YAOJ2+qFGTagCQIrBSJ6xLEKEirpCiyQUmLJOAUmkrEQEm1ocrzOp2DKJAgFDgNkWhU7CsgPquFHhfxwd1BR4AQQpAnwQwse6Zbd9rt40srA5D7hyl7JSr/2NjvIxpFrRwlpi5MrTyNweME8fauAInKeRZbbF40J/yNR9qEaC/b9++dpHJ+hoAx9D8y2mf8W+sWKwZO95KARSxDANCewEMBv6QK+Ym2ajNrIRhsQQAsg6yEpq32s/1SIfoT+B+l/o1tHkvXGcAuBd6cX0bqgJAk7ikOxQoAf5SLUSBDYQtocMCU5IIKS7gGuAytp7qIP6GZSQVwFHmhHEQ0LFlp9xHKexrFDmesRjrm9wYSpYtVlBKp6ZLcrm9LFHAnHYY9zFKi9UPcOK6DvMl5rnlsnP+B/rwiQWThQb/Uupg0cP6bezJS9sAwZS8Ytqjf41RdWdFBT4BJ2C8Vpkx9ep7D/AKGLGSWQAZB9piMWE++J2VeZfatI0H2hJc+MY/K6HjnIxFY9AiXSgKQGxuiC80r4BDwNDY0td7iSfbeDbG7zMAHIPrw5VZDQBS6CZvqityFQuAK5RruQOQCJQacW6sZ1wcqeBrVbv7fsdyQIGwKKW4xjxD0BLCpUHyqrYQ5sATJccCoF9S6h3yBgwsEsSJpfIg5NXnShlx67HkUE6x41R9AUbPGZsAGPemNtS0onXbBvQDIQ5KZ2nXjpQ+CKBMG7SHZQcfcq323bouf1Z3YwagCO/oVXdgYpcAgrpaEAFELGTqD/Tok4MHD7bxgubIWN6FZb6X/t/Y0ZfGDvlpIRgshfgSgKFFln62iYocF1dIXvEiyEPapX4vzceS+c0AsCQ3p5dXNQBoAnJFcsOZkCXIDjOxMsBCDgEcLAasFT6XJIqf9WlfY9UqnXdsPSk/YNlKmUUhhYBIVkA80qYhiCWHxQMAyXWHUhiUAmUxpCsY7wGeAOAotBjyHNDFcuZojbCTcsiFBJBm3FKowLP/U3aTay/+U+Dma4gNpNhrzQnyxvhhSdp1IIh/2mPsmAdAEH7ygBhXxrS5rX+GWiCo0xiED/oTGLZAwQ/jirXUoomcAvyMWYsNwJBsZ0UVX2gRayOKhTmarYb9enEGgP34tWt3VwWAJqTVLOVWgoADwEaeOQSQqhsgWXo1ra2sWBQn4TQWUbRWyKkWWHwJO/YI3qEIYGW9pPxyXf0AByu0PgEOhiL9zlIjrs44iG0HnhvjwB+ixLjFSi2gYtpv3ACd6iy2jgI1T1LqIC+gltLmztQX8o0FxTH1Xb5nrwFB7cNHAMhCBvAxTli+gHRXVmNgsJScXebpFP/HE3MMX4xPvAluZF4LPDIWLEDIMXOKK9ninOzHN54acwxABKh5rWaA+P29PSYAHMbs8P3tnf8rxAGTz2QysUqRCU9B5pK6UULiAGOVc2yZ8gY8uG5cxyKKlwVPQH4qgCNQHRMChAxlBWTRcHj4Jz/5yVaw55RLITo4mAUKPyjJoYhCQs6cPPbYY1sQtK1sY4aSCsTlBTgN/e5g5QOBwLgdwtdcc017UHeq5Z2S3t+cu8ky4/Bolhv9Yj7XIgDB4odr2ILMokLCyxqW/1rtWM7XmFZ/iXIGbFgEWc1ZwvSRsU725Myd5XJ35X9ttthbteAD8ABCOgToC1fzzmfJPeSExJJPnpNJAGX36rMxNlM9DvxAvaznnA9xoNpB0PL3lgTui1JAyAR1UPGpp56aHePBVUBYWFGXJsLYKjP30OrcemkjgeednilEGN54443t6prbZShSrleNEeIl3tjCkkU5Ojx4aKHNnQsE6gOAZBMZ3/rMJgqLk0DnnntuVbAUyll11RcsyQC5hQBwnmINDHlrIze3NnoF4L7G5UzJ1iZgOgBBbdp1ILjML2CQRQtfuYrNewA+AEJzaQg+L9drl/43LvAtgEPGi+A+xl9uZFcWVwSMA4YBHHYBYvjePb43Z3aR/yykh8JA5jeB7NJgjqxrVQDI8sL9Y8Vfggjx6667rtfL7NeVSxmwjqWCo3X5+p4Q8XaI0047bVS3jBg47ydWD0IohYBZoIQFZ0jwJN7TW028riw1Di20lyCXlxW9t6QMLYgpZAsXYBaIiiF1Bh5tAFBfb+xgSRuLKAIubUrSa+9y62JcAeYs8YB5aUv8Oj6RIRZnrIH46j2nrIQ5oHZdWWN9r4/MfeMOIAQMETAYAKGYwpnSOGAxCQwGQLjpSmb63VgzxhgdJMAwfF51Xf7ds5L8hpRfMwBMGyO78lRVAChGhfUvuMNKMIVFiiKlzHNIXIhdihRrDVJP1s8hdtFuqj8rrDqkWvAozAMHDrSKcsgNCdpESVNeQGCu0LOS1w58GMOlarHBqnnkkUcu+rwyjjLnymeFO/7440cdT8aCOcNNfbe73a0Fszn9AuRqG9cwa3lubO+mebD8WwCCXKjiirlU9zXWyKGA6HJ9av5vDJF3ARByeXJxchUHUJi6QKxZ772Qt3HGYhiTzId197HgAmMogElgcFsKoNF9gCYKIFI+3bTqexbPQ56L2QLYcm9v/akKACkLgiYVfKxitZgkVsVcZWGy3XTTTYsTTzyxNeGvKivnO+CF4OUyG5MoOOAhB0RR0IKmKekchd+XD4Qh0MZNTznnkg0NLIHAS8kxGVsvQMPCQGwlENqHl3bUs5h5t3asFTG2Xn3vA8pZA4GlY445pp3jffPo3g+QsASOAULMUVYy/GWVpGiNNYvWoDC7dd0Ln80rfQgQSoAFMMiqa2GNBzYy9Rmfe4EvU22DMcrqCEyuSpt+696vfe6VX0h+D5/DtfsdUCiGuaHBAeC8CQTbd5gIUMKmJAGUXKy5xMRucFsZl3JRd+vE8mnX49ikbVxeBL7VfgpxkbH6UJKU41Bk/IgT4walmHJdwZ4H+AF/MTpDWzQp1lNOOaUFgeYFMBerZK3Cue1YdClsmyiM3zHIpqIzzjijjeULG2yAUtaGFEo9qiilrOVn8J+FXOKqExpi443jViw0jXf1i+2n5fyn+L95RS4EuUeeAuGs1BaLxpe+NF67qeamnSnyaSp1MvbGWowEq+MYvEiTJmPUdHfLrHYMDJYYPEzIqcBjFVu58gisEnmWOldwVT0BDDFclMcYlo1QJyABzw42B8lyc6UoMnkAH1z68hhSGCnXxgGuQkA0t2yWDZYrlmRjaOijegLw1B7jjxKO7RN1BUosLIwtVvBU0BXGR+pVueqiPRYH6qRvgOzY9qSWXes5bTJfWYcBQhZj/WQBxSpiLOaOv1p1z8lXm8wJbbbQAOZZBH1vjIaDl/Eh7JjFD4voscZfTnvnZ+M5QH9feOGFHvDnO/FP5t85A8B8Hm7LoSoAtJMR+CBYSpH8uCOBgVziBpYXUFOagCYuJZaeUrugU+toFU9Bc7Olxjh5lguTy2hoyxmLE+sEBaTfcwEGVxdQ7ogbIAqIGZKUjYc217BAq0NsmzxrvBpbzjQzt8ZcYBgXABPLvLAH4QIsRcZZbJuG5H1MWeqtPfoFGDI+gCA7oc0BwAgY3NX2beMB2aUPyQ080L/CFljhtRkPDjYLSuPXOPR/8MoEz8q2Mubfd4MDMwDcjX5KrWVVAMhyQziUBgzcFARSrgAmrAAjAo7QK03qRyHua9xIfesKnJZaXWubvD7/+c8n1SXwhXWEEmTlofiHIrxjKdPvrDJ9rGbr6kiZiYfRHpYsY2FIUp5yjQ9vLLBIiK2DvgSELYbUn2Uwd1duTtv1jzER5qQ6AQbGCKC0y2TuaBvLmLjAcFQPqyeXMaA49AJiDH4ac8YZGUCe6+t9jVwD9M0jISasg8I1uNH9b64ChqyFQHMpeTZG+w/XMmcAuLd7vioANPm5EKwiSxElSfiWUNryIqwI+BquQMoPwORq7BM/w9ogBonS6Qsc1/FZG4ENgtjKPoXwy/MsPepWAzSvq5eyAD/gwmeKKJdYFoUpsKRR7kMrKLykTAHA8Oq4WAutccH6B4CIw2NJ1J5YEJnLu1XPq5N+AQ4sYJz3BwgAp33G/6q8p/AdSyvXKKugfrJ5hCXMvAIMjR/9UWrOTqHNm+pg/AL5xp35QyaTC8aAcQggs9yLHbb4ZMHnQQAMLV4ARzyTDheebeLnFH+bAeAUe6VcnaoCQEoAWKMQShFBwbpAqZSwLhBGtdy0gIrzuLjCKY5YokS4VwjSUsAU31gq7MzOsXgCj3YWU3h92hTb9k33USqUjfg9FrxcKySeAJUAGCXFqjYkqNVWyo/iDECOYrRgiK2HebCvscQAIwAXHgVX3SZe1vxN3fWTcWbs270MaFuEjOmuLtVm4wYABHqMGXOUHAFyyDuLXjsqgV79e7gQvgCF+EFOkA94FKyFrNxkEL3AM2TxjWfmnvFrEUOuAI7AoXF0OPFviuNkTAD4A1NkyB6rU9VjYFgAHdx81llnRSu0GP5SKBSflXguET7iAJ2xVoNYQFhozjzzzF48YGUjJO1aLUWUkgOqAQ5nFKYSZec4FTtaKfWhiSXBhpT9zeHUsRazTXW0AHA8C4VtHFBkY5DFgreGUIDq0ddSaxyLawQmHa48Rt+s4htQa+FB4e9rwKojcPaCRXC5reYXN6h+sKgAfgFhiwyp1GJuudxd/h/Qw6eQzEXyBRD0GaA0niVjJnwOV7+PNV93me+xdQ8Lt+b+wY+BGUcKx3KmzH0/3WTzB006q0leHPv1Jl3cpBc06T80aRvxgz2kSec06eebJL//3KRPNuk1h9K/Ntd1VBUAiv246qqr2le3lRT4XHaUiqMwcslq3QG9fQFabLmUwnvf+9727DlKIJaA5/e85z3FQZaVNguaYzxyrDF2R3LvnHzyyaMIYLFGLMFAYE47Qn9Y6XpPLcUCPI1leTBnWH+FDjjwHFDvo+AoTWDLUSaeBbbGakvgbbhSJvrNGHQgNgthSbkQypnKFaAHBiVzxWKFDOC6H9tKOxUebaoHSyEgSBa6LqcAEFcBQ5ZG35MNsdb0TXU5XH+bAWC9nucX/UCT/ucmAX0OjbtXk05r0meb5BUV32rSJnpa8+MrmvR/N+m6Jv19k2y5BQoFer29SY9o0jqqCgAVGl4kX9Ia4QgMGwJKvMUDQAt17GtxWcfU5e9Z8yiDQwdqLv+89n9WLkLOYbslCeDVHznv2VWva6+9tgUZFPnQpN+8Xg1gOumkk4oIeYqmmycwOBaxHLMGAg3GTd+6sB6zPFOiAO3Q7vpNfAtxYSy5YUMB92AfoLsp/yn+ph9YBUMCSgBB8dFCPUosYqbY7pp1wtNV4NB3rOgSYiUECPF4+dr9zue9PAZT+mIGgClci3vmqua2M5r075r08s4jL2k+P6tJ/0eTnt75ftXH/c2XttldtvSjgLMPN+nfNOlhTbqoSauoOgD0Llqr/ZIKiLvAYb73u9/9ikxYFrEQvL6KSbnfsTJymapvnyB97eRCP/3004u6j4ADLk/59gUWXV5QZt4IwZo4hiWHAuDS5mYr9U5nLikhBqw2gKVxMRZpX6gLENh3Nz2QLCaNtZbb36HaFOBUyLywgUIYhnFoIeGImz5zZCpt6VMPi5bgKmbVMo/EsxprIc3u4j4cXX0vPptDgCAL/6pr+M6CFgGBARRafJlDAKQx2b12P0/Fwr6aC3nfzgAwj3/rnmb9+2KT/q5Jy4FsztfgCkaA3H9qP/X/85vNIy9s0l806RlrHq8OAFkxrHIFS5ciE/vqq69u3Y8lNoKwJgpALm1p67YXEKbc7JLrQwAW5ej1ZSUJ6CXEcoGT+qHjjjuuZPWi82JZ1RYg0Gv3SqzgCX1hBoAT4FVy7EY3rHMjgAQIGjtAXF+FI1zC8yxvwiaMwxJ86lQx6yPla+c7MAgU4reNAyW9BlkVrPwwcEL+AIX6iNIF1IFBllFXAHFKfVaZJYNnb+EHDAZA6ErPsCYan4Cka/ezZxBrbgCIXWDoO2DSfJXCppbw/6rvptbHYwLAvfwquFMPjfCrD127l//Y/HNTk85s0glN4tpNof9y6KGy72LrWROCzGQqSSYSgchCVgIAisfhVqb4a01Au+Eoub4A0HtwWTuPOOKIVpiU4uOd73zn1roYjrRIzdfrzIDAgwcPtgH+qfmkPqf/gVgAm7Dm7sztQ8/jNwuAuEBB6dzlufmmttGYAQQspsST3ute9+q1QYQ1iTXT7m07hQFKm0ymYg2kNG0OkQAhC7IDzTugAUBAkPWSstyrpB/CRhFtBDICIBTnaiGi/cE66Io35OBMZTiAvxbafTwiAGIXEAaQ2L0GUOlegDGk7v/0TiAyRl1CCqCRnJOv333XvXY/x/zm/pCUGz6Ha/c7i5OxaC8DwCMbpur1z69h7hea7wHAI5qUAgBJy8c3SRlXNmk0ItxqDCIAkLVAHE0uEabcolbfLEk1iPuOIGeN6ePeAU4l1hGu9FKEf8CfDQMAhcmfQly/wBKQSkiVeEVf33rov9NOO611s4vhA24I0FxiuZavtlkJ4xOwMgbpr/3797dnMDoz0C54GzxiQZz+tQgRisEtPFU3q7HOEm9hIUbQhhjt3deAQy7iEgu+MfqvT5nGmHkU5hKwYBHCQijpP0ACr4BBV3Mgdiz0qct873oOAFvBZbz+ru2/BDAYrgEkuobv5OJ/YNF3y1dANHy//Jv/JTLRfeF/V9T9f/m7EnK0LSThT5pGSihohEde2ZT5i016SpNevaL8/635jgv3t5r0Ryt+3/bVi5sbfrVJlzbpvA03V3cBAy7A1dFHH72hGv1/CudtlcqXi8yELrGzeF1rWHAI6r5AToyQ+tmpXHJCWlHaAMPCxH2aQ/rZphWACTgZgyw0xDbqRxuECOcSJN+bb765tWSzpI0NQoABB2LbKGIs2e07FjAtwd9NeVBIDg82vljpgSJA0MKv5FzYVIep/YYnvB8BEFoI+994N/e6yVhNXdxNrd1zfYbnwJgu4Pwl/PD8ii3xgc2N92zSJU362xUPndZ8d3KT3tsk7uA+9CvNzS9o0meapJx/adI6+sHmh9987GMf25qXdXZIpZQ4ixdBxfpQkqxkKIUSZwGqF2XiUFIu11oCk9WFNUOdgZRYIsS5jz1TcqeyNrN4hhi6HGDDCgFQOuZDDNcYgESZ4tsABTF8rK4lLF0hX3ND/3HH9rHixvZz7H2srtrJ+uO4F1YydbS4qDV2Y+tW+j7tMS7JDwsVYJxb1M56oMec4LbrM59K13Ho/PCEtY8sYKXGF6DYuDTew8YSi2TudMfuWDQIkQAe3XM48Wvo/tnV8uiYoP/D1SLzZS97mSZd2KRB/cHj+FqG6b1vHyrmR9YUF76POQuwm8W/bf75syZ9qklnNCnqeYHlyxRMwcvf9/2/lguY8LMBgFArsQMVEGJir+kGZr2gzAhmMXixROADpgAqcFXS8gG46X8WLruUc9xINqroEy7T/Y27smQ9Y3kFCLHSOQLFMTUOqxbLl0sUZjhcWbwhy/O+xi05JnHnsriK7QO8jQ+uU8B3rwFBfAb0uL3JJotKQJ/V2cKDRVC78cQYONxIm81lKRCXoPkYlDl+OV8Sv4QUmBfBWuizub8Xx03gx3zdzIGxN7st124vu4Cf3DT2r5rEFfzLyw1v/he3JwYQiIuNAXxmc+9Lm3TLoef+sbluI766AEa/795SAJB7QlwWcFGaKHguMEHiJchbFAjSVYC4RP7y4M61seD+979/L+sUYe7IE0qurwt5W931NQDIqnqf+9wnSwkA0eoJlHuLyVgKRZuAIhYQbWIdKUX6EL8AQK7zElbG3LoZHyziYjotMgDBEEOWm/eUn9fPrFusggAOjwMQaJ7YWDGFvpkS//DLohkoJJsDOLRZwSLH2GHdXr7OfJxSL9apyxZZzSj1T3VKXp3rXgaAd2yaXPIYmOc0+b2oSR9rEuD4rSbFUAsAubW6K0cPlnLZEiyAmjPnSgsRq3+DthRgo9iBwLPPPrsacCGA7XBksegbdycWivXJq/UI6JLEKuDNI3Zd9rFOrqoDN50+D2fPrbpnqO+4ggHBE044oXWXlSqXZcXuZ0qUNVBbtwjQUkVvzAeI12aWHgCQVZZr+HAgc0t/AIIScIMH3KRSjnV7r/PPwg14Nq6Xr2SD+MIuKAyfgcXZnbw3RgcX8DKZT4f01AwAl5mT+X+w8j2jyeffd/JixWPNe0WT/tdD3/Np/EyTHO3y5UPfhcvzmg8vaJID2c5qUpTbt7kPtQCQn7+kheS7Wf/Xv5deemlrhSkZvyZ3ri9ur1NPPfW/FpbxiRXl8ssvby1XNfkhJodVlBWw70YFrk0COtdSt4pN3GrAKbdp7m5oggMIBEBKxWmuqnPMd95BC6xx4bLalSKAw5EqjlbBL0CwNDBPrSsQLk6OBZRrxzE2Y8YtprYj5zlgBhBkHbQRTcwkIMg62Oe4j5w67IVnLeKXQWH4n8zES+OeO9kin/U/pNmtvNsjwCLq0AJyBoCFu5IV0AYPhz2/u0m3NumEJu1v0mebdO8mfatJ6PZN+rsmHWyS5wI9vvnwmiY56w+IXOXOPdh8/9omraJBACAgwKpE8JYkwc7eNXzuuecWsy4CWIRYKaviuvaGN1j0fR0bYXzllVe2Z9/ZCFCagvXIjuNci4mFhTegcAVTvGMS0C020TjkQi9ptQC2WKOtoPWnXbkl88/hm40Sjh8CgtQLGD8cwQ9Z4e0u+MAFKj7VIg9wd+27EMvpk73yrAWQsR+shj4DhvgrkVWs4uRIAISrrodjzOaujIEZANbtKcFrv9+ks5skSOnrTXpnk3zXBXMAIMvfwSaxBAb6vebD74Z/1lyvb74/bc1vgwBAMW9W3xRQafJGEEe3lDgPUN0oCRYdbtaaLj3gyJElrIB9gRaLlmNhuKpLKy5C3buCXR2lkssDZ7kB1ay0pS3AfccSYQYEUv59D1OOKQvI1Fb5e4OIMT8VcrDwwYMH2yQ2DhDkHs3t36m0r089ABObvcxBV9Zq1qsuICwdrtKnfnvlXtbBAAaBw/C5e+V6BgADMNQPxiS5tpzG2FS2V/oitR0zAEzl3G48NwgAdGaZiZ772rFVLKVwWTT6xtOtyst3wQ08xHtgxfMBRQL2+xBwBsgAjjVewUZBigcE2B3ynEtckY4rAQLHdpEahyxiQgeMGRbBktY6+TuWRRJPyQU+JTDBWsMtDAxSsOroGJHSC4ncMTPk88BJAIOueMTtFayDgOFspSrfI+SYmNUuICR/WRHJoJDEILoXAOyCQvOq+3/38wwWy/TXDADL8HGquQwCACkcljWgqjRRZCxiJ5/s2MQyBFQSJn2BWd/SxdxxBbMCWgH3IUqK9ZOVzq7H0sQyom779+/PtmQR3jZi6CdjYGxLIF5pH8s0JeLNISwPJYngNI64YMUeltqpXqqOgKoYWnNTfJw4QWBweTNYqfJ2KR/uYuNDAgj9HwAhUIhHMyAcrkfJDyCwCwiB9u533d/MaUBSH0n+7/P5cLSKr+vNGQCu48ze+H4QAGh3rZ3G4spKE/fNdddd18YBllr1CRwX0+XompLWoVVtZ8lzJlfKG0hYsVjW7LB2tiBrXUnFZCepvvNqrlzLHSHO8iZPIHDsmEB9AQQBpuIeWerwr2R/a/NUN4l0xyIACAhy1wM6gKBTAErNp25Zu/iZRSqAQVcWK/yxSMQvyfyYgcP4vWvOAYPmNoDIwhhS9/9Vnz2LjHug0dmInvV/N5ER5Oy27/y+62NiBoDjj+maNRgEAIYdoeedd17xCWHS2hQhpourpgQRHkAlF2HpjSvL9RObdaDZeSuer29wvrZz1bIysVKwgpbcGCJ/ViyB8w4cBlRzCSCyI9cmGy7mKQhIVh6v6aPQjaPS1kDWCgsKVlvWT5tQprgjl1LUP8CgOtsx7Q0TJfo9d9xM5XlzAiAEmiVnEFKSxnEAg+Gqj6cwvqfCuynXQ7+yGnaBIT0AALr2SfIJZAzIA2gMyZgIn9ddl+8JC3vfd5Ny5NG9dn9f99n9ftt09dsMAFsW7dk/gwBAk+fd7353EsiJ4TxXHrdMiXi1UB5rFesX4FObHAlDUPS1Apqc3MCUNQKoAJiSRDDacMI6hBclwBHAJf6R25F7NAiwkvXumxchLVaVRbWGNVB9gH2xgQC1uDvxh1MEV/pcH+EFa7jNIoCgzSOsGjN9PwcofIswYDAki17jOoDBcLXIC4r3+3OZ/9srHDB/uoAxgEvjJCatut/ilJz3W0rCWzHjAG4MhTFqvtvQ1tB8DEwM43bsnkEAIJ6w0hlIYmhKkzcgcM0cGqhFsjfZLrnkknbjQinL4rqKUR5XXHFFe7ZfH9coUE3RBOKGOv/888O/xa4EDhc+QAAElojhYw1zRAyFyCVMwE2BHLbNGkhYig0s8Rq55XYB7oCgmEixgV5vBiBMkViWxdkChMYaEMgqDhTOYHB9j1H0+BUAoav/WXL0tYWUeWQBYPE3hUXQ+tbMv+w6BwKoBOwCgNQmnzddjdlDMeYzAGw5tbf+DAYAKft9jUuppIsydAUAddlll7Xgp++RKiGPVVeWL0DFocu1CbjiJrQhJNYVDEiEw34pHMTNXgO0yJtVFHCxm7fEESdWo6yf+o/7ula91b0PsQYCvBYWNgLVclUbW/gJYAFWgGAJvvZpa+y9FIVNS6yXkr4L7991DS6q2PwOx/tYhbqgEA9Zhc1dINACDiDsXmeQfTiOlOm0eXYBT6cvatSkBYCsHjUsc90KiyUj5Ci5GsQV6myzkm+doKABS/F5JVyfm9pNwTp/j+URwAom+E3PhN8oEhsZAFbK2KaQPs+HfGKuAIuNE/e9731bK1DMM5vuofwAX2AL0K6xo3lT+Zt+c64fIKhvjNtar3tjZQsbesxDZbnW6sNNbY75DT9YtAIYFBPXff/uVKy5MW0Z+x68tKnEIoi86V4tRCwGu4AwAESbFGaaOVCbAzMArM3hcfMfzAJo9ydF4XVZNQgwoZBKx+zdfPPNrXumdGzdKh7YvcZVfqc73SnpXEMKxJtRxJaVOhdxVT2BTYdle2VcqQO47WIGYLnxxZtNhShhmyJYWh3V400ftYAg8I+3eGHBAQiyDE4VCIY+YtUKYJDCAF65iYUz9D3eKOR5uF8BQ/IAIOyCQnPc9zwdwGA4kgZQDGm2xh7uo6dc+2cAWI6XU8xpMABoEwEXIhdnDQIuxcQ96EEPinahxtSDpYN18QEPeEDRfNeVLdbqve99b2vFS7HKctPZGez1azXc7aHeQBGrrnMIS+2UdlakY3EAYK7XKcVFdYEg5WujSC0gyKIrJIBVkFK3axiPd0GxAyjh/bvcm1zagKD68wDMlM8BADBYC40VAJwVWeJmZh0MYNAVCA//+zyleZXPjTmHmhyYAWBN7o6f92AA0Cr20ksvXTz84Q+vFjx+zTXXtLsrxWyVJPGLArf77tJNrQNrE+UPLKe407yTFpDiCk4BkbH1dmSIHdg2cTgXrQQROFzClBmra4kNJyXqFfKgYINFUN+wCGp7DSsd0GnhxCqIH8qxe3jK7uHAJ1euzQAG1V88W/d1ayXjdbvlHq6fWQ0BQnzH7+Xke/cEQBiuXMzGsv6Q5rjDw3UE3bbdMwC8LU/20jeDAUCC5+1vf3sLSmoFugNNFOYZZ5xRtI/ESAKBD3zgA5MAWd/K4NWB5mxAK/nU9/GGWD3xi1xFtQjYFLtoxyxwUoIAH0ey6E/WL9a2qVm/hgSCxgNrGsBt5zBe4LVUs29L9GXIg9UqHKYcdhTb9APMSoBhymIn5D9ft3PAOBJmsAwMWQR5OvzmHuMLEOyCwuX//VZj0bO9FfMdQ3JgBoBDcnv4sgYDgJrGQie+q+RGjS7LCLZ3vetd7U7Y0u4mdQ9HdnTLrPXZav3yyy9vD0zmEk2hj3zkI60FxhtNCPBaJP6Le99GgJKuW6DHkSwUk3ce9zkip1Zbl/MdEggq26YZVjVg0NViChB0puIubQzQpwEQunJjinvsAsJdas/yuNjF/4E/FkR9A7C7dlP4zj3AHxC4DBL1meT78BmgnMHiLo6I+SDo3ey1+FoPCgA/9rGPtTEqlHktuvbaa9t4IxshSpL3ptqkcNZZZw2maMXEsTwqM+WcOGDB8yxqdhbXdO2IPeR2JuxZLUvtmtYGmyK4hcWROThaPNPUaGggqP2UM4sgMMiCgz/AoI05uxbnZcHTBYRCRoz5AAgB3RkQTmPUm5MBGAZQ6AoYhqvPknvRMigM4LALFMN3rjNgnEZfzxbAafRDrVoMCgAd9cGtB9DUImBBjBarV0myOra5giIqeeD0tjoCPtyseAZc9SVCGDBDgBnhWosATbuD9YH3B7NclhLkNvnYdAIU20nOilwq75L8AASN88985jPfc20CZeKtahIACAgKgUAsgs7dTFk41KxnbN4AIVdxAIX6nwXe+BUXql3c37sGdGPbvxfuIzMBwGVQuPx/FzgKCwD+LVbJu3D1uZvWfe8eY2KKsmEX+3QGgLvYa/F1HhQAUlKOObERpJbgtjK96KKL2l27peOjuCRtZLE5g2ViCCJAuZ8pPHF2KYQnB5qYQlcbQwR91ySuSXGBwLLdyCXBDzDMta0NNolMFeAAgup6sDnkWQyp41wAMla6WmNfn1K6XmEIDHLNK49SZRXUH7uqGIV3ePeuOUiOUEzmBkuzMRDSDAprzuz6eZs3ksXkprTqHt8hHgKfzTNAcVWK+S3c42re7Orcyem1GQDmcG/6zw4KAAnst73tbe3ByjUVN7AjHq3GWXgsXJSrDSEEwxDkyAeuXK/fYllLEUR470xDoMRZibUBLLBph7DDlE844YRiu4Txm8XAJhG7Y7n67cS18p8q6T9jBhhUd8fzAIMsWSl9GdtOZQGDALkrAgRDqhkXGlvH1PsAXXwFBrvJ9wEUdi2FNfmc2ob5ubIc0PcBNJJ3QOByWve9+5Z/s5gwxgKR931TkEvGXxdILv+/6Tf3dpP6hP/D51DH0tcZAJbm6LTyiwKA3DAGqENHc8lBxUcccUTVw34pWy44blP1LkkEhXcE28wy1LEw6k/JOY/QUSAAFQHQlwhIfAFivXWDa7ImKY879MMf/vBiXwN4gNcgEEuUK+4wvLdXW5RRur9L1DPkgR/cmoCg2D0KRp0BwpJW0lBe96ps/AIEJdY08zmAQZ9TxlS3jLE/ayP3YRcQUmAogELttEEM70uOxbHbPpdfngNkvTEFGErdz+G7bVdzKoBLz4cU8lv1//JvWma8CoNYR2Huuq77LHxC3oHCff4Pn8M1fKfuFtgNze8CxoU9RlEAkOWIGb3E5g1gQF6C+WuRQe7IGYCjxo5jLj2ubFbAIc+po9yAQNY7AC4V7IgTu+GGG9odxo5Y6U76Gn2i3lzC3HjiEEtaH/U1wO/1dISVt2fo86krd5aK4CIGCu1wBgZdU/u1T9+JsQtgkJXWGAhgkPV8l62DXT5QsF1QyCoKCLsC3UIJJApW8tnGhJlmDkyBAwEguqLwf/gcrut+X/7ePA/fhWe71+XPQOehM15nAIg5e4yiAKCNCFbSJ598cnbzbRBgASl9Vt9yxZyDx9r14Ac/uArAAWQpTvGAQyjs0D4gCggU1+V9vMB0CrHqeuOIwHoWxdR8YssG1PQH1y3XPOBZskz5A1SOoyG0nB/I0rwLypybyZyQAMNgzRxqcYF3YutssAEKWdBYysQtAoW1XdWxY6jkfTYiAIZ4370KXTBmAijsXoHi2oulkm2c85o5kMuB2QWcy8FpP98CQBatTVYZ7/FlZSmxs9bqG/B42MMeVlWYsgaxAtoowF1bmihqZw6yONWINdxUX0rKjmQmffF8qTt7KT/H5lB4+/fvH8Tqo/9Z61y50Fm9SipVq1sxb8CmMrwVRpzgFI+OWe5jdTcXAUGLC/0KhEnmZ0nAvFx29/+uddBYc0YfEGgTiQQcpo65bjlT/MwyaF4sA0MLL1ZlgNCh1foivF7N1RwqOY6nyJu5TocfB2YAuLf7PAoAchmKGzvvvPOyuQGYAS92tFIkNQkIAF7PP//8KsIZ0ABmvX+YRW5IoqiUzXpjZ2+qy04+3MGsPvIpdX7fJl6os6N6WJbVGxCs8To1YMoYYNmyCADUufl2gSwwgEB1l1isuGaDVQ4QGYKAUkoAmGYldGVhNd4DGHRVn70MgMitAAqD9RAolPzPC9AFhD5zMYs3dJ16SMIQY2kuY/c4MAPA3euzPjWOAoAU0YFmZ+0jHvGIPnmvvdcbLpxT5q0RNYkStevYu2prbXgQ20YxcGkPrQC1T79QyGeeeWaylQsgc0g3oH+Pe9yjBUtDtIVSdS4kiyBgpuwab/uw4QEQ1D7jTlDzUO7VEuM7gLAABrnv8atrHRwyDIGFMIBBV/wFcCzoJIAQfw8X0GMc40kAhMtXv7OYdgEiwMxqaAEk4dUQc67EeJzzOHw4MAPAvd3XUQCQC+id73zn4nGPe1wRIUXhU8bnnHNOde4q60tf+lJrvawhYLnIxORxCznzrkYZm5gEvLHgAQV2PedYhrj5P/CBD7TKW1zgUCCJFTLEbAIQDnp25E1pEut16623ttZHCwJWR4BzKNdqqfawOAXroJg9C4FgHQQKAY0hyRhkQe5aCc0L1mRgUJyp6+FIwLvxHUBhAIp4QbniE4AIwAcwuO46u5kPxxE0bptnADgu/2uXHgUACbA3vvGNi0c/+tGtkMqtlEHFMnfBBRe0q+Dc/DY9Tzm+9a1vbTewsP7UIO0RD8iiyYo1NFHAdmp7XR0QmOPGBS688o7rXHyj9gwV76VsmziAQZsPlF0DOFDGwC7ro7EdzuUTZzc0gM8dKwAG8BWsg0CY/g+uYoB6aEucOuFxsBIC8+oz02oOkFGA4LpkXkioazUMQNF35mj3ClDu2lhezZ352zE5MAPAMblfv+woAEigv+ENbyh67AkA6JVqNTZoLLPtlltuaRX+Ax7wgGpC0VEe3hLCCmgH6tCkj7whg0UIcLvjHe+Y1VZAAqhk/XX8j34aSqEADyy3DnpmpQMEc0Dtur7As3AuH4s0JRp24NY8qHxdfUp8DygYAwCh0ATgUFsAQVZqV3FpQ/VliTbNeSzaWF992wWJARhaxPgcrvgFAC6Dwu7/y5+HDCGY+3N3ODADwN3pq5SaRgFAGdtR6+y5Uit5b4ngDnGUSW0iGLmwuTVrxQJqg1dvOR/QZoqa5Wzil4OXvftXP4l9pOxTCUCyWcORN0AEcDuUW1idAZgA3gFB5/tpVw3wwg0HNB1sduCypAKcdijrx6Fdqqn9tfyc/gOmgfmQAEKWI0CQdVXSp7vmBl9u6/z/dzmgz1kUAyAMoHDd1bjX/+KIWYol4DB87l5XfT+Pm7098mYAuLf7NxoAsm45u41SLEHAkiNIHvOYx1RR6Mt1tAkAkHnkIx9Z9a0LAJONGeIbS4Hl5bZs+5/StzkFj4HAXGsgZWIXONfs0G5hbWWF5K7FW0roTne6U9umHHC7iYfaGw5pFmvHHW3cA6HK32UCDmzaCIDQ1XcAfgCErrsKene5b8aou/AR4NAYCGn5/1XfA46I5RBINBeBT4BQ8l34vO3/2V09Rs/HlTkDwDg+7epdWwEgF5l4KbFZJr3kDRiUYg4RPK9//etboFQj4H+5boST3ccUuB2zNaxIocwANvGJMh2LACZAEBD1Bo5cpS6myyaRMdzCeGjsAWYOE+fm/Kmf+qkWDLrWcmGxjBj/LIPaDQSyCtp0setgEE/NC5bWLiAk9I2VAAhZQx37wnJYc96oz0y7wYFgaQQOA2AM+iFc/RY+uy7/TwcECoDR7nb5AY3m9PK1z3czsAzcTb/OADCdd7vw5FYAeP3117duuG5jnvzkJ2e5FkNe11xzTeuK8sq2IYgyf8tb3tKCIW+JqEni8WykcEbgmGfPda2BQCBrYA4R/F23MLc6d+LQZEev3d2SOnEPswzW5DXLGSBoxzXAZNOIhZCEB7VA6NC8pYCBfe5iiRIwd2wyAAQDIAxXSnqmmQN9OQAAdgFi+Oz78Fv32v3s3nX3WbyIlUQWLAEIuoYUvt/0vwUe2RKe90x4LnwO15h73Bvq1H7YgT8zANyBTsqo4lYAaCKx1AESiOWDG7UEceuxLHpd21AkRs4BytpQ8/BmguPGG29s48q8Lq4mMInhXbAGOvaEWzjXGth1C7Oo1ji/L6ZdlIADuVkFxe4Zn4CgHd81gQmrmZhBlkiJcA9HsQCEOcfxxLR76HtYb1hAKYTuFVjU1gAMAyicN5oM3UNzeThA7pIJ4RpAYsr/QJ1xH551DSmUse5/3yOHgJOVyxSAYxcUhu/cGz6H38nrkE/4LlzD/auu3e/IQ/XuPud3tPxd+F+Zh4wG87uAv8uqPfV3KwDUWm63iy++uB38p5xySvvmhhJcACrtLna8zJAA6brrrmstG6xzYaCXaM9yHibbhz70ofbsOcezcFWOScEaCDCF2MDc+rCKUf41wVZsHbUP0AUGCfNnhUwAACEnSURBVC7H8ngNXG3SzyxmARCGg5oBQe53IQ57wV28zEdKzkauLiAEEFlnKU/jIgBDgBBQpMimMFaW2zL/P3OgJAcCMAxXeYfP4br83fL/7gvfda/dz+GemO/ouu793Wd8Rsu/MwA5AaKhGQDiwh6jKACoze9+97vbWKgnPvGJRcGauDyuNO/sHYpYLbiCvRHCocM1yYRypIlYPK+/89qzmqAzpi1A0ic/+clWEWs/YDp2nWLqHXsPnrPKuY5hmTS+bB5Rh3Acy151F6/qE4AYCAQMXVlLJW5kvwGBARC6hs8zOFzFzfm7mQPjcWB2AY/H+yFKjgaAYp4cBv20pz2t6OHNwAiX7JOe9KRBLQMUM1D7kIc8pAWgtZmtvKuuuqqNFzvttNOK8jCl7lZ23O/AqR2ggCC36V4Cgil8qfHMsrvY5gpB7+IGQ+Iq2usEkLMYAoIBEHY/z+Bwr4+AuX27xoEZAO5aj/WrbwsAWSv+//bOBAiO4jrDa5xQYA7LgFFiYUnmEFckBCYgyhCwIIARKHK4wimKIiTlkMQhgIsijuI4wViJLdtVNpfEZYJCSkEIUhwWpXIwtiEIBBQowRKII8hEUEY45jI45H2jfaI1zOzO7PbOzu7+XfW2e3pmenq+nuPfnj7a9cTl4X311Vc3Zs2albR1KneY/K1J9/rrr09qxxhipErH51nOnXl8q3gB84mSaeOoFTn66KOTgXmrPN+sY/GplOnRqBGkJgYhONGGPJEQzKLVfRwih44V/KHiszFGTRnsXQy6j0gcFReKw1AUulCEDw3/uU+zjNpDOqnouh2VK0bnWQUBCcAqKPfvGIUFIFlkSjVmZYjdg/bRRx9NaqJOPfXUSh/gvFDuvPPOZFy0448/vuuOEUWKEQHAeISc82GHHRadZZE8ZG1DY2fG+SNfDPdBOdP4l7Zccr0l4L1uXRAiDqkpo0OFi0F8ampHsTwQh9RYwyTP+COD+MsShx7HdU1bTInE3l7PSn14CEgADk9ZZp1JKQFI7RWjxsdur8cLcP78+Q2mauvVfL1ZJ08cIpB2iNTKVCUCOS7DiTAMDmKa4Vnq0jAeHvTOZuBnxAZCcLfddhtJ4UE59ctRW+yC0H3KhvsPMci0bnScwkappjCvPGCTJRLh6KIRdtS2UlPohij0MH64PIpiO4+v4keTgATgcJd7KQFIzRUvoyOPPDI6FaYvo/fkzJkzo6fdLkFeHtQEcm6IQD43VeG4uTgu4o+hVKjhqYujppLetAhB+PinYWpT5KonQC0YTQdcDFJjSycT/jxxvXqPW/cRhsPY87gb8rCipjA0RGO47GGOg7B2cejC0H3YurEdpprFbkpH+9aRgARgHUslXp5KCcBVq1Y1Hn744WjjAIanwcvt2muvbZx++ulJDUe4roowgod5fJn5BBFY1ThuvMhpi0gbPKbaY1DsOoksuDB2Ivb8888nM2Ew6PL48eNV81TFhdniGP5plFqttCFkaBfngtB9hCGiRi6fANd8KBZDkcg6llnvRjngXBCGPsIwXPawRGM+f62pDwEJwPqURS9yUkoAvvTSS41bbrmlce655/bk3y4CjAfk4Ycf3otzbZsmD3d66tIx5IQTTqhMBJIxjsk0a9Tq7LfffslwMbCok+Nh4LNv0FCfziKIQYZa0eeyOpVUIxEpaVHIMuKFWiwEIZ+RCVOD6EOzIEzkihNA/FFD7mKQP3QeTvvhOvjzp5fafxeD7mfFsS4dz7JqHYuXlbYsT0ACsDyzQdqjlACkVuHKK69sxJoKLg2K2jcGnGaA5na9ktP7xlpGBNLWESFGTSA1JlU6atkYM5Dej7S13GuvvWonrnjpUVaIQYbx4SXEYKHMwIGo0Eupyium3LG4hxEeiEHCtH1FzGMIGWoHQ0FI2I2aaQn9cryztnbRCG9EYZblrfN40uXZRBkiBLsxypT9VbZZpTXacRKAw13+pQQgKK655ppkCJNezWqxbNmyZMDp2bNn9+2BhAhcunRp8qKkgwazOVTpeEHQ/u7+++9PDnvQQQclNW11FFaw8qnYnn322UQsUCuI0YtVbjAIcM1RY+Vi0H06URDGZxuvKXSfphJhL1uEhFxvCbiApLy4/xCFnRr7U4aUL88XRGAoCIuEXXz6vmE6xGUt95aQUo9FQAIwFsl6plNaAC5ZsiQZzHjatGk9OSP+DS9YsCCZxovpyvrleMjS6YXOKbTLIy9Vfx7joc4YfbQR5CFNHqruJV2GP2X33HPPJTWDTB9IrSCfuvhEzDy5VfMrk3dt25oAQoHetC4IXSByn/CS4NMyYZot8Fk5FIWEPQ6fWsY6/plpTWA417qYpHzdeO6kw1lxbOPxlDvXAHGk6fv7ckjPBaH7oXDkWiFNX4efF3Zxmbfe9y3rh3kd9bAE4HBfAaUFIILohRdeaJx00kk9I0P6zDrCtHP9+hTsJ0e7R9om8qmFwZvHjRvnqyrz+afP+HwPPfRQIr7333//JB882OrqEAuUI7Z27dqEHyKQmmMEIZ+KeYDLDQcBXvrcI5Q7QiD0wzB/ErhuXRC6OOQzMyLCe93is6waxcG/Prg2skRhKBI9zNm6aHTf9w3TyYsjnuuGa9G3z/JbUXXByJ9urmWcx+WF/Vmc3o4/vRzfXbidpxX6YTjclvsAHuH6ZMF+fDtfztomHZe1j+8fruOPXvOdp7mAHdAQ+aUFIDU7CxcubFxwwQWZF14sNnX4FOznwo23fPnypG3elClTGgcffHBfelJS+8LUbQzNwgt09913b+yxxx61Gj7GmYU+D0DamiEE+VzMtHg4Pq0jBhGFDIETPnjC/RUeHgLU7oSC0MUi9xjxvLj5w4OP48XnojAtEF0khuv1p2J4rpVenkmWKMyKIw8eXzbMfjzT8H3f0A/D6W3S6xCS3DthfLLQ/PH9PS69TDz3hotIlrO2Id4d6/nDxjiw5iQAHcwQ+YkApMMDtTNFHBfQ3LlzG2eddVZP28bV5VNwyIQZGqgNpBH9UUcd1ZgwYUK4urIwD4JnbCBpZu6g3d3YsWMTIUgnDIRh3R3XEGM+IgYxrj9e4i4G8avufFN3ZqOWP14+LgQRg6Ew9OUwjucF92PzZTVquHS+ItATAvoE3BOstUm0tAAk5zfddFPSyP/AAw/s6Ynw+fDmm29unHjiibVp+8aLacWKFY177723wdzFh9l0bv0UXdQKMnMHYhCByvRt1ArSVnBQakN4efOp3WsI6WHs4wwy68V2222XGB0P5EQgiwB/Krg39ck4i47iRKAzAhKAnXEblL06EoC0A+RT8Mknn9zz86TdG2PznXHGGbURgZw0nzTJFzVZjFtIzUO/P2GSF4Tgk08+mZSLfyKmvd0gOWp2EIEIWjeGLUEAIgZDUUhNYb+5DxJb5VUEREAEihKQACxKajC360gAeieNCy+8sJKX7wMPPJDMm3vaaac1Jtrgw3Vx1Dgwgwc1grRlYgDnyZMn97VGEDbUhjCeIGKQcfqoTZsxY0ZdsHWUD0Qh06AhCN1fv3590rPYawhdHNKecFBqPzuCoZ1EQAREoAICEoAVQO7jIToSgAiM6667rjF9+vTKBBk1gcybe8oppySfn/vI7H2Hpk0etW7kkZqrvffeOxGDO+yww/u2rToC4YRQKtrGs+r8dXM8uHNuoSgkjBszZkyDJgqDVvvZDQ/tKwIiIAIxCUgAxqRZv7Q6EoCcxm233ZbUxDBgc1WOoVBuv/32ZAiaSZMmVXXYUsehUwPzJVP7Rvd5xhBkUGTVSJXC2PHG/DnhczFCkF7GajfYMUrtKAIiMOIEJACH+wLoWABS83LZZZc1zj///EprlxgGZfHixck0bUyTVlfH+EkIVj4PI/723XffBkPISJDUtcSULxEQAREQgZCABGBIY/jCHQtAUNBDlwb4vRwUOgs5tWt8Dqa9Hb1w6zzDBDVS9NKlVpDawalTpybDVdBLt5+9h7O4Kk4EREAEREAEnIAEoJMYTr8rAcj4bfPmzWtcfPHFlQ9GTEeURYsWJeODzZw5MxkUue5FtG7dumSOX6Z3oyMD490xdhnGYMgawqLuJaj8iYAIiMDoEJAAHO6y7koAgobOIDS0P+644yonRe0aPYQZjoXx74499thkmJDKM9LBAbmxmDeXAZ0ZzJlBb3faaaeNgpAp8DS8SQdgtYsIiIAIiEAUAhKAUTDWNpGuBSDi5aqrrmpccsklDebz7IdjZg5m6KDN3aGHHpoY00YNimM4GXoPwxJjCBfy77WD+NtuS1HJiYAIiIAIiEA1BCQAq+Hcr6N0LQDJ+OWXX54MhHzEEUf06zyS4yKclixZ0qADxjHHHNOgk8gg9r5leBPaC7ogZIYMhjVxQehTpamGMPtyY05ZRDVtLAex/LPPSrGjTICvHVzXXM/c92nz63wUnwn0+ufZz1cTvkY5i1G+XmKduwRgLJL1TCeKAGSw4RtvvLFx5plnVjYuYB5OHpQPPvhgY+XKlckcs/S+xQZ5HDwGmWbmFQThiy++mNQWIm7CAZA9rJkxGo3HHnusQTtLHJywLbbYIrEw7HH4xKsNZt5dpfh+E3jttdeSa5o/NlieC4VhlljkKw1jg/p2pOPhIj7bc5+wLS7cJ1wOw+lt89Z5vPvhfh6X9mGBSKFNONtzzhKCUIrjJADjcKxrKokAZAoxBEQ37o477kja4vEpuA5ii/llGZyZYVgQA2PHjk2EIL1wt9lmm25Ote/70l7QZ8NgvDs3pqfj07GLQff5VzxqwpBaVIQztSZuecvE42DnopAXJaKQuM0333yjnw6HL8O+XxjKwMgQcCGIz5/ecNnDefG+HlgeLuMjssLt0+mEy2GYfcJlhsTy2nqPb+UnO6d+GAGC88xzLiJZ7+G0zzrud38OhNsSxvk+6XC4zDbhduE6wu7S26Tjeebw/spzefunt49REwpb2qab+7DZz9PH6OXyhr8YvTyC0k4EIMKh2zZm3NwLFy5M2uEhArtNL2bRvPHGGw3GD0QMrlmzprHrrrsmYpAZO3jJD4vjocH4jAh6F4X4xPGgdEGIz3y6W221VSIMeRDHeFgMKkcecjz8Q4GIyGYZH6PWBPMwPo6HcSgKXTB6HC8W2MI/NLbz5aIP9Bh8GZKIe5M/RFUeN0belcZoE0gLSGgQx/ONLyPumAqSZxz3WLiPr/c4lj2Mz/3gy+G6VvtlrfO40A/T9fi8uPC+zNrG93c/axviij7Ts/b3tHnO0eTInASgQxkiP5oAhAkv0iuuuCL5RHnRRRcltSl1Y8XD4pFHHknEIEJpn332SWaM8KFYeCkPm/Mp01wYwoCOM3xWQhzzwEEMulFbmA4jZPSJ9L0rg4dmKAZDcRiGuZ7gjDhPm6cGVxeDoTD0OP88zXZpY5usuPAl4sfBv+eee5L7lPLdc889u675D9NWWAT6QYAKDJrIMPUmxv0gF4eAPgHH4VjXVKIKQE6SlyLTxM2YMaOWAjAsCDparFq1Kmlbx5AsfI5g+rbx48dvtDrVZIZ5jxVGHCJQ3FwYsuxhOtUgeBCBCAcXiNQiIlgQKJh/PqX2q+i/z1jnMWjpwBP23C+hMEwvsw7n8eyTZ+GnMPinhSFNH8KaEtJlG8agpBx9n9APw2wbLiMyWXbLE50cR04EekmA+0nXX3zCEoDxmYYpjrOFL5sdZba92U/NbjX7ktl6s6Ku03SiC8CiGa7bdjxA+FxKRwvEIMZA1/S+RRDOmjVrqD4Xl+GPsEAEhqKQMA9c/n37p1N8FyyIQBeFWb7HISqHXWSXYd3NtpRTWhxSHh7HNU4HmdAh/PgcjPP9Qz8Mkw7NBag1Jj7tsgShi8O0TzrkzffpxGcfRCm+G8fxcNpPr0vnX8siIAKbEpAA3JRHzKWdLbEfm+1ghuh70uwAs+lm/2X2KbNXzNq5btKRAGxBlxpBhheghxnjC/JCkWtNgJc6QjAUhWEYpuF6ahH7PXxQ6zManrWItqVLlyY1dkxFOHHixI5r6RGTGGlmWat1bI8Y41oJ0/F9ivqIV2pGPY3Q5xgst3IuEGkzxh8cX27nk2Z6G/Kyyy67tDqc1onAwBGQAOxdkd1tSTNw3p+afSc4zNcs/BdmV5h9LojPC3aTjgRgHlXFi8AQEqAdKDWuCJZRcFmiMIxLh2GSjmu3zD4IWq9JZVlOBIaBgARgb0qRWrvVZmvM0n8bt7Y4PgXjdjR7Iwll/3STDn27nydZxsyjQbhcfQjQqJlaGhy1kM2u+PXJ4IjnROVT7wtA5VPv8iF3KqN6l1FYPpZTBAJfJitzm1V2pOoP9OnmIb+XcehfWNwPzZhXbVrG+jAqVjphmgqLgAiIgAiIgAiIQN8IDLMA3N2o0kDlJzl0VzXjJ+Ws9+hY6Xh68kVABERABERABESgrwSGWQAyqCLu1Q3e+349fsz71mwaESudTVPVkgiIwEAToIPFfffd11i9enXSUWKgT0aZFwERGDkCwzcib02LkLHB0tOjqc1ZTQtL2RKBAgQQgAzXwrBGGAOdY6PS+aMAIm0iAiIQEKDNX+gYJ7efbpgFoNfweQ1emrPHtxsLMEo606dPTx8/Gd/tfZEtInz2gxabFF5Fj7puHcM01MV1khd6a7ojzLh5MVwneYlx3Lw0us0PPTS7TYO8lU2HuZjdEWZcu7Jp+P698Bluh7Ea3TEV4hNPPNE45JBDPGqo/XT5MN5kHV0/rt0sDrGu3TLpMCORO8IMMo8rk4bvn+XHSCdGGll56yYuxjWTdXzvdJi1rh9xwywAGfMPhZLXxm+3JvC8NoJeHt2kg9ynJ/Cmsr+ZMmNjydWDwNSpU+uREeUik8CUKVMy4xVZDwIqn3qUQ6tcTJ48udVqres/gf+tOgv1qcKJf+Y7W5L9HgaGs4LxJ83oeZx2a9MRWhYBERABERABERhKAh/LOSvEH3qg9cjqOTsrOpvAXRb9K7PzUqu/bsvMs/TtIJ7aUHr8IhzTrkw66X21LAIiIAIiIAIiIAIiUCEBxBytLBGBi80uNVtmhvhbafYRM3cTLED80x4R+GXSCXZTUAREQAREQAREQAREoB8ExtlBF5i9YPamGTODMBVcugEeAhCh+JRZliuaTta+ihMBERABERABERABERhwAojBa8xCUTnPltuNKZg+7VjppNMd9eVuuW5nAM8xu8VsldnrZnSn+4HZ2WbD3HbWTq/nrtvyycrg6RZJDT5GGcl1TiBm+Rxu2eDrC19i+APOM5MmNUebyXVGIFb5zLDDM1MW05XyjKPy41/MppnJdUbgeNvtW2b3mjGCCM+jG8w6cbHKuZNja58cAjtb/P+YUVv4r2Z8Vr7HjIJOf1a2qFwXK53cA4zoihhc/8jYUZ703v6u2d+bzTf7mRnxPCTlOiMQo3zSR/64RbxixgOX+/JsM7nOCMQsn7mWBe6XZ82uMPs7syvNlptdZiZXnkCs8vmqHZqyWWd2lRnvMZ5riHTuoVPN5MoTWGG7wI9n0RPN8A3ml3WxyrnscbV9GwJ323oK+HOp7fiszA31nVR83mKsdPLSH9X4GFwPM3j8O067HS2Clxnl/9n0Si0XIhCjfNIH4g/YKjNeapTN2WZynRGIVT5/aIfnebjAjA52affBdISWCxGIUT5j7UjvmNHrdPvUUQ+1ZcptdSpei8UIwG+X5qbOshMBGKOci+VYWxUmgCrn5ngqY4+tLY6u3NiWGevDqFjphGkqvKEHd4zyacXyYlvJMb7ZaiOtyyTQi+v+z+1IvMwONptjJgFoEDp0scpnczs+X0nWmGWJvw6zN/K7xSqfA4wkzzA+zWc5aq8wue4IdCoAY5Vz29xv1nYLbRAS+HRzgXYTacc4fz80+5BZuzYUsdJJ52HUl6vg+nYTMqJDrhyB2OWzpx3+K2bfMLuvXFa0dQaBWOXzu5b2R81oIvOuGbXpF5n9mVm7Z6NtIpdDIFb5UFv+SzOEYLoG8HcsbhuzpWZy/SEQq5zb5l4CsC2iTTbY3ZZ4oP1kk9j3FrixcJM2eLm/sdLJPcCIrug1Vz5bzTbjGrhrRBl3c9oxy4ey+K7ZM2aXmMl1TyBW+fy2ZYV7BJFBm6jbzb5iNs/sR2bfN9vBTK4cgVjl84odFkHOp+CVZleaXWpGG0A+PWJ/bCbXHwKxyrlt7lU93xbRJht8uLmUVz3u8e16A8dKZ5PMaWHj0D5eDmkkHt+ufNL7+TJtzPY2+zcz/UN2KsX9mNf9HDvsPmafMnureBa0ZQsCscpnRzvGB8wuNKMhPGX0qNknzP7R7CgzxMZ0M7niBGKVD0ekp+qzZteYnWPmjrZ/15u97BHyKycQs5xbZl41gC3xaKUIbCTA56vzzfjHfObGWAX6QeBAO+jFZoiJ/+hHBnTMlgT8vfK2bXWc2Y/NXjdDDP6+2X+bHWpGOcr1h8BFdthFZghAOi1sZfZJszVmN5mpl7ZBGHbnN+qwn2es8/MaJFfo6XQ9njHjWrlY6bQ6xiiu6xXX8wwm7cweN6PWol352iZyGQRilA+ffm8we9Lsr1PHoNZJrnMCMcqHo/v9scLCz6ey84Yt84kRd8AGT78FCcQqH8Q3Au9WM2ppnzFj+JdHzD5r9oLZX5pNNJOrnkCscm6bcwnAtog22YCXDi+ZSZvEvrewWzOY10bQt4yVjqcnfwOBXnD9vCXN55LHzBB/68zkOiMQo3y2tkNzn9EB5C2z/wvMBeH8ZtzXzZcrTiBG+XA00sG5ENyw9N7vK83glu9FKVSAQKzyOdaO9a7Z9zOOiUCnVh1tsG/GekX1nkCscu59TkfsCDvb+fLC0TAw9Sz4WOXjZ/eFZnkvN/8jHim/YwIxymcLO/pVOUY5MQzMvzfXn2i+XHECMcqHo403oxz4nJjl7rBI1qt8sujkx8UqH/7Qwv9vcg51b3N91lioObsoOoMANa3ohRsy1rWKilXOrY6hdR0SoPcnN895qf2pbaCwvx3E08mGHj0UaNqVSSe9r5bzCZTh2qp8vmiHoDwfMBuTfzitKUkgVvlkHXaORXJvnp21UnGFCMQqn1vtaJQFNeihO9IWiH/ZjOFG5MoRiFE+CG+ebWvNPpY6/GdsmfJ5zUx/elNwSi62E4Ct3j9lyrlktrR5NwQQcz814yZZbHap2TIzbqiVZuFNM6EZ/7T5aVcmnfS+Ws4nUIZrXvnMtuQpT4axQNjPyTC2kStPIEb55B2VcqLczs7bQPFtCcQqn3F2pGfMeE4uNZtrtsiMjiFvmc0ykytPIEb50IzpbjPK5lWz68xoE3ibGXFYuoLDouQKEPg92+bapt1pPs8jelZ73D9Y2N0EC7D+aY8I/DLlHOymYBUEeLgtMKOx7Jtma8y+ZvZhs9BRwNxMT4WRQbhoOsEuChYgUJRrXvnMsWNQbq1sWYF8aJNsAt2WT3aqmgkkj0vZ+FjlwyDD3zTj+chzkvaziMD9zeQ6JxCjfOhMxcgGPzJbb8af3RfNlpgdbibXGYF2745QC+S9f/zIRcvZt5cvAiIgAiIgAiIgAiIgAiIgAiIgAiIgAiIgAiIgAiIgAiIgAiIgAiIgAiIgAiIgAiIgAiIgAiIgAiIgAiIgAiIgAiIgAiIgAiIgAiIgAiIgAiIgAiIgAiIgAiIgAiIgAiIgAiIgAiIgAiIgAiIgAiIgAiIgAiIgAiIgAiIgAiIgAiIgAiIgAiIgAiIgAiIgAiIgAiIgAiIgAiIgAiIgAiIgAiIgAiIgAiIgAoNE4BuWWSZ4x5grfFuzoi69b3pu8aLpaDsREAEREAEREAEREIEKCXzIjvW02a+adnXBYx9k270T7Dez4H7aTAREQAREQAREQAREoAYEjrA8eC0gQnB6mzxtbuv/08xF4z+32V6rRUAEREAEREAEREAEakhggeUJEYioW222pVmeu9RWuGB8ycIfzdtQ8SIgAiIgAiIgAiIgAvUlQPs92gC6CJyXk9V9Lf6XZl77d2rOdooWAREQAREQAREQAREYAAKzLI9es/e2hQ9M5fmDtrzCzMXf7an1WhQBERABERABERABERhAAjdbnr0W8HEL/3pwDn/VXMf69WY7BesUFAEREAEREAEREAERGFACtOd72cxF4N82z2Mv898089q/c5vx8kRABERABERABERABIaAwBl2Dv4p+C0L0+7v/mYcAnCZmZwIiIAIiIAIiIAIiMCQEbjDzsdrAfnc64LwFxbeecjOVacjAiIgAiIgAiIgAiJgBD5u9qqZf/J1MXi+6IiACIiACIiACIiACAwvgS/aqbnww3/A7APDe7o6MxEQgToT2KzOmVPeREAERGBICND79w/M3jVD9OFjciIgAiIgAiIgAiIgAkNK4Mt2Xl77x2dgD39+SM9XpyUCIiACIiACIiACI01gHzt7ev96+7/vWRgBiP3cbLyZnAiIgAiIgAiIgAiIwJAQoJnNcjMXf4stTBwzgHgt4J0WlhMBERABERABERABERgSAl+w8/Davlcs/JvN89rPfKaHcxF4RjNengiIgAiIgAiIgAiIwAATmGR5f93Ma//OSZ3LXFt2AbjOwtun1mtRBERABERABERABERgwAj8wPLrAu+ejLxvYXGrgm3+KWMbRYmACIiACIiACIiACAwIgT+xfPqnX2b7+EROvqcH21FT+Jmc7RQtAiIgAiIgAiIgAiJQYwITLG/07vVPv+1m+5hv23pN4TMW3spMTgREQAREQAREQAREYIAI3GV59dq/IrN9jLHt1zb3QTR+y0xOBERABERABERABERgQAjMtny6+HvTwr9VMN/HB/u9Y+FpBffTZiIgAiIgAiIgAiIgAn0k8Bt27J+Z+efcL5XMyy3Nfdn/CbNfK7m/NhcBERABERABERABEaiYwCI7nrf7e9zCzP9bxjFGIALS05hTZmdtKwIiIAIiIAIiIAIiIAIiIAIiIAIiIAIiIAIiIAIiIAIiIAIiIAIiIAIiIAIiIAIiIAIiIAIiIAIiIAIiIAIiIAIiIAIiIAIiIAIiIAIiIAIiIAIiIAIiIAIiIAIiIAIiIAIiIAIiIAIiIAIiIAIiIAIiIAIiIAIiIAIiIAIiIAIiIAIiIAIiIAIiIAIiIAIiIAIiIAIiIAIiIAIiIAIiIAIiIAIiIAIiIAIiIAIiIAIiIAIiIAIiIAIiIAIiIAIiIAIiIAIiIAIiIAIiIAIiIAIiIAIiIAIiIAIiIAIiIAIiIAIiIAIiIAIiIAIiIAIiIAIiIAIiIAIiIAIiIAIiIAIiIAIiIAIiIAIiIAIiIAIiIAIiIAIiIAIiIAIiIAIiIAIiIAIiIAIiIAIiIAIiIAIiIAIiIAIiIAIiIAK1J/D/Z82YvRX1ylIAAAAASUVORK5CYII=\">"
      ],
      "text/plain": [
       "<IPython.core.display.HTML object>"
      ]
     },
     "metadata": {},
     "output_type": "display_data"
    }
   ],
>>>>>>> 8c18ea65823465a520ec439fbdfdb1bb19db33de
   "source": [
    "cont1 = model1.stream('X','Y', showFixedPoints = False, showNoise = True)"
   ]
  },
  {
   "cell_type": "code",
<<<<<<< HEAD
<<<<<<< HEAD
   "execution_count": null,
   "metadata": {
    "collapsed": false
   },
   "outputs": [],
=======
   "execution_count": 9,
   "metadata": {
    "collapsed": false
   },
   "outputs": [
    {
     "name": "stdout",
     "output_type": "stream",
     "text": [
      "Starting 2d stream plot with parameters (A=0.5), (alpha=0.5), (beta=0.5), (gamma=0.5), at 2017-10-25 10:18:07.647322\n"
     ]
    },
    {
     "name": "stderr",
     "output_type": "stream",
     "text": [
      "/Users/marshall/Google Drive/Home/Git/MuMoT/MuMoT/MuMoT.py:1811: RuntimeWarning: divide by zero encountered in log\n",
      "  self._speed = np.log(np.sqrt(self._Xdot ** 2 + self._Ydot ** 2))\n"
     ]
    }
   ],
>>>>>>> 8c18ea65823465a520ec439fbdfdb1bb19db33de
=======
   "execution_count": null,
   "metadata": {
    "collapsed": false
   },
   "outputs": [],
>>>>>>> 0d59b1fc333c2fe2033bf590a8c74f64709dd42a
   "source": [
    "cont1.showLogs()"
   ]
  },
  {
   "cell_type": "markdown",
   "metadata": {},
   "source": [
    "## Brusselator"
   ]
  },
  {
   "cell_type": "code",
<<<<<<< HEAD
<<<<<<< HEAD
   "execution_count": null,
   "metadata": {
    "collapsed": false
   },
   "outputs": [],
=======
   "execution_count": 10,
   "metadata": {
    "collapsed": false
   },
   "outputs": [
    {
     "data": {
      "text/latex": [
       "$\n",
       "(\\alpha) -> X : \\gamma\n",
       "X + X + Y -> X + X + X : \\chi\n",
       "(\\beta) + X -> Y + \\emptyset : \\delta\n",
       "X -> \\emptyset : \\xi\n",
       "$"
      ],
      "text/plain": [
       "<IPython.core.display.Latex object>"
      ]
     },
     "metadata": {},
     "output_type": "display_data"
    }
   ],
>>>>>>> 8c18ea65823465a520ec439fbdfdb1bb19db33de
=======
   "execution_count": null,
   "metadata": {
    "collapsed": false
   },
   "outputs": [],
>>>>>>> 0d59b1fc333c2fe2033bf590a8c74f64709dd42a
   "source": [
    "%%model\n",
    "$\n",
    "(\\alpha) -> X : \\gamma\n",
    "X + X + Y -> X + X + X : \\chi\n",
    "(\\beta) + X -> Y + \\emptyset : \\delta\n",
    "X -> \\emptyset : \\xi\n",
    "$"
   ]
  },
  {
   "cell_type": "code",
<<<<<<< HEAD
<<<<<<< HEAD
   "execution_count": null,
=======
   "execution_count": 11,
>>>>>>> 8c18ea65823465a520ec439fbdfdb1bb19db33de
=======
   "execution_count": null,
>>>>>>> 0d59b1fc333c2fe2033bf590a8c74f64709dd42a
   "metadata": {
    "collapsed": true
   },
   "outputs": [],
   "source": [
    "model2 = mmt.parseModel(In[10])"
   ]
  },
  {
   "cell_type": "code",
<<<<<<< HEAD
<<<<<<< HEAD
   "execution_count": null,
   "metadata": {
    "collapsed": false
   },
   "outputs": [],
   "source": [
    "model2.showODEs_vKE()"
   ]
  },
  {
   "cell_type": "code",
   "execution_count": null,
   "metadata": {
    "collapsed": false
   },
   "outputs": [],
=======
   "execution_count": 12,
   "metadata": {
    "collapsed": false
   },
   "outputs": [
    {
     "data": {
      "text/latex": [
       "$$\\displaystyle \\frac{\\textrm{d}Y}{\\textrm{d}t} := - X^{2} Y \\chi + X \\beta \\delta$$"
      ],
      "text/plain": [
       "<IPython.core.display.Math object>"
      ]
     },
     "metadata": {},
     "output_type": "display_data"
    },
    {
     "data": {
      "text/latex": [
       "$$\\displaystyle \\frac{\\textrm{d}X}{\\textrm{d}t} := X^{2} Y \\chi - X \\beta \\delta - X \\xi + \\alpha \\gamma$$"
      ],
      "text/plain": [
       "<IPython.core.display.Math object>"
      ]
     },
     "metadata": {},
     "output_type": "display_data"
    }
   ],
>>>>>>> 8c18ea65823465a520ec439fbdfdb1bb19db33de
=======
   "execution_count": null,
   "metadata": {
    "collapsed": false
   },
   "outputs": [],
>>>>>>> 0d59b1fc333c2fe2033bf590a8c74f64709dd42a
   "source": [
    "model2.showODEs()"
   ]
  },
  {
   "cell_type": "code",
<<<<<<< HEAD
<<<<<<< HEAD
   "execution_count": null,
   "metadata": {
    "collapsed": false
   },
   "outputs": [],
   "source": [
    "model2.showNoiseEOM()"
   ]
  },
  {
   "cell_type": "code",
   "execution_count": null,
   "metadata": {
    "collapsed": false
   },
   "outputs": [],
   "source": [
    "model2.showNoiseStationarySol()"
   ]
  },
  {
   "cell_type": "code",
   "execution_count": null,
   "metadata": {
    "collapsed": false
   },
   "outputs": [],
=======
   "execution_count": 13,
   "metadata": {
    "collapsed": false
   },
   "outputs": [
    {
     "data": {
      "text/latex": [
       "$$(\\alpha)$$"
      ],
      "text/plain": [
       "<IPython.core.display.Math object>"
      ]
     },
     "metadata": {},
     "output_type": "display_data"
    },
    {
     "data": {
      "text/latex": [
       "$$(\\beta)$$"
      ],
      "text/plain": [
       "<IPython.core.display.Math object>"
      ]
     },
     "metadata": {},
     "output_type": "display_data"
    }
   ],
>>>>>>> 8c18ea65823465a520ec439fbdfdb1bb19db33de
=======
   "execution_count": null,
   "metadata": {
    "collapsed": false
   },
   "outputs": [],
>>>>>>> 0d59b1fc333c2fe2033bf590a8c74f64709dd42a
   "source": [
    "model2.showConstantReactants()"
   ]
  },
  {
   "cell_type": "code",
<<<<<<< HEAD
<<<<<<< HEAD
   "execution_count": null,
   "metadata": {
    "collapsed": false
   },
   "outputs": [],
=======
   "execution_count": 14,
   "metadata": {
    "collapsed": false
   },
   "outputs": [
    {
     "name": "stdout",
     "output_type": "stream",
     "text": [
      "Model contains rules with three or more reactants; only displaying unary and binary rules\n"
     ]
    },
    {
     "data": {
      "image/svg+xml": [
       "<?xml version=\"1.0\" encoding=\"UTF-8\" standalone=\"no\"?>\n",
       "<!DOCTYPE svg PUBLIC \"-//W3C//DTD SVG 1.1//EN\"\n",
       " \"http://www.w3.org/Graphics/SVG/1.1/DTD/svg11.dtd\">\n",
       "<!-- Generated by graphviz version 2.38.0 (20140413.2041)\n",
       " -->\n",
       "<!-- Title: %3 Pages: 1 -->\n",
       "<svg width=\"314pt\" height=\"296pt\"\n",
       " viewBox=\"0.00 0.00 314.00 296.00\" xmlns=\"http://www.w3.org/2000/svg\" xmlns:xlink=\"http://www.w3.org/1999/xlink\">\n",
       "<g id=\"graph0\" class=\"graph\" transform=\"scale(1 1) rotate(0) translate(4 292)\">\n",
       "<title>%3</title>\n",
       "<polygon fill=\"white\" stroke=\"none\" points=\"-4,4 -4,-292 310,-292 310,4 -4,4\"/>\n",
       "<!-- 1 -->\n",
       "<g id=\"node1\" class=\"node\"><title>1</title>\n",
       "<ellipse fill=\"none\" stroke=\"black\" cx=\"27\" cy=\"-144\" rx=\"27\" ry=\"18\"/>\n",
       "<image xlink:href=\"__mumot_files__/tmptsb9m8ki/tmpai7t97y3.png\" width=\"8px\" height=\"15px\" preserveAspectRatio=\"xMinYMin meet\" x=\"23\" y=\"-151.5\"/>\n",
       "<text text-anchor=\"middle\" x=\"27\" y=\"-139.8\" font-family=\"Times,serif\" font-size=\"14.00\"> </text>\n",
       "</g>\n",
       "<!-- Y -->\n",
       "<g id=\"node2\" class=\"node\"><title>Y</title>\n",
       "<ellipse fill=\"none\" stroke=\"black\" cx=\"195\" cy=\"-114\" rx=\"27\" ry=\"18\"/>\n",
       "<image xlink:href=\"__mumot_files__/tmptsb9m8ki/tmpuxpj4u1s.png\" width=\"13px\" height=\"11px\" preserveAspectRatio=\"xMinYMin meet\" x=\"188.5\" y=\"-119.5\"/>\n",
       "<text text-anchor=\"middle\" x=\"195\" y=\"-109.8\" font-family=\"Times,serif\" font-size=\"14.00\"> </text>\n",
       "</g>\n",
       "<!-- X -->\n",
       "<g id=\"node3\" class=\"node\"><title>X</title>\n",
       "<ellipse fill=\"none\" stroke=\"black\" cx=\"279\" cy=\"-144\" rx=\"27\" ry=\"18\"/>\n",
       "<image xlink:href=\"__mumot_files__/tmptsb9m8ki/tmp9vr86tcs.png\" width=\"14px\" height=\"11px\" preserveAspectRatio=\"xMinYMin meet\" x=\"272\" y=\"-149.5\"/>\n",
       "<text text-anchor=\"middle\" x=\"279\" y=\"-139.8\" font-family=\"Times,serif\" font-size=\"14.00\"> </text>\n",
       "</g>\n",
       "<!-- X&#45;&gt;1 -->\n",
       "<g id=\"edge3\" class=\"edge\"><title>X&#45;&gt;1</title>\n",
       "<path fill=\"none\" stroke=\"black\" d=\"M251.552,-144C206.177,-144 115.47,-144 64.3174,-144\"/>\n",
       "<polygon fill=\"black\" stroke=\"black\" points=\"64.0329,-140.5 54.0329,-144 64.0328,-147.5 64.0329,-140.5\"/>\n",
       "<image xlink:href=\"__mumot_files__/tmptsb9m8ki/tmp3v0r29v5.png\" width=\"6px\" height=\"10px\" preserveAspectRatio=\"xMinYMin meet\" x=\"147.935\" y=\"-158\"/>\n",
       "</g>\n",
       "<!-- alpha -->\n",
       "<g id=\"node4\" class=\"node\"><title>alpha</title>\n",
       "<ellipse fill=\"none\" stroke=\"black\" cx=\"279\" cy=\"-18\" rx=\"27\" ry=\"18\"/>\n",
       "<image xlink:href=\"__mumot_files__/tmptsb9m8ki/tmpuo5qafwz.png\" width=\"21px\" height=\"18px\" preserveAspectRatio=\"xMinYMin meet\" x=\"268.5\" y=\"-27\"/>\n",
       "<text text-anchor=\"middle\" x=\"279\" y=\"-13.8\" font-family=\"Times,serif\" font-size=\"14.00\"> </text>\n",
       "</g>\n",
       "<!-- alpha&#45;&gt;X -->\n",
       "<g id=\"edge1\" class=\"edge\"><title>alpha&#45;&gt;X</title>\n",
       "<path fill=\"none\" stroke=\"black\" d=\"M279,-36.0527C279,-56.9177 279,-91.5072 279,-115.899\"/>\n",
       "<polygon fill=\"black\" stroke=\"black\" points=\"275.5,-115.981 279,-125.981 282.5,-115.981 275.5,-115.981\"/>\n",
       "<image xlink:href=\"__mumot_files__/tmptsb9m8ki/tmpsxxkd2t6.png\" width=\"6px\" height=\"7px\" preserveAspectRatio=\"xMinYMin meet\" x=\"269\" y=\"-86.4761\"/>\n",
       "</g>\n",
       "<!-- beta -->\n",
       "<g id=\"node5\" class=\"node\"><title>beta</title>\n",
       "<ellipse fill=\"none\" stroke=\"black\" cx=\"279\" cy=\"-270\" rx=\"27\" ry=\"18\"/>\n",
       "<image xlink:href=\"__mumot_files__/tmptsb9m8ki/tmphntxq1n8.png\" width=\"21px\" height=\"18px\" preserveAspectRatio=\"xMinYMin meet\" x=\"268.5\" y=\"-279\"/>\n",
       "<text text-anchor=\"middle\" x=\"279\" y=\"-265.8\" font-family=\"Times,serif\" font-size=\"14.00\"> </text>\n",
       "</g>\n",
       "<!-- beta&#45;&gt;X -->\n",
       "<g id=\"edge2\" class=\"edge\"><title>beta&#45;&gt;X</title>\n",
       "<path fill=\"none\" stroke=\"black\" d=\"M279,-243.807C279,-222.197 279,-191.687 279,-170.102\"/>\n",
       "<ellipse fill=\"black\" stroke=\"black\" cx=\"279\" cy=\"-247.947\" rx=\"4\" ry=\"4\"/>\n",
       "<ellipse fill=\"black\" stroke=\"black\" cx=\"279\" cy=\"-166.019\" rx=\"4\" ry=\"4\"/>\n",
       "<image xlink:href=\"__mumot_files__/tmptsb9m8ki/tmp9k92lzgk.png\" width=\"6px\" height=\"8px\" preserveAspectRatio=\"xMinYMin meet\" x=\"269\" y=\"-218.955\"/>\n",
       "</g>\n",
       "</g>\n",
       "</svg>\n"
      ],
      "text/plain": [
       "<graphviz.dot.Digraph at 0x118a77e48>"
      ]
     },
     "execution_count": 14,
     "metadata": {},
     "output_type": "execute_result"
    }
   ],
>>>>>>> 8c18ea65823465a520ec439fbdfdb1bb19db33de
=======
   "execution_count": null,
   "metadata": {
    "collapsed": false
   },
   "outputs": [],
>>>>>>> 0d59b1fc333c2fe2033bf590a8c74f64709dd42a
   "source": [
    "model2.visualise()"
   ]
  },
  {
   "cell_type": "code",
<<<<<<< HEAD
<<<<<<< HEAD
   "execution_count": null,
   "metadata": {
    "collapsed": false
   },
   "outputs": [],
=======
   "execution_count": 15,
   "metadata": {
    "collapsed": false
   },
   "outputs": [
    {
     "name": "stdout",
     "output_type": "stream",
     "text": [
      "bar<ipywidgets.widgets.widget_string.HTML object at 0x118a74cf8>\n"
     ]
    },
    {
     "data": {
      "application/javascript": [
       "/* Put everything inside the global mpl namespace */\n",
       "window.mpl = {};\n",
       "\n",
       "mpl.get_websocket_type = function() {\n",
       "    if (typeof(WebSocket) !== 'undefined') {\n",
       "        return WebSocket;\n",
       "    } else if (typeof(MozWebSocket) !== 'undefined') {\n",
       "        return MozWebSocket;\n",
       "    } else {\n",
       "        alert('Your browser does not have WebSocket support.' +\n",
       "              'Please try Chrome, Safari or Firefox ≥ 6. ' +\n",
       "              'Firefox 4 and 5 are also supported but you ' +\n",
       "              'have to enable WebSockets in about:config.');\n",
       "    };\n",
       "}\n",
       "\n",
       "mpl.figure = function(figure_id, websocket, ondownload, parent_element) {\n",
       "    this.id = figure_id;\n",
       "\n",
       "    this.ws = websocket;\n",
       "\n",
       "    this.supports_binary = (this.ws.binaryType != undefined);\n",
       "\n",
       "    if (!this.supports_binary) {\n",
       "        var warnings = document.getElementById(\"mpl-warnings\");\n",
       "        if (warnings) {\n",
       "            warnings.style.display = 'block';\n",
       "            warnings.textContent = (\n",
       "                \"This browser does not support binary websocket messages. \" +\n",
       "                    \"Performance may be slow.\");\n",
       "        }\n",
       "    }\n",
       "\n",
       "    this.imageObj = new Image();\n",
       "\n",
       "    this.context = undefined;\n",
       "    this.message = undefined;\n",
       "    this.canvas = undefined;\n",
       "    this.rubberband_canvas = undefined;\n",
       "    this.rubberband_context = undefined;\n",
       "    this.format_dropdown = undefined;\n",
       "\n",
       "    this.image_mode = 'full';\n",
       "\n",
       "    this.root = $('<div/>');\n",
       "    this._root_extra_style(this.root)\n",
       "    this.root.attr('style', 'display: inline-block');\n",
       "\n",
       "    $(parent_element).append(this.root);\n",
       "\n",
       "    this._init_header(this);\n",
       "    this._init_canvas(this);\n",
       "    this._init_toolbar(this);\n",
       "\n",
       "    var fig = this;\n",
       "\n",
       "    this.waiting = false;\n",
       "\n",
       "    this.ws.onopen =  function () {\n",
       "            fig.send_message(\"supports_binary\", {value: fig.supports_binary});\n",
       "            fig.send_message(\"send_image_mode\", {});\n",
       "            fig.send_message(\"refresh\", {});\n",
       "        }\n",
       "\n",
       "    this.imageObj.onload = function() {\n",
       "            if (fig.image_mode == 'full') {\n",
       "                // Full images could contain transparency (where diff images\n",
       "                // almost always do), so we need to clear the canvas so that\n",
       "                // there is no ghosting.\n",
       "                fig.context.clearRect(0, 0, fig.canvas.width, fig.canvas.height);\n",
       "            }\n",
       "            fig.context.drawImage(fig.imageObj, 0, 0);\n",
       "        };\n",
       "\n",
       "    this.imageObj.onunload = function() {\n",
       "        this.ws.close();\n",
       "    }\n",
       "\n",
       "    this.ws.onmessage = this._make_on_message_function(this);\n",
       "\n",
       "    this.ondownload = ondownload;\n",
       "}\n",
       "\n",
       "mpl.figure.prototype._init_header = function() {\n",
       "    var titlebar = $(\n",
       "        '<div class=\"ui-dialog-titlebar ui-widget-header ui-corner-all ' +\n",
       "        'ui-helper-clearfix\"/>');\n",
       "    var titletext = $(\n",
       "        '<div class=\"ui-dialog-title\" style=\"width: 100%; ' +\n",
       "        'text-align: center; padding: 3px;\"/>');\n",
       "    titlebar.append(titletext)\n",
       "    this.root.append(titlebar);\n",
       "    this.header = titletext[0];\n",
       "}\n",
       "\n",
       "\n",
       "\n",
       "mpl.figure.prototype._canvas_extra_style = function(canvas_div) {\n",
       "\n",
       "}\n",
       "\n",
       "\n",
       "mpl.figure.prototype._root_extra_style = function(canvas_div) {\n",
       "\n",
       "}\n",
       "\n",
       "mpl.figure.prototype._init_canvas = function() {\n",
       "    var fig = this;\n",
       "\n",
       "    var canvas_div = $('<div/>');\n",
       "\n",
       "    canvas_div.attr('style', 'position: relative; clear: both; outline: 0');\n",
       "\n",
       "    function canvas_keyboard_event(event) {\n",
       "        return fig.key_event(event, event['data']);\n",
       "    }\n",
       "\n",
       "    canvas_div.keydown('key_press', canvas_keyboard_event);\n",
       "    canvas_div.keyup('key_release', canvas_keyboard_event);\n",
       "    this.canvas_div = canvas_div\n",
       "    this._canvas_extra_style(canvas_div)\n",
       "    this.root.append(canvas_div);\n",
       "\n",
       "    var canvas = $('<canvas/>');\n",
       "    canvas.addClass('mpl-canvas');\n",
       "    canvas.attr('style', \"left: 0; top: 0; z-index: 0; outline: 0\")\n",
       "\n",
       "    this.canvas = canvas[0];\n",
       "    this.context = canvas[0].getContext(\"2d\");\n",
       "\n",
       "    var rubberband = $('<canvas/>');\n",
       "    rubberband.attr('style', \"position: absolute; left: 0; top: 0; z-index: 1;\")\n",
       "\n",
       "    var pass_mouse_events = true;\n",
       "\n",
       "    canvas_div.resizable({\n",
       "        start: function(event, ui) {\n",
       "            pass_mouse_events = false;\n",
       "        },\n",
       "        resize: function(event, ui) {\n",
       "            fig.request_resize(ui.size.width, ui.size.height);\n",
       "        },\n",
       "        stop: function(event, ui) {\n",
       "            pass_mouse_events = true;\n",
       "            fig.request_resize(ui.size.width, ui.size.height);\n",
       "        },\n",
       "    });\n",
       "\n",
       "    function mouse_event_fn(event) {\n",
       "        if (pass_mouse_events)\n",
       "            return fig.mouse_event(event, event['data']);\n",
       "    }\n",
       "\n",
       "    rubberband.mousedown('button_press', mouse_event_fn);\n",
       "    rubberband.mouseup('button_release', mouse_event_fn);\n",
       "    // Throttle sequential mouse events to 1 every 20ms.\n",
       "    rubberband.mousemove('motion_notify', mouse_event_fn);\n",
       "\n",
       "    rubberband.mouseenter('figure_enter', mouse_event_fn);\n",
       "    rubberband.mouseleave('figure_leave', mouse_event_fn);\n",
       "\n",
       "    canvas_div.on(\"wheel\", function (event) {\n",
       "        event = event.originalEvent;\n",
       "        event['data'] = 'scroll'\n",
       "        if (event.deltaY < 0) {\n",
       "            event.step = 1;\n",
       "        } else {\n",
       "            event.step = -1;\n",
       "        }\n",
       "        mouse_event_fn(event);\n",
       "    });\n",
       "\n",
       "    canvas_div.append(canvas);\n",
       "    canvas_div.append(rubberband);\n",
       "\n",
       "    this.rubberband = rubberband;\n",
       "    this.rubberband_canvas = rubberband[0];\n",
       "    this.rubberband_context = rubberband[0].getContext(\"2d\");\n",
       "    this.rubberband_context.strokeStyle = \"#000000\";\n",
       "\n",
       "    this._resize_canvas = function(width, height) {\n",
       "        // Keep the size of the canvas, canvas container, and rubber band\n",
       "        // canvas in synch.\n",
       "        canvas_div.css('width', width)\n",
       "        canvas_div.css('height', height)\n",
       "\n",
       "        canvas.attr('width', width);\n",
       "        canvas.attr('height', height);\n",
       "\n",
       "        rubberband.attr('width', width);\n",
       "        rubberband.attr('height', height);\n",
       "    }\n",
       "\n",
       "    // Set the figure to an initial 600x600px, this will subsequently be updated\n",
       "    // upon first draw.\n",
       "    this._resize_canvas(600, 600);\n",
       "\n",
       "    // Disable right mouse context menu.\n",
       "    $(this.rubberband_canvas).bind(\"contextmenu\",function(e){\n",
       "        return false;\n",
       "    });\n",
       "\n",
       "    function set_focus () {\n",
       "        canvas.focus();\n",
       "        canvas_div.focus();\n",
       "    }\n",
       "\n",
       "    window.setTimeout(set_focus, 100);\n",
       "}\n",
       "\n",
       "mpl.figure.prototype._init_toolbar = function() {\n",
       "    var fig = this;\n",
       "\n",
       "    var nav_element = $('<div/>')\n",
       "    nav_element.attr('style', 'width: 100%');\n",
       "    this.root.append(nav_element);\n",
       "\n",
       "    // Define a callback function for later on.\n",
       "    function toolbar_event(event) {\n",
       "        return fig.toolbar_button_onclick(event['data']);\n",
       "    }\n",
       "    function toolbar_mouse_event(event) {\n",
       "        return fig.toolbar_button_onmouseover(event['data']);\n",
       "    }\n",
       "\n",
       "    for(var toolbar_ind in mpl.toolbar_items) {\n",
       "        var name = mpl.toolbar_items[toolbar_ind][0];\n",
       "        var tooltip = mpl.toolbar_items[toolbar_ind][1];\n",
       "        var image = mpl.toolbar_items[toolbar_ind][2];\n",
       "        var method_name = mpl.toolbar_items[toolbar_ind][3];\n",
       "\n",
       "        if (!name) {\n",
       "            // put a spacer in here.\n",
       "            continue;\n",
       "        }\n",
       "        var button = $('<button/>');\n",
       "        button.addClass('ui-button ui-widget ui-state-default ui-corner-all ' +\n",
       "                        'ui-button-icon-only');\n",
       "        button.attr('role', 'button');\n",
       "        button.attr('aria-disabled', 'false');\n",
       "        button.click(method_name, toolbar_event);\n",
       "        button.mouseover(tooltip, toolbar_mouse_event);\n",
       "\n",
       "        var icon_img = $('<span/>');\n",
       "        icon_img.addClass('ui-button-icon-primary ui-icon');\n",
       "        icon_img.addClass(image);\n",
       "        icon_img.addClass('ui-corner-all');\n",
       "\n",
       "        var tooltip_span = $('<span/>');\n",
       "        tooltip_span.addClass('ui-button-text');\n",
       "        tooltip_span.html(tooltip);\n",
       "\n",
       "        button.append(icon_img);\n",
       "        button.append(tooltip_span);\n",
       "\n",
       "        nav_element.append(button);\n",
       "    }\n",
       "\n",
       "    var fmt_picker_span = $('<span/>');\n",
       "\n",
       "    var fmt_picker = $('<select/>');\n",
       "    fmt_picker.addClass('mpl-toolbar-option ui-widget ui-widget-content');\n",
       "    fmt_picker_span.append(fmt_picker);\n",
       "    nav_element.append(fmt_picker_span);\n",
       "    this.format_dropdown = fmt_picker[0];\n",
       "\n",
       "    for (var ind in mpl.extensions) {\n",
       "        var fmt = mpl.extensions[ind];\n",
       "        var option = $(\n",
       "            '<option/>', {selected: fmt === mpl.default_extension}).html(fmt);\n",
       "        fmt_picker.append(option)\n",
       "    }\n",
       "\n",
       "    // Add hover states to the ui-buttons\n",
       "    $( \".ui-button\" ).hover(\n",
       "        function() { $(this).addClass(\"ui-state-hover\");},\n",
       "        function() { $(this).removeClass(\"ui-state-hover\");}\n",
       "    );\n",
       "\n",
       "    var status_bar = $('<span class=\"mpl-message\"/>');\n",
       "    nav_element.append(status_bar);\n",
       "    this.message = status_bar[0];\n",
       "}\n",
       "\n",
       "mpl.figure.prototype.request_resize = function(x_pixels, y_pixels) {\n",
       "    // Request matplotlib to resize the figure. Matplotlib will then trigger a resize in the client,\n",
       "    // which will in turn request a refresh of the image.\n",
       "    this.send_message('resize', {'width': x_pixels, 'height': y_pixels});\n",
       "}\n",
       "\n",
       "mpl.figure.prototype.send_message = function(type, properties) {\n",
       "    properties['type'] = type;\n",
       "    properties['figure_id'] = this.id;\n",
       "    this.ws.send(JSON.stringify(properties));\n",
       "}\n",
       "\n",
       "mpl.figure.prototype.send_draw_message = function() {\n",
       "    if (!this.waiting) {\n",
       "        this.waiting = true;\n",
       "        this.ws.send(JSON.stringify({type: \"draw\", figure_id: this.id}));\n",
       "    }\n",
       "}\n",
       "\n",
       "\n",
       "mpl.figure.prototype.handle_save = function(fig, msg) {\n",
       "    var format_dropdown = fig.format_dropdown;\n",
       "    var format = format_dropdown.options[format_dropdown.selectedIndex].value;\n",
       "    fig.ondownload(fig, format);\n",
       "}\n",
       "\n",
       "\n",
       "mpl.figure.prototype.handle_resize = function(fig, msg) {\n",
       "    var size = msg['size'];\n",
       "    if (size[0] != fig.canvas.width || size[1] != fig.canvas.height) {\n",
       "        fig._resize_canvas(size[0], size[1]);\n",
       "        fig.send_message(\"refresh\", {});\n",
       "    };\n",
       "}\n",
       "\n",
       "mpl.figure.prototype.handle_rubberband = function(fig, msg) {\n",
       "    var x0 = msg['x0'];\n",
       "    var y0 = fig.canvas.height - msg['y0'];\n",
       "    var x1 = msg['x1'];\n",
       "    var y1 = fig.canvas.height - msg['y1'];\n",
       "    x0 = Math.floor(x0) + 0.5;\n",
       "    y0 = Math.floor(y0) + 0.5;\n",
       "    x1 = Math.floor(x1) + 0.5;\n",
       "    y1 = Math.floor(y1) + 0.5;\n",
       "    var min_x = Math.min(x0, x1);\n",
       "    var min_y = Math.min(y0, y1);\n",
       "    var width = Math.abs(x1 - x0);\n",
       "    var height = Math.abs(y1 - y0);\n",
       "\n",
       "    fig.rubberband_context.clearRect(\n",
       "        0, 0, fig.canvas.width, fig.canvas.height);\n",
       "\n",
       "    fig.rubberband_context.strokeRect(min_x, min_y, width, height);\n",
       "}\n",
       "\n",
       "mpl.figure.prototype.handle_figure_label = function(fig, msg) {\n",
       "    // Updates the figure title.\n",
       "    fig.header.textContent = msg['label'];\n",
       "}\n",
       "\n",
       "mpl.figure.prototype.handle_cursor = function(fig, msg) {\n",
       "    var cursor = msg['cursor'];\n",
       "    switch(cursor)\n",
       "    {\n",
       "    case 0:\n",
       "        cursor = 'pointer';\n",
       "        break;\n",
       "    case 1:\n",
       "        cursor = 'default';\n",
       "        break;\n",
       "    case 2:\n",
       "        cursor = 'crosshair';\n",
       "        break;\n",
       "    case 3:\n",
       "        cursor = 'move';\n",
       "        break;\n",
       "    }\n",
       "    fig.rubberband_canvas.style.cursor = cursor;\n",
       "}\n",
       "\n",
       "mpl.figure.prototype.handle_message = function(fig, msg) {\n",
       "    fig.message.textContent = msg['message'];\n",
       "}\n",
       "\n",
       "mpl.figure.prototype.handle_draw = function(fig, msg) {\n",
       "    // Request the server to send over a new figure.\n",
       "    fig.send_draw_message();\n",
       "}\n",
       "\n",
       "mpl.figure.prototype.handle_image_mode = function(fig, msg) {\n",
       "    fig.image_mode = msg['mode'];\n",
       "}\n",
       "\n",
       "mpl.figure.prototype.updated_canvas_event = function() {\n",
       "    // Called whenever the canvas gets updated.\n",
       "    this.send_message(\"ack\", {});\n",
       "}\n",
       "\n",
       "// A function to construct a web socket function for onmessage handling.\n",
       "// Called in the figure constructor.\n",
       "mpl.figure.prototype._make_on_message_function = function(fig) {\n",
       "    return function socket_on_message(evt) {\n",
       "        if (evt.data instanceof Blob) {\n",
       "            /* FIXME: We get \"Resource interpreted as Image but\n",
       "             * transferred with MIME type text/plain:\" errors on\n",
       "             * Chrome.  But how to set the MIME type?  It doesn't seem\n",
       "             * to be part of the websocket stream */\n",
       "            evt.data.type = \"image/png\";\n",
       "\n",
       "            /* Free the memory for the previous frames */\n",
       "            if (fig.imageObj.src) {\n",
       "                (window.URL || window.webkitURL).revokeObjectURL(\n",
       "                    fig.imageObj.src);\n",
       "            }\n",
       "\n",
       "            fig.imageObj.src = (window.URL || window.webkitURL).createObjectURL(\n",
       "                evt.data);\n",
       "            fig.updated_canvas_event();\n",
       "            fig.waiting = false;\n",
       "            return;\n",
       "        }\n",
       "        else if (typeof evt.data === 'string' && evt.data.slice(0, 21) == \"data:image/png;base64\") {\n",
       "            fig.imageObj.src = evt.data;\n",
       "            fig.updated_canvas_event();\n",
       "            fig.waiting = false;\n",
       "            return;\n",
       "        }\n",
       "\n",
       "        var msg = JSON.parse(evt.data);\n",
       "        var msg_type = msg['type'];\n",
       "\n",
       "        // Call the  \"handle_{type}\" callback, which takes\n",
       "        // the figure and JSON message as its only arguments.\n",
       "        try {\n",
       "            var callback = fig[\"handle_\" + msg_type];\n",
       "        } catch (e) {\n",
       "            console.log(\"No handler for the '\" + msg_type + \"' message type: \", msg);\n",
       "            return;\n",
       "        }\n",
       "\n",
       "        if (callback) {\n",
       "            try {\n",
       "                // console.log(\"Handling '\" + msg_type + \"' message: \", msg);\n",
       "                callback(fig, msg);\n",
       "            } catch (e) {\n",
       "                console.log(\"Exception inside the 'handler_\" + msg_type + \"' callback:\", e, e.stack, msg);\n",
       "            }\n",
       "        }\n",
       "    };\n",
       "}\n",
       "\n",
       "// from http://stackoverflow.com/questions/1114465/getting-mouse-location-in-canvas\n",
       "mpl.findpos = function(e) {\n",
       "    //this section is from http://www.quirksmode.org/js/events_properties.html\n",
       "    var targ;\n",
       "    if (!e)\n",
       "        e = window.event;\n",
       "    if (e.target)\n",
       "        targ = e.target;\n",
       "    else if (e.srcElement)\n",
       "        targ = e.srcElement;\n",
       "    if (targ.nodeType == 3) // defeat Safari bug\n",
       "        targ = targ.parentNode;\n",
       "\n",
       "    // jQuery normalizes the pageX and pageY\n",
       "    // pageX,Y are the mouse positions relative to the document\n",
       "    // offset() returns the position of the element relative to the document\n",
       "    var x = e.pageX - $(targ).offset().left;\n",
       "    var y = e.pageY - $(targ).offset().top;\n",
       "\n",
       "    return {\"x\": x, \"y\": y};\n",
       "};\n",
       "\n",
       "/*\n",
       " * return a copy of an object with only non-object keys\n",
       " * we need this to avoid circular references\n",
       " * http://stackoverflow.com/a/24161582/3208463\n",
       " */\n",
       "function simpleKeys (original) {\n",
       "  return Object.keys(original).reduce(function (obj, key) {\n",
       "    if (typeof original[key] !== 'object')\n",
       "        obj[key] = original[key]\n",
       "    return obj;\n",
       "  }, {});\n",
       "}\n",
       "\n",
       "mpl.figure.prototype.mouse_event = function(event, name) {\n",
       "    var canvas_pos = mpl.findpos(event)\n",
       "\n",
       "    if (name === 'button_press')\n",
       "    {\n",
       "        this.canvas.focus();\n",
       "        this.canvas_div.focus();\n",
       "    }\n",
       "\n",
       "    var x = canvas_pos.x;\n",
       "    var y = canvas_pos.y;\n",
       "\n",
       "    this.send_message(name, {x: x, y: y, button: event.button,\n",
       "                             step: event.step,\n",
       "                             guiEvent: simpleKeys(event)});\n",
       "\n",
       "    /* This prevents the web browser from automatically changing to\n",
       "     * the text insertion cursor when the button is pressed.  We want\n",
       "     * to control all of the cursor setting manually through the\n",
       "     * 'cursor' event from matplotlib */\n",
       "    event.preventDefault();\n",
       "    return false;\n",
       "}\n",
       "\n",
       "mpl.figure.prototype._key_event_extra = function(event, name) {\n",
       "    // Handle any extra behaviour associated with a key event\n",
       "}\n",
       "\n",
       "mpl.figure.prototype.key_event = function(event, name) {\n",
       "\n",
       "    // Prevent repeat events\n",
       "    if (name == 'key_press')\n",
       "    {\n",
       "        if (event.which === this._key)\n",
       "            return;\n",
       "        else\n",
       "            this._key = event.which;\n",
       "    }\n",
       "    if (name == 'key_release')\n",
       "        this._key = null;\n",
       "\n",
       "    var value = '';\n",
       "    if (event.ctrlKey && event.which != 17)\n",
       "        value += \"ctrl+\";\n",
       "    if (event.altKey && event.which != 18)\n",
       "        value += \"alt+\";\n",
       "    if (event.shiftKey && event.which != 16)\n",
       "        value += \"shift+\";\n",
       "\n",
       "    value += 'k';\n",
       "    value += event.which.toString();\n",
       "\n",
       "    this._key_event_extra(event, name);\n",
       "\n",
       "    this.send_message(name, {key: value,\n",
       "                             guiEvent: simpleKeys(event)});\n",
       "    return false;\n",
       "}\n",
       "\n",
       "mpl.figure.prototype.toolbar_button_onclick = function(name) {\n",
       "    if (name == 'download') {\n",
       "        this.handle_save(this, null);\n",
       "    } else {\n",
       "        this.send_message(\"toolbar_button\", {name: name});\n",
       "    }\n",
       "};\n",
       "\n",
       "mpl.figure.prototype.toolbar_button_onmouseover = function(tooltip) {\n",
       "    this.message.textContent = tooltip;\n",
       "};\n",
       "mpl.toolbar_items = [[\"Home\", \"Reset original view\", \"fa fa-home icon-home\", \"home\"], [\"Back\", \"Back to  previous view\", \"fa fa-arrow-left icon-arrow-left\", \"back\"], [\"Forward\", \"Forward to next view\", \"fa fa-arrow-right icon-arrow-right\", \"forward\"], [\"\", \"\", \"\", \"\"], [\"Pan\", \"Pan axes with left mouse, zoom with right\", \"fa fa-arrows icon-move\", \"pan\"], [\"Zoom\", \"Zoom to rectangle\", \"fa fa-square-o icon-check-empty\", \"zoom\"], [\"\", \"\", \"\", \"\"], [\"Download\", \"Download plot\", \"fa fa-floppy-o icon-save\", \"download\"]];\n",
       "\n",
       "mpl.extensions = [\"eps\", \"jpeg\", \"pdf\", \"png\", \"ps\", \"raw\", \"svg\", \"tif\"];\n",
       "\n",
       "mpl.default_extension = \"png\";var comm_websocket_adapter = function(comm) {\n",
       "    // Create a \"websocket\"-like object which calls the given IPython comm\n",
       "    // object with the appropriate methods. Currently this is a non binary\n",
       "    // socket, so there is still some room for performance tuning.\n",
       "    var ws = {};\n",
       "\n",
       "    ws.close = function() {\n",
       "        comm.close()\n",
       "    };\n",
       "    ws.send = function(m) {\n",
       "        //console.log('sending', m);\n",
       "        comm.send(m);\n",
       "    };\n",
       "    // Register the callback with on_msg.\n",
       "    comm.on_msg(function(msg) {\n",
       "        //console.log('receiving', msg['content']['data'], msg);\n",
       "        // Pass the mpl event to the overriden (by mpl) onmessage function.\n",
       "        ws.onmessage(msg['content']['data'])\n",
       "    });\n",
       "    return ws;\n",
       "}\n",
       "\n",
       "mpl.mpl_figure_comm = function(comm, msg) {\n",
       "    // This is the function which gets called when the mpl process\n",
       "    // starts-up an IPython Comm through the \"matplotlib\" channel.\n",
       "\n",
       "    var id = msg.content.data.id;\n",
       "    // Get hold of the div created by the display call when the Comm\n",
       "    // socket was opened in Python.\n",
       "    var element = $(\"#\" + id);\n",
       "    var ws_proxy = comm_websocket_adapter(comm)\n",
       "\n",
       "    function ondownload(figure, format) {\n",
       "        window.open(figure.imageObj.src);\n",
       "    }\n",
       "\n",
       "    var fig = new mpl.figure(id, ws_proxy,\n",
       "                           ondownload,\n",
       "                           element.get(0));\n",
       "\n",
       "    // Call onopen now - mpl needs it, as it is assuming we've passed it a real\n",
       "    // web socket which is closed, not our websocket->open comm proxy.\n",
       "    ws_proxy.onopen();\n",
       "\n",
       "    fig.parent_element = element.get(0);\n",
       "    fig.cell_info = mpl.find_output_cell(\"<div id='\" + id + \"'></div>\");\n",
       "    if (!fig.cell_info) {\n",
       "        console.error(\"Failed to find cell for figure\", id, fig);\n",
       "        return;\n",
       "    }\n",
       "\n",
       "    var output_index = fig.cell_info[2]\n",
       "    var cell = fig.cell_info[0];\n",
       "\n",
       "};\n",
       "\n",
       "mpl.figure.prototype.handle_close = function(fig, msg) {\n",
       "    fig.root.unbind('remove')\n",
       "\n",
       "    // Update the output cell to use the data from the current canvas.\n",
       "    fig.push_to_output();\n",
       "    var dataURL = fig.canvas.toDataURL();\n",
       "    // Re-enable the keyboard manager in IPython - without this line, in FF,\n",
       "    // the notebook keyboard shortcuts fail.\n",
       "    IPython.keyboard_manager.enable()\n",
       "    $(fig.parent_element).html('<img src=\"' + dataURL + '\">');\n",
       "    fig.close_ws(fig, msg);\n",
       "}\n",
       "\n",
       "mpl.figure.prototype.close_ws = function(fig, msg){\n",
       "    fig.send_message('closing', msg);\n",
       "    // fig.ws.close()\n",
       "}\n",
       "\n",
       "mpl.figure.prototype.push_to_output = function(remove_interactive) {\n",
       "    // Turn the data on the canvas into data in the output cell.\n",
       "    var dataURL = this.canvas.toDataURL();\n",
       "    this.cell_info[1]['text/html'] = '<img src=\"' + dataURL + '\">';\n",
       "}\n",
       "\n",
       "mpl.figure.prototype.updated_canvas_event = function() {\n",
       "    // Tell IPython that the notebook contents must change.\n",
       "    IPython.notebook.set_dirty(true);\n",
       "    this.send_message(\"ack\", {});\n",
       "    var fig = this;\n",
       "    // Wait a second, then push the new image to the DOM so\n",
       "    // that it is saved nicely (might be nice to debounce this).\n",
       "    setTimeout(function () { fig.push_to_output() }, 1000);\n",
       "}\n",
       "\n",
       "mpl.figure.prototype._init_toolbar = function() {\n",
       "    var fig = this;\n",
       "\n",
       "    var nav_element = $('<div/>')\n",
       "    nav_element.attr('style', 'width: 100%');\n",
       "    this.root.append(nav_element);\n",
       "\n",
       "    // Define a callback function for later on.\n",
       "    function toolbar_event(event) {\n",
       "        return fig.toolbar_button_onclick(event['data']);\n",
       "    }\n",
       "    function toolbar_mouse_event(event) {\n",
       "        return fig.toolbar_button_onmouseover(event['data']);\n",
       "    }\n",
       "\n",
       "    for(var toolbar_ind in mpl.toolbar_items){\n",
       "        var name = mpl.toolbar_items[toolbar_ind][0];\n",
       "        var tooltip = mpl.toolbar_items[toolbar_ind][1];\n",
       "        var image = mpl.toolbar_items[toolbar_ind][2];\n",
       "        var method_name = mpl.toolbar_items[toolbar_ind][3];\n",
       "\n",
       "        if (!name) { continue; };\n",
       "\n",
       "        var button = $('<button class=\"btn btn-default\" href=\"#\" title=\"' + name + '\"><i class=\"fa ' + image + ' fa-lg\"></i></button>');\n",
       "        button.click(method_name, toolbar_event);\n",
       "        button.mouseover(tooltip, toolbar_mouse_event);\n",
       "        nav_element.append(button);\n",
       "    }\n",
       "\n",
       "    // Add the status bar.\n",
       "    var status_bar = $('<span class=\"mpl-message\" style=\"text-align:right; float: right;\"/>');\n",
       "    nav_element.append(status_bar);\n",
       "    this.message = status_bar[0];\n",
       "\n",
       "    // Add the close button to the window.\n",
       "    var buttongrp = $('<div class=\"btn-group inline pull-right\"></div>');\n",
       "    var button = $('<button class=\"btn btn-mini btn-primary\" href=\"#\" title=\"Stop Interaction\"><i class=\"fa fa-power-off icon-remove icon-large\"></i></button>');\n",
       "    button.click(function (evt) { fig.handle_close(fig, {}); } );\n",
       "    button.mouseover('Stop Interaction', toolbar_mouse_event);\n",
       "    buttongrp.append(button);\n",
       "    var titlebar = this.root.find($('.ui-dialog-titlebar'));\n",
       "    titlebar.prepend(buttongrp);\n",
       "}\n",
       "\n",
       "mpl.figure.prototype._root_extra_style = function(el){\n",
       "    var fig = this\n",
       "    el.on(\"remove\", function(){\n",
       "\tfig.close_ws(fig, {});\n",
       "    });\n",
       "}\n",
       "\n",
       "mpl.figure.prototype._canvas_extra_style = function(el){\n",
       "    // this is important to make the div 'focusable\n",
       "    el.attr('tabindex', 0)\n",
       "    // reach out to IPython and tell the keyboard manager to turn it's self\n",
       "    // off when our div gets focus\n",
       "\n",
       "    // location in version 3\n",
       "    if (IPython.notebook.keyboard_manager) {\n",
       "        IPython.notebook.keyboard_manager.register_events(el);\n",
       "    }\n",
       "    else {\n",
       "        // location in version 2\n",
       "        IPython.keyboard_manager.register_events(el);\n",
       "    }\n",
       "\n",
       "}\n",
       "\n",
       "mpl.figure.prototype._key_event_extra = function(event, name) {\n",
       "    var manager = IPython.notebook.keyboard_manager;\n",
       "    if (!manager)\n",
       "        manager = IPython.keyboard_manager;\n",
       "\n",
       "    // Check for shift+enter\n",
       "    if (event.shiftKey && event.which == 13) {\n",
       "        this.canvas_div.blur();\n",
       "        event.shiftKey = false;\n",
       "        // Send a \"J\" for go to next cell\n",
       "        event.which = 74;\n",
       "        event.keyCode = 74;\n",
       "        manager.command_mode();\n",
       "        manager.handle_keydown(event);\n",
       "    }\n",
       "}\n",
       "\n",
       "mpl.figure.prototype.handle_save = function(fig, msg) {\n",
       "    fig.ondownload(fig, null);\n",
       "}\n",
       "\n",
       "\n",
       "mpl.find_output_cell = function(html_output) {\n",
       "    // Return the cell and output element which can be found *uniquely* in the notebook.\n",
       "    // Note - this is a bit hacky, but it is done because the \"notebook_saving.Notebook\"\n",
       "    // IPython event is triggered only after the cells have been serialised, which for\n",
       "    // our purposes (turning an active figure into a static one), is too late.\n",
       "    var cells = IPython.notebook.get_cells();\n",
       "    var ncells = cells.length;\n",
       "    for (var i=0; i<ncells; i++) {\n",
       "        var cell = cells[i];\n",
       "        if (cell.cell_type === 'code'){\n",
       "            for (var j=0; j<cell.output_area.outputs.length; j++) {\n",
       "                var data = cell.output_area.outputs[j];\n",
       "                if (data.data) {\n",
       "                    // IPython >= 3 moved mimebundle to data attribute of output\n",
       "                    data = data.data;\n",
       "                }\n",
       "                if (data['text/html'] == html_output) {\n",
       "                    return [cell, data, j];\n",
       "                }\n",
       "            }\n",
       "        }\n",
       "    }\n",
       "}\n",
       "\n",
       "// Register the function which deals with the matplotlib target/channel.\n",
       "// The kernel may be null if the page has been refreshed.\n",
       "if (IPython.notebook.kernel != null) {\n",
       "    IPython.notebook.kernel.comm_manager.register_target('matplotlib', mpl.mpl_figure_comm);\n",
       "}\n"
      ],
      "text/plain": [
       "<IPython.core.display.Javascript object>"
      ]
     },
     "metadata": {},
     "output_type": "display_data"
    },
    {
     "data": {
      "text/html": [
       "<img src=\"data:image/png;base64,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\">"
      ],
      "text/plain": [
       "<IPython.core.display.HTML object>"
      ]
     },
     "metadata": {},
     "output_type": "display_data"
    }
   ],
>>>>>>> 8c18ea65823465a520ec439fbdfdb1bb19db33de
=======
   "execution_count": null,
   "metadata": {
    "collapsed": false
   },
   "outputs": [],
>>>>>>> 0d59b1fc333c2fe2033bf590a8c74f64709dd42a
   "source": [
    "cont2 = model2.stream('X','Y', showFixedPoints = False)"
   ]
  },
  {
   "cell_type": "code",
<<<<<<< HEAD
<<<<<<< HEAD
   "execution_count": null,
   "metadata": {
    "collapsed": false
   },
   "outputs": [],
=======
   "execution_count": 16,
   "metadata": {
    "collapsed": false
   },
   "outputs": [
    {
     "name": "stdout",
     "output_type": "stream",
     "text": [
      "Starting 2d stream plot with parameters (alpha=0.5), (beta=0.5), (chi=0.5), (delta=0.5), (gamma=0.5), (xi=0.5), at 2017-10-25 10:18:10.512390\n"
     ]
    }
   ],
>>>>>>> 8c18ea65823465a520ec439fbdfdb1bb19db33de
=======
   "execution_count": null,
   "metadata": {
    "collapsed": false
   },
   "outputs": [],
>>>>>>> 0d59b1fc333c2fe2033bf590a8c74f64709dd42a
   "source": [
    "cont2.showLogs()"
   ]
  }
 ],
 "metadata": {
  "kernelspec": {
   "display_name": "Python 3",
   "language": "python",
   "name": "python3"
  },
  "language_info": {
   "codemirror_mode": {
    "name": "ipython",
    "version": 3
   },
   "file_extension": ".py",
   "mimetype": "text/x-python",
   "name": "python",
   "nbconvert_exporter": "python",
   "pygments_lexer": "ipython3",
   "version": "3.5.1"
  }
 },
 "nbformat": 4,
 "nbformat_minor": 1
}
