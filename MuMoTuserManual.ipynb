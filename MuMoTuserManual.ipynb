{
 "cells": [
  {
   "cell_type": "markdown",
   "metadata": {},
   "source": [
    "# MuMoT User Manual <a class=\"tocSkip\">\n",
    "\n",
    "## Multiscale Modelling Tool  <a class=\"tocSkip\">\n",
    "\n",
    "This is the user manual for [MuMoT](https://github.com/DiODeProject/MuMoT), a software tool developed at the University of Sheffield as part of the [DiODe](http://diode.group.shef.ac.uk) project\n",
    "\n",
    "*Current MuMoT version*: **0.0**"
   ]
  },
  {
   "cell_type": "markdown",
   "metadata": {},
   "source": [
    "### Working with MuMoT\n",
    "\n",
    "MuMoT runs inside [Jupyter notebooks](http://jupyter.org) - since you are reading this User Manual you have presumably already installed Jupyter, or are using an installation provided to you\n",
    "\n",
    "Next, you need to install MuMoT itself; since MuMoT is a Python package it can be installed from PyPi - see the [project page](https://diodeproject.github.io/MuMoT/) for more details\n",
    "\n",
    "To run commands in 'Code' cells it's usually easiest just to hit `Shift + Enter`; here is some basic information on [working with Jupyter notebooks](http://jupyter-notebook.readthedocs.io/en/stable/examples/Notebook/Notebook%20Basics.html)\n",
    "\n",
    "With Jupyter and MuMoT both installed, you simply need to import the MuMoT package into your notebook; we recommend you refer to it as `mmt`"
   ]
  },
  {
   "cell_type": "code",
   "execution_count": null,
   "metadata": {},
   "outputs": [],
   "source": [
    "import MuMoT.MuMoT as mmt"
   ]
  },
  {
   "cell_type": "markdown",
   "metadata": {},
   "source": [
    "### Defining your first model\n",
    "\n",
    "If everything went well with importing MuMoT you should have seen the message\n",
    "\n",
    "``Created `%%model` as an alias for `%%latex``\n",
    "\n",
    "MuMoT models are defined using the `%%model` keyword within a cell, and have a very simple syntax; since MuMoT works with *chemical kinetic* or *reaction kinetic* models, you simply have to describe the reactions that take place, and the rates with which they occur. For example\n",
    "\n",
    "`A + A -> A + U: s`\n",
    "\n",
    "is a very simple reaction, in which two particles of type $A$ interact, and one changes to type $U$, at rate $s$.\n",
    "\n",
    "These kind of reaction rules are quite general; they describe a lot of chemical reactions, as well as collective behaviour in which individuals interact to change each other's state, and even demographic models in which individuals are born and die.\n",
    "\n",
    "Our first model will be based on signalling behaviour observed in honeybee swarms, as described in Seeley et al. ([2012](#references)) and Pais et al. ([2013](#references)).\n",
    "\n",
    "\n",
    "The `$` at the start and end just allow us to use LaTeX [codes](http://reu.dimacs.rutgers.edu/Symbols.pdf) for our state and rate labels, allowing us to use  letters from different alphabets, such as Greek, and other nice formatting - if you don't know LaTeX don't worry about this - leave in the `$` signs, they won't hurt.\n",
    "\n",
    "**N.B.** currently it is important to put spaces between all elements of each rule, as below.\n",
    "\n",
    "OK, here we go..."
   ]
  },
  {
   "cell_type": "code",
   "execution_count": null,
   "metadata": {},
   "outputs": [],
   "source": [
    "%%model\n",
    "$\n",
    "U -> A : g_A\n",
    "U -> B : g_B\n",
    "A -> U : a_A\n",
    "B -> U : a_B\n",
    "A + U -> A + A : r_A\n",
    "B + U -> B + B : r_B\n",
    "A + B -> A + U : s\n",
    "A + B -> B + U : s\n",
    "$"
   ]
  },
  {
   "cell_type": "markdown",
   "metadata": {},
   "source": [
    "Now we have our model, and Jupyter should have reprinted the rules underneath the cell you input them in.\n",
    "\n",
    "You can see that actually the `_` code enables you to use subscripts, which can be handy for distinguishing related rates - in this model there are two distinct nest sites for the honeybee swarm to choose between, *A* and *B*, and rates associated with each one.\n",
    "\n",
    "We have our model, but currently it is not useful; it's only a definition, not a fully-fledged model that we can start analysing with MuMoT. To make one of those we have to use the `parseModel` command; we simply pass in a reference to the cell where we defined our model - this should be in input cell 2..."
   ]
  },
  {
   "cell_type": "code",
   "execution_count": null,
   "metadata": {},
   "outputs": [],
   "source": [
    "model1 = mmt.parseModel(In[2])"
   ]
  },
  {
   "cell_type": "markdown",
   "metadata": {},
   "source": [
    "If there is no output from `parseModel` that is good news - it means the model was valid. Now we have an object, which we called `model1`, which is a version of the model that we can start doing useful work with. For example, we can see its 'reactants' (or states, or types of individual; remember the terminology comes from chemical reactions)..."
   ]
  },
  {
   "cell_type": "code",
   "execution_count": null,
   "metadata": {},
   "outputs": [],
   "source": [
    "model1.showReactants()"
   ]
  },
  {
   "cell_type": "markdown",
   "metadata": {},
   "source": [
    "...and the rates the reactions happen at"
   ]
  },
  {
   "cell_type": "code",
   "execution_count": null,
   "metadata": {},
   "outputs": [],
   "source": [
    "model1.showRates()"
   ]
  },
  {
   "cell_type": "markdown",
   "metadata": {},
   "source": [
    "Note that here MuMoT also helpfully tells us which reactions in the original model definition each rate is associated with.\n",
    "\n",
    "We can also look at the reaction equations in a slightly nicer format..."
   ]
  },
  {
   "cell_type": "code",
   "execution_count": null,
   "metadata": {},
   "outputs": [],
   "source": [
    "model1.show()"
   ]
  },
  {
   "cell_type": "markdown",
   "metadata": {},
   "source": [
    "We can even see a simple figure representing our model..."
   ]
  },
  {
   "cell_type": "code",
   "execution_count": null,
   "metadata": {},
   "outputs": [],
   "source": [
    "model1.visualise()"
   ]
  },
  {
   "cell_type": "markdown",
   "metadata": {},
   "source": [
    "This figure attempts to represent the nature of the interactions between reactants graphically, from simple transitions (arrows), inhibitions (filled circles) and induced switches (arrows with filled circles at the origin); to understand the different interaction patterns try relating the arrows with the reactions we defined above, by reference to the rates they are labelled with."
   ]
  },
  {
   "cell_type": "markdown",
   "metadata": {},
   "source": [
    "### Exploring your new model\n",
    "\n",
    "If you want to know what commands you can send to an object, Jupyter lets you type out the object name, then a `.`, then hit `Tab` to see a list of accepted commands. You can also consult the [Command reference](#comreference) for a full list of commands, and details on their use.\n",
    "\n",
    "One commmand that looks intruiguing is `showODEs`"
   ]
  },
  {
   "cell_type": "code",
   "execution_count": null,
   "metadata": {},
   "outputs": [],
   "source": [
    "model1.showODEs()"
   ]
  },
  {
   "cell_type": "markdown",
   "metadata": {},
   "source": [
    "This is where things start getting interesting, because equations are what mathematicians analyse. `showODEs` shows the model's Ordinary Differential Equations, which describe how the populations of reactants in the model change over time. MuMoT has derived these equations for you automatically, from your description of the reactions. If you are familiar with ODEs then you should be able to read these quite easily. However even if you are not, you can still work with them.\n",
    "\n",
    "So, what analysis can we do in MuMoT now we've found our ODEs?\n",
    "\n",
    "Well, we might want to look at how the state of the system (the proportions of the different reactants) change on average over time...\n",
    "\n",
    "...but before we can do that, we need to let MuMoT know that this is actually a simpler set of equations than it appears to be. $A$, $B$, and $U$ represent states that honebees can be in during the swarming process, either committed to site *A*, committed to site *B*, or *U*ncommitted. Because there is a constant number of individuals in the swarm during a decision, one of these equations is redundant; the change in the uncommitted bee frequency can be worked out from the change in frequencies of A-committed and B-committed bees, for example.\n",
    "\n",
    "We let MuMoT know this by defining one of the reactants in terms of the other, using `substitute`"
   ]
  },
  {
   "cell_type": "code",
   "execution_count": null,
   "metadata": {},
   "outputs": [],
   "source": [
    "model2 = model1.substitute('U = N - A - B')"
   ]
  },
  {
   "cell_type": "markdown",
   "metadata": {},
   "source": [
    "Now we have a simplified model, `model2`, which only has two equations, because we have told MuMoT that the total number of uncommitted bees $U$ is the total number of bees in the swarm $N$, minus the numbers committed to the two different nests ($A$ and $B$)"
   ]
  },
  {
   "cell_type": "code",
   "execution_count": null,
   "metadata": {},
   "outputs": [],
   "source": [
    "model2.showODEs()"
   ]
  },
  {
   "cell_type": "markdown",
   "metadata": {},
   "source": [
    "Now we can look at how the model behaves, by asking for a vector plot of the two reactants $A$ and $B$..."
   ]
  },
  {
   "cell_type": "code",
   "execution_count": null,
   "metadata": {},
   "outputs": [],
   "source": [
    "vector1 = model2.vector('A', 'B')"
   ]
  },
  {
   "cell_type": "markdown",
   "metadata": {},
   "source": [
    "Now we can see how to start working with models in MuMoT. The figure you see is a vector plot, which shows on average how the state of the system (proportions of bees in states $A$ and $B$) will change over time, from any point in the state space. The arrows give the direction the system will move in, and their lengths show how fast. Because the total number of bees is constant, $A+B$ can never exceed 1, so the top right hand triangle of the figure is greyed out; these are impossible states. The number of uncommitted bees $U$, which we hid away earlier, is not shown, but it is simply $1-A-B$. But what we really care about in a decision-making process is how the number of 'voters' for the competing options changes over time.\n",
    "\n",
    "You will also notice that there are some sliders above the figure; MuMoT gives you a slider for every rate in the model, and by changing their values, you can see what happens to the behaviour of the system.\n",
    "\n",
    "Jupyter also lets you interact nicely with the figure; you can zoom in, back out, pan around, and save, all by clicking the icons that appear underneath it. If you want to save a figure for a paper, simply click the disk icon. And if while exploring the model you find a nice figure, you can click the 'off' icon in its top right to snapshot it, and generate a new interactive figure to play with. You can then simply right-click your snapshots to save them from your browser - just don't forget to note the parameters that generated them - you can find that out by looking at the logs... later in the manual we will see how to take notes properly to reproduce analyses (see [Bookmarking](#bookmarking)).\n",
    "\n",
    "Every 'controller' in MuMoT keeps a log of everything it's been asked to do; we called our controller `vector1` when we created it, so it is easy to check what it has been up to... (WARNING: if you have been playing with the sliders a lot, there could be a lot in the logs! To only see the last few entries we set the `tail` argument to `True`; if `tail` is not set it will be assumed to be `False`)."
   ]
  },
  {
   "cell_type": "code",
   "execution_count": null,
   "metadata": {},
   "outputs": [],
   "source": [
    "vector1.showLogs(tail = True)"
   ]
  },
  {
   "cell_type": "markdown",
   "metadata": {},
   "source": [
    "For papers and presentations we can produce somewhat prettier plots similar to figure 1 above, using `stream`. But before we do that, one unfortunate thing about our `vector1` controller is that there are just too many sliders. We might choose to describe all the rates (*a*bandonment, *r*ecruitment (via the waggle dance), and individual discovery and commitment (*g*)) in terms of the *v*alues of the nest sites... we can do this by using `substitute` again:"
   ]
  },
  {
   "cell_type": "code",
   "execution_count": null,
   "metadata": {},
   "outputs": [],
   "source": [
    "model3 = model2.substitute('a_A = 1/v_A, a_B = 1/v_B, g_A = v_A, g_B = v_B, r_A = v_A, r_B = v_B')"
   ]
  },
  {
   "cell_type": "markdown",
   "metadata": {},
   "source": [
    "Our new model is a little simpler, with just three rates, $v_A$, $v_B$ and $s$."
   ]
  },
  {
   "cell_type": "code",
   "execution_count": null,
   "metadata": {},
   "outputs": [],
   "source": [
    "model3.show()"
   ]
  },
  {
   "cell_type": "markdown",
   "metadata": {},
   "source": [
    "Still, in decision-making what we really care about is how good options are on average, and their difference in value. Pais et al. (2013) thus defined option values in terms of deviation from the average value, so\n",
    "$$\\displaystyle v_A=\\mu+\\frac{\\Delta}{2}$$\n",
    "and\n",
    "$$\\displaystyle v_B=\\mu-\\frac{\\Delta}{2}$$"
   ]
  },
  {
   "cell_type": "code",
   "execution_count": null,
   "metadata": {},
   "outputs": [],
   "source": [
    "model4 = model3.substitute('v_A = \\mu + \\Delta/2, v_B = \\mu - \\Delta/2')\n",
    "model4.showODEs()"
   ]
  },
  {
   "cell_type": "markdown",
   "metadata": {},
   "source": [
    "This model is much easier to interact with..."
   ]
  },
  {
   "cell_type": "code",
   "execution_count": null,
   "metadata": {},
   "outputs": [],
   "source": [
    "stream1 = model4.stream('A','B', showFixedPoints = True)"
   ]
  },
  {
   "cell_type": "markdown",
   "metadata": {},
   "source": [
    "A `stream` plot is just like a `vector` plot, except now lines show the average change of the system over time in more detail, and their shading represents the speed of change, from slow (light grey) to fast (black).\n",
    "\n",
    "Note also that here we added a *keyword argument* `showFixedPoints = True` - this can also be applied to `vector` plots, and plots the stationary points of the equation. If the stationary point is *stable* (arrows converge on that point) then it is represented with a filled circle, and if it is *unstable* (arrows leave that point) then a hollow circle is shown. Displaying fixed points can slow down plots, so by default they are not shown, and you need to explicitly request they are included.\n",
    "\n",
    "Analysis of fixed points is an important technique for understanding *dynamical systems* such as our model. But while exploring a model interactively by changing its parameters and seeing how it behaves can help develop intuition, really we need a more systematic approach. Fortunately we can do this via *bifurcation plots*, using the `bifurcation` command...\n",
    "\n",
    "`bifurcation` takes two arguments, the first is the parameter we want to vary systematically, the second is the state we want to observe."
   ]
  },
  {
   "cell_type": "code",
   "execution_count": null,
   "metadata": {},
   "outputs": [],
   "source": [
    "bifurcation1 = model4.bifurcation('s','A-B')"
   ]
  },
  {
   "cell_type": "markdown",
   "metadata": {},
   "source": [
    "Our new bifurcation plot lets us see what happens to fixed points in the system as we vary a control parameter, in this case the cross-inhibitory stop-signalling rate between bees, $s$. We have also chosen not to observe a single reactant as our state variable, but rather the difference between two of them; this makes sense because in decision-making we care about the difference in votes for options\n",
    "\n",
    "Our plot shows the location of fixed points, and they are either depicted as *stable* (solid line) or *unstable* (dashed line). Where the stability of fixed points changes, or fixed points appear of dissappear, these are referred to as *bifurcation points*. Using the interactive `bifurcation` plot above see if you can reproduce the bifurcation diagrams shown in figure 5(i) and 5(ii) of [Pais et al. (2013)](http://journals.plos.org/plosone/article?id=10.1371/journal.pone.0073216)\n",
    "\n",
    "Figure 5(iii) of [Pais et al. (2013)](http://journals.plos.org/plosone/article?id=10.1371/journal.pone.0073216) requires us to specify a different bifurcation parameter..."
   ]
  },
  {
   "cell_type": "code",
   "execution_count": null,
   "metadata": {},
   "outputs": [],
   "source": [
    "bifurcation2 = model4.bifurcation('\\\\Delta','A-B')"
   ]
  },
  {
   "cell_type": "markdown",
   "metadata": {},
   "source": [
    "### The effects of finite system size\n",
    "\n",
    "The ODE models we have been looking at based on our model are very useful, but they represent an idealised scenario; they describe the behaviour of a system with infinitely many components or, to put it another way, the expected behaviour of the system, minus any noise.\n",
    "\n",
    "Noise is very important in collective behavour systems, however, and can have a variety of causes. The first cause we will consider is noisy fluctuations from the infinite population ideal, caused by having a finite, much smaller, population. To begin analysing the noise in our system, dependent on its size, we can deploy two main techniques; stochastic simulation, and statistical physics analysis.\n",
    "\n",
    "We will return to stochastic simulation later, concentrating first on statistical physics analysis. As you might imagine, the maths involved in a statistic physics analysis is very advanced, based on deriving and then analysing the *Master Equation*; fortunately MuMoT automates this analysis for you.\n",
    "\n",
    "Brace yourself, this might look intimidating..."
   ]
  },
  {
   "cell_type": "code",
   "execution_count": null,
   "metadata": {
    "scrolled": true
   },
   "outputs": [],
   "source": [
    "model1.showMasterEquation()"
   ]
  },
  {
   "cell_type": "markdown",
   "metadata": {},
   "source": [
    "You really don't need to understand the equation above, but it's nice to know that MuMoT generated it for you, isn't it? The Master Equation describes the probabilities of different transitions between system states. We are particularly interested in it because we can use it to derive the infinite population behaviour of the system (the ODEs we already saw), but also the noise around that. This is done by applying a technique called the *van Kampen expansion* [van Kampen, 2007)](#references), to approximate the *Focker-Planck equation*. In the *Advanced users* section at the end of this manual you'll be able to look at these equations, if you dare, to convince yourself that MuMoT is doing some clever stuff for you\n",
    "\n",
    "But what is this clever stuff useful for? Well, for one thing, it lets us see approximately what the effects of noise, caused by finite system size, are in terms of deviations from the fixed points of the system..."
   ]
  },
  {
   "cell_type": "code",
   "execution_count": null,
   "metadata": {},
   "outputs": [],
   "source": [
    "stream2 = model4.stream('A','B', showFixedPoints = True, showNoise = True)"
   ]
  },
  {
   "cell_type": "markdown",
   "metadata": {},
   "source": [
    "This new `stream` plot now lets us see how the system's expected state gets 'spread out' around the fixed points. Slide the system size slider to see how the extent of the spread depends on the number of components in the system; slide the other sliders to see how the shape of the noise changes, in a way we might not have guessed, as the parameters change.\n",
    "\n",
    "The effects of noise in the `stream` plot above are based on <s>mathematical approximations</s> the computational approximations of the Master Equation. When the system has less one or two reactant the noise effects can be mathematically approximated from the Master Equation. The computational approximation is achieved through the efficient and accurate *Stochastic Simulation Algorithm* (SSA) (or *Doob-Gillespie algorithm*) [(Gillespie, 1976)](#references). Alternatively, MuMot gives access to the SSA simulator to simply visualise the behaviour of the system over time.\n",
    "\n",
    "To run the SSA simulations on your model, you can use the command `SSA()`. This command allow you to run a single simulation run, you can specify several advanced parameters from the _\"Advanced options\"_ tab, as described in the [Command reference](#comreference) section.\n",
    "Try modifying the parameters and see how they change your results."
   ]
  },
  {
   "cell_type": "code",
   "execution_count": null,
   "metadata": {},
   "outputs": [],
   "source": [
    "ssa = model4.SSA(initWidgets={'initialState': {'U': [1,0,1,0.05], 'B': [0,0,1,0.05], 'A': [0,0,1,0.05]},\n",
    "                              'systemSize':[50,5,100,1] })"
   ]
  },
  {
   "cell_type": "markdown",
   "metadata": {},
   "source": [
    "### Spatial noise"
   ]
  },
  {
   "cell_type": "markdown",
   "metadata": {},
   "source": [
    "MuMoT also enables more sophisticated stochastic simulations of your model. The `multiagent` command allows you to run simulations either with static agents interacting over a static communication network, or mobile agents communicating to neighbours within a local range of communication.\n",
    "\n",
    "Each agent represents a reactant, and exchanges messages to interact with other agents and change its internal state  (described as a *probabilistic finite state machine*). The conversion of transition rates into the probabilities is done following the methodology proposed in Reinal et al. ([2005](#references)).\n",
    "\n",
    "The multiagent simulations have several _Advanced options_, as described in the [Command reference](#comreference) section. Try modifying the parameters to see how they change your results."
   ]
  },
  {
   "cell_type": "code",
   "execution_count": null,
   "metadata": {},
   "outputs": [],
   "source": [
    "ssa = model4.multiagent(initWidgets={'initialState': {'U': [1,0,1,0.05], 'B': [0,0,1,0.05], 'A': [0,0,1,0.05]},\n",
    "                              'systemSize':[20,5,100,1], 'visualisationType':'graph' })"
   ]
  },
  {
   "cell_type": "markdown",
   "metadata": {},
   "source": [
    "### Going to a higher dimension\n",
    "Our first model ended up being 2-dimensional, after we realised that there were a constant number of components in the system. However MuMoT can work with higher-dimensional models (although not all features are supported for them; see [Supported features](#features))."
   ]
  },
  {
   "cell_type": "markdown",
   "metadata": {},
   "source": [
    "### Non-constant system size\n",
    "Not all models are of the kind studied above, in which there are a constant number of components. In open systems components can be created and destroyed, so the total size of the system can fluctuate over time, and in principle has no limits.\n",
    "\n",
    "A classic model from both ecology and chemistry is the *Lotka-Volterra* model; ecologists often think of this as representing two interacting populations, one of predators, and one of prey. Individuals are born and die in both populations. MuMoT enables this both via the `\\emptyset` notation $\\emptyset$, in which components spontaneously arise from nothing, or are destroyed, and via steady-state reactant populations, denoted with `()`, which do not change over time but simply persist at a constant size.\n",
    "\n",
    "Our Lotka-Volterra example is taken from Murray ([2002](#references), p124). Individuals are born into the prey population $X$ at a rate that depends on that population size, then predatory interactions decrease the prey population size and increase the predator population size. Finally, predators experience background mortality."
   ]
  },
  {
   "cell_type": "code",
   "execution_count": null,
   "metadata": {},
   "outputs": [],
   "source": [
    "%%model\n",
    "$\n",
    "(A) + X -> X + X : \\alpha\n",
    "X + Y -> Y + Y : \\beta\n",
    "Y -> \\emptyset : \\gamma\n",
    "$"
   ]
  },
  {
   "cell_type": "code",
   "execution_count": null,
   "metadata": {},
   "outputs": [],
   "source": [
    "model5 = mmt.parseModel(In[23])\n",
    "model5.show()"
   ]
  },
  {
   "cell_type": "code",
   "execution_count": null,
   "metadata": {},
   "outputs": [],
   "source": [
    "model5.showODEs()"
   ]
  },
  {
   "cell_type": "markdown",
   "metadata": {},
   "source": [
    "Note that there is no equation for $A$; since it is specified to be at a constant concentration, there is no equation for $A$'s change over time. This means that when we try and interact with the model, we will need to specify the constant value that $A$ should take.\n",
    "\n",
    "Also, since the system size is now no longer constant, as discussed above, it is now useful to be able to change the limits on the plot, to ensure that all the interesting behaviour of the system is visible..."
   ]
  },
  {
   "cell_type": "code",
   "execution_count": null,
   "metadata": {},
   "outputs": [],
   "source": [
    "stream2 = model5.stream('X','Y', showFixedPoints = False)"
   ]
  },
  {
   "cell_type": "markdown",
   "metadata": {},
   "source": [
    "### Bookmarking\n",
    "<a id='bookmarking'></a>\n",
    "\n",
    "If you find an interesting parameter set and want to preserve it, you can store those parameter values in a form that lets you reproduce your analysis. Simply click on the bookmark button underneath the sliders; you should see a message that a bookmark has been pasted to the logs, and instructions how to view it. Let's follow these instructions from our latest plot... click the bookmark button, then run the following command:"
   ]
  },
  {
   "cell_type": "code",
   "execution_count": null,
   "metadata": {},
   "outputs": [],
   "source": [
    "stream2.showLogs(tail = True)"
   ]
  },
  {
   "cell_type": "markdown",
   "metadata": {},
   "source": [
    "Now we need simply copy the last line of the log file, paste into a new cell, and replace `<modelName>` with the model we are working with, in this case `model5`; this is easily done by clicking in the cell then using *Find and Replace* from the *Edit* menu. We will also give our new bookmarked view a unique name, so we can refer to it if we need to in the future..."
   ]
  },
  {
   "cell_type": "code",
   "execution_count": null,
   "metadata": {
    "scrolled": false
   },
   "outputs": [],
   "source": [
    "bookmark1 = model5.stream('X', 'Y', params = [('\\\\beta', 0.8), ('\\\\alpha', 0.5), ('A', 0.5), ('\\\\gamma', 0.5), ('plotLimits', 3.5), ('systemSize', 1)], showFixedPoints = False, bookmark = False)"
   ]
  },
  {
   "cell_type": "markdown",
   "metadata": {},
   "source": [
    "### Command reference\n",
    "<a id='comreference'></a>\n",
    "\n",
    "#### Supported features\n",
    "<a id='features'></a>\n",
    "##### Graphical output\n",
    "<a id='graphout'></a>\n",
    "<table>\n",
    "  <tr>\n",
    "    <th>Command</th>\n",
    "    <th>1d-system</th> \n",
    "    <th>2d-system</th> \n",
    "    <th>3d-system</th>\n",
    "    <th>empty-set</th>\n",
    "    <th>constant reactants</th>\n",
    "  </tr>\n",
    "  <tr>\n",
    "    <td><code>stream</code></td>\n",
    "    <td>&#10005;</td> \n",
    "    <td>&#10003;</td> \n",
    "    <td>&#10005;</td>\n",
    "    <td>&#10003;</td>\n",
    "    <td>&#10003;</td>\n",
    "  </tr>\n",
    "  <tr>\n",
    "    <td><code>vector</code></td>\n",
    "    <td>&#10005;</td> \n",
    "    <td>&#10003;</td> \n",
    "    <td>&#10003;</td>\n",
    "    <td>&#10003;</td>\n",
    "    <td>&#10003;</td>\n",
    "  </tr>\n",
    "  <tr>\n",
    "    <td><code>SSA</code></td>\n",
    "    <td>&#10003;</td> \n",
    "    <td>&#10003;</td> \n",
    "    <td>&#10003;</td>\n",
    "    <td>&#10003;</td>\n",
    "    <td>&#10003;</td>\n",
    "  </tr>\n",
    "  <tr>\n",
    "    <td><code>multiagent</code><br>(static network)<br>(moving particles)</td>\n",
    "    <td><br>&#10003;<br>&#10003;</td> \n",
    "    <td><br>&#10003;<br>&#10003;</td> \n",
    "    <td><br>&#10003;<br>&#10003;</td>\n",
    "    <td><br>&#10005;<br>&#10003;</td>\n",
    "    <td><br>&#10005;<br>&#10003;</td>\n",
    "  </tr>\n",
    "  <tr>\n",
    "      <td><code>stream</code><br>(analytical noise)<br>(computational noise)</td>\n",
    "    <td><br>&#10003;<br>&#10005;</td> \n",
    "    <td><br>&#10005;<br>&#10003;</td> \n",
    "    <td><br>&#10005;<br>&#10003;</td>\n",
    "    <td><br>&#10005;<br>&#10003;</td>\n",
    "    <td><br>&#10005;<br>&#10003;</td>\n",
    "  </tr>\n",
    "  <tr>\n",
    "    <td><code>bifurcation</code></td>\n",
    "    <td>&#10003;</td> \n",
    "    <td>&#10003;</td> \n",
    "    <td>&#10005;</td>\n",
    "    <td>&#10003;</td>\n",
    "    <td>&#10003;</td>\n",
    "  </tr>\n",
    "  <tr>\n",
    "    <td><code>integrate</code></td>\n",
    "    <td>&#10003;</td> \n",
    "    <td>&#10003;</td> \n",
    "    <td>&#10003;</td>\n",
    "    <td>&#10003;</td>\n",
    "    <td>&#10003;</td>\n",
    "  </tr>\n",
    "   <tr>\n",
    "    <td><code>noiseCorrelations</code></td>\n",
    "    <td>&#10003;</td> \n",
    "    <td>&#10003;</td> \n",
    "    <td>&#10003;</td>\n",
    "    <td>&#10003;</td>\n",
    "    <td>&#10003;</td>\n",
    "  </tr>\n",
    "</table>\n",
    "\n",
    "##### Display of mathematical formulas\n",
    "<a id='mathout'></a>\n",
    "<table>\n",
    "  <tr>\n",
    "    <th>Command</th>\n",
    "    <th>1d-system</th> \n",
    "    <th>2d-system</th> \n",
    "    <th>3d-system</th>\n",
    "    <th>4d-system</th> \n",
    "    <th>empty-set</th>\n",
    "    <th>constant reactants</th>\n",
    "  </tr>\n",
    "  <tr>\n",
    "    <td><code>showODEs</code></td>\n",
    "    <td>&#10003;</td> \n",
    "    <td>&#10003;</td> \n",
    "    <td>&#10003;</td>\n",
    "    <td>&#10003;</td>\n",
    "    <td>&#10003;</td>\n",
    "    <td>&#10003;</td>\n",
    "  </tr>\n",
    "  <tr>\n",
    "    <td><code>showODEs_vKE</code></td>\n",
    "    <td>&#10003;</td> \n",
    "    <td>&#10003;</td> \n",
    "    <td>&#10003;</td>\n",
    "    <td>&#10003;</td>\n",
    "    <td>&#10003;</td>\n",
    "    <td>&#10003;</td>\n",
    "  </tr>\n",
    "  <tr>\n",
    "    <td><code>showMasterEquation</code></td>\n",
    "    <td>&#10003;</td> \n",
    "    <td>&#10003;</td> \n",
    "    <td>&#10003;</td>\n",
    "    <td>&#10003;</td>\n",
    "    <td>&#10003;</td>\n",
    "    <td>&#10003;</td>\n",
    "  </tr>\n",
    "  <tr>\n",
    "    <td><code>showVanKampenExpansion</code></td>\n",
    "    <td>&#10003;</td> \n",
    "    <td>&#10003;</td> \n",
    "    <td>&#10003;</td>\n",
    "    <td>&#10003;</td>\n",
    "    <td>&#10003;</td>\n",
    "    <td>&#10003;</td>\n",
    "  </tr>\n",
    "  <tr>\n",
    "    <td><code>showFokkerPlanckEquation</code></td>\n",
    "    <td>&#10003;</td> \n",
    "    <td>&#10003;</td> \n",
    "    <td>&#10003;</td>\n",
    "    <td>&#10003;</td>\n",
    "    <td>&#10003;</td>\n",
    "    <td>&#10003;</td>\n",
    "  </tr>\n",
    "  <tr>\n",
    "    <td><code>showNoiseEOM</code></td>\n",
    "    <td>&#10003;</td> \n",
    "    <td>&#10003;</td> \n",
    "    <td>&#10003;</td>\n",
    "    <td>&#10003;</td>\n",
    "    <td>&#10003;</td>\n",
    "    <td>&#10003;</td>\n",
    "  </tr>\n",
    "  <tr>\n",
    "    <td><code>showNoiseStationarySol</code></td>\n",
    "    <td>&#10003;</td> \n",
    "    <td>&#10003;</td> \n",
    "    <td>&#10003;</td>\n",
    "    <td>&#10003;</td>\n",
    "    <td>&#10003;</td>\n",
    "    <td>&#10003;</td>\n",
    "  </tr>\n",
    "</table>\n",
    "\n",
    "##### Model properties\n",
    "<a id='modelprop'></a>\n",
    "<table>\n",
    "  <tr>\n",
    "    <th>Command</th>\n",
    "    <th>1d-system</th> \n",
    "    <th>2d-system</th> \n",
    "    <th>3d-system</th>\n",
    "    <th>4d-system</th> \n",
    "    <th>empty-set</th>\n",
    "    <th>constant reactants</th>\n",
    "  </tr>\n",
    "  <tr>\n",
    "    <td><code>show</code></td>\n",
    "    <td>&#10003;</td> \n",
    "    <td>&#10003;</td> \n",
    "    <td>&#10003;</td>\n",
    "    <td>&#10003;</td>\n",
    "    <td>&#10003;</td>\n",
    "    <td>&#10003;</td>\n",
    "  </tr>\n",
    "  <tr>\n",
    "    <td><code>showRates</code></td>\n",
    "    <td>&#10003;</td> \n",
    "    <td>&#10003;</td> \n",
    "    <td>&#10003;</td>\n",
    "    <td>&#10003;</td>\n",
    "    <td>&#10003;</td>\n",
    "    <td>&#10003;</td>\n",
    "  </tr>\n",
    "  <tr>\n",
    "    <td><code>showReactants</code></td>\n",
    "    <td>&#10003;</td> \n",
    "    <td>&#10003;</td> \n",
    "    <td>&#10003;</td>\n",
    "    <td>&#10003;</td>\n",
    "    <td>&#10003;</td>\n",
    "    <td>&#10003;</td>\n",
    "  </tr>\n",
    "  <tr>\n",
    "    <td><code>showConstantReactants</code></td>\n",
    "    <td>&#10003;</td> \n",
    "    <td>&#10003;</td> \n",
    "    <td>&#10003;</td>\n",
    "    <td>&#10003;</td>\n",
    "    <td>&#10003;</td>\n",
    "    <td>&#10003;</td>\n",
    "  </tr>\n",
    "  <tr>\n",
    "    <td><code>showStoichiometry</code></td>\n",
    "    <td>&#10003;</td> \n",
    "    <td>&#10003;</td> \n",
    "    <td>&#10003;</td>\n",
    "    <td>&#10003;</td>\n",
    "    <td>&#10003;</td>\n",
    "    <td>&#10003;</td>\n",
    "  </tr>\n",
    "  <tr>\n",
    "    <td><code>visualise</code></td>\n",
    "    <td>&#10003;</td> \n",
    "    <td>&#10003;</td> \n",
    "    <td>&#10003;</td>\n",
    "    <td>&#10003;</td>\n",
    "    <td>&#10003;</td>\n",
    "    <td>&#10003;</td>\n",
    "  </tr>\n",
    "</table>"
   ]
  },
  {
   "cell_type": "markdown",
   "metadata": {},
   "source": [
    "#### Getting help\n",
    "You can get help on commands by using the `help()` command. To get basic information on MuMoT, for example, type"
   ]
  },
  {
   "cell_type": "code",
   "execution_count": null,
   "metadata": {},
   "outputs": [],
   "source": [
    "help(mmt)"
   ]
  },
  {
   "cell_type": "markdown",
   "metadata": {},
   "source": [
    "To get help on a specific command, such as the `stream` command, available for a model, type"
   ]
  },
  {
   "cell_type": "code",
   "execution_count": null,
   "metadata": {},
   "outputs": [],
   "source": [
    "help(model1.stream)"
   ]
  },
  {
   "cell_type": "markdown",
   "metadata": {},
   "source": [
    "Optional arguments are given with the default value they will have if not supplied\n",
    "\n",
    "Optional keywords may also be given; again the default value they will have if not supplied is given\n",
    "\n",
    "All controller-generating commands have the optional argument `params`, which contains a list of fixed parameter values (see [Partial controllers](#partialcont))\n",
    "\n",
    "In addition, all plotting functions accept a number of formatting keywords, as follows:\n",
    "\n",
    "* TODO"
   ]
  },
  {
   "cell_type": "markdown",
   "metadata": {},
   "source": [
    "#### Advanced options for `SSA`\n",
    "\n",
    "* proportion of each reactant at timestep zero. Remember that the sum of all (non-constant) reactants must be 1.0\n",
    "* simulation time is the length of each simulation run\n",
    "* random seed which is a number to control (and repeat) random stochastic effects. Any run that uses the same random seed will have tha same identical random fluctuations\n",
    "* flag to plot proportions (i.e. reactants are in closed interval [0,1]) or full populations (i.e. reactants are in closed interval [0,systemSize])\n",
    "* flag to plot results in realtime. If True, the plot is updated each timestep of the simulation; if False, the plot is updated once at the end of the simulation\n",
    "* number of simulation runs to be executed\n",
    "* flag to aggregate or not the results from several runs\n",
    "* type of visualisation::\n",
    "  * Temporal evolution with y-axis showing the population size of each reactant varying as a function of the time on the x-axis. When aggregated, the results are visualised as boxplots. \n",
    "  * Final distribution of the population among the reactants. In this visualisation, the use can specify the reactants on x and y axes.  When aggregated, the results are visualised as an ellipse estimated as the covariance matrix\n",
    "  * Barplot showing the final distribution. When aggregated, the barplots show the average and the error bars show the standard deviation; otherwise the results of the last simulation run are displayed\n",
    "\n",
    "(Note that modifying the widgets: type of visualisation, flag to plot proportions, and flag to aggregate does not trigger the computation of new data. All other widgets do.)"
   ]
  },
  {
   "cell_type": "markdown",
   "metadata": {},
   "source": [
    "#### Advanced options for `multiagent`\n",
    "`multiagent` views have all the options described above for the `SSA` simulations and, in addition:\n",
    "* type of network. Available types are:\n",
    "  * Full graph; a complete network in which every agent communicates with every agent\n",
    "  * Random network with Erdos-Renyi topology. The widgets allow to specify:\n",
    "    * the linking probability with which each agent has a communication edge with another agent\n",
    "  * Random network with Barabasi-Albert topology. The widgets allow to specify:\n",
    "    * the number of edges every new node (during creation) is linked to\n",
    "  * Simulation of moving particles in which agent move in a periodic space and interact locally. The widgets allow to specify:\n",
    "    * range of interaction of the agent\n",
    "    * motion correlatedness of the agent. Correlatedness = 1 correponds to straight movement, Correlatedness = 0 corresponds to uncorrelated random walk.\n",
    "    * speed of the agent, i.e. displacement in one timestep\n",
    "    * flag to show the motion trajectory of the agents\n",
    "    * flag to show interactions; agents within communication range are liked through a line\n",
    "* length of one timestep; the maximum timestep is determined by the rates\n",
    "\n",
    "(Note that in addition to the one specified for the `SSA` simulations, here the widgets to show motion trajectory and to show interactions do not trigger the recomputation of the simulations).\n",
    "Static networks are available only for models that do not contain the empty-set or constant reactant, whereas moving particles have no constraints; see [*Supported features*](#features)."
   ]
  },
  {
   "cell_type": "markdown",
   "metadata": {},
   "source": [
    "#### Advanced options for `bifurcation`\n",
    "* Initial &#60;&#60;name of bifurcation parameter&#62;&#62;:\n",
    "  * Here you can choose the starting value of the bifurcation parameter. MuMoT tries to determine all stationary states and starts numerical continuation (using PyDSTool) from all stable fixed points found.\n",
    "* Reactant &#60;&#60;name of reactant&#62;&#62; at t=0:\n",
    "  * This will only have an effect if no stationary solutions could be detected. Then these initial conditions will be passed on to PyDSTool for the numerical continuation.\n",
    "* Note: Currently only 1D and 2D ODE systems are supported in `bifurcation` and only Branch Points (BP) and Limit Points (LP) can be detected in 1-parameter bifurcations (or more adequately termed codimension one bifurcations)."
   ]
  },
  {
   "cell_type": "markdown",
   "metadata": {},
   "source": [
    "#### Advanced options for `integrate` and `noiseCorrelations`\n",
    "* Reactant &#60;&#60;name of reactant&#62;&#62; at t=0:\n",
    "  * Determine the initial conditions for all reactants in the systems. Note that if `conserved = True` occurs as a keyword argument in `integrate` and `noiseCorrelations` then initial conditions cannot be set independently. \n",
    "* Simulation time: \n",
    "  * Determines the length of the simulation.\n",
    "* Plot proportions (only in `integrate`): \n",
    "  * Choose if absolute numbers or proportions are displayed (check box). Proportions are denoted $\\Phi$ with the reactant as index. If true, the absolute number is divided by the total number of reactants (system size) at t=0. If the system is conserved, the sum of all concentrations sum up to 1 for all t."
   ]
  },
  {
   "cell_type": "markdown",
   "metadata": {},
   "source": [
    "### Advanced users"
   ]
  },
  {
   "cell_type": "markdown",
   "metadata": {},
   "source": [
    "#### Partial controllers\n",
    "<a id='partialcont'></a>\n",
    "If you are creating a notebook to demonstrate a concept, it may be easiest to fix some of the parameters to ensure that the user can only vary the parameters you want them to. Partial controllers can be created by passing the standard commands a list `params` of parameter name, parameter value pairs. For example..."
   ]
  },
  {
   "cell_type": "code",
   "execution_count": null,
   "metadata": {},
   "outputs": [],
   "source": [
    "partial1 = model4.stream('A','B', params = [('\\\\mu',1),('s',1)], showFixedPoints = False)"
   ]
  },
  {
   "cell_type": "markdown",
   "metadata": {},
   "source": [
    "#### Viewing the Master and Fokker-Planck equations, and calculating & displaying noise\n",
    "\n",
    "Just to make sure you really want to look at these, and because the size of the equations can slow down your browser, some of the following commands are commented. Uncomment then run if you want to see the gory details..."
   ]
  },
  {
   "cell_type": "markdown",
   "metadata": {},
   "source": [
    "To show this functionality we make use of a model describing the production and decay of protein $P$ and its dimerization into $P_2$ (more conveniently called $X$ and $Y$ below), see Hayot & Jayaprakash ([2004](#references)) for details. This model is defined as:"
   ]
  },
  {
   "cell_type": "code",
   "execution_count": null,
   "metadata": {},
   "outputs": [],
   "source": [
    "%%model\n",
    "$\n",
    "\\emptyset -> X : k_3\n",
    "X -> \\emptyset : k\n",
    "X + X -> Y + \\emptyset : k_1\n",
    "Y + \\emptyset -> X + X : k_2\n",
    "$"
   ]
  },
  {
   "cell_type": "markdown",
   "metadata": {},
   "source": [
    "As you already know it from the examples above, let's parse the model ..."
   ]
  },
  {
   "cell_type": "code",
   "execution_count": null,
   "metadata": {},
   "outputs": [],
   "source": [
    "model6 = mmt.parseModel(In[32])"
   ]
  },
  {
   "cell_type": "markdown",
   "metadata": {},
   "source": [
    "Now that MuMoT knows the model, we can continue deriving the <b>chemical Master equation</b>. \n",
    "\n",
    "Master equations describe the time evolution of a system that, in general, can be in one of many different possible states at a given point in time with a certain probability. Over time, the system makes transitions so that the overall state changes continuously. Transitions are governed by transition probabilities that are usually summarised in a transition matrix. The Master equation is a set of first-order differential equations that describe the evolution of the state dependent probabilities driven by the transition matrix.\n",
    "\n",
    "The <b>chemical Master equation</b> ([van Kampen, 2007](#references)) is a master equation for the probabilities that the system has any given composition of rectants as a function of time. In MuMoT this equation can be derived using:"
   ]
  },
  {
   "cell_type": "code",
   "execution_count": null,
   "metadata": {},
   "outputs": [],
   "source": [
    "model6.showMasterEquation()"
   ]
  },
  {
   "cell_type": "markdown",
   "metadata": {},
   "source": [
    "Here, P(X,Y,t) describes the probability to observe the systems's composition of reactants X and Y at time t. In MuMoT, the system size that, at this point, is not specified and which is used as formal parameter for the system size expansion described below is denoted $\\overline{V}$. Please pay attention to this notation when defining your model using the letter $V$ (but don't worry, MuMoT will not confuse both variables).\n",
    "\n",
    "Here we used step operators $E_{op}$ to express the chemical Master equation in a compact form. Note that we have implemented the derivation of the Master equation as it was originally done in [van Kampen (2007)](#references).\n",
    "\n",
    "Unfortunately, there is only a limited number of simple cases that allow to solve the Master equation exactly. Hence, analytical approximations may help, such as the system size expansion (also called van Kampen expansion), which is automatised in MuMoT using `showVanKampenExpansion`. \n",
    "\n",
    "The idea of this method is to expand the Master equation in powers of a small parameter, which is\n",
    "<br>\n",
    "$$\\sim \\frac{1}{\\sqrt{system\\, size}} \\,.$$\n",
    "<br>\n",
    "\n",
    "Let's do the expansion with MuMoT and display it for the current model ($\\overline{V}$ = system size):"
   ]
  },
  {
   "cell_type": "code",
   "execution_count": null,
   "metadata": {
    "scrolled": true
   },
   "outputs": [],
   "source": [
    "#model6.showVanKampenExpansion()"
   ]
  },
  {
   "cell_type": "markdown",
   "metadata": {},
   "source": [
    "This equation describes an expansion in the parameter $\\overline{V}$, which represents the system size. We repeat that at this point this is not specified. However, often $\\overline{V}$ is a volume or the total number of particles in a real system. For more information on the system size expansion we refer to [van Kampen (2007)](#references).\n",
    "\n",
    "Collecting all terms $\\propto \\sqrt{\\overline{V}}$ gives the ODEs, which can be displayed using:"
   ]
  },
  {
   "cell_type": "code",
   "execution_count": null,
   "metadata": {},
   "outputs": [],
   "source": [
    "model6.showODEs_vKE()"
   ]
  },
  {
   "cell_type": "markdown",
   "metadata": {},
   "source": [
    "Here, we have introduced $\\Phi_{X,Y}$, which describe the concentrations of $X$ and $Y$ in the mixture (i.e. $\\Phi_{X}=X/\\overline{V}$, for example). We note that the time-dependent quantities in the ODEs correspond to concentrations when derived via van Kampen expansion.\n",
    "\n",
    "Next, if we collect all terms $\\propto \\overline{V}$ we obtain the Fokker-Planck equation in the linear noise approximation:"
   ]
  },
  {
   "cell_type": "code",
   "execution_count": null,
   "metadata": {},
   "outputs": [],
   "source": [
    "model6.showFokkerPlanckEquation()"
   ]
  },
  {
   "cell_type": "markdown",
   "metadata": {},
   "source": [
    "This equation describes the probability of fluctuations $\\eta_{X,Y}$ at time t. In MuMoT, fluctuations are automatically denoted $\\eta$ with the index denoting the reactant. These quantities describe the fluctuations around the mean field value of the concentrations $\\Phi_{X,Y}$. \n",
    "\n",
    "Having this equation allows us derive the equations of motion for the fluctuations. This can be done using:"
   ]
  },
  {
   "cell_type": "code",
   "execution_count": null,
   "metadata": {},
   "outputs": [],
   "source": [
    "model6.showNoiseEOM()"
   ]
  },
  {
   "cell_type": "markdown",
   "metadata": {},
   "source": [
    "Here, we have first-order moments, $\\langle \\eta_{X}\\rangle$ and $\\langle \\eta_{Y}\\rangle$, and second-order moments, $\\langle \\eta_{R_1}\\eta_{R_2}\\rangle$, where $R_{1,2}=X,Y$.\n",
    "\n",
    "We can analytically derive the stationary solutions of these equations and display them using:"
   ]
  },
  {
   "cell_type": "code",
   "execution_count": null,
   "metadata": {},
   "outputs": [],
   "source": [
    "model6.showNoiseStationarySol()"
   ]
  },
  {
   "cell_type": "markdown",
   "metadata": {},
   "source": [
    "Another possibility to study noise in the system is by calculating the time-dependent noise-noise correlations according to:"
   ]
  },
  {
   "cell_type": "code",
   "execution_count": null,
   "metadata": {},
   "outputs": [],
   "source": [
    "nc1 = model6.noiseCorrelations(initWidgets={'maxTime':[20,5,50,1]})"
   ]
  },
  {
   "cell_type": "markdown",
   "metadata": {},
   "source": [
    "These correlation functions relate to fluctuations around a fixed point. To see the corresponding fixed point we can simply show the logs:"
   ]
  },
  {
   "cell_type": "code",
   "execution_count": null,
   "metadata": {},
   "outputs": [],
   "source": [
    "nc1.showLogs()"
   ]
  },
  {
   "cell_type": "markdown",
   "metadata": {},
   "source": [
    "Please keep this stationary state of the system in mind for a little moment.\n",
    "\n",
    "In MuMoT, we can also numerically integrate our dynamical system (here model6). To do this, we use the `integrate` method as follows: "
   ]
  },
  {
   "cell_type": "code",
   "execution_count": null,
   "metadata": {},
   "outputs": [],
   "source": [
    "int1 = model6.integrate(initWidgets={'maxTime':[30,5,50,1]})"
   ]
  },
  {
   "cell_type": "markdown",
   "metadata": {},
   "source": [
    "Now click on the *Advanced options* tab above the figure and tick the *Plot population proportions* tab. We then display the last point on the curve by showing the logs with the following command:"
   ]
  },
  {
   "cell_type": "code",
   "execution_count": null,
   "metadata": {},
   "outputs": [],
   "source": [
    "int1.showLogs()"
   ]
  },
  {
   "cell_type": "markdown",
   "metadata": {},
   "source": [
    "Here, you can see the last point on the curve before selecting to plot proportions and after choosing this option. Remember, the proportions are calculated by dividing the total numbers by the system size at t=0 (which, if you haven't changed anything, should equal 10 in the plot above -- see the *System size* slider above the figure). \n",
    "\n",
    "Please note that the values on the sliders are the same as in the plot of the noise-noise correlations above. If you could memorise the fixed point around which the correlation functions were plotted (if not, it was ($\\Phi_X=1$, $\\Phi_Y=1$)) and compare this with the last point on the curve above (see `int1.showLogs` above), we can safely say that both are in agreement. So, it works! The noise-noise correlations have been plotted around the stationary state of the dynamical system. Using `integrate` we obtained a graphical confirmation of this.\n",
    "\n",
    "Finally, we would like to mention that `integrate` can be used as soon as the model has been defined and parsed. It is also useful independent of studying noise in the system."
   ]
  },
  {
   "cell_type": "markdown",
   "metadata": {},
   "source": [
    "### References\n",
    "<a id='references'></a>\n",
    "* Gillespie, D. T. (1976). A general method for numerically simulating the stochastic time evolution of coupled chemical reactions. *Journal of Computational Physics* **22** (4): 403–434\n",
    "* Hayot, F. & C. Jayaprakash (2004) \n",
    "[The linear noise approximation for molecular fluctuations within cells](http://iopscience.iop.org/article/10.1088/1478-3967/1/4/002/pdf). *Physical Biology* **1**, 205-210\n",
    "* Murray, J. D. (2002) *Mathematical Biology I. An Introduction (Second Edition)*. Springer\n",
    "* Pais, D., Hogan, P.M., Schlegel, T., Franks, N.R., Leonard, N.E. & Marshall, J.A.R. (2013) [A mechanism for value-sensitive decision-making](http://journals.plos.org/plosone/article?id=10.1371/journal.pone.0073216).  *PLoS one* **8**(9), e73216\n",
    "* Reina A., Valentini G., Fernández-Oto A., Dorigo M. & Trianni V. (2015) [A design pattern for decentralised decision making](http://journals.plos.org/plosone/article?id=10.1371/journal.pone.0140950).  *PLoS one* **10**(10), e0140950\n",
    "* Seeley, T.D, Visscher, P.K. Schlegel, T., Hogan, P.M., Franks, N.R. & Marshall, J.A.R. (2012) [Stop signals provide cross inhibition in collective decision-making by honeybee swarms](http://www.sciencemag.org/content/335/6064/108.full.pdf). *Science* **335**, 108-111\n",
    "* van Kampen, N. (2007) *Stochastic Processes in Physics and Chemistry (Third Edition)*. North-Holland"
   ]
  }
 ],
 "metadata": {
  "kernelspec": {
   "display_name": "Python 3",
   "language": "python",
   "name": "python3"
  },
  "language_info": {
   "codemirror_mode": {
    "name": "ipython",
    "version": 3
   },
   "file_extension": ".py",
   "mimetype": "text/x-python",
   "name": "python",
   "nbconvert_exporter": "python",
   "pygments_lexer": "ipython3",
   "version": "3.5.4"
  },
  "toc": {
   "base_numbering": 1,
   "nav_menu": {},
   "number_sections": true,
   "sideBar": true,
   "skip_h1_title": false,
   "title_cell": "Table of Contents",
   "title_sidebar": "Contents",
   "toc_cell": false,
   "toc_position": {
    "height": "calc(100% - 180px)",
    "left": "10px",
    "top": "150px",
    "width": "209px"
   },
   "toc_section_display": true,
   "toc_window_display": true
  },
  "widgets": {
   "state": {
    "0f1da6289ccc47ec96c8c8b477f3e37e": {
     "views": [
      {
       "cell_index": 60
      }
     ]
    },
    "12dff49951bf4f4aa6afd2437d2733ea": {
     "views": [
      {
       "cell_index": 38
      }
     ]
    },
    "143c3aa5b3a94602abcb99f5d3682b42": {
     "views": [
      {
       "cell_index": 23
      }
     ]
    },
    "15f8da4f248e41fdbb86e469bbf0a423": {
     "views": [
      {
       "cell_index": 51
      }
     ]
    },
    "22efce659af24047800463f2c6d460ee": {
     "views": [
      {
       "cell_index": 23
      }
     ]
    },
    "2305e4265a234613af7ec1488c3a84a0": {
     "views": [
      {
       "cell_index": 51
      }
     ]
    },
    "25eaa6a79b394d96bf6b016a8f5789a0": {
     "views": [
      {
       "cell_index": 33
      }
     ]
    },
    "25f7cb6ad4594dbb9c3dfaeeeebd2baa": {
     "views": [
      {
       "cell_index": 33
      }
     ]
    },
    "2a889abb13a441a6b0b1bb07b06aae14": {
     "views": [
      {
       "cell_index": 60
      }
     ]
    },
    "2db99fe905e1430a9e0fc3f80e61824d": {
     "views": [
      {
       "cell_index": 33
      }
     ]
    },
    "31ffe852616040109a3b4f88a6815b8a": {
     "views": [
      {
       "cell_index": 36
      }
     ]
    },
    "3e3b2977642f48e99ceeef154551af71": {
     "views": [
      {
       "cell_index": 60
      }
     ]
    },
    "4ba771e07fdb44c49a07b94aafee0c1d": {
     "views": [
      {
       "cell_index": 38
      }
     ]
    },
    "4d722defa6f54a03956ef26e5bb24d75": {
     "views": [
      {
       "cell_index": 38
      }
     ]
    },
    "4e4fb5a6665b4e89acf172973b5f9b27": {
     "views": [
      {
       "cell_index": 23
      }
     ]
    },
    "50ab0a9b7d4d47d2bef8033efa6b6661": {
     "views": [
      {
       "cell_index": 38
      }
     ]
    },
    "53a25e884ed74eaab9813cb4e3413c2f": {
     "views": [
      {
       "cell_index": 38
      }
     ]
    },
    "56f18bd9baa1474fac1d692af347424f": {
     "views": [
      {
       "cell_index": 51
      }
     ]
    },
    "5f4fd39c4f5047db8441d0b30df86a38": {
     "views": [
      {
       "cell_index": 38
      }
     ]
    },
    "68117c20182148de957ae1a311729bc2": {
     "views": [
      {
       "cell_index": 23
      }
     ]
    },
    "6b9e63ee22924ae3b6731d530ba6b549": {
     "views": [
      {
       "cell_index": 36
      }
     ]
    },
    "7050fe3f432e4180b329a3c92ed09551": {
     "views": [
      {
       "cell_index": 51
      }
     ]
    },
    "7713dfc8cf164108b44b49d477f3e154": {
     "views": [
      {
       "cell_index": 51
      }
     ]
    },
    "79f7fdc5299e4b1bb75d32bb0e87d7a3": {
     "views": [
      {
       "cell_index": 23
      }
     ]
    },
    "7b957930c9924cb3b1cca132418e2f00": {
     "views": [
      {
       "cell_index": 51
      }
     ]
    },
    "8b82dea0b0744375b10edd290ea509d3": {
     "views": [
      {
       "cell_index": 36
      }
     ]
    },
    "8d07f6b41a444b49b12d7f8e5918ca6a": {
     "views": [
      {
       "cell_index": 23
      }
     ]
    },
    "8ef0ad62478b43129d8cd652add052c7": {
     "views": [
      {
       "cell_index": 23
      }
     ]
    },
    "9560997a50274839a7117e95b073afba": {
     "views": [
      {
       "cell_index": 36
      }
     ]
    },
    "96b329f0ab1d47338ac6d63da570c275": {
     "views": [
      {
       "cell_index": 36
      }
     ]
    },
    "9adb34f1a17041719156750646d42cfb": {
     "views": [
      {
       "cell_index": 51
      }
     ]
    },
    "9e7afa9d8d1b478a83a0955428961503": {
     "views": [
      {
       "cell_index": 23
      }
     ]
    },
    "a408184986ae423dbde56361209f036a": {
     "views": [
      {
       "cell_index": 33
      }
     ]
    },
    "a7ca5685289644b8aa449ce9377e6a5c": {
     "views": [
      {
       "cell_index": 23
      }
     ]
    },
    "a7dbac4a99a04c4e931b4cc6c9beda28": {
     "views": [
      {
       "cell_index": 51
      }
     ]
    },
    "a874f3c5de9548deab1f15d01e0a35aa": {
     "views": [
      {
       "cell_index": 60
      }
     ]
    },
    "ab5a6f55976e4b99847157fde376160d": {
     "views": [
      {
       "cell_index": 38
      }
     ]
    },
    "ad3aa76f7e874016acdd53204362e367": {
     "views": [
      {
       "cell_index": 51
      }
     ]
    },
    "b64577ba4bc14887b39249c7599693e2": {
     "views": [
      {
       "cell_index": 33
      }
     ]
    },
    "b6818d31691542d2b4fc017e2aad1400": {
     "views": [
      {
       "cell_index": 23
      }
     ]
    },
    "c6e9aa6f9e6b4bbf9e994e85216e6cbf": {
     "views": [
      {
       "cell_index": 33
      }
     ]
    },
    "caac276fb0844d3b939ae00b7ae0ab95": {
     "views": [
      {
       "cell_index": 23
      }
     ]
    },
    "d8aaa2637f8b4586b243e7d1e265614a": {
     "views": [
      {
       "cell_index": 51
      }
     ]
    },
    "e77472d2a0524ea0b75dcee2471685e4": {
     "views": [
      {
       "cell_index": 60
      }
     ]
    },
    "f2876ad0e37e4b748ff80f9cc3791542": {
     "views": [
      {
       "cell_index": 23
      }
     ]
    },
    "f73cd695eb284175a7c65821b942925c": {
     "views": [
      {
       "cell_index": 23
      }
     ]
    },
    "f8319629082441e98a925c1d162f75c5": {
     "views": [
      {
       "cell_index": 60
      }
     ]
    },
    "f8f9d7c2ae4d4262b564c5f434f7f2d0": {
     "views": [
      {
       "cell_index": 33
      }
     ]
    },
    "fd6fcf6218cc4d3bb180fbb1264c115d": {
     "views": [
      {
       "cell_index": 36
      }
     ]
    }
   },
   "version": "1.2.0"
  }
 },
 "nbformat": 4,
 "nbformat_minor": 2
}
