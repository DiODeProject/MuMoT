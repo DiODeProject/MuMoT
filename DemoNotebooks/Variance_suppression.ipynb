{
 "cells": [
  {
   "cell_type": "markdown",
   "metadata": {},
   "source": [
    "# MuMoT Demonstration Notebook: Variance-Suppression through Negative Feedback <a class=\"tocSkip\">\n",
    "\n",
    "## Multiscale Modelling Tool <a class=\"tocSkip\">\n",
    "\n",
    "*Andreagiovanni Reina, Department of Computer Science, University of Sheffield;\n",
    "James A. R. Marshall, Department of Computer Science, University of Sheffield*\n",
    "\n",
    "# Introduction\n",
    "    \n",
    "This notebook reproduces results representative of those presented in Reina &amp; Marshall ([2020](#references)), in which it is shown that negative feedback can acts as a mechanism to suppress stochastic fluctuations in a simple collective foraging model."
   ]
  },
  {
   "cell_type": "code",
   "execution_count": null,
   "metadata": {},
   "outputs": [],
   "source": [
    "import mumot"
   ]
  },
  {
   "cell_type": "markdown",
   "metadata": {},
   "source": [
    "# Model Definitions\n",
    "\n",
    "We start with a full model of collective foraging that includes positive feedback, through recruitment, and negative, inhibitory feedback.\n",
    "Taking collective foraging by honeybees as an exemplar, positive feedback through recruitment occurs via the <i>waggle dance</i> (von Frisch, [1967](#references)), while negative feedback occurs via the <i>stop signal</i> (Nieh, [1993](#references))."
   ]
  },
  {
   "cell_type": "code",
   "execution_count": null,
   "metadata": {},
   "outputs": [],
   "source": [
    "%%model\n",
    "$\n",
    "U -> A : q_A\n",
    "U -> B : q_B\n",
    "A -> U : a\n",
    "B -> U : a\n",
    "A + U -> A + A : r_a\n",
    "B + U -> B + B : r_b\n",
    "A + A -> A + U : z\n",
    "B + B -> B + U : z\n",
    "$"
   ]
  },
  {
   "cell_type": "code",
   "execution_count": null,
   "metadata": {},
   "outputs": [],
   "source": [
    "fullmodel = mumot.parseModel(In[2])\n",
    "fullmodel.show()"
   ]
  },
  {
   "cell_type": "markdown",
   "metadata": {},
   "source": [
    "We next set a finite system size $N$, since on a short timescale there is a constant pool of foragers. This reduces the system to two ODEs:"
   ]
  },
  {
   "cell_type": "code",
   "execution_count": null,
   "metadata": {},
   "outputs": [],
   "source": [
    "fullmodel = fullmodel.substitute('U = N - A - B')\n",
    "fullmodel.showODEs()"
   ]
  },
  {
   "cell_type": "markdown",
   "metadata": {},
   "source": [
    "Next we 'turn-off' the negative social feedback part of the model ($i.e.$ parameter $z=0$) to give a foraging model with only quality-independent positive feedback *r*. This is our **model without negative social feedback**:"
   ]
  },
  {
   "cell_type": "code",
   "execution_count": null,
   "metadata": {},
   "outputs": [],
   "source": [
    "posmodel = fullmodel.substitute('z = 0, r_a = r, r_b = r')\n",
    "posmodel.showODEs()"
   ]
  },
  {
   "cell_type": "markdown",
   "metadata": {},
   "source": [
    "Instead, the **model with negative social feedback** has $z>0$ and quality-dependent positive social feedback (with strength $\\rho$):"
   ]
  },
  {
   "cell_type": "code",
   "execution_count": null,
   "metadata": {},
   "outputs": [],
   "source": [
    "negmodel = fullmodel.substitute('r_a = \\\\rho q_A, r_b = \\\\rho q_B')\n",
    "negmodel.showODEs()"
   ]
  },
  {
   "cell_type": "markdown",
   "metadata": {},
   "source": [
    "# Results\n",
    "\n",
    "In the following, we analyse the models using both infinite-population ODEs, and finite population stochastic simulations.\n",
    "\n",
    "## Model without negative social feedback\n",
    "\n",
    "The analysis of the deterministic ODE system predicts that a population starting from a fully uncommmitted initial state ($i.e.$ all individuals at time $t=0$ are in uncommitted state $U$) will converge to the distribution:\n",
    "\n",
    "$ A = q_A / (q_A + q_B) $\n",
    "\n",
    "$ B = q_B / (q_A + q_B) $"
   ]
  },
  {
   "cell_type": "code",
   "execution_count": null,
   "metadata": {},
   "outputs": [],
   "source": [
    "int1 = posmodel.integrate(initialState = {'B': 0.0, 'U': 1.0, 'A': 0.0},\n",
    "                          initWidgets={'a':[0.001, 0, 1, 0.001],'r':[100, 0, 200, 1],\n",
    "                                      'q_{A}':[0.8, 0, 1, 0.05],'q_{B}':[0.4, 0, 1, 0.05],\n",
    "                                      'maxTime':[0.5,0.1,2,0.1]},\n",
    "                          choose_yrange=[0,1], plotProportions=True, ylab=\"Subpopulations $x_i$\")"
   ]
  },
  {
   "cell_type": "markdown",
   "metadata": {},
   "source": [
    "## Model with negative social feedback\n",
    "\n",
    "Also for the case of the system with negative social feedback, the analysis of the deterministic ODE system predicts that a population starting from a fully uncommmitted initial state ($i.e.$ all individuals at time $t=0$ are in uncommitted state $U$) will converge to the distribution with a larger convergence time:\n",
    "\n",
    "$ A = q_A / (q_A + q_B) $\n",
    "\n",
    "$ B = q_B / (q_A + q_B) $"
   ]
  },
  {
   "cell_type": "code",
   "execution_count": null,
   "metadata": {},
   "outputs": [],
   "source": [
    "int2 = negmodel.integrate(initialState = {'B': 0.0, 'U': 1.0, 'A': 0.0},\n",
    "                          initWidgets={'a':[0.001, 0, 1, 0.001],'\\\\rho':[200, 0, 400, 1],\n",
    "                                      'q_{A}':[0.8, 0, 1, 0.05],'q_{B}':[0.4, 0, 1, 0.05],\n",
    "                                      'z':[3.4, 0, 50, 0.02],'maxTime':[10,1,1000,1]},\n",
    "                          choose_yrange=[0,1], plotProportions=True, ylab=\"Subpopulations $x_i$\")"
   ]
  },
  {
   "cell_type": "markdown",
   "metadata": {},
   "source": [
    "## Noise and variance\n",
    "\n",
    "By introducing finite-system noise (via SSA), the analysis shows that the model **without** negative social feedback has a large variance around the dynamics predicted by the ODEs"
   ]
  },
  {
   "cell_type": "code",
   "execution_count": null,
   "metadata": {},
   "outputs": [],
   "source": [
    "mc1 = mumot.MuMoTmultiController([posmodel.SSA(silent=True), posmodel.integrate(silent=True)],\n",
    "                           shareAxes=True,\n",
    "                           initialState = {'B': 0.0, 'U': 1.0, 'A': 0.0}, \n",
    "                           initWidgets={'a':[0.001, 0, 1, 0.001],'r':[100, 0, 200, 1],\n",
    "                                       'q_{A}':[0.8, 0, 1, 0.05],'q_{B}':[0.4, 0, 1, 0.05],\n",
    "                                       'maxTime':[2,0.1,2,0.1],'systemSize':[200,10,1000,10],\n",
    "                                       'runs':[50,1,100,1]},\n",
    "                           choose_yrange=[0,1], ylab=\"Subpopulations $x_i$\")"
   ]
  },
  {
   "cell_type": "markdown",
   "metadata": {},
   "source": [
    "Instead, the model **with** negative social feedback has a very small variance around the dynamics predicted by the ODEs"
   ]
  },
  {
   "cell_type": "code",
   "execution_count": null,
   "metadata": {},
   "outputs": [],
   "source": [
    "mc2 = mumot.MuMoTmultiController([negmodel.SSA(silent=True), negmodel.integrate(silent=True)],\n",
    "                           shareAxes=True,\n",
    "                           initialState = {'B': 0.0, 'U': 1.0, 'A': 0.0}, \n",
    "                           initWidgets={'a':[0.001, 0, 1, 0.001],'rho':[200, 0, 400, 1],\n",
    "                                      'q_{A}':[0.8, 0, 1, 0.05],'q_{B}':[0.4, 0, 1, 0.05],\n",
    "                                      'z':[3.4, 0, 50, 0.02],'maxTime':[10,1,1000,1],\n",
    "                                      'systemSize':[200,10,1000,10],'runs':[10,1,100,1]},\n",
    "                           choose_yrange=[0,1], ylab=\"Subpopulations $x_i$\")"
   ]
  },
  {
   "cell_type": "markdown",
   "metadata": {},
   "source": [
    "Returning to the analysis of the ODE system, we see that the model without negative social feedback has very slow dynamics if the initial point (at $t=0$) is different from $U=1$, which can be caused by initial random fluctuations:"
   ]
  },
  {
   "cell_type": "code",
   "execution_count": null,
   "metadata": {},
   "outputs": [],
   "source": [
    "int3 = posmodel.integrate(initWidgets={'initialState':{'B':[0.1,0,1,0.05], 'U':[0.8,0,1,0.05], 'A':[0.1,0,1,0.05]},\n",
    "                                       'a':[0.001, 0, 1, 0.001],'r':[100, 0, 200, 1],\n",
    "                                       'q_{A}':[0.8, 0, 1, 0.05],'q_{B}':[0.4, 0, 1, 0.05],\n",
    "                                       'maxTime':[300000,1,1000000,1]},\n",
    "                          choose_yrange=[0,1], plotProportions=True, ylab=\"Subpopulations $x_i$\")"
   ]
  },
  {
   "cell_type": "markdown",
   "metadata": {},
   "source": [
    "Instead the system with negative social feedback has dynamics with speed independed from the initial starting point."
   ]
  },
  {
   "cell_type": "code",
   "execution_count": null,
   "metadata": {},
   "outputs": [],
   "source": [
    "int4 = negmodel.integrate(initWidgets={'initialState':{'B':[0.1,0,1,0.05], 'U':[0.8,0,1,0.05], 'A':[0.1,0,1,0.05]},\n",
    "                                       'a':[0.001, 0, 1, 0.001],'\\\\rho':[200, 0, 400, 1],\n",
    "                                       'q_{A}':[0.8, 0, 1, 0.05],'q_{B}':[0.4, 0, 1, 0.05],\n",
    "                                       'z':[3.4, 0, 50, 0.02],'maxTime':[5,1,100,1]},\n",
    "                          choose_yrange=[0,1], plotProportions=True, ylab=\"Subpopulations $x_i$\")"
   ]
  },
  {
   "cell_type": "markdown",
   "metadata": {},
   "source": [
    "# References \n",
    "<a id='references'></a>\n",
    "<ul>\n",
    "<li>Reina, A. &amp; Marshall, J. A. R. (2020) <a href=\"https://doi.org/10.1101/2020.04.21.053074\">Negative feedback may suppress variation to improve collective foraging performance</a>. <i>bioRxiv</i> 2020.04.21.053074. \n",
    "<li>von Frisch K (1967). <i>The Dance Language and Orientation of Bees</i>. Belknap Press, Cambridge, MA.\n",
    "<li>Nieh, J. (1993). The stop signal of the honey bee: reconsidering its message. <i>Behav. Ecol. Sociobiol.</i> <b>33</b>, 51–56.\n",
    "</ul>"
   ]
  }
 ],
 "metadata": {
  "kernelspec": {
   "display_name": "Python 3",
   "language": "python",
   "name": "python3"
  },
  "language_info": {
   "codemirror_mode": {
    "name": "ipython",
    "version": 3
   },
   "file_extension": ".py",
   "mimetype": "text/x-python",
   "name": "python",
   "nbconvert_exporter": "python",
   "pygments_lexer": "ipython3",
   "version": "3.7.7"
  },
  "toc": {
   "base_numbering": 1,
   "nav_menu": {},
   "number_sections": true,
   "sideBar": true,
   "skip_h1_title": false,
   "title_cell": "Table of Contents",
   "title_sidebar": "Contents",
   "toc_cell": false,
   "toc_position": {},
   "toc_section_display": true,
   "toc_window_display": true
  }
 },
 "nbformat": 4,
 "nbformat_minor": 2
}
