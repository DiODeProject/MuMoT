{
 "cells": [
  {
   "cell_type": "markdown",
   "metadata": {},
   "source": [
    "# MuMoT Demonstration Notebook: Variance-Suppression through Negative Feedback <a class=\"tocSkip\">\n",
    "\n",
    "## Multiscale Modelling Tool <a class=\"tocSkip\">\n",
    "\n",
    "*Andreagiovanni Reina, Department of Computer Science, University of Sheffield;\n",
    "James A. R. Marshall, Department of Computer Science, University of Sheffield*\n",
    "\n",
    "# Introduction\n",
    "    \n",
    "This notebook reproduces results representative of those presented in Reina &amp; Marshall ([2020](#references)), in which it is shown that negative feedback can acts as a mechanism to suppress stochastic fluctuations in a simple collective foraging model."
   ]
  },
  {
   "cell_type": "code",
   "execution_count": null,
   "metadata": {},
   "outputs": [],
   "source": [
    "import mumot"
   ]
  },
  {
   "cell_type": "markdown",
   "metadata": {},
   "source": [
    "# Model Definitions\n",
    "\n",
    "We start with a full model of collective foraging that includes positive feedback, through recruitment, and negative, inhibitory feedback.\n",
    "Taking collective foraging by honeybees as an exemplar, positive feedback through recruitment occurs via the <i>waggle dance</i> (von Frisch, [1967](#references)), while negative feedback occurs via the <i>stop signal</i> (Nieh, [1993](#references))."
   ]
  },
  {
   "cell_type": "code",
   "execution_count": null,
   "metadata": {},
   "outputs": [],
   "source": [
    "%%model\n",
    "$\n",
    "U -> A : q_A\n",
    "U -> B : q_B\n",
    "A -> U : a\n",
    "B -> U : a\n",
    "A + U -> A + A : r_a\n",
    "B + U -> B + B : r_b\n",
    "A + A -> A + U : z\n",
    "B + B -> B + U : z\n",
    "$"
   ]
  },
  {
   "cell_type": "code",
   "execution_count": null,
   "metadata": {},
   "outputs": [],
   "source": [
    "fullmodel = mumot.parseModel(In[2])\n",
    "fullmodel.show()"
   ]
  },
  {
   "cell_type": "markdown",
   "metadata": {},
   "source": [
    "We next set a finite system size $N$, since on a short timescale there is a constant pool of foragers. This gives us our foraging model including negative feedback:"
   ]
  },
  {
   "cell_type": "code",
   "execution_count": null,
   "metadata": {},
   "outputs": [],
   "source": [
    "negmodel = fullmodel.substitute('U = N - A - B')\n",
    "negmodel.showODEs()"
   ]
  },
  {
   "cell_type": "markdown",
   "metadata": {},
   "source": [
    "Next we 'turn-off' the negative feedback part of the model to give a foraging model with only positive feedback:"
   ]
  },
  {
   "cell_type": "code",
   "execution_count": null,
   "metadata": {},
   "outputs": [],
   "source": [
    "posmodel = negmodel.substitute('z = 0')\n",
    "posmodel.showODEs()"
   ]
  },
  {
   "cell_type": "markdown",
   "metadata": {},
   "source": [
    "# Results\n",
    "\n",
    "In the following, we analyse the models using both infinite-population ODEs, and finite population stochastic simulations.\n",
    "\n",
    "## Positive-feedback only model"
   ]
  },
  {
   "cell_type": "markdown",
   "metadata": {},
   "source": [
    "## Negative feedback only model"
   ]
  },
  {
   "cell_type": "code",
   "execution_count": null,
   "metadata": {},
   "outputs": [],
   "source": [
    "int1 = ifdmodel.integrate(initialState = {'B': 0.0, 'U': 1.0, 'A': 0.0},\n",
    "                          initWidgets={'a':[0.001, 0, 1, 0.001],'r':[50, 0, 50, 1],\n",
    "                                      'v_{A}':[0.8, 0, 1, 0.05],'v_{B}':[0.4, 0, 1, 0.05],\n",
    "                                       'd_{A}':[0.5, 0, 1, 0.1],'d_{B}':[0.5, 0, 1, 0.1],\n",
    "                                      'maxTime':[1,0.1,2,0.1]})"
   ]
  },
  {
   "cell_type": "code",
   "execution_count": null,
   "metadata": {},
   "outputs": [],
   "source": [
    "mc1 = mumot.MuMoTmultiController([ifdmodel.SSA(silent=True), ifdmodel.integrate(silent=True)],\n",
    "                           shareAxes=True,\n",
    "                           initialState = {'B': 0.0, 'U': 1.0, 'A': 0.0}, choose_yrange=[0,1],\n",
    "                          initWidgets={'a':[0.001, 0, 1, 0.001],'r':[50, 0, 50, 1],'h':[0.5, 0, 2, 0.1],\n",
    "                                      'v_{A}':[0.8, 0, 1, 0.05],'v_{B}':[0.4, 0, 1, 0.05],\n",
    "                                       'd_{A}':[1, 0, 1, 0.1],'d_{B}':[1.0, 0, 1, 0.1],\n",
    "                                      'systemSize':[200,10,200,10],\n",
    "                                       'maxTime':[1,0.1,2,0.1],'runs':[1,1,50,1]})"
   ]
  },
  {
   "cell_type": "code",
   "execution_count": null,
   "metadata": {},
   "outputs": [],
   "source": [
    "int2 = vasimodel.integrate(initialState = {'B': 0.0, 'U': 1.0, 'A': 0.0},\n",
    "                          initWidgets={'a':[0.001, 0, 1, 0.001],'r':[50, 0, 50, 1],\n",
    "                                      'v_{A}':[0.8, 0, 1, 0.05],'v_{B}':[0.4, 0, 1, 0.05],\n",
    "                                       'd_{A}':[0.5, 0, 1, 0.1],'d_{B}':[0.5, 0, 1, 0.1],\n",
    "                                      'maxTime':[10,0.1,50,1]})"
   ]
  },
  {
   "cell_type": "code",
   "execution_count": null,
   "metadata": {},
   "outputs": [],
   "source": [
    "mc2 = mumot.MuMoTmultiController([vasimodel.SSA(silent=True), vasimodel.integrate(silent=True)],\n",
    "                           shareAxes=True,\n",
    "                           initialState = {'B': 0.0, 'U': 1.0, 'A': 0.0}, choose_yrange=[0,1],\n",
    "                          initWidgets={'a':[0.001, 0, 1, 0.001],'r':[50, 0, 50, 1],'h':[0.5, 0, 2, 0.1],\n",
    "                                      'v_{A}':[0.8, 0, 1, 0.05],'v_{B}':[0.4, 0, 1, 0.05],\n",
    "                                       'd_{A}':[1, 0, 1, 0.1],'d_{B}':[1.0, 0, 1, 0.1],\n",
    "                                      'systemSize':[200,10,200,10],\n",
    "                                       'maxTime':[10,1,50,1],'runs':[10,1,50,1]})"
   ]
  },
  {
   "cell_type": "markdown",
   "metadata": {},
   "source": [
    "# References \n",
    "<a id='references'></a>\n",
    "<ul>\n",
    "<li>Reina, A. &amp; Marshall, J. A. R. (2020) Negative feedback may suppress variation to improve collective foraging performance. <i>In preparation</i>\n",
    "<li>von Frisch K (1967). <i>The Dance Language and Orientation of Bees</i>. Belknap Press, Cambridge, MA.\n",
    "<li>Nieh, J. (1993). The stop signal of the honey bee: reconsidering its message. <i>Behav. Ecol. Sociobiol.</i> <b>33</b>, 51–56.\n",
    "</ul>"
   ]
  }
 ],
 "metadata": {
  "kernelspec": {
   "display_name": "Python 3",
   "language": "python",
   "name": "python3"
  },
  "language_info": {
   "codemirror_mode": {
    "name": "ipython",
    "version": 3
   },
   "file_extension": ".py",
   "mimetype": "text/x-python",
   "name": "python",
   "nbconvert_exporter": "python",
   "pygments_lexer": "ipython3",
   "version": "3.7.6"
  },
  "toc": {
   "base_numbering": 1,
   "nav_menu": {},
   "number_sections": true,
   "sideBar": true,
   "skip_h1_title": false,
   "title_cell": "Table of Contents",
   "title_sidebar": "Contents",
   "toc_cell": false,
   "toc_position": {},
   "toc_section_display": true,
   "toc_window_display": true
  }
 },
 "nbformat": 4,
 "nbformat_minor": 2
}
