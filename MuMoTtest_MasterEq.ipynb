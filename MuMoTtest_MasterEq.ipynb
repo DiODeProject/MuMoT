{
 "cells": [
  {
   "cell_type": "code",
   "execution_count": 1,
   "metadata": {
    "collapsed": false
   },
   "outputs": [
    {
     "name": "stdout",
     "output_type": "stream",
     "text": [
      "Created `%%model` as an alias for `%%latex`.\n"
     ]
    }
   ],
   "source": [
    "import MuMoT.MuMoT as mmt # if working directly from git clone\n",
    "#import MuMoT as mmt # if working with pip installed module"
   ]
  },
  {
   "cell_type": "code",
   "execution_count": 2,
   "metadata": {
    "collapsed": false
   },
   "outputs": [
    {
     "data": {
      "text/latex": [
       "$\n",
       "A -> B : k_1\n",
       "B -> A : k_2\n",
       "$"
      ],
      "text/plain": [
       "<IPython.core.display.Latex object>"
      ]
     },
     "metadata": {},
     "output_type": "display_data"
    }
   ],
   "source": [
    "%%model\n",
    "$\n",
    "A -> B : k_1\n",
    "B -> A : k_2\n",
    "$"
   ]
  },
  {
   "cell_type": "code",
   "execution_count": 3,
   "metadata": {
    "collapsed": false
   },
   "outputs": [],
   "source": [
    "model1 = mmt.parseModel(In[2])"
   ]
  },
  {
   "cell_type": "code",
   "execution_count": 4,
   "metadata": {
    "collapsed": false
   },
   "outputs": [
    {
     "data": {
      "text/latex": [
       "$$\\displaystyle \\frac{\\textrm{d}A}{\\textrm{d}t} := - A k_{1} + B k_{2}$$"
      ],
      "text/plain": [
       "<IPython.core.display.Math object>"
      ]
     },
     "metadata": {},
     "output_type": "display_data"
    },
    {
     "data": {
      "text/latex": [
       "$$\\displaystyle \\frac{\\textrm{d}B}{\\textrm{d}t} := A k_{1} - B k_{2}$$"
      ],
      "text/plain": [
       "<IPython.core.display.Math object>"
      ]
     },
     "metadata": {},
     "output_type": "display_data"
    }
   ],
   "source": [
    "model1.showODEs()"
   ]
  },
  {
   "cell_type": "code",
   "execution_count": 5,
   "metadata": {
    "collapsed": false
   },
   "outputs": [
    {
     "data": {
      "text/latex": [
       "$$\\frac{\\partial}{\\partial t} P{\\left (A,B,t \\right )}:= k_{2} ( \\operatorname{E_{op}}{\\left (A,-1 \\right )} \\operatorname{E_{op}}{\\left (B,1 \\right )} - 1 ) BP{\\left (A,B,t \\right )} + k_{1} ( \\operatorname{E_{op}}{\\left (A,1 \\right )} \\operatorname{E_{op}}{\\left (B,-1 \\right )} - 1 ) AP{\\left (A,B,t \\right )}$$"
      ],
      "text/plain": [
       "<IPython.core.display.Math object>"
      ]
     },
     "metadata": {},
     "output_type": "display_data"
    }
   ],
   "source": [
    "model1.showMasterEquation()"
   ]
  },
  {
   "cell_type": "code",
   "execution_count": 6,
   "metadata": {
    "collapsed": false
   },
   "outputs": [
    {
     "data": {
      "text/latex": [
       "$$- \\sqrt{V} \\frac{d}{d t} \\Phi_{A} \\frac{\\partial}{\\partial \\xi_{1}} P{\\left (\\xi_{1},\\xi_{2},t \\right )} - \\sqrt{V} \\frac{d}{d t} \\Phi_{B} \\frac{\\partial}{\\partial \\xi_{2}} P{\\left (\\xi_{1},\\xi_{2},t \\right )} + \\frac{\\partial}{\\partial t} P{\\left (\\xi_{1},\\xi_{2},t \\right )} := \n",
       "\\Phi_{A} \\sqrt{V} k_{1} \\frac{\\partial}{\\partial \\xi_{1}} P{\\left (\\xi_{1},\\xi_{2},t \\right )} - \\Phi_{A} \\sqrt{V} k_{1} \\frac{\\partial}{\\partial \\xi_{2}} P{\\left (\\xi_{1},\\xi_{2},t \\right )} + \\frac{\\Phi_{A} k_{1}}{2} \\frac{\\partial^{2}}{\\partial \\xi_{1}^{2}}  P{\\left (\\xi_{1},\\xi_{2},t \\right )} - \\Phi_{A} k_{1} \\frac{\\partial^{2}}{\\partial \\xi_{1}\\partial \\xi_{2}}  P{\\left (\\xi_{1},\\xi_{2},t \\right )} + \\frac{\\Phi_{A} k_{1}}{2} \\frac{\\partial^{2}}{\\partial \\xi_{2}^{2}}  P{\\left (\\xi_{1},\\xi_{2},t \\right )} + \\frac{\\Phi_{A} k_{1}}{4 V} \\frac{\\partial^{4}}{\\partial \\xi_{1}^{2}\\partial \\xi_{2}^{2}}  P{\\left (\\xi_{1},\\xi_{2},t \\right )} - \\frac{\\Phi_{A} k_{1}}{2 \\sqrt{V}} \\frac{\\partial^{3}}{\\partial \\xi_{1}^{2}\\partial \\xi_{2}}  P{\\left (\\xi_{1},\\xi_{2},t \\right )} + \\frac{\\Phi_{A} k_{1}}{2 \\sqrt{V}} \\frac{\\partial^{3}}{\\partial \\xi_{1}\\partial \\xi_{2}^{2}}  P{\\left (\\xi_{1},\\xi_{2},t \\right )} - \\Phi_{B} \\sqrt{V} k_{2} \\frac{\\partial}{\\partial \\xi_{1}} P{\\left (\\xi_{1},\\xi_{2},t \\right )} + \\Phi_{B} \\sqrt{V} k_{2} \\frac{\\partial}{\\partial \\xi_{2}} P{\\left (\\xi_{1},\\xi_{2},t \\right )} + \\frac{\\Phi_{B} k_{2}}{2} \\frac{\\partial^{2}}{\\partial \\xi_{1}^{2}}  P{\\left (\\xi_{1},\\xi_{2},t \\right )} - \\Phi_{B} k_{2} \\frac{\\partial^{2}}{\\partial \\xi_{1}\\partial \\xi_{2}}  P{\\left (\\xi_{1},\\xi_{2},t \\right )} + \\frac{\\Phi_{B} k_{2}}{2} \\frac{\\partial^{2}}{\\partial \\xi_{2}^{2}}  P{\\left (\\xi_{1},\\xi_{2},t \\right )} + \\frac{\\Phi_{B} k_{2}}{4 V} \\frac{\\partial^{4}}{\\partial \\xi_{1}^{2}\\partial \\xi_{2}^{2}}  P{\\left (\\xi_{1},\\xi_{2},t \\right )} + \\frac{\\Phi_{B} k_{2}}{2 \\sqrt{V}} \\frac{\\partial^{3}}{\\partial \\xi_{1}^{2}\\partial \\xi_{2}}  P{\\left (\\xi_{1},\\xi_{2},t \\right )} - \\frac{\\Phi_{B} k_{2}}{2 \\sqrt{V}} \\frac{\\partial^{3}}{\\partial \\xi_{1}\\partial \\xi_{2}^{2}}  P{\\left (\\xi_{1},\\xi_{2},t \\right )} + k_{1} \\xi_{1} \\frac{\\partial}{\\partial \\xi_{1}} P{\\left (\\xi_{1},\\xi_{2},t \\right )} - k_{1} \\xi_{1} \\frac{\\partial}{\\partial \\xi_{2}} P{\\left (\\xi_{1},\\xi_{2},t \\right )} + k_{1} P{\\left (\\xi_{1},\\xi_{2},t \\right )} - k_{2} \\xi_{2} \\frac{\\partial}{\\partial \\xi_{1}} P{\\left (\\xi_{1},\\xi_{2},t \\right )} + k_{2} \\xi_{2} \\frac{\\partial}{\\partial \\xi_{2}} P{\\left (\\xi_{1},\\xi_{2},t \\right )} + k_{2} P{\\left (\\xi_{1},\\xi_{2},t \\right )} - \\frac{k_{1} \\xi_{1}}{2 V} \\frac{\\partial^{3}}{\\partial \\xi_{1}^{2}\\partial \\xi_{2}}  P{\\left (\\xi_{1},\\xi_{2},t \\right )} + \\frac{k_{1} \\xi_{1}}{2 V} \\frac{\\partial^{3}}{\\partial \\xi_{1}\\partial \\xi_{2}^{2}}  P{\\left (\\xi_{1},\\xi_{2},t \\right )} - \\frac{k_{1}}{V} \\frac{\\partial^{2}}{\\partial \\xi_{1}\\partial \\xi_{2}}  P{\\left (\\xi_{1},\\xi_{2},t \\right )} + \\frac{k_{1}}{2 V} \\frac{\\partial^{2}}{\\partial \\xi_{2}^{2}}  P{\\left (\\xi_{1},\\xi_{2},t \\right )} + \\frac{k_{2} \\xi_{2}}{2 V} \\frac{\\partial^{3}}{\\partial \\xi_{1}^{2}\\partial \\xi_{2}}  P{\\left (\\xi_{1},\\xi_{2},t \\right )} - \\frac{k_{2} \\xi_{2}}{2 V} \\frac{\\partial^{3}}{\\partial \\xi_{1}\\partial \\xi_{2}^{2}}  P{\\left (\\xi_{1},\\xi_{2},t \\right )} + \\frac{k_{2}}{2 V} \\frac{\\partial^{2}}{\\partial \\xi_{1}^{2}}  P{\\left (\\xi_{1},\\xi_{2},t \\right )} - \\frac{k_{2}}{V} \\frac{\\partial^{2}}{\\partial \\xi_{1}\\partial \\xi_{2}}  P{\\left (\\xi_{1},\\xi_{2},t \\right )} + \\frac{k_{1} \\xi_{1}}{2 \\sqrt{V}} \\frac{\\partial^{2}}{\\partial \\xi_{1}^{2}}  P{\\left (\\xi_{1},\\xi_{2},t \\right )} - \\frac{k_{1} \\xi_{1}}{\\sqrt{V}} \\frac{\\partial^{2}}{\\partial \\xi_{1}\\partial \\xi_{2}}  P{\\left (\\xi_{1},\\xi_{2},t \\right )} + \\frac{k_{1} \\xi_{1}}{2 \\sqrt{V}} \\frac{\\partial^{2}}{\\partial \\xi_{2}^{2}}  P{\\left (\\xi_{1},\\xi_{2},t \\right )} + \\frac{k_{1}}{\\sqrt{V}} \\frac{\\partial}{\\partial \\xi_{1}} P{\\left (\\xi_{1},\\xi_{2},t \\right )} - \\frac{k_{1}}{\\sqrt{V}} \\frac{\\partial}{\\partial \\xi_{2}} P{\\left (\\xi_{1},\\xi_{2},t \\right )} + \\frac{k_{2} \\xi_{2}}{2 \\sqrt{V}} \\frac{\\partial^{2}}{\\partial \\xi_{1}^{2}}  P{\\left (\\xi_{1},\\xi_{2},t \\right )} - \\frac{k_{2} \\xi_{2}}{\\sqrt{V}} \\frac{\\partial^{2}}{\\partial \\xi_{1}\\partial \\xi_{2}}  P{\\left (\\xi_{1},\\xi_{2},t \\right )} + \\frac{k_{2} \\xi_{2}}{2 \\sqrt{V}} \\frac{\\partial^{2}}{\\partial \\xi_{2}^{2}}  P{\\left (\\xi_{1},\\xi_{2},t \\right )} - \\frac{k_{2}}{\\sqrt{V}} \\frac{\\partial}{\\partial \\xi_{1}} P{\\left (\\xi_{1},\\xi_{2},t \\right )} + \\frac{k_{2}}{\\sqrt{V}} \\frac{\\partial}{\\partial \\xi_{2}} P{\\left (\\xi_{1},\\xi_{2},t \\right )} + \\frac{k_{1} \\xi_{1}}{4 V^{\\frac{3}{2}}} \\frac{\\partial^{4}}{\\partial \\xi_{1}^{2}\\partial \\xi_{2}^{2}}  P{\\left (\\xi_{1},\\xi_{2},t \\right )} + \\frac{k_{1}}{2 V^{\\frac{3}{2}}} \\frac{\\partial^{3}}{\\partial \\xi_{1}\\partial \\xi_{2}^{2}}  P{\\left (\\xi_{1},\\xi_{2},t \\right )} + \\frac{k_{2} \\xi_{2}}{4 V^{\\frac{3}{2}}} \\frac{\\partial^{4}}{\\partial \\xi_{1}^{2}\\partial \\xi_{2}^{2}}  P{\\left (\\xi_{1},\\xi_{2},t \\right )} + \\frac{k_{2}}{2 V^{\\frac{3}{2}}} \\frac{\\partial^{3}}{\\partial \\xi_{1}^{2}\\partial \\xi_{2}}  P{\\left (\\xi_{1},\\xi_{2},t \\right )}$$"
      ],
      "text/plain": [
       "<IPython.core.display.Math object>"
      ]
     },
     "metadata": {},
     "output_type": "display_data"
    }
   ],
   "source": [
    "model1.showVanKampenExpansion()"
   ]
  },
  {
   "cell_type": "code",
   "execution_count": 7,
   "metadata": {
    "collapsed": false
   },
   "outputs": [
    {
     "data": {
      "text/latex": [
       "$$\\frac{d}{d t} \\Phi_{A} := - \\Phi_{A} k_{1} + \\Phi_{B} k_{2}$$"
      ],
      "text/plain": [
       "<IPython.core.display.Math object>"
      ]
     },
     "metadata": {},
     "output_type": "display_data"
    },
    {
     "data": {
      "text/latex": [
       "$$\\frac{d}{d t} \\Phi_{B} := \\Phi_{A} k_{1} - \\Phi_{B} k_{2}$$"
      ],
      "text/plain": [
       "<IPython.core.display.Math object>"
      ]
     },
     "metadata": {},
     "output_type": "display_data"
    }
   ],
   "source": [
    "model1.showODEs_vKE()"
   ]
  },
  {
   "cell_type": "code",
   "execution_count": 8,
   "metadata": {
    "collapsed": false
   },
   "outputs": [
    {
     "data": {
      "text/latex": [
       "$$\\frac{\\partial}{\\partial t} P{\\left (\\xi_{1},\\xi_{2},t \\right )} := \\frac{\\Phi_{A} k_{1}}{2} \\frac{\\partial^{2}}{\\partial \\xi_{1}^{2}}  P{\\left (\\xi_{1},\\xi_{2},t \\right )} - \\Phi_{A} k_{1} \\frac{\\partial^{2}}{\\partial \\xi_{1}\\partial \\xi_{2}}  P{\\left (\\xi_{1},\\xi_{2},t \\right )} + \\frac{\\Phi_{A} k_{1}}{2} \\frac{\\partial^{2}}{\\partial \\xi_{2}^{2}}  P{\\left (\\xi_{1},\\xi_{2},t \\right )} + \\frac{\\Phi_{B} k_{2}}{2} \\frac{\\partial^{2}}{\\partial \\xi_{1}^{2}}  P{\\left (\\xi_{1},\\xi_{2},t \\right )} - \\Phi_{B} k_{2} \\frac{\\partial^{2}}{\\partial \\xi_{1}\\partial \\xi_{2}}  P{\\left (\\xi_{1},\\xi_{2},t \\right )} + \\frac{\\Phi_{B} k_{2}}{2} \\frac{\\partial^{2}}{\\partial \\xi_{2}^{2}}  P{\\left (\\xi_{1},\\xi_{2},t \\right )} + k_{1} \\xi_{1} \\frac{\\partial}{\\partial \\xi_{1}} P{\\left (\\xi_{1},\\xi_{2},t \\right )} - k_{1} \\xi_{1} \\frac{\\partial}{\\partial \\xi_{2}} P{\\left (\\xi_{1},\\xi_{2},t \\right )} + k_{1} P{\\left (\\xi_{1},\\xi_{2},t \\right )} - k_{2} \\xi_{2} \\frac{\\partial}{\\partial \\xi_{1}} P{\\left (\\xi_{1},\\xi_{2},t \\right )} + k_{2} \\xi_{2} \\frac{\\partial}{\\partial \\xi_{2}} P{\\left (\\xi_{1},\\xi_{2},t \\right )} + k_{2} P{\\left (\\xi_{1},\\xi_{2},t \\right )}$$"
      ],
      "text/plain": [
       "<IPython.core.display.Math object>"
      ]
     },
     "metadata": {},
     "output_type": "display_data"
    }
   ],
   "source": [
    "model1.showFockerPlanckEquation()"
   ]
  },
  {
   "cell_type": "code",
   "execution_count": null,
   "metadata": {
    "collapsed": true
   },
   "outputs": [],
   "source": []
  },
  {
   "cell_type": "code",
   "execution_count": 9,
   "metadata": {
    "collapsed": false
   },
   "outputs": [
    {
     "data": {
      "text/latex": [
       "$\n",
       "U -> A : g_1\n",
       "U -> B : g_2\n",
       "A -> U : a_1\n",
       "B -> U : a_2\n",
       "A + U -> A + A : r_1\n",
       "B + U -> B + B : r_2\n",
       "A + B -> A + U : s_1\n",
       "A + B -> B + U : s_2\n",
       "$"
      ],
      "text/plain": [
       "<IPython.core.display.Latex object>"
      ]
     },
     "metadata": {},
     "output_type": "display_data"
    }
   ],
   "source": [
    "%%model\n",
    "$\n",
    "U -> A : g_1\n",
    "U -> B : g_2\n",
    "A -> U : a_1\n",
    "B -> U : a_2\n",
    "A + U -> A + A : r_1\n",
    "B + U -> B + B : r_2\n",
    "A + B -> A + U : s_1\n",
    "A + B -> B + U : s_2\n",
    "$"
   ]
  },
  {
   "cell_type": "code",
   "execution_count": 10,
   "metadata": {
    "collapsed": false
   },
   "outputs": [],
   "source": [
    "model2 = mmt.parseModel(In[9])"
   ]
  },
  {
   "cell_type": "code",
   "execution_count": 11,
   "metadata": {
    "collapsed": false
   },
   "outputs": [
    {
     "data": {
      "text/latex": [
       "$$\\displaystyle \\frac{\\textrm{d}A}{\\textrm{d}t} := - A B s_{2} + A U r_{1} - A a_{1} + U g_{1}$$"
      ],
      "text/plain": [
       "<IPython.core.display.Math object>"
      ]
     },
     "metadata": {},
     "output_type": "display_data"
    },
    {
     "data": {
      "text/latex": [
       "$$\\displaystyle \\frac{\\textrm{d}U}{\\textrm{d}t} := A B s_{1} + A B s_{2} - A U r_{1} + A a_{1} - B U r_{2} + B a_{2} - U g_{1} - U g_{2}$$"
      ],
      "text/plain": [
       "<IPython.core.display.Math object>"
      ]
     },
     "metadata": {},
     "output_type": "display_data"
    },
    {
     "data": {
      "text/latex": [
       "$$\\displaystyle \\frac{\\textrm{d}B}{\\textrm{d}t} := - A B s_{1} + B U r_{2} - B a_{2} + U g_{2}$$"
      ],
      "text/plain": [
       "<IPython.core.display.Math object>"
      ]
     },
     "metadata": {},
     "output_type": "display_data"
    }
   ],
   "source": [
    "model2.showODEs()"
   ]
  },
  {
   "cell_type": "code",
   "execution_count": 12,
   "metadata": {
    "collapsed": false
   },
   "outputs": [
    {
     "data": {
      "text/latex": [
       "$$\\left \\{ a_{1} : \\left \\{ A : \\left [ 1, \\quad 0\\right ], \\quad U : \\left [ 0, \\quad 1\\right ]\\right \\}, \\quad a_{2} : \\left \\{ B : \\left [ 1, \\quad 0\\right ], \\quad U : \\left [ 0, \\quad 1\\right ]\\right \\}, \\quad g_{1} : \\left \\{ A : \\left [ 0, \\quad 1\\right ], \\quad U : \\left [ 1, \\quad 0\\right ]\\right \\}, \\quad g_{2} : \\left \\{ B : \\left [ 0, \\quad 1\\right ], \\quad U : \\left [ 1, \\quad 0\\right ]\\right \\}, \\quad r_{1} : \\left \\{ A : \\left [ 1, \\quad 2\\right ], \\quad U : \\left [ 1, \\quad 0\\right ]\\right \\}, \\quad r_{2} : \\left \\{ B : \\left [ 1, \\quad 2\\right ], \\quad U : \\left [ 1, \\quad 0\\right ]\\right \\}, \\quad s_{1} : \\left \\{ A : \\left [ 1, \\quad 1\\right ], \\quad B : \\left [ 1, \\quad 0\\right ], \\quad U : \\left [ 0, \\quad 1\\right ]\\right \\}, \\quad s_{2} : \\left \\{ A : \\left [ 1, \\quad 0\\right ], \\quad B : \\left [ 1, \\quad 1\\right ], \\quad U : \\left [ 0, \\quad 1\\right ]\\right \\}\\right \\}$$"
      ],
      "text/plain": [
       "<IPython.core.display.Math object>"
      ]
     },
     "metadata": {},
     "output_type": "display_data"
    }
   ],
   "source": [
    "model2.showStoichiometry()"
   ]
  },
  {
   "cell_type": "code",
   "execution_count": 13,
   "metadata": {
    "collapsed": false
   },
   "outputs": [
    {
     "data": {
      "text/latex": [
       "$$\\frac{\\partial}{\\partial t} P{\\left (A,B,U,t \\right )}:= s_{1} ( \\operatorname{E_{op}}{\\left (A,0 \\right )} \\operatorname{E_{op}}{\\left (B,1 \\right )} \\operatorname{E_{op}}{\\left (U,-1 \\right )} - 1 ) \\frac{A B}{V}P{\\left (A,B,U,t \\right )} + g_{1} ( \\operatorname{E_{op}}{\\left (A,-1 \\right )} \\operatorname{E_{op}}{\\left (U,1 \\right )} - 1 ) UP{\\left (A,B,U,t \\right )} + a_{2} ( \\operatorname{E_{op}}{\\left (B,1 \\right )} \\operatorname{E_{op}}{\\left (U,-1 \\right )} - 1 ) BP{\\left (A,B,U,t \\right )} + r_{1} ( \\operatorname{E_{op}}{\\left (A,-1 \\right )} \\operatorname{E_{op}}{\\left (U,1 \\right )} - 1 ) \\frac{A U}{V}P{\\left (A,B,U,t \\right )} + g_{2} ( \\operatorname{E_{op}}{\\left (B,-1 \\right )} \\operatorname{E_{op}}{\\left (U,1 \\right )} - 1 ) UP{\\left (A,B,U,t \\right )} + s_{2} ( \\operatorname{E_{op}}{\\left (A,1 \\right )} \\operatorname{E_{op}}{\\left (B,0 \\right )} \\operatorname{E_{op}}{\\left (U,-1 \\right )} - 1 ) \\frac{A B}{V}P{\\left (A,B,U,t \\right )} + a_{1} ( \\operatorname{E_{op}}{\\left (A,1 \\right )} \\operatorname{E_{op}}{\\left (U,-1 \\right )} - 1 ) AP{\\left (A,B,U,t \\right )} + r_{2} ( \\operatorname{E_{op}}{\\left (B,-1 \\right )} \\operatorname{E_{op}}{\\left (U,1 \\right )} - 1 ) \\frac{B U}{V}P{\\left (A,B,U,t \\right )}$$"
      ],
      "text/plain": [
       "<IPython.core.display.Math object>"
      ]
     },
     "metadata": {},
     "output_type": "display_data"
    }
   ],
   "source": [
    "model2.showMasterEquation()"
   ]
  },
  {
   "cell_type": "code",
   "execution_count": 14,
   "metadata": {
    "collapsed": false
   },
   "outputs": [
    {
     "data": {
      "text/latex": [
       "$$- \\sqrt{V} \\frac{d}{d t} \\Phi_{A} \\frac{\\partial}{\\partial \\xi_{1}} P{\\left (\\xi_{1},\\xi_{2},\\xi_{3},t \\right )} - \\sqrt{V} \\frac{d}{d t} \\Phi_{B} \\frac{\\partial}{\\partial \\xi_{2}} P{\\left (\\xi_{1},\\xi_{2},\\xi_{3},t \\right )} - \\sqrt{V} \\frac{d}{d t} \\Phi_{C} \\frac{\\partial}{\\partial \\xi_{3}} P{\\left (\\xi_{1},\\xi_{2},\\xi_{3},t \\right )} + \\frac{\\partial}{\\partial t} P{\\left (\\xi_{1},\\xi_{2},\\xi_{3},t \\right )} := \n",
       "\\Phi_{A} \\Phi_{B} \\sqrt{V} s_{1} \\frac{\\partial}{\\partial \\xi_{2}} P{\\left (\\xi_{1},\\xi_{2},\\xi_{3},t \\right )} - \\Phi_{A} \\Phi_{B} \\sqrt{V} s_{1} \\frac{\\partial}{\\partial \\xi_{3}} P{\\left (\\xi_{1},\\xi_{2},\\xi_{3},t \\right )} + \\Phi_{A} \\Phi_{B} \\sqrt{V} s_{2} \\frac{\\partial}{\\partial \\xi_{1}} P{\\left (\\xi_{1},\\xi_{2},\\xi_{3},t \\right )} - \\Phi_{A} \\Phi_{B} \\sqrt{V} s_{2} \\frac{\\partial}{\\partial \\xi_{3}} P{\\left (\\xi_{1},\\xi_{2},\\xi_{3},t \\right )} + \\frac{\\Phi_{A} \\Phi_{B}}{2} s_{1} \\frac{\\partial^{2}}{\\partial \\xi_{2}^{2}}  P{\\left (\\xi_{1},\\xi_{2},\\xi_{3},t \\right )} - \\Phi_{A} \\Phi_{B} s_{1} \\frac{\\partial^{2}}{\\partial \\xi_{2}\\partial \\xi_{3}}  P{\\left (\\xi_{1},\\xi_{2},\\xi_{3},t \\right )} + \\frac{\\Phi_{A} \\Phi_{B}}{2} s_{1} \\frac{\\partial^{2}}{\\partial \\xi_{3}^{2}}  P{\\left (\\xi_{1},\\xi_{2},\\xi_{3},t \\right )} + \\frac{\\Phi_{A} \\Phi_{B}}{2} s_{2} \\frac{\\partial^{2}}{\\partial \\xi_{1}^{2}}  P{\\left (\\xi_{1},\\xi_{2},\\xi_{3},t \\right )} - \\Phi_{A} \\Phi_{B} s_{2} \\frac{\\partial^{2}}{\\partial \\xi_{1}\\partial \\xi_{3}}  P{\\left (\\xi_{1},\\xi_{2},\\xi_{3},t \\right )} + \\frac{\\Phi_{A} \\Phi_{B}}{2} s_{2} \\frac{\\partial^{2}}{\\partial \\xi_{3}^{2}}  P{\\left (\\xi_{1},\\xi_{2},\\xi_{3},t \\right )} + \\frac{\\Phi_{A} \\Phi_{B} s_{1}}{4 V} \\frac{\\partial^{4}}{\\partial \\xi_{2}^{2}\\partial \\xi_{3}^{2}}  P{\\left (\\xi_{1},\\xi_{2},\\xi_{3},t \\right )} + \\frac{\\Phi_{A} \\Phi_{B} s_{2}}{4 V} \\frac{\\partial^{4}}{\\partial \\xi_{1}^{2}\\partial \\xi_{3}^{2}}  P{\\left (\\xi_{1},\\xi_{2},\\xi_{3},t \\right )} - \\frac{\\Phi_{A} \\Phi_{B} s_{1}}{2 \\sqrt{V}} \\frac{\\partial^{3}}{\\partial \\xi_{2}^{2}\\partial \\xi_{3}}  P{\\left (\\xi_{1},\\xi_{2},\\xi_{3},t \\right )} + \\frac{\\Phi_{A} \\Phi_{B} s_{1}}{2 \\sqrt{V}} \\frac{\\partial^{3}}{\\partial \\xi_{2}\\partial \\xi_{3}^{2}}  P{\\left (\\xi_{1},\\xi_{2},\\xi_{3},t \\right )} - \\frac{\\Phi_{A} \\Phi_{B} s_{2}}{2 \\sqrt{V}} \\frac{\\partial^{3}}{\\partial \\xi_{1}^{2}\\partial \\xi_{3}}  P{\\left (\\xi_{1},\\xi_{2},\\xi_{3},t \\right )} + \\frac{\\Phi_{A} \\Phi_{B} s_{2}}{2 \\sqrt{V}} \\frac{\\partial^{3}}{\\partial \\xi_{1}\\partial \\xi_{3}^{2}}  P{\\left (\\xi_{1},\\xi_{2},\\xi_{3},t \\right )} - \\Phi_{A} \\Phi_{C} \\sqrt{V} r_{1} \\frac{\\partial}{\\partial \\xi_{1}} P{\\left (\\xi_{1},\\xi_{2},\\xi_{3},t \\right )} + \\Phi_{A} \\Phi_{C} \\sqrt{V} r_{1} \\frac{\\partial}{\\partial \\xi_{3}} P{\\left (\\xi_{1},\\xi_{2},\\xi_{3},t \\right )} + \\frac{\\Phi_{A} \\Phi_{C}}{2} r_{1} \\frac{\\partial^{2}}{\\partial \\xi_{1}^{2}}  P{\\left (\\xi_{1},\\xi_{2},\\xi_{3},t \\right )} - \\Phi_{A} \\Phi_{C} r_{1} \\frac{\\partial^{2}}{\\partial \\xi_{1}\\partial \\xi_{3}}  P{\\left (\\xi_{1},\\xi_{2},\\xi_{3},t \\right )} + \\frac{\\Phi_{A} \\Phi_{C}}{2} r_{1} \\frac{\\partial^{2}}{\\partial \\xi_{3}^{2}}  P{\\left (\\xi_{1},\\xi_{2},\\xi_{3},t \\right )} + \\frac{\\Phi_{A} \\Phi_{C} r_{1}}{4 V} \\frac{\\partial^{4}}{\\partial \\xi_{1}^{2}\\partial \\xi_{3}^{2}}  P{\\left (\\xi_{1},\\xi_{2},\\xi_{3},t \\right )} + \\frac{\\Phi_{A} \\Phi_{C} r_{1}}{2 \\sqrt{V}} \\frac{\\partial^{3}}{\\partial \\xi_{1}^{2}\\partial \\xi_{3}}  P{\\left (\\xi_{1},\\xi_{2},\\xi_{3},t \\right )} - \\frac{\\Phi_{A} \\Phi_{C} r_{1}}{2 \\sqrt{V}} \\frac{\\partial^{3}}{\\partial \\xi_{1}\\partial \\xi_{3}^{2}}  P{\\left (\\xi_{1},\\xi_{2},\\xi_{3},t \\right )} + \\Phi_{A} \\sqrt{V} a_{1} \\frac{\\partial}{\\partial \\xi_{1}} P{\\left (\\xi_{1},\\xi_{2},\\xi_{3},t \\right )} - \\Phi_{A} \\sqrt{V} a_{1} \\frac{\\partial}{\\partial \\xi_{3}} P{\\left (\\xi_{1},\\xi_{2},\\xi_{3},t \\right )} + \\frac{\\Phi_{A} a_{1}}{2} \\frac{\\partial^{2}}{\\partial \\xi_{1}^{2}}  P{\\left (\\xi_{1},\\xi_{2},\\xi_{3},t \\right )} - \\Phi_{A} a_{1} \\frac{\\partial^{2}}{\\partial \\xi_{1}\\partial \\xi_{3}}  P{\\left (\\xi_{1},\\xi_{2},\\xi_{3},t \\right )} + \\frac{\\Phi_{A} a_{1}}{2} \\frac{\\partial^{2}}{\\partial \\xi_{3}^{2}}  P{\\left (\\xi_{1},\\xi_{2},\\xi_{3},t \\right )} - \\Phi_{A} r_{1} \\xi_{3} \\frac{\\partial}{\\partial \\xi_{1}} P{\\left (\\xi_{1},\\xi_{2},\\xi_{3},t \\right )} + \\Phi_{A} r_{1} \\xi_{3} \\frac{\\partial}{\\partial \\xi_{3}} P{\\left (\\xi_{1},\\xi_{2},\\xi_{3},t \\right )} + \\Phi_{A} r_{1} P{\\left (\\xi_{1},\\xi_{2},\\xi_{3},t \\right )} + \\Phi_{A} s_{1} \\xi_{2} \\frac{\\partial}{\\partial \\xi_{2}} P{\\left (\\xi_{1},\\xi_{2},\\xi_{3},t \\right )} - \\Phi_{A} s_{1} \\xi_{2} \\frac{\\partial}{\\partial \\xi_{3}} P{\\left (\\xi_{1},\\xi_{2},\\xi_{3},t \\right )} + \\Phi_{A} s_{1} P{\\left (\\xi_{1},\\xi_{2},\\xi_{3},t \\right )} + \\Phi_{A} s_{2} \\xi_{2} \\frac{\\partial}{\\partial \\xi_{1}} P{\\left (\\xi_{1},\\xi_{2},\\xi_{3},t \\right )} - \\Phi_{A} s_{2} \\xi_{2} \\frac{\\partial}{\\partial \\xi_{3}} P{\\left (\\xi_{1},\\xi_{2},\\xi_{3},t \\right )} + \\frac{\\Phi_{A} a_{1}}{4 V} \\frac{\\partial^{4}}{\\partial \\xi_{1}^{2}\\partial \\xi_{3}^{2}}  P{\\left (\\xi_{1},\\xi_{2},\\xi_{3},t \\right )} + \\frac{\\Phi_{A} r_{1} \\xi_{3}}{2 V} \\frac{\\partial^{3}}{\\partial \\xi_{1}^{2}\\partial \\xi_{3}}  P{\\left (\\xi_{1},\\xi_{2},\\xi_{3},t \\right )} - \\frac{\\Phi_{A} r_{1} \\xi_{3}}{2 V} \\frac{\\partial^{3}}{\\partial \\xi_{1}\\partial \\xi_{3}^{2}}  P{\\left (\\xi_{1},\\xi_{2},\\xi_{3},t \\right )} + \\frac{\\Phi_{A} r_{1}}{2 V} \\frac{\\partial^{2}}{\\partial \\xi_{1}^{2}}  P{\\left (\\xi_{1},\\xi_{2},\\xi_{3},t \\right )} - \\frac{\\Phi_{A} r_{1}}{V} \\frac{\\partial^{2}}{\\partial \\xi_{1}\\partial \\xi_{3}}  P{\\left (\\xi_{1},\\xi_{2},\\xi_{3},t \\right )} - \\frac{\\Phi_{A} s_{1} \\xi_{2}}{2 V} \\frac{\\partial^{3}}{\\partial \\xi_{2}^{2}\\partial \\xi_{3}}  P{\\left (\\xi_{1},\\xi_{2},\\xi_{3},t \\right )} + \\frac{\\Phi_{A} s_{1} \\xi_{2}}{2 V} \\frac{\\partial^{3}}{\\partial \\xi_{2}\\partial \\xi_{3}^{2}}  P{\\left (\\xi_{1},\\xi_{2},\\xi_{3},t \\right )} - \\frac{\\Phi_{A} s_{1}}{V} \\frac{\\partial^{2}}{\\partial \\xi_{2}\\partial \\xi_{3}}  P{\\left (\\xi_{1},\\xi_{2},\\xi_{3},t \\right )} + \\frac{\\Phi_{A} s_{1}}{2 V} \\frac{\\partial^{2}}{\\partial \\xi_{3}^{2}}  P{\\left (\\xi_{1},\\xi_{2},\\xi_{3},t \\right )} - \\frac{\\Phi_{A} s_{2} \\xi_{2}}{2 V} \\frac{\\partial^{3}}{\\partial \\xi_{1}^{2}\\partial \\xi_{3}}  P{\\left (\\xi_{1},\\xi_{2},\\xi_{3},t \\right )} + \\frac{\\Phi_{A} s_{2} \\xi_{2}}{2 V} \\frac{\\partial^{3}}{\\partial \\xi_{1}\\partial \\xi_{3}^{2}}  P{\\left (\\xi_{1},\\xi_{2},\\xi_{3},t \\right )} - \\frac{\\Phi_{A} a_{1}}{2 \\sqrt{V}} \\frac{\\partial^{3}}{\\partial \\xi_{1}^{2}\\partial \\xi_{3}}  P{\\left (\\xi_{1},\\xi_{2},\\xi_{3},t \\right )} + \\frac{\\Phi_{A} a_{1}}{2 \\sqrt{V}} \\frac{\\partial^{3}}{\\partial \\xi_{1}\\partial \\xi_{3}^{2}}  P{\\left (\\xi_{1},\\xi_{2},\\xi_{3},t \\right )} + \\frac{\\Phi_{A} r_{1} \\xi_{3}}{2 \\sqrt{V}} \\frac{\\partial^{2}}{\\partial \\xi_{1}^{2}}  P{\\left (\\xi_{1},\\xi_{2},\\xi_{3},t \\right )} - \\frac{\\Phi_{A} r_{1}}{\\sqrt{V}} \\xi_{3} \\frac{\\partial^{2}}{\\partial \\xi_{1}\\partial \\xi_{3}}  P{\\left (\\xi_{1},\\xi_{2},\\xi_{3},t \\right )} + \\frac{\\Phi_{A} r_{1} \\xi_{3}}{2 \\sqrt{V}} \\frac{\\partial^{2}}{\\partial \\xi_{3}^{2}}  P{\\left (\\xi_{1},\\xi_{2},\\xi_{3},t \\right )} - \\frac{\\Phi_{A} r_{1}}{\\sqrt{V}} \\frac{\\partial}{\\partial \\xi_{1}} P{\\left (\\xi_{1},\\xi_{2},\\xi_{3},t \\right )} + \\frac{\\Phi_{A} r_{1}}{\\sqrt{V}} \\frac{\\partial}{\\partial \\xi_{3}} P{\\left (\\xi_{1},\\xi_{2},\\xi_{3},t \\right )} + \\frac{\\Phi_{A} s_{1} \\xi_{2}}{2 \\sqrt{V}} \\frac{\\partial^{2}}{\\partial \\xi_{2}^{2}}  P{\\left (\\xi_{1},\\xi_{2},\\xi_{3},t \\right )} - \\frac{\\Phi_{A} s_{1}}{\\sqrt{V}} \\xi_{2} \\frac{\\partial^{2}}{\\partial \\xi_{2}\\partial \\xi_{3}}  P{\\left (\\xi_{1},\\xi_{2},\\xi_{3},t \\right )} + \\frac{\\Phi_{A} s_{1} \\xi_{2}}{2 \\sqrt{V}} \\frac{\\partial^{2}}{\\partial \\xi_{3}^{2}}  P{\\left (\\xi_{1},\\xi_{2},\\xi_{3},t \\right )} + \\frac{\\Phi_{A} s_{1}}{\\sqrt{V}} \\frac{\\partial}{\\partial \\xi_{2}} P{\\left (\\xi_{1},\\xi_{2},\\xi_{3},t \\right )} - \\frac{\\Phi_{A} s_{1}}{\\sqrt{V}} \\frac{\\partial}{\\partial \\xi_{3}} P{\\left (\\xi_{1},\\xi_{2},\\xi_{3},t \\right )} + \\frac{\\Phi_{A} s_{2} \\xi_{2}}{2 \\sqrt{V}} \\frac{\\partial^{2}}{\\partial \\xi_{1}^{2}}  P{\\left (\\xi_{1},\\xi_{2},\\xi_{3},t \\right )} - \\frac{\\Phi_{A} s_{2}}{\\sqrt{V}} \\xi_{2} \\frac{\\partial^{2}}{\\partial \\xi_{1}\\partial \\xi_{3}}  P{\\left (\\xi_{1},\\xi_{2},\\xi_{3},t \\right )} + \\frac{\\Phi_{A} s_{2} \\xi_{2}}{2 \\sqrt{V}} \\frac{\\partial^{2}}{\\partial \\xi_{3}^{2}}  P{\\left (\\xi_{1},\\xi_{2},\\xi_{3},t \\right )} + \\frac{\\Phi_{A} r_{1} \\xi_{3}}{4 V^{\\frac{3}{2}}} \\frac{\\partial^{4}}{\\partial \\xi_{1}^{2}\\partial \\xi_{3}^{2}}  P{\\left (\\xi_{1},\\xi_{2},\\xi_{3},t \\right )} + \\frac{\\Phi_{A} r_{1}}{2 V^{\\frac{3}{2}}} \\frac{\\partial^{3}}{\\partial \\xi_{1}^{2}\\partial \\xi_{3}}  P{\\left (\\xi_{1},\\xi_{2},\\xi_{3},t \\right )} + \\frac{\\Phi_{A} s_{1} \\xi_{2}}{4 V^{\\frac{3}{2}}} \\frac{\\partial^{4}}{\\partial \\xi_{2}^{2}\\partial \\xi_{3}^{2}}  P{\\left (\\xi_{1},\\xi_{2},\\xi_{3},t \\right )} + \\frac{\\Phi_{A} s_{1}}{2 V^{\\frac{3}{2}}} \\frac{\\partial^{3}}{\\partial \\xi_{2}\\partial \\xi_{3}^{2}}  P{\\left (\\xi_{1},\\xi_{2},\\xi_{3},t \\right )} + \\frac{\\Phi_{A} s_{2} \\xi_{2}}{4 V^{\\frac{3}{2}}} \\frac{\\partial^{4}}{\\partial \\xi_{1}^{2}\\partial \\xi_{3}^{2}}  P{\\left (\\xi_{1},\\xi_{2},\\xi_{3},t \\right )} - \\Phi_{B} \\Phi_{C} \\sqrt{V} r_{2} \\frac{\\partial}{\\partial \\xi_{2}} P{\\left (\\xi_{1},\\xi_{2},\\xi_{3},t \\right )} + \\Phi_{B} \\Phi_{C} \\sqrt{V} r_{2} \\frac{\\partial}{\\partial \\xi_{3}} P{\\left (\\xi_{1},\\xi_{2},\\xi_{3},t \\right )} + \\frac{\\Phi_{B} \\Phi_{C}}{2} r_{2} \\frac{\\partial^{2}}{\\partial \\xi_{2}^{2}}  P{\\left (\\xi_{1},\\xi_{2},\\xi_{3},t \\right )} - \\Phi_{B} \\Phi_{C} r_{2} \\frac{\\partial^{2}}{\\partial \\xi_{2}\\partial \\xi_{3}}  P{\\left (\\xi_{1},\\xi_{2},\\xi_{3},t \\right )} + \\frac{\\Phi_{B} \\Phi_{C}}{2} r_{2} \\frac{\\partial^{2}}{\\partial \\xi_{3}^{2}}  P{\\left (\\xi_{1},\\xi_{2},\\xi_{3},t \\right )} + \\frac{\\Phi_{B} \\Phi_{C} r_{2}}{4 V} \\frac{\\partial^{4}}{\\partial \\xi_{2}^{2}\\partial \\xi_{3}^{2}}  P{\\left (\\xi_{1},\\xi_{2},\\xi_{3},t \\right )} + \\frac{\\Phi_{B} \\Phi_{C} r_{2}}{2 \\sqrt{V}} \\frac{\\partial^{3}}{\\partial \\xi_{2}^{2}\\partial \\xi_{3}}  P{\\left (\\xi_{1},\\xi_{2},\\xi_{3},t \\right )} - \\frac{\\Phi_{B} \\Phi_{C} r_{2}}{2 \\sqrt{V}} \\frac{\\partial^{3}}{\\partial \\xi_{2}\\partial \\xi_{3}^{2}}  P{\\left (\\xi_{1},\\xi_{2},\\xi_{3},t \\right )} + \\Phi_{B} \\sqrt{V} a_{2} \\frac{\\partial}{\\partial \\xi_{2}} P{\\left (\\xi_{1},\\xi_{2},\\xi_{3},t \\right )} - \\Phi_{B} \\sqrt{V} a_{2} \\frac{\\partial}{\\partial \\xi_{3}} P{\\left (\\xi_{1},\\xi_{2},\\xi_{3},t \\right )} + \\frac{\\Phi_{B} a_{2}}{2} \\frac{\\partial^{2}}{\\partial \\xi_{2}^{2}}  P{\\left (\\xi_{1},\\xi_{2},\\xi_{3},t \\right )} - \\Phi_{B} a_{2} \\frac{\\partial^{2}}{\\partial \\xi_{2}\\partial \\xi_{3}}  P{\\left (\\xi_{1},\\xi_{2},\\xi_{3},t \\right )} + \\frac{\\Phi_{B} a_{2}}{2} \\frac{\\partial^{2}}{\\partial \\xi_{3}^{2}}  P{\\left (\\xi_{1},\\xi_{2},\\xi_{3},t \\right )} - \\Phi_{B} r_{2} \\xi_{3} \\frac{\\partial}{\\partial \\xi_{2}} P{\\left (\\xi_{1},\\xi_{2},\\xi_{3},t \\right )} + \\Phi_{B} r_{2} \\xi_{3} \\frac{\\partial}{\\partial \\xi_{3}} P{\\left (\\xi_{1},\\xi_{2},\\xi_{3},t \\right )} + \\Phi_{B} r_{2} P{\\left (\\xi_{1},\\xi_{2},\\xi_{3},t \\right )} + \\Phi_{B} s_{1} \\xi_{1} \\frac{\\partial}{\\partial \\xi_{2}} P{\\left (\\xi_{1},\\xi_{2},\\xi_{3},t \\right )} - \\Phi_{B} s_{1} \\xi_{1} \\frac{\\partial}{\\partial \\xi_{3}} P{\\left (\\xi_{1},\\xi_{2},\\xi_{3},t \\right )} + \\Phi_{B} s_{2} \\xi_{1} \\frac{\\partial}{\\partial \\xi_{1}} P{\\left (\\xi_{1},\\xi_{2},\\xi_{3},t \\right )} - \\Phi_{B} s_{2} \\xi_{1} \\frac{\\partial}{\\partial \\xi_{3}} P{\\left (\\xi_{1},\\xi_{2},\\xi_{3},t \\right )} + \\Phi_{B} s_{2} P{\\left (\\xi_{1},\\xi_{2},\\xi_{3},t \\right )} + \\frac{\\Phi_{B} a_{2}}{4 V} \\frac{\\partial^{4}}{\\partial \\xi_{2}^{2}\\partial \\xi_{3}^{2}}  P{\\left (\\xi_{1},\\xi_{2},\\xi_{3},t \\right )} + \\frac{\\Phi_{B} r_{2} \\xi_{3}}{2 V} \\frac{\\partial^{3}}{\\partial \\xi_{2}^{2}\\partial \\xi_{3}}  P{\\left (\\xi_{1},\\xi_{2},\\xi_{3},t \\right )} - \\frac{\\Phi_{B} r_{2} \\xi_{3}}{2 V} \\frac{\\partial^{3}}{\\partial \\xi_{2}\\partial \\xi_{3}^{2}}  P{\\left (\\xi_{1},\\xi_{2},\\xi_{3},t \\right )} + \\frac{\\Phi_{B} r_{2}}{2 V} \\frac{\\partial^{2}}{\\partial \\xi_{2}^{2}}  P{\\left (\\xi_{1},\\xi_{2},\\xi_{3},t \\right )} - \\frac{\\Phi_{B} r_{2}}{V} \\frac{\\partial^{2}}{\\partial \\xi_{2}\\partial \\xi_{3}}  P{\\left (\\xi_{1},\\xi_{2},\\xi_{3},t \\right )} - \\frac{\\Phi_{B} s_{1} \\xi_{1}}{2 V} \\frac{\\partial^{3}}{\\partial \\xi_{2}^{2}\\partial \\xi_{3}}  P{\\left (\\xi_{1},\\xi_{2},\\xi_{3},t \\right )} + \\frac{\\Phi_{B} s_{1} \\xi_{1}}{2 V} \\frac{\\partial^{3}}{\\partial \\xi_{2}\\partial \\xi_{3}^{2}}  P{\\left (\\xi_{1},\\xi_{2},\\xi_{3},t \\right )} - \\frac{\\Phi_{B} s_{2} \\xi_{1}}{2 V} \\frac{\\partial^{3}}{\\partial \\xi_{1}^{2}\\partial \\xi_{3}}  P{\\left (\\xi_{1},\\xi_{2},\\xi_{3},t \\right )} + \\frac{\\Phi_{B} s_{2} \\xi_{1}}{2 V} \\frac{\\partial^{3}}{\\partial \\xi_{1}\\partial \\xi_{3}^{2}}  P{\\left (\\xi_{1},\\xi_{2},\\xi_{3},t \\right )} - \\frac{\\Phi_{B} s_{2}}{V} \\frac{\\partial^{2}}{\\partial \\xi_{1}\\partial \\xi_{3}}  P{\\left (\\xi_{1},\\xi_{2},\\xi_{3},t \\right )} + \\frac{\\Phi_{B} s_{2}}{2 V} \\frac{\\partial^{2}}{\\partial \\xi_{3}^{2}}  P{\\left (\\xi_{1},\\xi_{2},\\xi_{3},t \\right )} - \\frac{\\Phi_{B} a_{2}}{2 \\sqrt{V}} \\frac{\\partial^{3}}{\\partial \\xi_{2}^{2}\\partial \\xi_{3}}  P{\\left (\\xi_{1},\\xi_{2},\\xi_{3},t \\right )} + \\frac{\\Phi_{B} a_{2}}{2 \\sqrt{V}} \\frac{\\partial^{3}}{\\partial \\xi_{2}\\partial \\xi_{3}^{2}}  P{\\left (\\xi_{1},\\xi_{2},\\xi_{3},t \\right )} + \\frac{\\Phi_{B} r_{2} \\xi_{3}}{2 \\sqrt{V}} \\frac{\\partial^{2}}{\\partial \\xi_{2}^{2}}  P{\\left (\\xi_{1},\\xi_{2},\\xi_{3},t \\right )} - \\frac{\\Phi_{B} r_{2}}{\\sqrt{V}} \\xi_{3} \\frac{\\partial^{2}}{\\partial \\xi_{2}\\partial \\xi_{3}}  P{\\left (\\xi_{1},\\xi_{2},\\xi_{3},t \\right )} + \\frac{\\Phi_{B} r_{2} \\xi_{3}}{2 \\sqrt{V}} \\frac{\\partial^{2}}{\\partial \\xi_{3}^{2}}  P{\\left (\\xi_{1},\\xi_{2},\\xi_{3},t \\right )} - \\frac{\\Phi_{B} r_{2}}{\\sqrt{V}} \\frac{\\partial}{\\partial \\xi_{2}} P{\\left (\\xi_{1},\\xi_{2},\\xi_{3},t \\right )} + \\frac{\\Phi_{B} r_{2}}{\\sqrt{V}} \\frac{\\partial}{\\partial \\xi_{3}} P{\\left (\\xi_{1},\\xi_{2},\\xi_{3},t \\right )} + \\frac{\\Phi_{B} s_{1} \\xi_{1}}{2 \\sqrt{V}} \\frac{\\partial^{2}}{\\partial \\xi_{2}^{2}}  P{\\left (\\xi_{1},\\xi_{2},\\xi_{3},t \\right )} - \\frac{\\Phi_{B} s_{1}}{\\sqrt{V}} \\xi_{1} \\frac{\\partial^{2}}{\\partial \\xi_{2}\\partial \\xi_{3}}  P{\\left (\\xi_{1},\\xi_{2},\\xi_{3},t \\right )} + \\frac{\\Phi_{B} s_{1} \\xi_{1}}{2 \\sqrt{V}} \\frac{\\partial^{2}}{\\partial \\xi_{3}^{2}}  P{\\left (\\xi_{1},\\xi_{2},\\xi_{3},t \\right )} + \\frac{\\Phi_{B} s_{2} \\xi_{1}}{2 \\sqrt{V}} \\frac{\\partial^{2}}{\\partial \\xi_{1}^{2}}  P{\\left (\\xi_{1},\\xi_{2},\\xi_{3},t \\right )} - \\frac{\\Phi_{B} s_{2}}{\\sqrt{V}} \\xi_{1} \\frac{\\partial^{2}}{\\partial \\xi_{1}\\partial \\xi_{3}}  P{\\left (\\xi_{1},\\xi_{2},\\xi_{3},t \\right )} + \\frac{\\Phi_{B} s_{2} \\xi_{1}}{2 \\sqrt{V}} \\frac{\\partial^{2}}{\\partial \\xi_{3}^{2}}  P{\\left (\\xi_{1},\\xi_{2},\\xi_{3},t \\right )} + \\frac{\\Phi_{B} s_{2}}{\\sqrt{V}} \\frac{\\partial}{\\partial \\xi_{1}} P{\\left (\\xi_{1},\\xi_{2},\\xi_{3},t \\right )} - \\frac{\\Phi_{B} s_{2}}{\\sqrt{V}} \\frac{\\partial}{\\partial \\xi_{3}} P{\\left (\\xi_{1},\\xi_{2},\\xi_{3},t \\right )} + \\frac{\\Phi_{B} r_{2} \\xi_{3}}{4 V^{\\frac{3}{2}}} \\frac{\\partial^{4}}{\\partial \\xi_{2}^{2}\\partial \\xi_{3}^{2}}  P{\\left (\\xi_{1},\\xi_{2},\\xi_{3},t \\right )} + \\frac{\\Phi_{B} r_{2}}{2 V^{\\frac{3}{2}}} \\frac{\\partial^{3}}{\\partial \\xi_{2}^{2}\\partial \\xi_{3}}  P{\\left (\\xi_{1},\\xi_{2},\\xi_{3},t \\right )} + \\frac{\\Phi_{B} s_{1} \\xi_{1}}{4 V^{\\frac{3}{2}}} \\frac{\\partial^{4}}{\\partial \\xi_{2}^{2}\\partial \\xi_{3}^{2}}  P{\\left (\\xi_{1},\\xi_{2},\\xi_{3},t \\right )} + \\frac{\\Phi_{B} s_{2} \\xi_{1}}{4 V^{\\frac{3}{2}}} \\frac{\\partial^{4}}{\\partial \\xi_{1}^{2}\\partial \\xi_{3}^{2}}  P{\\left (\\xi_{1},\\xi_{2},\\xi_{3},t \\right )} + \\frac{\\Phi_{B} s_{2}}{2 V^{\\frac{3}{2}}} \\frac{\\partial^{3}}{\\partial \\xi_{1}\\partial \\xi_{3}^{2}}  P{\\left (\\xi_{1},\\xi_{2},\\xi_{3},t \\right )} - \\Phi_{C} \\sqrt{V} g_{1} \\frac{\\partial}{\\partial \\xi_{1}} P{\\left (\\xi_{1},\\xi_{2},\\xi_{3},t \\right )} + \\Phi_{C} \\sqrt{V} g_{1} \\frac{\\partial}{\\partial \\xi_{3}} P{\\left (\\xi_{1},\\xi_{2},\\xi_{3},t \\right )} - \\Phi_{C} \\sqrt{V} g_{2} \\frac{\\partial}{\\partial \\xi_{2}} P{\\left (\\xi_{1},\\xi_{2},\\xi_{3},t \\right )} + \\Phi_{C} \\sqrt{V} g_{2} \\frac{\\partial}{\\partial \\xi_{3}} P{\\left (\\xi_{1},\\xi_{2},\\xi_{3},t \\right )} + \\frac{\\Phi_{C} g_{1}}{2} \\frac{\\partial^{2}}{\\partial \\xi_{1}^{2}}  P{\\left (\\xi_{1},\\xi_{2},\\xi_{3},t \\right )} - \\Phi_{C} g_{1} \\frac{\\partial^{2}}{\\partial \\xi_{1}\\partial \\xi_{3}}  P{\\left (\\xi_{1},\\xi_{2},\\xi_{3},t \\right )} + \\frac{\\Phi_{C} g_{1}}{2} \\frac{\\partial^{2}}{\\partial \\xi_{3}^{2}}  P{\\left (\\xi_{1},\\xi_{2},\\xi_{3},t \\right )} + \\frac{\\Phi_{C} g_{2}}{2} \\frac{\\partial^{2}}{\\partial \\xi_{2}^{2}}  P{\\left (\\xi_{1},\\xi_{2},\\xi_{3},t \\right )} - \\Phi_{C} g_{2} \\frac{\\partial^{2}}{\\partial \\xi_{2}\\partial \\xi_{3}}  P{\\left (\\xi_{1},\\xi_{2},\\xi_{3},t \\right )} + \\frac{\\Phi_{C} g_{2}}{2} \\frac{\\partial^{2}}{\\partial \\xi_{3}^{2}}  P{\\left (\\xi_{1},\\xi_{2},\\xi_{3},t \\right )} - \\Phi_{C} r_{1} \\xi_{1} \\frac{\\partial}{\\partial \\xi_{1}} P{\\left (\\xi_{1},\\xi_{2},\\xi_{3},t \\right )} + \\Phi_{C} r_{1} \\xi_{1} \\frac{\\partial}{\\partial \\xi_{3}} P{\\left (\\xi_{1},\\xi_{2},\\xi_{3},t \\right )} - \\Phi_{C} r_{1} P{\\left (\\xi_{1},\\xi_{2},\\xi_{3},t \\right )} - \\Phi_{C} r_{2} \\xi_{2} \\frac{\\partial}{\\partial \\xi_{2}} P{\\left (\\xi_{1},\\xi_{2},\\xi_{3},t \\right )} + \\Phi_{C} r_{2} \\xi_{2} \\frac{\\partial}{\\partial \\xi_{3}} P{\\left (\\xi_{1},\\xi_{2},\\xi_{3},t \\right )} - \\Phi_{C} r_{2} P{\\left (\\xi_{1},\\xi_{2},\\xi_{3},t \\right )} + \\frac{\\Phi_{C} g_{1}}{4 V} \\frac{\\partial^{4}}{\\partial \\xi_{1}^{2}\\partial \\xi_{3}^{2}}  P{\\left (\\xi_{1},\\xi_{2},\\xi_{3},t \\right )} + \\frac{\\Phi_{C} g_{2}}{4 V} \\frac{\\partial^{4}}{\\partial \\xi_{2}^{2}\\partial \\xi_{3}^{2}}  P{\\left (\\xi_{1},\\xi_{2},\\xi_{3},t \\right )} + \\frac{\\Phi_{C} r_{1} \\xi_{1}}{2 V} \\frac{\\partial^{3}}{\\partial \\xi_{1}^{2}\\partial \\xi_{3}}  P{\\left (\\xi_{1},\\xi_{2},\\xi_{3},t \\right )} - \\frac{\\Phi_{C} r_{1} \\xi_{1}}{2 V} \\frac{\\partial^{3}}{\\partial \\xi_{1}\\partial \\xi_{3}^{2}}  P{\\left (\\xi_{1},\\xi_{2},\\xi_{3},t \\right )} + \\frac{\\Phi_{C} r_{1}}{V} \\frac{\\partial^{2}}{\\partial \\xi_{1}\\partial \\xi_{3}}  P{\\left (\\xi_{1},\\xi_{2},\\xi_{3},t \\right )} - \\frac{\\Phi_{C} r_{1}}{2 V} \\frac{\\partial^{2}}{\\partial \\xi_{3}^{2}}  P{\\left (\\xi_{1},\\xi_{2},\\xi_{3},t \\right )} + \\frac{\\Phi_{C} r_{2} \\xi_{2}}{2 V} \\frac{\\partial^{3}}{\\partial \\xi_{2}^{2}\\partial \\xi_{3}}  P{\\left (\\xi_{1},\\xi_{2},\\xi_{3},t \\right )} - \\frac{\\Phi_{C} r_{2} \\xi_{2}}{2 V} \\frac{\\partial^{3}}{\\partial \\xi_{2}\\partial \\xi_{3}^{2}}  P{\\left (\\xi_{1},\\xi_{2},\\xi_{3},t \\right )} + \\frac{\\Phi_{C} r_{2}}{V} \\frac{\\partial^{2}}{\\partial \\xi_{2}\\partial \\xi_{3}}  P{\\left (\\xi_{1},\\xi_{2},\\xi_{3},t \\right )} - \\frac{\\Phi_{C} r_{2}}{2 V} \\frac{\\partial^{2}}{\\partial \\xi_{3}^{2}}  P{\\left (\\xi_{1},\\xi_{2},\\xi_{3},t \\right )} + \\frac{\\Phi_{C} g_{1}}{2 \\sqrt{V}} \\frac{\\partial^{3}}{\\partial \\xi_{1}^{2}\\partial \\xi_{3}}  P{\\left (\\xi_{1},\\xi_{2},\\xi_{3},t \\right )} - \\frac{\\Phi_{C} g_{1}}{2 \\sqrt{V}} \\frac{\\partial^{3}}{\\partial \\xi_{1}\\partial \\xi_{3}^{2}}  P{\\left (\\xi_{1},\\xi_{2},\\xi_{3},t \\right )} + \\frac{\\Phi_{C} g_{2}}{2 \\sqrt{V}} \\frac{\\partial^{3}}{\\partial \\xi_{2}^{2}\\partial \\xi_{3}}  P{\\left (\\xi_{1},\\xi_{2},\\xi_{3},t \\right )} - \\frac{\\Phi_{C} g_{2}}{2 \\sqrt{V}} \\frac{\\partial^{3}}{\\partial \\xi_{2}\\partial \\xi_{3}^{2}}  P{\\left (\\xi_{1},\\xi_{2},\\xi_{3},t \\right )} + \\frac{\\Phi_{C} r_{1} \\xi_{1}}{2 \\sqrt{V}} \\frac{\\partial^{2}}{\\partial \\xi_{1}^{2}}  P{\\left (\\xi_{1},\\xi_{2},\\xi_{3},t \\right )} - \\frac{\\Phi_{C} r_{1}}{\\sqrt{V}} \\xi_{1} \\frac{\\partial^{2}}{\\partial \\xi_{1}\\partial \\xi_{3}}  P{\\left (\\xi_{1},\\xi_{2},\\xi_{3},t \\right )} + \\frac{\\Phi_{C} r_{1} \\xi_{1}}{2 \\sqrt{V}} \\frac{\\partial^{2}}{\\partial \\xi_{3}^{2}}  P{\\left (\\xi_{1},\\xi_{2},\\xi_{3},t \\right )} + \\frac{\\Phi_{C} r_{1}}{\\sqrt{V}} \\frac{\\partial}{\\partial \\xi_{1}} P{\\left (\\xi_{1},\\xi_{2},\\xi_{3},t \\right )} - \\frac{\\Phi_{C} r_{1}}{\\sqrt{V}} \\frac{\\partial}{\\partial \\xi_{3}} P{\\left (\\xi_{1},\\xi_{2},\\xi_{3},t \\right )} + \\frac{\\Phi_{C} r_{2} \\xi_{2}}{2 \\sqrt{V}} \\frac{\\partial^{2}}{\\partial \\xi_{2}^{2}}  P{\\left (\\xi_{1},\\xi_{2},\\xi_{3},t \\right )} - \\frac{\\Phi_{C} r_{2}}{\\sqrt{V}} \\xi_{2} \\frac{\\partial^{2}}{\\partial \\xi_{2}\\partial \\xi_{3}}  P{\\left (\\xi_{1},\\xi_{2},\\xi_{3},t \\right )} + \\frac{\\Phi_{C} r_{2} \\xi_{2}}{2 \\sqrt{V}} \\frac{\\partial^{2}}{\\partial \\xi_{3}^{2}}  P{\\left (\\xi_{1},\\xi_{2},\\xi_{3},t \\right )} + \\frac{\\Phi_{C} r_{2}}{\\sqrt{V}} \\frac{\\partial}{\\partial \\xi_{2}} P{\\left (\\xi_{1},\\xi_{2},\\xi_{3},t \\right )} - \\frac{\\Phi_{C} r_{2}}{\\sqrt{V}} \\frac{\\partial}{\\partial \\xi_{3}} P{\\left (\\xi_{1},\\xi_{2},\\xi_{3},t \\right )} + \\frac{\\Phi_{C} r_{1} \\xi_{1}}{4 V^{\\frac{3}{2}}} \\frac{\\partial^{4}}{\\partial \\xi_{1}^{2}\\partial \\xi_{3}^{2}}  P{\\left (\\xi_{1},\\xi_{2},\\xi_{3},t \\right )} + \\frac{\\Phi_{C} r_{1}}{2 V^{\\frac{3}{2}}} \\frac{\\partial^{3}}{\\partial \\xi_{1}\\partial \\xi_{3}^{2}}  P{\\left (\\xi_{1},\\xi_{2},\\xi_{3},t \\right )} + \\frac{\\Phi_{C} r_{2} \\xi_{2}}{4 V^{\\frac{3}{2}}} \\frac{\\partial^{4}}{\\partial \\xi_{2}^{2}\\partial \\xi_{3}^{2}}  P{\\left (\\xi_{1},\\xi_{2},\\xi_{3},t \\right )} + \\frac{\\Phi_{C} r_{2}}{2 V^{\\frac{3}{2}}} \\frac{\\partial^{3}}{\\partial \\xi_{2}\\partial \\xi_{3}^{2}}  P{\\left (\\xi_{1},\\xi_{2},\\xi_{3},t \\right )} + a_{1} \\xi_{1} \\frac{\\partial}{\\partial \\xi_{1}} P{\\left (\\xi_{1},\\xi_{2},\\xi_{3},t \\right )} - a_{1} \\xi_{1} \\frac{\\partial}{\\partial \\xi_{3}} P{\\left (\\xi_{1},\\xi_{2},\\xi_{3},t \\right )} + a_{1} P{\\left (\\xi_{1},\\xi_{2},\\xi_{3},t \\right )} + a_{2} \\xi_{2} \\frac{\\partial}{\\partial \\xi_{2}} P{\\left (\\xi_{1},\\xi_{2},\\xi_{3},t \\right )} - a_{2} \\xi_{2} \\frac{\\partial}{\\partial \\xi_{3}} P{\\left (\\xi_{1},\\xi_{2},\\xi_{3},t \\right )} + a_{2} P{\\left (\\xi_{1},\\xi_{2},\\xi_{3},t \\right )} - g_{1} \\xi_{3} \\frac{\\partial}{\\partial \\xi_{1}} P{\\left (\\xi_{1},\\xi_{2},\\xi_{3},t \\right )} + g_{1} \\xi_{3} \\frac{\\partial}{\\partial \\xi_{3}} P{\\left (\\xi_{1},\\xi_{2},\\xi_{3},t \\right )} + g_{1} P{\\left (\\xi_{1},\\xi_{2},\\xi_{3},t \\right )} - g_{2} \\xi_{3} \\frac{\\partial}{\\partial \\xi_{2}} P{\\left (\\xi_{1},\\xi_{2},\\xi_{3},t \\right )} + g_{2} \\xi_{3} \\frac{\\partial}{\\partial \\xi_{3}} P{\\left (\\xi_{1},\\xi_{2},\\xi_{3},t \\right )} + g_{2} P{\\left (\\xi_{1},\\xi_{2},\\xi_{3},t \\right )} - \\frac{a_{1} \\xi_{1}}{2 V} \\frac{\\partial^{3}}{\\partial \\xi_{1}^{2}\\partial \\xi_{3}}  P{\\left (\\xi_{1},\\xi_{2},\\xi_{3},t \\right )} + \\frac{a_{1} \\xi_{1}}{2 V} \\frac{\\partial^{3}}{\\partial \\xi_{1}\\partial \\xi_{3}^{2}}  P{\\left (\\xi_{1},\\xi_{2},\\xi_{3},t \\right )} - \\frac{a_{1}}{V} \\frac{\\partial^{2}}{\\partial \\xi_{1}\\partial \\xi_{3}}  P{\\left (\\xi_{1},\\xi_{2},\\xi_{3},t \\right )} + \\frac{a_{1}}{2 V} \\frac{\\partial^{2}}{\\partial \\xi_{3}^{2}}  P{\\left (\\xi_{1},\\xi_{2},\\xi_{3},t \\right )} - \\frac{a_{2} \\xi_{2}}{2 V} \\frac{\\partial^{3}}{\\partial \\xi_{2}^{2}\\partial \\xi_{3}}  P{\\left (\\xi_{1},\\xi_{2},\\xi_{3},t \\right )} + \\frac{a_{2} \\xi_{2}}{2 V} \\frac{\\partial^{3}}{\\partial \\xi_{2}\\partial \\xi_{3}^{2}}  P{\\left (\\xi_{1},\\xi_{2},\\xi_{3},t \\right )} - \\frac{a_{2}}{V} \\frac{\\partial^{2}}{\\partial \\xi_{2}\\partial \\xi_{3}}  P{\\left (\\xi_{1},\\xi_{2},\\xi_{3},t \\right )} + \\frac{a_{2}}{2 V} \\frac{\\partial^{2}}{\\partial \\xi_{3}^{2}}  P{\\left (\\xi_{1},\\xi_{2},\\xi_{3},t \\right )} + \\frac{g_{1} \\xi_{3}}{2 V} \\frac{\\partial^{3}}{\\partial \\xi_{1}^{2}\\partial \\xi_{3}}  P{\\left (\\xi_{1},\\xi_{2},\\xi_{3},t \\right )} - \\frac{g_{1} \\xi_{3}}{2 V} \\frac{\\partial^{3}}{\\partial \\xi_{1}\\partial \\xi_{3}^{2}}  P{\\left (\\xi_{1},\\xi_{2},\\xi_{3},t \\right )} + \\frac{g_{1}}{2 V} \\frac{\\partial^{2}}{\\partial \\xi_{1}^{2}}  P{\\left (\\xi_{1},\\xi_{2},\\xi_{3},t \\right )} - \\frac{g_{1}}{V} \\frac{\\partial^{2}}{\\partial \\xi_{1}\\partial \\xi_{3}}  P{\\left (\\xi_{1},\\xi_{2},\\xi_{3},t \\right )} + \\frac{g_{2} \\xi_{3}}{2 V} \\frac{\\partial^{3}}{\\partial \\xi_{2}^{2}\\partial \\xi_{3}}  P{\\left (\\xi_{1},\\xi_{2},\\xi_{3},t \\right )} - \\frac{g_{2} \\xi_{3}}{2 V} \\frac{\\partial^{3}}{\\partial \\xi_{2}\\partial \\xi_{3}^{2}}  P{\\left (\\xi_{1},\\xi_{2},\\xi_{3},t \\right )} + \\frac{g_{2}}{2 V} \\frac{\\partial^{2}}{\\partial \\xi_{2}^{2}}  P{\\left (\\xi_{1},\\xi_{2},\\xi_{3},t \\right )} - \\frac{g_{2}}{V} \\frac{\\partial^{2}}{\\partial \\xi_{2}\\partial \\xi_{3}}  P{\\left (\\xi_{1},\\xi_{2},\\xi_{3},t \\right )} + \\frac{r_{1} \\xi_{1} \\xi_{3}}{2 V} \\frac{\\partial^{2}}{\\partial \\xi_{1}^{2}}  P{\\left (\\xi_{1},\\xi_{2},\\xi_{3},t \\right )} - \\frac{r_{1} \\xi_{1}}{V} \\xi_{3} \\frac{\\partial^{2}}{\\partial \\xi_{1}\\partial \\xi_{3}}  P{\\left (\\xi_{1},\\xi_{2},\\xi_{3},t \\right )} + \\frac{r_{1} \\xi_{1} \\xi_{3}}{2 V} \\frac{\\partial^{2}}{\\partial \\xi_{3}^{2}}  P{\\left (\\xi_{1},\\xi_{2},\\xi_{3},t \\right )} - \\frac{r_{1} \\xi_{1}}{V} \\frac{\\partial}{\\partial \\xi_{1}} P{\\left (\\xi_{1},\\xi_{2},\\xi_{3},t \\right )} + \\frac{r_{1} \\xi_{1}}{V} \\frac{\\partial}{\\partial \\xi_{3}} P{\\left (\\xi_{1},\\xi_{2},\\xi_{3},t \\right )} + \\frac{r_{1} \\xi_{3}}{V} \\frac{\\partial}{\\partial \\xi_{1}} P{\\left (\\xi_{1},\\xi_{2},\\xi_{3},t \\right )} - \\frac{r_{1} \\xi_{3}}{V} \\frac{\\partial}{\\partial \\xi_{3}} P{\\left (\\xi_{1},\\xi_{2},\\xi_{3},t \\right )} - \\frac{r_{1}}{V} P{\\left (\\xi_{1},\\xi_{2},\\xi_{3},t \\right )} + \\frac{r_{2} \\xi_{2} \\xi_{3}}{2 V} \\frac{\\partial^{2}}{\\partial \\xi_{2}^{2}}  P{\\left (\\xi_{1},\\xi_{2},\\xi_{3},t \\right )} - \\frac{r_{2} \\xi_{2}}{V} \\xi_{3} \\frac{\\partial^{2}}{\\partial \\xi_{2}\\partial \\xi_{3}}  P{\\left (\\xi_{1},\\xi_{2},\\xi_{3},t \\right )} + \\frac{r_{2} \\xi_{2} \\xi_{3}}{2 V} \\frac{\\partial^{2}}{\\partial \\xi_{3}^{2}}  P{\\left (\\xi_{1},\\xi_{2},\\xi_{3},t \\right )} - \\frac{r_{2} \\xi_{2}}{V} \\frac{\\partial}{\\partial \\xi_{2}} P{\\left (\\xi_{1},\\xi_{2},\\xi_{3},t \\right )} + \\frac{r_{2} \\xi_{2}}{V} \\frac{\\partial}{\\partial \\xi_{3}} P{\\left (\\xi_{1},\\xi_{2},\\xi_{3},t \\right )} + \\frac{r_{2} \\xi_{3}}{V} \\frac{\\partial}{\\partial \\xi_{2}} P{\\left (\\xi_{1},\\xi_{2},\\xi_{3},t \\right )} - \\frac{r_{2} \\xi_{3}}{V} \\frac{\\partial}{\\partial \\xi_{3}} P{\\left (\\xi_{1},\\xi_{2},\\xi_{3},t \\right )} - \\frac{r_{2}}{V} P{\\left (\\xi_{1},\\xi_{2},\\xi_{3},t \\right )} + \\frac{s_{1} \\xi_{1} \\xi_{2}}{2 V} \\frac{\\partial^{2}}{\\partial \\xi_{2}^{2}}  P{\\left (\\xi_{1},\\xi_{2},\\xi_{3},t \\right )} - \\frac{s_{1} \\xi_{1}}{V} \\xi_{2} \\frac{\\partial^{2}}{\\partial \\xi_{2}\\partial \\xi_{3}}  P{\\left (\\xi_{1},\\xi_{2},\\xi_{3},t \\right )} + \\frac{s_{1} \\xi_{1} \\xi_{2}}{2 V} \\frac{\\partial^{2}}{\\partial \\xi_{3}^{2}}  P{\\left (\\xi_{1},\\xi_{2},\\xi_{3},t \\right )} + \\frac{s_{1} \\xi_{1}}{V} \\frac{\\partial}{\\partial \\xi_{2}} P{\\left (\\xi_{1},\\xi_{2},\\xi_{3},t \\right )} - \\frac{s_{1} \\xi_{1}}{V} \\frac{\\partial}{\\partial \\xi_{3}} P{\\left (\\xi_{1},\\xi_{2},\\xi_{3},t \\right )} + \\frac{s_{2} \\xi_{1} \\xi_{2}}{2 V} \\frac{\\partial^{2}}{\\partial \\xi_{1}^{2}}  P{\\left (\\xi_{1},\\xi_{2},\\xi_{3},t \\right )} - \\frac{s_{2} \\xi_{1}}{V} \\xi_{2} \\frac{\\partial^{2}}{\\partial \\xi_{1}\\partial \\xi_{3}}  P{\\left (\\xi_{1},\\xi_{2},\\xi_{3},t \\right )} + \\frac{s_{2} \\xi_{1} \\xi_{2}}{2 V} \\frac{\\partial^{2}}{\\partial \\xi_{3}^{2}}  P{\\left (\\xi_{1},\\xi_{2},\\xi_{3},t \\right )} + \\frac{s_{2} \\xi_{2}}{V} \\frac{\\partial}{\\partial \\xi_{1}} P{\\left (\\xi_{1},\\xi_{2},\\xi_{3},t \\right )} - \\frac{s_{2} \\xi_{2}}{V} \\frac{\\partial}{\\partial \\xi_{3}} P{\\left (\\xi_{1},\\xi_{2},\\xi_{3},t \\right )} + \\frac{r_{1} \\xi_{1} \\xi_{3}}{4 V^{2}} \\frac{\\partial^{4}}{\\partial \\xi_{1}^{2}\\partial \\xi_{3}^{2}}  P{\\left (\\xi_{1},\\xi_{2},\\xi_{3},t \\right )} + \\frac{r_{1} \\xi_{1}}{2 V^{2}} \\frac{\\partial^{3}}{\\partial \\xi_{1}^{2}\\partial \\xi_{3}}  P{\\left (\\xi_{1},\\xi_{2},\\xi_{3},t \\right )} + \\frac{r_{1} \\xi_{3}}{2 V^{2}} \\frac{\\partial^{3}}{\\partial \\xi_{1}\\partial \\xi_{3}^{2}}  P{\\left (\\xi_{1},\\xi_{2},\\xi_{3},t \\right )} + \\frac{r_{1}}{V^{2}} \\frac{\\partial^{2}}{\\partial \\xi_{1}\\partial \\xi_{3}}  P{\\left (\\xi_{1},\\xi_{2},\\xi_{3},t \\right )} + \\frac{r_{2} \\xi_{2} \\xi_{3}}{4 V^{2}} \\frac{\\partial^{4}}{\\partial \\xi_{2}^{2}\\partial \\xi_{3}^{2}}  P{\\left (\\xi_{1},\\xi_{2},\\xi_{3},t \\right )} + \\frac{r_{2} \\xi_{2}}{2 V^{2}} \\frac{\\partial^{3}}{\\partial \\xi_{2}^{2}\\partial \\xi_{3}}  P{\\left (\\xi_{1},\\xi_{2},\\xi_{3},t \\right )} + \\frac{r_{2} \\xi_{3}}{2 V^{2}} \\frac{\\partial^{3}}{\\partial \\xi_{2}\\partial \\xi_{3}^{2}}  P{\\left (\\xi_{1},\\xi_{2},\\xi_{3},t \\right )} + \\frac{r_{2}}{V^{2}} \\frac{\\partial^{2}}{\\partial \\xi_{2}\\partial \\xi_{3}}  P{\\left (\\xi_{1},\\xi_{2},\\xi_{3},t \\right )} + \\frac{s_{1} \\xi_{1} \\xi_{2}}{4 V^{2}} \\frac{\\partial^{4}}{\\partial \\xi_{2}^{2}\\partial \\xi_{3}^{2}}  P{\\left (\\xi_{1},\\xi_{2},\\xi_{3},t \\right )} + \\frac{s_{1} \\xi_{1}}{2 V^{2}} \\frac{\\partial^{3}}{\\partial \\xi_{2}\\partial \\xi_{3}^{2}}  P{\\left (\\xi_{1},\\xi_{2},\\xi_{3},t \\right )} + \\frac{s_{2} \\xi_{1} \\xi_{2}}{4 V^{2}} \\frac{\\partial^{4}}{\\partial \\xi_{1}^{2}\\partial \\xi_{3}^{2}}  P{\\left (\\xi_{1},\\xi_{2},\\xi_{3},t \\right )} + \\frac{s_{2} \\xi_{2}}{2 V^{2}} \\frac{\\partial^{3}}{\\partial \\xi_{1}\\partial \\xi_{3}^{2}}  P{\\left (\\xi_{1},\\xi_{2},\\xi_{3},t \\right )} + \\frac{a_{1} \\xi_{1}}{2 \\sqrt{V}} \\frac{\\partial^{2}}{\\partial \\xi_{1}^{2}}  P{\\left (\\xi_{1},\\xi_{2},\\xi_{3},t \\right )} - \\frac{a_{1} \\xi_{1}}{\\sqrt{V}} \\frac{\\partial^{2}}{\\partial \\xi_{1}\\partial \\xi_{3}}  P{\\left (\\xi_{1},\\xi_{2},\\xi_{3},t \\right )} + \\frac{a_{1} \\xi_{1}}{2 \\sqrt{V}} \\frac{\\partial^{2}}{\\partial \\xi_{3}^{2}}  P{\\left (\\xi_{1},\\xi_{2},\\xi_{3},t \\right )} + \\frac{a_{1}}{\\sqrt{V}} \\frac{\\partial}{\\partial \\xi_{1}} P{\\left (\\xi_{1},\\xi_{2},\\xi_{3},t \\right )} - \\frac{a_{1}}{\\sqrt{V}} \\frac{\\partial}{\\partial \\xi_{3}} P{\\left (\\xi_{1},\\xi_{2},\\xi_{3},t \\right )} + \\frac{a_{2} \\xi_{2}}{2 \\sqrt{V}} \\frac{\\partial^{2}}{\\partial \\xi_{2}^{2}}  P{\\left (\\xi_{1},\\xi_{2},\\xi_{3},t \\right )} - \\frac{a_{2} \\xi_{2}}{\\sqrt{V}} \\frac{\\partial^{2}}{\\partial \\xi_{2}\\partial \\xi_{3}}  P{\\left (\\xi_{1},\\xi_{2},\\xi_{3},t \\right )} + \\frac{a_{2} \\xi_{2}}{2 \\sqrt{V}} \\frac{\\partial^{2}}{\\partial \\xi_{3}^{2}}  P{\\left (\\xi_{1},\\xi_{2},\\xi_{3},t \\right )} + \\frac{a_{2}}{\\sqrt{V}} \\frac{\\partial}{\\partial \\xi_{2}} P{\\left (\\xi_{1},\\xi_{2},\\xi_{3},t \\right )} - \\frac{a_{2}}{\\sqrt{V}} \\frac{\\partial}{\\partial \\xi_{3}} P{\\left (\\xi_{1},\\xi_{2},\\xi_{3},t \\right )} + \\frac{g_{1} \\xi_{3}}{2 \\sqrt{V}} \\frac{\\partial^{2}}{\\partial \\xi_{1}^{2}}  P{\\left (\\xi_{1},\\xi_{2},\\xi_{3},t \\right )} - \\frac{g_{1} \\xi_{3}}{\\sqrt{V}} \\frac{\\partial^{2}}{\\partial \\xi_{1}\\partial \\xi_{3}}  P{\\left (\\xi_{1},\\xi_{2},\\xi_{3},t \\right )} + \\frac{g_{1} \\xi_{3}}{2 \\sqrt{V}} \\frac{\\partial^{2}}{\\partial \\xi_{3}^{2}}  P{\\left (\\xi_{1},\\xi_{2},\\xi_{3},t \\right )} - \\frac{g_{1}}{\\sqrt{V}} \\frac{\\partial}{\\partial \\xi_{1}} P{\\left (\\xi_{1},\\xi_{2},\\xi_{3},t \\right )} + \\frac{g_{1}}{\\sqrt{V}} \\frac{\\partial}{\\partial \\xi_{3}} P{\\left (\\xi_{1},\\xi_{2},\\xi_{3},t \\right )} + \\frac{g_{2} \\xi_{3}}{2 \\sqrt{V}} \\frac{\\partial^{2}}{\\partial \\xi_{2}^{2}}  P{\\left (\\xi_{1},\\xi_{2},\\xi_{3},t \\right )} - \\frac{g_{2} \\xi_{3}}{\\sqrt{V}} \\frac{\\partial^{2}}{\\partial \\xi_{2}\\partial \\xi_{3}}  P{\\left (\\xi_{1},\\xi_{2},\\xi_{3},t \\right )} + \\frac{g_{2} \\xi_{3}}{2 \\sqrt{V}} \\frac{\\partial^{2}}{\\partial \\xi_{3}^{2}}  P{\\left (\\xi_{1},\\xi_{2},\\xi_{3},t \\right )} - \\frac{g_{2}}{\\sqrt{V}} \\frac{\\partial}{\\partial \\xi_{2}} P{\\left (\\xi_{1},\\xi_{2},\\xi_{3},t \\right )} + \\frac{g_{2}}{\\sqrt{V}} \\frac{\\partial}{\\partial \\xi_{3}} P{\\left (\\xi_{1},\\xi_{2},\\xi_{3},t \\right )} - \\frac{r_{1} \\xi_{1}}{\\sqrt{V}} \\xi_{3} \\frac{\\partial}{\\partial \\xi_{1}} P{\\left (\\xi_{1},\\xi_{2},\\xi_{3},t \\right )} + \\frac{r_{1} \\xi_{1}}{\\sqrt{V}} \\xi_{3} \\frac{\\partial}{\\partial \\xi_{3}} P{\\left (\\xi_{1},\\xi_{2},\\xi_{3},t \\right )} + \\frac{r_{1} \\xi_{1}}{\\sqrt{V}} P{\\left (\\xi_{1},\\xi_{2},\\xi_{3},t \\right )} - \\frac{r_{1} \\xi_{3}}{\\sqrt{V}} P{\\left (\\xi_{1},\\xi_{2},\\xi_{3},t \\right )} - \\frac{r_{2} \\xi_{2}}{\\sqrt{V}} \\xi_{3} \\frac{\\partial}{\\partial \\xi_{2}} P{\\left (\\xi_{1},\\xi_{2},\\xi_{3},t \\right )} + \\frac{r_{2} \\xi_{2}}{\\sqrt{V}} \\xi_{3} \\frac{\\partial}{\\partial \\xi_{3}} P{\\left (\\xi_{1},\\xi_{2},\\xi_{3},t \\right )} + \\frac{r_{2} \\xi_{2}}{\\sqrt{V}} P{\\left (\\xi_{1},\\xi_{2},\\xi_{3},t \\right )} - \\frac{r_{2} \\xi_{3}}{\\sqrt{V}} P{\\left (\\xi_{1},\\xi_{2},\\xi_{3},t \\right )} + \\frac{s_{1} \\xi_{1}}{\\sqrt{V}} \\xi_{2} \\frac{\\partial}{\\partial \\xi_{2}} P{\\left (\\xi_{1},\\xi_{2},\\xi_{3},t \\right )} - \\frac{s_{1} \\xi_{1}}{\\sqrt{V}} \\xi_{2} \\frac{\\partial}{\\partial \\xi_{3}} P{\\left (\\xi_{1},\\xi_{2},\\xi_{3},t \\right )} + \\frac{s_{1} \\xi_{1}}{\\sqrt{V}} P{\\left (\\xi_{1},\\xi_{2},\\xi_{3},t \\right )} + \\frac{s_{2} \\xi_{1}}{\\sqrt{V}} \\xi_{2} \\frac{\\partial}{\\partial \\xi_{1}} P{\\left (\\xi_{1},\\xi_{2},\\xi_{3},t \\right )} - \\frac{s_{2} \\xi_{1}}{\\sqrt{V}} \\xi_{2} \\frac{\\partial}{\\partial \\xi_{3}} P{\\left (\\xi_{1},\\xi_{2},\\xi_{3},t \\right )} + \\frac{s_{2} \\xi_{2}}{\\sqrt{V}} P{\\left (\\xi_{1},\\xi_{2},\\xi_{3},t \\right )} + \\frac{a_{1} \\xi_{1}}{4 V^{\\frac{3}{2}}} \\frac{\\partial^{4}}{\\partial \\xi_{1}^{2}\\partial \\xi_{3}^{2}}  P{\\left (\\xi_{1},\\xi_{2},\\xi_{3},t \\right )} + \\frac{a_{1}}{2 V^{\\frac{3}{2}}} \\frac{\\partial^{3}}{\\partial \\xi_{1}\\partial \\xi_{3}^{2}}  P{\\left (\\xi_{1},\\xi_{2},\\xi_{3},t \\right )} + \\frac{a_{2} \\xi_{2}}{4 V^{\\frac{3}{2}}} \\frac{\\partial^{4}}{\\partial \\xi_{2}^{2}\\partial \\xi_{3}^{2}}  P{\\left (\\xi_{1},\\xi_{2},\\xi_{3},t \\right )} + \\frac{a_{2}}{2 V^{\\frac{3}{2}}} \\frac{\\partial^{3}}{\\partial \\xi_{2}\\partial \\xi_{3}^{2}}  P{\\left (\\xi_{1},\\xi_{2},\\xi_{3},t \\right )} + \\frac{g_{1} \\xi_{3}}{4 V^{\\frac{3}{2}}} \\frac{\\partial^{4}}{\\partial \\xi_{1}^{2}\\partial \\xi_{3}^{2}}  P{\\left (\\xi_{1},\\xi_{2},\\xi_{3},t \\right )} + \\frac{g_{1}}{2 V^{\\frac{3}{2}}} \\frac{\\partial^{3}}{\\partial \\xi_{1}^{2}\\partial \\xi_{3}}  P{\\left (\\xi_{1},\\xi_{2},\\xi_{3},t \\right )} + \\frac{g_{2} \\xi_{3}}{4 V^{\\frac{3}{2}}} \\frac{\\partial^{4}}{\\partial \\xi_{2}^{2}\\partial \\xi_{3}^{2}}  P{\\left (\\xi_{1},\\xi_{2},\\xi_{3},t \\right )} + \\frac{g_{2}}{2 V^{\\frac{3}{2}}} \\frac{\\partial^{3}}{\\partial \\xi_{2}^{2}\\partial \\xi_{3}}  P{\\left (\\xi_{1},\\xi_{2},\\xi_{3},t \\right )} + \\frac{r_{1} \\xi_{1} \\xi_{3}}{2 V^{\\frac{3}{2}}} \\frac{\\partial^{3}}{\\partial \\xi_{1}^{2}\\partial \\xi_{3}}  P{\\left (\\xi_{1},\\xi_{2},\\xi_{3},t \\right )} - \\frac{r_{1} \\xi_{1} \\xi_{3}}{2 V^{\\frac{3}{2}}} \\frac{\\partial^{3}}{\\partial \\xi_{1}\\partial \\xi_{3}^{2}}  P{\\left (\\xi_{1},\\xi_{2},\\xi_{3},t \\right )} + \\frac{r_{1} \\xi_{1}}{2 V^{\\frac{3}{2}}} \\frac{\\partial^{2}}{\\partial \\xi_{1}^{2}}  P{\\left (\\xi_{1},\\xi_{2},\\xi_{3},t \\right )} - \\frac{r_{1} \\xi_{1}}{V^{\\frac{3}{2}}} \\frac{\\partial^{2}}{\\partial \\xi_{1}\\partial \\xi_{3}}  P{\\left (\\xi_{1},\\xi_{2},\\xi_{3},t \\right )} + \\frac{r_{1} \\xi_{3}}{V^{\\frac{3}{2}}} \\frac{\\partial^{2}}{\\partial \\xi_{1}\\partial \\xi_{3}}  P{\\left (\\xi_{1},\\xi_{2},\\xi_{3},t \\right )} - \\frac{r_{1} \\xi_{3}}{2 V^{\\frac{3}{2}}} \\frac{\\partial^{2}}{\\partial \\xi_{3}^{2}}  P{\\left (\\xi_{1},\\xi_{2},\\xi_{3},t \\right )} + \\frac{r_{1}}{V^{\\frac{3}{2}}} \\frac{\\partial}{\\partial \\xi_{1}} P{\\left (\\xi_{1},\\xi_{2},\\xi_{3},t \\right )} - \\frac{r_{1}}{V^{\\frac{3}{2}}} \\frac{\\partial}{\\partial \\xi_{3}} P{\\left (\\xi_{1},\\xi_{2},\\xi_{3},t \\right )} + \\frac{r_{2} \\xi_{2} \\xi_{3}}{2 V^{\\frac{3}{2}}} \\frac{\\partial^{3}}{\\partial \\xi_{2}^{2}\\partial \\xi_{3}}  P{\\left (\\xi_{1},\\xi_{2},\\xi_{3},t \\right )} - \\frac{r_{2} \\xi_{2} \\xi_{3}}{2 V^{\\frac{3}{2}}} \\frac{\\partial^{3}}{\\partial \\xi_{2}\\partial \\xi_{3}^{2}}  P{\\left (\\xi_{1},\\xi_{2},\\xi_{3},t \\right )} + \\frac{r_{2} \\xi_{2}}{2 V^{\\frac{3}{2}}} \\frac{\\partial^{2}}{\\partial \\xi_{2}^{2}}  P{\\left (\\xi_{1},\\xi_{2},\\xi_{3},t \\right )} - \\frac{r_{2} \\xi_{2}}{V^{\\frac{3}{2}}} \\frac{\\partial^{2}}{\\partial \\xi_{2}\\partial \\xi_{3}}  P{\\left (\\xi_{1},\\xi_{2},\\xi_{3},t \\right )} + \\frac{r_{2} \\xi_{3}}{V^{\\frac{3}{2}}} \\frac{\\partial^{2}}{\\partial \\xi_{2}\\partial \\xi_{3}}  P{\\left (\\xi_{1},\\xi_{2},\\xi_{3},t \\right )} - \\frac{r_{2} \\xi_{3}}{2 V^{\\frac{3}{2}}} \\frac{\\partial^{2}}{\\partial \\xi_{3}^{2}}  P{\\left (\\xi_{1},\\xi_{2},\\xi_{3},t \\right )} + \\frac{r_{2}}{V^{\\frac{3}{2}}} \\frac{\\partial}{\\partial \\xi_{2}} P{\\left (\\xi_{1},\\xi_{2},\\xi_{3},t \\right )} - \\frac{r_{2}}{V^{\\frac{3}{2}}} \\frac{\\partial}{\\partial \\xi_{3}} P{\\left (\\xi_{1},\\xi_{2},\\xi_{3},t \\right )} - \\frac{s_{1} \\xi_{1} \\xi_{2}}{2 V^{\\frac{3}{2}}} \\frac{\\partial^{3}}{\\partial \\xi_{2}^{2}\\partial \\xi_{3}}  P{\\left (\\xi_{1},\\xi_{2},\\xi_{3},t \\right )} + \\frac{s_{1} \\xi_{1} \\xi_{2}}{2 V^{\\frac{3}{2}}} \\frac{\\partial^{3}}{\\partial \\xi_{2}\\partial \\xi_{3}^{2}}  P{\\left (\\xi_{1},\\xi_{2},\\xi_{3},t \\right )} - \\frac{s_{1} \\xi_{1}}{V^{\\frac{3}{2}}} \\frac{\\partial^{2}}{\\partial \\xi_{2}\\partial \\xi_{3}}  P{\\left (\\xi_{1},\\xi_{2},\\xi_{3},t \\right )} + \\frac{s_{1} \\xi_{1}}{2 V^{\\frac{3}{2}}} \\frac{\\partial^{2}}{\\partial \\xi_{3}^{2}}  P{\\left (\\xi_{1},\\xi_{2},\\xi_{3},t \\right )} - \\frac{s_{2} \\xi_{1} \\xi_{2}}{2 V^{\\frac{3}{2}}} \\frac{\\partial^{3}}{\\partial \\xi_{1}^{2}\\partial \\xi_{3}}  P{\\left (\\xi_{1},\\xi_{2},\\xi_{3},t \\right )} + \\frac{s_{2} \\xi_{1} \\xi_{2}}{2 V^{\\frac{3}{2}}} \\frac{\\partial^{3}}{\\partial \\xi_{1}\\partial \\xi_{3}^{2}}  P{\\left (\\xi_{1},\\xi_{2},\\xi_{3},t \\right )} - \\frac{s_{2} \\xi_{2}}{V^{\\frac{3}{2}}} \\frac{\\partial^{2}}{\\partial \\xi_{1}\\partial \\xi_{3}}  P{\\left (\\xi_{1},\\xi_{2},\\xi_{3},t \\right )} + \\frac{s_{2} \\xi_{2}}{2 V^{\\frac{3}{2}}} \\frac{\\partial^{2}}{\\partial \\xi_{3}^{2}}  P{\\left (\\xi_{1},\\xi_{2},\\xi_{3},t \\right )}$$"
      ],
      "text/plain": [
       "<IPython.core.display.Math object>"
      ]
     },
     "metadata": {},
     "output_type": "display_data"
    }
   ],
   "source": [
    "model2.showVanKampenExpansion()"
   ]
  },
  {
   "cell_type": "code",
   "execution_count": 15,
   "metadata": {
    "collapsed": false
   },
   "outputs": [
    {
     "data": {
      "text/latex": [
       "$$\\frac{d}{d t} \\Phi_{A} := - \\Phi_{A} \\Phi_{B} s_{2} + \\Phi_{A} \\Phi_{C} r_{1} - \\Phi_{A} a_{1} + \\Phi_{C} g_{1}$$"
      ],
      "text/plain": [
       "<IPython.core.display.Math object>"
      ]
     },
     "metadata": {},
     "output_type": "display_data"
    },
    {
     "data": {
      "text/latex": [
       "$$\\frac{d}{d t} \\Phi_{C} := \\Phi_{A} \\Phi_{B} s_{1} + \\Phi_{A} \\Phi_{B} s_{2} - \\Phi_{A} \\Phi_{C} r_{1} + \\Phi_{A} a_{1} - \\Phi_{B} \\Phi_{C} r_{2} + \\Phi_{B} a_{2} - \\Phi_{C} g_{1} - \\Phi_{C} g_{2}$$"
      ],
      "text/plain": [
       "<IPython.core.display.Math object>"
      ]
     },
     "metadata": {},
     "output_type": "display_data"
    },
    {
     "data": {
      "text/latex": [
       "$$\\frac{d}{d t} \\Phi_{B} := - \\Phi_{A} \\Phi_{B} s_{1} + \\Phi_{B} \\Phi_{C} r_{2} - \\Phi_{B} a_{2} + \\Phi_{C} g_{2}$$"
      ],
      "text/plain": [
       "<IPython.core.display.Math object>"
      ]
     },
     "metadata": {},
     "output_type": "display_data"
    }
   ],
   "source": [
    "model2.showODEs_vKE()"
   ]
  },
  {
   "cell_type": "code",
   "execution_count": 16,
   "metadata": {
    "collapsed": false
   },
   "outputs": [
    {
     "data": {
      "text/latex": [
       "$$\\frac{\\partial}{\\partial t} P{\\left (\\xi_{1},\\xi_{2},\\xi_{3},t \\right )} := \\frac{\\Phi_{A} \\Phi_{B}}{2} s_{1} \\frac{\\partial^{2}}{\\partial \\xi_{2}^{2}}  P{\\left (\\xi_{1},\\xi_{2},\\xi_{3},t \\right )} - \\Phi_{A} \\Phi_{B} s_{1} \\frac{\\partial^{2}}{\\partial \\xi_{2}\\partial \\xi_{3}}  P{\\left (\\xi_{1},\\xi_{2},\\xi_{3},t \\right )} + \\frac{\\Phi_{A} \\Phi_{B}}{2} s_{1} \\frac{\\partial^{2}}{\\partial \\xi_{3}^{2}}  P{\\left (\\xi_{1},\\xi_{2},\\xi_{3},t \\right )} + \\frac{\\Phi_{A} \\Phi_{B}}{2} s_{2} \\frac{\\partial^{2}}{\\partial \\xi_{1}^{2}}  P{\\left (\\xi_{1},\\xi_{2},\\xi_{3},t \\right )} - \\Phi_{A} \\Phi_{B} s_{2} \\frac{\\partial^{2}}{\\partial \\xi_{1}\\partial \\xi_{3}}  P{\\left (\\xi_{1},\\xi_{2},\\xi_{3},t \\right )} + \\frac{\\Phi_{A} \\Phi_{B}}{2} s_{2} \\frac{\\partial^{2}}{\\partial \\xi_{3}^{2}}  P{\\left (\\xi_{1},\\xi_{2},\\xi_{3},t \\right )} + \\frac{\\Phi_{A} \\Phi_{C}}{2} r_{1} \\frac{\\partial^{2}}{\\partial \\xi_{1}^{2}}  P{\\left (\\xi_{1},\\xi_{2},\\xi_{3},t \\right )} - \\Phi_{A} \\Phi_{C} r_{1} \\frac{\\partial^{2}}{\\partial \\xi_{1}\\partial \\xi_{3}}  P{\\left (\\xi_{1},\\xi_{2},\\xi_{3},t \\right )} + \\frac{\\Phi_{A} \\Phi_{C}}{2} r_{1} \\frac{\\partial^{2}}{\\partial \\xi_{3}^{2}}  P{\\left (\\xi_{1},\\xi_{2},\\xi_{3},t \\right )} + \\frac{\\Phi_{A} a_{1}}{2} \\frac{\\partial^{2}}{\\partial \\xi_{1}^{2}}  P{\\left (\\xi_{1},\\xi_{2},\\xi_{3},t \\right )} - \\Phi_{A} a_{1} \\frac{\\partial^{2}}{\\partial \\xi_{1}\\partial \\xi_{3}}  P{\\left (\\xi_{1},\\xi_{2},\\xi_{3},t \\right )} + \\frac{\\Phi_{A} a_{1}}{2} \\frac{\\partial^{2}}{\\partial \\xi_{3}^{2}}  P{\\left (\\xi_{1},\\xi_{2},\\xi_{3},t \\right )} - \\Phi_{A} r_{1} \\xi_{3} \\frac{\\partial}{\\partial \\xi_{1}} P{\\left (\\xi_{1},\\xi_{2},\\xi_{3},t \\right )} + \\Phi_{A} r_{1} \\xi_{3} \\frac{\\partial}{\\partial \\xi_{3}} P{\\left (\\xi_{1},\\xi_{2},\\xi_{3},t \\right )} + \\Phi_{A} r_{1} P{\\left (\\xi_{1},\\xi_{2},\\xi_{3},t \\right )} + \\Phi_{A} s_{1} \\xi_{2} \\frac{\\partial}{\\partial \\xi_{2}} P{\\left (\\xi_{1},\\xi_{2},\\xi_{3},t \\right )} - \\Phi_{A} s_{1} \\xi_{2} \\frac{\\partial}{\\partial \\xi_{3}} P{\\left (\\xi_{1},\\xi_{2},\\xi_{3},t \\right )} + \\Phi_{A} s_{1} P{\\left (\\xi_{1},\\xi_{2},\\xi_{3},t \\right )} + \\Phi_{A} s_{2} \\xi_{2} \\frac{\\partial}{\\partial \\xi_{1}} P{\\left (\\xi_{1},\\xi_{2},\\xi_{3},t \\right )} - \\Phi_{A} s_{2} \\xi_{2} \\frac{\\partial}{\\partial \\xi_{3}} P{\\left (\\xi_{1},\\xi_{2},\\xi_{3},t \\right )} + \\frac{\\Phi_{B} \\Phi_{C}}{2} r_{2} \\frac{\\partial^{2}}{\\partial \\xi_{2}^{2}}  P{\\left (\\xi_{1},\\xi_{2},\\xi_{3},t \\right )} - \\Phi_{B} \\Phi_{C} r_{2} \\frac{\\partial^{2}}{\\partial \\xi_{2}\\partial \\xi_{3}}  P{\\left (\\xi_{1},\\xi_{2},\\xi_{3},t \\right )} + \\frac{\\Phi_{B} \\Phi_{C}}{2} r_{2} \\frac{\\partial^{2}}{\\partial \\xi_{3}^{2}}  P{\\left (\\xi_{1},\\xi_{2},\\xi_{3},t \\right )} + \\frac{\\Phi_{B} a_{2}}{2} \\frac{\\partial^{2}}{\\partial \\xi_{2}^{2}}  P{\\left (\\xi_{1},\\xi_{2},\\xi_{3},t \\right )} - \\Phi_{B} a_{2} \\frac{\\partial^{2}}{\\partial \\xi_{2}\\partial \\xi_{3}}  P{\\left (\\xi_{1},\\xi_{2},\\xi_{3},t \\right )} + \\frac{\\Phi_{B} a_{2}}{2} \\frac{\\partial^{2}}{\\partial \\xi_{3}^{2}}  P{\\left (\\xi_{1},\\xi_{2},\\xi_{3},t \\right )} - \\Phi_{B} r_{2} \\xi_{3} \\frac{\\partial}{\\partial \\xi_{2}} P{\\left (\\xi_{1},\\xi_{2},\\xi_{3},t \\right )} + \\Phi_{B} r_{2} \\xi_{3} \\frac{\\partial}{\\partial \\xi_{3}} P{\\left (\\xi_{1},\\xi_{2},\\xi_{3},t \\right )} + \\Phi_{B} r_{2} P{\\left (\\xi_{1},\\xi_{2},\\xi_{3},t \\right )} + \\Phi_{B} s_{1} \\xi_{1} \\frac{\\partial}{\\partial \\xi_{2}} P{\\left (\\xi_{1},\\xi_{2},\\xi_{3},t \\right )} - \\Phi_{B} s_{1} \\xi_{1} \\frac{\\partial}{\\partial \\xi_{3}} P{\\left (\\xi_{1},\\xi_{2},\\xi_{3},t \\right )} + \\Phi_{B} s_{2} \\xi_{1} \\frac{\\partial}{\\partial \\xi_{1}} P{\\left (\\xi_{1},\\xi_{2},\\xi_{3},t \\right )} - \\Phi_{B} s_{2} \\xi_{1} \\frac{\\partial}{\\partial \\xi_{3}} P{\\left (\\xi_{1},\\xi_{2},\\xi_{3},t \\right )} + \\Phi_{B} s_{2} P{\\left (\\xi_{1},\\xi_{2},\\xi_{3},t \\right )} + \\frac{\\Phi_{C} g_{1}}{2} \\frac{\\partial^{2}}{\\partial \\xi_{1}^{2}}  P{\\left (\\xi_{1},\\xi_{2},\\xi_{3},t \\right )} - \\Phi_{C} g_{1} \\frac{\\partial^{2}}{\\partial \\xi_{1}\\partial \\xi_{3}}  P{\\left (\\xi_{1},\\xi_{2},\\xi_{3},t \\right )} + \\frac{\\Phi_{C} g_{1}}{2} \\frac{\\partial^{2}}{\\partial \\xi_{3}^{2}}  P{\\left (\\xi_{1},\\xi_{2},\\xi_{3},t \\right )} + \\frac{\\Phi_{C} g_{2}}{2} \\frac{\\partial^{2}}{\\partial \\xi_{2}^{2}}  P{\\left (\\xi_{1},\\xi_{2},\\xi_{3},t \\right )} - \\Phi_{C} g_{2} \\frac{\\partial^{2}}{\\partial \\xi_{2}\\partial \\xi_{3}}  P{\\left (\\xi_{1},\\xi_{2},\\xi_{3},t \\right )} + \\frac{\\Phi_{C} g_{2}}{2} \\frac{\\partial^{2}}{\\partial \\xi_{3}^{2}}  P{\\left (\\xi_{1},\\xi_{2},\\xi_{3},t \\right )} - \\Phi_{C} r_{1} \\xi_{1} \\frac{\\partial}{\\partial \\xi_{1}} P{\\left (\\xi_{1},\\xi_{2},\\xi_{3},t \\right )} + \\Phi_{C} r_{1} \\xi_{1} \\frac{\\partial}{\\partial \\xi_{3}} P{\\left (\\xi_{1},\\xi_{2},\\xi_{3},t \\right )} - \\Phi_{C} r_{1} P{\\left (\\xi_{1},\\xi_{2},\\xi_{3},t \\right )} - \\Phi_{C} r_{2} \\xi_{2} \\frac{\\partial}{\\partial \\xi_{2}} P{\\left (\\xi_{1},\\xi_{2},\\xi_{3},t \\right )} + \\Phi_{C} r_{2} \\xi_{2} \\frac{\\partial}{\\partial \\xi_{3}} P{\\left (\\xi_{1},\\xi_{2},\\xi_{3},t \\right )} - \\Phi_{C} r_{2} P{\\left (\\xi_{1},\\xi_{2},\\xi_{3},t \\right )} + a_{1} \\xi_{1} \\frac{\\partial}{\\partial \\xi_{1}} P{\\left (\\xi_{1},\\xi_{2},\\xi_{3},t \\right )} - a_{1} \\xi_{1} \\frac{\\partial}{\\partial \\xi_{3}} P{\\left (\\xi_{1},\\xi_{2},\\xi_{3},t \\right )} + a_{1} P{\\left (\\xi_{1},\\xi_{2},\\xi_{3},t \\right )} + a_{2} \\xi_{2} \\frac{\\partial}{\\partial \\xi_{2}} P{\\left (\\xi_{1},\\xi_{2},\\xi_{3},t \\right )} - a_{2} \\xi_{2} \\frac{\\partial}{\\partial \\xi_{3}} P{\\left (\\xi_{1},\\xi_{2},\\xi_{3},t \\right )} + a_{2} P{\\left (\\xi_{1},\\xi_{2},\\xi_{3},t \\right )} - g_{1} \\xi_{3} \\frac{\\partial}{\\partial \\xi_{1}} P{\\left (\\xi_{1},\\xi_{2},\\xi_{3},t \\right )} + g_{1} \\xi_{3} \\frac{\\partial}{\\partial \\xi_{3}} P{\\left (\\xi_{1},\\xi_{2},\\xi_{3},t \\right )} + g_{1} P{\\left (\\xi_{1},\\xi_{2},\\xi_{3},t \\right )} - g_{2} \\xi_{3} \\frac{\\partial}{\\partial \\xi_{2}} P{\\left (\\xi_{1},\\xi_{2},\\xi_{3},t \\right )} + g_{2} \\xi_{3} \\frac{\\partial}{\\partial \\xi_{3}} P{\\left (\\xi_{1},\\xi_{2},\\xi_{3},t \\right )} + g_{2} P{\\left (\\xi_{1},\\xi_{2},\\xi_{3},t \\right )}$$"
      ],
      "text/plain": [
       "<IPython.core.display.Math object>"
      ]
     },
     "metadata": {},
     "output_type": "display_data"
    }
   ],
   "source": [
    "model2.showFockerPlanckEquation()"
   ]
  },
  {
   "cell_type": "code",
   "execution_count": null,
   "metadata": {
    "collapsed": true
   },
   "outputs": [],
   "source": []
  }
 ],
 "metadata": {
  "kernelspec": {
   "display_name": "Python 3",
   "language": "python",
   "name": "python3"
  },
  "language_info": {
   "codemirror_mode": {
    "name": "ipython",
    "version": 3
   },
   "file_extension": ".py",
   "mimetype": "text/x-python",
   "name": "python",
   "nbconvert_exporter": "python",
   "pygments_lexer": "ipython3",
   "version": "3.5.1"
  }
 },
 "nbformat": 4,
 "nbformat_minor": 0
}
