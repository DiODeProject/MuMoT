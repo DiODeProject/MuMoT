{
 "cells": [
  {
   "cell_type": "code",
   "execution_count": null,
   "metadata": {
    "collapsed": false
   },
   "outputs": [],
   "source": [
    "import MuMoT as mmt"
   ]
  },
  {
   "cell_type": "code",
   "execution_count": null,
   "metadata": {
    "collapsed": false
   },
   "outputs": [],
   "source": [
    "%%model\n",
    "$\n",
    "U -> A : g_1\n",
    "U -> B : g_2\n",
    "A -> U : a_1\n",
    "B -> U : a_2\n",
    "A + U -> A + A : r_1\n",
    "B + U -> B + B : r_2\n",
    "A + B -> A + U : s\n",
    "A + B -> B + U : s\n",
    "$"
   ]
  },
  {
   "cell_type": "code",
   "execution_count": null,
   "metadata": {
    "collapsed": true
   },
   "outputs": [],
   "source": [
    "model1 = mmt.parseModel(In[2])"
   ]
  },
  {
   "cell_type": "code",
   "execution_count": null,
   "metadata": {
    "collapsed": true
   },
   "outputs": [],
   "source": [
    "model2 = model1.substitute('a_1 = 1/v_1, a_2 = 1/v_2, g_1 = v_1, g_2 = v_2, r_1 = v_1, r_2 = v_2')"
   ]
  },
  {
   "cell_type": "code",
   "execution_count": null,
   "metadata": {
    "collapsed": true
   },
   "outputs": [],
   "source": [
    "model3 = model2.substitute('v_1 = \\\\mu + \\\\Delta/2, v_2 = \\\\mu - \\\\Delta/2')"
   ]
  },
  {
   "cell_type": "code",
   "execution_count": null,
   "metadata": {
    "collapsed": false
   },
   "outputs": [],
   "source": [
    "model3.showODEs()"
   ]
  },
  {
   "cell_type": "code",
   "execution_count": null,
   "metadata": {
    "collapsed": false
   },
   "outputs": [],
   "source": [
    "model3.show()"
   ]
  },
  {
   "cell_type": "code",
   "execution_count": null,
   "metadata": {
    "collapsed": true
   },
   "outputs": [],
   "source": [
    "model4 = model3.substitute('U = N - \\A - \\B')"
   ]
  },
  {
   "cell_type": "code",
   "execution_count": null,
   "metadata": {
    "collapsed": false
   },
   "outputs": [],
   "source": [
    "model4.showODEs()"
   ]
  },
  {
   "cell_type": "code",
   "execution_count": null,
   "metadata": {
    "collapsed": false
   },
   "outputs": [],
   "source": [
    "#modelBifCont1 = model4.bifurcation('s','A',plottingMethod='pyds')\n",
    "modelBifCont1 = model4.bifurcation('s','B', plottingMethod='mumot', initSV=[['A', 0.1], ['B', 0.9]], \n",
    "                                   fontsize=35, BifParInit =5, ContMaxNumPoints=450)"
   ]
  },
  {
   "cell_type": "code",
   "execution_count": null,
   "metadata": {
    "collapsed": false
   },
   "outputs": [],
   "source": [
    "modelBifCont1.showLogs()"
   ]
  },
  {
   "cell_type": "code",
   "execution_count": null,
   "metadata": {
    "collapsed": false
   },
   "outputs": [],
   "source": [
    "soloView0 = mmt.MuMoTbifurcationView(model4, None, 's', 'A', params = [('\\mu', 1), ('v', 2), ('\\Delta', 0)])"
   ]
  },
  {
   "cell_type": "code",
   "execution_count": null,
   "metadata": {
    "collapsed": true
   },
   "outputs": [],
   "source": [
    "model5 = model2.substitute('v_1 = v, v_2 = v')"
   ]
  },
  {
   "cell_type": "code",
   "execution_count": null,
   "metadata": {
    "collapsed": true
   },
   "outputs": [],
   "source": [
    "model6 = model5.substitute('U = N - \\A - \\B')"
   ]
  },
  {
   "cell_type": "code",
   "execution_count": null,
   "metadata": {
    "collapsed": false
   },
   "outputs": [],
   "source": [
    "model6.showODEs()"
   ]
  },
  {
   "cell_type": "code",
   "execution_count": null,
   "metadata": {
    "collapsed": false,
    "scrolled": false
   },
   "outputs": [],
   "source": [
    "#modelBifCont2 = model6.bifurcation('s','A',plottingMethod='pyds')\n",
    "modelBifCont2 = model6.bifurcation('s','A',plottingMethod='mumot')\n",
    "#modelBifCont2 = model6.bifurcation('s','A',plottingMethod='mumot', initSV=[['A', 0.1], ['B', 0.9]])"
   ]
  },
  {
   "cell_type": "code",
   "execution_count": null,
   "metadata": {
    "collapsed": false
   },
   "outputs": [],
   "source": [
    "modelBifCont1.showLogs()"
   ]
  },
  {
   "cell_type": "code",
   "execution_count": null,
   "metadata": {
    "collapsed": false
   },
   "outputs": [],
   "source": [
    "modelStreamCont1 = model4.stream('A', 'B',fontsize=35, xlab=r'this is the x-label')"
   ]
  },
  {
   "cell_type": "code",
   "execution_count": null,
   "metadata": {
    "collapsed": false
   },
   "outputs": [],
   "source": [
    "modelStreamCont1.showLogs()"
   ]
  },
  {
   "cell_type": "code",
   "execution_count": null,
   "metadata": {
    "collapsed": false
   },
   "outputs": [],
   "source": [
    "modelStreamCont2 = model6.stream('A', 'B')"
   ]
  },
  {
   "cell_type": "code",
   "execution_count": null,
   "metadata": {
    "collapsed": false
   },
   "outputs": [],
   "source": [
    "modelStreamCont2.showLogs()"
   ]
  },
  {
   "cell_type": "code",
   "execution_count": null,
   "metadata": {
    "collapsed": false
   },
   "outputs": [],
   "source": [
    "modelVectorCont1 = model4.vector('A', 'B')"
   ]
  },
  {
   "cell_type": "code",
   "execution_count": null,
   "metadata": {
    "collapsed": false
   },
   "outputs": [],
   "source": [
    "modelVectorCont1.showLogs()"
   ]
  },
  {
   "cell_type": "code",
   "execution_count": null,
   "metadata": {
    "collapsed": false
   },
   "outputs": [],
   "source": [
    "%%model\n",
    "$\n",
    "U -> A : g_1\n",
    "U -> B : g_2\n",
    "U -> C : g_3\n",
    "A -> U : a_1\n",
    "B -> U : a_2\n",
    "C -> U : a_3\n",
    "A + U -> A + A : r_1\n",
    "B + U -> B + B : r_2\n",
    "C + U -> C + C : r_3\n",
    "A + B -> A + U : s\n",
    "A + B -> B + U : s\n",
    "A + C -> A + U : s\n",
    "A + C -> C + U : s\n",
    "B + C -> B + U : s\n",
    "B + C -> C + U : s\n",
    "$"
   ]
  },
  {
   "cell_type": "code",
   "execution_count": null,
   "metadata": {
    "collapsed": false
   },
   "outputs": [],
   "source": [
    "model7 = mmt.parseModel(In[24])"
   ]
  },
  {
   "cell_type": "code",
   "execution_count": null,
   "metadata": {
    "collapsed": false
   },
   "outputs": [],
   "source": [
    "model8 = model7.substitute('U = N - A - B - C')"
   ]
  },
  {
   "cell_type": "code",
   "execution_count": null,
   "metadata": {
    "collapsed": false
   },
   "outputs": [],
   "source": [
    "modelVectorCont2 = model8.vector('A', 'B', 'C')"
   ]
  },
  {
   "cell_type": "code",
   "execution_count": null,
   "metadata": {
    "collapsed": false
   },
   "outputs": [],
   "source": [
    "modelVectorCont2.showLogs()"
   ]
  },
  {
   "cell_type": "code",
   "execution_count": null,
   "metadata": {
    "collapsed": true
   },
   "outputs": [],
   "source": [
    "#model4._get_solutions()"
   ]
  },
  {
   "cell_type": "code",
   "execution_count": null,
   "metadata": {
    "collapsed": false
   },
   "outputs": [],
   "source": [
    "soloView1 = mmt.MuMoTstreamView(model6, None, 'A', 'B', params = [('s', 1), ('v', 2)])"
   ]
  },
  {
   "cell_type": "code",
   "execution_count": null,
   "metadata": {
    "collapsed": true
   },
   "outputs": [],
   "source": [
    "model9 = model8.substitute('a_1 = a, a_2 = a, a_3 = a, g_1 = g, g_2 = g, g_3 = g, r_1 = r, r_2 = r, r_3 = 3')"
   ]
  },
  {
   "cell_type": "code",
   "execution_count": null,
   "metadata": {
    "collapsed": false
   },
   "outputs": [],
   "source": [
    "soloView2 = mmt.MuMoTvectorView(model9, None, 'A', 'B', 'C', params = [('s', 1), ('a', 1/2), ('r', 2), ('g', 2)])"
   ]
  },
  {
   "cell_type": "code",
   "execution_count": null,
   "metadata": {
    "collapsed": false,
    "scrolled": false
   },
   "outputs": [],
   "source": [
    "multiController1 = mmt.MuMoTmultiController([model4.stream('A', 'B', silent = True), \n",
    "                                             model4.vector('A', 'B', silent = True)], shareAxes = True)"
   ]
  },
  {
   "cell_type": "code",
   "execution_count": null,
   "metadata": {
    "collapsed": false
   },
   "outputs": [],
   "source": [
    "multiController1.showLogs()"
   ]
  },
  {
   "cell_type": "code",
   "execution_count": null,
   "metadata": {
    "collapsed": false,
    "scrolled": false
   },
   "outputs": [],
   "source": [
    "multiController2 = mmt.MuMoTmultiController([model4.vector('A', 'B', silent = True), model4.stream('A', 'B', silent = True)])\n",
    "#multiController2 = mmt.MuMoTmultiController([model4.vector('A', 'B', silent = True), model4.stream('A', 'B', silent = True), model4.bifurcation('s', 'A', silent = True)])"
   ]
  },
  {
   "cell_type": "code",
   "execution_count": null,
   "metadata": {
    "collapsed": false
   },
   "outputs": [],
   "source": [
    "multiController2.showLogs()"
   ]
  },
  {
   "cell_type": "code",
   "execution_count": null,
   "metadata": {
    "collapsed": true
   },
   "outputs": [],
   "source": [
    "multiController3 = mmt.MuMoTmultiController([model4.stream('A', 'B', silent = True), model4.vector('A', 'B', silent = True)], shareAxes = True, silent = True)"
   ]
  },
  {
   "cell_type": "code",
   "execution_count": null,
   "metadata": {
    "collapsed": false
   },
   "outputs": [],
   "source": [
    "multiController4 = mmt.MuMoTmultiController([model9.vector('A', 'B', 'C', silent = True), multiController3])"
   ]
  },
  {
   "cell_type": "code",
   "execution_count": null,
   "metadata": {
    "collapsed": false
   },
   "outputs": [],
   "source": [
    "multiController4.showLogs()"
   ]
  },
  {
   "cell_type": "code",
   "execution_count": null,
   "metadata": {
    "collapsed": true
   },
   "outputs": [],
   "source": []
  }
 ],
 "metadata": {
  "anaconda-cloud": {},
  "kernelspec": {
   "display_name": "Python 3",
   "language": "python",
   "name": "python3"
  },
  "language_info": {
   "codemirror_mode": {
    "name": "ipython",
    "version": 3
   },
   "file_extension": ".py",
   "mimetype": "text/x-python",
   "name": "python",
   "nbconvert_exporter": "python",
   "pygments_lexer": "ipython3",
   "version": "3.5.1"
  },
  "widgets": {
   "state": {
    "102f9ac3140b450092db735127c32b5f": {
     "views": [
      {
       "cell_index": 19
      }
     ]
    },
    "15b58fa6a129450cb98e187849381450": {
     "views": [
      {
       "cell_index": 19
      }
     ]
    },
    "235a7867f653432da3c1027fbb736f2b": {
     "views": [
      {
       "cell_index": 24
      }
     ]
    },
    "25ce3c86a2fd4b51bdd84613daf4b20d": {
     "views": [
      {
       "cell_index": 24
      }
     ]
    },
    "26ebfbf5b3694b429401018da15ad191": {
     "views": [
      {
       "cell_index": 15
      }
     ]
    },
    "3241b6013b814d578fd2cfc3c8583bc3": {
     "views": [
      {
       "cell_index": 19
      }
     ]
    },
    "33a4f063bc8b49a9b70bb4d82549f1a8": {
     "views": [
      {
       "cell_index": 24
      }
     ]
    },
    "44342eb4fb5f49dc85775ca8273e40bd": {
     "views": [
      {
       "cell_index": 24
      }
     ]
    },
    "49a6e89b1aa94927a4d9ec081111f0fb": {
     "views": [
      {
       "cell_index": 24
      }
     ]
    },
    "4ff8fa85f880437ca6781c76d657f898": {
     "views": [
      {
       "cell_index": 17
      }
     ]
    },
    "59c65f9f6dfb4397ad7a63d2f49842cb": {
     "views": [
      {
       "cell_index": 19
      }
     ]
    },
    "71846678b2ba49b2b716917e68897684": {
     "views": [
      {
       "cell_index": 15
      }
     ]
    },
    "7f7d05a557da4eed859f3f6213670b49": {
     "views": [
      {
       "cell_index": 17
      }
     ]
    },
    "90477163e5c5456990f09548e23e7603": {
     "views": [
      {
       "cell_index": 17
      }
     ]
    },
    "9aa8a3e6e6874b8f823808cb8ed3d2e3": {
     "views": [
      {
       "cell_index": 24
      }
     ]
    },
    "9fefb7692cd244a9b14bfb60c4806b83": {
     "views": [
      {
       "cell_index": 24
      }
     ]
    },
    "a513fbd829354533a6cd4fc94accca3b": {
     "views": [
      {
       "cell_index": 24
      }
     ]
    },
    "a950a3cd491a4e04a7e52625e503c84c": {
     "views": [
      {
       "cell_index": 15
      }
     ]
    },
    "d8ba1ff2f068426c92e52fbfe353f782": {
     "views": [
      {
       "cell_index": 24
      }
     ]
    },
    "eb90d3ecb8d9458498dde34ab6f2bed7": {
     "views": [
      {
       "cell_index": 24
      }
     ]
    },
    "ef22025eccda4d9d9ec8866db4af9594": {
     "views": [
      {
       "cell_index": 24
      }
     ]
    },
    "f32f9dedf73d4c2fa46739e375aa2bdc": {
     "views": [
      {
       "cell_index": 15
      }
     ]
    }
   },
   "version": "1.2.0"
  }
 },
 "nbformat": 4,
 "nbformat_minor": 1
}
