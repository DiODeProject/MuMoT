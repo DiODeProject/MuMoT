{
 "cells": [
  {
   "cell_type": "markdown",
   "metadata": {},
   "source": [
    "# MuMoT Test Suite"
   ]
  },
  {
   "cell_type": "code",
   "execution_count": null,
   "metadata": {},
   "outputs": [],
   "source": [
    "import MuMoT.MuMoT as mmt # if working directly from git clone\n",
    "#import MuMoT as mmt # if working with pip installed module"
   ]
  },
  {
   "cell_type": "markdown",
   "metadata": {},
   "source": [
    "## Substitution and display tests based on 2-d stop-signal model\n",
    "\n",
    "**TODO** LaTeX rates *and* reactants to be used to test rendering functionality in plots and widgets"
   ]
  },
  {
   "cell_type": "code",
   "execution_count": null,
   "metadata": {},
   "outputs": [],
   "source": [
    "%%model\n",
    "$\n",
    "U -> A : g_1\n",
    "U -> B : g_2\n",
    "A -> U : a_1\n",
    "B -> U : a_2\n",
    "A + U -> A + A : r_1\n",
    "B + U -> B + B : r_2\n",
    "A + B -> A + U : s\n",
    "A + B -> B + U : s\n",
    "$"
   ]
  },
  {
   "cell_type": "code",
   "execution_count": null,
   "metadata": {},
   "outputs": [],
   "source": [
    "model1 = mmt.parseModel(In[2])"
   ]
  },
  {
   "cell_type": "code",
   "execution_count": null,
   "metadata": {},
   "outputs": [],
   "source": [
    "int1 = model1.Integrate(initWidgets={'initialState':{'U': [1,0,1,0.01],'B': [0,0,1,0.1],'A': [0,0,1,0.1]}},\n",
    "                       conserved=True)"
   ]
  },
  {
   "cell_type": "code",
   "execution_count": null,
   "metadata": {},
   "outputs": [],
   "source": [
    "int1.showLogs()"
   ]
  },
  {
   "cell_type": "code",
   "execution_count": null,
   "metadata": {},
   "outputs": [],
   "source": [
    "evol1 = model1.numSimStateVar(['A', 'B', 'U'], initCondsSV = {'A': 0.2, 'B': 0.3, 'U': 0.5}, tend=50, tstep=0.05, \n",
    "                              legend_loc='center right', plotProportion=False)"
   ]
  },
  {
   "cell_type": "code",
   "execution_count": null,
   "metadata": {},
   "outputs": [],
   "source": [
    "evol1.showLogs()"
   ]
  },
  {
   "cell_type": "code",
   "execution_count": null,
   "metadata": {},
   "outputs": [],
   "source": [
    "model2 = model1.substitute('a_1 = 1/v_1, a_2 = 1/v_2, g_1 = v_1, g_2 = v_2, r_1 = v_1, r_2 = v_2')"
   ]
  },
  {
   "cell_type": "code",
   "execution_count": null,
   "metadata": {},
   "outputs": [],
   "source": [
    "model3 = model2.substitute('v_1 = \\\\mu + \\\\Delta/2, v_2 = \\\\mu - \\\\Delta/2')"
   ]
  },
  {
   "cell_type": "code",
   "execution_count": null,
   "metadata": {},
   "outputs": [],
   "source": [
    "model3.showODEs()"
   ]
  },
  {
   "cell_type": "code",
   "execution_count": null,
   "metadata": {},
   "outputs": [],
   "source": [
    "model3.show()"
   ]
  },
  {
   "cell_type": "code",
   "execution_count": null,
   "metadata": {},
   "outputs": [],
   "source": [
    "model3.visualise()"
   ]
  },
  {
   "cell_type": "markdown",
   "metadata": {},
   "source": [
    "### Check substitutions do not change original model"
   ]
  },
  {
   "cell_type": "code",
   "execution_count": null,
   "metadata": {},
   "outputs": [],
   "source": [
    "model1.showODEs()"
   ]
  },
  {
   "cell_type": "code",
   "execution_count": null,
   "metadata": {},
   "outputs": [],
   "source": [
    "model1.show()"
   ]
  },
  {
   "cell_type": "code",
   "execution_count": null,
   "metadata": {},
   "outputs": [],
   "source": [
    "model1.visualise()"
   ]
  },
  {
   "cell_type": "markdown",
   "metadata": {},
   "source": [
    "## Set system size"
   ]
  },
  {
   "cell_type": "code",
   "execution_count": null,
   "metadata": {},
   "outputs": [],
   "source": [
    "model4 = model3.substitute('U = N - \\A - \\B')"
   ]
  },
  {
   "cell_type": "code",
   "execution_count": null,
   "metadata": {},
   "outputs": [],
   "source": [
    "model4.showODEs()"
   ]
  },
  {
   "cell_type": "code",
   "execution_count": null,
   "metadata": {},
   "outputs": [],
   "source": [
    "int4 = model4.Integrate()"
   ]
  },
  {
   "cell_type": "code",
   "execution_count": null,
   "metadata": {},
   "outputs": [],
   "source": [
    "evol2 = model4.numSimStateVar(['A', 'B'], initCondsSV = {'A': 0.2, 'B': 0.3}, tend=50, tstep=0.05, \n",
    "                              legend_loc='center right')"
   ]
  },
  {
   "cell_type": "markdown",
   "metadata": {},
   "source": [
    "## 2d bifurcation plot tests"
   ]
  },
  {
   "cell_type": "code",
   "execution_count": null,
   "metadata": {},
   "outputs": [],
   "source": [
    "#modelBifCont1 = model4.bifurcation('s','B', initSV=[['A', 0.1], ['B', 0.9]], \n",
    "#                                   fontsize=35, BifParInit =5, ContMaxNumPoints=450)"
   ]
  },
  {
   "cell_type": "code",
   "execution_count": null,
   "metadata": {},
   "outputs": [],
   "source": [
    "modelBifCont1 = model4.bifurcation('s','A-B',initSV=[['A', 0.5], ['B', 0.5]])"
   ]
  },
  {
   "cell_type": "code",
   "execution_count": null,
   "metadata": {},
   "outputs": [],
   "source": [
    "modelBifCont1.showLogs()"
   ]
  },
  {
   "cell_type": "code",
   "execution_count": null,
   "metadata": {},
   "outputs": [],
   "source": [
    "model5 = model2.substitute('v_1 = v, v_2 = v')"
   ]
  },
  {
   "cell_type": "code",
   "execution_count": null,
   "metadata": {},
   "outputs": [],
   "source": [
    "model6 = model5.substitute('U = N - \\A - \\B')"
   ]
  },
  {
   "cell_type": "code",
   "execution_count": null,
   "metadata": {},
   "outputs": [],
   "source": [
    "model6.showODEs()"
   ]
  },
  {
   "cell_type": "code",
   "execution_count": null,
   "metadata": {
    "scrolled": false
   },
   "outputs": [],
   "source": [
    "#modelBifCont2 = model6.bifurcation('s','A',plottingMethod='mumot')"
   ]
  },
  {
   "cell_type": "code",
   "execution_count": null,
   "metadata": {},
   "outputs": [],
   "source": [
    "#modelBifCont2.showLogs()"
   ]
  },
  {
   "cell_type": "markdown",
   "metadata": {},
   "source": [
    "## 2d stream plot tests"
   ]
  },
  {
   "cell_type": "code",
   "execution_count": null,
   "metadata": {
    "scrolled": false
   },
   "outputs": [],
   "source": [
    "modelStreamCont1 = model4.stream('A', 'B',fontsize=25, xlab=r'this is the x-label', \n",
    "                                 showFixedPoints=True, showNoise=True)"
   ]
  },
  {
   "cell_type": "code",
   "execution_count": null,
   "metadata": {},
   "outputs": [],
   "source": [
    "modelStreamCont1.showLogs(tail=True)"
   ]
  },
  {
   "cell_type": "code",
   "execution_count": null,
   "metadata": {},
   "outputs": [],
   "source": [
    "modelStreamCont2 = model6.stream('A', 'B', showNoise=True, showFixedPoints=False)"
   ]
  },
  {
   "cell_type": "code",
   "execution_count": null,
   "metadata": {},
   "outputs": [],
   "source": [
    "modelStreamCont2.showLogs()"
   ]
  },
  {
   "cell_type": "markdown",
   "metadata": {},
   "source": [
    "## 2d vector plot tests"
   ]
  },
  {
   "cell_type": "code",
   "execution_count": null,
   "metadata": {},
   "outputs": [],
   "source": [
    "modelVectorCont1 = model4.vector('A', 'B', showFixedPoints=True)"
   ]
  },
  {
   "cell_type": "code",
   "execution_count": null,
   "metadata": {},
   "outputs": [],
   "source": [
    "modelVectorCont1.showLogs(tail=True)"
   ]
  },
  {
   "cell_type": "markdown",
   "metadata": {},
   "source": [
    "## SSA and multiagent tests"
   ]
  },
  {
   "cell_type": "code",
   "execution_count": null,
   "metadata": {
    "scrolled": false
   },
   "outputs": [],
   "source": [
    "model4.SSA()"
   ]
  },
  {
   "cell_type": "code",
   "execution_count": null,
   "metadata": {},
   "outputs": [],
   "source": [
    "ssa = model4.SSA(initWidgets={'realtimePlot':True, \n",
    "                        'initialState':{'U': [1,0,1,0.01],'B': [0,0,1,0.1],'A': [0,0,1,0.1]},\n",
    "                        'runs':[3,1,20,1]})"
   ]
  },
  {
   "cell_type": "code",
   "execution_count": null,
   "metadata": {},
   "outputs": [],
   "source": [
    "ma = model4.multiagent()"
   ]
  },
  {
   "cell_type": "code",
   "execution_count": null,
   "metadata": {},
   "outputs": [],
   "source": [
    "model4.multiagent(initWidgets={'realtimePlot':True, 'systemSize':[50,3,100,1],\n",
    "                        'initialState':{'U': [1,0,1,0.01],'B': [0,0,1,0.1],'A': [0,0,1,0.1]},\n",
    "                        'netType':'dynamic', 'visualisationType':'graph', 'showTrace':True, 'showInteractions':True})"
   ]
  },
  {
   "cell_type": "code",
   "execution_count": null,
   "metadata": {},
   "outputs": [],
   "source": [
    "ma=model4.multiagent(initWidgets={'realtimePlot':False, 'netType':'erdos-renyi', 'netParam':[0.2,0.1,1,0.05],\n",
    "                                    'systemSize':[15,3,50,1],\n",
    "                        'initialState':{'U': [1,0,1,0.01],'B': [0,0,1,0.1],'A': [0,0,1,0.1]},\n",
    "                        'runs':[3,1,20,1]})"
   ]
  },
  {
   "cell_type": "markdown",
   "metadata": {},
   "source": [
    "## 3d vector plot test"
   ]
  },
  {
   "cell_type": "code",
   "execution_count": null,
   "metadata": {},
   "outputs": [],
   "source": [
    "%%model\n",
    "$\n",
    "U -> A : g_1\n",
    "U -> B : g_2\n",
    "U -> C : g_3\n",
    "A -> U : a_1\n",
    "B -> U : a_2\n",
    "C -> U : a_3\n",
    "A + U -> A + A : r_1\n",
    "B + U -> B + B : r_2\n",
    "C + U -> C + C : r_3\n",
    "A + B -> A + U : s\n",
    "A + B -> B + U : s\n",
    "A + C -> A + U : s\n",
    "A + C -> C + U : s\n",
    "B + C -> B + U : s\n",
    "B + C -> C + U : s\n",
    "$"
   ]
  },
  {
   "cell_type": "code",
   "execution_count": null,
   "metadata": {},
   "outputs": [],
   "source": [
    "model7 = mmt.parseModel(In[36])"
   ]
  },
  {
   "cell_type": "code",
   "execution_count": null,
   "metadata": {},
   "outputs": [],
   "source": [
    "model8 = model7.substitute('U = N - A - B - C')"
   ]
  },
  {
   "cell_type": "code",
   "execution_count": null,
   "metadata": {},
   "outputs": [],
   "source": [
    "modelVectorCont2 = model8.vector('A', 'B', 'C')"
   ]
  },
  {
   "cell_type": "code",
   "execution_count": null,
   "metadata": {},
   "outputs": [],
   "source": [
    "modelVectorCont2.showLogs()"
   ]
  },
  {
   "cell_type": "markdown",
   "metadata": {},
   "source": [
    "## Non-constant system size tests with Brusselator"
   ]
  },
  {
   "cell_type": "code",
   "execution_count": null,
   "metadata": {},
   "outputs": [],
   "source": [
    "%%model\n",
    "$\n",
    "(\\alpha) -> X : \\gamma\n",
    "X + X + Y -> X + X + X : \\chi\n",
    "(\\beta) + X -> Y + \\emptyset : \\delta\n",
    "X -> \\emptyset : \\xi\n",
    "$"
   ]
  },
  {
   "cell_type": "code",
   "execution_count": null,
   "metadata": {},
   "outputs": [],
   "source": [
    "model9 = mmt.parseModel(In[41])"
   ]
  },
  {
   "cell_type": "code",
   "execution_count": null,
   "metadata": {},
   "outputs": [],
   "source": [
    "int9 = model9.Integrate()"
   ]
  },
  {
   "cell_type": "code",
   "execution_count": null,
   "metadata": {},
   "outputs": [],
   "source": [
    "int9.showLogs()"
   ]
  },
  {
   "cell_type": "code",
   "execution_count": null,
   "metadata": {},
   "outputs": [],
   "source": [
    "model9.show()"
   ]
  },
  {
   "cell_type": "code",
   "execution_count": null,
   "metadata": {},
   "outputs": [],
   "source": [
    "model9.showODEs()"
   ]
  },
  {
   "cell_type": "code",
   "execution_count": null,
   "metadata": {},
   "outputs": [],
   "source": [
    "model9.showReactants()"
   ]
  },
  {
   "cell_type": "code",
   "execution_count": null,
   "metadata": {},
   "outputs": [],
   "source": [
    "model9.visualise()"
   ]
  },
  {
   "cell_type": "code",
   "execution_count": null,
   "metadata": {},
   "outputs": [],
   "source": [
    "modelStreamCont3 = model9.stream('X','Y', showFixedPoints = False, showNoise=True)"
   ]
  },
  {
   "cell_type": "code",
   "execution_count": null,
   "metadata": {},
   "outputs": [],
   "source": [
    "modelStreamCont3.showLogs(tail = True)"
   ]
  },
  {
   "cell_type": "code",
   "execution_count": null,
   "metadata": {},
   "outputs": [],
   "source": [
    "# these operations are necessary to avoid issue #78\n",
    "model9 = model9.substitute('\\\\xi = a')\n",
    "model9 = model9.substitute('a = \\\\xi')\n",
    "model9.SSA(visualisationType= 'final', final_x = 'X', final_y='Y', maxTime= 10, runs= 10,\n",
    "          plotProportions= True, aggregateResults= True,  realtimePlot= False,\n",
    "           params = [ ('systemSize', 30 )] )"
   ]
  },
  {
   "cell_type": "markdown",
   "metadata": {},
   "source": [
    "## Master Equation and noise approximation tests"
   ]
  },
  {
   "cell_type": "code",
   "execution_count": null,
   "metadata": {},
   "outputs": [],
   "source": [
    "model9.showODEs_vKE()"
   ]
  },
  {
   "cell_type": "code",
   "execution_count": null,
   "metadata": {},
   "outputs": [],
   "source": [
    "model9.showMasterEquation()"
   ]
  },
  {
   "cell_type": "code",
   "execution_count": null,
   "metadata": {},
   "outputs": [],
   "source": [
    "model9.showFokkerPlanckEquation()"
   ]
  },
  {
   "cell_type": "code",
   "execution_count": null,
   "metadata": {},
   "outputs": [],
   "source": [
    "model9.showNoiseEOM()"
   ]
  },
  {
   "cell_type": "code",
   "execution_count": null,
   "metadata": {},
   "outputs": [],
   "source": [
    "model9.showNoiseStationarySol()"
   ]
  },
  {
   "cell_type": "markdown",
   "metadata": {},
   "source": [
    "## View / controller separation tests"
   ]
  },
  {
   "cell_type": "code",
   "execution_count": null,
   "metadata": {
    "scrolled": false
   },
   "outputs": [],
   "source": [
    "#soloView1 = mmt.MuMoTbifurcationView(model4, None, 's', 'A', plottingMethod='pyds',\n",
    "#                                     params = [('\\mu', 1), ('v', 2), ('\\Delta', 0)])"
   ]
  },
  {
   "cell_type": "code",
   "execution_count": null,
   "metadata": {},
   "outputs": [],
   "source": [
    "soloView2 = mmt.MuMoTstreamView(model6, None, None, 'A', 'B', params = [('s', 1), ('v', 2)])"
   ]
  },
  {
   "cell_type": "code",
   "execution_count": null,
   "metadata": {},
   "outputs": [],
   "source": [
    "model10 = model8.substitute('a_1 = a, a_2 = a, a_3 = a, g_1 = g, g_2 = g, g_3 = g, r_1 = r, r_2 = r, r_3 = r')"
   ]
  },
  {
   "cell_type": "code",
   "execution_count": null,
   "metadata": {},
   "outputs": [],
   "source": [
    "soloView3 = mmt.MuMoTvectorView(model10, None, 'A', 'B', 'C', params = [('s', 5), ('a', 1/2), ('r', 5), ('g', 1)])"
   ]
  },
  {
   "cell_type": "code",
   "execution_count": null,
   "metadata": {},
   "outputs": [],
   "source": [
    "soloView3.showLogs()"
   ]
  },
  {
   "cell_type": "code",
   "execution_count": null,
   "metadata": {},
   "outputs": [],
   "source": [
    "mmt.MuMoTSSAView(model4, None, params = [('\\\\Delta', 2.0), ('s', 2.0), ('\\\\mu', 2.0), ('plotLimits', 1), ('systemSize', 35)], SSParams = {'aggregateResults': False, 'maxTime': 3.0, 'realtimePlot': False, 'runs': 15, 'plotProportions': False, 'initialState': {'A': 0.0, 'B': 0.0, 'U': 1.0}, 'randomSeed': 191853798, 'final_x': 'A', 'final_y': 'B', 'visualisationType': 'final'} )"
   ]
  },
  {
   "cell_type": "code",
   "execution_count": null,
   "metadata": {
    "scrolled": false
   },
   "outputs": [],
   "source": [
    "mmt.MuMoTmultiagentView(model4, None, params = [('\\\\Delta', 2.0), ('\\\\mu', 2.0), ('s', 2.0), ('plotLimits', 1), ('systemSize', 15)], SSParams = {'maxTime': 3.0, 'netType': 'erdos-renyi', 'realtimePlot': False, 'netParam': 0.2, 'aggregateResults': True, 'randomSeed': 1440908719, 'timestepSize': 0.136363636363636, 'plotProportions': False, 'initialState': {'A': 0.0, 'U': 1.0, 'B': 0.0}, 'runs': 3, 'visualisationType': 'evo'} )"
   ]
  },
  {
   "cell_type": "markdown",
   "metadata": {},
   "source": [
    "## Multi controller tests"
   ]
  },
  {
   "cell_type": "code",
   "execution_count": null,
   "metadata": {
    "scrolled": false
   },
   "outputs": [],
   "source": [
    "multiController1 = mmt.MuMoTmultiController([model4.stream('A', 'B', silent = True, showFixedPoints=False), \n",
    "                                             model4.vector('A', 'B', silent = True)], shareAxes = True)"
   ]
  },
  {
   "cell_type": "code",
   "execution_count": null,
   "metadata": {},
   "outputs": [],
   "source": [
    "multiController1.showLogs()"
   ]
  },
  {
   "cell_type": "code",
   "execution_count": null,
   "metadata": {
    "scrolled": false
   },
   "outputs": [],
   "source": [
    "multiController2 = mmt.MuMoTmultiController([model4.vector('A', 'B', silent = True, showFixedPoints=False), model4.stream('A', 'B', silent = True)])"
   ]
  },
  {
   "cell_type": "code",
   "execution_count": null,
   "metadata": {},
   "outputs": [],
   "source": [
    "multiController2.showLogs()"
   ]
  },
  {
   "cell_type": "code",
   "execution_count": null,
   "metadata": {},
   "outputs": [],
   "source": [
    "multiController3 = mmt.MuMoTmultiController([model4.stream('A', 'B', silent = True), \n",
    "                                             model4.vector('A', 'B', silent = True)], shareAxes = True, silent = True)"
   ]
  },
  {
   "cell_type": "code",
   "execution_count": null,
   "metadata": {},
   "outputs": [],
   "source": [
    "multiController4 = mmt.MuMoTmultiController([model4.bifurcation('s','A-B', params=[('\\\\Delta', 0.5), ('\\\\mu', 3)], \n",
    "                                                                initCondsSV = {'A': 0.3, 'B': 0.1}, \n",
    "                                               choose_xrange = [0,5], BifParInit = 4.5, silent = True), \n",
    "                                             model4.bifurcation('s','A-B', params=[('\\\\Delta', -0.5), ('\\\\mu', 3)],\n",
    "                                                                initCondsSV = {'A': 0.3, 'B': 0.1}, \n",
    "                                               choose_xrange = [0,5], BifParInit = 4.5, silent = True)], \n",
    "                                            shareAxes = True)"
   ]
  },
  {
   "cell_type": "code",
   "execution_count": null,
   "metadata": {},
   "outputs": [],
   "source": [
    "mtc = mmt.MuMoTmultiController([\n",
    "        model4.SSA( silent = True),\n",
    "        model4.stream(\"A\",\"B\", silent=True),\n",
    "        #model4.multiagent(silent = True) \n",
    "],\n",
    "                         #netParam=0.2,netType='erdos-renyi', \n",
    "                         initWidgets={'initialState':{'U': [1,0,1,0.001],'B': [0,0,1,0.1],'A': [0,0,1,0.1]},\n",
    "                                      'runs':[50,1,100,1],'aggregateResults':True},\n",
    "                        params=[('v_1', 4), ('systemSize',40)],\n",
    "                        visualisationType='final', final_x='A', final_y='B',\n",
    "                         shareAxes = True)"
   ]
  },
  {
   "cell_type": "code",
   "execution_count": null,
   "metadata": {
    "scrolled": false
   },
   "outputs": [],
   "source": [
    "mc = mmt.MuMoTmultiController([\n",
    "                            model4.numSimStateVar(tend=2, initCondsSV = {'B': 0.0, 'A':0.0}, \n",
    "                                                  params = [('\\\\Delta', 0.5), ('\\\\mu', 2.0), ('s', 0.5)],\n",
    "                                                  silent=True),\n",
    "                            model4.SSA(\n",
    "                                params = [('\\\\Delta', 0.5), ('\\\\mu', 2.0), ('s', 0.5)],\n",
    "                                maxTime=2, plotProportions=True,\n",
    "                                initialState = {'B': 0.0, 'U': 1.0, 'A': 0.0},\n",
    "                                initWidgets={'runs':[1,1,50,1]},\n",
    "                                silent = True),],\n",
    "                            shareAxes = True)"
   ]
  },
  {
   "cell_type": "code",
   "execution_count": null,
   "metadata": {},
   "outputs": [],
   "source": [
    "mc2 = mmt.MuMoTmultiController([\n",
    "                            model4.multiagent(silent=True, visualisationType='graph'),\n",
    "                            model4.SSA(silent = True, visualisationType='final')],\n",
    "                                params = [('\\\\Delta', 0.5), ('\\\\mu', 2.0), ('s', 0.5)],\n",
    "                                maxTime=4, plotProportions=True,\n",
    "                                initialState = {'B': 0.0, 'U': 1.0, 'A': 0.0},\n",
    "                                initWidgets={'runs':[1,1,50,1]},\n",
    "                            shareAxes = False)"
   ]
  },
  {
   "cell_type": "markdown",
   "metadata": {},
   "source": [
    "### Nested multicontrollers"
   ]
  },
  {
   "cell_type": "code",
   "execution_count": null,
   "metadata": {},
   "outputs": [],
   "source": [
    "#multiController4 = mmt.MuMoTmultiController([model10.vector('A', 'B', 'C', silent = True, showFixedPoints=True), \n",
    "#                                             multiController3])"
   ]
  },
  {
   "cell_type": "code",
   "execution_count": null,
   "metadata": {},
   "outputs": [],
   "source": [
    "#multiController4.showLogs()"
   ]
  },
  {
   "cell_type": "markdown",
   "metadata": {},
   "source": [
    "## Bookmark / partial controller tests"
   ]
  },
  {
   "cell_type": "code",
   "execution_count": null,
   "metadata": {},
   "outputs": [],
   "source": [
    "partial1 = model9.stream('X','Y', params = [('\\\\alpha', 1), ('plotLimits', 2)], showFixedPoints = False)"
   ]
  },
  {
   "cell_type": "code",
   "execution_count": null,
   "metadata": {},
   "outputs": [],
   "source": [
    "modelBifCont1._view._build_bookmark().replace('\\\\\\\\','\\\\')"
   ]
  },
  {
   "cell_type": "code",
   "execution_count": null,
   "metadata": {},
   "outputs": [],
   "source": [
    "bookmark1 = model4.bifurcation('s', 'A', 'B', params = [('\\\\mu', 0.5), ('\\\\Delta', 0.5), ('plotLimits', 1), ('systemSize', 1)], initSV = [['A', 0.5], ['B', 0.5]], bookmark = False)"
   ]
  },
  {
   "cell_type": "code",
   "execution_count": null,
   "metadata": {},
   "outputs": [],
   "source": [
    "modelStreamCont3._view._build_bookmark().replace('\\\\\\\\','\\\\')"
   ]
  },
  {
   "cell_type": "code",
   "execution_count": null,
   "metadata": {},
   "outputs": [],
   "source": [
    "bookmark2 = model9.stream('X', 'Y', params = [('\\\\alpha', 0.5), ('\\\\xi', 0.5), ('\\\\delta', 0.5), ('\\\\chi', 0.5), ('\\\\beta', 0.5), ('\\\\gamma', 0.5), ('plotLimits', 1.0), ('systemSize', 1)], showFixedPoints = False, bookmark = False)"
   ]
  },
  {
   "cell_type": "code",
   "execution_count": null,
   "metadata": {},
   "outputs": [],
   "source": [
    "modelVectorCont1._view._build_bookmark().replace('\\\\\\\\','\\\\')"
   ]
  },
  {
   "cell_type": "code",
   "execution_count": null,
   "metadata": {},
   "outputs": [],
   "source": [
    "bookmark3 = model4.vector('A', 'B', params = [('\\\\mu', 0.5), ('s', 0.5), ('\\\\Delta', 0.5), ('plotLimits', 1), ('systemSize', 1)], showFixedPoints = True, bookmark = False)"
   ]
  },
  {
   "cell_type": "code",
   "execution_count": null,
   "metadata": {},
   "outputs": [],
   "source": [
    "modelVectorCont2._view._build_bookmark().replace('\\\\\\\\','\\\\')"
   ]
  },
  {
   "cell_type": "code",
   "execution_count": null,
   "metadata": {},
   "outputs": [],
   "source": [
    "bookmark4 = model8.vector('A', 'B', 'C', params = [('r_{3}', 0.5), ('a_{1}', 0.5), ('r_{1}', 0.5), ('r_{2}', 0.5), ('a_{3}', 0.5), ('g_{2}', 0.5), ('g_{3}', 0.5), ('s', 0.5), ('a_{2}', 0.5), ('g_{1}', 0.5), ('plotLimits', 1), ('systemSize', 1)], bookmark = False)"
   ]
  },
  {
   "cell_type": "code",
   "execution_count": null,
   "metadata": {},
   "outputs": [],
   "source": [
    "bookmark5 = mmt.MuMoTmultiController([model4.stream('A', 'B', silent = True, showFixedPoints = False, bookmark = False), model4.vector('A', 'B', silent = True, bookmark = False)], params = [('\\\\mu', 0.5), ('s', 0.5), ('\\\\Delta', 0.5), ('plotLimits', 1), ('systemSize', 1)], shareAxes = True, bookmark = False)"
   ]
  },
  {
   "cell_type": "code",
   "execution_count": null,
   "metadata": {},
   "outputs": [],
   "source": [
    "bookmark6 = mmt.MuMoTmultiController([model4.vector('A', 'B', silent = True, showFixedPoints = False, bookmark = False), model4.stream('A', 'B', silent = True, bookmark = False)], params = [('\\\\mu', 0.5), ('s', 0.5), ('\\\\Delta', 0.5), ('plotLimits', 1), ('systemSize', 1)], bookmark = False)"
   ]
  },
  {
   "cell_type": "code",
   "execution_count": null,
   "metadata": {},
   "outputs": [],
   "source": [
    "bookmark7 = model4.SSA(params = [('\\\\Delta', 2.0), ('s', 2.0), ('\\\\mu', 2.0), ('plotLimits', 1), ('systemSize', 10)], initialState = {'B': 0.0, 'U': 1.0, 'A': 0.0}, maxTime = 3.0, randomSeed = 191853798, visualisationType = 'barplot', plotProportions = True, realtimePlot = False, runs = 5, aggregateResults = True, silent = False, bookmark = False)"
   ]
  },
  {
   "cell_type": "code",
   "execution_count": null,
   "metadata": {
    "scrolled": false
   },
   "outputs": [],
   "source": [
    "bookmark8 = model4.multiagent(params = [('\\\\Delta', 2.0), ('s', 2.0), ('\\\\mu', 2.0), ('plotLimits', 1), ('systemSize', 25)], initialState = {'B': 0.0, 'U': 1.0, 'A': 0.0}, maxTime = 3.0, timestepSize = 0.13636363636363635, randomSeed = 4150422879, netType = 'barabasi-albert', netParam = 3.0, visualisationType = 'graph', plotProportions = False, realtimePlot = False, runs = 1, aggregateResults = True, silent = False, bookmark = False)"
   ]
  },
  {
   "cell_type": "code",
   "execution_count": null,
   "metadata": {},
   "outputs": [],
   "source": [
    "#bookmark7 = nested multicontroller bookmark"
   ]
  }
 ],
 "metadata": {
  "anaconda-cloud": {},
  "kernelspec": {
   "display_name": "Python 3",
   "language": "python",
   "name": "python3"
  },
  "language_info": {
   "codemirror_mode": {
    "name": "ipython",
    "version": 3
   },
   "file_extension": ".py",
   "mimetype": "text/x-python",
   "name": "python",
   "nbconvert_exporter": "python",
   "pygments_lexer": "ipython3",
   "version": "3.5.4"
  },
  "toc": {
   "base_numbering": 1,
   "nav_menu": {},
   "number_sections": true,
   "sideBar": true,
   "skip_h1_title": false,
   "title_cell": "Table of Contents",
   "title_sidebar": "Contents",
   "toc_cell": false,
   "toc_position": {},
   "toc_section_display": true,
   "toc_window_display": false
  },
  "widgets": {
   "state": {
    "102f9ac3140b450092db735127c32b5f": {
     "views": [
      {
       "cell_index": 19
      }
     ]
    },
    "15b58fa6a129450cb98e187849381450": {
     "views": [
      {
       "cell_index": 19
      }
     ]
    },
    "235a7867f653432da3c1027fbb736f2b": {
     "views": [
      {
       "cell_index": 24
      }
     ]
    },
    "25ce3c86a2fd4b51bdd84613daf4b20d": {
     "views": [
      {
       "cell_index": 24
      }
     ]
    },
    "26ebfbf5b3694b429401018da15ad191": {
     "views": [
      {
       "cell_index": 15
      }
     ]
    },
    "3241b6013b814d578fd2cfc3c8583bc3": {
     "views": [
      {
       "cell_index": 19
      }
     ]
    },
    "33a4f063bc8b49a9b70bb4d82549f1a8": {
     "views": [
      {
       "cell_index": 24
      }
     ]
    },
    "44342eb4fb5f49dc85775ca8273e40bd": {
     "views": [
      {
       "cell_index": 24
      }
     ]
    },
    "49a6e89b1aa94927a4d9ec081111f0fb": {
     "views": [
      {
       "cell_index": 24
      }
     ]
    },
    "4ff8fa85f880437ca6781c76d657f898": {
     "views": [
      {
       "cell_index": 17
      }
     ]
    },
    "59c65f9f6dfb4397ad7a63d2f49842cb": {
     "views": [
      {
       "cell_index": 19
      }
     ]
    },
    "71846678b2ba49b2b716917e68897684": {
     "views": [
      {
       "cell_index": 15
      }
     ]
    },
    "7f7d05a557da4eed859f3f6213670b49": {
     "views": [
      {
       "cell_index": 17
      }
     ]
    },
    "90477163e5c5456990f09548e23e7603": {
     "views": [
      {
       "cell_index": 17
      }
     ]
    },
    "9aa8a3e6e6874b8f823808cb8ed3d2e3": {
     "views": [
      {
       "cell_index": 24
      }
     ]
    },
    "9fefb7692cd244a9b14bfb60c4806b83": {
     "views": [
      {
       "cell_index": 24
      }
     ]
    },
    "a513fbd829354533a6cd4fc94accca3b": {
     "views": [
      {
       "cell_index": 24
      }
     ]
    },
    "a950a3cd491a4e04a7e52625e503c84c": {
     "views": [
      {
       "cell_index": 15
      }
     ]
    },
    "d8ba1ff2f068426c92e52fbfe353f782": {
     "views": [
      {
       "cell_index": 24
      }
     ]
    },
    "eb90d3ecb8d9458498dde34ab6f2bed7": {
     "views": [
      {
       "cell_index": 24
      }
     ]
    },
    "ef22025eccda4d9d9ec8866db4af9594": {
     "views": [
      {
       "cell_index": 24
      }
     ]
    },
    "f32f9dedf73d4c2fa46739e375aa2bdc": {
     "views": [
      {
       "cell_index": 15
      }
     ]
    }
   },
   "version": "1.2.0"
  }
 },
 "nbformat": 4,
 "nbformat_minor": 1
}
