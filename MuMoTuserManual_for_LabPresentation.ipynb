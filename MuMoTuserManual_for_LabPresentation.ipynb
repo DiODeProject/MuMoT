{
 "cells": [
  {
   "cell_type": "markdown",
   "metadata": {},
   "source": [
    "# MuMoT User Manual\n",
    "## Multiscale Modelling Tool\n",
    "\n",
    "This is the user manual for [MuMoT](https://github.com/DiODeProject/MuMoT), a software tool developed at the University of Sheffield as part of the [DiODe](http://diode.group.shef.ac.uk) project\n",
    "\n",
    "*Current MuMoT version*: **0.0**"
   ]
  },
  {
   "cell_type": "markdown",
   "metadata": {},
   "source": [
    "## Working with MuMoT\n",
    "\n",
    "MuMoT runs inside [Jupyter notebooks](http://jupyter.org) - since you are reading this User Manual you have presumably already installed Jupyter, or are using an installation provided to you\n",
    "\n",
    "Next, you need to install MuMoT itself; since MuMoT is a Python package it can be installed from PyPi - see the [project page](https://diodeproject.github.io/MuMoT/) for more details\n",
    "\n",
    "To run commands in 'Code' cells it's usually easiest just to hit `Shift + Enter`; here is some basic information on [working with Jupyter notebooks](http://jupyter-notebook.readthedocs.io/en/stable/examples/Notebook/Notebook%20Basics.html)\n",
    "\n",
    "With Jupyter and MuMot both installed, you simply need to import the MuMoT package into your notebook; we recommend you refer to it as `mmt`"
   ]
  },
  {
   "cell_type": "code",
   "execution_count": null,
   "metadata": {
    "collapsed": false
   },
   "outputs": [],
   "source": [
    "import MuMoT.MuMoT as mmt"
   ]
  },
  {
   "cell_type": "markdown",
   "metadata": {},
   "source": [
    "## Defining your first model\n",
    "\n",
    "If everything went well with importing MuMoT you should have seen the message\n",
    "\n",
    "``Created `%%model` as an alias for `%%latex``\n",
    "\n",
    "MuMoT models are defined using the `%%model` keyword within a cell, and have a very simple syntax; since MuMoT works with *chemical kinetic* or *reaction kinetic* models, you simply have to describe the reactions that take place, and the rates with which they occur. For example\n",
    "\n",
    "`A + A -> A + U: s`\n",
    "\n",
    "is a very simple reaction, in which two particles of type $A$ interact, and one changes to type $U$, at rate $s$\n",
    "\n",
    "These kind of reaction rules are quite general; they describe a lot of chemical reactions, as well as collective behaviour in which individuals interact to change each other's state, and even demographic models in which individuals are born and die\n",
    "\n",
    "Our first model will be based on signalling behaviour observed in honeybee swarms, as described in the following papers:\n",
    "* Seeley, T.D, Visscher, P.K. Schlegel, T., Hogan, P.M., Franks, N.R. & Marshall, J.A.R. (2012) [Stop signals provide cross inhibition in collective decision-making by honeybee swarms](http://www.sciencemag.org/content/335/6064/108.full.pdf). *Science* **335**, 108-111\n",
    "* Pais, D., Hogan, P.M., Schlegel, T., Franks, N.R., Leonard, N.E. & Marshall, J.A.R. (2013) [A mechanism for value-sensitive decision-making](http://journals.plos.org/plosone/article?id=10.1371/journal.pone.0073216).  *PLoS one* **8**(9), e73216\n",
    "\n",
    "The `$` at the start and end just allow us to use LaTeX [codes](http://reu.dimacs.rutgers.edu/Symbols.pdf) for our state and rate labels, allowing us to use  letters from different alphabets, such as Greek, and other nice formatting - if you don't know LaTeX don't worry about this - leave in the `$` signs, they won't hurt\n",
    "\n",
    "**N.B.** currently it is important to put spaces between all elements of each rule, as below\n",
    "\n",
    "OK, here we go..."
   ]
  },
  {
   "cell_type": "code",
   "execution_count": null,
   "metadata": {
    "collapsed": false
   },
   "outputs": [],
   "source": [
    "%%model\n",
    "$\n",
    "U -> A : g_A\n",
    "U -> B : g_B\n",
    "A -> U : a_A\n",
    "B -> U : a_B\n",
    "A + U -> A + A : r_A\n",
    "B + U -> B + B : r_B\n",
    "A + B -> A + U : s\n",
    "A + B -> B + U : s\n",
    "$"
   ]
  },
  {
   "cell_type": "markdown",
   "metadata": {},
   "source": [
    "Now we have our model, and Jupyter should have reprinted the rules underneath the cell you input them in\n",
    "\n",
    "You can see that actually the `_` code enables you to use subscripts, which can be handy for distinguishing related rates - in this model there are two distinct nest sites for the honeybee swarm to choose between, *A* and *B*, and rates associated with each one\n",
    "\n",
    "We have our model, but currently it is not useful; it's only a definition, not a fully-fledged model that we can start analysing with MuMoT. To make one of those we have to use the `parseModel` command; we simply pass in a reference to the cell where we defined our model..."
   ]
  },
  {
   "cell_type": "code",
   "execution_count": null,
   "metadata": {
    "collapsed": false
   },
   "outputs": [],
   "source": [
    "model1 = mmt.parseModel(In[2])"
   ]
  },
  {
   "cell_type": "markdown",
   "metadata": {},
   "source": [
    "If there is no output from `parseModel` that is good news - it means the model was valid. Now we have an object, which we called `model1`, which is a version of the model that we can start doing useful work with. For example, we can see its 'reactants' (or states, or types of individual; remember the terminology comes from chemical reactions)..."
   ]
  },
  {
   "cell_type": "code",
   "execution_count": null,
   "metadata": {
    "collapsed": false
   },
   "outputs": [],
   "source": [
    "model1.showReactants()"
   ]
  },
  {
   "cell_type": "markdown",
   "metadata": {},
   "source": [
    "...and the rates the reactions happen at"
   ]
  },
  {
   "cell_type": "code",
   "execution_count": null,
   "metadata": {
    "collapsed": false
   },
   "outputs": [],
   "source": [
    "model1.showRates()"
   ]
  },
  {
   "cell_type": "markdown",
   "metadata": {},
   "source": [
    "Note that here MuMoT also helpfully tells us which reactions in the original model definition each rate is associated with\n",
    "\n",
    "We can also look at the reaction equations in a slightly nicer format..."
   ]
  },
  {
   "cell_type": "code",
   "execution_count": null,
   "metadata": {
    "collapsed": false
   },
   "outputs": [],
   "source": [
    "model1.show()"
   ]
  },
  {
   "cell_type": "markdown",
   "metadata": {},
   "source": [
    "We can even see a simple figure representing our model..."
   ]
  },
  {
   "cell_type": "code",
   "execution_count": null,
   "metadata": {
    "collapsed": false
   },
   "outputs": [],
   "source": [
    "model1.visualise()"
   ]
  },
  {
   "cell_type": "markdown",
   "metadata": {},
   "source": [
    "This figure attempts to represent the nature of the interactions between reactants graphically, from simple transitions (arrows), inhibitions (filled circles) and induced switches (arrows with filled circles at the origin); to understand the different interaction patterns try relating the arrows with the reactions we defined above, by reference to the rates they are labelled with"
   ]
  },
  {
   "cell_type": "markdown",
   "metadata": {},
   "source": [
    "## Exploring your new model\n",
    "\n",
    "If you want to know what commands you can send to an object, Jupyter lets you type out the object name, then a `.`, then hit `Tab` to see a list of accepted commands. You can also consult the [Command reference](#comreference) for a full list of commands, and details on their use\n",
    "\n",
    "One commmand that looks intruiguing is `showODEs`"
   ]
  },
  {
   "cell_type": "code",
   "execution_count": null,
   "metadata": {
    "collapsed": false
   },
   "outputs": [],
   "source": [
    "model1.showODEs()"
   ]
  },
  {
   "cell_type": "markdown",
   "metadata": {},
   "source": [
    "This is where things start getting interesting, because equations are what mathematicians analyse. `showODEs` shows the model's Ordinary Differential Equations, which describe how the populations of reactants in the model change over time. MuMoT has derived these equations for you automatically, from your description of the reactions. If you are familiar with ODEs then you should be able to read these quite easily. However even if you are not, you can still work with them\n",
    "\n",
    "So, what analysis can we do in MuMoT now we've found our ODEs?\n",
    "\n",
    "Well, we might want to look at how the state of the system (the proportions of the different reactants) change on average over time...\n",
    "\n",
    "...but before we can do that, we need to let MuMoT know that this is actually a simpler set of equations than it appears to be. $A$, $B$, and $U$ represent states that honebees can be in during the swarming process, either committed to site *A*, committed to site *B*, or *U*ncommitted. Because there is a constant number of individuals in the swarm during a decision, one of these equations is redundant; the change in the uncommitted bee frequency can be worked out from the change in frequencies of A-committed and B-committed bees, for example\n",
    "\n",
    "We let MuMoT know this by defining one of the reactants in terms of the other, using `substitute`"
   ]
  },
  {
   "cell_type": "code",
   "execution_count": null,
   "metadata": {
    "collapsed": true
   },
   "outputs": [],
   "source": [
    "model2 = model1.substitute('U = N - A - B')"
   ]
  },
  {
   "cell_type": "markdown",
   "metadata": {},
   "source": [
    "Now we have a simplified model, `model2`, which only has two equations, because we have told MuMoT that the total number of uncommitted bees $U$ is the total number of bees in the swarm $N$, minus the numbers committed to the two different nests ($A$ and $B$)"
   ]
  },
  {
   "cell_type": "code",
   "execution_count": null,
   "metadata": {
    "collapsed": false
   },
   "outputs": [],
   "source": [
    "model2.showODEs()"
   ]
  },
  {
   "cell_type": "markdown",
   "metadata": {},
   "source": [
    "Now we can look at how the model behaves, by asking for a vector plot of the two reactants $A$ and $B$..."
   ]
  },
  {
   "cell_type": "code",
   "execution_count": null,
   "metadata": {
    "collapsed": false
   },
   "outputs": [],
   "source": [
    "vector1 = model2.vector('A', 'B')"
   ]
  },
  {
   "cell_type": "markdown",
   "metadata": {},
   "source": [
    "Now we can see how to start working with models in MuMoT. The figure you see is a vector plot, which shows on average how the state of the system (proportions of bees in states $A$ and $B$) will change over time, from any point in the state space. The arrows give the direction the system will move in, and their lengths show how fast. Because the total number of bees is constant, $A+B$ can never exceed 1, so the top right hand triangle of the figure is greyed out; these are impossible states. The number of uncommitted bees $U$, which we hid away earlier, is not shown, but it is simply $1-A-B$. But what we really care about in a decision-making process is how the number of 'voters' for the competing options changes over time\n",
    "\n",
    "You will also notice that there are some sliders above the figure; MuMoT gives you a slider for every rate in the model, and by changing their values, you can see what happens to the behaviour of the system\n",
    "\n",
    "Jupyter also lets you interact nicely with the figure; you can zoom in, back out, pan around, and save, all by clicking the icons that appear underneath it. If you want to save a figure for a paper, simply click the disk icon. And if while exploring the model you find a nice figure, you can click the 'off' icon in its top right to snapshot it, and generate a new interactive figure to play with. You can then simply right-click your snapshots to save them from your browser - just don't forget to note the parameters that generated them - you can find that out by looking at the logs... later in the manual we will see how to take notes properly to reproduce analyses (see [Bookmarking](#bookmarking))\n",
    "\n",
    "Every 'controller' in MuMoT keeps a log of everything it's been asked to do; we called our controller `vector1` when we created it, so it is easy to check what it has been up to... (WARNING: if you have been playing with the sliders a lot, there could be a lot in the logs! To only see the last few entries we set the `tail` argument to `True`; if `tail` is not set it will be assumed to be `False`)"
   ]
  },
  {
   "cell_type": "code",
   "execution_count": null,
   "metadata": {
    "collapsed": false
   },
   "outputs": [],
   "source": [
    "vector1.showLogs(tail = True)"
   ]
  },
  {
   "cell_type": "markdown",
   "metadata": {},
   "source": [
    "For papers and presentations we can produce somewhat prettier plots similar to figure 1 above, using `stream`. But before we do that, one unfortunate thing about our `vector1` controller is that there are just too many sliders. We might choose to describe all the rates (*a*bandonment, *r*ecruitment (via the waggle dance), and individual discovery and commitment (*g*)) in terms of the *v*alues of the nest sites... we can do this by using `substitute` again"
   ]
  },
  {
   "cell_type": "code",
   "execution_count": null,
   "metadata": {
    "collapsed": true
   },
   "outputs": [],
   "source": [
    "model3 = model2.substitute('a_A = 1/v_A, a_B = 1/v_B, g_A = v_A, g_B = v_B, r_A = v_A, r_B = v_B')"
   ]
  },
  {
   "cell_type": "markdown",
   "metadata": {},
   "source": [
    "Our new model is a little simpler, with just three rates, $v_A$, $v_B$ and $s$"
   ]
  },
  {
   "cell_type": "code",
   "execution_count": null,
   "metadata": {
    "collapsed": false
   },
   "outputs": [],
   "source": [
    "model3.show()"
   ]
  },
  {
   "cell_type": "markdown",
   "metadata": {},
   "source": [
    "Still, in decision-making what we really care about is how good options are on average, and their difference in value. Pais et al. (2013) thus defined option values in terms of deviation from the average value, so\n",
    "$$\\displaystyle v_A=\\mu+\\frac{\\Delta}{2}$$\n",
    "and\n",
    "$$\\displaystyle v_B=\\mu-\\frac{\\Delta}{2}$$"
   ]
  },
  {
   "cell_type": "code",
   "execution_count": null,
   "metadata": {
    "collapsed": false
   },
   "outputs": [],
   "source": [
    "model4 = model3.substitute('v_A = \\mu + \\Delta/2, v_B = \\mu - \\Delta/2')\n",
    "model4.showODEs()"
   ]
  },
  {
   "cell_type": "markdown",
   "metadata": {},
   "source": [
    "This model is much easier to interact with..."
   ]
  },
  {
   "cell_type": "code",
   "execution_count": null,
   "metadata": {
    "collapsed": false
   },
   "outputs": [],
   "source": [
    "stream1 = model4.stream('A','B', params=[ ('\\\\mu', 3) ], showFixedPoints = False)"
   ]
  },
  {
   "cell_type": "markdown",
   "metadata": {},
   "source": [
    "A `stream` plot is just like a `vector` plot, except now lines show the average change of the system over time in more detail, and their shading represents the speed of change, from slow (light grey) to fast (black)\n",
    "\n",
    "Note also that here we added a *keyword argument* `showFixedPoints = True` - this can also be applied to `vector` plots, and plots the stationary points of the equation. If the stationary point is *stable* (arrows converge on that point) then it is represented with a filled circle, and if it is *unstable* (arrows leave that point) then a hollow circle is shown. Displaying fixed points can slow down plots, so by default they are not shown, and you need to explicitly request they are included\n",
    "\n",
    "Analysis of fixed points is an important technique for understanding *dynamical systems* such as our model. But while exploring a model interactively by changing its parameters and seeing how it behaves can help develop intuition, really we need a more systematic approach. Fortunately we can do this via *bifurcation plots*, using the `bifurcation` command...\n",
    "\n",
    "`bifurcation` takes two arguments, the first is the parameter we want to vary systematically, the second is the state we want to observe"
   ]
  },
  {
   "cell_type": "code",
   "execution_count": null,
   "metadata": {
    "collapsed": false
   },
   "outputs": [],
   "source": [
    "bifurcation1 = model4.bifurcation('s','A-B', params=[ ('\\\\mu', 3)], showInitSV=False, choose_xrange=[0,5],\n",
    "                                 BifParInit=4.5)\n",
    "#move Delta slider to zero -> pitchfork bifurcation\n",
    "#then move Delta slider to 0.1 -> unfolding of pitchfork bifurcation"
   ]
  },
  {
   "cell_type": "markdown",
   "metadata": {},
   "source": [
    "Our new bifurcation plot lets us see what happens to fixed points in the system as we vary a control parameter, in this case the cross-inhibitory stop-signalling rate between bees, $s$. We have also chosen not to observe a single reactant as our state variable, but rather the difference between two of them; this makes sense because in decision-making we care about the difference in votes for options\n",
    "\n",
    "Our plot shows the location of fixed points, and they are either depicted as *stable* (solid line) or *unstable* (dashed line). Where the stability of fixed points changes, or fixed points appear of dissappear, these are referred to as *bifurcation points*. Using the interactive `bifurcation` plot above see if you can reproduce the bifurcation diagrams shown in figure 5(i) and 5(ii) of [Pais et al. (2013)](http://journals.plos.org/plosone/article?id=10.1371/journal.pone.0073216)\n",
    "\n",
    "Figure 5(iii) of [Pais et al. (2013)](http://journals.plos.org/plosone/article?id=10.1371/journal.pone.0073216) requires us to specify a different bifurcation parameter..."
   ]
  },
  {
   "cell_type": "code",
   "execution_count": null,
   "metadata": {
    "collapsed": false
   },
   "outputs": [],
   "source": [
    "bifurcation2 = model4.bifurcation('\\Delta','A-B',params=[ ('\\\\mu', 5), ('s', 5)], showInitSV=False, \n",
    "                                  choose_xrange=[-2, 2], BifParInit=2)"
   ]
  },
  {
   "cell_type": "markdown",
   "metadata": {},
   "source": [
    "## The effects of finite system size\n",
    "\n",
    "The ODE models we have been looking at based on our model are very useful, but they represent an idealised scenario; they describe the behaviour of a system with infinitely many components or, to put it another way, the expected behaviour of the system, minus any noise\n",
    "\n",
    "Noise is very important in collective behavour systems, however, and can have a variety of causes. The first cause we will consider is noisy fluctuations from the infinite population ideal, caused by having a much smaller, finite, population. To begin analysing the noise in our system, dependent on its size, we can deploy two main techniques; stochastic simulation, and statistical physics\n",
    "\n",
    "We will return to stochastic simulation later, concentrating first on statistical physics analysis. As you might imagine, the maths involved in a statistic physics analysis is very advanced, based on deriving and then analysing the *Master Equation*; fortunately MuMoT automates this analysis for you\n",
    "\n",
    "Brace yourself, this might look intimidating..."
   ]
  },
  {
   "cell_type": "markdown",
   "metadata": {},
   "source": [
    "### Introductory example: Production and decay of protein $P$ and its dimerization into $P_2$ (called $X$ and $Y$ below)\n",
    "- see F. Hayot & C. Jayaprakash (2004), Physical Biology 1, pp. 205-210 "
   ]
  },
  {
   "cell_type": "code",
   "execution_count": null,
   "metadata": {
    "collapsed": false
   },
   "outputs": [],
   "source": [
    "%%model\n",
    "$\n",
    "\\emptyset -> X : k_3\n",
    "X -> \\emptyset : k\n",
    "X + X -> Y + \\emptyset : k_1\n",
    "Y + \\emptyset -> X + X : k_2\n",
    "$"
   ]
  },
  {
   "cell_type": "code",
   "execution_count": null,
   "metadata": {
    "collapsed": true
   },
   "outputs": [],
   "source": [
    "model_PQ = mmt.parseModel(In[19])"
   ]
  },
  {
   "cell_type": "code",
   "execution_count": null,
   "metadata": {
    "collapsed": false
   },
   "outputs": [],
   "source": [
    "model_PQ.show()"
   ]
  },
  {
   "cell_type": "markdown",
   "metadata": {},
   "source": [
    "<font size=\"+1\" > <b>Note:</b> X and Y are reactants (compounds). The amount of each compound in a given volume is represented by an absolute number (integer)</font>\n",
    "\n",
    "<br>\n",
    "\n",
    "<font size=\"+1\"> Let's display the ODEs ... </font>"
   ]
  },
  {
   "cell_type": "code",
   "execution_count": null,
   "metadata": {
    "collapsed": false
   },
   "outputs": [],
   "source": [
    "model_PQ.showODEs()"
   ]
  },
  {
   "cell_type": "markdown",
   "metadata": {},
   "source": [
    "<font size=\"+1\" >What do X and Y represent in the ODEs?<br>  \n",
    "Are these absolute numbers? If so, shouldn't $X^2$ be replaced by $X(X-1)$, for example?</font>\n",
    "\n",
    "<br>\n",
    "\n",
    "<font size=\"+1\" > We need a principled way to derive the ODEs to answer that question:</font>\n",
    "\n",
    "\n",
    "## The chemical Master equation\n",
    "\n",
    "Master equations describe the time evolution of a system that, in general, can be in one of many different possible states at a given point in time with a certain probability. Over time, the system makes transitions so that the overall state changes continuously. Transitions are governed by transition probabilities that are usually summarised in a transition matrix. The Master equation is a set of first-order differential equations that describe the evolution of the state dependent probabilities driven by the transition matrix.\n",
    "\n",
    "The <b>chemical Master equation</b> is a master equation for the probabilities that the system has any given composition of rectants as a function of time."
   ]
  },
  {
   "cell_type": "code",
   "execution_count": null,
   "metadata": {
    "collapsed": false
   },
   "outputs": [],
   "source": [
    "model_PQ.showMasterEquation()"
   ]
  },
  {
   "cell_type": "markdown",
   "metadata": {},
   "source": [
    "- see N. van Kampen (1981), Stochastic processes in physics and chemistry & F. Hayot & C. Jayaprakash (2004), Physical Biology 1, pp. 205-210"
   ]
  },
  {
   "cell_type": "markdown",
   "metadata": {},
   "source": [
    "<font size=\"+1\" > Here we used step operators $E_{op}$ to express the chemical Master equation in a compact form.<br>\n",
    "\n",
    "There is only a limited number of simple cases that allow to solve the Master equation exactly. Analytical approximations may help.\n",
    "</font>"
   ]
  },
  {
   "cell_type": "markdown",
   "metadata": {},
   "source": [
    "## Linear noise approximation via system size expansion of the Master equation\n",
    "\n",
    "<br>\n",
    "\n",
    "<font size=\"+1\" ><b>Idea:</b> Expand the Master equation in powers of a small parameter </font>\n",
    "\n",
    "<br>\n",
    "$$\\sim \\frac{1}{\\sqrt{system\\, size}}$$\n",
    "<br>\n",
    "\n",
    "<font size=\"+1\" >Let's do the expansion with MuMoT and display it for the current model (V = system size) ... </font>"
   ]
  },
  {
   "cell_type": "code",
   "execution_count": null,
   "metadata": {
    "collapsed": false
   },
   "outputs": [],
   "source": [
    "model_PQ.showVanKampenExpansion()"
   ]
  },
  {
   "cell_type": "markdown",
   "metadata": {},
   "source": [
    "<font size=\"+1\" >... which are usually rather lengthy expressions. Collecting all terms $\\propto \\sqrt{V}$ gives ... </font>"
   ]
  },
  {
   "cell_type": "code",
   "execution_count": null,
   "metadata": {
    "collapsed": false
   },
   "outputs": [],
   "source": [
    "model_PQ.showODEs_vKE()"
   ]
  },
  {
   "cell_type": "markdown",
   "metadata": {},
   "source": [
    "<font size=\"+1\" >... which are the ODEs! Here $\\Phi_j$ represents the concentration of reactant $j$ in the mixture. Hence, the quantities in the ODEs are concentrations or densities!</font>"
   ]
  },
  {
   "cell_type": "markdown",
   "metadata": {},
   "source": [
    "<font size=\"+1\" >If we collect all terms $\\propto V^0$ we obtain ...</font>"
   ]
  },
  {
   "cell_type": "code",
   "execution_count": null,
   "metadata": {
    "collapsed": false
   },
   "outputs": [],
   "source": [
    "model_PQ.showFokkerPlanckEquation()"
   ]
  },
  {
   "cell_type": "markdown",
   "metadata": {},
   "source": [
    "<font size=\"+1\" >... where $\\eta_X$ and $\\eta_Y$ represent the noise in the system. <b>This is a linear Fokker-Planck equation whose coefficients depend on time through the concentrations $\\Phi_X$ and $\\Phi_Y$.</b></font>\n",
    "\n",
    "<br>\n",
    "<font size=\"+1\" >Now we can study deterministic dynamics through the ODEs and fluctuations by means of the Fokker-Planck equation. <b>Remember:</b> ODE dynamics <b>do not</b> depend on the system size but the strength of the effect of fluctuations <b> does</b>.</font>\n",
    "\n",
    "<br>\n",
    "<font size=\"+1\" >MuMoT can find the differential equations for first and second order moments:</font>"
   ]
  },
  {
   "cell_type": "code",
   "execution_count": null,
   "metadata": {
    "collapsed": false
   },
   "outputs": [],
   "source": [
    "model_PQ.showNoiseEOM()"
   ]
  },
  {
   "cell_type": "markdown",
   "metadata": {},
   "source": [
    "<font size=\"+1\" >... it tries to calculate the stationary solutions analytically.</font>"
   ]
  },
  {
   "cell_type": "code",
   "execution_count": null,
   "metadata": {
    "collapsed": false
   },
   "outputs": [],
   "source": [
    "model_PQ.showNoiseStationarySol()"
   ]
  },
  {
   "cell_type": "markdown",
   "metadata": {},
   "source": [
    "<font size=\"+1\" >After MuMoT threw so many formulas at you, it's good news that noise can be investigated graphically with MuMoT, too:</font>"
   ]
  },
  {
   "cell_type": "code",
   "execution_count": null,
   "metadata": {
    "collapsed": false
   },
   "outputs": [],
   "source": [
    "Ncorr_PQ = model_PQ.numSimNoiseCorrelations(initCondsSV = {'X': 0.2, 'Y': 0.3}, params=[('k', 1)],\n",
    "                                         tend=100, tstep=0.02, tendNoise=20, \n",
    "                                         legend_loc='upper right', legend_fontsize=18)"
   ]
  },
  {
   "cell_type": "markdown",
   "metadata": {},
   "source": [
    "<font size=\"+1\" >... in addition, the effect of noise can be studied together with the fixed points of the ODE system:</font>"
   ]
  },
  {
   "cell_type": "code",
   "execution_count": null,
   "metadata": {
    "collapsed": false
   },
   "outputs": [],
   "source": [
    "stream_PQ = model_PQ.stream('X', 'Y', params=[('k', 1)], showFixedPoints=True, showNoise = True)"
   ]
  },
  {
   "cell_type": "markdown",
   "metadata": {},
   "source": [
    "<font size=\"+1\" >However, if you are only interested in having a quick look at the deterministic dynamics, that is easily done using:</font>"
   ]
  },
  {
   "cell_type": "code",
   "execution_count": null,
   "metadata": {
    "collapsed": false
   },
   "outputs": [],
   "source": [
    "evol_PQ = model_PQ.numSimStateVar(['X', 'Y'], params=[('k', 1)], \n",
    "                                  initCondsSV = {'X': 0.3}, tend=50, tstep=0.05, \n",
    "                              legend_loc='lower right', plotProportion=True)"
   ]
  },
  {
   "cell_type": "markdown",
   "metadata": {},
   "source": [
    "## Another example: Population control of <em>E. coli</em> cells\n",
    "\n",
    "- see You et al. (2004), Nature 428, pp. 868-871\n",
    "\n",
    "<br>\n",
    "<font size=\"+1\" ><b>Reactants in the model</b>:</font>\n",
    "\n",
    "- <font size=\"+1\" >N   ...   <em>E. coli</em> cells the growth of which is under control</font>\n",
    "- <font size=\"+1\" >E   ...   killer protein that induces cell death</font>\n",
    "- <font size=\"+1\" >A   ...   AHL (acyl-homoserine lactone), activates the production of E</font>"
   ]
  },
  {
   "cell_type": "markdown",
   "metadata": {},
   "source": [
    "<font size=\"+1\" >In the paper by You et al. the system of differential equations is proposed, not derived. To study the system with MuMoT we need to do some reverse-engineering to find the chemical reactions that produce the ODEs in their paper!</font>"
   ]
  },
  {
   "cell_type": "code",
   "execution_count": null,
   "metadata": {
    "collapsed": false
   },
   "outputs": [],
   "source": [
    "%%model\n",
    "$\n",
    "A -> E : k_E\n",
    "\\emptyset + X -> X + X : k\n",
    "\\emptyset + X -> X + X : v_A\n",
    "X + X -> X + \\emptyset : k_m\n",
    "E -> \\emptyset : d_E\n",
    "X -> A : v_A\n",
    "A -> \\emptyset : d_A\n",
    "E + X -> E + \\emptyset : d_N\n",
    "A + \\emptyset -> A + A : k_E\n",
    "$"
   ]
  },
  {
   "cell_type": "code",
   "execution_count": null,
   "metadata": {
    "collapsed": true
   },
   "outputs": [],
   "source": [
    "model_Ecoli = mmt.parseModel(In[32])"
   ]
  },
  {
   "cell_type": "code",
   "execution_count": null,
   "metadata": {
    "collapsed": false
   },
   "outputs": [],
   "source": [
    "model_Ecoli.showODEs_vKE()"
   ]
  },
  {
   "cell_type": "markdown",
   "metadata": {},
   "source": [
    "<font size=\"+1\" >... these are exactly the equations in the You et al. paper!</font>\n",
    "\n",
    "<br>\n",
    "<font size=\"+1\" >Let's integrate the ODEs:</font>"
   ]
  },
  {
   "cell_type": "code",
   "execution_count": null,
   "metadata": {
    "collapsed": false
   },
   "outputs": [],
   "source": [
    "evol_Ecoli = model_Ecoli.numSimStateVar(['A', 'E', 'X'], initCondsSV = {'A': 0.2, 'E': 0.3, 'X': 0.5},\n",
    "                              tend=50, tstep=0.05, legend_loc='center right', plotProportion=False)"
   ]
  },
  {
   "cell_type": "markdown",
   "metadata": {},
   "source": [
    "<font size=\"+1\" >... and plot the noise-noise correlations:</font>"
   ]
  },
  {
   "cell_type": "code",
   "execution_count": null,
   "metadata": {
    "collapsed": false
   },
   "outputs": [],
   "source": [
    "Ncorr_Ecoli = model_Ecoli.numSimNoiseCorrelations(tend=100, tstep=0.02, tendNoise=20,\n",
    "                                         initCondsSV = {'A': 0.2, 'E': 0.3, 'X': 0.5},\n",
    "                                         legend_loc='upper right', legend_fontsize=16)"
   ]
  },
  {
   "cell_type": "markdown",
   "metadata": {},
   "source": [
    "## Computational approaches\n",
    "\n",
    "The computational approximation is achieved through the efficient and accurate *Stochastic Simulation Algorithm* (SSA) (or *Doob-Gillespie algorithm*) [(Gillespie, 1976)](#references). Alternatively, MuMot gives access to the SSA simulator to simply visualise the behaviour of the system over time.\n",
    "\n",
    "To run the SSA simulations on your model, you can use the command `SSA()`. This command allow you to run a single simulation run, you can specify several advanced parameters from the _\"Advanced options\"_ tab. In particular, you can customise the following parameters:\n",
    "* proportion of each reactant at timestep zero. Remember that the sum of all (non-constant) reactants must be 1.0 (type: float in range [0,1])\n",
    "* simulation time is the length of each simulation run (type: float larger than 0)\n",
    "* random seed which is a number to control (and repeat) random stochastic effects. Any run that uses the same random seed will have tha same identical random fluctuations (type: int in range [0, MAX_RANDOM_SEED])\n",
    "* flag to plot proportions (i.e. reactants are in range [0,1]) or full populations (i.e. reactants are in range [0,systemSize])(type: boolean)\n",
    "* flag to plot results in realtime. If True, the plot is updated each timestep of the simulation; if False, the plot is updated once at the end of the simulation (type: boolean)\n",
    "* number of simulation runs to be executed (type: int larger than 0)\n",
    "* flag to aggregate or not the results from several runs\n",
    "* type of visualisation. Which can be:\n",
    "  * Temporal evolution with y-axis showing the population size of each reactant varying as a function of the time on the x-axis. When aggregated, the results are visualised as boxplots. \n",
    "  * Final distribution of the population among the reactants. In this visualisation, the use can specify the reactants on x and y axes.  When aggregated, the results are visualised as an ellipse estimated as the covariance matrix\n",
    "  * Barplot showing the final distribution. When aggregated, the barplots show the average and the error bars the standard deviation; otherwise the results of the last simulation run are displayed\n",
    "\n",
    "(Note that modifying the widgets: type of visualisation, flag to plot proportions, and flag to aggregate does not trigger the computation of new data. All other widgets do.)\n",
    "\n",
    "Try to modify the parameters and see how they change your results."
   ]
  },
  {
   "cell_type": "code",
   "execution_count": null,
   "metadata": {
    "collapsed": false
   },
   "outputs": [],
   "source": [
    "ssa = model4.SSA(initWidgets={'initialState': {'U': [1,0,1,0.05], 'B': [0,0,1,0.05], 'A': [0,0,1,0.05]},\n",
    "                              'systemSize':[50,5,100,1] })"
   ]
  },
  {
   "cell_type": "markdown",
   "metadata": {},
   "source": [
    "## Spatial noise"
   ]
  },
  {
   "cell_type": "markdown",
   "metadata": {},
   "source": [
    "MuMoT gives also access to more sophysticated stochastic simulations of your model. Through the command `multiagent()` you can run simulations either with static agents interacting over a static communication network or mobile agents communicating to neighbours within a local range of communication.\n",
    "\n",
    "Each agent represent a reactant, it exchanges messages to interact with other agents and changes its internal state through a probabilistic finite state machine. The conversion of transition rates into the probabilities is done following the methodology proposed in:\n",
    "\n",
    "* Reina A., Valentini G., Fernández-Oto A., Dorigo M. & Trianni V. (2015) [A design pattern for decentralised decision making](http://journals.plos.org/plosone/article?id=10.1371/journal.pone.0140950).  *PLoS one* **10**(10), e0140950\n",
    "\n",
    "The multiagent simulations have several _Advanced options_. They have all the options described above for the SSA simulations and, in addition, you can also modify and select:\n",
    "* type of network. Available types are:\n",
    "  * Full graph is a complete network in which every agent communicates with every agent\n",
    "  * Random network with topology Erdos-Renyi. The widgets allow to specify:\n",
    "    * the linking probability with which each agent has a communication edge with another agent\n",
    "  * Random network with topology Barabasi-Albert. The widgets allow to specify:\n",
    "    * the number of edges every new node (during creation) is linked to\n",
    "  * Simulation of moving particles in which agent move in a periodic space and interact locally. The widgets allow to specify:\n",
    "    * range of interaction of the agent\n",
    "    * motion correlatedness of the agent. Correlatedness equal 1 correponds to straight movement, Correlatedness equal 0 corresponds to uncorrelated random walk.\n",
    "    * speed of the agent, i.e. displacement in one timestep (type: float in [0,1])\n",
    "    * flag to show the motion trajectory of the agents\n",
    "    * flag to show interactions, agent within communication range are liked through a line\n",
    "* length of one timestep, the maximum size is determined by the rates (type: float > 0)\n",
    "\n",
    "(Note that in addition to the one specified for the SSA simulations, here the widgets to show motion trajectory and to show interactions do not trigger the recomputation of the simulations)\n",
    "Static network are available only for models that do not contains the empty-set or constant reactant, instead moving particles have no constraints; see [Supported features](#features).\n",
    "\n",
    "Try to modify the parameters and see how they change your results."
   ]
  },
  {
   "cell_type": "code",
   "execution_count": null,
   "metadata": {
    "collapsed": false
   },
   "outputs": [],
   "source": [
    "ssa = model4.multiagent(initWidgets={'initialState': {'U': [1,0,1,0.05], 'B': [0,0,1,0.05], 'A': [0,0,1,0.05]},\n",
    "                              'systemSize':[20,5,100,1], 'visualisationType':'graph' })"
   ]
  },
  {
   "cell_type": "markdown",
   "metadata": {},
   "source": [
    "## Bookmarking\n",
    "<a id='bookmarking'></a>\n",
    "\n",
    "If you find an interesting parameter set and want to preserve it, you can store those parameter values in a form that lets you reproduce your analysis. Simply click on the bookmark button underneath the sliders; you should see a message that a bookmark has been pasted to the logs, and instructions how to view it. Let's follow these instructions from our latest plot... click the bookmark button, then run the following command:"
   ]
  },
  {
   "cell_type": "code",
   "execution_count": null,
   "metadata": {
    "collapsed": false
   },
   "outputs": [],
   "source": [
    "stream1.showLogs(tail = True)"
   ]
  },
  {
   "cell_type": "markdown",
   "metadata": {},
   "source": [
    "Now we need simply copy the last line of the log file, paste into a new cell, and replace `<modelName>` with the model we are working with, in this case `model5`; this is easily done by clicking in the cell then using *Find and Replace* from the *Edit* menu. We will also give our new bookmarked view a unique name, so we can refer to it if we need to in the future..."
   ]
  },
  {
   "cell_type": "code",
   "execution_count": null,
   "metadata": {
    "collapsed": false
   },
   "outputs": [],
   "source": [
    "bookmark1 = model2.stream('A', 'B', params = [('\\\\Delta', 0.5), ('s', 0.5), ('\\\\mu', 3), ('plotLimits', 1), \n",
    "                                              ('systemSize', 1)], showFixedPoints = False, bookmark = False)"
   ]
  },
  {
   "cell_type": "markdown",
   "metadata": {},
   "source": [
    "## Supported features\n",
    "<a id='features'></a>\n",
    "<table>\n",
    "  <tr>\n",
    "    <th>Command</th>\n",
    "    <th>1d-system</th> \n",
    "    <th>2d-system</th> \n",
    "    <th>3d-system</th>\n",
    "    <th>empty-set</th>\n",
    "    <th>constant reactants</th>\n",
    "  </tr>\n",
    "  <tr>\n",
    "    <td><code>stream</code></td>\n",
    "    <td>&#10003;</td> \n",
    "    <td>&#10003;</td> \n",
    "    <td>&#10005;</td>\n",
    "    <td>&#10003;</td>\n",
    "    <td>&#10003;</td>\n",
    "  </tr>\n",
    "  <tr>\n",
    "    <td><code>vector</code></td>\n",
    "    <td>&#10003;</td> \n",
    "    <td>&#10003;</td> \n",
    "    <td>&#10003;</td>\n",
    "    <td>&#10003;</td>\n",
    "    <td>&#10003;</td>\n",
    "  </tr>\n",
    "  <tr>\n",
    "    <td><code>SSA</code></td>\n",
    "    <td>&#10003;</td> \n",
    "    <td>&#10003;</td> \n",
    "    <td>&#10003;</td>\n",
    "    <td>&#10003;</td>\n",
    "    <td>&#10003;</td>\n",
    "  </tr>\n",
    "  <tr>\n",
    "    <td><code>multiagent (static network)</code></td>\n",
    "    <td>&#10003;</td> \n",
    "    <td>&#10003;</td> \n",
    "    <td>&#10003;</td>\n",
    "    <td>&#10005;</td>\n",
    "    <td>&#10005;</td>\n",
    "  </tr>\n",
    "  <tr>\n",
    "    <td><code>multiagent (moving particles)</code></td>\n",
    "    <td>&#10003;</td> \n",
    "    <td>&#10003;</td> \n",
    "    <td>&#10003;</td>\n",
    "    <td>&#10003;</td>\n",
    "    <td>&#10003;</td>\n",
    "  </tr>\n",
    "  <tr>\n",
    "    <td><code>stream (showNoise mathematically)</code></td>\n",
    "    <td>&#10003;</td> \n",
    "    <td>&#10005;</td> \n",
    "    <td>&#10005;</td>\n",
    "    <td>&#10005;</td>\n",
    "    <td>&#10005;</td>\n",
    "  </tr>\n",
    "  <tr>\n",
    "    <td><code>stream (showNoise computationally with SSA)</code></td>\n",
    "    <td>&#10005;</td> \n",
    "    <td>&#10003;</td> \n",
    "    <td>&#10003;</td>\n",
    "    <td>&#10003;</td>\n",
    "    <td>&#10003;</td>\n",
    "  </tr>\n",
    "</table>"
   ]
  },
  {
   "cell_type": "markdown",
   "metadata": {},
   "source": [
    "## Command reference\n",
    "<a id='comreference'></a>\n",
    "Arguments in angle brackets are optional\n",
    "\n",
    "Optional keywords are given with the default value they will have if not supplied\n",
    "\n",
    "* `stream(stateVariable1, stateVariable2)`\n",
    "\n",
    "    Display interactive stream plot of `stateVariable1` (x-axis) and `stateVariable2` (y-axis)\n",
    "\n",
    "    *Keywords:* `showFixedPoints = False`, `showNoise = False`\n",
    "* `vector(stateVariable1, stateVariable2, <stateVariable3>)`\n",
    "\n",
    "    Display interactive vector plot of `stateVariable1` (x-axis) and `stateVariable2` (y-axis), and optionally `stateVariable3` (z-axis)\n",
    "\n",
    "    *Keywords:* `showFixedPoints = False`, `showNoise = False`"
   ]
  },
  {
   "cell_type": "markdown",
   "metadata": {},
   "source": [
    "## References\n",
    "<a id='references'></a>\n",
    "* Gillespie, D. T. (1976). A general method for numerically simulating the stochastic time evolution of coupled chemical reactions. *Journal of Computational Physics* **22** (4): 403–434\n",
    "* van Kampen, N. (2007) *Stochastic Processes in Physics and Chemistry (Third Edition)*. North-Holland\n",
    "* Murray, J. D. (2002) *Mathematical Biology I. An Introduction (Second Edition)*. Springer"
   ]
  }
 ],
 "metadata": {
  "kernelspec": {
   "display_name": "Python 3",
   "language": "python",
   "name": "python3"
  },
  "language_info": {
   "codemirror_mode": {
    "name": "ipython",
    "version": 3
   },
   "file_extension": ".py",
   "mimetype": "text/x-python",
   "name": "python",
   "nbconvert_exporter": "python",
   "pygments_lexer": "ipython3",
   "version": "3.5.1"
  },
  "widgets": {
   "state": {
    "0f1da6289ccc47ec96c8c8b477f3e37e": {
     "views": [
      {
       "cell_index": 60
      }
     ]
    },
    "12dff49951bf4f4aa6afd2437d2733ea": {
     "views": [
      {
       "cell_index": 38
      }
     ]
    },
    "143c3aa5b3a94602abcb99f5d3682b42": {
     "views": [
      {
       "cell_index": 23
      }
     ]
    },
    "15f8da4f248e41fdbb86e469bbf0a423": {
     "views": [
      {
       "cell_index": 51
      }
     ]
    },
    "22efce659af24047800463f2c6d460ee": {
     "views": [
      {
       "cell_index": 23
      }
     ]
    },
    "2305e4265a234613af7ec1488c3a84a0": {
     "views": [
      {
       "cell_index": 51
      }
     ]
    },
    "25eaa6a79b394d96bf6b016a8f5789a0": {
     "views": [
      {
       "cell_index": 33
      }
     ]
    },
    "25f7cb6ad4594dbb9c3dfaeeeebd2baa": {
     "views": [
      {
       "cell_index": 33
      }
     ]
    },
    "2a889abb13a441a6b0b1bb07b06aae14": {
     "views": [
      {
       "cell_index": 60
      }
     ]
    },
    "2db99fe905e1430a9e0fc3f80e61824d": {
     "views": [
      {
       "cell_index": 33
      }
     ]
    },
    "31ffe852616040109a3b4f88a6815b8a": {
     "views": [
      {
       "cell_index": 36
      }
     ]
    },
    "3e3b2977642f48e99ceeef154551af71": {
     "views": [
      {
       "cell_index": 60
      }
     ]
    },
    "4ba771e07fdb44c49a07b94aafee0c1d": {
     "views": [
      {
       "cell_index": 38
      }
     ]
    },
    "4d722defa6f54a03956ef26e5bb24d75": {
     "views": [
      {
       "cell_index": 38
      }
     ]
    },
    "4e4fb5a6665b4e89acf172973b5f9b27": {
     "views": [
      {
       "cell_index": 23
      }
     ]
    },
    "50ab0a9b7d4d47d2bef8033efa6b6661": {
     "views": [
      {
       "cell_index": 38
      }
     ]
    },
    "53a25e884ed74eaab9813cb4e3413c2f": {
     "views": [
      {
       "cell_index": 38
      }
     ]
    },
    "56f18bd9baa1474fac1d692af347424f": {
     "views": [
      {
       "cell_index": 51
      }
     ]
    },
    "5f4fd39c4f5047db8441d0b30df86a38": {
     "views": [
      {
       "cell_index": 38
      }
     ]
    },
    "68117c20182148de957ae1a311729bc2": {
     "views": [
      {
       "cell_index": 23
      }
     ]
    },
    "6b9e63ee22924ae3b6731d530ba6b549": {
     "views": [
      {
       "cell_index": 36
      }
     ]
    },
    "7050fe3f432e4180b329a3c92ed09551": {
     "views": [
      {
       "cell_index": 51
      }
     ]
    },
    "7713dfc8cf164108b44b49d477f3e154": {
     "views": [
      {
       "cell_index": 51
      }
     ]
    },
    "79f7fdc5299e4b1bb75d32bb0e87d7a3": {
     "views": [
      {
       "cell_index": 23
      }
     ]
    },
    "7b957930c9924cb3b1cca132418e2f00": {
     "views": [
      {
       "cell_index": 51
      }
     ]
    },
    "8b82dea0b0744375b10edd290ea509d3": {
     "views": [
      {
       "cell_index": 36
      }
     ]
    },
    "8d07f6b41a444b49b12d7f8e5918ca6a": {
     "views": [
      {
       "cell_index": 23
      }
     ]
    },
    "8ef0ad62478b43129d8cd652add052c7": {
     "views": [
      {
       "cell_index": 23
      }
     ]
    },
    "9560997a50274839a7117e95b073afba": {
     "views": [
      {
       "cell_index": 36
      }
     ]
    },
    "96b329f0ab1d47338ac6d63da570c275": {
     "views": [
      {
       "cell_index": 36
      }
     ]
    },
    "9adb34f1a17041719156750646d42cfb": {
     "views": [
      {
       "cell_index": 51
      }
     ]
    },
    "9e7afa9d8d1b478a83a0955428961503": {
     "views": [
      {
       "cell_index": 23
      }
     ]
    },
    "a408184986ae423dbde56361209f036a": {
     "views": [
      {
       "cell_index": 33
      }
     ]
    },
    "a7ca5685289644b8aa449ce9377e6a5c": {
     "views": [
      {
       "cell_index": 23
      }
     ]
    },
    "a7dbac4a99a04c4e931b4cc6c9beda28": {
     "views": [
      {
       "cell_index": 51
      }
     ]
    },
    "a874f3c5de9548deab1f15d01e0a35aa": {
     "views": [
      {
       "cell_index": 60
      }
     ]
    },
    "ab5a6f55976e4b99847157fde376160d": {
     "views": [
      {
       "cell_index": 38
      }
     ]
    },
    "ad3aa76f7e874016acdd53204362e367": {
     "views": [
      {
       "cell_index": 51
      }
     ]
    },
    "b64577ba4bc14887b39249c7599693e2": {
     "views": [
      {
       "cell_index": 33
      }
     ]
    },
    "b6818d31691542d2b4fc017e2aad1400": {
     "views": [
      {
       "cell_index": 23
      }
     ]
    },
    "c6e9aa6f9e6b4bbf9e994e85216e6cbf": {
     "views": [
      {
       "cell_index": 33
      }
     ]
    },
    "caac276fb0844d3b939ae00b7ae0ab95": {
     "views": [
      {
       "cell_index": 23
      }
     ]
    },
    "d8aaa2637f8b4586b243e7d1e265614a": {
     "views": [
      {
       "cell_index": 51
      }
     ]
    },
    "e77472d2a0524ea0b75dcee2471685e4": {
     "views": [
      {
       "cell_index": 60
      }
     ]
    },
    "f2876ad0e37e4b748ff80f9cc3791542": {
     "views": [
      {
       "cell_index": 23
      }
     ]
    },
    "f73cd695eb284175a7c65821b942925c": {
     "views": [
      {
       "cell_index": 23
      }
     ]
    },
    "f8319629082441e98a925c1d162f75c5": {
     "views": [
      {
       "cell_index": 60
      }
     ]
    },
    "f8f9d7c2ae4d4262b564c5f434f7f2d0": {
     "views": [
      {
       "cell_index": 33
      }
     ]
    },
    "fd6fcf6218cc4d3bb180fbb1264c115d": {
     "views": [
      {
       "cell_index": 36
      }
     ]
    }
   },
   "version": "1.2.0"
  }
 },
 "nbformat": 4,
 "nbformat_minor": 2
}
